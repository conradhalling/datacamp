{
 "cells": [
  {
   "cell_type": "markdown",
   "id": "01ef2653-e9cf-4f6b-9754-e66e72f8863b",
   "metadata": {},
   "source": [
    "# Principal Component Analysis of Breast Cancer Dataset\n",
    "\n",
    "## Introduction\n",
    "\n",
    "This notebook is my version of the code in https://www.datacamp.com/tutorial/principal-component-analysis-in-python, written by Aditya Sharma, December 2019.\n",
    "\n",
    "I have renamed some variables.\n",
    "\n",
    "## Resource\n",
    "\n",
    "- [scikit-learn principal component analysis](https://scikit-learn.org/stable/modules/decomposition.html#decompositions)\n",
    "\n",
    "## Analysis"
   ]
  },
  {
   "cell_type": "markdown",
   "id": "51921d0f-990d-414c-9de2-cf22901d45f8",
   "metadata": {},
   "source": [
    "### Prepare the Data"
   ]
  },
  {
   "cell_type": "code",
   "execution_count": null,
   "id": "30372b80-ceff-43b7-8d6b-eff072adb745",
   "metadata": {
    "tags": []
   },
   "outputs": [],
   "source": [
    "import matplotlib.pyplot as plt\n",
    "import numpy as np\n",
    "import pandas as pd\n",
    "import sklearn.datasets\n",
    "import sklearn.decomposition\n",
    "import sklearn.preprocessing\n",
    "\n",
    "# Load the data and labels.\n",
    "breast = sklearn.datasets.load_breast_cancer()\n",
    "breast_data = breast.data\n",
    "print(breast_data.shape)\n",
    "breast_labels = breast.target\n",
    "print(breast_labels)\n",
    "print(breast_labels.shape)\n",
    "\n",
    "# Reshape breast_labels to concatenate it with breast_data before creating\n",
    "# a DataFrame that will have both the data and the labels.\n",
    "labels = np.reshape(breast_labels, (569, 1))\n",
    "# Concatenate the data and labels along the second axis to create a numpy\n",
    "# ndarray with shape (569, 31).\n",
    "final_breast_data = np.concatenate([breast_data, labels], axis=1)\n",
    "print(final_breast_data.shape)\n",
    "\n",
    "breast_df = pd.DataFrame(final_breast_data)\n",
    "\n",
    "# Create DataFrame column labels from breast.feature_names.\n",
    "# Since there are 30 features, we need a column label for the\n",
    "# labels column in final_breast_data.\n",
    "features = breast.feature_names\n",
    "print(features)\n",
    "features_labels = np.append(features, \"label\")\n",
    "breast_df.columns = features_labels\n",
    "\n",
    "# The original labels are in 0, 1 format, meaning \"benign\"/\"malignant\". Fix\n",
    "# the values in the labels column.\n",
    "breast_df[\"label\"].replace(0, \"Benign\", inplace=True)\n",
    "breast_df[\"label\"].replace(1, \"Malignant\", inplace=True)\n",
    "breast_df.tail()"
   ]
  },
  {
   "cell_type": "markdown",
   "id": "52106bbf-8907-4dbb-9862-e80eed4c0bac",
   "metadata": {},
   "source": [
    "Skip loading the CIFAR-10 images from keras for now."
   ]
  },
  {
   "cell_type": "markdown",
   "id": "1ffc4a5c-0b83-47c3-bc14-5e3aeddf8359",
   "metadata": {},
   "source": [
    "### Standardize the Data\n",
    "Standardization rescales a dataset to have a mean of 0 and a standard deviation of 1.\n",
    "Normalization rescales a dataset so that each value falls between 0 and 1.\n",
    "See https://www.statology.org/standardization-vs-normalization/.\n",
    "\n",
    "After standardizing the data, it would be informative to do some EDA to look\n",
    "at the distribution of each feature before and after scaling."
   ]
  },
  {
   "cell_type": "code",
   "execution_count": null,
   "id": "0f761a81-c01e-4acb-85d6-1f65f57850db",
   "metadata": {
    "tags": []
   },
   "outputs": [],
   "source": [
    "# Here x contains the original data, and y contains the standardized data.\n",
    "x = breast_df.loc[:, features].values\n",
    "print(x.shape)\n",
    "print(x)\n",
    "print()\n",
    "y = sklearn.preprocessing.StandardScaler().fit_transform(x)\n",
    "print(y.shape)\n",
    "print(y)\n",
    "print()\n",
    "# Print the means and standard deviations of all values.\n",
    "# It would make more sense to do this column by column.\n",
    "print(np.mean(x), np.std(x))\n",
    "print(np.mean(y), np.std(y))"
   ]
  },
  {
   "cell_type": "code",
   "execution_count": null,
   "id": "a5ebdbff-27fe-44fe-9ecd-13fafe9f68c5",
   "metadata": {
    "tags": []
   },
   "outputs": [],
   "source": [
    "# The tutorial keeps referring to the \"normalized\" data when it's actually\n",
    "# standardized data.\n",
    "# Create new column labels for the features.\n",
    "feat_cols = [\"feature\" + str(i) for i in range(y.shape[1])]\n",
    "standardized_breast_df = pd.DataFrame(y, columns=feat_cols)\n",
    "standardized_breast_df.tail()"
   ]
  },
  {
   "cell_type": "markdown",
   "id": "9432692a-fa99-45a6-bb35-cad98c4409a7",
   "metadata": {},
   "source": [
    "### Perform Principle Component Analysis"
   ]
  },
  {
   "cell_type": "code",
   "execution_count": null,
   "id": "0a4eaf86-1250-4c86-8902-620215cd061e",
   "metadata": {
    "tags": []
   },
   "outputs": [],
   "source": [
    "# It's time to use Principal Component Analysis.\n",
    "pca_breast = sklearn.decomposition.PCA(n_components=2)\n",
    "breast_pca = pca_breast.fit_transform(y)\n",
    "\n",
    "# Create a DataFrame that will have the principal component values for all\n",
    "# 569 samples.\n",
    "breast_pca_df = \\\n",
    "    pd.DataFrame(\n",
    "        data = breast_pca,\n",
    "        columns = [\n",
    "            \"principal component 1\",\n",
    "            \"principal component 2\",\n",
    "        ],\n",
    "    )\n",
    "breast_pca_df.tail()"
   ]
  },
  {
   "cell_type": "markdown",
   "id": "1610caf7-7204-4a6e-895d-31d25ed1601d",
   "metadata": {},
   "source": [
    "Find the explained_variance_ratio. It will provide you with the amount of information or variance each principal component holds after projecting the data to a lower dimensional subspace.\n",
    "\n",
    "When I used three components, the third component contains 9.39% of the information."
   ]
  },
  {
   "cell_type": "code",
   "execution_count": null,
   "id": "5a575713-3d91-4b85-8086-866c1e8102bd",
   "metadata": {
    "tags": []
   },
   "outputs": [],
   "source": [
    "print('Explained variation per principal component: {}'.format(pca_breast.explained_variance_ratio_))"
   ]
  },
  {
   "cell_type": "markdown",
   "id": "939c358d-5dd9-47f1-8b05-75a52160eb77",
   "metadata": {},
   "source": [
    "Plot the visualization of the 569 samples along the principal component - 1 and principal component - 2 axis. It should give you good insight into how your samples are distributed among the two classes.\n",
    "\n",
    "From the plot, you can observe that the two classes `Benign` and `Malignant`, when projected to a two-dimensional space, can be linearly separable up to some extent. Other observations can be that the `Benign` class is spread out as compared to the `Malignant` class."
   ]
  },
  {
   "cell_type": "markdown",
   "id": "5e934369-4cea-46a0-8efb-9c656b731bfa",
   "metadata": {},
   "source": [
    "### Plot the Results"
   ]
  },
  {
   "cell_type": "code",
   "execution_count": null,
   "id": "17e9219e-0a19-421d-9ae7-ebef0f54128a",
   "metadata": {
    "tags": []
   },
   "outputs": [],
   "source": [
    "plt.figure()\n",
    "plt.figure(figsize=(10,10))\n",
    "plt.xticks(fontsize=12)\n",
    "plt.yticks(fontsize=14)\n",
    "plt.xlabel('Principal Component - 1',fontsize=20)\n",
    "plt.ylabel('Principal Component - 2',fontsize=20)\n",
    "plt.title(\"Principal Component Analysis of Breast Cancer Dataset\", fontsize=20)\n",
    "targets = ['Benign', 'Malignant']\n",
    "colors = ['r', 'g']\n",
    "for target, color in zip(targets,colors):\n",
    "    indicesToKeep = breast_df['label'] == target\n",
    "    plt.scatter(\n",
    "        breast_pca_df.loc[indicesToKeep, 'principal component 1'],\n",
    "        breast_pca_df.loc[indicesToKeep, 'principal component 2'],\n",
    "        c = color,\n",
    "        s = 50)\n",
    "plt.legend(targets, prop={'size': 15})\n",
    "plt.show()"
   ]
  }
 ],
 "metadata": {
  "kernelspec": {
   "display_name": "Python 3 (ipykernel)",
   "language": "python",
   "name": "python3"
  },
  "language_info": {
   "codemirror_mode": {
    "name": "ipython",
    "version": 3
   },
   "file_extension": ".py",
   "mimetype": "text/x-python",
   "name": "python",
   "nbconvert_exporter": "python",
   "pygments_lexer": "ipython3",
   "version": "3.11.1"
  }
 },
 "nbformat": 4,
 "nbformat_minor": 5
}
