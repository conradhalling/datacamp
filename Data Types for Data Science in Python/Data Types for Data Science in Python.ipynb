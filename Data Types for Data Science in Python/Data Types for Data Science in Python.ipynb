{
 "cells": [
  {
   "cell_type": "markdown",
   "id": "cbc1a7fb-e323-43ed-bdf1-fc8c3910bdc4",
   "metadata": {},
   "source": [
    "# Data Types for Data Science in Python\n",
    "\n",
    "## Introduction\n",
    "\n",
    "This course is presented by Jason Myers, who is the co-author (with Rick Copeland) of _Essential SQLAlchemy_ and is a software engineer.\n",
    "\n",
    "Prerequisite:\n",
    "- Intermediate Python\n",
    "\n",
    "This course is part of this track:\n",
    "- Python Programmer\n",
    "\n",
    "A good resource is section 5 of \"The Python Tutorial: Data Structures.\" See https://docs.python.org/3/tutorial/datastructures.html.\n",
    "\n",
    "Jason moves quickly through the demonstrations, making his presentations very efficient to watch, but it takes a lot of work to copy the examples and experiment with them. In addition, we are not given the source data files for some of the data used in the examples. The variable `art_galleries`, a dictionary, is used in inconsistent ways. The code for creating timezone-aware datetime objects is incorrect (see detailed notes below). The section titles are sometimes cute but not useful.\n",
    "\n",
    "I learned a lot, but I think that this course needs revision.\n",
    "\n",
    "## Datasets\n",
    "\n",
    "Name | File\n",
    "| :--- | :--- |\n",
    "| Baby names | baby_names.csv |\n",
    "| Chicago crime | crime_sampler.csv |\n",
    "| CTA daily station totals | cta_daily_station_totals.csv |\n",
    "| CTA daily summary totals | cta_daily_summary_totals.csv |\n",
    "\n",
    "## Imports\n",
    "\n",
    "Imports are collected here for convenience and clarity."
   ]
  },
  {
   "cell_type": "code",
   "execution_count": null,
   "id": "5144f70d-34bc-41d1-9e9a-8dcbe55ff45a",
   "metadata": {},
   "outputs": [],
   "source": [
    "from collections import Counter, defaultdict, namedtuple, OrderedDict\n",
    "import csv\n",
    "import datetime\n",
    "import os\n",
    "import pprint\n",
    "import sys\n",
    "import traceback\n",
    "\n",
    "import pendulum\n",
    "import pytz"
   ]
  },
  {
   "cell_type": "markdown",
   "id": "a7da2e47-33dc-4f84-baea-e17bcfde4143",
   "metadata": {},
   "source": [
    "## Fundamental Data Types\n",
    "\n",
    "### Introduction\n",
    "\n",
    "The data type system of a programming language sets the capabilities of the language. Understanding the Python data types empowers you as a data scientist who uses Python.\n",
    "\n",
    "A container sequence holds a sequence of other data types. These containers are used for aggregation, ordering, sorting, and more. Python's container sequences include lists, sets, and tuples (just to name a few). The containers can be mutable (list, set) or immutable (tuple). These containers are iterable, which enables grouping, aggregating, and processing data."
   ]
  },
  {
   "cell_type": "markdown",
   "id": "80fab770-4058-492e-8a7d-cf70acbe37a2",
   "metadata": {},
   "source": [
    "### Lists\n",
    "\n",
    "#### Accessing Single Items in a List (Demonstration)"
   ]
  },
  {
   "cell_type": "code",
   "execution_count": null,
   "id": "3bcfd6df-35ce-449a-9602-49582d2b0c69",
   "metadata": {},
   "outputs": [],
   "source": [
    "# Add an item to a list. Access a single item in the list.\n",
    "cookies = [\"chocolate chip\", \"peanut butter\", \"sugar\"]\n",
    "cookies.append(\"Tirggel\")\n",
    "print(cookies)\n",
    "print(cookies[2])"
   ]
  },
  {
   "cell_type": "markdown",
   "id": "ee01e2a4-856d-4908-8616-ef729626d13a",
   "metadata": {},
   "source": [
    "#### Combining Lists (Demonstration)"
   ]
  },
  {
   "cell_type": "code",
   "execution_count": null,
   "id": "1738306b-a17e-48cc-b566-2229855b2601",
   "metadata": {},
   "outputs": [],
   "source": [
    "# Lists can be combined in different ways.\n",
    "# Use the + operator to concatenate two lists to create a new list.\n",
    "cakes = [\"strawberry\", \"vanilla\"]\n",
    "desserts = cookies + cakes\n",
    "print(desserts)\n",
    "\n",
    "# The list.extend method merges a second list into the first list;\n",
    "# this does not return a new list.\n",
    "fruits = [\"blueberries\", \"bananas\", \"melons\"]\n",
    "desserts.extend(fruits)\n",
    "print(desserts)"
   ]
  },
  {
   "cell_type": "markdown",
   "id": "6e9933a2-3e1a-4dd5-afc3-10ae17e1fbbb",
   "metadata": {},
   "source": [
    "#### Finding Elements in a List (Demonstration)"
   ]
  },
  {
   "cell_type": "code",
   "execution_count": null,
   "id": "c22f0c84-cf67-48e5-bd05-f5dcb44d33f1",
   "metadata": {},
   "outputs": [],
   "source": [
    "# Find elements in a list\n",
    "position = cookies.index(\"sugar\")\n",
    "print(position)\n",
    "print(cookies[position])"
   ]
  },
  {
   "cell_type": "code",
   "execution_count": null,
   "id": "9f90155b-7d92-4d3c-929a-00e9eec38da3",
   "metadata": {},
   "outputs": [],
   "source": [
    "# Extra: A search that fails raises an exception. The value\n",
    "# of position does not change.\n",
    "try:\n",
    "    position = cookies.index(\"oatmeal\")\n",
    "except ValueError as exc:\n",
    "    traceback.print_exception(exc, file=sys.stdout)\n",
    "print(position)"
   ]
  },
  {
   "cell_type": "markdown",
   "id": "a354d806-d353-4d56-9ed6-74172273f107",
   "metadata": {},
   "source": [
    "#### Removing Elements in a List (Demonstration)"
   ]
  },
  {
   "cell_type": "code",
   "execution_count": null,
   "id": "14a7d551-0cb5-47f4-8de0-031317fb3f4e",
   "metadata": {},
   "outputs": [],
   "source": [
    "# Remove an element from the list (and save it).\n",
    "position = cookies.index(\"sugar\")\n",
    "name = cookies.pop(position)\n",
    "print(name)\n",
    "print(cookies)"
   ]
  },
  {
   "cell_type": "markdown",
   "id": "82a11b2e-7fa7-48ea-b4b5-e15a5e350627",
   "metadata": {},
   "source": [
    "#### Iterating over Lists (Demonstration)"
   ]
  },
  {
   "cell_type": "code",
   "execution_count": null,
   "id": "8a2aed4f-ff57-4e2c-8260-317b3e6a6e7f",
   "metadata": {},
   "outputs": [],
   "source": [
    "# Iterate over the list.\n",
    "for cookie in cookies:\n",
    "    print(cookie)"
   ]
  },
  {
   "cell_type": "markdown",
   "id": "a1becc35-5085-4de6-9b82-7c74b71e382e",
   "metadata": {},
   "source": [
    "#### Sorting Lists (Demonstration)"
   ]
  },
  {
   "cell_type": "code",
   "execution_count": null,
   "id": "b69942b7-f00e-45fe-8d84-36b749065f4f",
   "metadata": {},
   "outputs": [],
   "source": [
    "# Sort the list, return a new list with sorted items.\n",
    "# sorted() returns data in numerical or alphabetical order and returns a new list.\n",
    "sorted_cookies = sorted(cookies)\n",
    "print(sorted_cookies)"
   ]
  },
  {
   "cell_type": "markdown",
   "id": "441f3e8d-7815-4c0d-b9e5-198baf8e0cfe",
   "metadata": {},
   "source": [
    "#### Manipulating Lists (Exercise)"
   ]
  },
  {
   "cell_type": "code",
   "execution_count": null,
   "id": "f155748c-5cec-4d77-b2b2-b797c24f61d9",
   "metadata": {},
   "outputs": [],
   "source": [
    "# Create a list containing the names: baby_names\n",
    "baby_names = [\"Ximena\", \"Aliza\", \"Ayden\", \"Calvin\"]\n",
    "\n",
    "# Extend baby_names with 'Rowen' and 'Sandeep'\n",
    "baby_names.extend([\"Rowen\", \"Sandeep\"])\n",
    "\n",
    "# Print baby_names\n",
    "print(baby_names)\n",
    "\n",
    "# Find the position of 'Aliza': position\n",
    "position = baby_names.index(\"Aliza\")\n",
    "\n",
    "# Remove 'Aliza' from baby_names\n",
    "baby_names.pop(position)\n",
    "\n",
    "# Print baby_names\n",
    "print(baby_names)\n",
    "\n",
    "# Extra: By default, pop() removes the last item from the list.\n",
    "print(baby_names.pop())\n",
    "print(baby_names)"
   ]
  },
  {
   "cell_type": "markdown",
   "id": "4b19c6b8-cd2a-42a1-b3a5-e0edabfa2dab",
   "metadata": {},
   "source": [
    "#### Looping over Lists (Exercise)"
   ]
  },
  {
   "cell_type": "code",
   "execution_count": null,
   "id": "eb7e5408-4625-4897-bd78-694716b0b237",
   "metadata": {},
   "outputs": [],
   "source": [
    "# Load the data from the CSV file.\n",
    "# header: ['BRITH_YEAR', 'GENDER', 'ETHNICTY', 'NAME', 'COUNT', 'RANK']\n",
    "# data:   ['2011', 'FEMALE', 'HISPANIC', 'GERALDINE', '13', '75']\n",
    "records = []\n",
    "with open(\"baby_names.csv\", \"r\") as csv_file:\n",
    "    csv_reader = csv.reader(csv_file)\n",
    "    header = next(csv_reader)\n",
    "    print(\"header: {}\".format(header))\n",
    "    # Load the records using a list comprehension.\n",
    "    records = [record for record in csv_reader]\n",
    "    # Or get the records one at a time using a for loop.\n",
    "    # for record in csv_reader:\n",
    "    #     records.append(record)\n",
    "print(\"Read {} records from CSV file.\".format(len(records)))\n",
    "print(\"The first record:\")\n",
    "print(records[0])\n",
    "\n",
    "# Collect the baby names in a list.\n",
    "baby_names = [record[3] for record in records]\n",
    "\n",
    "# Omit printing all of the 13,962 names.\n",
    "# for name in sorted(baby_names):\n",
    "#     print(name)\n",
    "print(\"Collected \" + str(len(baby_names)) + \" baby names.\")"
   ]
  },
  {
   "cell_type": "markdown",
   "id": "94183b9c-4361-4a65-a3a6-72c27bfc8c24",
   "metadata": {},
   "source": [
    "### Tuples\n",
    "\n",
    "Tuples hold data in order, and the data can be accessed using an index. Tuples are immutable; you cannot add to them or delete from them. This makes them more efficient than lists for some operations (read-only).\n",
    "\n",
    "We can create tuples by pairing up elements. We can unpack tuples into named variables."
   ]
  },
  {
   "cell_type": "markdown",
   "id": "a3a41788-f9ab-42b1-b6aa-7d794a37a172",
   "metadata": {},
   "source": [
    "#### Zipping Tuples (Demonstration)"
   ]
  },
  {
   "cell_type": "code",
   "execution_count": null,
   "id": "299ab950-fa2e-4f09-85aa-7ceea2a376db",
   "metadata": {},
   "outputs": [],
   "source": [
    "# Tuples are commonly created by zipping lists together with zip().\n",
    "# Often we'll have lists that we want to match up, element by element.\n",
    "# Use zip to create tuples with elements that belong together.\n",
    "us_cookies = [\"Chocolate Chip\", \"Brownies\", \"Peanut Butter\", \"Oreos\", \"Oatmeal Raisin\"]\n",
    "in_cookies = [\"Punjabi\", \"Fruit Cake Rusk\", \"Marble Cookies\", \"Kaju Pista Cookies\", \"Almond Cookies\"]\n",
    "top_pairs = list(zip(us_cookies, in_cookies))\n",
    "# Show object types. zip returns an object that is an iterable.\n",
    "print(zip(us_cookies, in_cookies))\n",
    "print(type(zip(us_cookies, in_cookies)))\n",
    "print(type(top_pairs))\n",
    "print(top_pairs)"
   ]
  },
  {
   "cell_type": "markdown",
   "id": "24ed10b8-e9ef-4f89-947b-b2c61e01d83f",
   "metadata": {},
   "source": [
    "#### Unpacking Tuples (Demonstration)"
   ]
  },
  {
   "cell_type": "code",
   "execution_count": null,
   "id": "bb30efdc-2b54-4a6c-9601-16ac34d335ac",
   "metadata": {},
   "outputs": [],
   "source": [
    "# Tuple unpacking or tuple expansion\n",
    "# Assign members of a tuple to named variables for later use.\n",
    "us_num_1, in_num_1 = top_pairs[0]\n",
    "print(us_num_1)\n",
    "print(in_num_1)"
   ]
  },
  {
   "cell_type": "markdown",
   "id": "4b386a94-2ef6-4495-91c0-0c703c0e2c30",
   "metadata": {},
   "source": [
    "#### Unpacking Tuples in Loops (Demonstration)"
   ]
  },
  {
   "cell_type": "code",
   "execution_count": null,
   "id": "b14ee3f8-3c1f-4502-a4d2-021176a0e066",
   "metadata": {},
   "outputs": [],
   "source": [
    "# Tuple unpacking in loops. Unpacking is especially powerful in loops.\n",
    "for us_cookie, in_cookie in top_pairs:\n",
    "    print(in_cookie + \" + \" + us_cookie)\n",
    "\n",
    "# The last values linger in the variables.\n",
    "print(in_cookie)\n",
    "print(us_cookie)"
   ]
  },
  {
   "cell_type": "markdown",
   "id": "f4b02037-3032-4eeb-b99a-6fe7867afc4b",
   "metadata": {},
   "source": [
    "#### Enumerating Positions (Demonstration)"
   ]
  },
  {
   "cell_type": "code",
   "execution_count": null,
   "id": "2c1fdd34-cd8a-441a-b62d-148e1b67f108",
   "metadata": {},
   "outputs": [],
   "source": [
    "# Use the enumerate function to provide the index of each element of an\n",
    "# iterable. Enumeration is used in loops to return the position and the\n",
    "# data in that position while looping.\n",
    "for idx, item in enumerate(top_pairs):\n",
    "    us_cookie, in_cookie = item\n",
    "    print(idx, us_cookie, in_cookie)"
   ]
  },
  {
   "cell_type": "code",
   "execution_count": null,
   "id": "7cf94b0c-7b92-45c4-9e6e-828585ee5b88",
   "metadata": {},
   "outputs": [],
   "source": [
    "# Extra: Here's another way to unpack the data.\n",
    "for idx, (us_cookie, in_cookie) in enumerate(top_pairs):\n",
    "    print(idx, us_cookie, in_cookie)"
   ]
  },
  {
   "cell_type": "markdown",
   "id": "f6f6dcff-6916-4482-b686-8d988b55e568",
   "metadata": {},
   "source": [
    "#### Be Careful When Making Tuples (Demonstration)"
   ]
  },
  {
   "cell_type": "code",
   "execution_count": null,
   "id": "9b207bae-edac-4201-b2d8-5491637a9c5a",
   "metadata": {},
   "outputs": [],
   "source": [
    "# Use zip(), enumerate(), or () to make tuples.\n",
    "items = (\"vanilla\", \"chocolate\")\n",
    "print(type(items))\n",
    "print(items)\n",
    "print()\n",
    "# It is the comman that creates the tuple.\n",
    "items2 = \"butter\", \"milk\"\n",
    "print(type(items2))\n",
    "print(items2)\n",
    "print()\n",
    "# The extra comma creates a tuple.\n",
    "items3 = \"butter\",\n",
    "print(type(items3))\n",
    "print(items3)\n",
    "print()\n",
    "# Make an empty tuple.\n",
    "items4 = ()\n",
    "print(type(items4))\n",
    "print(items4)"
   ]
  },
  {
   "cell_type": "markdown",
   "id": "23b8ff46-0bd2-402f-9260-05925a72e3c7",
   "metadata": {},
   "source": [
    "#### Data Type Usage (Exercise)\n",
    "\n",
    "The data type to use for ummutable, ordered data is the tuple."
   ]
  },
  {
   "cell_type": "markdown",
   "id": "fca5e65d-85cb-41f2-86a3-f4f52e148ac3",
   "metadata": {},
   "source": [
    "#### Using and Unpacking Tuples (Exercise)"
   ]
  },
  {
   "cell_type": "code",
   "execution_count": null,
   "id": "82aec39e-38cb-4a5d-ac9c-cad76db69b3d",
   "metadata": {},
   "outputs": [],
   "source": [
    "# Zip together two lists of ranked names.\n",
    "# The lengths of the input lists are not the same; zip produces\n",
    "# pairs that have a length of the shorter list.\n",
    "girl_names = [\n",
    "    'JADA', 'Emily', 'Ava', 'SERENITY', 'Claire', 'SOPHIA', 'Sarah', 'ASHLEY', 'CHAYA',\n",
    "    'ABIGAIL', 'Zoe', 'LEAH', 'HAILEY', 'AVA', 'Olivia', 'EMMA', 'CHLOE', 'Sophia',\n",
    "    'AALIYAH', 'Angela', 'Camila', 'Savannah', 'Serenity', 'Chloe', 'Fatoumata',\n",
    "    'ISABELLA', 'MIA', 'FIONA', 'Skylar', 'Ashley', 'Rachel', 'Sofia', 'Alina',\n",
    "    'MADISON', 'RACHEL', 'CAMILA', 'CHANA', 'TAYLOR', 'Kayla', 'Miriam', 'Leah',\n",
    "    'Grace', 'ANGELA', 'Isabella', 'Emma', 'KAYLA', 'SOFIA', 'Madison', 'Aaliyah',\n",
    "    'Taylor', 'GENESIS', 'Esther', 'MAKAYLA', 'Victoria', 'Chaya', 'Brielle', 'Anna',\n",
    "    'Samantha', 'ESTHER', 'GRACE', 'Mariam', 'Mia', 'NEVAEH', 'GABRIELLE', 'EMILY',\n",
    "    'London', 'TIFFANY', 'Chana', 'Valentina', 'OLIVIA', 'LONDON', 'MIRIAM', 'SARAH',\n",
    "    'ELLA']\n",
    "boy_names = [\n",
    "    'JOSIAH', 'ETHAN', 'David', 'Jayden', 'MASON', 'RYAN', 'CHRISTIAN', 'ISAIAH',\n",
    "    'JAYDEN', 'Michael', 'NOAH', 'SAMUEL', 'SEBASTIAN', 'Noah', 'Dylan', 'LUCAS',\n",
    "    'JOSHUA', 'ANGEL', 'Jacob', 'Matthew', 'Josiah', 'JACOB', 'Muhammad', 'ALEXANDER',\n",
    "    'Jason', 'Ethan', 'DANIEL', 'Joseph', 'AIDEN', 'Moshe', 'Jeremiah', 'William',\n",
    "    'Alexander', 'Sebastian', 'ERIC', 'MOSHE', 'Jack', 'Eric', 'MUHAMMAD', 'Lucas',\n",
    "    'BENJAMIN', 'Aiden', 'Ryan', 'Liam', 'JASON', 'KEVIN', 'Elijah', 'Angel', 'JAMES',\n",
    "    'Daniel', 'Samuel', 'Amir', 'Mason', 'Joshua', 'ANTHONY', 'JOSEPH', 'Benjamin',\n",
    "    'JUSTIN', 'JEREMIAH', 'MATTHEW', 'Carter', 'James', 'TYLER', 'DAVID', 'JACK',\n",
    "    'ELIJAH', 'MICHAEL', 'CHRISTOPHER']\n",
    "print(\"Length of girl names: {}\".format(len(girl_names)))\n",
    "print(\"Length of boy names: {}\".format(len(boy_names)))\n",
    "pairs = list(zip(girl_names, boy_names))\n",
    "print(\"Length of pairs: {}\".format(len(pairs)))\n",
    "# Print the first 5 of the 68 pairs:\n",
    "for idx, pair in enumerate(pairs[:5]):\n",
    "    girl_name, boy_name = pair\n",
    "    print(\"Rank {}: {} and {}\".format(idx, girl_name, boy_name))"
   ]
  },
  {
   "cell_type": "markdown",
   "id": "5a1eb764-e4fb-43f2-a9f4-c095c163a1d1",
   "metadata": {},
   "source": [
    "#### Making Tuples by Accident (Exercise)"
   ]
  },
  {
   "cell_type": "code",
   "execution_count": null,
   "id": "cca3a217-d97d-4466-816f-60354f24fd34",
   "metadata": {},
   "outputs": [],
   "source": [
    "# Making tupes by accident.\n",
    "normal = \"simple\"\n",
    "error = \"trailing comma\",\n",
    "print(type(normal))\n",
    "print(type(error))"
   ]
  },
  {
   "cell_type": "markdown",
   "id": "0c1838b1-d97f-4363-8bab-3a5b5ada3e78",
   "metadata": {},
   "source": [
    "### Sets\n",
    "\n",
    "Sets contain unique, unordered, mutable data, so they are good for finding all unique items from a source.\n",
    "Sets are usually created from a list."
   ]
  },
  {
   "cell_type": "markdown",
   "id": "591d49bd-aded-4d15-b759-9b9e94f71b0a",
   "metadata": {},
   "source": [
    "#### Creating Sets (Demonstration)"
   ]
  },
  {
   "cell_type": "code",
   "execution_count": null,
   "id": "67530dea-d576-49f0-9aba-278ba90e291a",
   "metadata": {},
   "outputs": [],
   "source": [
    "# Create a set.\n",
    "cookies_eaten_today = [\"chocolate chip\", \"peanut butter\", \"chocolate chip\",\n",
    "    \"oatmeal cream\", \"chocolate chip\"]\n",
    "types_of_cookies_eaten = set(cookies_eaten_today)\n",
    "print(type(types_of_cookies_eaten))\n",
    "print(types_of_cookies_eaten)"
   ]
  },
  {
   "cell_type": "markdown",
   "id": "e6874abf-34e3-4c23-ba7f-a554e1de5f03",
   "metadata": {},
   "source": [
    "#### Modifying Sets (Demonstration)"
   ]
  },
  {
   "cell_type": "code",
   "execution_count": null,
   "id": "9315f4a0-4ea4-454f-8504-9d164f40da04",
   "metadata": {},
   "outputs": [],
   "source": [
    "# Add a single element using .add().\n",
    "types_of_cookies_eaten.add(\"biscotti\")\n",
    "types_of_cookies_eaten.add(\"chocolate chip\")\n",
    "print(types_of_cookies_eaten)"
   ]
  },
  {
   "cell_type": "markdown",
   "id": "1a036f6a-4599-4879-bdc1-f597b0df485a",
   "metadata": {},
   "source": [
    "#### Updating Sets (Demonstration)"
   ]
  },
  {
   "cell_type": "code",
   "execution_count": null,
   "id": "d8d5249b-835e-4b5c-849b-e3c564b504b5",
   "metadata": {},
   "outputs": [],
   "source": [
    "# Merge in another set or list with .update().\n",
    "cookies_hugo_ate = [\"chocolate chip\", \"anzac\"]\n",
    "types_of_cookies_eaten.update(cookies_hugo_ate)\n",
    "print(types_of_cookies_eaten)"
   ]
  },
  {
   "cell_type": "markdown",
   "id": "200cda1d-8b70-4d09-a575-927c3e0c6cd7",
   "metadata": {},
   "source": [
    "#### Remove Data from Sets (Demonstration)"
   ]
  },
  {
   "cell_type": "code",
   "execution_count": null,
   "id": "a1fa27e2-4aa2-4865-b73a-b7c1374c2d20",
   "metadata": {},
   "outputs": [],
   "source": [
    "# .discard() safely removes an element from the set by value.\n",
    "types_of_cookies_eaten.discard(\"biscotti\")\n",
    "print(types_of_cookies_eaten)\n",
    "\n",
    "# Note: There is no error when the element to remove doesn't exist.\n",
    "types_of_cookies_eaten.discard(\"oreo\")\n",
    "print(types_of_cookies_eaten)\n",
    "\n",
    "# .pop() removes and returns an *arbitary* element from the set (KeyError when empty)\n",
    "# Pop items from the set.\n",
    "print(types_of_cookies_eaten)\n",
    "print(types_of_cookies_eaten.pop())\n",
    "print(types_of_cookies_eaten.pop())\n",
    "print(types_of_cookies_eaten)"
   ]
  },
  {
   "cell_type": "markdown",
   "id": "f86a9ba3-1e3f-4676-a9fb-7838532c7384",
   "metadata": {},
   "source": [
    "#### Set Operations - Similarities (Demonstration)"
   ]
  },
  {
   "cell_type": "code",
   "execution_count": null,
   "id": "779262a4-1868-41c0-9493-13edc2a9edfb",
   "metadata": {},
   "outputs": [],
   "source": [
    "# .union() method returns a set of all names (or).\n",
    "cookies_jason_ate = set([\"chocolate chip\", \"oatmeal cream\", \"peanut butter\"])\n",
    "cookies_hugo_ate = set([\"chocolate chip\", \"anzac\"])\n",
    "print(cookies_jason_ate.union(cookies_hugo_ate))\n",
    "print(cookies_hugo_ate.union(cookies_jason_ate))\n",
    "\n",
    "# .intersection() method identifies overlapping data (and).\n",
    "print(cookies_jason_ate.intersection(cookies_hugo_ate))\n",
    "print(cookies_hugo_ate.intersection(cookies_jason_ate))"
   ]
  },
  {
   "cell_type": "markdown",
   "id": "6f94bcd5-3289-438c-884a-5c7712579580",
   "metadata": {},
   "source": [
    "#### Set Operations - Differences (Demonstration)"
   ]
  },
  {
   "cell_type": "code",
   "execution_count": null,
   "id": "b5745022-3521-4f92-ae70-e0d89ed65c5f",
   "metadata": {},
   "outputs": [],
   "source": [
    "# .difference() method identifies data present in the set on which the\n",
    "# method was used that is not in the arguments (minus)\n",
    "print(cookies_jason_ate.difference(cookies_hugo_ate))\n",
    "print(cookies_hugo_ate.difference(cookies_jason_ate))"
   ]
  },
  {
   "cell_type": "markdown",
   "id": "27d54aca-a310-4eb5-b74d-573f73f85a27",
   "metadata": {},
   "source": [
    "#### Finding all the Data and the Overlapping Data between Sets (Exercise)"
   ]
  },
  {
   "cell_type": "code",
   "execution_count": null,
   "id": "f780ad09-88bf-42fc-a668-d40f1479d1ef",
   "metadata": {},
   "outputs": [],
   "source": [
    "# Build two sets of baby names for 2011 and 2014.\n",
    "# Use the str.title method to fix the names so capitalization is consistent.\n",
    "baby_names_2011 = set([x[3].title() for x in records if x[0] == \"2011\"])\n",
    "baby_names_2014 = set([x[3].title() for x in records if x[0] == \"2014\"])\n",
    "print(\"Length of baby names from 2011: {}\".format(len(baby_names_2011)))\n",
    "print(\"Length of baby names from 2014: {}\".format(len(baby_names_2014)))\n",
    "\n",
    "# Find all names from 2011 and 2014..\n",
    "all_names = baby_names_2011.union(baby_names_2014)\n",
    "print(\"Length of all names from 2011 and 2014: {}\".format(len(all_names)))\n",
    "\n",
    "# Find the count of names in common from 2011 and 2014.\n",
    "overlapping_names = baby_names_2011.intersection(baby_names_2014)\n",
    "print(\"Length of common names from 2011 and 2014: {}\".format(len(overlapping_names)))"
   ]
  },
  {
   "cell_type": "markdown",
   "id": "d3497ca8-6701-4450-8e9f-648b06937218",
   "metadata": {},
   "source": [
    "#### Determining Set Differences (Exercise)"
   ]
  },
  {
   "cell_type": "code",
   "execution_count": null,
   "id": "634c80f7-4236-4f7c-a3cb-d6d1f93c4613",
   "metadata": {},
   "outputs": [],
   "source": [
    "# The exercise includes building the set.\n",
    "baby_names_2011 = set()\n",
    "for row in records:\n",
    "    if row[0] == \"2011\":\n",
    "        baby_names_2011.add(row[3].title())\n",
    "differences = baby_names_2011.difference(baby_names_2014)\n",
    "print(\"Found {} differences.\".format(len(differences)))\n",
    "print()\n",
    "# A set is unordered. Print 5 elements.\n",
    "print(list(differences)[:5])\n",
    "print()\n",
    "\n",
    "# The set is printed in arbitary order, so sort it.\n",
    "print(sorted(differences)[:5])"
   ]
  },
  {
   "cell_type": "markdown",
   "id": "8f162ed9-1570-4ff8-b5ed-de2ff7f69691",
   "metadata": {},
   "source": [
    "## Dictionaries\n",
    "\n",
    "Dictionaries are containers that hold key/value pairs. They key is usually alphanumeric, but the value can be any Python object. It is possible to nest dictionaries so that a value can be a dictionary. Dictionaries are iterable over the keys, values, and items of dictionaries, which are tuples of keys and values.\n",
    "\n",
    "Dictionaries are useful for grouping data by time or structuring hierarchical data such as organizational charts. (Perhaps they would be useful also for tracking prerequisites for courses.)\n",
    "\n",
    "The standard documentation: https://docs.python.org/3/library/stdtypes.html#mapping-types-dict.\n",
    "\n",
    "A good tutorial: # https://www.datacamp.com/community/tutorials/python-dictionary-comprehension."
   ]
  },
  {
   "cell_type": "markdown",
   "id": "bb6dd96f-ffe5-49d1-afc2-ee6498f1d006",
   "metadata": {},
   "source": [
    "### Using Dictionaries"
   ]
  },
  {
   "cell_type": "markdown",
   "id": "da91f2a3-852f-4737-a76c-42aa7248e0dc",
   "metadata": {},
   "source": [
    "#### Creating and Looping through Dictionaries (Demonstration)\n",
    "\n",
    "We are not provided with the data source for the examples. In the course, the instructor uses different versions of the art_galleries variable. I have tried to straighten this out with the following variables:\n",
    "\n",
    "| Variable | Data |\n",
    "| :--- | :--- |\n",
    "| art_galleries | keys are gallery names, values are zip codes |\n",
    "| art_galleries2 | keys are gallery names, values are zip codes; used to demonstrate creating a dictionary from a dict comprehension |\n",
    "| art_galleries3 | keys are zip codes, values are dictionaries where the keys are gallery names and the values are phone numbers |\n",
    "| art_galleries4 | keys are gallery names, values are phone numbers |"
   ]
  },
  {
   "cell_type": "code",
   "execution_count": null,
   "id": "fd81bdf9-de98-46b0-906d-55cd695bd296",
   "metadata": {},
   "outputs": [],
   "source": [
    "# I copied the following data from one of the slides.\n",
    "galleries = (\n",
    "    (\"Paige's Art Gallery\", \"10027\"),\n",
    "    (\"Triple Candie\", \"10027\"),\n",
    "    (\"Africart Motherland Inc\", \"10027\"),\n",
    "    (\"Inner City Art Gallery Inc\", \"10027\"),\n",
    "    (\"Zarre Andre Gallery\", \"10011\"),\n",
    ")\n",
    "art_galleries = {}\n",
    "for name, zip_code in galleries:\n",
    "    art_galleries[name] = zip_code\n",
    "print(art_galleries)"
   ]
  },
  {
   "cell_type": "markdown",
   "id": "12d3adaf-de04-4cf2-ac1f-22cd940c84b5",
   "metadata": {},
   "source": [
    "#### Create a Dictionary Using a Dictionary Comprehension (Extra)"
   ]
  },
  {
   "cell_type": "code",
   "execution_count": null,
   "id": "08c2d7f4-a9f3-4989-ba9e-9294f3435a00",
   "metadata": {},
   "outputs": [],
   "source": [
    "# Use a dict comprehension to create a dict.\n",
    "art_galleries2 = {x[0]: x[1] for x in galleries}\n",
    "print(art_galleries2)\n",
    "print(art_galleries == art_galleries2)"
   ]
  },
  {
   "cell_type": "markdown",
   "id": "a03de2e0-5a31-4be2-9f9a-b3ab6fded5a5",
   "metadata": {},
   "source": [
    "#### Printing in the Loop (Demonstration)"
   ]
  },
  {
   "cell_type": "code",
   "execution_count": null,
   "id": "9a86f5c9-fec3-4545-9923-77e3dfa331cb",
   "metadata": {},
   "outputs": [],
   "source": [
    "# Print the keys of a dictionary.\n",
    "for name in art_galleries:\n",
    "    print(name)"
   ]
  },
  {
   "cell_type": "markdown",
   "id": "f0ba93c0-394a-48fa-aeab-f72f48edd97c",
   "metadata": {},
   "source": [
    "#### Overloading of `{}` for Creating Data Types (Extra)"
   ]
  },
  {
   "cell_type": "code",
   "execution_count": null,
   "id": "3115cb4a-bd95-4134-a0c4-ba3cf3d45596",
   "metadata": {},
   "outputs": [],
   "source": [
    "# Note overloading of \"{}\" for creating dictionaries and sets.\n",
    "var = {}\n",
    "print(type(var))\n",
    "var = {1}\n",
    "print(type(var))\n",
    "var = {\"key\": 1}\n",
    "print(type(var))"
   ]
  },
  {
   "cell_type": "markdown",
   "id": "caf30dfb-c667-472a-a0f7-e20142c9cb33",
   "metadata": {},
   "source": [
    "#### Safely Finding by Key (Demonstration)"
   ]
  },
  {
   "cell_type": "code",
   "execution_count": null,
   "id": "7d12812d-11d9-4504-ad0b-7fe2e5ea4c4c",
   "metadata": {},
   "outputs": [],
   "source": [
    "# Use a key to get the value.\n",
    "# If the key is not found, a KeyError exception is raised.\n",
    "print(art_galleries)\n",
    "print(art_galleries[\"Africart Motherland Inc\"])\n",
    "try:\n",
    "    print(art_galleries[\"Louvre\"])\n",
    "except KeyError as ex:\n",
    "    # In a Jupyter notebook, must send the output to sys.stdout here.\n",
    "    traceback.print_exc(limit=1, file=sys.stdout)"
   ]
  },
  {
   "cell_type": "code",
   "execution_count": null,
   "id": "49b1eb1f-94f4-4d67-8c2d-9dc3ec9bb8d9",
   "metadata": {},
   "outputs": [],
   "source": [
    "# Use the .get() method to safely access a key without error or\n",
    "# exception handling; the method returns None by default, or you can\n",
    "# supply a value to return.\n",
    "print(art_galleries.get(\"Louvre\"))\n",
    "print(art_galleries.get(\"Louvre\", \"Not Found\"))\n",
    "print(art_galleries.get(\"Zarre Andre Gallery\"))"
   ]
  },
  {
   "cell_type": "markdown",
   "id": "361e0c41-0cbc-4e8e-b22c-501ca2224c3f",
   "metadata": {},
   "source": [
    "#### Iterate through the Keys, Values, and Items of a Dictionary (Extra)\n",
    "\n",
    "This is not well-explained by the course."
   ]
  },
  {
   "cell_type": "code",
   "execution_count": null,
   "id": "73ca9fda-13e6-4b2b-8c43-4dd24f21cc40",
   "metadata": {},
   "outputs": [],
   "source": [
    "# Iterate through the keys, values, and items of a dict.\n",
    "for name in art_galleries:\n",
    "    print(name)\n",
    "print()\n",
    "for key in art_galleries.keys():\n",
    "    print(key)\n",
    "print()\n",
    "for values in art_galleries.values():\n",
    "    print(values)\n",
    "print()\n",
    "for key, value in art_galleries.items():\n",
    "    print(key, value)"
   ]
  },
  {
   "cell_type": "markdown",
   "id": "df73c20c-00f5-4478-a0cd-7c86f7d56991",
   "metadata": {},
   "source": [
    "#### Working with Nested Dictionaries (Demonstration)\n",
    "\n",
    "Nested data structures are a common way to deal with repeating data structures such as yearly data or hierarchical or grouped data."
   ]
  },
  {
   "cell_type": "code",
   "execution_count": null,
   "id": "e1c72cd9-a56d-4683-b8dc-195b7d531036",
   "metadata": {},
   "outputs": [],
   "source": [
    "# In this demonstration, the data is structured differently, with the key\n",
    "# being a zip code and the the value being a dictionary.\n",
    "art_galleries3 = {}\n",
    "galleries_10027 = {\n",
    "    \"Paige's Art Gallery\": \"(212) 531-1577\",\n",
    "    \"Triple Candie\": \"(212) 865-0783\",\n",
    "    \"Africart Motherland Inc\": \"(212) 368-6802\",\n",
    "    \"Inner City Art Gallery Inc\": \"(212) 368-4941\"\n",
    "}\n",
    "art_galleries3[\"10027\"] = galleries_10027\n",
    "print(art_galleries3.keys())\n",
    "pprint.pprint(art_galleries3[\"10027\"])"
   ]
  },
  {
   "cell_type": "markdown",
   "id": "8fa569fd-7ba5-4001-80bc-fd2f27e81f6c",
   "metadata": {},
   "source": [
    "#### Accessing Nested Data (Demonstration)"
   ]
  },
  {
   "cell_type": "code",
   "execution_count": null,
   "id": "a80be40f-020e-4bac-ae3d-e127b7d7cc03",
   "metadata": {},
   "outputs": [],
   "source": [
    "# Print the telephone number of a specific gallery.\n",
    "print(art_galleries3[\"10027\"][\"Inner City Art Gallery Inc\"])"
   ]
  },
  {
   "cell_type": "markdown",
   "id": "2537b3c7-a791-4749-97d8-e30bbad52f5b",
   "metadata": {},
   "source": [
    "#### Creating and Looping through Dictionaries (Exercise)"
   ]
  },
  {
   "cell_type": "code",
   "execution_count": null,
   "id": "b6ccb394-f93f-421d-a729-b733169eaa48",
   "metadata": {},
   "outputs": [],
   "source": [
    "# female_baby_names_2012 is a dict containing RANK and NAME, with the items\n",
    "# sorted in order by rank.\n",
    "# Create female_baby_names_2012 using the records variable that was loaded\n",
    "# above when working with lists.\n",
    "female_baby_names_2012 = {}\n",
    "for record in records:\n",
    "    # header: ['BRITH_YEAR', 'GENDER', 'ETHNICTY', 'NAME', 'COUNT', 'RANK']\n",
    "    birth_year, sex, ethnicity, name, count, rank = record\n",
    "    birth_year = int(birth_year)\n",
    "    rank = int(rank)\n",
    "    if birth_year == 2012 and sex == \"FEMALE\":\n",
    "        female_baby_names_2012[rank] = name\n",
    "\n",
    "# Sort the keys (ranks) in reverse order and print the first 10 values.\n",
    "names_by_rank = {}\n",
    "for rank, name in female_baby_names_2012.items():\n",
    "    names_by_rank[rank] = name\n",
    "for rank in sorted(female_baby_names_2012.keys(), reverse=True)[:10]:\n",
    "    print(names_by_rank[rank])"
   ]
  },
  {
   "cell_type": "markdown",
   "id": "757ff856-6b96-413c-b124-9e7334af7cf9",
   "metadata": {},
   "source": [
    "#### Safely Finding by Key (Exercise)"
   ]
  },
  {
   "cell_type": "code",
   "execution_count": null,
   "id": "ec514dfd-3b0b-47c6-b199-d8d61b280928",
   "metadata": {},
   "outputs": [],
   "source": [
    "# Use the .get() method. There are no values associated with ranks or keys\n",
    "# 100 or 105.\n",
    "print(female_baby_names_2012.get(7))\n",
    "print(type(female_baby_names_2012.get(100)))\n",
    "print(female_baby_names_2012.get(105, \"Not Found\"))"
   ]
  },
  {
   "cell_type": "markdown",
   "id": "b190e0bf-6641-4af7-b8c5-bb23b749074d",
   "metadata": {},
   "source": [
    "#### Dealing with Nested Data (Exercise)"
   ]
  },
  {
   "cell_type": "code",
   "execution_count": null,
   "id": "139d2e71-1b8d-488f-ac88-58c886e37bd4",
   "metadata": {},
   "outputs": [],
   "source": [
    "# Build the data record containing boy names from 2013 and 2014; set\n",
    "# the value for key 2012 to an empty dict.\n",
    "unsorted_boy_names = {2012: {}, 2013: {}, 2014: {}}\n",
    "for record in records:\n",
    "    birth_year, sex, ethnicity, name, count, rank = record\n",
    "    birth_year = int(birth_year)\n",
    "    rank = int(rank)\n",
    "    if sex == \"MALE\":\n",
    "        if birth_year == 2013 or birth_year == 2014:\n",
    "            unsorted_boy_names[birth_year][rank] = name\n",
    "\n",
    "# Build a data structure sorted by birth year and rank.\n",
    "boy_names = {2012: {}, 2013: {}, 2014: {}}\n",
    "for birth_year in unsorted_boy_names.keys():\n",
    "    boy_names[birth_year] = \\\n",
    "        {rank: unsorted_boy_names[birth_year][rank] for rank in sorted(unsorted_boy_names[birth_year])}\n",
    "\n",
    "# Perform the exercise.\n",
    "# Print the birth years.\n",
    "print(boy_names.keys())\n",
    "# Print the ranks for year 2013.\n",
    "print(boy_names[2013].keys())\n",
    "# Print the name ranked 3 for each year.\n",
    "for birth_year in boy_names:\n",
    "    print(birth_year, boy_names[birth_year].get(3, \"Unknown\"))"
   ]
  },
  {
   "cell_type": "markdown",
   "id": "4c57b6ca-8659-4db1-be78-cffc2f2240e4",
   "metadata": {},
   "source": [
    "### Altering Dictionaries"
   ]
  },
  {
   "cell_type": "markdown",
   "id": "333897da-ea6a-4b6d-b8bd-2473188e7737",
   "metadata": {},
   "source": [
    "#### Adding and Extending Dictionaries (Demonstration)"
   ]
  },
  {
   "cell_type": "code",
   "execution_count": null,
   "id": "4c6ca753-e1b9-4115-8979-065f3fe49abb",
   "metadata": {},
   "outputs": [],
   "source": [
    "# Use assignment to add a new key/value to a dictionary.\n",
    "# Once again, the instructor has changed the structure of the data in\n",
    "# a variable.\n",
    "galleries_10007 = {\"Nyabinghi African Gift Shop\": \"(212) 566-3336\"}\n",
    "art_galleries3[\"10007\"] = galleries_10007\n",
    "print(art_galleries3[\"10007\"])"
   ]
  },
  {
   "cell_type": "markdown",
   "id": "718f82b9-d224-4d59-8c1f-314cdb991709",
   "metadata": {},
   "source": [
    "#### Updating a Dictionary (Demonstration)"
   ]
  },
  {
   "cell_type": "code",
   "execution_count": null,
   "id": "c1cf9c6b-305e-4ec6-a878-4ec2a0cc4e59",
   "metadata": {},
   "outputs": [],
   "source": [
    "# Use .update() to update a dictionary from another dictionary, list of\n",
    "# tuples, or keywords.\n",
    "# When using .update(), the key must already exist.\n",
    "art_galleries3[\"11234\"] = {}\n",
    "galleries_11234 = [\n",
    "    (\"A J ARTS LTD\", \"(718) 763-5473\"),\n",
    "    (\"Doug Meyer Fine Art\", \"(718) 375-8006\"),\n",
    "    (\"Portrait Gallery\", \"718) 377-8762\")]\n",
    "art_galleries3[\"11234\"].update(galleries_11234)\n",
    "print(art_galleries3[\"11234\"])"
   ]
  },
  {
   "cell_type": "markdown",
   "id": "6398308c-7153-42bf-a682-61d7ce030876",
   "metadata": {},
   "source": [
    "#### Popping and Deleting from Dictionaries (Demonstration)\n",
    "\n",
    "Use `del` to delete a key/value pair. (`del` is an operator, not a function.) When using `del`, the key must exist, else an exception is raised.\n",
    "\n",
    "The `.pop()` method raises a `KeyError` exception if the key doesn't exist; but it can have an optional parameter that is returned if the key does not exist."
   ]
  },
  {
   "cell_type": "code",
   "execution_count": null,
   "id": "42466d1c-2336-4119-8edc-8cafb75c322d",
   "metadata": {},
   "outputs": [],
   "source": [
    "# Prepare the data by adding an art gallery for zip code 10310.\n",
    "art_galleries3[\"10310\"] = {\"New Dorp Village Antiques Ltd\": \"(718) 815-2526\"}\n",
    "\n",
    "# Delete from a dictionary using the key.\n",
    "del art_galleries3[\"11234\"]\n",
    "\n",
    "# Pop an item from a dictionary using the key.\n",
    "galleries_10310 = art_galleries3.pop(\"10310\")\n",
    "print(galleries_10310)"
   ]
  },
  {
   "cell_type": "markdown",
   "id": "935e3beb-6498-427d-8ada-45540fb0316b",
   "metadata": {},
   "source": [
    "#### Adding and Extending Dictionaries (Exercise)"
   ]
  },
  {
   "cell_type": "code",
   "execution_count": null,
   "id": "764bb6f3-b57e-471d-b636-48d0d50a37e4",
   "metadata": {},
   "outputs": [],
   "source": [
    "# Build the needed data record.\n",
    "unsorted_boy_names_2011 = {}\n",
    "for record in records:\n",
    "    birth_year, sex, ethnicity, name, count, rank = record\n",
    "    birth_year = int(birth_year)\n",
    "    rank = int(rank)\n",
    "    if sex == \"MALE\" and birth_year == 2011:\n",
    "        unsorted_boy_names_2011[rank] = name.title()\n",
    "names_2011 = {rank: unsorted_boy_names_2011[rank]\n",
    "              for rank in sorted(unsorted_boy_names_2011)}\n",
    "\n",
    "# Perform the exercise.\n",
    "boy_names[2011] = names_2011\n",
    "\n",
    "# Update the 2012 key in boy_names with data in a list of tuples.\n",
    "print(boy_names.get(2012, None))\n",
    "boy_names[2012].update([(1, \"Casey\"), (2, \"Aiden\")])\n",
    "print(boy_names.get(2012, None))\n",
    "\n",
    "# Loop over boy_names. Sort the data for each year by descending rank\n",
    "# and take the first result, which will be the lowest ranked name.\n",
    "# Print the year and the least popular name or \"Not Available\" if it\n",
    "# is not found, using the .get() method.\n",
    "for year in sorted(boy_names):\n",
    "    lowest_ranked = sorted(boy_names[year], reverse=True)[0]\n",
    "    print(year, boy_names[year].get(lowest_ranked, \"Not Available\"))"
   ]
  },
  {
   "cell_type": "markdown",
   "id": "2a8af36c-b51a-4352-a038-47193e3c311b",
   "metadata": {},
   "source": [
    "#### Popping and Deleting from Dictionaries (Exercise)"
   ]
  },
  {
   "cell_type": "code",
   "execution_count": null,
   "id": "2ca9edbd-10be-4843-b6d1-7e9683fe0f50",
   "metadata": {},
   "outputs": [],
   "source": [
    "# Set up the data record.\n",
    "# This can also be done by creating a list of 2-tuples and using the\n",
    "# list as the argument to dict().\n",
    "female_names = {}\n",
    "female_names[2011] = {\n",
    "    1: 'Olivia', 2: 'Esther', 3: 'Rachel', 4: 'Leah', 5: 'Emma',\n",
    "    6: 'Chaya', 7: 'Sarah', 8: 'Sophia', 9: 'Ava', 10: 'Miriam'}\n",
    "female_names[2012] = {}\n",
    "female_names[2013] = {\n",
    "    1: 'Olivia', 2: 'Emma', 3: 'Esther', 4: 'Sophia', 5: 'Sarah',\n",
    "    6: 'Leah', 7: 'Rachel', 8: 'Chaya', 9: 'Miriam', 10: 'Chana'}\n",
    "female_names[2014] = {\n",
    "    1: 'Olivia', 2: 'Esther', 3: 'Rachel', 4: 'Leah', 5: 'Emma',\n",
    "    6: 'Chaya', 7: 'Sarah', 8: 'Sophia', 9: 'Ava', 10: 'Miriam'}\n",
    "\n",
    "# Pop an item from the dictionary.\n",
    "female_names_2011 = female_names.pop(2011)\n",
    "# Key 2015 doesn't exist; return an empty dictionary in this case.\n",
    "female_names_2015 = female_names.pop(2015, {})\n",
    "# Delete the record for 2012.\n",
    "del female_names[2012]\n",
    "# Print what's left.\n",
    "pprint.pprint(female_names)"
   ]
  },
  {
   "cell_type": "markdown",
   "id": "a001c934-88f8-4425-9492-77978255b14c",
   "metadata": {},
   "source": [
    "### Pythonically Using Dictionaries\n",
    "\n",
    "Use `.items()` and tuple unpacking to iterate through the keys and values of a dictionary.\n",
    "\n",
    "Use `in` to test whether a key is present in a dictionary; returns `True` or `False`."
   ]
  },
  {
   "cell_type": "markdown",
   "id": "7fe82944-1056-4577-b55b-dda9dccf1b00",
   "metadata": {},
   "source": [
    "#### Getting Items from a Dictionary (Demonstration)"
   ]
  },
  {
   "cell_type": "code",
   "execution_count": null,
   "id": "b31f5edc-5f87-4484-9e15-91f233e4f7f6",
   "metadata": {},
   "outputs": [],
   "source": [
    "# Create a dictionary and print its items.\n",
    "# It is annoying that the instructor keeps changing the data in\n",
    "# the variables.\n",
    "art_galleries4 = {\"Miakey Art Gallery\": \"(718) 686-0788\",\n",
    "             \"Morning Star Gallery Ltd\": \"(212) 334-9330\",\n",
    "             \"New York Art Expo Inc\": \"(212) 363-8280\"}\n",
    "for gallery, phone_num in art_galleries4.items():\n",
    "    print(gallery)\n",
    "    print(phone_num)"
   ]
  },
  {
   "cell_type": "markdown",
   "id": "b676fd3a-0fe7-4a7b-892e-097d0884705c",
   "metadata": {},
   "source": [
    "#### Checking Dictionaries for Data (Demonstration)"
   ]
  },
  {
   "cell_type": "code",
   "execution_count": null,
   "id": "2af2e951-ffd2-4ec5-aa22-1ea41cb2a728",
   "metadata": {},
   "outputs": [],
   "source": [
    "# Use in to check for data.\n",
    "# I had to correct the example to use \"10007\" instead of \"10010\"\n",
    "# for finding the \"Nyabinghi African Gift Shop\".\n",
    "print(\"11234\" in art_galleries3)\n",
    "if \"10007\" in art_galleries3:\n",
    "    print(\"I found %s\" % art_galleries3[\"10007\"])\n",
    "else:\n",
    "    print(\"No galleries found\")"
   ]
  },
  {
   "cell_type": "markdown",
   "id": "09c5adf0-4e20-4fbf-a70c-95ab254462d8",
   "metadata": {},
   "source": [
    "#### Iterating through Dictionary Items (Exercise)"
   ]
  },
  {
   "cell_type": "code",
   "execution_count": null,
   "id": "92354962-8070-4d20-bde0-40643a5866bc",
   "metadata": {},
   "outputs": [],
   "source": [
    "# Set up the data record.\n",
    "baby_names = {\n",
    "    2012: {},\n",
    "    2013: {1: 'David', 2: 'Joseph', 3: 'Michael', 4: 'Moshe', 5: 'Daniel',\n",
    "           6: 'Benjamin', 7: 'James', 8: 'Jacob', 9: 'Jack', 10: 'Alexander'},\n",
    "    2014: {1: 'Joseph', 2: 'David', 3: 'Michael', 4: 'Moshe', 5: 'Jacob',\n",
    "           6: 'Benjamin', 7: 'Alexander', 8: 'Daniel', 9: 'Samuel', 10: 'Jack'}}\n",
    "\n",
    "# Perform the exercise.\n",
    "for rank, name in baby_names[2014].items():\n",
    "    print(rank, name)\n",
    "for rank, name in baby_names[2012].items():\n",
    "    print(rank, name)"
   ]
  },
  {
   "cell_type": "markdown",
   "id": "7071fb84-be44-4c5e-a6a1-480a0dc71ea3",
   "metadata": {},
   "source": [
    "#### Checking Dictionaries for Data (Exercise)"
   ]
  },
  {
   "cell_type": "code",
   "execution_count": null,
   "id": "fc7f9b76-d5a0-452c-b254-24d50057206f",
   "metadata": {},
   "outputs": [],
   "source": [
    "# Look for year in dictionary.\n",
    "if 2011 in baby_names:\n",
    "    print(\"Found 2011\")\n",
    "\n",
    "# Look for ranks in sub-dictionaries.\n",
    "if 1 in baby_names[2012]:\n",
    "    print('Found Rank 1 in 2012')\n",
    "else:\n",
    "    print('Rank 1 missing from 2012')\n",
    "    \n",
    "if 5 in baby_names[2013]:\n",
    "    print('Found Rank 5')"
   ]
  },
  {
   "cell_type": "markdown",
   "id": "a08c2e42-b212-4069-a8dd-aa5cffe46241",
   "metadata": {},
   "source": [
    "### Working with CSV Files\n",
    "\n",
    "We are not given the ART_GALLERY.csv file. In addition, the examples shown are not consistent. I created ART_GALLERY.csv using data from the first example. The second example using the DictReader contained different data.\n",
    "\n",
    "I have revised the code to use `with`.\n",
    "\n",
    "#### Reading from a CSV (Example)"
   ]
  },
  {
   "cell_type": "code",
   "execution_count": null,
   "id": "ee7ad954-2409-4e50-a23e-499ed19f4a5f",
   "metadata": {},
   "outputs": [],
   "source": [
    "# Use the code recommended by the documentation for the csv module.\n",
    "with open(\"ART_GALLERY.csv\", newline=\"\") as csvfile:\n",
    "    for row in csv.reader(csvfile):\n",
    "        print(row)"
   ]
  },
  {
   "cell_type": "markdown",
   "id": "e4c86e0c-49d6-4391-aefc-a81dd8a1afc5",
   "metadata": {},
   "source": [
    "#### Creating a Dictionary from a File (Example)\n",
    "\n",
    "The `csv.DictReader` will convert a CSV file to a dictionary. The header row will be used to create the keys of the dictionary. Otherwise, you can pass in the column names that will be used as the keys. The result is returned as an ordered dictionary."
   ]
  },
  {
   "cell_type": "code",
   "execution_count": null,
   "id": "8c219e62-25fa-4c25-9297-40f5eaa9b4e6",
   "metadata": {},
   "outputs": [],
   "source": [
    "# Use a csv.DictReader to process the file.\n",
    "with open(\"ART_GALLERY.csv\", newline=\"\") as csvfile:\n",
    "    for row in csv.DictReader(csvfile):\n",
    "        print(row)"
   ]
  },
  {
   "cell_type": "markdown",
   "id": "2b9cfa84-9eb6-433e-be76-6c1b36f944f1",
   "metadata": {},
   "source": [
    "#### Reading from a File Using CSV Reader (Exercise)"
   ]
  },
  {
   "cell_type": "code",
   "execution_count": null,
   "id": "40501bd1-75e1-49d6-b8b1-65f1d314b7c8",
   "metadata": {},
   "outputs": [],
   "source": [
    "# Collect some of the data from baby_names.csv.\n",
    "# I revised the code for best practices.\n",
    "# Note that the values in the baby_names dictionary are overwritten a few\n",
    "# times before producing the final values. This is not a good example for\n",
    "# reading the CSV file.\n",
    "baby_names = {}\n",
    "file_path = \"baby_names.csv\"\n",
    "with open(file_path, newline=\"\") as csvfile:\n",
    "    csv_reader = csv.reader(csvfile)\n",
    "    # Skip the header line.\n",
    "    header = next(csv_reader)\n",
    "    for row in csv.reader(csvfile):\n",
    "        # print(row)\n",
    "        baby_names[int(row[5])] = row[3]\n",
    "print(baby_names)\n",
    "# pprint.pprint sorts the dict keys for pretty printing.\n",
    "pprint.pprint(baby_names)"
   ]
  },
  {
   "cell_type": "markdown",
   "id": "f29adb1f-34f6-406c-bf9a-9f5cb39115e0",
   "metadata": {},
   "source": [
    "#### Creating a Dictionary from a File (Exercise)"
   ]
  },
  {
   "cell_type": "code",
   "execution_count": null,
   "id": "ddbe5d35-f8da-48dd-b606-0f637ebf7e18",
   "metadata": {},
   "outputs": [],
   "source": [
    "# This uses csv.DictReader.\n",
    "# There are 102 entries in the dict.\n",
    "baby_names2 = {}\n",
    "file_path = \"baby_names.csv\"\n",
    "with open(file_path, newline=\"\") as csvfile:\n",
    "    for row in csv.DictReader(csvfile):\n",
    "        baby_names2[int(row[\"RANK\"])] = row[\"NAME\"]\n",
    "print(baby_names2)\n",
    "# Produce the same result as pprint.pprint().\n",
    "for key in sorted(list(baby_names2.keys())):\n",
    "    print(str(key) + \": \" + str(baby_names2[key]))"
   ]
  },
  {
   "cell_type": "markdown",
   "id": "cc102a89-0aca-4a00-b1da-c6de831c50cf",
   "metadata": {},
   "source": [
    "## The `collections` Module\n",
    "\n",
    "In the course, this chapter was called \"Meet the collections module\"."
   ]
  },
  {
   "cell_type": "markdown",
   "id": "a9392ab0-539a-4c20-8994-a6ed47b5ea9e",
   "metadata": {},
   "source": [
    "### collections.Counter\n",
    "\n",
    "The collections module contains advanced containers. `Counter` is a special dictionary used for counting data and measuring frequency. `Counter` is great for frequency problems.\n",
    "\n",
    "#### Counter (Demonstration)\n",
    "\n",
    "We are not given the data for the demonstration.\n",
    "\n",
    "```Python\n",
    "from collections import Counter\n",
    "# nyc_eatery_types is a list.\n",
    "nyc_eatery_count_by_types = Counter(nyc_eatery_types)\n",
    "print(nyc_eary_count_by_type)\n",
    "# Output: Counter({\"Mobile Food Truck\": 114, \"Food Cart\": 74, ....})\n",
    "print(nyc_eatery_count_by_types[\"Restaurant\"])\n",
    "# Output: 15\n",
    "# .most_common() method returns counter values in descending order.\n",
    "print(nyc_eatery_count_by_types.most_common(3))\n",
    "# Output: [(\"Mobile Food Truck\", 114), (\"Food Cart\", 74), ...]\n",
    "```"
   ]
  },
  {
   "cell_type": "markdown",
   "id": "153b301e-9c05-4ad0-8d10-814a2b6c1ff6",
   "metadata": {},
   "source": [
    "#### Using Counter on Lists (Exercise)"
   ]
  },
  {
   "cell_type": "code",
   "execution_count": null,
   "id": "d0b33ed9-013a-4d1a-ab5f-2a41be9bf0f1",
   "metadata": {},
   "outputs": [],
   "source": [
    "# Read the data from the CSV file data/cta_daily_station_totals.csv\n",
    "# and create the stations list.\n",
    "# The fields in the CSV file are:\n",
    "#   station_id, stationname, date, daytype, rides\n",
    "# Note that in the exercise, the header is included in the stations list.\n",
    "with open(\"cta_daily_station_totals.csv\", newline=\"\") as data_file:\n",
    "    csv_reader = csv.reader(data_file)\n",
    "    cta_daily_station_totals = [x for x in csv_reader]\n",
    "stations = [x[1] for x in cta_daily_station_totals]\n",
    "print(len(stations))\n",
    "\n",
    "# Pass an iterable (list, set, tuple) or a dictionary to the Counter.\n",
    "print(stations[:10])\n",
    "station_count = Counter(stations)\n",
    "print(station_count)"
   ]
  },
  {
   "cell_type": "markdown",
   "id": "dfa71895-1a33-41f5-a3fc-3daef394d8df",
   "metadata": {},
   "source": [
    "#### Finding the Most Common Items (Exercise)"
   ]
  },
  {
   "cell_type": "code",
   "execution_count": null,
   "id": "7526a632-20e4-44f9-8f49-92191b2864b1",
   "metadata": {},
   "outputs": [],
   "source": [
    "# Find the 5 most common elements in station_count.\n",
    "# Since everything has a count of 700, this isn't very useful.\n",
    "print(station_count.most_common(5))"
   ]
  },
  {
   "cell_type": "markdown",
   "id": "5b475dc3-23a6-4112-a574-0a2ba6852e78",
   "metadata": {
    "tags": []
   },
   "source": [
    "### collections.defaultdict\n",
    "\n",
    "A good resource is https://realpython.com/python-defaultdict/.\n",
    "\n",
    "This discusses how to use a default dict for\n",
    "- grouping items in a collection\n",
    "- counting items in a collection\n",
    "- accumulating the values in a collection\n",
    "\n",
    "#### Dictionary Handling (Demonstration)\n",
    "\n",
    "The use case is complex data where we don't know what all the keys will be, but a list value is associated with each key. \n",
    "\n",
    "The code example iterates over a list of tuples. The code initializes the empty list for each new key. This is tedious, and a little autovivification would be useful here.\n",
    "\n",
    "```Python\n",
    "for park_id, name in nyc_eateries_parks:\n",
    "    if park_id not in eateries_by_park:\n",
    "        eateries_by_park[park_id] = []\n",
    "    eateries_by_park[park_id].append(name)\n",
    "print(eateries_by_park[\"M010\"])\n",
    "```\n",
    "\n",
    "#### Using `defaultdict` (Demonstration)\n",
    "\n",
    "Pass it a default type that every key will have even if it doesn't currently exist. The argument passed to defaultdict is a valid Python callable or None. Otherwise, defaultdict works exactly like a dictionary.\n",
    "\n",
    "```Python\n",
    "from collections import defaultdict\n",
    "eateries_by_park = defaultdict(list)\n",
    "for park_id, name in nyc_eateries_parks:\n",
    "    eateries_by_park[park_id].append(name)\n",
    "print(eateries_by_park[\"M010\"])\n",
    "```\n",
    "\n",
    "It is also sommon to use a defaultdict as a counter to count keys from a list of dictionaries. The use case is to count the number of eateries that have published phone numbers or a website.\n",
    "\n",
    "Note that `int()` returns 0, so the default value of a key is 0. If you want a different value, use a regular dict and the `.setdefault()` method of the dict; see https://docs.python.org/3/library/stdtypes.html#dict.setdefault.\n",
    "\n",
    "```Python\n",
    "from collections import defaultdict\n",
    "eatery_contact_types = defaultdict(int)\n",
    "for eatery in nyc_eateries:\n",
    "    if eatery.get(\"phone\"):\n",
    "        eatery_contact_types[\"phones\"] += 1\n",
    "    if eatery.get(\"website\"):\n",
    "        eatery_contact_types[\"websites\"] += 1\n",
    "print(eatery_contact_types)\n",
    "```\n",
    "\n",
    "It's annoying that we don't have the data behind these examples for experimentation."
   ]
  },
  {
   "cell_type": "markdown",
   "id": "6244389f-58d4-4a4d-9501-762d7d2bb7aa",
   "metadata": {},
   "source": [
    "#### Creating Dictionaries of Unknown Structure (Exercise)"
   ]
  },
  {
   "cell_type": "code",
   "execution_count": null,
   "id": "ffd5f190-0181-4c23-b1be-956c5bd12500",
   "metadata": {},
   "outputs": [],
   "source": [
    "# entries is a list of tuples, where a tuple looks like this:\n",
    "# (\"08/15/2016\", \"Jackson/Dearborn\", \"6919\")\n",
    "# This data can be obtained from some of the fields in data/cta_daily_station_totals.csv.\n",
    "# We need fields 2, 1, and 4 from the CSV file to get the data; these\n",
    "# are stop, date, riders.\n",
    "data_file_path = \"cta_daily_station_totals.csv\"\n",
    "with open(data_file_path, newline=\"\") as data_file:\n",
    "    csv_reader = csv.reader(data_file)\n",
    "    header = next(csv_reader)\n",
    "    entries = [(x[2], x[1], int(x[4])) for x in csv_reader]\n",
    "print(header)\n",
    "print(len(entries))\n",
    "print(entries[:5])\n",
    "print()\n",
    "\n",
    "# For each stop, record the date and the number of riders in a list\n",
    "# of tuples. This part of the exercise does not use defaultdict.\n",
    "ridership = {}\n",
    "for date, stop, riders in entries:\n",
    "    if date not in ridership:\n",
    "        ridership[date] = []\n",
    "    ridership[date].append((stop, riders))\n",
    "print(ridership[\"03/09/2016\"])\n",
    "print()"
   ]
  },
  {
   "cell_type": "markdown",
   "id": "684d777a-086b-4c99-af38-04074e579d93",
   "metadata": {},
   "source": [
    "#### Safely Appending to a Key's Value List Using defaultdict (Exercise)"
   ]
  },
  {
   "cell_type": "code",
   "execution_count": null,
   "id": "a2accd1d-a51c-464d-89b7-117c8dd59255",
   "metadata": {},
   "outputs": [],
   "source": [
    "# This time, use a defaultdict to initialize values for new keys.\n",
    "# The result is identical to what we did above.\n",
    "# When creating a defaultdict, pass it the type you want the value\n",
    "# to have, such as list, tuple, set, int, str, dict, or any other\n",
    "# valid type object.\n",
    "ridership = defaultdict(list)\n",
    "for date, stop, riders in entries:\n",
    "    ridership[date].append((stop, riders))\n",
    "print(ridership[\"03/09/2016\"])\n",
    "print()\n",
    "\n",
    "# OK, that wasn't the exercise. This course needed an editor.\n",
    "# Build a dict where the key is stop and the value is a list of riders.\n",
    "# Print the first 10 items in the dict. Since this output is very large,\n",
    "# print the number of riders values for each stop.\n",
    "ridership = defaultdict(list)\n",
    "for _, stop, riders in entries:\n",
    "    ridership[stop].append(riders)\n",
    "#print(list(ridership.items())[:10])\n",
    "for stop in list(ridership.keys())[:10]:\n",
    "    print(stop, len(ridership[stop]))"
   ]
  },
  {
   "cell_type": "markdown",
   "id": "51337585-2911-4370-9347-e62156af4a9a",
   "metadata": {},
   "source": [
    "### collections.OrderedDict\n",
    "\n",
    "Dictionaries are ordered in Python 3.6 and later, reducing the need for this class.\n",
    "\n",
    "```Python\n",
    "from collections import OrderedDict\n",
    "nyc_eatery_permits = OrderedDict()\n",
    "for eatery in nyc_eateries:\n",
    "    nyc_eatery_permits[eatery[\"end_date\"]] = eatery\n",
    "print(list(nyc_eatery_permits.items())[:3])\n",
    "```\n",
    "\n",
    "The `.popitem()` method of a dict object returns items in LIFO (last in first out) order. The `.popitem()` method of an OrderedDict object returns items in LIFO order by default; use `.popitem(last=False)` to return items in FIFO (first in first out) order.\n",
    "\n",
    "```Python\n",
    "print(nyc_eatery_permits.popitem())\n",
    "print(nyc_eatery_permits.popitem(last=False))\n",
    "```"
   ]
  },
  {
   "cell_type": "markdown",
   "id": "f679bd7c-d05c-478c-ae5c-27d544b7d144",
   "metadata": {},
   "source": [
    "#### Working with Ordered Dictionaries (Exercise)"
   ]
  },
  {
   "cell_type": "code",
   "execution_count": null,
   "id": "f081c87b-9b37-491a-8de0-9b5f0fe9a70d",
   "metadata": {},
   "outputs": [],
   "source": [
    "# This version uses the entries variable from above, which contains values\n",
    "# for date, stop, and riders.\n",
    "ridership_date = OrderedDict()\n",
    "for date, _, riders in entries:\n",
    "    if date not in ridership_date:\n",
    "        ridership_date[date] = 0\n",
    "    ridership_date[date] += riders\n",
    "print(list(ridership_date.items())[:31])"
   ]
  },
  {
   "cell_type": "markdown",
   "id": "b8ae671a-ccb3-4e15-a5c6-246889c1d5f5",
   "metadata": {},
   "source": [
    "#### Ordered Popping (Exercise)"
   ]
  },
  {
   "cell_type": "code",
   "execution_count": null,
   "id": "a1682682-3ee5-40c3-8685-7fbaf33cadd7",
   "metadata": {},
   "outputs": [],
   "source": [
    "# Powerful ordered popping. Popping removes a key and value from the\n",
    "# dictionary and returns them as a tuple.\n",
    "# Print the first key.\n",
    "print(list(ridership_date.keys())[0])\n",
    "# Pop an item in FIFO order.\n",
    "print(ridership_date.popitem(last=False))\n",
    "# Print the last key.\n",
    "print(list(ridership_date.keys())[-1])\n",
    "# Pop an item in LIFO order.\n",
    "print(ridership_date.popitem())"
   ]
  },
  {
   "cell_type": "markdown",
   "id": "3edb9115-e0b8-47f3-bd61-f587752fc70d",
   "metadata": {},
   "source": [
    "### collections.namedtuple\n",
    "\n",
    "See https://docs.python.org/3/library/collections.html#collections.namedtuple. See also Python Cookbook, Section 1.18.\n",
    "\n",
    "A namedtuple can be used to create lightweight class objects. These objects are immutable (since they are subclasses of the tuple class). To change an attribute, use .replace(), which creates and returns a new namedtuple object.\n",
    "\n",
    "A namedtuple is a tuple where each position (column) has a name. This is a container alternative to a dict or to a pandas DataFrame row.\n",
    "\n",
    "In this example, Eatery is a subclass named Eatery, and eateries is a dictionary; the class or subclass is used to create objects.\n",
    "\n",
    "#### Creating a Namedtuple (Example)\n",
    "\n",
    "```Python\n",
    "from collections import namedtuple\n",
    "Eatery = namedtuple(\"Eatery\", [\"name\", \"location\", \"park_id\", \"type_name\"])\n",
    "eateries = []\n",
    "for eatery in nyc_eateries:\n",
    "    details = Eatery(eatery[\"name\"],\n",
    "                     eatery[\"location\"],\n",
    "                     eatery[\"park_id\"],\n",
    "                     eatery[\"type_name\"])\n",
    "    eateries.append(details)\n",
    "print(eateries[0])\n",
    "```\n",
    "\n",
    "#### Using a Namedtuple (Example)\n",
    "\n",
    "Fields have names and are attributes. This makes code cleaner where you find yourself indexing a list or a tuple to get to fields of a data record. Each field is available as an attribute of the namedtuple.\n",
    "\n",
    "```Python\n",
    "for eatery in eateries:\n",
    "    print(eatery.name)\n",
    "    print(eatery.park_id)\n",
    "    print(eary.location)\n",
    "```"
   ]
  },
  {
   "cell_type": "markdown",
   "id": "ab8bad1b-8148-4540-a57f-ddf0d6e8bbd6",
   "metadata": {},
   "source": [
    "#### Creating Namedtuples for Storing Data (Exercise)"
   ]
  },
  {
   "cell_type": "code",
   "execution_count": null,
   "id": "d44d2ca6-9fa3-417a-bddd-da3c68dd61be",
   "metadata": {},
   "outputs": [],
   "source": [
    "# Use a namedtuple instead of a dict for storing data.\n",
    "DateDetails = namedtuple(\"DateDetails\", [\"date\", \"stop\", \"riders\"])\n",
    "print(type(DateDetails))\n",
    "print(DateDetails)\n",
    "labeled_entries = []\n",
    "for date, stop, riders in entries:\n",
    "    labeled_entries.append(DateDetails(date=date, stop=stop, riders=riders))\n",
    "print(type(labeled_entries[0]))\n",
    "print(labeled_entries[:5])\n",
    "print(len(labeled_entries))"
   ]
  },
  {
   "cell_type": "code",
   "execution_count": null,
   "id": "8f41944d-6dfa-4b3a-9328-4db4780fd240",
   "metadata": {},
   "outputs": [],
   "source": [
    "# Repeat creating namedtuple objects without using key word arguments.\n",
    "# Show that labeled_entries and labeled_entries2 contain the same data.\n",
    "labeled_entries2 = []\n",
    "for entry in entries:\n",
    "    labeled_entries2.append(DateDetails(*entry))\n",
    "print(labeled_entries2[:5])\n",
    "print(labeled_entries == labeled_entries2)"
   ]
  },
  {
   "cell_type": "markdown",
   "id": "bb015cc0-f16d-441c-b4ed-e95cdf2ff0b7",
   "metadata": {},
   "source": [
    "#### Using Attributes of Namedtuples (Exercise)"
   ]
  },
  {
   "cell_type": "code",
   "execution_count": null,
   "id": "63b89e85-6fda-48a1-9c72-4a6c6aceb2a5",
   "metadata": {},
   "outputs": [],
   "source": [
    "# How to access attributes of a namedtuple object.\n",
    "for item in labeled_entries[:20]:\n",
    "    print(item.stop)\n",
    "    print(item.date)\n",
    "    print(item.riders)"
   ]
  },
  {
   "cell_type": "markdown",
   "id": "34a57345-1c39-46ca-bc26-437d2c490061",
   "metadata": {},
   "source": [
    "#### Loading CSV Data into Namedtuple Objects (Extra)"
   ]
  },
  {
   "cell_type": "code",
   "execution_count": null,
   "id": "1d1f146a-0913-4f4c-a55f-a844a8836bac",
   "metadata": {},
   "outputs": [],
   "source": [
    "# Here's code that reads the CSV file and returns a list of namedtuple objects.\n",
    "# I have replicated Python Cookbook section 6.1 here.\n",
    "# Convert the rides value from a string to an int.\n",
    "data_file_path = \"cta_daily_station_totals.csv\"\n",
    "with open(data_file_path, newline=\"\") as data_file:\n",
    "    csv_reader = csv.reader(data_file)\n",
    "    header = next(csv_reader)\n",
    "    print(header)\n",
    "    DailyTotal = namedtuple(\"DailyTotal\", header)\n",
    "    entries2 = [DailyTotal(row[0], row[1], row[2], row[3], int(row[4])) for row in csv_reader]\n",
    "print(len(entries2))\n",
    "print(entries2[:5])"
   ]
  },
  {
   "cell_type": "markdown",
   "id": "1cc39c8e-c56b-4c4c-9ee7-6e2296627221",
   "metadata": {},
   "source": [
    "## Handling Dates and Times\n",
    "\n",
    "See https://docs.python.org/3.8/library/datetime.html#strftime-strptime-behavior. I had a lot of trouble with time zones when I worked through this chapter the first time. From my notes in 2020:\n",
    "\n",
    "> pytz doesn't do what's expected, and it corrupts datetime objects if you don't use the timezone objects correctly. The course teaches the wrong way to do things. You get funny UTC offsets, and then you get odd times when you convert to other timezones, because pytz uses historical timezones as the default (so stupid!).\n",
    "\n",
    "See also https://stackoverflow.com/questions/13866926/is-there-a-list-of-pytz-timezones, where people blame the API of pytz and the implementation of datetime.datetime for the problems I and others have observed. And see https://stackoverflow.com/questions/11473721/weird-timezone-issue-with-pytz/11474330. And see https://yongweiwu.wordpress.com/2019/09/01/time-zones-in-python/.\n",
    "\n",
    "Python 3.9 added the zoneinfo module; see https://docs.python.org/3/library/zoneinfo.html."
   ]
  },
  {
   "cell_type": "markdown",
   "id": "6a89dd94-e318-4cf0-8049-8f0be4dc693a",
   "metadata": {},
   "source": [
    "### The datetime Module\n",
    "\n",
    "#### Parsing Strings into Datetimes (Example)"
   ]
  },
  {
   "cell_type": "code",
   "execution_count": null,
   "id": "65723da8-cbcd-4a06-8017-8492ecb6334d",
   "metadata": {},
   "outputs": [],
   "source": [
    "# strptime stands for string parse time.\n",
    "# strftime stands for string format time.\n",
    "parking_violations_date = \"06/11/2016\"\n",
    "print(parking_violations_date)\n",
    "date = datetime.datetime.strptime(parking_violations_date, \"%m/%d/%Y\")\n",
    "print(type(date))\n",
    "print(date)"
   ]
  },
  {
   "cell_type": "markdown",
   "id": "98b04c8e-ea42-4cdb-a821-4d7cfa5e6a04",
   "metadata": {},
   "source": [
    "#### Date to String (Example)"
   ]
  },
  {
   "cell_type": "code",
   "execution_count": null,
   "id": "20ef3ba6-f8bb-45f9-89ec-3e2e43dc00c9",
   "metadata": {},
   "outputs": [],
   "source": [
    "# Convert a datetime.datetime object into a string.\n",
    "print(date.strftime(\"%m/%d/%Y\"))\n",
    "print(date.isoformat())\n",
    "# Create a string for use with MySQL.\n",
    "print(date.isoformat(sep=\" \"))"
   ]
  },
  {
   "cell_type": "markdown",
   "id": "e36b78d3-122d-428b-8cdf-abe54743e1cc",
   "metadata": {},
   "source": [
    "#### Strings to `datetime` Objects (Exercise)"
   ]
  },
  {
   "cell_type": "code",
   "execution_count": null,
   "id": "0e7babfc-5421-4b91-bca0-5099d030f65a",
   "metadata": {},
   "outputs": [],
   "source": [
    "# Convert strings to datetime objects. I copied the input strings from\n",
    "# the DataCamp console. To support the exercise after this, collect the\n",
    "# datetime objects into a new list, datetimes_list.\n",
    "dates_list = ['02/19/2001',\n",
    "             '04/10/2001',\n",
    "             '05/30/2001',\n",
    "             '07/19/2001',\n",
    "             '09/07/2001',\n",
    "             '10/27/2001',\n",
    "             '12/16/2001',\n",
    "             '02/04/2002',\n",
    "             '03/26/2002',\n",
    "             '05/15/2002',\n",
    "             '07/04/2002',\n",
    "             '08/23/2002',\n",
    "             '10/12/2002',\n",
    "             '12/01/2002',\n",
    "             '01/20/2003',\n",
    "             '03/11/2003',\n",
    "             '04/30/2003',\n",
    "             '06/19/2003',\n",
    "             '08/08/2003',\n",
    "             '09/27/2003',\n",
    "             '11/16/2003',\n",
    "             '01/05/2004',\n",
    "             '02/24/2004',\n",
    "             '04/14/2004',\n",
    "             '06/03/2004',\n",
    "             '07/23/2004',\n",
    "             '09/11/2004',\n",
    "             '10/31/2004',\n",
    "             '12/20/2004',\n",
    "             '02/08/2005',\n",
    "             '03/30/2005',\n",
    "             '05/19/2005',\n",
    "             '07/08/2005',\n",
    "             '08/27/2005',\n",
    "             '10/16/2005',\n",
    "             '12/05/2005',\n",
    "             '01/24/2006',\n",
    "             '03/15/2006',\n",
    "             '05/04/2006',\n",
    "             '06/23/2006',\n",
    "             '08/12/2006',\n",
    "             '10/01/2006',\n",
    "             '11/20/2006',\n",
    "             '01/09/2007',\n",
    "             '02/28/2007',\n",
    "             '04/19/2007',\n",
    "             '06/08/2007',\n",
    "             '07/28/2007',\n",
    "             '09/16/2007',\n",
    "             '11/05/2007',\n",
    "             '12/25/2007',\n",
    "             '02/13/2008',\n",
    "             '04/03/2008',\n",
    "             '05/23/2008',\n",
    "             '07/12/2008',\n",
    "             '08/31/2008',\n",
    "             '10/20/2008',\n",
    "             '12/09/2008',\n",
    "             '01/28/2009',\n",
    "             '03/19/2009',\n",
    "             '05/08/2009',\n",
    "             '06/27/2009',\n",
    "             '08/16/2009',\n",
    "             '10/05/2009',\n",
    "             '11/24/2009',\n",
    "             '01/13/2010',\n",
    "             '03/04/2010',\n",
    "             '04/23/2010',\n",
    "             '06/12/2010',\n",
    "             '08/01/2010',\n",
    "             '09/20/2010',\n",
    "             '11/09/2010',\n",
    "             '12/29/2010',\n",
    "             '02/17/2011',\n",
    "             '04/08/2011',\n",
    "             '05/28/2011',\n",
    "             '07/17/2011',\n",
    "             '09/05/2011',\n",
    "             '10/24/2011',\n",
    "             '11/12/2011',\n",
    "             '01/01/2012',\n",
    "             '02/20/2012',\n",
    "             '04/10/2012',\n",
    "             '05/30/2012',\n",
    "             '07/19/2012',\n",
    "             '09/07/2012',\n",
    "             '10/27/2012',\n",
    "             '12/16/2012',\n",
    "             '02/04/2013',\n",
    "             '03/26/2013',\n",
    "             '05/15/2013',\n",
    "             '07/04/2013',\n",
    "             '08/23/2013',\n",
    "             '10/12/2013',\n",
    "             '12/01/2013',\n",
    "             '01/20/2014',\n",
    "             '03/11/2014',\n",
    "             '04/30/2014',\n",
    "             '06/19/2014',\n",
    "             '08/08/2014',\n",
    "             '09/27/2014',\n",
    "             '11/16/2014',\n",
    "             '07/05/2014',\n",
    "             '01/24/2015',\n",
    "             '03/15/2015',\n",
    "             '05/04/2015',\n",
    "             '06/23/2015',\n",
    "             '08/12/2015',\n",
    "             '10/01/2015',\n",
    "             '11/20/2015',\n",
    "             '01/09/2016',\n",
    "             '02/28/2016',\n",
    "             '04/18/2016',\n",
    "             '06/07/2016',\n",
    "             '07/27/2016',\n",
    "             '09/15/2016',\n",
    "             '11/04/2016']\n",
    "datetimes_list = []\n",
    "for date_str in dates_list[:5]:\n",
    "    date_dt = datetime.datetime.strptime(date_str, \"%m/%d/%Y\")\n",
    "    print(date_dt)\n",
    "    datetimes_list.append(date_dt)"
   ]
  },
  {
   "cell_type": "markdown",
   "id": "eac7a0cf-e53b-4448-b3dc-a911c3f5015f",
   "metadata": {},
   "source": [
    "#### `datetime` Objects to Strings (Exercise)"
   ]
  },
  {
   "cell_type": "code",
   "execution_count": null,
   "id": "656d2d16-bf2b-402f-8cb6-fac33a1dee54",
   "metadata": {},
   "outputs": [],
   "source": [
    "# Convert a dateime object to a string.\n",
    "for item in datetimes_list:\n",
    "    print(item.strftime(\"%m/%d/%Y\"))\n",
    "    print(item.isoformat())"
   ]
  },
  {
   "cell_type": "markdown",
   "id": "1bd3de87-345b-4b1a-b63e-955d255a1d2d",
   "metadata": {},
   "source": [
    "### Working with datetime Components and Current Time\n",
    "\n",
    "#### Using Datetime components (Example)\n",
    "\n",
    "Dateime components (day, month, year, hour, minute, second) are great for grouping data.\n",
    "\n",
    "Here, given NYC parking violations data, count the number of violations for each day of the month. Sort the days of the month and print the number of violations.\n",
    "\n",
    "```Python\n",
    "daily_violations = defaultdict(int)\n",
    "for violation in parking_violations:\n",
    "    violation_date = datetime.datetime.strptime(violation[4], \"%m/%d/%Y\")\n",
    "    daily_violations[violation_date.day] += 1\n",
    "print(sorted(daily_violations.items()))\n",
    "print(sorted(daily_violations.items(), key=lambda x: x[0]))\n",
    "```"
   ]
  },
  {
   "cell_type": "markdown",
   "id": "137f0726-d664-4819-a2fc-6697f4489f47",
   "metadata": {},
   "source": [
    "#### Sorting a List of Tuples (Extra)\n",
    "\n",
    "What is the behavior of `sorted`() when sorting a list of tuples? See https://docs.python.org/3/howto/sorting.html and https://docs.python.org/3/reference/expressions.html#value-comparisons.\n",
    "\n",
    "Sorting uses an object's `__lt__` method. Generally, `sorted` needs a key to sort on:\n",
    "\n",
    "```Python\n",
    "mysortedlist = sorted(mylist, key=lambda tup: tup[1])\n",
    "```\n",
    "\n",
    "Without a key, tuples are compared item by item."
   ]
  },
  {
   "cell_type": "code",
   "execution_count": null,
   "id": "7b9a5935-b561-4775-bf87-632ffdaa29f4",
   "metadata": {},
   "outputs": [],
   "source": [
    "# Experiment with sorting.\n",
    "daily_violations = {31: 44125, 15: 99122, 1: 80986}\n",
    "print(sorted(daily_violations.items()))\n",
    "# Here's a better key for the sorting. The key must be a\n",
    "# callable that takes one argument and returns one value.\n",
    "# The value returned can be a tuple.\n",
    "print(sorted(daily_violations.items(), key=lambda x: x[0]))\n",
    "# Sort by multiple keys\n",
    "print(sorted(daily_violations.items(), key=lambda x: (x[0], x[1])))\n",
    "# Reverse the keys.\n",
    "print(sorted(daily_violations.items(), key=lambda x: (x[1], x[0])))\n",
    "# reverse sort using only one key\n",
    "print(sorted(daily_violations.items(), key=lambda x: x[0], reverse=True))"
   ]
  },
  {
   "cell_type": "markdown",
   "id": "785c2c4a-58e7-4018-9d1d-9bcec42d7e3a",
   "metadata": {},
   "source": [
    "#### Getting the Current Time (Example)\n",
    "\n",
    "Working with timezones is problematic. See https://pypi.org/project/pytz/ and https://docs.python.org/3/library/datetime.html#datetime-objects.\n",
    "\n",
    "The best way to do this is to use the pytz module, but use only the `.localize()` and `.astimezone()` methods, as documented, to add timezone information to a datetime.datetime object. DO NOT set the tzinfo attribute directly, since this does not work!\n",
    "\n",
    "Do not call datetime.datetime.utcnow() to get the current UTC time. Call datetime.datetime.now(), localize it, and call .astimezone(pytz.utc) to set its timezone to UTC."
   ]
  },
  {
   "cell_type": "markdown",
   "id": "bc758c98-116b-4771-b3cd-3b6ca2b107f0",
   "metadata": {},
   "source": [
    "#### Getting the Current Time (Example)"
   ]
  },
  {
   "cell_type": "code",
   "execution_count": null,
   "id": "3cfbb260-8955-4295-872d-6a4d04154d7f",
   "metadata": {},
   "outputs": [],
   "source": [
    "# Get the current local time and the current UTC time.\n",
    "local_dt = datetime.datetime.now()\n",
    "print(local_dt)\n",
    "utc_dt = datetime.datetime.utcnow()\n",
    "print(utc_dt)"
   ]
  },
  {
   "cell_type": "markdown",
   "id": "0830abea-d4ac-4a1b-9cf3-b52d71b6ddd2",
   "metadata": {},
   "source": [
    "#### Getting a Timezone-Aware Current Time (Extra)\n",
    "\n",
    "Big digression."
   ]
  },
  {
   "cell_type": "code",
   "execution_count": null,
   "id": "543d5f63-bd42-4860-89f2-839c2536cdeb",
   "metadata": {},
   "outputs": [],
   "source": [
    "# Get a timezone-aware local time using pytz. This requires knowing the\n",
    "# local time zone.\n",
    "dt_now = datetime.datetime.now()\n",
    "dt_now_local = pytz.timezone('US/Eastern').localize(dt_now)\n",
    "dt_now_utc = dt_now_local.astimezone(pytz.UTC)\n",
    "print(dt_now)\n",
    "print(dt_now_local)\n",
    "print(dt_now_utc)"
   ]
  },
  {
   "cell_type": "code",
   "execution_count": null,
   "id": "23cda50b-fed3-44bd-bfc2-bf0bb595f568",
   "metadata": {},
   "outputs": [],
   "source": [
    "# From https://stackoverflow.com/questions/1111056/get-time-zone-information-of-the-system-in-python\n",
    "# This works correctly without needing to know the current timezone, but\n",
    "# the name of the timezone is not in pytz.\n",
    "dt_now3 = datetime.datetime.now().astimezone(None)\n",
    "print(dt_now3)\n",
    "print(dt_now3.tzinfo)\n",
    "print(dt_now3.tzname())\n",
    "print(dt_now3.isoformat())\n",
    "print()\n",
    "\n",
    "dt_utc3 = dt_now3.astimezone(datetime.timezone.utc)\n",
    "print(dt_utc3)\n",
    "print(dt_utc3.tzinfo)\n",
    "print(dt_utc3.tzname())\n",
    "print(dt_utc3.isoformat())\n",
    "print()\n",
    "\n",
    "# Get the UTC offset for local time and use it to convert\n",
    "# a recorded time to local time. I don't know if this works\n",
    "# correctly for DST.\n",
    "utcoffset = dt_now3.tzinfo.utcoffset(dt_now3)\n",
    "print(utcoffset)\n",
    "print()\n",
    "\n",
    "converted_now3 = dt_now3.astimezone(datetime.timezone(utcoffset))\n",
    "print(converted_now3)\n",
    "print(converted_now3.tzname())"
   ]
  },
  {
   "cell_type": "markdown",
   "id": "d4859abd-1d0d-4ebc-9108-24452178dd48",
   "metadata": {},
   "source": [
    "#### Conversions That Don't Work Correctly (Extra)\n",
    "\n",
    "These conversions are wrong! I'm saving these here to document examples that fail."
   ]
  },
  {
   "cell_type": "code",
   "execution_count": null,
   "id": "842f37a5-7088-41d2-b8aa-cf304b23a415",
   "metadata": {},
   "outputs": [],
   "source": [
    "# This sets the wrong time.\n",
    "dt_utc2 = datetime.datetime.utcnow().astimezone()\n",
    "print(dt_utc2)\n",
    "print(dt_utc2.tzinfo)\n",
    "print(dt_utc2.tzname())\n",
    "print()\n",
    "\n",
    "# This returns the wrong time.\n",
    "dt_utc4 = datetime.datetime.utcnow()\n",
    "print(dt_utc4)\n",
    "dt_utc4 = dt_utc4.astimezone(pytz.UTC)\n",
    "print(dt_utc4)\n",
    "print(dt_utc4.tzinfo)\n",
    "print(dt_utc4.tzname())\n",
    "print()\n",
    "\n",
    "# This returns the wrong time.\n",
    "dt_utc5 = datetime.datetime.utcnow().astimezone(datetime.timezone.utc)\n",
    "print(dt_utc5)\n",
    "print(dt_utc5.tzinfo)\n",
    "print(dt_utc5.tzname())\n",
    "print()"
   ]
  },
  {
   "cell_type": "markdown",
   "id": "df6d8a44-7e70-41f2-9366-71a575a55e13",
   "metadata": {},
   "source": [
    "#### More Conversions (Extra)"
   ]
  },
  {
   "cell_type": "code",
   "execution_count": null,
   "id": "9d41c8c1-b69d-4e46-8f89-37e0f2a463fe",
   "metadata": {},
   "outputs": [],
   "source": [
    "# The .now() method returns the current local datetime as a naive object\n",
    "# having no timezone information.\n",
    "print(\"datetime.datetime.now() [naive]...\")\n",
    "now = datetime.datetime.now()\n",
    "print(now)\n",
    "print(now.isoformat())\n",
    "print(now.isoformat(sep=\" \"))\n",
    "print(now.tzinfo)\n",
    "print()\n",
    "\n",
    "# The .utcnow() method returns the current UTC datetime as a naive object\n",
    "# having no timezone information.\n",
    "print(\"datetime.datetime.utcnow() [naive]...\")\n",
    "utcnow = datetime.datetime.utcnow()\n",
    "print(utcnow)\n",
    "print(utcnow.isoformat())\n",
    "print(utcnow.tzinfo)\n",
    "print()\n",
    "\n",
    "# How to get an aware datetime.\n",
    "# Note we call datetime.datetime.now(), passing timezone\n",
    "# information to get the equivalent of an aware utcnow value.\n",
    "print(\"datetime.datetime.now() [aware]...\")\n",
    "utcnow2 = datetime.datetime.now(datetime.timezone.utc)\n",
    "print(utcnow2)\n",
    "print(utcnow2.isoformat())\n",
    "print(utcnow2.tzinfo)\n",
    "print(type(utcnow2.tzinfo))\n",
    "print(utcnow2.tzinfo.utcoffset(utcnow2))\n",
    "print()\n",
    "\n",
    "# How to get an aware datetime using pytz.\n",
    "print(\"datetime.datetime.utcnow() [aware]...\")\n",
    "utcnow3 = datetime.datetime.utcnow()\n",
    "utcnow3 = pytz.utc.localize(utcnow3)\n",
    "print(utcnow3)\n",
    "print(utcnow3.isoformat())\n",
    "print(utcnow3.tzinfo)\n",
    "print(type(utcnow3.tzinfo))\n",
    "print(utcnow3.tzinfo.utcoffset(utcnow3))"
   ]
  },
  {
   "cell_type": "markdown",
   "id": "8c25056d-fbd2-45af-b1d9-cf9ff9b93d52",
   "metadata": {},
   "source": [
    "#### Timezones (Example)\n",
    "\n",
    "We return to the course presentation here.\n",
    "\n",
    "Naive datetime objects have no timezone data; aware objects have a timezone.\n",
    "\n",
    "Timezone data is available via the pytz module via the timezone object. pytz needs to be installed; it is not part of the core installation.\n",
    "\n",
    "Aware objects have the .astimezone() method so you can get the time in another timezone. [Extra] In Python 3.9 or later you can call the .astimezone() method without passing a tzinfo object, in which case the local timezone is set. See https://docs.python.org/3/library/datetime.html#datetime.datetime.astimezone."
   ]
  },
  {
   "cell_type": "code",
   "execution_count": null,
   "id": "fe03904b-2802-409b-bba2-f107b2cea4a6",
   "metadata": {},
   "outputs": [],
   "source": [
    "# The slides are wrong. I reported this in 2020, and as of 2022-08-19,\n",
    "# the slides are still wrong.\n",
    "# I have spent hours and hours understanding how to do timezones correctly.\n",
    "\n",
    "# strptime() should use \"%m/%d/%Y %I:%M%p\" (\"%I\" instead of \"%H\").\n",
    "# From the documentation:\n",
    "# When used with the strptime() method, the %p directive only affects the\n",
    "# output hour field if the %I directive is used to parse the hour.\n",
    "\n",
    "# Running the code as given in slides 13 and 14 gives a different result.\n",
    "# The code below gives the correct result, knowing that the timezone for\n",
    "# the data is \"US/Eastern\" or \"North_America/New_York\".\n",
    "print(\"Create naive datetime object...\")\n",
    "record_dt = datetime.datetime.strptime(\"07/12/2016 04:39PM\", \"%m/%d/%Y %I:%M%p\")\n",
    "print(\"record_dt = {}\".format(record_dt))\n",
    "print(\"record_dt.tzinfo = {}\".format(record_dt.tzinfo))\n",
    "print()\n",
    "\n",
    "# Create timezone-aware objects. We know that the times were recorded in\n",
    "# New York City.\n",
    "print(\"Create aware datetime_objects...\")\n",
    "ny_tz = pytz.timezone(\"US/Eastern\")\n",
    "la_tz = pytz.timezone(\"US/Pacific\")\n",
    "# Convert naive datetime to aware datetime using localize().\n",
    "ny_dt = ny_tz.localize(record_dt)\n",
    "# Convert aware datetime to a different timezone using astimezone().\n",
    "la_dt = ny_dt.astimezone(la_tz)\n",
    "print(\"record_dt = {}\".format(record_dt))\n",
    "print(\"record_dt = {}\".format(record_dt.isoformat()))\n",
    "print(\"    ny_dt = {}\".format(ny_dt))\n",
    "print(\"            {}\".format(ny_dt.tzinfo))\n",
    "print(\"    la_dt = {}\".format(la_dt))\n",
    "print(\"            {}\".format(la_dt.tzinfo))"
   ]
  },
  {
   "cell_type": "markdown",
   "id": "43b8f05f-be90-43f2-8a7b-820046db4109",
   "metadata": {},
   "source": [
    "#### Grouping by Parts of a datetime Object (Exercise)"
   ]
  },
  {
   "cell_type": "code",
   "execution_count": null,
   "id": "7c1cf956-9101-4552-94af-4779e987140c",
   "metadata": {},
   "outputs": [],
   "source": [
    "# The course calls this exercise \"Pieces of Time\".\n",
    "\n",
    "# Read the data into objects. Let's use a namedtuple here!\n",
    "# I renamed entries to entries3 here to avoid problems with the\n",
    "# entries variable above.\n",
    "data_file_path = \"cta_daily_summary_totals.csv\"\n",
    "print(\"Reading data from {}...\".format(data_file_path))\n",
    "with open(data_file_path, newline=\"\") as data_file:\n",
    "    csv_reader = csv.reader(data_file)\n",
    "    header = next(csv_reader)\n",
    "    DailyTotal = namedtuple(\"DailyTotal\", header)\n",
    "    # Use a list comprehension to build the list.\n",
    "    entries3 = [DailyTotal(*row) for row in csv_reader]\n",
    "\n",
    "# Iterate through the objects representing the rows of data.\n",
    "# Convert the service_date attribute to a datetime object called service_dateime.\n",
    "print(\"Getting monthly total rides...\")\n",
    "monthly_total_rides = defaultdict(int)\n",
    "for entry in entries3:\n",
    "    service_datetime = datetime.datetime.strptime(entry.service_date, \"%m/%d/%Y\")\n",
    "    monthly_total_rides[service_datetime.month] += int(entry.total_rides)\n",
    "print(monthly_total_rides)"
   ]
  },
  {
   "cell_type": "markdown",
   "id": "9de55f23-faf5-4588-a8af-8e823ef850fe",
   "metadata": {},
   "source": [
    "#### Grouping by Parts of a datetime Object (Extra)\n",
    "\n",
    "Repeat the exercise, but convert the data as it's being read."
   ]
  },
  {
   "cell_type": "code",
   "execution_count": null,
   "id": "f8c4fcb8-a63a-473c-a73d-97fd3fbcfa8b",
   "metadata": {},
   "outputs": [],
   "source": [
    "# Repeat the exercise, converting the data as it's being read.\n",
    "print(\"Reading data from {}...\".format(data_file_path))\n",
    "with open(data_file_path, newline=\"\") as data_file2:\n",
    "    csv_reader2 = csv.reader(data_file2)\n",
    "    header = next(csv_reader2)\n",
    "    DailyTotal2 = namedtuple(\"DailyTotal\", header)\n",
    "    # Use a list comprehension to build the list.\n",
    "    entries4 = [\n",
    "        DailyTotal2(\n",
    "            datetime.datetime.strptime(row[0], \"%m/%d/%Y\"),\n",
    "            row[1],\n",
    "            row[2],\n",
    "            int(row[3]),\n",
    "            int(row[4])\n",
    "        ) for row in csv_reader2]\n",
    "# print(entries4)\n",
    "\n",
    "# Iterate through the objects to calculate the totals.\n",
    "print(\"Getting monthly total rides...\")\n",
    "monthly_total_rides2 = defaultdict(int)\n",
    "for entry in entries4:\n",
    "    # print(entry.service_date.month, entry.total_rides)\n",
    "    monthly_total_rides2[entry.service_date.month] += entry.total_rides\n",
    "\n",
    "# Show that the results are identical.\n",
    "# This doesn't work when using the defaultdict objects.\n",
    "print(dict(monthly_total_rides) == dict(monthly_total_rides2))"
   ]
  },
  {
   "cell_type": "markdown",
   "id": "092de159-0001-4bc6-b324-070c086a997f",
   "metadata": {},
   "source": [
    "#### Creating datetime Objects Now (Exercise)"
   ]
  },
  {
   "cell_type": "code",
   "execution_count": null,
   "id": "a35327fa-4954-4548-aa7e-78df24d41311",
   "metadata": {},
   "outputs": [],
   "source": [
    "# Get the current time.\n",
    "print()\n",
    "local_dt = datetime.datetime.now()\n",
    "print(local_dt)\n",
    "utc_dt = datetime.datetime.utcnow()\n",
    "print(utc_dt)"
   ]
  },
  {
   "cell_type": "markdown",
   "id": "fdff2e69-273e-4965-b9d4-c83c7d0056fd",
   "metadata": {},
   "source": [
    "#### Timezones (Exercise)\n",
    "\n",
    "The conversion documented by the course is not correct. This shows two ways how not to make aware datetime objects and finally a way to correctly make an aware datetime object."
   ]
  },
  {
   "cell_type": "code",
   "execution_count": null,
   "id": "122f3f55-bad2-4db9-9706-d33a1bdbdcb1",
   "metadata": {},
   "outputs": [],
   "source": [
    "# Note that the course's code corrupts the times because it uses\n",
    "# pytz incorrectly. This is because datetime.datetime and pytz do\n",
    "# not work as expected due to poor APIs.\n",
    "daily_summaries = [\n",
    "    (datetime.datetime(2001, 1, 1, 21, 36), '126455'),\n",
    "    (datetime.datetime(2001, 1, 2, 3, 0), '501952'),\n",
    "    (datetime.datetime(2001, 1, 3, 18, 29), '536432'),\n",
    "    (datetime.datetime(2001, 1, 4, 18, 53), '550011'),\n",
    "    (datetime.datetime(2001, 1, 5, 3, 10), '557917'),\n",
    "    (datetime.datetime(2001, 1, 6, 15, 53), '255356'),\n",
    "    (datetime.datetime(2001, 1, 7, 8, 18), '169825'),\n",
    "    (datetime.datetime(2001, 1, 8, 8, 56), '590706'),\n",
    "    (datetime.datetime(2001, 1, 9, 6, 0), '599905')\n",
    "]\n",
    "# Create pytz.timezone objects.\n",
    "chicago_usa_tz = pytz.timezone(\"US/Central\")\n",
    "ny_usa_tz = pytz.timezone(\"US/Eastern\")\n",
    "\n",
    "# Bad conversion using .replace():\n",
    "print(\"Bad conversion using .replace()...\")\n",
    "for orig_dt, ridership in daily_summaries:\n",
    "    # This does not work as expected.\n",
    "    # From the pytz documentation:\n",
    "    # Unfortunately using the tzinfo argument of the standard datetime\n",
    "    # constructors ‘’does not work’’ with pytz for many timezones.\n",
    "    chicago_dt = orig_dt.replace(tzinfo=chicago_usa_tz)\n",
    "    ny_dt = chicago_dt.astimezone(ny_usa_tz)\n",
    "    print('Original: %s, Chicago: %s, NY: %s, Ridership: %s' % (orig_dt, chicago_dt, ny_dt, ridership))\n",
    "print()\n",
    "\n",
    "# Bad conversion using .astimezone():\n",
    "print(\"Bad conversion using .astimezone()...\")\n",
    "# This uses the system time zone for the naive datetime object before the\n",
    "# conversion, which may give wrong results, as it does here when I'm\n",
    "# in the Eastern or Pacific time zones.\n",
    "for orig_dt, ridership in daily_summaries:\n",
    "    chicago_dt = orig_dt.astimezone(chicago_usa_tz)\n",
    "    ny_dt = chicago_dt.astimezone(ny_usa_tz)\n",
    "    print('Original: %s, Chicago: %s, NY: %s, Ridership: %s' % (orig_dt, chicago_dt, ny_dt, ridership))\n",
    "\n",
    "# Here's how it should be done.\n",
    "# This localizes the time to the Chicago time zone, then performs\n",
    "# the conversion.\n",
    "print()\n",
    "print(\"Good conversion using .localize()...\")\n",
    "for orig_dt, ridership in daily_summaries:\n",
    "    chicago_dt = chicago_usa_tz.localize(orig_dt)\n",
    "    ny_dt = chicago_dt.astimezone(ny_usa_tz)\n",
    "    print('Original: %s, Chicago: %s, NY: %s, Ridership: %s' % (orig_dt, chicago_dt, ny_dt, ridership))"
   ]
  },
  {
   "cell_type": "markdown",
   "id": "3844f46b-533b-4ff0-8306-84962509521e",
   "metadata": {},
   "source": [
    "### Adding and Subtracting Time"
   ]
  },
  {
   "cell_type": "markdown",
   "id": "c0ab55c7-70d4-4781-8449-a9b19e4e7169",
   "metadata": {},
   "source": [
    "#### Using timedelta (Example)"
   ]
  },
  {
   "cell_type": "code",
   "execution_count": null,
   "id": "bdfb017e-bbb8-4050-bdab-438b36cc06e0",
   "metadata": {},
   "outputs": [],
   "source": [
    "# Use the datetime.timedelta class to represent an amount of change in time.\n",
    "# Can add or subtract a set amount of time from a datetime object using\n",
    "# a timedelta object.\n",
    "flashback = datetime.timedelta(days=90)\n",
    "print(record_dt)\n",
    "print(record_dt - flashback)\n",
    "print(record_dt + flashback)"
   ]
  },
  {
   "cell_type": "markdown",
   "id": "eae3951d-c607-474d-a5d6-7e5472a9ec09",
   "metadata": {},
   "source": [
    "#### Datetime Differences (Example)"
   ]
  },
  {
   "cell_type": "code",
   "execution_count": null,
   "id": "bb7525f4-3524-40db-8ce0-eb65061c64be",
   "metadata": {},
   "outputs": [],
   "source": [
    "# Calculate datetime differences.\n",
    "# The course's example doesn't make sense since record2_dt should be later\n",
    "# than record_dt. I created a string to convert to record2_dt to get the\n",
    "# same answer as the course.\n",
    "record2_dt = datetime.datetime.strptime(\"07/12/2016 04:38:56PM\", \"%m/%d/%Y %I:%M:%S%p\")\n",
    "time_diff = record_dt - record2_dt\n",
    "print(type(time_diff)) # datetime.timedelta\n",
    "print(time_diff) # 0:00:04"
   ]
  },
  {
   "cell_type": "markdown",
   "id": "9f682c14-8df6-45e7-853a-36153ff3e2f6",
   "metadata": {},
   "source": [
    "#### Finding a Time in the Future and from the Past (Exercise)"
   ]
  },
  {
   "cell_type": "code",
   "execution_count": null,
   "id": "ccbf27de-4dc1-4739-858f-b4b53b8774be",
   "metadata": {},
   "outputs": [],
   "source": [
    "# Reuse entries4 from above. This is a namedtuple with the data converted\n",
    "# to the correct types.\n",
    "# entry.day_type contains the day type; entry.total_rides contains\n",
    "# total_ridership.\n",
    "# Build a dictionary with a datetime key and a value of a dictionary\n",
    "# with \"day_type\" and \"total_ridership\" keys.\n",
    "daily_summaries = {}\n",
    "for entry in entries4:\n",
    "    daily_summaries[entry.service_date] = \\\n",
    "        {\"day_type\": entry.day_type, \"total_ridership\": entry.total_rides}\n",
    "\n",
    "review_dates = [\n",
    "    datetime.datetime(2013, 12, 22, 0, 0),\n",
    "    datetime.datetime(2013, 12, 23, 0, 0),\n",
    "    datetime.datetime(2013, 12, 24, 0, 0),\n",
    "    datetime.datetime(2013, 12, 25, 0, 0),\n",
    "    datetime.datetime(2013, 12, 26, 0, 0),\n",
    "    datetime.datetime(2013, 12, 27, 0, 0),\n",
    "    datetime.datetime(2013, 12, 28, 0, 0),\n",
    "    datetime.datetime(2013, 12, 29, 0, 0),\n",
    "    datetime.datetime(2013, 12, 30, 0, 0),\n",
    "    datetime.datetime(2013, 12, 31, 0, 0)\n",
    "]\n",
    "\n",
    "glanceback = datetime.timedelta(days=30)\n",
    "for date in review_dates:\n",
    "    prior_period_dt = date - glanceback\n",
    "    print(\"Date: {}, Type: {}, Total Ridership: {}\".format(\n",
    "        date,\n",
    "        daily_summaries[date][\"day_type\"],\n",
    "        daily_summaries[date][\"total_ridership\"]))\n",
    "    print(\"Date: {}, Type: {}, Total Ridership: {}\".format(\n",
    "        prior_period_dt, \n",
    "        daily_summaries[prior_period_dt][\"day_type\"],\n",
    "        daily_summaries[prior_period_dt][\"total_ridership\"]))\n",
    "    print()"
   ]
  },
  {
   "cell_type": "markdown",
   "id": "2393b56c-edd8-4211-bf29-96e99f2daf59",
   "metadata": {},
   "source": [
    "#### Find Differences in datetimes (Exercise)"
   ]
  },
  {
   "cell_type": "code",
   "execution_count": null,
   "id": "11871a16-f8c8-4bfe-b3cc-251af4d28b5e",
   "metadata": {},
   "outputs": [],
   "source": [
    "# Build the zip object. This is truncated compared to the zip object\n",
    "# used in the course.\n",
    "start_dates = (\n",
    "    datetime.datetime(2001, 1, 30, 0, 0),\n",
    "    datetime.datetime(2001, 3, 31, 0, 0),\n",
    "    datetime.datetime(2001, 5, 30, 0, 0),\n",
    "    datetime.datetime(2001, 7, 29, 0, 0),\n",
    "    datetime.datetime(2001, 9, 27, 0, 0),\n",
    ")\n",
    "end_dates = (\n",
    "    datetime.datetime(2001, 3, 1, 0, 0),\n",
    "    datetime.datetime(2001, 4, 30, 0, 0),\n",
    "    datetime.datetime(2001, 6, 29, 0, 0),\n",
    "    datetime.datetime(2001, 8, 28, 0, 0),\n",
    "    datetime.datetime(2001, 10, 27, 0, 0)\n",
    ")\n",
    "date_ranges = zip(start_dates, end_dates)\n",
    "\n",
    "# Subtract one datetime object from another.\n",
    "for start_date, end_date in date_ranges:\n",
    "    print(end_date, start_date)\n",
    "    print(end_date - start_date)"
   ]
  },
  {
   "cell_type": "markdown",
   "id": "27897311-fbe2-4fd6-8d38-01db720ce64a",
   "metadata": {},
   "source": [
    "### Libraries for Date Manipulations\n",
    "\n",
    "This section was called \"HELP! Libraries to make it easier\" in the course.\n",
    "\n",
    "The pendulumn module (https://pypi.org/project/pendulum/) is a drop-in replacement for datetime except for some problems with MySQL and sqlite3 (which check for the type of a datetime object).\n",
    "\n",
    "The pendulum.parse() method does not require a format string for conversion, but it is limited to certain input formats."
   ]
  },
  {
   "cell_type": "markdown",
   "id": "7061265b-4681-4073-823c-8097b44f4647",
   "metadata": {},
   "source": [
    "#### Parsing Time with pendulum (Example)"
   ]
  },
  {
   "cell_type": "code",
   "execution_count": null,
   "id": "37110ff4-d344-454d-8c79-68d00699e9b8",
   "metadata": {},
   "outputs": [],
   "source": [
    "# I am replicating the example here.\n",
    "# I could not get pendulum.parse() to parse the datetime string, but\n",
    "# I did not know the original values of violation[4] and violation[5].\n",
    "violation = [\"\", \"\", \"\", \"\", \"6/11/2016\", \"2:38:00 P\"]\n",
    "occurred = violation[4] + \" \" + violation[5] + \"M\"\n",
    "print(occurred)\n",
    "occurred_dt = pendulum.from_format(occurred, \"M/DD/YYYY h:m:ss A\", tz=\"US/Eastern\")\n",
    "print(occurred_dt)\n",
    "print()\n",
    "\n",
    "# Parse works with ISO8601 strings.\n",
    "violation2 = [\"\", \"\", \"\", \"\", \"2016-06-11\", \"14:38:00\"]\n",
    "occurred2 = violation2[4] + \"T\" + violation2[5]\n",
    "print(occurred2)\n",
    "occurred2_dt = pendulum.parse(occurred2, tz=\"US/Eastern\")\n",
    "print(occurred2_dt)"
   ]
  },
  {
   "cell_type": "markdown",
   "id": "405c22c0-f77c-4f89-b25f-14f3db424de7",
   "metadata": {},
   "source": [
    "#### Converting Timezones with pendulum (Example)\n",
    "\n",
    "The `.in_timezone()` method converts a pendulum object to a desired timezone.\n",
    "\n",
    "The `.now()` method accepts a timezone you want the current time in."
   ]
  },
  {
   "cell_type": "code",
   "execution_count": null,
   "id": "802c8bf0-c7fe-4348-8adb-917b6fad8d6a",
   "metadata": {},
   "outputs": [],
   "source": [
    "# Recreate the data. The behavior on printing is very different from\n",
    "# the example presented in the movie.\n",
    "violation_dts = [\n",
    "    pendulum.parse(\"2016-06-11T14:38:00-04:00\"),\n",
    "    pendulum.parse(\"2016-06-25T14:09:00-04:00\"),\n",
    "    pendulum.parse(\"2016-01-04T09:52:00-05:00\"),\n",
    "]\n",
    "pprint.pprint(violation_dts)\n",
    "print()\n",
    "\n",
    "# Convert the datetimes to Japan time.\n",
    "for violation_dt in violation_dts:\n",
    "    print(violation_dt.in_timezone(\"Asia/Tokyo\"))\n",
    "print()\n",
    "\n",
    "# Get the current time in Tokyo.\n",
    "print(pendulum.now(\"Asia/Tokyo\"))"
   ]
  },
  {
   "cell_type": "markdown",
   "id": "f19d6913-bcc6-4dc8-8412-3611777f99a1",
   "metadata": {},
   "source": [
    "#### Humanizing Time Differences (Example)\n",
    "\n",
    "Pendulum provides methods for natural time differences."
   ]
  },
  {
   "cell_type": "code",
   "execution_count": null,
   "id": "785061e3-f908-49ca-a892-ff184f10b39b",
   "metadata": {},
   "outputs": [],
   "source": [
    "# Replicate the example.\n",
    "# Once again, my output doesn't match what is presented (sign difference).\n",
    "pdt1 = pendulum.parse(\"2016-04-26T07:09:00-04:00\")\n",
    "pdt2 = pendulum.parse(\"2016-04-23T07:49:00-04:00\")\n",
    "diff = pdt2 - pdt1\n",
    "print(diff)\n",
    "print(diff.in_words())\n",
    "print(diff.in_days())\n",
    "print(diff.in_hours())"
   ]
  },
  {
   "cell_type": "markdown",
   "id": "cef71d8c-006a-41c5-bb15-f534f1582338",
   "metadata": {},
   "source": [
    "#### Localizing Time with pendulum (Exercise)"
   ]
  },
  {
   "cell_type": "code",
   "execution_count": null,
   "id": "69da0a44-520b-43ca-b451-48c0206f5012",
   "metadata": {},
   "outputs": [],
   "source": [
    "# Create a now datetime for Tokyo: tokyo_dt\n",
    "tokyo_dt = pendulum.now(tz=\"Asia/Tokyo\")\n",
    "\n",
    "# Covert the tokyo_dt to Los Angeles: la_dt\n",
    "la_dt = tokyo_dt.in_timezone(\"America/Los_Angeles\")\n",
    "\n",
    "# Print the ISO 8601 string of la_dt\n",
    "print(la_dt)\n",
    "print(la_dt.to_iso8601_string())"
   ]
  },
  {
   "cell_type": "markdown",
   "id": "3caa4817-e2cd-4ca1-865c-1f2624f0872f",
   "metadata": {},
   "source": [
    "#### Humanizing Differences with pendulum (Exercise)"
   ]
  },
  {
   "cell_type": "code",
   "execution_count": null,
   "id": "82b4d127-7362-4824-bd9b-a487b1d67926",
   "metadata": {},
   "outputs": [],
   "source": [
    "# Replicate the data.\n",
    "start_dates = (\n",
    "    \"01/30/2001\",\n",
    "    \"03/31/2001\",\n",
    "    \"05/30/2001\",\n",
    "    \"07/29/2001\",\n",
    "    \"09/27/2001\"\n",
    ")\n",
    "end_dates = (\n",
    "    \"03/01/2001\",\n",
    "    \"04/30/2001\",\n",
    "    \"06/29/2001\",\n",
    "    \"08/28/2001\",\n",
    "    \"10/27/2001\"\n",
    ")\n",
    "date_ranges = zip(start_dates, end_dates)\n",
    "for start_date, end_date in date_ranges:\n",
    "    start_dt = pendulum.parse(start_date, strict=False)\n",
    "    end_dt = pendulum.parse(end_date, strict=False)\n",
    "    print(end_dt, start_dt)\n",
    "    diff_period = end_dt - start_dt\n",
    "    print(diff_period.in_days())    "
   ]
  },
  {
   "cell_type": "markdown",
   "id": "149cb4dc-4648-43dd-9a77-23d009c73320",
   "metadata": {},
   "source": [
    "## Answering Data Science Questions\n",
    "\n",
    "This chapter applies what we have learned to answering questions about the data for crime in Chicago.\n",
    "\n",
    "### Case Study - Counting Crimes\n",
    "\n",
    "Counting within date ranges.\n",
    "\n",
    "#### Dataset Overview\n",
    "\n",
    "The data is stored in a CSV file named crime_sampler.csv. The dataset has been shrunken to make it manageable. The full dataset is available on Chicago's Open Data Portal at https://data.cityofchicago.org/.\n",
    "\n",
    "The fields in the data file, crime_sampler.csv, are:\n",
    "| Field | Description |\n",
    "| :--- | :--- |\n",
    "| Date | datetime |\n",
    "| Block | block |\n",
    "| Primary Type | primary type of crime |\n",
    "| Description | description of the crime |\n",
    "| Location Description | description of the location |\n",
    "| Arrest | if an arrest was made (\"true\" or \"false\") |\n",
    "| Domestic | if the crime was a domestic case (\"true\" or \"false\") |\n",
    "| District | the city district number |\n",
    "\n",
    "What we're going to do is find the locations with the most crimes each month."
   ]
  },
  {
   "cell_type": "markdown",
   "id": "ab9c22c4-0ecf-4b1f-b095-ac63f5445123",
   "metadata": {},
   "source": [
    "#### Read Data and Establish Data Containers (Exercise)"
   ]
  },
  {
   "cell_type": "code",
   "execution_count": null,
   "id": "95b1728d-7672-4c34-96b5-3e47c253b2ea",
   "metadata": {},
   "outputs": [],
   "source": [
    "# Read the data. There is a header line and many rows of data.\n",
    "# This course does not use pandas.read_csv() to load the data into a\n",
    "# pandas DataFrame.\n",
    "# I made some revisions to this code.\n",
    "crime_data = []\n",
    "with open(\"crime_sampler.csv\", newline=\"\") as csvfile:\n",
    "    for row in csv.reader(csvfile):\n",
    "        # Keep data for the \"Date\", \"Primary Type\", \"Location Description\",\n",
    "        # and \"Arrest\" fields.\n",
    "        crime_data.append((row[0], row[2], row[4], row[5]))\n",
    "# Remove the header row.\n",
    "del crime_data[0]\n",
    "# crime_data.pop(0)\n",
    "print(crime_data[:10])"
   ]
  },
  {
   "cell_type": "markdown",
   "id": "a30c98d7-2ae9-4a10-b468-5ee2b72df838",
   "metadata": {},
   "source": [
    "#### Find the Months with the Highest Number of Crimes (Exercise)\n",
    "\n",
    "Use collections.Counter for counting."
   ]
  },
  {
   "cell_type": "code",
   "execution_count": null,
   "id": "9f42b8c5-4123-4b69-a754-af2ec5251c4e",
   "metadata": {},
   "outputs": [],
   "source": [
    "# Count the number of crimes per month, and print the months and\n",
    "# the number of crimes for the three months with the most crimes.\n",
    "crimes_by_month = Counter()\n",
    "for crime in crime_data:\n",
    "    date = datetime.datetime.strptime(crime[0], \"%m/%d/%Y %I:%M:%S %p\")\n",
    "    crimes_by_month[date.month] += 1\n",
    "print(crimes_by_month.most_common(3))"
   ]
  },
  {
   "cell_type": "markdown",
   "id": "402615a5-c27e-46ca-aadd-f45b9edcb9c6",
   "metadata": {},
   "source": [
    "#### Create Month and Location Data Containers (Exercise)\n",
    "\n",
    "Oh FFS, Jason changed the data structure of the crime_data variable!"
   ]
  },
  {
   "cell_type": "code",
   "execution_count": null,
   "id": "4a234b49-6e0b-4040-a035-91f52cab3f63",
   "metadata": {},
   "outputs": [],
   "source": [
    "# Build a data structure using a defaultdict with the keys being the\n",
    "# month number and the values being a list of crime locations.\n",
    "crime_data = []\n",
    "with open(\"crime_sampler.csv\", newline=\"\") as csvfile:\n",
    "    for row in csv.reader(csvfile):\n",
    "        crime_data.append(row)\n",
    "del crime_data[0]\n",
    "print(crime_data[:3])\n",
    "\n",
    "locations_by_month = defaultdict(list)\n",
    "for crime in crime_data:\n",
    "    date = datetime.datetime.strptime(crime[0], \"%m/%d/%Y %I:%M:%S %p\")\n",
    "    if date.year == 2016:\n",
    "        locations_by_month[date.month].append(crime[4])\n",
    "# Don't print the voluminous output.\n",
    "# print(locations_by_month)"
   ]
  },
  {
   "cell_type": "markdown",
   "id": "19d59dd5-1e19-4014-a27f-21b2e892d82a",
   "metadata": {},
   "source": [
    "#### Find the Most Common Crimes by Location Type by Month in 2016 (Exercise)\n",
    "\n",
    "For each month in 2016, we have a list of locations. Use collections.Counter\n",
    "to count the locations."
   ]
  },
  {
   "cell_type": "code",
   "execution_count": null,
   "id": "cb4ce556-e69b-465c-b922-00273bc64a3b",
   "metadata": {},
   "outputs": [],
   "source": [
    "for month, locations in locations_by_month.items():\n",
    "    location_count = Counter(locations)\n",
    "    print(month)\n",
    "    print(location_count.most_common(5))"
   ]
  },
  {
   "cell_type": "markdown",
   "id": "fae36515-90df-450b-8c91-f1f7ba278c08",
   "metadata": {},
   "source": [
    "### Case Study - Crimes by District and Differences by Block\n",
    "\n",
    "This exercise uses dictionaries with time windows for keys. We will figure out how many crimes occurred per district and how types of crimes differed between city blocks.\n",
    "\n",
    "Step 1: The code will use a csv.DictReader to read the data from the file. It will pop a key and its associated values from the dictionary as it works.\n",
    "\n",
    "Step 2: We will Pythonically iterate over the dictionary and use collections.Counter and collections.defaultdict to determine the number of arrests in each district for each year.\n",
    "\n",
    "Step 3: Finally, we will get a unique set of crimes for a block. We'll use the .difference() method to identify differences.\n",
    "\n",
    "In my opinion, this was poorly explained.\n",
    "\n",
    "#### Read Data with csv.DictReader and Create Data Containers (Exercise)"
   ]
  },
  {
   "cell_type": "code",
   "execution_count": null,
   "id": "c7099397-6bf5-4c80-8a2b-1e81e80163de",
   "metadata": {},
   "outputs": [],
   "source": [
    "crimes_by_district = defaultdict(list)\n",
    "with open(\"crime_sampler.csv\", newline=\"\") as csvfile:\n",
    "    for row in csv.DictReader(csvfile):\n",
    "        # We want to use the \"District\" field as the key for the rest of the\n",
    "        # data. This is where row.pop() is useful. We remove the district\n",
    "        # key and value from the dictionary and save the dictionary as the\n",
    "        # value associated with the key.\n",
    "        district = row.pop(\"District\")\n",
    "        crimes_by_district[district].append(row)"
   ]
  },
  {
   "cell_type": "markdown",
   "id": "023b0bc7-0417-4449-bfac-55cdcd79ad43",
   "metadata": {},
   "source": [
    "If I try to print the crimes_by_district dictionary, I get this error:\n",
    "\n",
    "```\n",
    "IOPub data rate exceeded.\n",
    "The Jupyter server will temporarily stop sending output\n",
    "to the client in order to avoid crashing it.\n",
    "To change this limit, set the config variable\n",
    "`--ServerApp.iopub_data_rate_limit`.\n",
    "\n",
    "Current values:\n",
    "ServerApp.iopub_data_rate_limit=1000000.0 (bytes/sec)\n",
    "ServerApp.rate_limit_window=3.0 (secs)\n",
    "```\n",
    "See https://stackoverflow.com/questions/52730839/how-do-i-change-notebookapp-iopub-data-rate-limit-for-jupyter"
   ]
  },
  {
   "cell_type": "code",
   "execution_count": null,
   "id": "28c5c5b0-6665-4fa3-9762-b09ad7fd5a2a",
   "metadata": {},
   "outputs": [],
   "source": [
    "print(crimes_by_district)"
   ]
  },
  {
   "cell_type": "markdown",
   "id": "5d74c8dc-ce39-4cef-b728-d310bd9af2ef",
   "metadata": {},
   "source": [
    "#### Determine the Arrests by District by Year (Exercise)\n",
    "\n",
    "This is Step 2 from above."
   ]
  },
  {
   "cell_type": "code",
   "execution_count": null,
   "id": "837893c8-ee67-455c-be8c-864e4f15186a",
   "metadata": {},
   "outputs": [],
   "source": [
    "for district, crimes in crimes_by_district.items():\n",
    "    print(district)\n",
    "    year_count = Counter()\n",
    "    for crime in crimes:\n",
    "        if crime[\"Arrest\"] == \"true\":\n",
    "            year = datetime.datetime.strptime(crime[\"Date\"], \"%m/%d/%Y %I:%M:%S %p\").year\n",
    "            year_count[year] += 1\n",
    "    print(year_count)"
   ]
  },
  {
   "cell_type": "markdown",
   "id": "7502f49e-3f3d-47e5-9130-ca5021054d38",
   "metadata": {},
   "source": [
    "#### Unique Crimes by City Block (Exercise)"
   ]
  },
  {
   "cell_type": "code",
   "execution_count": null,
   "id": "8ede0434-80be-4f52-a7ac-2c7ec6ced86e",
   "metadata": {},
   "outputs": [],
   "source": [
    "# This requires a dictionary for which the keys are blocks and the values are\n",
    "# a list of the crimes observed for the block.\n",
    "crimes_by_block = defaultdict(list)\n",
    "with open(\"crime_sampler.csv\", newline=\"\") as csvfile:\n",
    "    for row in csv.DictReader(csvfile):\n",
    "        block = row[\"Block\"]\n",
    "        crimes_by_block[block].append(row[\"Primary Type\"])\n",
    "# print(crimes_by_block)\n",
    "\n",
    "# Identify crime types that occurred on 001XX N State St but not\n",
    "# on 0000X W Terminal St.\n",
    "n_state_st_crimes = set(crimes_by_block[\"001XX N STATE ST\"])\n",
    "print(n_state_st_crimes)\n",
    "w_terminal_st_crimes = set(crimes_by_block[\"0000X W TERMINAL ST\"])\n",
    "print(w_terminal_st_crimes)\n",
    "crime_differences = n_state_st_crimes.difference(w_terminal_st_crimes)\n",
    "print(crime_differences)"
   ]
  },
  {
   "cell_type": "code",
   "execution_count": null,
   "id": "1e1eed46-a07c-4787-b73a-c12fbdb3707d",
   "metadata": {},
   "outputs": [],
   "source": []
  }
 ],
 "metadata": {
  "kernelspec": {
   "display_name": "Python 3 (ipykernel)",
   "language": "python",
   "name": "python3"
  },
  "language_info": {
   "codemirror_mode": {
    "name": "ipython",
    "version": 3
   },
   "file_extension": ".py",
   "mimetype": "text/x-python",
   "name": "python",
   "nbconvert_exporter": "python",
   "pygments_lexer": "ipython3",
   "version": "3.11.1"
  }
 },
 "nbformat": 4,
 "nbformat_minor": 5
}
