{
 "cells": [
  {
   "cell_type": "markdown",
   "id": "0886c854-1b41-4869-9991-bb3f57da8ceb",
   "metadata": {},
   "source": [
    "# Python Data Science Toolbox (Part 2)\n",
    "\n",
    "These are my notes for DataCamp's course [_Python Data Science Toolbox (Part 2)_](https://www.datacamp.com/courses/python-data-science-toolbox-part-2).\n",
    "\n",
    "This course is presented by Hugo Bowne-Anderson (former data scientist at DataCamp). Collaborators are Yashas Roy and Francisco Castro.\n",
    "\n",
    "Prerequisite:\n",
    "\n",
    "- [_Python Data Science Toolbox (Part 1)_](../Python%20Data%20Science%20Toolbox%20Part%201/Python%20Data%20Science%20Toolbox%20Part%201.ipynb)\n",
    "\n",
    "This course is part of these tracks:\n",
    "\n",
    "- Data Scientist with Python\n",
    "- Data Scientist Professional with Python\n",
    "- Python Fundamentals\n",
    "- Python Programmer\n",
    "\n",
    "## Data Sets\n",
    "\n",
    "| Name | File | Notes |\n",
    "|:---|:---|:---|\n",
    "| Tweets | tweets.csv | Scurrilous tweet data |\n",
    "| World Bank World Development Indicators | world_ind_pop_data.csv | Data from the World Bank |\n",
    "\n",
    "## Imports\n",
    "\n",
    "All imports are located here for convenience and clarity."
   ]
  },
  {
   "cell_type": "code",
   "execution_count": null,
   "id": "06ea900e-48a0-4f67-abb9-287c7f2e7e3c",
   "metadata": {},
   "outputs": [],
   "source": [
    "import csv\n",
    "import os\n",
    "\n",
    "import matplotlib.pyplot as plt\n",
    "import pandas as pd"
   ]
  },
  {
   "cell_type": "markdown",
   "id": "7c59da8c-7f77-4df5-93f1-7c85142921e5",
   "metadata": {},
   "source": [
    "## Using Iterators in PythonLand\n",
    "\n",
    "### Introduction to Iterators\n",
    "\n",
    "An iterable is an object that can return its members one at a time. See https://docs.python.org/3.10/glossary.html#term-iterable.\n",
    "\n",
    "An iterator is an object representing a stream of data. See https://docs.python.org/3.10/glossary.html#term-iterator. Many objects are already iterators. Create an iterator using Python's iter() function. See https://docs.python.org/3.10/library/functions.html#iter.\n",
    "\n",
    "For iterator types, see https://docs.python.org/3.10/library/stdtypes.html#typeiter.\n",
    "\n",
    "Call next() on the iterator to get the next member. If calling next() cannot return another value, the object raises a StopIteration exception."
   ]
  },
  {
   "cell_type": "code",
   "execution_count": null,
   "id": "3892dee9-0102-49ff-9fc6-ab50139474cb",
   "metadata": {},
   "outputs": [],
   "source": [
    "# A for loop allows iteration of an iterable.\n",
    "word1 = \"Data\"\n",
    "for letter in word1:\n",
    "    print(letter)"
   ]
  },
  {
   "cell_type": "code",
   "execution_count": null,
   "id": "1aa5be92-733a-44bf-8f17-f7818492c8f7",
   "metadata": {},
   "outputs": [],
   "source": [
    "# An iterator allows obtaining the next member using Python's next() builtin.\n",
    "# However,aA str object is an iterable but not an iterator.\n",
    "word2 = \"Da\"\n",
    "try:\n",
    "    print(next(word2))\n",
    "except Exception as ex:\n",
    "    print(\"Exception:\", ex)"
   ]
  },
  {
   "cell_type": "code",
   "execution_count": null,
   "id": "557c8e6c-ad55-4aa4-9dea-b2c5adec034a",
   "metadata": {},
   "outputs": [],
   "source": [
    "# Create an iterator for word.\n",
    "it = iter(word2) # class str_iterator\n",
    "print(type(it))\n",
    "try:\n",
    "    print(next(it))\n",
    "    print(next(it))\n",
    "    print(next(it)) # Raise exception\n",
    "except StopIteration as ex:\n",
    "    # This exception object has a single attribute value that defaults to None.\n",
    "    # Here it appears to be ''.\n",
    "    print(\"A StopIteration exception occurred: \" + str(ex) + \".\")"
   ]
  },
  {
   "cell_type": "code",
   "execution_count": null,
   "id": "d82ea8cd-e77d-48a2-ac08-f2215710457a",
   "metadata": {},
   "outputs": [],
   "source": [
    "# Obtain all values from the iterator with * (\"star\" or \"splat\").\n",
    "it = iter(word1)\n",
    "print(*it)\n",
    "# All values have been extracted from the iterator at this point.\n",
    "# Create a new iterator if you want to iterate again."
   ]
  },
  {
   "cell_type": "code",
   "execution_count": null,
   "id": "d6b2d8e4-8ffa-4a1e-9da0-56d98508482f",
   "metadata": {},
   "outputs": [],
   "source": [
    "# Extract all items into a list.\n",
    "it2 = iter(word1)\n",
    "letters = [*it2] # or letters = list(it2)\n",
    "print(type(letters))\n",
    "print(len(letters))\n",
    "print(letters)"
   ]
  },
  {
   "cell_type": "code",
   "execution_count": null,
   "id": "cbc4f9a3-4a14-45ef-9d3d-084c1c971abe",
   "metadata": {},
   "outputs": [],
   "source": [
    "it3 = iter(word1)\n",
    "letters = list(it3) # Not list(*it3)\n",
    "print(type(letters))\n",
    "print(len(letters))\n",
    "print(letters)"
   ]
  },
  {
   "cell_type": "code",
   "execution_count": null,
   "id": "86c2f224-5aba-4bba-a9d5-5f5914ef7417",
   "metadata": {},
   "outputs": [],
   "source": [
    "# Iterate over a dictionary using its methods.\n",
    "pythonistas = {\"hugo\": \"bowne-anderson\", \"francis\": \"castro\"}\n",
    "for key, value in pythonistas.items():\n",
    "    print(key, value)\n",
    "# An alternative way to iterate over a dict.\n",
    "for key in pythonistas.keys():\n",
    "    print(key, pythonistas[key])"
   ]
  },
  {
   "cell_type": "code",
   "execution_count": null,
   "id": "353109e3-953c-4399-bdb4-0b1d431b06fc",
   "metadata": {},
   "outputs": [],
   "source": [
    "# Read data from a file connection using its methods.\n",
    "with open(\"baseball.csv\") as file:\n",
    "    print(type(file)) # class _io.TextIoWrapper\n",
    "    # Read individual lines using either of these approaches.\n",
    "    print(file.readline())\n",
    "    print(next(file))\n",
    "    print(next(file))\n",
    "    # Read all remaining items to a list.\n",
    "    lines = file.readlines() # or: lines = list(file) or: lines = [*file]\n",
    "    print(type(lines))\n",
    "    print(len(lines))"
   ]
  },
  {
   "cell_type": "code",
   "execution_count": null,
   "id": "28216758-50c4-459f-b339-2a40e5d25618",
   "metadata": {},
   "outputs": [],
   "source": [
    "# Use a file connection as an iterator.\n",
    "with open(\"baseball.csv\") as file2:\n",
    "    data_lines2 = [*file2] # or data_lines2 = list(file2)\n",
    "    print(len(data_lines2))"
   ]
  },
  {
   "cell_type": "code",
   "execution_count": null,
   "id": "e2283eff-637a-4411-8309-239371b4db67",
   "metadata": {},
   "outputs": [],
   "source": [
    "# It is not necessary to call iter on a file connection.\n",
    "with open(\"baseball.csv\") as file3:\n",
    "    it3 = iter(file3)\n",
    "    print(type(it3)) # _io.TextIOWrapper (same as before)\n",
    "    # These don't work:\n",
    "    # data_lines = list(*it) # list expects one argument; use list(it)\n",
    "    # data_lines = tuple(*it) # list expects one argument; use tuple(it)\n",
    "    # data_lines = (*it) # cannot use starred expression here\n",
    "    data_lines3 = list(it3) # or data_lines3 = [*it]\n",
    "    print(len(data_lines3))"
   ]
  },
  {
   "cell_type": "code",
   "execution_count": null,
   "id": "a03ed2f9-b0a7-4e6d-bb3a-0660c69bb015",
   "metadata": {},
   "outputs": [],
   "source": [
    "# Copy the data into a tuple.\n",
    "with open(\"baseball.csv\") as file4:\n",
    "    data_lines4 = tuple(file4) # doesn't work: data_lines4 = (file4)\n",
    "    print(type(data_lines4))\n",
    "    print(len(data_lines4))"
   ]
  },
  {
   "cell_type": "markdown",
   "id": "493c4e6f-61a1-4b42-b62d-c877fc063612",
   "metadata": {},
   "source": [
    "#### Exercises"
   ]
  },
  {
   "cell_type": "code",
   "execution_count": null,
   "id": "f7281cd8-aa27-42b1-8cca-50e612a9ebd2",
   "metadata": {},
   "outputs": [],
   "source": [
    "# Iterating over iterables.\n",
    "flash = ['jay garrick', 'barry allen', 'wally west', 'bart allen']\n",
    "# Print each list item in flash using a for loop\n",
    "for person in flash:\n",
    "    print(person)\n",
    "\n",
    "# Create an iterator for flash: superhero\n",
    "superhero = iter(flash)\n",
    "# Print each item from the iterator\n",
    "print(next(superhero))\n",
    "print(next(superhero))\n",
    "print(next(superhero))\n",
    "print(next(superhero))"
   ]
  },
  {
   "cell_type": "code",
   "execution_count": null,
   "id": "8cbb1bf2-6564-4b7b-8352-c984fea22a01",
   "metadata": {},
   "outputs": [],
   "source": [
    "# Iterating over iterables (2).\n",
    "# A range is an interable but not an iterator. A range\n",
    "# is a generator that generates values as needed.\n",
    "# To iterate over a range when not in a for loop, call iter(range(...)).\n",
    "# Create an iterator for range(3): small_value\n",
    "small_value = iter(range(3))\n",
    "\n",
    "# Print the values in small_value\n",
    "print(next(small_value))\n",
    "print(next(small_value))\n",
    "print(next(small_value))\n",
    "\n",
    "# Loop over range(3) and print the values\n",
    "for num in range(3):\n",
    "    print(num)"
   ]
  },
  {
   "cell_type": "code",
   "execution_count": null,
   "id": "feb4908f-9e69-4ae5-8605-39a650cb882d",
   "metadata": {},
   "outputs": [],
   "source": [
    "# Create an iterator for range(10 ** 100): googol\n",
    "# This shows that an enormous range can be created without needing to\n",
    "# allocate massive amounts of memory.\n",
    "googol = iter(range(10 ** 100))\n",
    "\n",
    "# Print the first 5 values from googol\n",
    "print(next(googol))\n",
    "print(next(googol))\n",
    "print(next(googol))\n",
    "print(next(googol))\n",
    "print(next(googol))"
   ]
  },
  {
   "cell_type": "code",
   "execution_count": null,
   "id": "d8412e58-22d9-402d-8784-df68d0bee1bd",
   "metadata": {},
   "outputs": [],
   "source": [
    "# Iterators as function arguments.\n",
    "# Functions such as list and sum take iterators as arguments.\n",
    "values = range(10, 21)\n",
    "values_list = list(values)\n",
    "print(values_list)\n",
    "values_sum = sum(values)\n",
    "print(values_sum)"
   ]
  },
  {
   "cell_type": "markdown",
   "id": "a8266484-2847-4dd1-b2a2-61a3e3f0e96b",
   "metadata": {},
   "source": [
    "### Playing with Iterators\n",
    "\n",
    "#### enumerate()\n"
   ]
  },
  {
   "cell_type": "code",
   "execution_count": null,
   "id": "a6ebf786-3ab2-4b98-8c09-f84fc7f9471c",
   "metadata": {},
   "outputs": [],
   "source": [
    "# Enumerators are objects of class enumerate that return tuples with an index and a value.\n",
    "avengers = [\"hawkeye\", \"iron man\", \"thor\", \"quicksilver\"]\n",
    "e = enumerate(avengers)\n",
    "print(type(e))\n",
    "print(e)\n",
    "print(*e)"
   ]
  },
  {
   "cell_type": "code",
   "execution_count": null,
   "id": "0919f3c9-092f-4eb1-b214-7dec9256f8bd",
   "metadata": {},
   "outputs": [],
   "source": [
    "# Get the enumerated items in a list.\n",
    "e = enumerate(avengers)\n",
    "e_list = list(e)\n",
    "print(e_list)"
   ]
  },
  {
   "cell_type": "code",
   "execution_count": null,
   "id": "a86af4da-60c1-4498-be2c-9f7dfa15fab4",
   "metadata": {},
   "outputs": [],
   "source": [
    "# The enumerate object is also an iterable.\n",
    "# Use enumerate in a for loop:\n",
    "for index, item in enumerate(avengers):\n",
    "    print(str(index) + \": \" + str(item))"
   ]
  },
  {
   "cell_type": "code",
   "execution_count": null,
   "id": "2c489143-bc3d-4e9b-8c56-e6fb42f204bc",
   "metadata": {},
   "outputs": [],
   "source": [
    "# Change the starting index of an enumerate object.\n",
    "for index, value in enumerate(avengers, start=10):\n",
    "    print(str(index) + \": \" + str(value))"
   ]
  },
  {
   "cell_type": "markdown",
   "id": "0959c3c1-7fce-49fe-9fff-8648b4fb9583",
   "metadata": {},
   "source": [
    "#### zip()"
   ]
  },
  {
   "cell_type": "code",
   "execution_count": null,
   "id": "0fb2ca19-495e-45f8-87a0-e21307b06a79",
   "metadata": {},
   "outputs": [],
   "source": [
    "# Zip accepts an arbitrary number of iterables and joins them piecewise\n",
    "# to create an iterable of tuples.\n",
    "names = [\"barton\", \"stark\", \"odinson\", \"maximoff\"]\n",
    "z = zip(avengers, names)\n",
    "print(type(z))\n",
    "print(z)\n",
    "print(list(z))"
   ]
  },
  {
   "cell_type": "code",
   "execution_count": null,
   "id": "440bc617-41f1-473a-b3e4-c64f83496641",
   "metadata": {},
   "outputs": [],
   "source": [
    "# Use a for loop to iterate over a zip iterable.\n",
    "for z1, z2 in zip(avengers, names):\n",
    "    print(str(z1) + \": \" + str(z2))"
   ]
  },
  {
   "cell_type": "code",
   "execution_count": null,
   "id": "0bf9b1d1-68ff-4925-93d8-168cd165314d",
   "metadata": {},
   "outputs": [],
   "source": [
    "# Use the splat operator to print the elements.\n",
    "z = zip(avengers, names)\n",
    "print(*z)"
   ]
  },
  {
   "cell_type": "markdown",
   "id": "8734c87c-f1a1-4839-8766-c182775ea7a6",
   "metadata": {},
   "source": [
    "My experimentation here: zip excludes extra elements if the input iterables are not the same length."
   ]
  },
  {
   "cell_type": "code",
   "execution_count": null,
   "id": "002e2363-b618-4885-9cfc-51f5013c2f02",
   "metadata": {},
   "outputs": [],
   "source": [
    "avengers = [\"hawkeye\", \"iron man\", \"thor\", \"quicksilver\"]\n",
    "names = [\"barton\", \"stark\", \"odinson\"]\n",
    "z = zip(avengers, names)\n",
    "print(list(z))"
   ]
  },
  {
   "cell_type": "markdown",
   "id": "5636f339-4a9a-4a41-88f1-d20d61de7a2c",
   "metadata": {},
   "source": [
    "My experimentation here: Emulate enumerate using range and zip."
   ]
  },
  {
   "cell_type": "code",
   "execution_count": null,
   "id": "5762a20b-ccbe-48b8-986e-cc27d248ce2e",
   "metadata": {},
   "outputs": [],
   "source": [
    "indexes = range(0, len(avengers))\n",
    "z = zip(indexes, avengers)\n",
    "print(list(z))\n",
    "print(list(enumerate(avengers)))"
   ]
  },
  {
   "cell_type": "markdown",
   "id": "31382643-bee6-4453-901a-7fb120516880",
   "metadata": {},
   "source": [
    "#### Exercises"
   ]
  },
  {
   "cell_type": "code",
   "execution_count": null,
   "id": "57f542ff-a12b-413f-8af1-358641cd00ab",
   "metadata": {},
   "outputs": [],
   "source": [
    "# Play with enumerate().\n",
    "mutants = [\n",
    "    \"charles xavier\",\n",
    "    \"bobby drake\",\n",
    "    \"kurt wagner\",\n",
    "    \"max eisenhardt\",\n",
    "    \"kitty pride\",\n",
    "]\n",
    "mutant_list = list(enumerate(mutants))\n",
    "print(mutant_list)\n",
    "for index1, value1 in enumerate(mutants):\n",
    "    print(index1, value1)\n",
    "for index2, value2 in enumerate(mutants, start=1):\n",
    "    print(index2, value2)"
   ]
  },
  {
   "cell_type": "code",
   "execution_count": null,
   "id": "e713e7e2-0904-4ac9-b676-8ff120e1d8cc",
   "metadata": {},
   "outputs": [],
   "source": [
    "# Zip three iterables together.\n",
    "mutants = [\n",
    "    \"charles xavier\",\n",
    "    \"bobby drake\",\n",
    "    \"kurt wagner\",\n",
    "    \"max eisenhardt\",\n",
    "    \"kitty pride\",\n",
    "]\n",
    "aliases = [\n",
    "    \"prof x\",\n",
    "    \"iceman\",\n",
    "    \"nightcrawler\",\n",
    "    \"magneto\",\n",
    "    \"shadowcat\"]\n",
    "powers = [\n",
    "    \"telepathy\",\n",
    "    \"thermokinesis\",\n",
    "    \"teleportation\",\n",
    "    \"magnetokinesis\",\n",
    "    \"intangibility\",\n",
    "]\n",
    "mutant_data = list(zip(mutants, aliases, powers))\n",
    "print(mutant_data)"
   ]
  },
  {
   "cell_type": "code",
   "execution_count": null,
   "id": "65fb466b-f0e4-4558-bc61-8bc084e11549",
   "metadata": {},
   "outputs": [],
   "source": [
    "# zip the lists and iterate through the tuples in a for loop.\n",
    "mutant_zip = zip(mutants, aliases, powers)\n",
    "print(mutant_zip)\n",
    "for value1, value2, value3 in mutant_zip:\n",
    "    print(value1, value2, value3)"
   ]
  },
  {
   "cell_type": "code",
   "execution_count": null,
   "id": "fbe1cac9-f6e1-4824-9ee8-d7d4343815b4",
   "metadata": {},
   "outputs": [],
   "source": [
    "# \"unzip\" equivalent.\n",
    "print()\n",
    "print(\"unzip equivalent:\")\n",
    "mutants = (\n",
    "    \"charles xavier\",\n",
    "    \"bobby drake\",\n",
    "    \"kurt wagner\",\n",
    "    \"max eisenhardt\",\n",
    "    \"kitty pride\",\n",
    ")\n",
    "powers = (\n",
    "    \"telepathy\",\n",
    "    \"thermokinesis\",\n",
    "    \"teleportation\",\n",
    "    \"magnetokinesis\",\n",
    "    \"intangibility\",\n",
    ")\n",
    "# Create an iterable of tuples (2-tuples) from the two input tuples.\n",
    "z1 = zip(mutants, powers)\n",
    "print(z1)\n",
    "print(*z1)\n",
    "\n",
    "# Recreate the zip object because the old one is exhausted.\n",
    "z1 = zip(mutants, powers)\n",
    "\n",
    "# 'Unzip' the tuples in z1 by unpacking with *; this produces 5 2-tuples.\n",
    "# \"zip returns a zip object whose .__next__() method returns a tuple where\n",
    "# the i-th element comes from the i-th iterable argument.\"\n",
    "# Calling zip on the 5 2-tuples, each of which is an iterable, used as\n",
    "# function arguments, returns 2 tuples of length 5,\n",
    "# where result1 is a tuple equivalent to mutants and result2 is a tuple\n",
    "# equivalent to powers.\n",
    "# This is analogous to transposing a 2D array.\n",
    "z2 = zip(*z1)\n",
    "print(z2)  # a zip object, which is an iterable.\n",
    "result1, result2 = z2\n",
    "print(result1)\n",
    "print(result2)\n",
    "\n",
    "# Check if unpacked tuples are equivalent to original tuples\n",
    "print(result1 == mutants)\n",
    "print(result2 == powers)"
   ]
  },
  {
   "cell_type": "code",
   "execution_count": null,
   "id": "b9a5966c-d19f-4ef8-979e-c9547b86a5a5",
   "metadata": {},
   "outputs": [],
   "source": [
    "# Another example:\n",
    "z3 = zip((1, 2), (3, 4), (5, 6), (7, 8), (9, 10))\n",
    "# Calling next() on z3 returns an iterable where the i-th element of the\n",
    "# iterable comes from the i-th iterable argument. So next() first returns\n",
    "# the iterable (1, 3, 5, 7, 9). Calling next again returns (2, 4, 6, 8, 10).\n",
    "for result in z3:\n",
    "    print(result)\n",
    "\n",
    "# Create a list of tuples.\n",
    "z3 = zip((1, 2), (3, 4), (5, 6), (7, 8), (9, 10))\n",
    "z3list = list(z3)\n",
    "print(z3list)\n",
    "\n",
    "# Create the same list of tuples.\n",
    "z3 = zip((1, 2), (3, 4), (5, 6), (7, 8), (9, 10))\n",
    "z3list = [x for x in z3]\n",
    "print(z3list)\n",
    "\n",
    "# Create a list of lists.\n",
    "z3 = zip((1, 2), (3, 4), (5, 6), (7, 8), (9, 10))\n",
    "z3list2 = [list(x) for x in z3]\n",
    "print(z3list2)"
   ]
  },
  {
   "cell_type": "markdown",
   "id": "fa9335c8-61ad-47f1-b092-9e5892a540c0",
   "metadata": {},
   "source": [
    "### Loading Large Files into Memory\n",
    "\n",
    "The problem is the file is too large to hold in memory. The solution is to process the data in chunks using `pd.read_csv(file, chunksize=1000)`.\n",
    "\n",
    "An alternative is to use the csv module, open the file, and read it line by line to obtain the data and generate the sum."
   ]
  },
  {
   "cell_type": "code",
   "execution_count": null,
   "id": "9df579c0-896f-4a74-b066-a62ccd0c1755",
   "metadata": {},
   "outputs": [],
   "source": [
    "# Use the pandas read_csv function, which can do this by specifying\n",
    "# the chunksize parameter.\n",
    "# Here the example is to calculate the sum of column 'Weight' from the file.\n",
    "try:\n",
    "    result = []\n",
    "    # Each chunk is a DataFrame object with 1000 rows.\n",
    "    for chunk in pd.read_csv(\"baseball.csv\", chunksize=1000):\n",
    "        result.append(sum(chunk[\"Weight\"]))\n",
    "    total = sum(result)\n",
    "    print(total)\n",
    "except Exception as ex:\n",
    "    print(ex)"
   ]
  },
  {
   "cell_type": "code",
   "execution_count": null,
   "id": "cfb20b27-aed7-43c2-99db-4bb12d0a8b3f",
   "metadata": {},
   "outputs": [],
   "source": [
    "# This is a slight modification that creates a running sum.\n",
    "try:\n",
    "    result = 0\n",
    "    for chunk in pd.read_csv(\"baseball.csv\", chunksize=1000):\n",
    "        result += sum(chunk[\"Weight\"])\n",
    "    print(total)\n",
    "except Exception as ex:\n",
    "    print(ex)"
   ]
  },
  {
   "cell_type": "code",
   "execution_count": null,
   "id": "036d7e24-3c19-4414-84ec-6f351954d279",
   "metadata": {},
   "outputs": [],
   "source": [
    "# My work.\n",
    "# In the DataCamp shell, this is how to list the files in the current working\n",
    "# directory and get other file information:\n",
    "files = [f for f in os.listdir(\".\") if os.path.isfile(f)]\n",
    "for file in files:\n",
    "    print(str(file) + \": \" + str(os.stat(file).st_size))\n",
    "\n",
    "# Use shell commands to print file information.\n",
    "!ls -l tweets.csv\n",
    "# -rw-r--r-- 1 repl repl 498214 Feb 17 14:51 tweets.csv\n",
    "!wc -l tweets.csv\n",
    "# 131 tweets.csv"
   ]
  },
  {
   "cell_type": "markdown",
   "id": "f0407362-2b05-418a-8737-b2e547e3a482",
   "metadata": {},
   "source": [
    "#### Exercises"
   ]
  },
  {
   "cell_type": "code",
   "execution_count": null,
   "id": "df8f7120-1df8-4895-8125-88700cdfb980",
   "metadata": {},
   "outputs": [],
   "source": [
    "# Read a file in chunks and count entries in the 'lang' column.\n",
    "counts_dict = {}\n",
    "for chunk in pd.read_csv(\"tweets.csv\", chunksize=10):\n",
    "    for entry in chunk[\"lang\"]:\n",
    "        if entry in counts_dict.keys():\n",
    "            counts_dict[entry] += 1\n",
    "        else:\n",
    "            counts_dict[entry] = 1\n",
    "print(counts_dict)"
   ]
  },
  {
   "cell_type": "code",
   "execution_count": null,
   "id": "f2abab3a-af5d-4569-88e5-dcd1713296bb",
   "metadata": {},
   "outputs": [],
   "source": [
    "# Create a function to do the same thing.\n",
    "# Inputs are path to file, chunk size, and column name.\n",
    "def count_entries(csvfile, chunksize, colname):\n",
    "    \"\"\"\n",
    "    Return a dictionary with counts of\n",
    "    occurrences as value for each key.\n",
    "    \"\"\"\n",
    "    counts_dict = {}\n",
    "    for chunk in pd.read_csv(csvfile, chunksize=chunksize):\n",
    "        for entry in chunk[colname]:\n",
    "            if entry in counts_dict.keys():\n",
    "                counts_dict[entry] += 1\n",
    "            else:\n",
    "                counts_dict[entry] = 1\n",
    "    return counts_dict\n",
    "\n",
    "result_counts = count_entries(\"tweets.csv\", 10, \"lang\")\n",
    "print(result_counts)"
   ]
  },
  {
   "cell_type": "markdown",
   "id": "b7528bd6-f730-4a5a-bd8a-e0260d1370a9",
   "metadata": {},
   "source": [
    "## List Comprehensions & Generators\n",
    "### List Comprehensions\n",
    "\n",
    "List comprehensions collapse for loops for building lists into a single line.\n",
    "\n",
    "The components of a list comprehension are:\n",
    "- an iterable\n",
    "- an iterator variable (representing members of the iterable)\n",
    "- an output expression"
   ]
  },
  {
   "cell_type": "code",
   "execution_count": null,
   "id": "f78765c0-1f84-42ed-a9ee-f64363407c7f",
   "metadata": {},
   "outputs": [],
   "source": [
    "# Take a list and add one to each element inefficiently.\n",
    "nums = [12, 8, 21, 3, 16]\n",
    "new_nums = []\n",
    "for num in nums:\n",
    "    new_nums.append(num + 1)\n",
    "print(new_nums)"
   ]
  },
  {
   "cell_type": "code",
   "execution_count": null,
   "id": "f4984731-2b86-4f26-9ab9-3462b555b8d7",
   "metadata": {},
   "outputs": [],
   "source": [
    "# Simpler: Use map and a lambda here.\n",
    "new_nums = list(map(lambda x: x + 1, nums))\n",
    "print(new_nums)"
   ]
  },
  {
   "cell_type": "code",
   "execution_count": null,
   "id": "1477bf7f-9f8d-4f7d-bc4e-d25f4043b996",
   "metadata": {},
   "outputs": [],
   "source": [
    "# Simplest: Use a list comprehension.\n",
    "new_nums = [x + 1 for x in nums]\n",
    "print(new_nums)"
   ]
  },
  {
   "cell_type": "code",
   "execution_count": null,
   "id": "63fa5696-3ad3-4673-ad08-adcabeaee4cd",
   "metadata": {},
   "outputs": [],
   "source": [
    "# We can write a list comprehension over any iterable (e.g., list, tuple,\n",
    "# range, dict, etc.))\n",
    "result = [num for num in range(11)]\n",
    "print(result)"
   ]
  },
  {
   "cell_type": "code",
   "execution_count": null,
   "id": "b6c150bd-c011-48e2-b9e0-11b9ba487c4e",
   "metadata": {},
   "outputs": [],
   "source": [
    "# We can use list comprehensions in the place of nested for loops.\n",
    "# This is the original code with two loops.\n",
    "pairs_1 = []\n",
    "for num1 in range(0, 2):\n",
    "    for num2 in range(6, 8):\n",
    "        pairs_1.append((num1, num2))\n",
    "print(pairs_1)"
   ]
  },
  {
   "cell_type": "code",
   "execution_count": null,
   "id": "61827912-3627-4b48-841f-ff548289d793",
   "metadata": {},
   "outputs": [],
   "source": [
    "# We can do this with a list comprehension.\n",
    "pairs_1 = [(num1, num2) for num1 in range(0, 2) for num2 in range(6, 8)]\n",
    "print(pairs_1)"
   ]
  },
  {
   "cell_type": "markdown",
   "id": "50a85339-a458-4ca1-9e44-ffeadb8ace45",
   "metadata": {},
   "source": [
    "#### Exercises"
   ]
  },
  {
   "cell_type": "code",
   "execution_count": null,
   "id": "05f3698b-188f-451e-b927-30edd4d55164",
   "metadata": {},
   "outputs": [],
   "source": [
    "# Print a list containing the first character of each doctor.\n",
    "doctor = [\"house\", \"cuddy\", \"chase\", \"thirteen\", \"wilson\"]\n",
    "print([doc[0] for doc in doctor])"
   ]
  },
  {
   "cell_type": "code",
   "execution_count": null,
   "id": "70cba484-4d75-4d2e-8d98-f1de27e31b30",
   "metadata": {},
   "outputs": [],
   "source": [
    "# Print the squares of 0-9.\n",
    "squares = [i ** 2 for i in range(0, 10)]\n",
    "print(squares)"
   ]
  },
  {
   "cell_type": "code",
   "execution_count": null,
   "id": "c3aef709-203d-42e9-89a5-2efd68a11a7c",
   "metadata": {},
   "outputs": [],
   "source": [
    "# Use list comprehension to create a matrix.\n",
    "# This were my solutions:\n",
    "matrix = [row for rownum in range(0, 5) for row in [[0, 1, 2, 3, 4]]]\n",
    "print(matrix)\n",
    "matrix = [row for rownum in range(0, 5) for row in [list(range(0, 5))]]\n",
    "print(matrix)\n",
    "matrix = [row for rownum in range(0, 5) for row in list((list(range(0, 5)),))]\n",
    "print(matrix)"
   ]
  },
  {
   "cell_type": "code",
   "execution_count": null,
   "id": "33428002-3f03-4751-8bca-19874745dc0d",
   "metadata": {},
   "outputs": [],
   "source": [
    "# The correct (and simpler) answer is:\n",
    "# Create a 5 x 5 matrix using a list of lists: matrix.\n",
    "matrix = [[colval for colval in range(0, 5)] for rownum in range(0, 5)]\n",
    "print(matrix)"
   ]
  },
  {
   "cell_type": "markdown",
   "id": "643c784b-b888-4d63-8216-6511ea62169a",
   "metadata": {},
   "source": [
    "### Advanced Comprehensions\n",
    "#### Conditionals in Comprehensions"
   ]
  },
  {
   "cell_type": "code",
   "execution_count": null,
   "id": "df456ef3-6f6c-42d8-aaf7-4a718a09b8ab",
   "metadata": {},
   "outputs": [],
   "source": [
    "# Conditionals in comprehensions for the input expression.\n",
    "nums = [num ** 2 for num in range(10) if num % 2 == 0]\n",
    "print(nums)"
   ]
  },
  {
   "cell_type": "code",
   "execution_count": null,
   "id": "4e4cdc9b-f5dc-46c0-a152-c62c255a83b6",
   "metadata": {},
   "outputs": [],
   "source": [
    "# Conditionals on the output expression.\n",
    "# Note where if .. else is placed here.\n",
    "nums = [num ** 2 if num % 2 == 0 else 0 for num in range(10)]\n",
    "print(nums)"
   ]
  },
  {
   "cell_type": "markdown",
   "id": "2649ec95-7fab-4a46-9f00-17f0f42a794e",
   "metadata": {},
   "source": [
    "#### Dictionary comprehensions."
   ]
  },
  {
   "cell_type": "code",
   "execution_count": null,
   "id": "f01301a6-b96f-4132-b1b5-ac82d96a02ad",
   "metadata": {},
   "outputs": [],
   "source": [
    "# Create dictionaries.\n",
    "pos_neg = {num: -num for num in range(9)}\n",
    "print(pos_neg)\n",
    "print(type(pos_neg))"
   ]
  },
  {
   "cell_type": "markdown",
   "id": "4454b639-19c7-408d-aa9b-fa0b65f21f9c",
   "metadata": {},
   "source": [
    "#### Exercises"
   ]
  },
  {
   "cell_type": "code",
   "execution_count": null,
   "id": "72f11bbf-714e-4e77-a4fe-e3450894ffd7",
   "metadata": {},
   "outputs": [],
   "source": [
    "fellowship = [\"frodo\", \"samwise\", \"merry\", \"aragorn\", \"legolas\", \"boromir\", \"gimli\"]\n",
    "new_fellowship = [member for member in fellowship if len(member) >= 7]\n",
    "print(new_fellowship)"
   ]
  },
  {
   "cell_type": "code",
   "execution_count": null,
   "id": "97ff87aa-3f83-4730-a9a0-3164587354cd",
   "metadata": {},
   "outputs": [],
   "source": [
    "# This does not work; the else is required after the \"if\" expression.\n",
    "# new_fellowship = [member if len(member) >= 7 for member in fellowship]\n",
    "# print(new_fellowship)"
   ]
  },
  {
   "cell_type": "code",
   "execution_count": null,
   "id": "cc46ec23-5e89-4b41-a458-7cbc6f42129c",
   "metadata": {},
   "outputs": [],
   "source": [
    "new_fellowship = [member if len(member) >= 7 else \"\" for member in fellowship]\n",
    "print(new_fellowship)"
   ]
  },
  {
   "cell_type": "code",
   "execution_count": null,
   "id": "abbf8832-26ec-4fde-a94a-1ba72f40246b",
   "metadata": {},
   "outputs": [],
   "source": [
    "new_fellowship = {member: len(member) for member in fellowship}\n",
    "print(new_fellowship)"
   ]
  },
  {
   "cell_type": "markdown",
   "id": "44122f51-7881-41ce-a659-84b35be9ce26",
   "metadata": {},
   "source": [
    "### Introduction to Generator Expressions\n",
    "\n",
    "A list comprehension returns a list. A generator stores the results in memory; it is an iterator from which you can obtain objects one at a time.\n",
    "\n",
    "See https://realpython.com/introduction-to-python-generators/."
   ]
  },
  {
   "cell_type": "code",
   "execution_count": null,
   "id": "7fe6cb6a-408d-467a-84e0-5633066ef2df",
   "metadata": {},
   "outputs": [],
   "source": [
    "# Start with this list comprehension:\n",
    "nums = [2 * num for num in range(10)]\n",
    "print(nums)"
   ]
  },
  {
   "cell_type": "code",
   "execution_count": null,
   "id": "0ffa0bb8-eecd-4975-8b1c-a48b3fe89117",
   "metadata": {},
   "outputs": [],
   "source": [
    "# ...and replace the [] with (). This creates a generator object.\n",
    "# numg is a generator object, which is an iterable and an iterator.\n",
    "numg = (2 * num for num in range(10))\n",
    "print(type(numg))\n",
    "print(numg)\n",
    "print(next(numg))\n",
    "print(*numg)"
   ]
  },
  {
   "cell_type": "code",
   "execution_count": null,
   "id": "f46558db-2d11-4f5b-9d8c-ba5fca0bc0bc",
   "metadata": {},
   "outputs": [],
   "source": [
    "# Anothr generator.\n",
    "result = (num for num in range(6))\n",
    "for num in result:\n",
    "    print(num)"
   ]
  },
  {
   "cell_type": "code",
   "execution_count": null,
   "id": "f0eb4f34-4859-4bf4-884b-5c62d9443659",
   "metadata": {},
   "outputs": [],
   "source": [
    "# Create a list from a generator. This stores the results in memory.\n",
    "result = (num for num in range(6))\n",
    "print(list(result))"
   ]
  },
  {
   "cell_type": "markdown",
   "id": "38ac71fd-4a07-4800-9ef9-07b67a0d6093",
   "metadata": {},
   "source": [
    "A generator allows lazy evaluation. We can use `next` to get each element\n",
    "from the generator only when we need it. A list comprehension stores the\n",
    "elements of the list in memory, which is a problem if the list is very\n",
    "large. A generator generates each element only when needed.\n",
    "\n",
    "Generators are useful in data science when working with very large amounts of\n",
    "data, so much data that it won't fit in memory.\n",
    "\n",
    "Hugo doesn't mention that the `range` function does the same thing -- it acts like a generator. But when list is called on a range, all data is stored in memory.\n"
   ]
  },
  {
   "cell_type": "code",
   "execution_count": null,
   "id": "53936cf2-122b-437f-88e0-c7eeb9cab0a2",
   "metadata": {},
   "outputs": [],
   "source": [
    "# This expression nearly kills my MacBook Pro (10 billion ints).\n",
    "# [num for num in range(1, 10000000000)]\n",
    "# But this does not:\n",
    "(num for num in range(1, 10000000000))"
   ]
  },
  {
   "cell_type": "code",
   "execution_count": null,
   "id": "b4e697f6-6df7-4bf0-9378-5b66ae59c21a",
   "metadata": {},
   "outputs": [],
   "source": [
    "# But a generator can do things a range object can't: it accepts conditionals\n",
    "# in generator expressions.\n",
    "even_nums = (num for num in range(10) if num % 2 == 0)\n",
    "print(list(even_nums))"
   ]
  },
  {
   "cell_type": "markdown",
   "id": "78b2de57-669a-4c22-a60c-ad4bf882fea3",
   "metadata": {
    "tags": []
   },
   "source": [
    "Generator functions are defined like a regular function using def, but they yield a sequence of values instead of returning a single value. The generator generates a value with the `yield` keyword."
   ]
  },
  {
   "cell_type": "code",
   "execution_count": null,
   "id": "990864d6-39a2-4aec-86ad-c0f3fc5f4f1e",
   "metadata": {},
   "outputs": [],
   "source": [
    "# Build a generator function that yields values from 0 to n.\n",
    "def num_sequence(n):\n",
    "    \"\"\"\n",
    "    Generate values from 0 to n.\n",
    "    \"\"\"\n",
    "    i = 0\n",
    "    while i < n:\n",
    "        yield i\n",
    "        i += 1\n",
    "\n",
    "# result is a generator object.\n",
    "result = num_sequence(5)\n",
    "print(result)\n",
    "for item in result:\n",
    "    print(item)"
   ]
  },
  {
   "cell_type": "markdown",
   "id": "0f61f9d9-cc38-4b87-82dc-3d70c488deb9",
   "metadata": {},
   "source": [
    "#### Exercises"
   ]
  },
  {
   "cell_type": "code",
   "execution_count": null,
   "id": "8b566727-2841-406a-94a9-9115b561b875",
   "metadata": {},
   "outputs": [],
   "source": [
    "# Create a generator that yields 0 .. 30.\n",
    "result = (num for num in range(31))\n",
    "print(next(result))\n",
    "print(next(result))\n",
    "print(next(result))\n",
    "print(next(result))\n",
    "print(next(result))\n",
    "#for value in result:\n",
    "#    print(value)\n",
    "print(*result)"
   ]
  },
  {
   "cell_type": "code",
   "execution_count": null,
   "id": "2d29e4ae-10c3-4ea3-90bb-793ccd3619d1",
   "metadata": {},
   "outputs": [],
   "source": [
    "# Note: The items, keys, and values methods of a dict return generators\n",
    "# of special types.\n",
    "mydict = {1: \"one\", 2: \"two\"}\n",
    "my_keys = mydict.keys()\n",
    "print(my_keys)\n",
    "my_values = mydict.values()\n",
    "print(my_values)\n",
    "my_items = mydict.items()\n",
    "print(my_items)"
   ]
  },
  {
   "cell_type": "code",
   "execution_count": null,
   "id": "13c98220-cf15-4a7f-8342-a0d5837f1702",
   "metadata": {},
   "outputs": [],
   "source": [
    "# Changing the output in generator functions.\n",
    "# Here, generate the lengths of the strings in a list.\n",
    "lannister = [\"cersei\", \"jaime\", \"tywin\", \"tyrion\", \"joffrey\"]\n",
    "lengths = (len(person) for person in lannister)\n",
    "for value in lengths:\n",
    "    print(value)"
   ]
  },
  {
   "cell_type": "code",
   "execution_count": null,
   "id": "b46519a5-89c1-4bf1-906c-26999efec8f4",
   "metadata": {},
   "outputs": [],
   "source": [
    "# Create a generator function.\n",
    "def get_lengths(input_list):\n",
    "    \"\"\"\n",
    "    Yield the length of the strings in input_list.\n",
    "    \"\"\"\n",
    "    for person in input_list:\n",
    "        yield (len(person))\n",
    "\n",
    "lannister = [\"cersei\", \"jaime\", \"tywin\", \"tyrion\", \"joffrey\"]\n",
    "for value in get_lengths(lannister):\n",
    "    print(value)"
   ]
  },
  {
   "cell_type": "markdown",
   "id": "02b1c710-2057-4fbe-ae00-d047841a4b0f",
   "metadata": {
    "tags": []
   },
   "source": [
    "### Wrapping Up Comprehensions and Generators\n",
    "\n",
    "A basic list comprehension has this structure:\n",
    "\n",
    "`[output expression for iterator variable in iterable]`\n",
    "\n",
    "An advanced list comprehension has this structure:\n",
    "\n",
    "`[output expression + conditional on output for iterator variable\n",
    "in iterable + conditional on iterable]`"
   ]
  },
  {
   "cell_type": "markdown",
   "id": "5a10f52d-9ba3-4c34-a643-1eed9fa5827d",
   "metadata": {},
   "source": [
    "#### Exercises"
   ]
  },
  {
   "cell_type": "code",
   "execution_count": null,
   "id": "116b820a-a987-4812-804b-59b7192e3420",
   "metadata": {},
   "outputs": [],
   "source": [
    "# Create a list comprehensions for time-stamped data.\n",
    "# This uses a Pandas Series data structure.\n",
    "# The time stamps look like this: \"Tue Mar 29 23:40:19 +0000 2016\"\n",
    "\n",
    "df = pd.read_csv(\"tweets.csv\")\n",
    "tweet_time = df[\"created_at\"]\n",
    "tweet_clock_time = [entry[11:19] for entry in tweet_time]\n",
    "print(tweet_clock_time)"
   ]
  },
  {
   "cell_type": "code",
   "execution_count": null,
   "id": "2c01c52d-0dc6-4bae-98be-3ac203aba0e3",
   "metadata": {},
   "outputs": [],
   "source": [
    "# Conditional list comprehensions for time-stamped data.\n",
    "tweet_clock_time = [entry[11:19] for entry in tweet_time if entry[17:19] == \"19\"]\n",
    "print(tweet_clock_time)"
   ]
  },
  {
   "cell_type": "markdown",
   "id": "97840f40-15c1-4518-898d-225e48e1eef3",
   "metadata": {},
   "source": [
    "## Case Study\n",
    "\n",
    "The data set, the World Bank World Development Indicators Data Set, is from http://data.worldbank.org/data-catalog/world-development-indicators. See also https://datacatalog.worldbank.org/search/dataset/0037712.\n",
    "\n",
    "The data set contains data for 217 countries for more than half a century, 1960-2015. The data set contains hundreds of indicators, including population, electricity consumption, CO2 emissions, literacy rates, unemployment, mortality rates, and more. In the exercises, we will use the techniques learned in this course to wrangle the data. These include zip, functions, comprehensions, and generators."
   ]
  },
  {
   "cell_type": "markdown",
   "id": "3af2f075-6978-436c-ab89-a94db387190f",
   "metadata": {},
   "source": [
    "### Loading a DataFrame from Lists"
   ]
  },
  {
   "cell_type": "code",
   "execution_count": null,
   "id": "f09c10ac-60ba-4f4c-a6df-c9c456c928c6",
   "metadata": {},
   "outputs": [],
   "source": [
    "# The data we need are not in the world_ind_pop_data.csv file provided by\n",
    "# the course. These data were copied from the IPython shell.\n",
    "feature_names = [\n",
    "    \"CountryName\",\n",
    "    \"CountryCode\",\n",
    "    \"IndicatorName\",\n",
    "    \"IndicatorCode\",\n",
    "    \"Year\",\n",
    "    \"Value\",\n",
    "]\n",
    "\n",
    "row_lists = [\n",
    "    [\n",
    "        \"Arab World\",\n",
    "        \"ARB\",\n",
    "        \"Adolescent fertility rate (births per 1,000 women ages 15-19)\",\n",
    "        \"SP.ADO.TFRT\",\n",
    "        \"1960\",\n",
    "        \"133.56090740552298\",\n",
    "    ],\n",
    "    [\n",
    "        \"Arab World\",\n",
    "        \"ARB\",\n",
    "        \"Age dependency ratio (% of working-age population)\",\n",
    "        \"SP.POP.DPND\",\n",
    "        \"1960\",\n",
    "        \"87.7976011532547\",\n",
    "    ],\n",
    "    [\n",
    "        \"Arab World\",\n",
    "        \"ARB\",\n",
    "        \"Age dependency ratio, old (% of working-age population)\",\n",
    "        \"SP.POP.DPND.OL\",\n",
    "        \"1960\",\n",
    "        \"6.634579191565161\",\n",
    "    ],\n",
    "    [\n",
    "        \"Arab World\",\n",
    "        \"ARB\",\n",
    "        \"Age dependency ratio, young (% of working-age population)\",\n",
    "        \"SP.POP.DPND.YG\",\n",
    "        \"1960\",\n",
    "        \"81.02332950839141\",\n",
    "    ],\n",
    "    [\n",
    "        \"Arab World\",\n",
    "        \"ARB\",\n",
    "        \"Arms exports (SIPRI trend indicator values)\",\n",
    "        \"MS.MIL.XPRT.KD\",\n",
    "        \"1960\",\n",
    "        \"3000000.0\",\n",
    "    ],\n",
    "    [\n",
    "        \"Arab World\",\n",
    "        \"ARB\",\n",
    "        \"Arms imports (SIPRI trend indicator values)\",\n",
    "        \"MS.MIL.MPRT.KD\",\n",
    "        \"1960\",\n",
    "        \"538000000.0\",\n",
    "    ],\n",
    "    [\n",
    "        \"Arab World\",\n",
    "        \"ARB\",\n",
    "        \"Birth rate, crude (per 1,000 people)\",\n",
    "        \"SP.DYN.CBRT.IN\",\n",
    "        \"1960\",\n",
    "        \"47.697888095096395\",\n",
    "    ],\n",
    "    [\n",
    "        \"Arab World\",\n",
    "        \"ARB\",\n",
    "        \"CO2 emissions (kt)\",\n",
    "        \"EN.ATM.CO2E.KT\",\n",
    "        \"1960\",\n",
    "        \"59563.9892169935\",\n",
    "    ],\n",
    "    [\n",
    "        \"Arab World\",\n",
    "        \"ARB\",\n",
    "        \"CO2 emissions (metric tons per capita)\",\n",
    "        \"EN.ATM.CO2E.PC\",\n",
    "        \"1960\",\n",
    "        \"0.6439635478877049\",\n",
    "    ],\n",
    "    [\n",
    "        \"Arab World\",\n",
    "        \"ARB\",\n",
    "        \"CO2 emissions from gaseous fuel consumption (% of total)\",\n",
    "        \"EN.ATM.CO2E.GF.ZS\",\n",
    "        \"1960\",\n",
    "        \"5.041291753975099\",\n",
    "    ],\n",
    "    [\n",
    "        \"Arab World\",\n",
    "        \"ARB\",\n",
    "        \"CO2 emissions from liquid fuel consumption (% of total)\",\n",
    "        \"EN.ATM.CO2E.LF.ZS\",\n",
    "        \"1960\",\n",
    "        \"84.8514729446567\",\n",
    "    ],\n",
    "    [\n",
    "        \"Arab World\",\n",
    "        \"ARB\",\n",
    "        \"CO2 emissions from liquid fuel consumption (kt)\",\n",
    "        \"EN.ATM.CO2E.LF.KT\",\n",
    "        \"1960\",\n",
    "        \"49541.707291032304\",\n",
    "    ],\n",
    "    [\n",
    "        \"Arab World\",\n",
    "        \"ARB\",\n",
    "        \"CO2 emissions from solid fuel consumption (% of total)\",\n",
    "        \"EN.ATM.CO2E.SF.ZS\",\n",
    "        \"1960\",\n",
    "        \"4.72698138789597\",\n",
    "    ],\n",
    "    [\n",
    "        \"Arab World\",\n",
    "        \"ARB\",\n",
    "        \"Death rate, crude (per 1,000 people)\",\n",
    "        \"SP.DYN.CDRT.IN\",\n",
    "        \"1960\",\n",
    "        \"19.7544519237187\",\n",
    "    ],\n",
    "    [\n",
    "        \"Arab World\",\n",
    "        \"ARB\",\n",
    "        \"Fertility rate, total (births per woman)\",\n",
    "        \"SP.DYN.TFRT.IN\",\n",
    "        \"1960\",\n",
    "        \"6.92402738655897\",\n",
    "    ],\n",
    "    [\n",
    "        \"Arab World\",\n",
    "        \"ARB\",\n",
    "        \"Fixed telephone subscriptions\",\n",
    "        \"IT.MLT.MAIN\",\n",
    "        \"1960\",\n",
    "        \"406833.0\",\n",
    "    ],\n",
    "    [\n",
    "        \"Arab World\",\n",
    "        \"ARB\",\n",
    "        \"Fixed telephone subscriptions (per 100 people)\",\n",
    "        \"IT.MLT.MAIN.P2\",\n",
    "        \"1960\",\n",
    "        \"0.6167005703199\",\n",
    "    ],\n",
    "    [\n",
    "        \"Arab World\",\n",
    "        \"ARB\",\n",
    "        \"Hospital beds (per 1,000 people)\",\n",
    "        \"SH.MED.BEDS.ZS\",\n",
    "        \"1960\",\n",
    "        \"1.9296220724398703\",\n",
    "    ],\n",
    "    [\n",
    "        \"Arab World\",\n",
    "        \"ARB\",\n",
    "        \"International migrant stock (% of population)\",\n",
    "        \"SM.POP.TOTL.ZS\",\n",
    "        \"1960\",\n",
    "        \"2.9906371279862403\",\n",
    "    ],\n",
    "    [\n",
    "        \"Arab World\",\n",
    "        \"ARB\",\n",
    "        \"International migrant stock, total\",\n",
    "        \"SM.POP.TOTL\",\n",
    "        \"1960\",\n",
    "        \"3324685.0\",\n",
    "    ],\n",
    "]"
   ]
  },
  {
   "cell_type": "markdown",
   "id": "810604ba-b271-4626-8e94-8808da61ffbf",
   "metadata": {},
   "source": [
    "#### Exercises"
   ]
  },
  {
   "cell_type": "markdown",
   "id": "48e4d9df-e90f-42f6-92f1-9b23a30de546",
   "metadata": {},
   "source": [
    "For practice (not a course exercise):\n",
    "\n",
    "Given the feature names in one list and a row of data in a second list, efficiently create a dict for which the feature names are the keys and the row data are the values. (Do not iterate over the columns.)\n",
    "\n",
    "See https://docs.python.org/3/library/stdtypes.html#mapping-types-dict for various approaches for creating a dictionary.\n",
    "\n",
    "See https://pandas.pydata.org/docs/reference/api/pandas.DataFrame.html#pandas.DataFrame for the pandas API for creating a DataFrame."
   ]
  },
  {
   "cell_type": "code",
   "execution_count": null,
   "id": "a430c7f8-7cb7-41cd-98d0-8da47162687a",
   "metadata": {},
   "outputs": [],
   "source": [
    "# Use zip to create a list of tuples, where the first value in each tuple\n",
    "# is the feature name and the second value of each tuple is the value.\n",
    "# Then call dict on that list.\n",
    "data_tuples = zip(feature_names, row_lists[0])\n",
    "data_dict1 = dict(data_tuples)\n",
    "print(data_dict1)"
   ]
  },
  {
   "cell_type": "code",
   "execution_count": null,
   "id": "31ac4528-6d85-4f99-b65e-8a8ea78c1932",
   "metadata": {},
   "outputs": [],
   "source": [
    "# As an alternative, use a dict comprehension to create the dict.\n",
    "# Show that the result is identical to that obtained above.\n",
    "# This is a little clearer to read but is less efficient.\n",
    "data_dict2 = {key: val for (key, val) in zip(feature_names, row_lists[0])}\n",
    "print(data_dict2)\n",
    "print(data_dict2 == data_dict1)"
   ]
  },
  {
   "cell_type": "code",
   "execution_count": null,
   "id": "8db9d3d0-27a3-4006-baa3-c17bc715aed6",
   "metadata": {},
   "outputs": [],
   "source": [
    "# Write a function to aid this process and test it.\n",
    "def lists2dict(list1, list2):\n",
    "    return dict(zip(list1, list2))\n",
    "\n",
    "data_dict3 = lists2dict(feature_names, row_lists[0])\n",
    "print(data_dict3)\n",
    "print(data_dict3 == data_dict1)"
   ]
  },
  {
   "cell_type": "markdown",
   "id": "923f91dd-0630-4ba0-ad69-f77fceaafd3e",
   "metadata": {},
   "source": [
    "Create a list of dicts, where each dict contains the keys from feature_names and the values represent a row of values. Use the lists2dict function to create each dict. Make this efficient by using a list comprehension.\n",
    "\n",
    "This is an intuitive way to collect the data; each dict is like an object with attribute names and values, like JSON objects. What is inefficient is that each object contains the attribute names, so if the data are large, there is a great deal of redundant data from storing the keys with each object."
   ]
  },
  {
   "cell_type": "code",
   "execution_count": null,
   "id": "36218992-58ef-42af-b6ce-b785dc21e126",
   "metadata": {},
   "outputs": [],
   "source": [
    "# Create a list of dicts from the inputs.\n",
    "list_of_dicts1 = [lists2dict(feature_names, sublist) for sublist in row_lists]\n",
    "# Print the first two dicts from the list.\n",
    "print(list_of_dicts1[0])\n",
    "print(list_of_dicts1[1])\n",
    "# Show that the first dict in the list is identical to what was produced\n",
    "# above.\n",
    "print(list_of_dicts1[0] == data_dict1)"
   ]
  },
  {
   "cell_type": "code",
   "execution_count": null,
   "id": "078d0c3d-43d1-4ad5-bc5a-d4f2e3b073f4",
   "metadata": {},
   "outputs": [],
   "source": [
    "# Do the same as above without using the function\n",
    "# I fell like the function lists2dict is not necessary since it contains\n",
    "# only one line of code.\n",
    "list_of_dicts2 = [dict(zip(feature_names, sublist)) for sublist in row_lists]\n",
    "list_of_dicts2 == list_of_dicts1"
   ]
  },
  {
   "cell_type": "code",
   "execution_count": null,
   "id": "3bcb24e8-d7b8-4cbe-8c5f-78c9f27e2e05",
   "metadata": {},
   "outputs": [],
   "source": [
    "# Convert these data to a DataFrame and show the first five rows.\n",
    "# Take advantage of Jupyter's nice formatting of a pandas DataFrame.\n",
    "df1 = pd.DataFrame(list_of_dicts2)\n",
    "df1.head()"
   ]
  },
  {
   "cell_type": "code",
   "execution_count": null,
   "id": "8fd0350e-b6e8-4f62-8d51-29c52283f6de",
   "metadata": {},
   "outputs": [],
   "source": [
    "# While we're demonstrating the capabilities of pandas, show the tail and\n",
    "# the dtypes.\n",
    "df1.tail()"
   ]
  },
  {
   "cell_type": "code",
   "execution_count": null,
   "id": "aff0dedb-c27d-43d9-be89-1c1c619d4b36",
   "metadata": {},
   "outputs": [],
   "source": [
    "# Note that all values are objects, which is probably not what is wanted.\n",
    "df1.dtypes"
   ]
  },
  {
   "cell_type": "code",
   "execution_count": null,
   "id": "7cd48249-be79-44ab-9734-6fb272d18ee1",
   "metadata": {},
   "outputs": [],
   "source": [
    "df1.info()"
   ]
  },
  {
   "cell_type": "code",
   "execution_count": null,
   "id": "d30d03c7-b348-4058-aa5f-65044cd24186",
   "metadata": {},
   "outputs": [],
   "source": [
    "# Convert the dtypes.\n",
    "df1.infer_objects()\n",
    "df1[\"CountryName\"] = df1[\"CountryName\"].astype(\"string\")\n",
    "df1[\"CountryCode\"] = df1[\"CountryCode\"].astype(\"string\")\n",
    "df1[\"IndicatorName\"] = df1[\"IndicatorName\"].astype(\"string\")\n",
    "df1[\"IndicatorCode\"] = df1[\"IndicatorCode\"].astype(\"string\")\n",
    "df1[\"Year\"] = df1[\"Year\"].astype(\"float64\")\n",
    "df1[\"Value\"] = df1[\"Value\"].astype(\"float64\")\n",
    "df1.info()"
   ]
  },
  {
   "cell_type": "markdown",
   "id": "b5e72784-8ee9-4f85-b28f-c63fbc7440d7",
   "metadata": {},
   "source": [
    "### Using Python Generators for Streaming Data\n",
    "\n",
    "The problem to solve here is that the data may be too big to load into memory using the techniques given above. So we're going to stream the data in chunks as we learned earlier. We will use a generator to load a file line by line."
   ]
  },
  {
   "cell_type": "markdown",
   "id": "48d8097c-7614-4326-a507-3b3461cf7cbe",
   "metadata": {},
   "source": [
    "#### Exercises"
   ]
  },
  {
   "cell_type": "code",
   "execution_count": null,
   "id": "38fbe7ff-bd0b-4418-b7e7-c4eb9969ef56",
   "metadata": {},
   "outputs": [],
   "source": [
    "# This is bad: We are parsing a CSV file by splitting on ','.\n",
    "# The exercise uses word_dev_ind.csv, which the user doesn't have.\n",
    "# This code contains an improvement to watch for EOF, which the\n",
    "# original code did not do, resulting in the addition of \"\" keys\n",
    "# in the dict if we read more lines than there were in the file.\n",
    "counts_dict1 = {}\n",
    "with open(\"world_ind_pop_data.csv\") as file:\n",
    "    # Skip the header line.\n",
    "    file.readline()\n",
    "    # Process the first 1000 rows.\n",
    "    for j in range(1000):\n",
    "        dataline = file.readline()\n",
    "        # Exit the loop if the file is out of data.\n",
    "        if dataline == \"\":\n",
    "            break\n",
    "        col_values = dataline.split(\",\")\n",
    "        first_col = col_values[0]\n",
    "        if first_col in counts_dict1.keys():\n",
    "            counts_dict1[first_col] += 1\n",
    "        else:\n",
    "            counts_dict1[first_col] = 1\n",
    "print(counts_dict1)"
   ]
  },
  {
   "cell_type": "code",
   "execution_count": null,
   "id": "5f854525-7058-4a6a-a4bd-42cd4578dcaf",
   "metadata": {},
   "outputs": [],
   "source": [
    "# An improved script (my work).\n",
    "# Read the *entire* file using a for loop, using file's generator.\n",
    "counts_dict2 = {}\n",
    "with open(\"world_ind_pop_data.csv\") as file:\n",
    "    # Skip the header line.\n",
    "    file.readline()\n",
    "    # Use the file generator that returns data one line at a time.\n",
    "    for data_line in file:\n",
    "        col_values = data_line.split(\",\")\n",
    "        first_col = col_values[0]\n",
    "        if first_col in counts_dict2.keys():\n",
    "            counts_dict2[first_col] += 1\n",
    "        else:\n",
    "            counts_dict2[first_col] = 1\n",
    "print(counts_dict2)"
   ]
  },
  {
   "cell_type": "code",
   "execution_count": null,
   "id": "745100a2-6da1-4287-bd6c-ca143d871201",
   "metadata": {},
   "outputs": [],
   "source": [
    "# Write a generator to load data in chunks, one line at a time.\n",
    "# Demonstrate this by printing the first three lines of the file.\n",
    "def read_large_file(file_object):\n",
    "    \"\"\"A generator function to read a large file lazily.\"\"\"\n",
    "    while True:\n",
    "        # readline returns \"\" if no more data is available.\n",
    "        data = file_object.readline()\n",
    "        if not data:\n",
    "            break\n",
    "        yield data\n",
    "\n",
    "with open(\"world_ind_pop_data.csv\") as file:\n",
    "    gen_file = read_large_file(file)\n",
    "    # Use next to get the data line by line.\n",
    "    # Of course, we can just call next on the file object.\n",
    "    print(next(gen_file))\n",
    "    print(next(gen_file))\n",
    "    print(next(gen_file))"
   ]
  },
  {
   "cell_type": "code",
   "execution_count": null,
   "id": "b390f97f-a291-4841-b5c5-b2e5817ee260",
   "metadata": {},
   "outputs": [],
   "source": [
    "# Count the values in the CountryName column.\n",
    "# Show that we get the same result as before.\n",
    "counts_dict3 = {}\n",
    "with open(\"world_ind_pop_data.csv\") as file:\n",
    "    # Create the generator for obtaining lines from the file.\n",
    "    file_gen = read_large_file(file)\n",
    "    header = next(file_gen)\n",
    "    for dataline in file_gen:\n",
    "        row = dataline.split(\",\")\n",
    "        first_col = row[0]\n",
    "        if first_col in counts_dict3.keys():\n",
    "            counts_dict3[first_col] += 1\n",
    "        else:\n",
    "            counts_dict3[first_col] = 1\n",
    "print(counts_dict3)\n",
    "print(counts_dict3 == counts_dict2)"
   ]
  },
  {
   "cell_type": "code",
   "execution_count": null,
   "id": "8e993f74-a452-4932-b7e4-be0b3c906692",
   "metadata": {},
   "outputs": [],
   "source": [
    "# Extra credit.\n",
    "# Now, do this using the csv module. The results are not the same,\n",
    "# revealing a problem with reading a CSV file and splitting on the \",\"\n",
    "# character instead of using the csv module.\n",
    "\n",
    "# Looking at the keys, we find that the keys from using csv\n",
    "# include keys with \",\" characters in them! This is a lesson for\n",
    "# why you should not split a CSV file using the \",\" character!\n",
    "\n",
    "# Grepping the file reveals 770 lines containing '\"' characters.\n",
    "#   grep \"\\\"\" world_ind_pop_data.csv | wc -l\n",
    "#   770\n",
    "# These are lines such as:\n",
    "#   \"Bahamas, The\",BHS,1960,109526.0,59.711999999999996\n",
    "#   \"Congo, Dem. Rep.\",ZAR,1960,15248246.0,22.3\n",
    "#   \"Congo, Rep.\",COG,1960,1013581.0,31.601\n",
    "\n",
    "# Using the csv module gives correct results.\n",
    "counts_dict4 = {}\n",
    "with open(\"world_ind_pop_data.csv\", newline=\"\") as csv_file:\n",
    "    csvreader = csv.reader(csv_file)\n",
    "    header = next(csvreader)\n",
    "    for row in csvreader:\n",
    "        first_col = row[0]\n",
    "        if first_col in counts_dict4.keys():\n",
    "            counts_dict4[first_col] += 1\n",
    "        else:\n",
    "            counts_dict4[first_col] = 1\n",
    "print(counts_dict4)\n",
    "print(counts_dict4 == counts_dict2)\n",
    "# Get the keys from the two dictionaries and use sets to identify\n",
    "# which keys are different in each set.\n",
    "keys2 = set(list(counts_dict2.keys()))\n",
    "keys4 = set(list(counts_dict4.keys()))\n",
    "diff2 = keys2.difference(keys4)\n",
    "print(diff2)\n",
    "diff4 = keys4.difference(keys2)\n",
    "print(diff4)"
   ]
  },
  {
   "cell_type": "code",
   "execution_count": null,
   "id": "ab36b277-a1e6-42a4-a923-6b8ce69f304b",
   "metadata": {},
   "outputs": [],
   "source": [
    "# Extra credit.\n",
    "# Load the data using pandas.read_csv.\n",
    "# pands.read_csv should give the same results as the csv module.\n",
    "# pandas.read_csv reads the data into a DataFrame.\n",
    "# We want to count the distinct items in the CountryName column.\n",
    "df2 = pd.read_csv(\"world_ind_pop_data.csv\")\n",
    "df2.head()"
   ]
  },
  {
   "cell_type": "code",
   "execution_count": null,
   "id": "bdd31362-78e2-47a7-8d2c-ffaa910e823a",
   "metadata": {},
   "outputs": [],
   "source": [
    "# Extra credit. Look at the DataFrame.\n",
    "df2.tail()"
   ]
  },
  {
   "cell_type": "code",
   "execution_count": null,
   "id": "d4fcb879-c357-498f-94c5-09392f13ecc5",
   "metadata": {},
   "outputs": [],
   "source": [
    "df2.shape"
   ]
  },
  {
   "cell_type": "code",
   "execution_count": null,
   "id": "2e3538e4-fd87-49d3-a252-6ed2e5819da5",
   "metadata": {},
   "outputs": [],
   "source": [
    "df2.info()"
   ]
  },
  {
   "cell_type": "code",
   "execution_count": null,
   "id": "c7cd9769-18b3-4aa0-bba0-f9eaf0ba7655",
   "metadata": {},
   "outputs": [],
   "source": [
    "# Change the dtypes.\n",
    "df2[\"CountryName\"] = df2[\"CountryName\"].astype(\"string\")\n",
    "df2[\"CountryCode\"] = df2[\"CountryCode\"].astype(\"string\")\n",
    "df2.info()"
   ]
  },
  {
   "cell_type": "code",
   "execution_count": null,
   "id": "bb4f2692-f9d2-4c9c-96e1-f76d3d15fe94",
   "metadata": {},
   "outputs": [],
   "source": [
    "# Review the CountryName column of the DataFrame.\n",
    "df2[\"CountryName\"]"
   ]
  },
  {
   "cell_type": "code",
   "execution_count": null,
   "id": "6ec2b754-f06e-4212-ad8b-4fad9521a55f",
   "metadata": {},
   "outputs": [],
   "source": [
    "# Extra credit.\n",
    "# Extract the country names from the DataFrame object produced by\n",
    "# pd.read_csv and count them. The results should be the same as those\n",
    "# produced using the csv module (and they are the same).\n",
    "country_names = list(df2[\"CountryName\"])\n",
    "counts_dict5 = {}\n",
    "for name in country_names:\n",
    "    if name in counts_dict5:\n",
    "        counts_dict5[name] += 1\n",
    "    else:\n",
    "        counts_dict5[name] = 1\n",
    "print(counts_dict5)\n",
    "print(counts_dict5 == counts_dict4)"
   ]
  },
  {
   "cell_type": "markdown",
   "id": "2470fbd7-5244-4e00-aedb-dc7b5375da9d",
   "metadata": {},
   "source": [
    "### Using pandas.read_csv() Iterator for Streaming Data"
   ]
  },
  {
   "cell_type": "markdown",
   "id": "b2d9826e-ec98-4185-b928-95f3d7ba0a6a",
   "metadata": {},
   "source": [
    "#### Exercises"
   ]
  },
  {
   "cell_type": "code",
   "execution_count": null,
   "id": "d8c616b8-18fc-4158-8b71-9b1cfb6d1b36",
   "metadata": {},
   "outputs": [],
   "source": [
    "# Pretend the file is too big to load into memory (because the DataFrame\n",
    "# won't fit into existing memory). Use pandas' read_csv iterator with the\n",
    "# chunksize parameter for streaming data, getting sub-DataFrames and\n",
    "# processing them.\n",
    "\n",
    "# First, show how to read the first chunk of the data file.\n",
    "df_reader = pd.read_csv(\"world_ind_pop_data.csv\", chunksize=10)\n",
    "next(df_reader)"
   ]
  },
  {
   "cell_type": "code",
   "execution_count": null,
   "id": "24c155eb-1af3-49db-b3d6-5931e1da7389",
   "metadata": {},
   "outputs": [],
   "source": [
    "# ...and the next chunk...\n",
    "next(df_reader)"
   ]
  },
  {
   "cell_type": "code",
   "execution_count": null,
   "id": "2b3e6fe3-ffa6-49a6-809c-bc8e6f9cc56a",
   "metadata": {},
   "outputs": [],
   "source": [
    "# Extra credit.\n",
    "# Chunk the data into DataFrames of size 100 to make the counts.\n",
    "# Show that the result is the same as before from loading all of the data\n",
    "# into memory.\n",
    "counts_dict6 = {}\n",
    "df_reader2 = pd.read_csv(\"world_ind_pop_data.csv\", chunksize=100)\n",
    "for df_chunk in df_reader2:\n",
    "    country_names = list(df_chunk[\"CountryName\"])\n",
    "    for name in country_names:\n",
    "        if name in counts_dict6:\n",
    "            counts_dict6[name] += 1\n",
    "        else:\n",
    "            counts_dict6[name] = 1\n",
    "print(counts_dict6)\n",
    "print(counts_dict6 == counts_dict5)"
   ]
  },
  {
   "cell_type": "code",
   "execution_count": null,
   "id": "1ae1f051-afe1-4bd4-bf99-7ae663d3414d",
   "metadata": {},
   "outputs": [],
   "source": [
    "# OK, we're back to the exercise again.\n",
    "# Write an iterator to load data in chunks.\n",
    "df_reader3 = pd.read_csv(\"world_ind_pop_data.csv\", chunksize=1000)\n",
    "df_urb_pop = next(df_reader3)\n",
    "df_urb_pop.head()"
   ]
  },
  {
   "cell_type": "code",
   "execution_count": null,
   "id": "82511922-bc3d-4597-95e4-21306cff5feb",
   "metadata": {},
   "outputs": [],
   "source": [
    "# Limit the data to CountryCode CEB.\n",
    "df_pop_ceb = df_urb_pop[df_urb_pop[\"CountryCode\"] == \"CEB\"]\n",
    "\n",
    "# Zip together two columns to prepare the data for plotting.\n",
    "# Make a list of tuples.\n",
    "pops = zip(df_pop_ceb[\"Total Population\"], df_pop_ceb[\"Urban population (% of total)\"])\n",
    "pops_list = list(pops)\n",
    "print(pops_list)"
   ]
  },
  {
   "cell_type": "markdown",
   "id": "bc2f421e-ee4b-465c-8033-f35f7edb910f",
   "metadata": {},
   "source": [
    "In the rest of this exercise, given the values from the 'Total Population' column and the 'Urban population (% of total)' column, we can calculate a new column, 'Total Urban Population' by multiplying these values together and dividing by 100. Plot the data.\n",
    "\n",
    "To avoid subtle problems with references vs. copies, always call the .copy method when subsetting a DataFrame.\n",
    "\n",
    "DataFrame.append is deprecated; use pd.concat instead, as shown below."
   ]
  },
  {
   "cell_type": "code",
   "execution_count": null,
   "id": "ecdff611-015f-45d7-902b-49519ed1cd0c",
   "metadata": {},
   "outputs": [],
   "source": [
    "# Write an iterator to load data in chunks (3).\n",
    "# This extracts the first chunk from the input file, subsets the data for\n",
    "# country code \"CEB\", calculates the urban population as an int, adds\n",
    "# a new \"Total Urban Population\" to the subset DataFrame, and plots\n",
    "# the \"Total Urban Population\" vs. \"Year\".\n",
    "\n",
    "# Because we have processed only the first chunk of 1000 lines, we have a\n",
    "# small subset (years 1960-1964) of the total data.\n",
    "urb_pop_reader = pd.read_csv(\"world_ind_pop_data.csv\", chunksize=1000)\n",
    "\n",
    "# Read the first chunk from the file.\n",
    "df_urb_pop = next(urb_pop_reader)\n",
    "\n",
    "# Limit the dataset to CountryCode 'CEB' and copy the\n",
    "# data to a new DataFrame. This eliminates a subtle problem\n",
    "# with references to original data.\n",
    "df_pop_ceb = df_urb_pop[df_urb_pop[\"CountryCode\"] == \"CEB\"].copy()\n",
    "\n",
    "# Zip the data together for convenience, calculate the Total Urban Population\n",
    "# value, and add the column to the DataFrame.\n",
    "pops = zip(df_pop_ceb[\"Total Population\"], df_pop_ceb[\"Urban population (% of total)\"])\n",
    "pops_list = list(pops)\n",
    "\n",
    "# Use a list comprehension to calculate the values for the new column.\n",
    "# \"tups\" stands for \"total urban populations\".\n",
    "tups = [int(tpop * uppct * 0.01) for tpop, uppct in pops_list]\n",
    "\n",
    "# Add the new column to the DataFrame.\n",
    "df_pop_ceb.loc[:, 'Total Urban Population'] = tups\n",
    "\n",
    "# Plot the urban population date.\n",
    "df_pop_ceb.plot(kind=\"scatter\", x=\"Year\", y=\"Total Urban Population\")\n",
    "plt.show()"
   ]
  },
  {
   "cell_type": "code",
   "execution_count": null,
   "id": "2356f60e-d74c-45aa-8f77-61fd0357a182",
   "metadata": {},
   "outputs": [],
   "source": [
    "# Writing an iterator to load data in chunks (4).\n",
    "# Improve the previous code by processing the entire file using a\n",
    "# for loop.\n",
    "\n",
    "# Initialize an empty DataFrame for appending results.\n",
    "data = pd.DataFrame()\n",
    "\n",
    "urb_pop_reader = pd.read_csv(\"world_ind_pop_data.csv\", chunksize=1000)\n",
    "for df_urb_pop in urb_pop_reader:\n",
    "    # Subset on CountryCode == 'CEB'\n",
    "    df_pop_ceb = df_urb_pop[df_urb_pop[\"CountryCode\"] == \"CEB\"].copy()\n",
    "\n",
    "    # Zip DataFrame columns of interest: pops\n",
    "    pops = zip(\n",
    "        df_pop_ceb[\"Total Population\"],\n",
    "        df_pop_ceb[\"Urban population (% of total)\"])\n",
    "\n",
    "    # Turn zip object into list: pops_list\n",
    "    pops_list = list(pops)\n",
    "\n",
    "    # Use list comprehension to create new DataFrame column 'Total Urban Population'.\n",
    "    # This will create warnings.\n",
    "    df_pop_ceb['Total Urban Population'] = [int(tup[0] * tup[1] * 0.01) for tup in pops_list]\n",
    "\n",
    "    # Append DataFrame chunk to data. This is the first time we have done this.\n",
    "    # data = data.append(df_pop_ceb) # deprecated\n",
    "    data = pd.concat([data, df_pop_ceb])\n",
    "\n",
    "# Plot urban population data\n",
    "data.plot(kind=\"scatter\", x=\"Year\", y=\"Total Urban Population\")\n",
    "plt.show()"
   ]
  },
  {
   "cell_type": "code",
   "execution_count": null,
   "id": "ca9bb480-8deb-4674-b18d-9d0afc62b8c2",
   "metadata": {},
   "outputs": [],
   "source": [
    "# Writing an iterator to load data in chunks (5).\n",
    "# Write a single function that will plot the urban population of the\n",
    "# chosen country.\n",
    "\n",
    "def plot_pop(filename, country_code):\n",
    "    # Get an iterator for the input file.\n",
    "    urb_pop_reader = pd.read_csv(filename, chunksize=1000)\n",
    "\n",
    "    # Initialize a DataFrame for containing the final results.\n",
    "    data = pd.DataFrame()\n",
    "    for df_urb_pop in urb_pop_reader:\n",
    "        # Get a subset of the input DataFrame for the specified CountryCode.\n",
    "        df_pop_cc = df_urb_pop[df_urb_pop[\"CountryCode\"] == country_code].copy()\n",
    "\n",
    "        # Zip the columns together for convenience.\n",
    "        pops = zip(\n",
    "            df_pop_cc[\"Total Population\"],\n",
    "            df_pop_cc[\"Urban population (% of total)\"])\n",
    "        pops_list = list(pops)\n",
    "\n",
    "        # Add the new column to the DataFrame.\n",
    "        df_pop_cc['Total Urban Population'] = [int(tup[0] * tup[1] * 0.01) for tup in pops_list]\n",
    "\n",
    "        # data = data.append(df_pop_cc) # deprecated\n",
    "        data = pd.concat([data, df_pop_cc])\n",
    "\n",
    "    # print(data)\n",
    "    data.plot(kind=\"scatter\", x=\"Year\", y=\"Total Urban Population\", title=country_code)\n",
    "    plt.show()\n",
    "\n",
    "# Use the function.\n",
    "fn = \"world_ind_pop_data.csv\"\n",
    "plot_pop(fn, \"CEB\")\n",
    "plot_pop(fn, \"ARB\")\n"
   ]
  }
 ],
 "metadata": {
  "kernelspec": {
   "display_name": "Python 3 (ipykernel)",
   "language": "python",
   "name": "python3"
  },
  "language_info": {
   "codemirror_mode": {
    "name": "ipython",
    "version": 3
   },
   "file_extension": ".py",
   "mimetype": "text/x-python",
   "name": "python",
   "nbconvert_exporter": "python",
   "pygments_lexer": "ipython3",
   "version": "3.11.2"
  }
 },
 "nbformat": 4,
 "nbformat_minor": 5
}
