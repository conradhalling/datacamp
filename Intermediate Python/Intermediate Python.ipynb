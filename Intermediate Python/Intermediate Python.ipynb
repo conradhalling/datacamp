{
 "cells": [
  {
   "cell_type": "markdown",
   "id": "571008ad-662b-4223-a89b-e91226aabc65",
   "metadata": {},
   "source": [
    "# Intermediate Python\n",
    "\n",
    "These are my notes for DataCamp's course [_Intermediate Python_](https://www.datacamp.com/courses/intermediate-python).\n",
    "\n",
    "This course is presented by Hugo Bowne-Anderson, formerly Data Scientist at DataCamp. Collaborators are Filip Schouwenaars and Vincent Vankrunkelsven.\n",
    "\n",
    "Prerequisite:\n",
    "\n",
    "- [_Introduction to Python_](../Introduction%20to%20Python/Introduction%20to%20Python.ipynb)\n",
    "\n",
    "This course is part of these tracks:\n",
    "\n",
    "- Data Analyst with Python\n",
    "- Data Engineer\n",
    "- Data Scientist with Python\n",
    "- Data Scientist Professional with Python\n",
    "- Python Fundamentals\n",
    "- Python Programmer"
   ]
  },
  {
   "cell_type": "markdown",
   "id": "f9533aa1-5471-498f-ba49-a7e38a838b7a",
   "metadata": {},
   "source": [
    "## Datasets\n",
    "\n",
    "| Name | File |\n",
    "| :--- | :--- |\n",
    "| Gapminder | gapminder.csv |\n",
    "| Cars | cars.csv |\n",
    "| BRICS | brics.csv"
   ]
  },
  {
   "cell_type": "markdown",
   "id": "a48fc916-c204-4af1-bbcf-28f13adce3b1",
   "metadata": {
    "jp-MarkdownHeadingCollapsed": true,
    "tags": []
   },
   "source": [
    "## Versions\n",
    "\n",
    "For this notebook, I used:\n",
    "\n",
    "- Python 3.12.7\n",
    "- matplotlib 3.9.2\n",
    "- numpy 2.1.3\n",
    "- pandas 2.2.3"
   ]
  },
  {
   "cell_type": "markdown",
   "id": "d8d39f9c-2553-487b-bcf0-8c7d945bd375",
   "metadata": {},
   "source": [
    "## Imports\n",
    "\n",
    "Imports for the entire notebook are placed here for convenience and clarity.\n",
    "\n",
    "Set the copy on write mode for pandas; this will be the default in pandas 3.0."
   ]
  },
  {
   "cell_type": "code",
   "execution_count": null,
   "id": "807b2880",
   "metadata": {},
   "outputs": [],
   "source": [
    "import csv\n",
    "\n",
    "import matplotlib\n",
    "import matplotlib.pyplot as plt\n",
    "import numpy as np\n",
    "import pandas as pd\n",
    "pd.set_option(\"mode.copy_on_write\", True)"
   ]
  },
  {
   "cell_type": "markdown",
   "id": "7c2b1c4b",
   "metadata": {},
   "source": [
    "## Matplotlib"
   ]
  },
  {
   "cell_type": "markdown",
   "id": "c64e4f81",
   "metadata": {},
   "source": [
    "Data visualization, an important early step in data analysis, is used to explore the data to look for obvious insights and correlations.\n",
    "\n",
    "See https://matplotlib.org/stable/tutorials/introductory/customizing.html for how to customize Matplotlib. Here, I make the figures larger than the default size."
   ]
  },
  {
   "cell_type": "code",
   "execution_count": null,
   "id": "24d5975e",
   "metadata": {},
   "outputs": [],
   "source": [
    "# Find the location of the matplotlibrc file.\n",
    "print(matplotlib.matplotlib_fname())"
   ]
  },
  {
   "cell_type": "code",
   "execution_count": null,
   "id": "aaf09fd3",
   "metadata": {},
   "outputs": [],
   "source": [
    "# Determine the default plot size and increase it.\n",
    "# The default size is (6.4, 4.8).\n",
    "print(plt.rcParams[\"figure.figsize\"])"
   ]
  },
  {
   "cell_type": "code",
   "execution_count": null,
   "id": "937cef9a",
   "metadata": {},
   "outputs": [],
   "source": [
    "# Increase the figure size.\n",
    "plt.rc(\"figure\", figsize=(12.0, 9.0))\n",
    "# plt.rcParams[\"figure.figsize\"] = (12.0, 9.0)\n",
    "print(plt.rcParams[\"figure.figsize\"])"
   ]
  },
  {
   "cell_type": "markdown",
   "id": "bdf054fd",
   "metadata": {},
   "source": [
    "### Basic Plots"
   ]
  },
  {
   "cell_type": "code",
   "execution_count": null,
   "id": "6eb5dd73",
   "metadata": {},
   "outputs": [],
   "source": [
    "# Create a linear plot.\n",
    "year_example = [1950, 1970, 1990, 2010]\n",
    "pop_example = [2.519, 3.692, 5.263, 6.972]\n",
    "plt.plot(year_example, pop_example)\n",
    "plt.show()"
   ]
  },
  {
   "cell_type": "code",
   "execution_count": null,
   "id": "91755bca",
   "metadata": {},
   "outputs": [],
   "source": [
    "# Create a scatter plot.\n",
    "plt.scatter(year_example, pop_example)\n",
    "plt.show()"
   ]
  },
  {
   "cell_type": "markdown",
   "id": "3600e5b2",
   "metadata": {},
   "source": [
    "#### Exercises"
   ]
  },
  {
   "cell_type": "code",
   "execution_count": null,
   "id": "70c18860",
   "metadata": {},
   "outputs": [],
   "source": [
    "# I copied these lists from the IPython Shell window.\n",
    "year = [1950, 1951, 1952, 1953, 1954, 1955, 1956, 1957, 1958, 1959, 1960, 1961, 1962, 1963, 1964, 1965, 1966, 1967, 1968, 1969, 1970, 1971, 1972, 1973, 1974, 1975, 1976, 1977, 1978, 1979, 1980, 1981, 1982, 1983, 1984, 1985, 1986, 1987, 1988, 1989, 1990, 1991, 1992, 1993, 1994, 1995, 1996, 1997, 1998, 1999, 2000, 2001, 2002, 2003, 2004, 2005, 2006, 2007, 2008, 2009, 2010, 2011, 2012, 2013, 2014, 2015, 2016, 2017, 2018, 2019, 2020, 2021, 2022, 2023, 2024, 2025, 2026, 2027, 2028, 2029, 2030, 2031, 2032, 2033, 2034, 2035, 2036, 2037, 2038, 2039, 2040, 2041, 2042, 2043, 2044, 2045, 2046, 2047, 2048, 2049, 2050, 2051, 2052, 2053, 2054, 2055, 2056, 2057, 2058, 2059, 2060, 2061, 2062, 2063, 2064, 2065, 2066, 2067, 2068, 2069, 2070, 2071, 2072, 2073, 2074, 2075, 2076, 2077, 2078, 2079, 2080, 2081, 2082, 2083, 2084, 2085, 2086, 2087, 2088, 2089, 2090, 2091, 2092, 2093, 2094, 2095, 2096, 2097, 2098, 2099, 2100]\n",
    "pop_for_year = [2.53, 2.57, 2.62, 2.67, 2.71, 2.76, 2.81, 2.86, 2.92, 2.97, 3.03, 3.08, 3.14, 3.2, 3.26, 3.33, 3.4, 3.47, 3.54, 3.62, 3.69, 3.77, 3.84, 3.92, 4.0, 4.07, 4.15, 4.22, 4.3, 4.37, 4.45, 4.53, 4.61, 4.69, 4.78, 4.86, 4.95, 5.05, 5.14, 5.23, 5.32, 5.41, 5.49, 5.58, 5.66, 5.74, 5.82, 5.9, 5.98, 6.05, 6.13, 6.2, 6.28, 6.36, 6.44, 6.51, 6.59, 6.67, 6.75, 6.83, 6.92, 7.0, 7.08, 7.16, 7.24, 7.32, 7.4, 7.48, 7.56, 7.64, 7.72, 7.79, 7.87, 7.94, 8.01, 8.08, 8.15, 8.22, 8.29, 8.36, 8.42, 8.49, 8.56, 8.62, 8.68, 8.74, 8.8, 8.86, 8.92, 8.98, 9.04, 9.09, 9.15, 9.2, 9.26, 9.31, 9.36, 9.41, 9.46, 9.5, 9.55, 9.6, 9.64, 9.68, 9.73, 9.77, 9.81, 9.85, 9.88, 9.92, 9.96, 9.99, 10.03, 10.06, 10.09, 10.13, 10.16, 10.19, 10.22, 10.25, 10.28, 10.31, 10.33, 10.36, 10.38, 10.41, 10.43, 10.46, 10.48, 10.5, 10.52, 10.55, 10.57, 10.59, 10.61, 10.63, 10.65, 10.66, 10.68, 10.7, 10.72, 10.73, 10.75, 10.77, 10.78, 10.79, 10.81, 10.82, 10.83, 10.84, 10.85]\n",
    "plt.plot(year, pop_for_year)\n",
    "plt.show()"
   ]
  },
  {
   "cell_type": "code",
   "execution_count": null,
   "id": "2edef3d5",
   "metadata": {},
   "outputs": [],
   "source": [
    "# The data were collected by Hans Rosling to build his bubble chart.\n",
    "#   life_exp: life expectancy for each country, in years\n",
    "#   gdp_cap: gross domestic product per capita, 2007, in US dollars\n",
    "#   pop: in millions of persons\n",
    "#   cont: continent\n",
    "# All of the data are contained in the gapminder.csv data file.\n",
    "# The fields are:\n",
    "#   ,country,year,population,cont,life_exp,gdp_cap\n",
    "\n",
    "# Import the data into lists.\n",
    "# See the Introduction to Python.ipynb file for an example of how to do this.\n",
    "pop_for_country = []\n",
    "cont = []\n",
    "life_exp = []\n",
    "gdp_cap = []\n",
    "with open(\"gapminder.csv\", newline=\"\") as csv_file:\n",
    "    csvreader = csv.reader(csv_file)\n",
    "    header = next(csvreader)\n",
    "    for row in csvreader:\n",
    "        pop_for_country.append(float(row[3]))\n",
    "        cont.append(str(row[4]))\n",
    "        life_exp.append(float(row[5]))\n",
    "        gdp_cap.append(float(row[6]))\n",
    "\n",
    "# Convert population to millions using a NumPy array.\n",
    "np_pop = np.array(pop_for_country)\n",
    "np_pop = np_pop / 1000000"
   ]
  },
  {
   "cell_type": "code",
   "execution_count": null,
   "id": "9a3634a7",
   "metadata": {},
   "outputs": [],
   "source": [
    "# Scatter plot of life expectancy (dependent variable)\n",
    "# vs. GDP per capita (independent variable).\n",
    "plt.scatter(gdp_cap, life_exp)\n",
    "plt.xscale(\"log\")\n",
    "plt.show()"
   ]
  },
  {
   "cell_type": "code",
   "execution_count": null,
   "id": "dbc47c7e",
   "metadata": {},
   "outputs": [],
   "source": [
    "# Scatter plot of life expectancy (dependent variable)\n",
    "# vs. population (independent variable).\n",
    "plt.scatter(np_pop, life_exp)\n",
    "plt.xscale(\"log\")\n",
    "plt.show()"
   ]
  },
  {
   "cell_type": "markdown",
   "id": "a9aa8466",
   "metadata": {},
   "source": [
    "### Histograms"
   ]
  },
  {
   "cell_type": "markdown",
   "id": "5f25afdb",
   "metadata": {},
   "source": [
    "Histograms are useful during data exploration to visualize the distribution of the data. The most important arguments are x, the data, and bins, the number of bins (10 by default)."
   ]
  },
  {
   "cell_type": "code",
   "execution_count": null,
   "id": "0ce01866",
   "metadata": {},
   "outputs": [],
   "source": [
    "# Example:\n",
    "values = [0.0, 0.6, 1.4, 1.6, 2.2, 2.5, 2.6, 3.2, 3.5, 3.9, 4.2, 6.0]\n",
    "plt.hist(values, bins=3)\n",
    "plt.show()"
   ]
  },
  {
   "cell_type": "markdown",
   "id": "c4ba020f",
   "metadata": {},
   "source": [
    "#### Exercises"
   ]
  },
  {
   "cell_type": "code",
   "execution_count": null,
   "id": "3068dc4c",
   "metadata": {},
   "outputs": [],
   "source": [
    "plt.hist(life_exp) # bins=10 by default\n",
    "plt.show()"
   ]
  },
  {
   "cell_type": "code",
   "execution_count": null,
   "id": "1a43306d",
   "metadata": {},
   "outputs": [],
   "source": [
    "# Try 5 bins and 20 bins.\n",
    "plt.hist(life_exp, bins=5)\n",
    "plt.show()"
   ]
  },
  {
   "cell_type": "code",
   "execution_count": null,
   "id": "cb56dacc",
   "metadata": {},
   "outputs": [],
   "source": [
    "plt.hist(life_exp, bins=20)\n",
    "plt.show()"
   ]
  },
  {
   "cell_type": "code",
   "execution_count": null,
   "id": "2ef466fd",
   "metadata": {},
   "outputs": [],
   "source": [
    "plt.hist(life_exp, bins=15)\n",
    "plt.show()\n",
    "life_exp1950 = [28.8, 55.23, 43.08, 30.02, 62.48, 69.12, 66.8, 50.94, 37.48, 68.0, 38.22, 40.41, 53.82, 47.62, 50.92, 59.6, 31.98, 39.03, 39.42, 38.52, 68.75, 35.46, 38.09, 54.74, 44.0, 50.64, 40.72, 39.14, 42.11, 57.21, 40.48, 61.21, 59.42, 66.87, 70.78, 34.81, 45.93, 48.36, 41.89, 45.26, 34.48, 35.93, 34.08, 66.55, 67.41, 37.0, 30.0, 67.5, 43.15, 65.86, 42.02, 33.61, 32.5, 37.58, 41.91, 60.96, 64.03, 72.49, 37.37, 37.47, 44.87, 45.32, 66.91, 65.39, 65.94, 58.53, 63.03, 43.16, 42.27, 50.06, 47.45, 55.56, 55.93, 42.14, 38.48, 42.72, 36.68, 36.26, 48.46, 33.68, 40.54, 50.99, 50.79, 42.24, 59.16, 42.87, 31.29, 36.32, 41.72, 36.16, 72.13, 69.39, 42.31, 37.44, 36.32, 72.67, 37.58, 43.44, 55.19, 62.65, 43.9, 47.75, 61.31, 59.82, 64.28, 52.72, 61.05, 40.0, 46.47, 39.88, 37.28, 58.0, 30.33, 60.4, 64.36, 65.57, 32.98, 45.01, 64.94, 57.59, 38.64, 41.41, 71.86, 69.62, 45.88, 58.5, 41.22, 50.85, 38.6, 59.1, 44.6, 43.58, 39.98, 69.18, 68.44, 66.07, 55.09, 40.41, 43.16, 32.55, 42.04, 48.45]\n",
    "plt.hist(life_exp1950, bins=15)\n",
    "plt.show()"
   ]
  },
  {
   "cell_type": "code",
   "execution_count": null,
   "id": "2cee73b7",
   "metadata": {},
   "outputs": [],
   "source": [
    "plt.hist(life_exp1950, bins=15, alpha=0.3)\n",
    "plt.hist(life_exp, bins=15, alpha=0.3)\n",
    "plt.show()"
   ]
  },
  {
   "cell_type": "markdown",
   "id": "16e96b28",
   "metadata": {},
   "source": [
    "### Customizing Plots"
   ]
  },
  {
   "cell_type": "code",
   "execution_count": null,
   "id": "d05223ff",
   "metadata": {},
   "outputs": [],
   "source": [
    "# Add more data for earlier years.\n",
    "year_ext = [1800, 1850, 1900] + year\n",
    "pop_ext = [1.0, 1.262, 1.650] + pop_for_year\n",
    "# Create a line plot.\n",
    "plt.plot(year_ext, pop_ext)\n",
    "# Add axis labels.\n",
    "plt.xlabel(\"Year\")\n",
    "plt.ylabel(\"Population (billions)\")\n",
    "# Add a title.\n",
    "plt.title(\"World Population Projections\")\n",
    "# Start the y axis at 0 with string labels for each tick.\n",
    "plt.yticks((0, 2, 4, 6, 8, 10, 12))\n",
    "# Add a label for each y tick. (This is crude, so modified the y label instead.)\n",
    "# plt.yticks((0, 2, 4, 6, 8, 10, 12), (\"0B\", \"2B\", \"4B\", \"6B\", \"8B\", \"10B\", \"12B\"))\n",
    "plt.show()"
   ]
  },
  {
   "cell_type": "markdown",
   "id": "ad9f9e1d",
   "metadata": {},
   "source": [
    "#### Exercises\n",
    "\n",
    "This work continues to enhance to world development data, plotting GDP per capita on the x-axis (logarithmic scale) vs. life expectancy on the y-axis."
   ]
  },
  {
   "cell_type": "code",
   "execution_count": null,
   "id": "badfacf7",
   "metadata": {},
   "outputs": [],
   "source": [
    "# Provide a title and axis labels.\n",
    "plt.scatter(gdp_cap, life_exp)\n",
    "plt.xscale(\"log\")\n",
    "xlab = \"GDP per Capita (USD)\"\n",
    "ylab = \"Life Expectancy (years)\"\n",
    "title = \"World Development in 2007\"\n",
    "plt.xlabel(xlab)\n",
    "plt.ylabel(ylab)\n",
    "plt.title(title)\n",
    "plt.show()"
   ]
  },
  {
   "cell_type": "code",
   "execution_count": null,
   "id": "76f6326e",
   "metadata": {},
   "outputs": [],
   "source": [
    "# Label x ticks.\n",
    "plt.scatter(gdp_cap, life_exp)\n",
    "plt.title(\"World Development in 2007\")\n",
    "plt.xscale(\"log\")\n",
    "plt.xlabel(\"GDP per Capita (USD)\")\n",
    "tick_val = (100, 1000, 10000, 100000)\n",
    "tick_lab = (\"0.1k\", \"1k\", \"10k\", \"100k\")\n",
    "plt.xticks(tick_val, tick_lab)\n",
    "plt.ylabel(\"Life Expectancy (years)\")\n",
    "plt.show()"
   ]
  },
  {
   "cell_type": "code",
   "execution_count": null,
   "id": "79b5929f",
   "metadata": {},
   "outputs": [],
   "source": [
    "# Size scatter plot dots to reflect population size.\n",
    "plt.scatter(gdp_cap, life_exp, s=np_pop)\n",
    "plt.title(\"World Development in 2007\")\n",
    "plt.xscale(\"log\")\n",
    "plt.xlabel(\"GDP per Capita (USD)\")\n",
    "tick_val = (100, 1000, 10000, 100000)\n",
    "tick_lab = (\"0.1k\", \"1k\", \"10k\", \"100k\")\n",
    "plt.xticks(tick_val, tick_lab)\n",
    "plt.ylabel(\"Life Expectancy (years)\")\n",
    "plt.show()"
   ]
  },
  {
   "cell_type": "code",
   "execution_count": null,
   "id": "ded442a9",
   "metadata": {},
   "outputs": [],
   "source": [
    "# Double the sizes of the scatter plot dots.\n",
    "pop_dot_size = 2 * np_pop\n",
    "plt.scatter(gdp_cap, life_exp, s=pop_dot_size)\n",
    "plt.title(\"World Development in 2007\")\n",
    "plt.xscale(\"log\")\n",
    "plt.xlabel(\"GDP per Capita (USD)\")\n",
    "tick_val = (100, 1000, 10000, 100000)\n",
    "tick_lab = (\"0.1k\", \"1k\", \"10k\", \"100k\")\n",
    "plt.xticks(tick_val, tick_lab)\n",
    "plt.ylabel(\"Life Expectancy (years)\")\n",
    "plt.show()"
   ]
  },
  {
   "cell_type": "code",
   "execution_count": null,
   "id": "2fe0b976",
   "metadata": {},
   "outputs": [],
   "source": [
    "# Create a list of colors from the continents for each data row.\n",
    "# Yellow is not a good color; I changed it to purple.\n",
    "cont_colors = {\n",
    "    'Asia': 'red',\n",
    "    'Europe': 'green',\n",
    "    'Africa': 'blue',\n",
    "    'Americas': 'purple',\n",
    "    'Oceania': 'black'\n",
    "}\n",
    "# Use a list comprehension to create a list of colors.\n",
    "colors = [cont_colors[x] for x in cont]"
   ]
  },
  {
   "cell_type": "code",
   "execution_count": null,
   "id": "d28b2afb",
   "metadata": {},
   "outputs": [],
   "source": [
    "# Color the scatter plot dots.\n",
    "plt.scatter(gdp_cap, life_exp, s=pop_dot_size, c=colors, alpha=0.5)\n",
    "plt.title(\"World Development in 2007\")\n",
    "plt.xscale(\"log\")\n",
    "plt.xlabel(\"GDP per Capita (USD)\")\n",
    "tick_val = (100, 1000, 10000, 100000)\n",
    "tick_lab = (\"0.1k\", \"1k\", \"10k\", \"100k\")\n",
    "plt.xticks(tick_val, tick_lab)\n",
    "plt.ylabel(\"Life Expectancy (years)\")\n",
    "plt.show()"
   ]
  },
  {
   "cell_type": "code",
   "execution_count": null,
   "id": "eabcf0ad",
   "metadata": {},
   "outputs": [],
   "source": [
    "# Add more customizations.\n",
    "# Provide labels for China and India, and add a grid.\n",
    "plt.scatter(gdp_cap, life_exp, s=pop_dot_size, c=colors, alpha=0.5)\n",
    "plt.title(\"World Development in 2007\")\n",
    "plt.grid(True)\n",
    "plt.xscale(\"log\")\n",
    "plt.xlabel(\"GDP per Capita (USD)\")\n",
    "tick_val = (100, 1000, 10000, 100000)\n",
    "tick_lab = (\"0.1k\", \"1k\", \"10k\", \"100k\")\n",
    "plt.xticks(tick_val, tick_lab)\n",
    "plt.ylabel(\"Life Expectancy (years)\")\n",
    "plt.text(2000, 68, \"India\")\n",
    "plt.text(4000, 76.5, \"China\")\n",
    "plt.show()"
   ]
  },
  {
   "cell_type": "markdown",
   "id": "0d030433",
   "metadata": {},
   "source": [
    "## Dictionaries\n",
    "\n",
    "### Dictionaries, Part 1"
   ]
  },
  {
   "cell_type": "markdown",
   "id": "27602a58",
   "metadata": {},
   "source": [
    "Dictionary keys must be immutable objects (strings and ints are the usual keys)."
   ]
  },
  {
   "cell_type": "markdown",
   "id": "27307097",
   "metadata": {},
   "source": [
    "#### Exercises"
   ]
  },
  {
   "cell_type": "code",
   "execution_count": null,
   "id": "f8a24149",
   "metadata": {},
   "outputs": [],
   "source": [
    "# Indexing parallel lists to get to values for keys.\n",
    "countries = [\"spain\", \"france\", \"germany\", \"norway\"]\n",
    "capitals = [\"madrid\", \"paris\", \"berlin\", \"oslo\"]\n",
    "ind_ger = countries.index(\"germany\")\n",
    "print(capitals[ind_ger])"
   ]
  },
  {
   "cell_type": "code",
   "execution_count": null,
   "id": "30a1612e",
   "metadata": {},
   "outputs": [],
   "source": [
    "# Create a dictionary to set the key-value pairs.\n",
    "europe = {\"spain\": \"madrid\", \"france\": \"paris\", \"germany\": \"berlin\", \"norway\": \"oslo\"}\n",
    "print(europe)"
   ]
  },
  {
   "cell_type": "code",
   "execution_count": null,
   "id": "c5d9fc8f",
   "metadata": {},
   "outputs": [],
   "source": [
    "# Print keys and values, and get a value for a specific key.\n",
    "print(europe.keys())\n",
    "print(europe.values())\n",
    "print(europe[\"norway\"])"
   ]
  },
  {
   "cell_type": "markdown",
   "id": "5bf596f5",
   "metadata": {},
   "source": [
    "### Dictionaries, Part 2"
   ]
  },
  {
   "cell_type": "code",
   "execution_count": null,
   "id": "290ef0d6",
   "metadata": {},
   "outputs": [],
   "source": [
    "# Add a new key and value to an existing dictionary.\n",
    "world = {\"afghanistan\": 30.55, \"albania\": 2.81, \"algeria\": 39.21}\n",
    "print(world)\n",
    "world[\"sealand\"] = 0.000027\n",
    "print(world)\n",
    "# See if a key is present in a dictionary.\n",
    "print(\"sealand\" in world)\n",
    "# See if a value is present in a dictionary.\n",
    "print(30.55 in world.values())"
   ]
  },
  {
   "cell_type": "code",
   "execution_count": null,
   "id": "e878db23",
   "metadata": {},
   "outputs": [],
   "source": [
    "# Update a key-value pair.\n",
    "world[\"sealand\"] = 0.000028\n",
    "print(world)"
   ]
  },
  {
   "cell_type": "code",
   "execution_count": null,
   "id": "56ec9c06",
   "metadata": {},
   "outputs": [],
   "source": [
    "# Delete a key-value pair.\n",
    "del(world[\"sealand\"])\n",
    "print(world)"
   ]
  },
  {
   "cell_type": "markdown",
   "id": "fceaebd4",
   "metadata": {},
   "source": [
    "#### Exercises"
   ]
  },
  {
   "cell_type": "code",
   "execution_count": null,
   "id": "ed3db50e",
   "metadata": {},
   "outputs": [],
   "source": [
    "# Add key-value pairs.\n",
    "europe[\"italy\"] = \"rome\"\n",
    "print(\"italy\" in europe)\n",
    "europe[\"poland\"] = \"warsaw\"\n",
    "print(europe)"
   ]
  },
  {
   "cell_type": "code",
   "execution_count": null,
   "id": "7059871b",
   "metadata": {},
   "outputs": [],
   "source": [
    "# Fix errors in a dictionary.\n",
    "europe2 = {\"spain\": \"madrid\", \"france\": \"paris\", \"germany\": \"bonn\", \"norway\": \"oslo\",\n",
    "           \"italy\": \"rome\", \"poland\": \"warsaw\", \"australia\": \"vienna\"}\n",
    "europe2[\"germany\"] = \"berlin\"\n",
    "del(europe2[\"australia\"])\n",
    "print(europe2)"
   ]
  },
  {
   "cell_type": "code",
   "execution_count": null,
   "id": "d26b38e4",
   "metadata": {},
   "outputs": [],
   "source": [
    "# Dictionaries of dictionaries.\n",
    "europe3 = {\"spain\": {\"capital\": \"madrid\", \"population\": 46.77},\n",
    "          \"france\": {\"capital\": \"paris\", \"population\": 66.03},\n",
    "          \"germany\": {\"capital\": \"berlin\", \"population\": 80.62},\n",
    "          \"norway\": {\"capital\": \"oslo\", \"population\": 5.084}}\n",
    "print(europe3[\"france\"][\"capital\"])\n",
    "italy = {\"capital\": \"rome\", \"population\": 59.83}\n",
    "europe3[\"italy\"] = italy\n",
    "print(europe3)"
   ]
  },
  {
   "cell_type": "markdown",
   "id": "83e25989",
   "metadata": {},
   "source": [
    "## Pandas"
   ]
  },
  {
   "cell_type": "markdown",
   "id": "e2b003ee",
   "metadata": {},
   "source": [
    "### Create DataFrames"
   ]
  },
  {
   "cell_type": "markdown",
   "id": "16c2f8ca",
   "metadata": {},
   "source": [
    "Pandas is a high-level data manipulation tool that creates tables of data where the columns can have different data types. It is more flexible than using a NumPy 2D array. Pandas is built on top of the NumPy package. The Pandas data table is a DataFrame, in which rows and columns have unique labels.\n",
    "\n",
    "#### DataFrame()"
   ]
  },
  {
   "cell_type": "code",
   "execution_count": null,
   "id": "a5b97975",
   "metadata": {},
   "outputs": [],
   "source": [
    "# Build a DataFrame from a dictionary.\n",
    "brics_dict = {\"country\": [\"Brazil\", \"Russia\", \"India\", \"China\", \"South Africa\"],\n",
    "              \"capital\": [\"Brasilia\", \"Moscow\", \"New Delhi\", \"Beijing\", \"Pretoria\"],\n",
    "              \"area\": [8.516, 17.10, 3.286, 9.597, 1.221],\n",
    "              \"population\": [200.4, 143.5, 1252, 1357, 52.98]}\n",
    "brics_df = pd.DataFrame(brics_dict)\n",
    "brics_df.index = [\"BR\", \"RU\", \"IN\", \"CH\", \"SA\"]\n",
    "print(brics_df)"
   ]
  },
  {
   "cell_type": "code",
   "execution_count": null,
   "id": "10deb7d5",
   "metadata": {},
   "outputs": [],
   "source": [
    "# Something I dislike about Pandas is inconsistent naming.\n",
    "print(brics_df.index) # row names\n",
    "print(brics_df.columns) # column names\n",
    "print(brics_df.dtypes) # data types"
   ]
  },
  {
   "cell_type": "markdown",
   "id": "1c4e6ae0-26cd-4c12-8af9-44c5ceb211e9",
   "metadata": {},
   "source": [
    "#### read_csv()\n",
    "\n",
    "Use the `read_csv` method to read data from a CSV file."
   ]
  },
  {
   "cell_type": "code",
   "execution_count": null,
   "id": "d177c3d3",
   "metadata": {},
   "outputs": [],
   "source": [
    "# Load the data from a CSV file.\n",
    "brics_df2 = pd.read_csv(\"brics.csv\", header=0, index_col=0)\n",
    "print(brics_df2)"
   ]
  },
  {
   "cell_type": "markdown",
   "id": "5e02c70c",
   "metadata": {},
   "source": [
    "#### Exercises"
   ]
  },
  {
   "cell_type": "code",
   "execution_count": null,
   "id": "323ef35c",
   "metadata": {},
   "outputs": [],
   "source": [
    "# Build a DataFrame from lists and a dict.\n",
    "# The dict contains the column labels and values of the DataFrame.\n",
    "names = ['United States', 'Australia', 'Japan', 'India', 'Russia', 'Morocco', 'Egypt']\n",
    "dr =  [True, False, False, False, True, True, True]\n",
    "cpc = [809, 731, 588, 18, 200, 70, 45]\n",
    "my_dict = {\"cars_per_cap\": cpc, \"country\": names, \"drives_right\": dr}\n",
    "cars = pd.DataFrame(my_dict)\n",
    "# Set the index values (row labels).\n",
    "row_labels = ['US', 'AUS', 'JPN', 'IN', 'RU', 'MOR', 'EG']\n",
    "cars.index = row_labels\n",
    "print(cars)"
   ]
  },
  {
   "cell_type": "code",
   "execution_count": null,
   "id": "44234ed3-089b-4533-bad1-73473a44486c",
   "metadata": {},
   "outputs": [],
   "source": [
    "# Create a dataframe from my_dict and row_labels all at once.\n",
    "cars2 = pd.DataFrame(my_dict, row_labels)\n",
    "print(cars2)\n",
    "# Test that cars and cars2 contain the same elements.\n",
    "print(cars2.equals(cars))"
   ]
  },
  {
   "cell_type": "code",
   "execution_count": null,
   "id": "a08d00af",
   "metadata": {},
   "outputs": [],
   "source": [
    "# Import data from the cars.csv file.\n",
    "cars3 = pd.read_csv(\"cars.csv\", index_col=0)\n",
    "print(cars3)\n",
    "# Test that cars and cars3 contain the same elements.\n",
    "print(cars3.equals(cars))"
   ]
  },
  {
   "cell_type": "markdown",
   "id": "c145e61b",
   "metadata": {},
   "source": [
    "### Index and Select Data\n",
    "\n",
    "#### Using []"
   ]
  },
  {
   "cell_type": "markdown",
   "id": "762863a0",
   "metadata": {},
   "source": [
    "Index data using square brackets, although this provides limited functionality.\n",
    "The documentation recommends using .iat, .iloc, .at, or .loc."
   ]
  },
  {
   "cell_type": "code",
   "execution_count": null,
   "id": "4d71a570-2b26-43d6-aaff-dd6ebe016753",
   "metadata": {},
   "outputs": [],
   "source": [
    "# For convenience, print brics_df2.\n",
    "print(brics_df2)"
   ]
  },
  {
   "cell_type": "code",
   "execution_count": null,
   "id": "9c2c42f0",
   "metadata": {},
   "outputs": [],
   "source": [
    "# Indexing a column with square brackets returns a Series object.\n",
    "print(type(brics_df2))\n",
    "country_series = brics_df2[\"country\"]\n",
    "print(country_series)\n",
    "print(type(country_series))"
   ]
  },
  {
   "cell_type": "code",
   "execution_count": null,
   "id": "5bfe842d",
   "metadata": {},
   "outputs": [],
   "source": [
    "# Use [[]] to extract a column as a DataFrame object.\n",
    "# This is actually indexing the columns using a list of column names.\n",
    "country_df = brics_df2[[\"country\"]]\n",
    "print(country_df)\n",
    "print(type(country_df))"
   ]
  },
  {
   "cell_type": "code",
   "execution_count": null,
   "id": "e5ad2315",
   "metadata": {},
   "outputs": [],
   "source": [
    "# Use [[]] to extract multiple columns as a DataFrame object.\n",
    "country_capital_df = brics_df2[[\"country\", \"capital\"]]\n",
    "print(country_capital_df)\n",
    "print(type(country_capital_df))"
   ]
  },
  {
   "cell_type": "code",
   "execution_count": null,
   "id": "3d06d24b",
   "metadata": {},
   "outputs": [],
   "source": [
    "# Can a tuple be used for indexing? It makes sense, but it doesn't work.\n",
    "# country_capital_df2 = brics_df2[(\"country\", \"capital\")]\n",
    "# print(country_capital_df2)\n",
    "# print(type(country_capital_df2))"
   ]
  },
  {
   "cell_type": "code",
   "execution_count": null,
   "id": "03ad03d2",
   "metadata": {},
   "outputs": [],
   "source": [
    "# Extract rows using slice indexing; this returns a DataFrame object.\n",
    "brics_df3 = brics_df2[1:4]\n",
    "print(brics_df3)\n",
    "print(type(brics_df3))"
   ]
  },
  {
   "cell_type": "code",
   "execution_count": null,
   "id": "9186e283",
   "metadata": {},
   "outputs": [],
   "source": [
    "# Try other slices. Using [0] or [0, 1] does not work.\n",
    "print(brics_df2[0:1])\n",
    "print()\n",
    "print(brics_df2[0:2])"
   ]
  },
  {
   "cell_type": "markdown",
   "id": "9998fc91",
   "metadata": {},
   "source": [
    "#### Using loc\n",
    "\n",
    "Access DataFrame elements with labels using `loc`. `loc` needs a row label and a column label or lists of row and column labels. `loc`  returns different objects depending on the indexes."
   ]
  },
  {
   "cell_type": "code",
   "execution_count": null,
   "id": "88fa3a03",
   "metadata": {},
   "outputs": [],
   "source": [
    "# Return a Series using a row label.\n",
    "ru_series = brics_df2.loc[\"RU\"]\n",
    "print(ru_series)\n",
    "print(type(ru_series))"
   ]
  },
  {
   "cell_type": "code",
   "execution_count": null,
   "id": "d49da6c3",
   "metadata": {},
   "outputs": [],
   "source": [
    "# Use a list containing the row label to return a DataFrame object.\n",
    "ru_df = brics_df2.loc[[\"RU\"]]\n",
    "print(ru_df)\n",
    "print(type(ru_df))"
   ]
  },
  {
   "cell_type": "code",
   "execution_count": null,
   "id": "f5d14e22",
   "metadata": {},
   "outputs": [],
   "source": [
    "# Return multiple rows as a DataFrame.\n",
    "brics_df4 = brics_df2.loc[[\"RU\", \"IN\", \"CH\"]]\n",
    "print(brics_df4)\n",
    "print(type(brics_df4))"
   ]
  },
  {
   "cell_type": "code",
   "execution_count": null,
   "id": "bdce63c7",
   "metadata": {},
   "outputs": [],
   "source": [
    "# Use lists of row and column labels to return a subset of rows and columns as a DataFrame object.\n",
    "brics_df5 = brics_df2.loc[[\"RU\", \"IN\", \"CH\"], [\"country\", \"capital\"]]\n",
    "print(brics_df5)\n",
    "print(type(brics_df5))"
   ]
  },
  {
   "cell_type": "code",
   "execution_count": null,
   "id": "8161b3cf",
   "metadata": {},
   "outputs": [],
   "source": [
    "# Using row and column indexes returns a single item.\n",
    "ru_country = brics_df2.loc[\"RU\", \"country\"]\n",
    "print(ru_country)\n",
    "print(type(ru_country))"
   ]
  },
  {
   "cell_type": "code",
   "execution_count": null,
   "id": "eabeae34",
   "metadata": {},
   "outputs": [],
   "source": [
    "# Use lists containing a single row label and a single column label\n",
    "# to return a DataFrame containing a single row and column.\n",
    "ru_country_df = brics_df2.loc[[\"RU\"], [\"country\"]]\n",
    "print(ru_country_df)\n",
    "print(type(ru_country_df))"
   ]
  },
  {
   "cell_type": "code",
   "execution_count": null,
   "id": "29f867cc",
   "metadata": {},
   "outputs": [],
   "source": [
    "# Returning one row or column with more than one item returns a Series object.\n",
    "ru_in_countries_series = brics_df2.loc[[\"RU\", \"IN\"], \"country\"]\n",
    "print(ru_in_countries_series)\n",
    "print(type(ru_in_countries_series))"
   ]
  },
  {
   "cell_type": "code",
   "execution_count": null,
   "id": "b2569833",
   "metadata": {},
   "outputs": [],
   "source": [
    "# Index using a list of column names to get a DataFrame object.\n",
    "ru_in_countries_df = brics_df2.loc[[\"RU\", \"IN\"], [\"country\"]]\n",
    "print(ru_in_countries_df)\n",
    "print(type(ru_in_countries_df))"
   ]
  },
  {
   "cell_type": "code",
   "execution_count": null,
   "id": "f68ae71f",
   "metadata": {},
   "outputs": [],
   "source": [
    "# Return a Series containing one row and multiple columns.\n",
    "ru_country_capital_series = brics_df2.loc[\"RU\", [\"country\", \"capital\"]]\n",
    "print(ru_country_capital_series)\n",
    "print(type(ru_country_capital_series))"
   ]
  },
  {
   "cell_type": "code",
   "execution_count": null,
   "id": "aa4f4713",
   "metadata": {},
   "outputs": [],
   "source": [
    "# Use two lists to return a DataFrame containing one row and multiple columns.\n",
    "ru_country_capital_df = brics_df2.loc[[\"RU\"], [\"country\", \"capital\"]]\n",
    "print(ru_country_capital_df)\n",
    "print(type(ru_country_capital_df))"
   ]
  },
  {
   "cell_type": "code",
   "execution_count": null,
   "id": "46bef115",
   "metadata": {},
   "outputs": [],
   "source": [
    "# Get all rows and a subset of columns.\n",
    "brics_df6 = brics_df2.loc[:, [\"country\", \"capital\"]]\n",
    "print(brics_df6)\n",
    "print(type(brics_df6))"
   ]
  },
  {
   "cell_type": "code",
   "execution_count": null,
   "id": "9294691f",
   "metadata": {},
   "outputs": [],
   "source": [
    "# Get a subset of rows and all columns using row labels.\n",
    "brics_df7 = brics_df2.loc[[\"RU\", \"CH\"]]\n",
    "print(brics_df7)\n",
    "print(type(brics_df7))"
   ]
  },
  {
   "cell_type": "code",
   "execution_count": null,
   "id": "7f2ce5b7",
   "metadata": {},
   "outputs": [],
   "source": [
    "# Get a subset of rows and all columns using : to specify all columns.\n",
    "brics_df8 = brics_df2.loc[[\"RU\", \"CH\"], :]\n",
    "print(brics_df8)\n",
    "print(type(brics_df8))"
   ]
  },
  {
   "cell_type": "markdown",
   "id": "93225526",
   "metadata": {},
   "source": [
    "#### Using iloc\n",
    "\n",
    "Use `iloc` with numeric indexes to subset a DataFrame."
   ]
  },
  {
   "cell_type": "code",
   "execution_count": null,
   "id": "9bbbf704",
   "metadata": {},
   "outputs": [],
   "source": [
    "# Return a Series containing a single row.\n",
    "brazil_series = brics_df2.iloc[0]\n",
    "print(brazil_series)\n",
    "print(type(brazil_series))"
   ]
  },
  {
   "cell_type": "code",
   "execution_count": null,
   "id": "9550070e",
   "metadata": {},
   "outputs": [],
   "source": [
    "# Return a DataFrame containing a single row and all columns.\n",
    "brazil_df = brics_df2.iloc[[0]]\n",
    "print(brazil_df)\n",
    "print(type(brazil_df))"
   ]
  },
  {
   "cell_type": "code",
   "execution_count": null,
   "id": "314a65d2-7d53-4b73-adac-288a874eb276",
   "metadata": {},
   "outputs": [],
   "source": [
    "# Return a DataFrame containing a single row and all columns.\n",
    "# This is more explicit.\n",
    "brazil_df2 = brics_df2.iloc[[0], :]\n",
    "print(brazil_df2)\n",
    "print(type(brazil_df2))"
   ]
  },
  {
   "cell_type": "code",
   "execution_count": null,
   "id": "ddfd2776",
   "metadata": {},
   "outputs": [],
   "source": [
    "# Return a DataFrame containing multiple rows and all columns.\n",
    "br_ru_df = brics_df2.iloc[[0, 1]]\n",
    "print(br_ru_df)\n",
    "print(type(br_ru_df))"
   ]
  },
  {
   "cell_type": "code",
   "execution_count": null,
   "id": "086e16f6",
   "metadata": {},
   "outputs": [],
   "source": [
    "# Return a DataFrame containing multiple rows and all columns.\n",
    "# This is more explicit.\n",
    "br_ru_df2 = brics_df2.iloc[[0, 1], :]\n",
    "print(br_ru_df2)\n",
    "print(type(br_ru_df2))"
   ]
  },
  {
   "cell_type": "code",
   "execution_count": null,
   "id": "5de763ef",
   "metadata": {},
   "outputs": [],
   "source": [
    "# Return a DataFrame containing multiple rows and all columns.\n",
    "br_ru_df3 = brics_df2.iloc[0:2]\n",
    "print(br_ru_df3)\n",
    "print(type(br_ru_df3))\n",
    "print(br_ru_df2.equals(br_ru_df3))"
   ]
  },
  {
   "cell_type": "code",
   "execution_count": null,
   "id": "bd01b0c7-1d74-4b52-b647-7599f9ce29ca",
   "metadata": {},
   "outputs": [],
   "source": [
    "# Return a DataFrame containing multiple rows and all columns.\n",
    "# This is more explicit.\n",
    "br_ru_df4 = brics_df2.iloc[0:2, :]\n",
    "print(br_ru_df4)\n",
    "print(type(br_ru_df4))\n",
    "print(br_ru_df2.equals(br_ru_df4))"
   ]
  },
  {
   "cell_type": "code",
   "execution_count": null,
   "id": "fabea82e",
   "metadata": {},
   "outputs": [],
   "source": [
    "# Return the value of an individual cell of the DataFrame.\n",
    "br_country = brics_df2.iloc[0, 0]\n",
    "print(br_country)\n",
    "print(type(br_country))"
   ]
  },
  {
   "cell_type": "code",
   "execution_count": null,
   "id": "427ae0e6",
   "metadata": {},
   "outputs": [],
   "source": [
    "# Return a DataFrame containing one row and column.\n",
    "br_country_df = brics_df2.iloc[[0], [0]]\n",
    "print(br_country_df)\n",
    "print(type(br_country_df))"
   ]
  },
  {
   "cell_type": "code",
   "execution_count": null,
   "id": "b4192d82",
   "metadata": {},
   "outputs": [],
   "source": [
    "# Return a DataFrame with multiple rows and columns.\n",
    "brics_df10 = brics_df2.iloc[[0, 2], [1, 3]]\n",
    "print(brics_df10)\n",
    "print(type(brics_df10))"
   ]
  },
  {
   "cell_type": "code",
   "execution_count": null,
   "id": "5110ee4b",
   "metadata": {},
   "outputs": [],
   "source": [
    "# Return all rows and a subset of columns.\n",
    "brics_df11 = brics_df2.iloc[:, [1, 3]]\n",
    "print(brics_df11)\n",
    "print(type(brics_df11))"
   ]
  },
  {
   "cell_type": "markdown",
   "id": "91a2dbad",
   "metadata": {},
   "source": [
    "#### Exercises"
   ]
  },
  {
   "cell_type": "code",
   "execution_count": null,
   "id": "de47120a",
   "metadata": {},
   "outputs": [],
   "source": [
    "# Create subsets of the cars2 DataFrame as a Series and a DataFrame.\n",
    "print(cars2)\n",
    "print()\n",
    "print(cars2[\"country\"])\n",
    "print()\n",
    "print(cars2[[\"country\"]])\n",
    "print()\n",
    "# Print a DataFrame containing the \"country\" and \"drives_right\" columns.\n",
    "print(cars2[[\"country\", \"drives_right\"]])"
   ]
  },
  {
   "cell_type": "code",
   "execution_count": null,
   "id": "a5a1a930",
   "metadata": {},
   "outputs": [],
   "source": [
    "# Row indexing is limited to slices when not using the iloc method.\n",
    "# Print the first three rows.\n",
    "print(cars2[0:3])\n",
    "print()\n",
    "# Print rows 4-6.\n",
    "print(cars2[3:6])"
   ]
  },
  {
   "cell_type": "code",
   "execution_count": null,
   "id": "cb878f61",
   "metadata": {},
   "outputs": [],
   "source": [
    "# Indexing using loc.\n",
    "print(cars2.loc[\"JPN\"])\n",
    "print()\n",
    "print(cars2.loc[[\"JPN\"]])\n",
    "print()\n",
    "print(cars2.loc[[\"AUS\", \"EG\"]])"
   ]
  },
  {
   "cell_type": "code",
   "execution_count": null,
   "id": "c1ee5e94",
   "metadata": {},
   "outputs": [],
   "source": [
    "# Subsets of cars2.\n",
    "# Print out drives_right value of Morocco.\n",
    "print(cars2.loc[\"MOR\", \"drives_right\"])\n",
    "print()\n",
    "# Print sub-DataFrame.\n",
    "print(cars2.loc[[\"RU\", \"MOR\"], [\"country\", \"drives_right\"]])"
   ]
  },
  {
   "cell_type": "code",
   "execution_count": null,
   "id": "81606999",
   "metadata": {},
   "outputs": [],
   "source": [
    "# More subsets.\n",
    "# Print out drives_right column as Series\n",
    "print(cars2.loc[:, \"drives_right\"])\n",
    "print()\n",
    "# Print out drives_right column as DataFrame\n",
    "print(cars2.loc[:, [\"drives_right\"]])\n",
    "print()\n",
    "# Print out cars_per_cap and drives_right as DataFrame\n",
    "print(cars2.loc[:, [\"cars_per_cap\", \"drives_right\"]])"
   ]
  },
  {
   "cell_type": "markdown",
   "id": "41e08095",
   "metadata": {},
   "source": [
    "## Logic, Control Flow, and Filtering"
   ]
  },
  {
   "cell_type": "markdown",
   "id": "fc877779",
   "metadata": {},
   "source": [
    "### Comparison Operators"
   ]
  },
  {
   "cell_type": "code",
   "execution_count": null,
   "id": "9eda6fb1",
   "metadata": {},
   "outputs": [],
   "source": [
    "#  Compare NumPy arrays.\n",
    "my_house = np.array([18.0, 20.0, 10.75, 9.50])\n",
    "your_house = np.array([14.0, 24.0, 14.25, 9.0])\n",
    "print(my_house >= 18)\n",
    "print(my_house < your_house)"
   ]
  },
  {
   "cell_type": "markdown",
   "id": "8e0162e5",
   "metadata": {},
   "source": [
    "### Boolean Operators"
   ]
  },
  {
   "cell_type": "markdown",
   "id": "be1fa206",
   "metadata": {},
   "source": [
    "The boolean operators are `and`, `or`, and `not`. Using boolean operators with the results of comparison on NumPy arrays doesn't work. Use the `numpy.logical_and`, `numpy.logical_or`, and `numpy.logical_not` methods."
   ]
  },
  {
   "cell_type": "code",
   "execution_count": null,
   "id": "c81b2c0b",
   "metadata": {},
   "outputs": [],
   "source": [
    "bmi = np.array([21.852, 21.75, 24.747, 21.441])\n",
    "# The result of a boolean comparison is a numpy.ndarray object.\n",
    "lt = bmi > 21\n",
    "print(type(lt))\n",
    "print(bmi > 21)\n",
    "print(bmi < 22)\n",
    "# This doesn't work:\n",
    "# ValueError: The truth value of an array with more than one element is ambiguous. Use a.any() or a.all()\n",
    "# print(bmi > 21 and bmi < 22)"
   ]
  },
  {
   "cell_type": "code",
   "execution_count": null,
   "id": "a5c88f14",
   "metadata": {},
   "outputs": [],
   "source": [
    "# Use numpy logical_and for pairwise comparison of elements of NumPy arrays.\n",
    "print(np.logical_and(bmi > 21, bmi < 22))"
   ]
  },
  {
   "cell_type": "code",
   "execution_count": null,
   "id": "15692403",
   "metadata": {},
   "outputs": [],
   "source": [
    "print(bmi[np.logical_and(bmi > 21, bmi < 22)])"
   ]
  },
  {
   "cell_type": "markdown",
   "id": "cb7c8e88",
   "metadata": {},
   "source": [
    "#### Exercises"
   ]
  },
  {
   "cell_type": "code",
   "execution_count": null,
   "id": "de14ea6c",
   "metadata": {},
   "outputs": [],
   "source": [
    "# my_house greater than 18.5 or smaller than 10\n",
    "print(np.logical_or(my_house > 18.5, my_house < 10))\n",
    "\n",
    "# Both my_house and your_house smaller than 11\n",
    "print(np.logical_and(my_house < 11, your_house < 11))"
   ]
  },
  {
   "cell_type": "markdown",
   "id": "7b200c1f",
   "metadata": {},
   "source": [
    "### if, elif, else"
   ]
  },
  {
   "cell_type": "code",
   "execution_count": null,
   "id": "8969a612",
   "metadata": {},
   "outputs": [],
   "source": [
    "for z in range(1, 6):\n",
    "    print(\"Checking \" + str(z) + \"...\")\n",
    "    if z % 2 == 0:\n",
    "        print(\"z is divisible by 2\")\n",
    "    elif z % 3 == 0:\n",
    "        print(\"z is divisble by 3\")\n",
    "    else:\n",
    "        print(\"z is divisible by neither 2 nor 3\")"
   ]
  },
  {
   "cell_type": "markdown",
   "id": "11102707",
   "metadata": {},
   "source": [
    "#### Exercises"
   ]
  },
  {
   "cell_type": "markdown",
   "id": "fc26e91a",
   "metadata": {},
   "source": [
    "The exercises are trivial and not included here."
   ]
  },
  {
   "cell_type": "markdown",
   "id": "1cb3ce3d",
   "metadata": {},
   "source": [
    "### Filtering Pandas DataFrames"
   ]
  },
  {
   "cell_type": "code",
   "execution_count": null,
   "id": "58093d57",
   "metadata": {},
   "outputs": [],
   "source": [
    "# Find the countries in brics.csv where the area is greater than 8 million square km.\n",
    "# brics_df2[\"area\"], brics_df2.loc[:, \"area\"], and brics_df2[:, 2] all return the same Series.\n",
    "# This finds the desired rows in the DataFrame.\n",
    "is_huge = brics_df2.loc[:, \"area\"] > 8\n",
    "is_huge\n",
    "print(type(is_huge))"
   ]
  },
  {
   "cell_type": "code",
   "execution_count": null,
   "id": "759cb3dc",
   "metadata": {},
   "outputs": [],
   "source": [
    "# Filter the data. Note that Jupyter/IPhython formats the output nicely.\n",
    "brics_df2[is_huge]"
   ]
  },
  {
   "cell_type": "code",
   "execution_count": null,
   "id": "4d26e71d",
   "metadata": {},
   "outputs": [],
   "source": [
    "# Combine into a one-liner.\n",
    "brics_df2[brics_df2.loc[:, \"area\"] > 8]"
   ]
  },
  {
   "cell_type": "code",
   "execution_count": null,
   "id": "9599bbec",
   "metadata": {},
   "outputs": [],
   "source": [
    "# More filtering as a one-liner using a boolean operator.\n",
    "brics_df2[np.logical_and(brics_df2.loc[:, \"area\"] > 8, brics_df2.loc[:, \"area\"] < 10)]"
   ]
  },
  {
   "cell_type": "markdown",
   "id": "9680ac02-6bd3-4510-a024-04ef6d00fe75",
   "metadata": {},
   "source": [
    "#### Exercises"
   ]
  },
  {
   "cell_type": "code",
   "execution_count": null,
   "id": "35fee9de",
   "metadata": {},
   "outputs": [],
   "source": [
    "# Filter the cars2 data.\n",
    "# cars_per_cap is cars per 1000 people.\n",
    "cars2"
   ]
  },
  {
   "cell_type": "code",
   "execution_count": null,
   "id": "385c2f28",
   "metadata": {},
   "outputs": [],
   "source": [
    "# Create the filter:\n",
    "drives_right = cars2.loc[:, \"drives_right\"] == True\n",
    "drives_right"
   ]
  },
  {
   "cell_type": "code",
   "execution_count": null,
   "id": "4c2ef37c",
   "metadata": {},
   "outputs": [],
   "source": [
    "# Apply the filter.\n",
    "cars2[drives_right]"
   ]
  },
  {
   "cell_type": "code",
   "execution_count": null,
   "id": "db87727b",
   "metadata": {},
   "outputs": [],
   "source": [
    "# Apply the filter the opposite way.\n",
    "drives_left = cars2.loc[:, \"drives_right\"] == False\n",
    "print(drives_left)\n",
    "cars2[drives_left]"
   ]
  },
  {
   "cell_type": "code",
   "execution_count": null,
   "id": "7e584d88",
   "metadata": {},
   "outputs": [],
   "source": [
    "# One-liner for countries where drivers drive on the right.\n",
    "cars2[cars2.loc[:, \"drives_right\"] == True]"
   ]
  },
  {
   "cell_type": "code",
   "execution_count": null,
   "id": "833e182e",
   "metadata": {},
   "outputs": [],
   "source": [
    "# Filter the rows where cars_per_cap > 500.\n",
    "cars2[cars2.loc[:, \"cars_per_cap\"] > 500]"
   ]
  },
  {
   "cell_type": "code",
   "execution_count": null,
   "id": "d05bf6ca",
   "metadata": {},
   "outputs": [],
   "source": [
    "# One-liner to filter the rows where cars_per_cap >= 100 and cars_per_cap <= 500.\n",
    "cars2[np.logical_and(\n",
    "    cars2.loc[:, \"cars_per_cap\"] >= 100,\n",
    "    cars2.loc[:, \"cars_per_cap\"] <= 500)]"
   ]
  },
  {
   "cell_type": "markdown",
   "id": "c368808c",
   "metadata": {},
   "source": [
    "## Loops"
   ]
  },
  {
   "cell_type": "markdown",
   "id": "b55ba239",
   "metadata": {},
   "source": [
    "### while"
   ]
  },
  {
   "cell_type": "markdown",
   "id": "8b14529e",
   "metadata": {},
   "source": [
    "A `while` loop behaves like a repeated `if` statement. A `while` loop is best for repeating an action until a condition is met."
   ]
  },
  {
   "cell_type": "markdown",
   "id": "c711db1a",
   "metadata": {},
   "source": [
    "#### Exercises"
   ]
  },
  {
   "cell_type": "code",
   "execution_count": null,
   "id": "62ae9f37",
   "metadata": {},
   "outputs": [],
   "source": [
    "# A simple while loop.\n",
    "offset = 8\n",
    "print(offset)\n",
    "while offset != 0:\n",
    "    print(\"correcting...\")\n",
    "    offset = offset - 1\n",
    "    print(offset)"
   ]
  },
  {
   "cell_type": "code",
   "execution_count": null,
   "id": "7264c114",
   "metadata": {},
   "outputs": [],
   "source": [
    "# A simple while loop with more complicated testing.\n",
    "offset = -6\n",
    "while offset != 0:\n",
    "    print(\"correcting...\")\n",
    "    if offset > 0:\n",
    "      offset = offset - 1\n",
    "    else : \n",
    "      offset = offset + 1\n",
    "    print(offset)"
   ]
  },
  {
   "cell_type": "markdown",
   "id": "607e6d5b",
   "metadata": {},
   "source": [
    "### for"
   ]
  },
  {
   "cell_type": "code",
   "execution_count": null,
   "id": "56e2cb9f",
   "metadata": {},
   "outputs": [],
   "source": [
    "# A simple for loop.\n",
    "fam = [1.73, 1.68, 1.71, 1.89]\n",
    "for height in fam:\n",
    "    print(height)"
   ]
  },
  {
   "cell_type": "code",
   "execution_count": null,
   "id": "3ac4406f",
   "metadata": {},
   "outputs": [],
   "source": [
    "# A for loop with enumeration.\n",
    "for index, height in enumerate(fam):\n",
    "    print(\"index \" + str(index) + \": \" + str(height))"
   ]
  },
  {
   "cell_type": "code",
   "execution_count": null,
   "id": "4a8cb8b1",
   "metadata": {},
   "outputs": [],
   "source": [
    "# Use a for loop with a string.\n",
    "for c in \"family\":\n",
    "    print(c.capitalize())"
   ]
  },
  {
   "cell_type": "markdown",
   "id": "6586d5bf",
   "metadata": {},
   "source": [
    "#### Exercises"
   ]
  },
  {
   "cell_type": "code",
   "execution_count": null,
   "id": "97b6bd14",
   "metadata": {},
   "outputs": [],
   "source": [
    "# A simple for loop.\n",
    "areas = [11.25, 18.0, 20.0, 10.75, 9.50]\n",
    "for area in areas:\n",
    "    print(area)"
   ]
  },
  {
   "cell_type": "code",
   "execution_count": null,
   "id": "ffd7c6c3",
   "metadata": {},
   "outputs": [],
   "source": [
    "# A simple loop with enumeration.\n",
    "areas = [11.25, 18.0, 20.0, 10.75, 9.50]\n",
    "for index, a in enumerate(areas):\n",
    "    print(\"room \" + str(index + 1) + \": \" + str(a))"
   ]
  },
  {
   "cell_type": "code",
   "execution_count": null,
   "id": "991edc04",
   "metadata": {},
   "outputs": [],
   "source": [
    "# A for loop with a list of lists.\n",
    "house = [[\"hallway\", 11.25], \n",
    "         [\"kitchen\", 18.0], \n",
    "         [\"living room\", 20.0], \n",
    "         [\"bedroom\", 10.75], \n",
    "         [\"bathroom\", 9.50]]\n",
    "for room in house:\n",
    "    print(\"the \" + room[0] + \" is \" + str(room[1]) + \" sqm\")"
   ]
  },
  {
   "cell_type": "markdown",
   "id": "f0d34296",
   "metadata": {},
   "source": [
    "### Loop Data Structures, Part 1\n",
    "\n",
    "#### Iterate Through a Dictionary"
   ]
  },
  {
   "cell_type": "code",
   "execution_count": null,
   "id": "f3d21376",
   "metadata": {},
   "outputs": [],
   "source": [
    "# Iterate through a dictionary:\n",
    "world = {\"afghanistan\": 30.55, \"albania\": 2.77, \"algeria\": 39.21}\n",
    "for key, value in world.items():\n",
    "    print(str(key) + \": \" + str(value))"
   ]
  },
  {
   "cell_type": "markdown",
   "id": "1615c9f0-c375-4e6b-a1ab-ce5ef2314476",
   "metadata": {},
   "source": [
    "#### Iterate Through numpy Arrays"
   ]
  },
  {
   "cell_type": "code",
   "execution_count": null,
   "id": "bcbf0e92",
   "metadata": {},
   "outputs": [],
   "source": [
    "# Iterate through numpy arrays.\n",
    "np_height = np.array([1.73, 1.68, 1.71, 1.89, 1.79])\n",
    "np_weight = np.array([65.4, 59.2, 63.6, 88.4, 68.7])\n",
    "bmi = np_weight / np_height ** 2\n",
    "for val in bmi:\n",
    "    print(val)"
   ]
  },
  {
   "cell_type": "code",
   "execution_count": null,
   "id": "f167825f",
   "metadata": {},
   "outputs": [],
   "source": [
    "meas = np.array([np_height, np_weight])\n",
    "print(meas)"
   ]
  },
  {
   "cell_type": "code",
   "execution_count": null,
   "id": "48bf3feb",
   "metadata": {},
   "outputs": [],
   "source": [
    "# This prints each 1D array in the 2D array.\n",
    "for val in meas:\n",
    "    print(val)"
   ]
  },
  {
   "cell_type": "code",
   "execution_count": null,
   "id": "aff2fead",
   "metadata": {},
   "outputs": [],
   "source": [
    "# Iterate through the individual elements in the 2D array.\n",
    "for val in np.nditer(meas):\n",
    "    print(val)"
   ]
  },
  {
   "cell_type": "markdown",
   "id": "cbbea6fe",
   "metadata": {},
   "source": [
    "#### Exercises"
   ]
  },
  {
   "cell_type": "code",
   "execution_count": null,
   "id": "8699e7d4",
   "metadata": {},
   "outputs": [],
   "source": [
    "europe3 = {'spain':'madrid', 'france':'paris', 'germany':'berlin',\n",
    "          'norway':'oslo', 'italy':'rome', 'poland':'warsaw', 'austria':'vienna'}\n",
    "for key, val in europe3.items():\n",
    "    print(\"the capital of \" + key + \" is \" + val)"
   ]
  },
  {
   "cell_type": "code",
   "execution_count": null,
   "id": "12e29aaf",
   "metadata": {},
   "outputs": [],
   "source": [
    "# The next exercise uses the data from baseball.csv (see Introduction to Python).\n",
    "# Iterate over items in a numpy.ndarray containing one column:\n",
    "# for x in np_array:\n",
    "#     print(str(x) + \" inches\"\n",
    "\n",
    "# Iterate over items in a numpy.ndarray containing two columns:\n",
    "# for x in np.nditer(np_array):\n",
    "#     print(x)"
   ]
  },
  {
   "cell_type": "markdown",
   "id": "6fd4091f",
   "metadata": {},
   "source": [
    "### Loop Data Structures, Part 2"
   ]
  },
  {
   "cell_type": "code",
   "execution_count": null,
   "id": "0ad905bb",
   "metadata": {},
   "outputs": [],
   "source": [
    "# Review brics_df2 DataFrame.\n",
    "brics_df2"
   ]
  },
  {
   "cell_type": "markdown",
   "id": "f926e8a3-836e-4e51-b2f9-7c4bb95b86bd",
   "metadata": {},
   "source": [
    "#### Iterate Through a pandas DataFrame"
   ]
  },
  {
   "cell_type": "code",
   "execution_count": null,
   "id": "67fb96d3",
   "metadata": {},
   "outputs": [],
   "source": [
    "# Looping through a pandas DataFrame.\n",
    "# This prints the column names.\n",
    "for val in brics_df2:\n",
    "    print(val)"
   ]
  },
  {
   "cell_type": "code",
   "execution_count": null,
   "id": "9895a9d6",
   "metadata": {},
   "outputs": [],
   "source": [
    "# Iterate through the column names:\n",
    "for val in brics_df2.columns:\n",
    "    print(val)"
   ]
  },
  {
   "cell_type": "code",
   "execution_count": null,
   "id": "a95f8f5b",
   "metadata": {},
   "outputs": [],
   "source": [
    "# Iterate through the row names:\n",
    "for val in brics_df2.index:\n",
    "    print(val)"
   ]
  },
  {
   "cell_type": "code",
   "execution_count": null,
   "id": "e23aedbf",
   "metadata": {},
   "outputs": [],
   "source": [
    "# Use the iterrows method to iterate through the rows of a pandas DataFrame.\n",
    "# This returns a row label and a pandas.Series object for each iteration.\n",
    "for label, row in brics_df2.iterrows():\n",
    "    print(label)\n",
    "    print(type(row))\n",
    "    print(row)\n",
    "    print()"
   ]
  },
  {
   "cell_type": "code",
   "execution_count": null,
   "id": "64a09d53",
   "metadata": {},
   "outputs": [],
   "source": [
    "# Iterate through the DataFrame and print only the capitals.\n",
    "for lab, row in brics_df2.iterrows():\n",
    "    print(lab + \": \" + row[\"capital\"])"
   ]
  },
  {
   "cell_type": "markdown",
   "id": "47234f44-6c6f-4897-bf7b-f90dc9108e3e",
   "metadata": {},
   "source": [
    "#### Add a Column to a DataFrame"
   ]
  },
  {
   "cell_type": "code",
   "execution_count": null,
   "id": "1210380b",
   "metadata": {},
   "outputs": [],
   "source": [
    "# Add a column to the DataFrame containing the length of the name.\n",
    "# When a new column Series is created but there is no value for the row,\n",
    "# the value is set to NaN.\n",
    "# The lengths are turned into floats; is this because the Series contains\n",
    "# NaN values until it is completely filled?\n",
    "# This is not efficient because a new Series object is created on each iteration\n",
    "# (is that true?). I think this means the underlying numpy.ndarray is\n",
    "# created on each iteration.\n",
    "for lab, row in brics_df2.iterrows():\n",
    "    brics_df2.loc[lab, \"name_length\"] = int(len(row[\"country\"]))\n",
    "    # print(\"lab: \" + lab + \" row: \" + str(row))\n",
    "    # print(brics_df2)\n",
    "    # print()\n",
    "brics_df2"
   ]
  },
  {
   "cell_type": "code",
   "execution_count": null,
   "id": "e4b4b2c6",
   "metadata": {},
   "outputs": [],
   "source": [
    "# Building the new column (Series) of the DataFrame can be performed\n",
    "# more efficiently by using the apply method of the Series object.\n",
    "# The iteration is within apply.\n",
    "# The values of the new column (Series) are set to ints.\n",
    "brics_df2[\"name_length2\"] = brics_df2[\"country\"].apply(len)\n",
    "brics_df2"
   ]
  },
  {
   "cell_type": "markdown",
   "id": "b6f3fb1f",
   "metadata": {},
   "source": [
    "#### Exercises"
   ]
  },
  {
   "cell_type": "code",
   "execution_count": null,
   "id": "b9c5330c",
   "metadata": {},
   "outputs": [],
   "source": [
    "# Review the cars2 DataFrame.\n",
    "cars2"
   ]
  },
  {
   "cell_type": "code",
   "execution_count": null,
   "id": "d9b3dca9",
   "metadata": {},
   "outputs": [],
   "source": [
    "# Iterate through cars2 to print the label and data of each row.\n",
    "for label, data in cars2.iterrows():\n",
    "    print(label)\n",
    "    print(data)"
   ]
  },
  {
   "cell_type": "code",
   "execution_count": null,
   "id": "5f219132",
   "metadata": {},
   "outputs": [],
   "source": [
    "# Print the label and the cars_per_cap value for each row.\n",
    "for lab, row in cars2.iterrows():\n",
    "    print(lab + \": \" + str(row[\"cars_per_cap\"]))"
   ]
  },
  {
   "cell_type": "code",
   "execution_count": null,
   "id": "5e2887f0",
   "metadata": {},
   "outputs": [],
   "source": [
    "# Inefficiently create a COUNTRY column in the DataFrame.\n",
    "for lab, row in cars2.iterrows():\n",
    "    cars2.loc[lab, \"COUNTRY\"] = row.loc[\"country\"].upper()\n",
    "cars2"
   ]
  },
  {
   "cell_type": "code",
   "execution_count": null,
   "id": "66f2bce7",
   "metadata": {},
   "outputs": [],
   "source": [
    "# Use the apply method to efficiently create a new column.\n",
    "cars2[\"COUNTRY2\"] = cars2[\"country\"].apply(str.upper)\n",
    "cars2"
   ]
  },
  {
   "cell_type": "markdown",
   "id": "4c95c486",
   "metadata": {},
   "source": [
    "## Hacker Statisics"
   ]
  },
  {
   "cell_type": "markdown",
   "id": "53806337",
   "metadata": {},
   "source": [
    "This is a random walk simulation. You are climbing the steps inside the Empire State Building. You roll a die 100 times to determine your next move. Given the following rules, what is the probability that you'll reach Step 60?\n",
    "\n",
    "- If you roll 1 or 2, you go down one step.\n",
    "- If you roll 3, 4, or 5, you go up one step.\n",
    "- If you roll 6, you roll the die again and climb the number of steps determined by the roll.\n",
    "- There is a 0.1% chance (one in a thousand) that you'll fall down the steps, having to restart at the beginning.\n",
    "\n",
    "This is \"hacker statistics\" because it takes a Monte Carlo approach to estimate the probability. Thousands of runs are generated, with success or failure recorded for each run, and the probability of success is estimated from the proportion of successes."
   ]
  },
  {
   "cell_type": "markdown",
   "id": "10081dfd",
   "metadata": {},
   "source": [
    "### Random Numbers"
   ]
  },
  {
   "cell_type": "code",
   "execution_count": null,
   "id": "14d7ff46",
   "metadata": {},
   "outputs": [],
   "source": [
    "# Initialize the pseudorandom number generator and obtain the first two numbers\n",
    "# from a uniform distribution.\n",
    "np.random.seed(123)\n",
    "print(np.random.rand())\n",
    "print(np.random.rand())"
   ]
  },
  {
   "cell_type": "markdown",
   "id": "7c2146da",
   "metadata": {},
   "source": [
    "### Preliminary Work\n",
    "\n",
    "I wrote functions for rolling a die, falling, climbing or descending, and processing a climb event. I wrote functions for testing these functions."
   ]
  },
  {
   "cell_type": "code",
   "execution_count": null,
   "id": "33bef8fe",
   "metadata": {},
   "outputs": [],
   "source": [
    "# My work.\n",
    "# Functions for rolling, climbing, falling, and running a climb event.\n",
    "def roll_die():\n",
    "    \"\"\"\n",
    "    Return a die roll (1, 2, 3, 4, 5, or 6).\n",
    "    \"\"\"\n",
    "    # return int(np.random.rand() * 6 + 1)\n",
    "    return np.random.randint(1, 7)\n",
    "\n",
    "def fall():\n",
    "    \"\"\"\n",
    "    The probability of falling is 0.1%. Return True if the\n",
    "    random number indicates falling, False otherwise.\n",
    "    \"\"\"\n",
    "    if np.random.rand() < 0.001:\n",
    "        return True\n",
    "    else:\n",
    "        return False\n",
    "\n",
    "def climb():\n",
    "    steps = None\n",
    "    roll = roll_die()\n",
    "    if roll == 1:\n",
    "        steps = -1\n",
    "    elif roll == 2:\n",
    "        steps = -1\n",
    "    elif roll == 3:\n",
    "        steps = 1\n",
    "    elif roll == 4:\n",
    "        steps = 1\n",
    "    elif roll == 5:\n",
    "        steps = 1\n",
    "    elif roll == 6:\n",
    "        steps = roll_die()\n",
    "    return steps\n",
    "\n",
    "def do_climb():\n",
    "    \"\"\"\n",
    "    Roll the die 100 times and return the final step reached.\n",
    "    Make sure step is never less than 0.\n",
    "    \"\"\"\n",
    "    iterations = 100\n",
    "    step = 0\n",
    "    for i in range(0, iterations):\n",
    "        if fall():\n",
    "            step = 0\n",
    "        else:\n",
    "            step += climb()\n",
    "            if step < 0:\n",
    "                step = 0\n",
    "    return step"
   ]
  },
  {
   "cell_type": "code",
   "execution_count": null,
   "id": "d030795c",
   "metadata": {},
   "outputs": [],
   "source": [
    "# My work.\n",
    "# Functions for testing the above functions.\n",
    "def test_roll_die():\n",
    "    \"\"\"\n",
    "    Use 60,000 iterations to test the distribution of rolls\n",
    "    generated by the roll_die function.\n",
    "    \"\"\"\n",
    "    iterations = 60000\n",
    "    rolls = {}\n",
    "    for i in range(0, iterations):\n",
    "        roll = roll_die()\n",
    "        if roll not in rolls:\n",
    "            rolls[roll] = 1\n",
    "        else:\n",
    "            rolls[roll] += 1\n",
    "    print(\"rolls per \" + str(iterations) + \" iterations:\")\n",
    "    for roll in sorted(rolls.keys()):\n",
    "        print(str(roll) + \": \" + str(rolls[roll]))\n",
    "    print()\n",
    "\n",
    "def test_fall():\n",
    "    \"\"\"\n",
    "    Return the number of falls per 1,000,000 events. The value\n",
    "    should be near 1,000.\n",
    "    \"\"\"\n",
    "    iterations = 1000000\n",
    "    falls = 0\n",
    "    for i in range(0, iterations):\n",
    "        if fall():\n",
    "            falls += 1\n",
    "    print(\"falls per \" + str(iterations) + \" climbs:\")\n",
    "    print(falls)\n",
    "    print()\n",
    "\n",
    "def test_climb():\n",
    "    \"\"\"\n",
    "    Call climb 12,000 times and record the distribution.\n",
    "    \"\"\"\n",
    "    iterations = 12000\n",
    "    steps_data = {}\n",
    "    for i in range(0, iterations):\n",
    "        steps = climb()\n",
    "        if steps not in steps_data:\n",
    "            steps_data[steps] = 1\n",
    "        else:\n",
    "            steps_data[steps] += 1\n",
    "    print(\"steps per \" + str(iterations) + \" climbs:\")\n",
    "    for steps in sorted(steps_data.keys()):\n",
    "        print(str(steps) + \": \" + str(steps_data[steps]))\n",
    "    print()\n",
    "\n",
    "def test_do_climb():\n",
    "    # Expect to fall 0.001 * 10000 * 100 times, or 1000 times.\n",
    "    iterations = 10000\n",
    "    result = {\"success\": 0, \"failure\": 0}\n",
    "    for i in range(0, iterations):\n",
    "        step = do_climb()\n",
    "        if step >= 60:\n",
    "            result[\"success\"] += 1\n",
    "        else:\n",
    "            result[\"failure\"] += 1\n",
    "    print(\"proportions of success and failure for \" + str(iterations) + \" climbing runs:\")\n",
    "    print(\"success: \" + str(result[\"success\"] / iterations))\n",
    "    print(\"failure: \" + str(result[\"failure\"] / iterations))\n",
    "    print()\n",
    "\n",
    "test_roll_die()\n",
    "test_fall()\n",
    "test_climb()\n",
    "test_do_climb()"
   ]
  },
  {
   "cell_type": "markdown",
   "id": "ccc2c789",
   "metadata": {},
   "source": [
    "After watching more of the videos, I learned that the requirements are to collect the step positions in a list and plot them using plt.plot()."
   ]
  },
  {
   "cell_type": "markdown",
   "id": "2fa54833",
   "metadata": {},
   "source": [
    "### Random Walk\n",
    "\n",
    "The path of a molecule in air or a liquid is well-described by a random walk. A random walk can also be used to simulate a gambler's financial status."
   ]
  },
  {
   "cell_type": "markdown",
   "id": "a236296d",
   "metadata": {},
   "source": [
    "#### Exercises"
   ]
  },
  {
   "cell_type": "code",
   "execution_count": null,
   "id": "05e08ea4",
   "metadata": {},
   "outputs": [],
   "source": [
    "# This is a modified function that returns the random walk steps from a\n",
    "# complete random walk so they can be plotted.\n",
    "def do_random_walk():\n",
    "    \"\"\"\n",
    "    Roll the die 100 times and return a list containing\n",
    "    the step positions.\n",
    "    \"\"\"\n",
    "    iterations = 100\n",
    "    random_walk = [0]\n",
    "    step = None\n",
    "    for i in range(0, iterations):\n",
    "        if fall():\n",
    "            step = 0\n",
    "        else:\n",
    "            step = random_walk[-1] + climb()\n",
    "            if step < 0:\n",
    "                step = 0\n",
    "        random_walk.append(step)\n",
    "    return random_walk\n",
    "\n",
    "def plot_random_walk(random_walk):\n",
    "    plt.plot(random_walk)\n",
    "    plt.show()\n",
    "\n",
    "# Carry out a climbing run and plot it.\n",
    "random_walk = do_random_walk()\n",
    "plot_random_walk(random_walk)"
   ]
  },
  {
   "cell_type": "markdown",
   "id": "87a7a085",
   "metadata": {},
   "source": [
    "### Distributions\n",
    "\n",
    "What is the distribution of the number of tails seen if we toss a coin 10 times and repeat this 10,000 times?"
   ]
  },
  {
   "cell_type": "code",
   "execution_count": null,
   "id": "18af0c9d",
   "metadata": {},
   "outputs": [],
   "source": [
    "final_tails = []\n",
    "for i in range(10000):\n",
    "    tails = [0]\n",
    "    for j in range(10):\n",
    "        coin = np.random.randint(0, 2)\n",
    "        tails.append(tails[-1] + coin)\n",
    "    final_tails.append(tails[-1])\n",
    "\n",
    "# Collect the distribution in a dictionary and display it.\n",
    "dist = {}\n",
    "for result in final_tails:\n",
    "    if result not in dist:\n",
    "        dist[result] = 1\n",
    "    else:\n",
    "        dist[result] += 1\n",
    "for bin in sorted(dist.keys()):\n",
    "    print(str(bin) + \": \" + str(dist[bin]))\n",
    "\n",
    "# Plot the distribution as a histogram.\n",
    "\n",
    "# This was the plot code from the video. The output did not\n",
    "# match the histogram in the video.\n",
    "# plt.hist(final_tails, bins=10)\n",
    "\n",
    "# I had to experiment with bins and align to get the histogram\n",
    "# to draw correctly. I made other refinements to the figure.\n",
    "plt.hist(final_tails, bins=range(0, 12), align=\"left\")\n",
    "plt.title(\"Distribution of number of tails per 10 coin flips\")\n",
    "plt.xticks(range(0, 11))\n",
    "plt.xlabel(\"Number of tails per 10 coin flips\")\n",
    "plt.ylabel(\"Observations\")\n",
    "plt.show()"
   ]
  },
  {
   "cell_type": "markdown",
   "id": "59582deb",
   "metadata": {},
   "source": [
    "#### Exercises"
   ]
  },
  {
   "cell_type": "code",
   "execution_count": null,
   "id": "860821f9",
   "metadata": {},
   "outputs": [],
   "source": [
    "# Create multiple random walks.\n",
    "# Plot the random walks.\n",
    "# Create a histogram of the final positions of the walks.\n",
    "rw_iterations = 1000\n",
    "random_walks = []\n",
    "for i in range(rw_iterations):\n",
    "    random_walk = do_random_walk()\n",
    "    random_walks.append(random_walk)\n",
    "# Create a numpy array and plot it. The results are not what we want.\n",
    "np_rw = np.array(random_walks)\n",
    "\n",
    "# Transpose the data and plot it.\n",
    "# plt.plot creates a line plot from the table columns.\n",
    "# Here we have columns with 101 rows.\n",
    "np_rw_t = np_rw.T\n",
    "# print(np_rw_t.shape) # (101, 1000)\n",
    "\n",
    "plt.plot(np_rw_t)\n",
    "plt.show()\n",
    "\n",
    "# Plot a histogram of the final position of each random walk.\n",
    "ends = np_rw_t[-1]\n",
    "max_range = int(((max(ends) / 10) + 1) * 10)\n",
    "plt.xticks(range(0, max_range, 10))\n",
    "plt.hist(ends, bins=range(0, max_range, 10))\n",
    "plt.show()\n",
    "\n",
    "# Find the number of successful walks.\n",
    "success = 0\n",
    "for x in ends:\n",
    "    if x >= 60:\n",
    "        success += 1\n",
    "print(success)\n",
    "print(success / rw_iterations)"
   ]
  }
 ],
 "metadata": {
  "kernelspec": {
   "display_name": "Python 3 (ipykernel)",
   "language": "python",
   "name": "python3"
  },
  "language_info": {
   "codemirror_mode": {
    "name": "ipython",
    "version": 3
   },
   "file_extension": ".py",
   "mimetype": "text/x-python",
   "name": "python",
   "nbconvert_exporter": "python",
   "pygments_lexer": "ipython3",
   "version": "3.12.7"
  }
 },
 "nbformat": 4,
 "nbformat_minor": 5
}
