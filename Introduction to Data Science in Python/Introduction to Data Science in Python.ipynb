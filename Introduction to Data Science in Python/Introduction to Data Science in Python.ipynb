{
 "cells": [
  {
   "cell_type": "markdown",
   "id": "112c9869-d1d7-4ec7-b2a2-f9b76f6543e1",
   "metadata": {},
   "source": [
    "# Introduction to Data Science in Python\n",
    "\n",
    "These are my notes for DataCamp's course [_Introduction to Data Science in Python_](https://www.datacamp.com/courses/introduction-to-data-science-in-python).\n",
    "\n",
    "This course is presented by Hillary Green-Lerman, Lead Data Scientist at Looker. The collaborator is Mona Khalil.\n",
    "\n",
    "There are no prerequisites for this course.\n",
    "\n",
    "This course is part of these tracks:\n",
    "\n",
    "- Data Skills for Business\n",
    "\n",
    "There are no data sets provided for this course. However, I was able to replicate the needed data in CSV files.\n",
    "\n",
    "The course does an excellent job of pointing out the errors an inexperienced user might experience and how to fix them."
   ]
  },
  {
   "cell_type": "markdown",
   "id": "6bd979e8-4621-460c-aa81-16db0f89a0aa",
   "metadata": {
    "tags": []
   },
   "source": [
    "## Versions\n",
    "\n",
    "For this notebook, I used:\n",
    "\n",
    "- Python 3.12.7\n",
    "- matplotlib 3.9.2\n",
    "- numpy 2.1.3\n",
    "- pandas 2.2.3"
   ]
  },
  {
   "cell_type": "markdown",
   "id": "87fd316a-3501-4a6d-b5f7-552a2c244c76",
   "metadata": {},
   "source": [
    "## Imports\n",
    "\n",
    "Imports are placed here for convenience and clarity. "
   ]
  },
  {
   "cell_type": "code",
   "execution_count": null,
   "id": "45bf7fc8-1cb3-4095-8ed5-5ddce16d1aa9",
   "metadata": {},
   "outputs": [],
   "source": [
    "import math\n",
    "\n",
    "import matplotlib.pyplot as plt\n",
    "import numpy as np\n",
    "import pandas as pd"
   ]
  },
  {
   "cell_type": "markdown",
   "id": "98776c86-76f8-4e25-9205-20cd3ee60945",
   "metadata": {},
   "source": [
    "## Getting Started in Python"
   ]
  },
  {
   "cell_type": "markdown",
   "id": "91b60102-edea-4fe0-8f6f-ebeb105f5e1d",
   "metadata": {},
   "source": [
    "### Dive into Python\n",
    "\n",
    "This course is intended for people with no experience with Python. It is the most introductory course that I've encountered so far. This video explains how to use the DataCamp interface and how to import modules."
   ]
  },
  {
   "cell_type": "markdown",
   "id": "3f511970-9abc-4b5b-b9b8-740239a546a4",
   "metadata": {},
   "source": [
    "#### Exercises"
   ]
  },
  {
   "cell_type": "code",
   "execution_count": null,
   "id": "b4ece019-7821-42a9-9adc-df84c16d40b3",
   "metadata": {},
   "outputs": [],
   "source": [
    "# Importing modules.\n",
    "# See Imports above."
   ]
  },
  {
   "cell_type": "markdown",
   "id": "ff35c43a-7d99-42a5-9f82-260849e9e05a",
   "metadata": {},
   "source": [
    "### Creating Variables\n",
    "\n",
    "This video explains the rules for creating variables.\n",
    "\n",
    "#### Exercises"
   ]
  },
  {
   "cell_type": "code",
   "execution_count": null,
   "id": "99f05573-7548-4487-a7a8-15e846f532f2",
   "metadata": {},
   "outputs": [],
   "source": [
    "# Store each piece of information in a variable.\n",
    "bayes_age = 4.0\n",
    "print(bayes_age)\n",
    "favorite_toy = \"Mr. Squeaky\"\n",
    "owner = \"DataCamp\"\n",
    "print(favorite_toy)\n",
    "print(owner)"
   ]
  },
  {
   "cell_type": "code",
   "execution_count": null,
   "id": "7f4d7175-26c7-46b7-b8a3-6e496647fdb1",
   "metadata": {},
   "outputs": [],
   "source": [
    "birthday = \"2017-07-14\"\n",
    "case_id = \"DATACAMP!123-456?\""
   ]
  },
  {
   "cell_type": "markdown",
   "id": "24148632-20ea-436f-8eb2-6b3d7b18065c",
   "metadata": {},
   "source": [
    "### Fun with Functions\n",
    "\n",
    "The video provides a detailed example of how to create a function, including positional and keyword arguments.\n",
    "\n",
    "Gertrude Mary Cox was an American statistician and founder of the department of Experimental Statistics at North Carolina State University. \n",
    "\n",
    "Kirstine Smith was a Danish statistician. She is credited with the creation of the field of optimal design of experiments."
   ]
  },
  {
   "cell_type": "markdown",
   "id": "3ea16fba-cb8b-4ffd-a971-dd70f2adf2b8",
   "metadata": {},
   "source": [
    "#### Exercises"
   ]
  },
  {
   "cell_type": "code",
   "execution_count": null,
   "id": "9b33ea74-29a5-4367-99d1-57e2c0afa57a",
   "metadata": {},
   "outputs": [],
   "source": [
    "# Extra credit.\n",
    "# I n the console, I entered the command !cat ransom.csv to print the contents\n",
    "# of the ransom.csv file in the console. I copied the data into a file named\n",
    "# ransom.csv and saved the file in my project folder.\n",
    "\n",
    "# Load the data and view it.\n",
    "r = pd.read_csv(\"ransom.csv\")\n",
    "r"
   ]
  },
  {
   "cell_type": "code",
   "execution_count": null,
   "id": "2077d176-6a7f-4d7d-9132-83e0bc90a7fd",
   "metadata": {},
   "outputs": [],
   "source": [
    "# Create a line plot.\n",
    "plt.plot(r[\"letter\"], r[\"frequency\"])\n",
    "plt.show()"
   ]
  },
  {
   "cell_type": "code",
   "execution_count": null,
   "id": "390757b4-02ab-4b88-a28a-f333e09c23ce",
   "metadata": {},
   "outputs": [],
   "source": [
    "# Extra credit.\n",
    "# The course provided a function, lookup_plate.\n",
    "# I used inspect.getsource() to get the source code for this function.\n",
    "# import inspect\n",
    "# src = inspect.getsource(lookup_plate)\n",
    "# print(src)\n",
    "# This is the function.\n",
    "def lookup_plate(plate_str, color=None):\n",
    "    if type(plate_str) != str:\n",
    "        print(\"Error! Please input a string!\")\n",
    "        return False\n",
    "    elif len(plate_str) != 7:\n",
    "        print(\"Error! License plate must have 7 characters. Use a * for missing characters.\")\n",
    "        return False\n",
    "    elif plate_str == 'FRQ****':\n",
    "        if color is None:\n",
    "            print('''\n",
    "            Fred Frequentist\n",
    "            John W. Tukey\n",
    "            Ronald Aylmer Fisher\n",
    "            Karl Pearson\n",
    "            Gertrude Cox\n",
    "            Kirstine Smith\n",
    "            ''')\n",
    "            return True\n",
    "        elif color == 'Green':\n",
    "            print('''\n",
    "            Fred Frequentist\n",
    "            Ronald Aylmer Fisher\n",
    "            Gertrude Cox\n",
    "            Kirstine Smith\n",
    "            ''')\n",
    "            return True\n",
    "        else:\n",
    "            print('Error! No cars of that color found!')\n",
    "            return False\n",
    "    elif plate_str == 'EXAMPLE':\n",
    "        print('''\n",
    "        Christopher Eccleston\n",
    "        Matt Smith\n",
    "        David Tenant\n",
    "        Peter Capaldi\n",
    "        Jodie Whittaker\n",
    "        ''')\n",
    "        return True\n",
    "    else:\n",
    "        print(\"Error! Plate not found!\")\n",
    "        return False\n",
    "\n",
    "# Use the function.\n",
    "plate = \"FRQ****\"\n",
    "lookup_plate(plate)"
   ]
  },
  {
   "cell_type": "code",
   "execution_count": null,
   "id": "d0696fdb-b705-446a-b3be-5fd7b2bd597a",
   "metadata": {},
   "outputs": [],
   "source": [
    "# Call the function with a second argument.\n",
    "# We have a partial plate number and the plate's color.\n",
    "lookup_plate(plate, \"Green\")"
   ]
  },
  {
   "cell_type": "markdown",
   "id": "9e37f51d-3bbc-4a39-b3a1-f382113cb357",
   "metadata": {},
   "source": [
    "## Loading Data in pandas"
   ]
  },
  {
   "cell_type": "markdown",
   "id": "6dfa604e-6511-4ede-a1c1-08dea42a5715",
   "metadata": {},
   "source": [
    "### What is pandas?\n",
    "\n",
    "pandas is a tool for working with tabular data. pandas can:\n",
    "- Load tabular data from different sources\n",
    "- Search for particular rows or columns\n",
    "- Calculate aggregate statistics\n",
    "- Combine data from multiple sources\n",
    "\n",
    "pandas provides a new data type, the DataFrame.\n",
    "\n",
    "One of the easiest ways to import data is from a CSV file.\n",
    "\n",
    "Use `pandas.DataFrame.head` to look at the first few lines of a DataFrame. Use `pandas.DataFrame.info` to get information about the structure of the DataFrame."
   ]
  },
  {
   "cell_type": "markdown",
   "id": "82b36525-0330-425f-ba95-69bfcd09cfc1",
   "metadata": {},
   "source": [
    "#### Exercises"
   ]
  },
  {
   "cell_type": "code",
   "execution_count": null,
   "id": "00d580e7-c622-4bdb-a091-281c9085e3bf",
   "metadata": {},
   "outputs": [],
   "source": [
    "# Extra credit.\n",
    "# In the console, I entered the command !cat credit_records.csv.\n",
    "# I copied the data into a new file, credit_records.csv, and saved the file in\n",
    "# the project directory.\n",
    "\n",
    "# Load the data from credit_records.csv.\n",
    "credit_records = pd.read_csv(\"credit_records.csv\")\n",
    "print(credit_records.head())\n",
    "print()\n",
    "print(credit_records.info())"
   ]
  },
  {
   "cell_type": "markdown",
   "id": "fc9220c0-d60c-4c50-ba7c-3d4ac6b125e8",
   "metadata": {},
   "source": [
    "### Selecting Columns"
   ]
  },
  {
   "cell_type": "code",
   "execution_count": null,
   "id": "0e1c0df8-65bb-4c7a-8a5b-0ef0525b8f98",
   "metadata": {},
   "outputs": [],
   "source": [
    "# Select columns in different ways.\n",
    "# We can use dot notation as long as the column name doesn't contain a\n",
    "# space character.\n",
    "price = credit_records[\"price\"]\n",
    "print(price)\n",
    "print()\n",
    "# Get the column data using dot notation.\n",
    "price2 = credit_records.price\n",
    "print(price2)\n",
    "# Show that the two objects are equivalent.\n",
    "price.equals(price2)"
   ]
  },
  {
   "cell_type": "markdown",
   "id": "df8af8f7-04fc-437b-a4fd-b9f1fe41c202",
   "metadata": {},
   "source": [
    "#### Exercises"
   ]
  },
  {
   "cell_type": "code",
   "execution_count": null,
   "id": "bf4437b8-053b-4b50-8fd8-c14f8e27988a",
   "metadata": {},
   "outputs": [],
   "source": [
    "# Select data from the item column two different ways.\n",
    "items = credit_records[\"item\"]\n",
    "print(items)\n",
    "items2 = credit_records.item\n",
    "items.equals(items2)"
   ]
  },
  {
   "cell_type": "code",
   "execution_count": null,
   "id": "c5279cfd-0503-4e00-9eb3-eb5ffcfc177d",
   "metadata": {},
   "outputs": [],
   "source": [
    "location = credit_records[\"location\"]\n",
    "print(location)\n",
    "print()\n",
    "location"
   ]
  },
  {
   "cell_type": "code",
   "execution_count": null,
   "id": "4bfb0318-6d77-474c-80f0-d5826fce6a44",
   "metadata": {},
   "outputs": [],
   "source": [
    "# Extra credit.\n",
    "# Create the CSV file missing_puppy_reports.csv for the mpr DataFrame.\n",
    "# I used this command to format the data to copy and paste into the CSV file:\n",
    "#    print(mpr.to_csv(index=False, quoting=csv.QUOTE_NONNUMERIC))\n",
    "# When reading the file, one value was \"\", and pd.read_csv turned this into\n",
    "# NaN. To match the data in the course, I had to use keep_default_na=False.\n",
    "mpr = pd.read_csv(\"missing_puppy_reports.csv\", keep_default_na=False)\n",
    "\n",
    "# Print information about the mpr DataFrame.\n",
    "print(mpr.info())\n",
    "print()\n",
    "\n",
    "# Subset the data.\n",
    "name = mpr[\"Dog Name\"]\n",
    "is_missing = mpr[\"Missing?\"]\n",
    "print(name)\n",
    "print()\n",
    "print(is_missing)"
   ]
  },
  {
   "cell_type": "markdown",
   "id": "3953723b-ffb1-4a6f-b23a-24aba97509d1",
   "metadata": {},
   "source": [
    "### Selecting Rows with Logic\n",
    "\n",
    "The video describes how to use logic operators such as `==` and `<` in Python."
   ]
  },
  {
   "cell_type": "markdown",
   "id": "088bc765-231a-4370-b4e6-e30a525cd351",
   "metadata": {},
   "source": [
    "#### Exercises"
   ]
  },
  {
   "cell_type": "code",
   "execution_count": null,
   "id": "bcfdf448-feee-49f3-b80a-a0e909dcab0a",
   "metadata": {},
   "outputs": [],
   "source": [
    "# Experimenting with logic operators.\n",
    "height_inches = 65\n",
    "print(height_inches > 70)\n",
    "plate1 = \"FRQ123\"\n",
    "print(plate1 == \"FRQ123\")\n",
    "fur_color = \"blonde\"\n",
    "print(fur_color != \"brown\")"
   ]
  },
  {
   "cell_type": "code",
   "execution_count": null,
   "id": "cc760b77-b26b-4457-9150-2649c0b8137c",
   "metadata": {},
   "outputs": [],
   "source": [
    "# Extra credit.\n",
    "# The mpr DataFrame changed for this exercise.\n",
    "# Extract the data and put it into a CSV file.\n",
    "# I used this command to format the data to copy and paste into the CSV file:\n",
    "#    print(mpr.to_csv(index=False, quoting=csv.QUOTE_NONNUMERIC))\n",
    "# Read the data.\n",
    "mpr2 = pd.read_csv(\"missing_puppy_reports2.csv\", keep_default_na=False)\n",
    "mpr2"
   ]
  },
  {
   "cell_type": "code",
   "execution_count": null,
   "id": "1f970eb3-3452-4350-9660-c58f0f18824e",
   "metadata": {},
   "outputs": [],
   "source": [
    "# Select data using logic queries. (I'm speaking SQL here.)\n",
    "greater_than_2 = mpr2[mpr2[\"Age\"] > 2]\n",
    "print(greater_than_2)\n",
    "print()\n",
    "\n",
    "still_missing = mpr2[mpr2[\"Status\"] == \"Still Missing\"]\n",
    "print(still_missing)\n",
    "print()\n",
    "\n",
    "not_poodle = mpr2[mpr2[\"Dog Breed\"] != \"Poodle\"]\n",
    "print(not_poodle)"
   ]
  },
  {
   "cell_type": "code",
   "execution_count": null,
   "id": "59c642fa-799c-499e-82aa-5c8d8e20314d",
   "metadata": {},
   "outputs": [],
   "source": [
    "# This exercise uses a different credit_records DataFrame (boo!).\n",
    "# I had to build a new CSV file, credit_records2.csv.\n",
    "# I used this command in the console to obtain the data:\n",
    "# print(credit_records.to_csv(index=False, quoting=csv.QUOTE_NONNUMERIC))\n",
    "# I saved the data to credit_records2.csv in the project folder.\n",
    "\n",
    "# Read the data from the CSV file.\n",
    "credit_records2 = pd.read_csv(\"credit_records2.csv\")\n",
    "credit_records2"
   ]
  },
  {
   "cell_type": "code",
   "execution_count": null,
   "id": "2d38a026-3d6e-483b-b583-4bf2bb11b480",
   "metadata": {},
   "outputs": [],
   "source": [
    "# Identify suspects who made purchases at Pet Paradise.\n",
    "purchase = credit_records2[credit_records2.location == 'Pet Paradise']\n",
    "purchase"
   ]
  },
  {
   "cell_type": "markdown",
   "id": "c881ef3b-c91d-418c-8f7b-743ed9c417b1",
   "metadata": {},
   "source": [
    "## Plotting Data with Matplotlib"
   ]
  },
  {
   "cell_type": "markdown",
   "id": "e698cb82-05f4-4390-b7b2-4e593b77bce5",
   "metadata": {},
   "source": [
    "### Creating Line Plots"
   ]
  },
  {
   "cell_type": "code",
   "execution_count": null,
   "id": "b45601e8-1e2c-404f-beb4-af671ad094c8",
   "metadata": {},
   "outputs": [],
   "source": [
    "# Create a line plot.\n",
    "plt.plot(r[\"letter\"], r[\"frequency\"])\n",
    "plt.show()"
   ]
  },
  {
   "cell_type": "markdown",
   "id": "1cc62147-ba3a-4669-a38a-324917eda31d",
   "metadata": {},
   "source": [
    "#### Exercises"
   ]
  },
  {
   "cell_type": "code",
   "execution_count": null,
   "id": "b80e0a36-c6d2-4c88-8a47-19b15ae599a5",
   "metadata": {},
   "outputs": [],
   "source": [
    "# Extra credit.\n",
    "# Load the deshaun data into a DataFrame.\n",
    "# I printed the data in the console using:\n",
    "#    print(deshaun.to_csv(index=False))\n",
    "# and saved it into the file deshaun.csv.\n",
    "# I did the same for aditya.csv and \n",
    "\n",
    "# Read the data.\n",
    "deshaun = pd.read_csv(\"deshaun.csv\")\n",
    "aditya = pd.read_csv(\"aditya.csv\")\n",
    "mengfei = pd.read_csv(\"mengfei.csv\")\n",
    "deshaun"
   ]
  },
  {
   "cell_type": "code",
   "execution_count": null,
   "id": "15bcbd91-0c39-468b-bdb4-a59d160d4791",
   "metadata": {},
   "outputs": [],
   "source": [
    "# Plot hours worked vs. day of week for the three officers.\n",
    "# We don't have labels or a legend yet.\n",
    "plt.plot(deshaun[\"day_of_week\"], deshaun[\"hours_worked\"])\n",
    "plt.plot(aditya[\"day_of_week\"], aditya[\"hours_worked\"])\n",
    "plt.plot(mengfei[\"day_of_week\"], mengfei[\"hours_worked\"])\n",
    "plt.show()"
   ]
  },
  {
   "cell_type": "markdown",
   "id": "1f63f8a8-a94f-4558-a534-7bfaadc7be28",
   "metadata": {},
   "source": [
    "### Adding Text to Plots"
   ]
  },
  {
   "cell_type": "code",
   "execution_count": null,
   "id": "92ab125e-0122-413a-a9e4-4191c5e6f98a",
   "metadata": {},
   "outputs": [],
   "source": [
    "# Create a line plot. Add axis labels and a title.\n",
    "plt.plot(r[\"letter\"], r[\"frequency\"])\n",
    "plt.xlabel(\"Letter\")\n",
    "plt.ylabel(\"Frequency\")\n",
    "plt.title(\"Ransom Note Letters\")\n",
    "plt.show()"
   ]
  },
  {
   "cell_type": "code",
   "execution_count": null,
   "id": "95a1385f-b868-4161-8932-a218530a3596",
   "metadata": {},
   "outputs": [],
   "source": [
    "# Create a line plot with labels and a legend.\n",
    "plt.plot(aditya[\"day_of_week\"], aditya[\"hours_worked\"], label=\"Aditya\")\n",
    "plt.plot(deshaun[\"day_of_week\"], deshaun[\"hours_worked\"], label=\"Deshaun\")\n",
    "plt.plot(mengfei[\"day_of_week\"], mengfei[\"hours_worked\"], label=\"Mengfei\")\n",
    "plt.legend()\n",
    "plt.show()"
   ]
  },
  {
   "cell_type": "code",
   "execution_count": null,
   "id": "ede9d486-f211-49e1-bbe8-0a6b6db322de",
   "metadata": {},
   "outputs": [],
   "source": [
    "# Add arbitrary text at a specific location.\n",
    "plt.plot(r[\"letter\"], r[\"frequency\"])\n",
    "plt.xlabel(\"Letter\")\n",
    "plt.ylabel(\"Frequency\")\n",
    "plt.title(\"Ransom Note Letters\")\n",
    "plt.text(5, 9, \"Unusually low H frequency!\")\n",
    "plt.show()"
   ]
  },
  {
   "cell_type": "markdown",
   "id": "b46ce1c3-04b1-4e09-9f5b-dc980e0c339d",
   "metadata": {},
   "source": [
    "Change the font size of text by adding a fontsize=n argument.\n",
    "\n",
    "Change the color of text by adding a color=\"colorname\" argument. Matplotlib uses web colors: https://en.wikipedia.org/wiki/Web_colors"
   ]
  },
  {
   "cell_type": "markdown",
   "id": "c5182347-a7fb-442a-8daf-0e036c20338d",
   "metadata": {},
   "source": [
    "#### Exercises"
   ]
  },
  {
   "cell_type": "code",
   "execution_count": null,
   "id": "2c40bcc7-0c2b-432d-ba58-5aa73e06c41d",
   "metadata": {},
   "outputs": [],
   "source": [
    "# Add labels and a legend to the work effort plot.\n",
    "# I used the title and Y label used by the tutorial.\n",
    "plt.plot(deshaun[\"day_of_week\"], deshaun[\"hours_worked\"], label=\"Deshaun\")\n",
    "plt.plot(aditya[\"day_of_week\"], aditya[\"hours_worked\"], label=\"Aditya\")\n",
    "plt.plot(mengfei[\"day_of_week\"], mengfei[\"hours_worked\"], label=\"Mengfei\")\n",
    "plt.legend()\n",
    "plt.title(\"Hours worked per day, by officer, on the Missing Puppy Report for Bayes\")\n",
    "plt.ylabel(\"Hours worked per day\")\n",
    "plt.show()"
   ]
  },
  {
   "cell_type": "code",
   "execution_count": null,
   "id": "880ccaea-8233-47c3-9836-7ef300d9ec90",
   "metadata": {},
   "outputs": [],
   "source": [
    "# Extra credit.\n",
    "# I created the six_months.csv file from the output of the console command:\n",
    "#    print(six_months.to_csv(index=False))\n",
    "# It looks like the day for May is also missing; there is no column for May.\n",
    "\n",
    "# Load the six_months.csv data file.\n",
    "# Plot the data and add floating text.\n",
    "# Just for practice, I added labels and a title, and I adjusted the\n",
    "# range of the y axis.\n",
    "six_months = pd.read_csv(\"six_months.csv\")\n",
    "plt.plot(six_months.month, six_months.hours_worked)\n",
    "plt.ylabel(\"Hours worked\")\n",
    "plt.xlabel(\"Month\")\n",
    "plt.yticks(range(0, 210, 20))\n",
    "plt.text(2.5, 80, \"Missing June data\")\n",
    "plt.title(\"Hours worked\")\n",
    "plt.show()"
   ]
  },
  {
   "cell_type": "markdown",
   "id": "450512c1-a80c-4649-8905-4657a75112b6",
   "metadata": {},
   "source": [
    "### Styling Graphs\n",
    "\n",
    "Change the color of a line using the `color` argument. Change the line's width using the `linewidth` argument. Change the style of a line using the linestyle argument."
   ]
  },
  {
   "cell_type": "code",
   "execution_count": null,
   "id": "f076a8eb-0204-4c31-9bbb-d5c3919291fd",
   "metadata": {},
   "outputs": [],
   "source": [
    "# Demonstrate using these. This does not exactly replicate the plot in\n",
    "# the video.\n",
    "x = np.arange(0, 11)\n",
    "y1 = x * 1\n",
    "y2 = x * 2\n",
    "y3 = x * 3\n",
    "y4 = x * 4\n",
    "plt.plot(x, y1, color=\"tomato\", linewidth=1, linestyle=\"-\", marker=\"x\")\n",
    "plt.plot(x, y2, color=\"orange\", linewidth=2, linestyle=\"--\", marker=\"s\")\n",
    "plt.plot(x, y3, color=\"goldenrod\", linewidth=3, linestyle=\"-.\", marker=\"o\")\n",
    "plt.plot(x, y4, color=\"seagreen\", linewidth=4, linestyle=\":\", marker=\"d\")\n",
    "plt.show()"
   ]
  },
  {
   "cell_type": "markdown",
   "id": "492350a7-dec4-4132-b3e2-d52e48272755",
   "metadata": {},
   "source": [
    "There are several different plot styles that can be used.\n",
    "\n",
    "```\n",
    "plt.style.use(\"fivethirtyeight\")\n",
    "plt.style.use(\"ggplot\")\n",
    "plt.style.use(\"seaborn\")\n",
    "plt.style.use(\"default\")\n",
    "```"
   ]
  },
  {
   "cell_type": "code",
   "execution_count": null,
   "id": "072172d7-2694-48e6-82a7-b32d4ed4ec12",
   "metadata": {},
   "outputs": [],
   "source": [
    "# Extra credit.\n",
    "# Plot a sine wave using four different styles.\n",
    "# I couldn't find a way to change the styles in subplots.\n",
    "# This code uses what I learned in \"Introduction to Data Visualization with Matplotlib\".\n",
    "\n",
    "# List available styles.\n",
    "print(plt.style.available)\n",
    "\n",
    "# Create values.\n",
    "x = np.linspace(0, 2 * math.pi, 40)\n",
    "y = np.sin(x)\n",
    "\n",
    "# Provide examples of all plotting styles.\n",
    "for style_name in plt.style.available:\n",
    "    plt.style.use(style_name)\n",
    "    plt.plot(x, y)\n",
    "    plt.title(style_name)\n",
    "    plt.show()\n"
   ]
  },
  {
   "cell_type": "markdown",
   "id": "1bd4f495-b9a6-4b18-87e6-7c1ecd69e389",
   "metadata": {},
   "source": [
    "#### Exercises"
   ]
  },
  {
   "cell_type": "code",
   "execution_count": null,
   "id": "670f07b8-241d-4cdf-97a8-d0dce5c4214c",
   "metadata": {},
   "outputs": [],
   "source": [
    "# Extra credit.\n",
    "# Build the data DataFrame by reading the data from crime_data.csv.\n",
    "# I obtained the data from the console using this command:\n",
    "#    print(data.to_csv(index=False, quoting=csv.QUOTE_NONNUMERIC))\n",
    "# I copied the data into crime_data.csv and saved the file in the project folder.\n",
    "data = pd.read_csv(\"crime_data.csv\")\n",
    "data"
   ]
  },
  {
   "cell_type": "code",
   "execution_count": null,
   "id": "e31ea41e-8f71-49b5-a016-7046124f1c47",
   "metadata": {},
   "outputs": [],
   "source": [
    "# Plot the data, making various modifications.\n",
    "plt.style.use(\"default\")\n",
    "plt.plot(data[\"Year\"], data[\"Phoenix Police Dept\"], label=\"Phoenix\", color=\"DarkCyan\")\n",
    "plt.plot(data[\"Year\"], data[\"Los Angeles Police Dept\"], label=\"Los Angeles\", linestyle=\":\")\n",
    "plt.plot(data[\"Year\"], data[\"Philadelphia Police Dept\"], label=\"Philadelphia\", marker=\"s\")\n",
    "plt.xlabel(\"Year\")\n",
    "plt.ylabel(\"Burglaries per 100 residents\")\n",
    "plt.legend()\n",
    "plt.show()"
   ]
  },
  {
   "cell_type": "code",
   "execution_count": null,
   "id": "bb687028-e4c6-40be-9a57-2f67691cfe71",
   "metadata": {},
   "outputs": [],
   "source": [
    "# Set a global style and plot the data.\n",
    "# My fivethirtyeight looks different from DataCamp's.\n",
    "# I think the DataCamp UI is not changing the plot style.\n",
    "plt.style.use(\"fivethirtyeight\")\n",
    "plt.plot(data[\"Year\"], data[\"Phoenix Police Dept\"], label=\"Phoenix\")\n",
    "plt.plot(data[\"Year\"], data[\"Los Angeles Police Dept\"], label=\"Los Angeles\")\n",
    "plt.plot(data[\"Year\"], data[\"Philadelphia Police Dept\"], label=\"Philadelphia\")\n",
    "plt.legend()\n",
    "plt.show()"
   ]
  },
  {
   "cell_type": "code",
   "execution_count": null,
   "id": "fd8c547b-1f1a-4313-8816-4e4ffa6c5b20",
   "metadata": {},
   "outputs": [],
   "source": [
    "# Use the ggplot style.\n",
    "plt.style.use(\"ggplot\")\n",
    "plt.plot(data[\"Year\"], data[\"Phoenix Police Dept\"], label=\"Phoenix\")\n",
    "plt.plot(data[\"Year\"], data[\"Los Angeles Police Dept\"], label=\"Los Angeles\")\n",
    "plt.plot(data[\"Year\"], data[\"Philadelphia Police Dept\"], label=\"Philadelphia\")\n",
    "plt.legend()\n",
    "plt.show()"
   ]
  },
  {
   "cell_type": "code",
   "execution_count": null,
   "id": "fad126b0-2755-47fe-a4b3-36f68f4866f4",
   "metadata": {},
   "outputs": [],
   "source": [
    "# Use the Solarize_Light2 style.\n",
    "plt.style.use(\"Solarize_Light2\")\n",
    "plt.plot(data[\"Year\"], data[\"Phoenix Police Dept\"], label=\"Phoenix\")\n",
    "plt.plot(data[\"Year\"], data[\"Los Angeles Police Dept\"], label=\"Los Angeles\")\n",
    "plt.plot(data[\"Year\"], data[\"Philadelphia Police Dept\"], label=\"Philadelphia\")\n",
    "plt.legend()\n",
    "plt.show()"
   ]
  },
  {
   "cell_type": "code",
   "execution_count": null,
   "id": "1f22aeed-7d02-4e17-830f-ce3f7924ec0f",
   "metadata": {},
   "outputs": [],
   "source": [
    "# Extra credit.\n",
    "# Create CSV files as before for the DataFrames suspect1 and suspect2.\n",
    "#    print(suspect1.to_csv(index=False, quoting=csv.QUOTE_NONNUMERIC))\n",
    "#    print(suspect2.to_csv(index=False, quoting=csv.QUOTE_NONNUMERIC))\n",
    "# Each of these files contains an unneeded column that can be ignored.\n",
    "\n",
    "# Plot the letter frequencies from the ransom note.\n",
    "# The tutorial concludes that Fred Frequentist is the dognapper based\n",
    "# on the similar frequencies of H and P.\n",
    "suspect1 = pd.read_csv(\"suspect1.csv\")\n",
    "suspect2 = pd.read_csv(\"suspect2.csv\")\n",
    "ransom = r\n",
    "plt.style.use(\"default\")\n",
    "plt.plot(ransom.letter, ransom.frequency,\n",
    "         label=\"Ransom\",\n",
    "         linestyle=':',\n",
    "         color='gray')\n",
    "plt.plot(suspect1.letter, suspect1.frequency, label=\"Fred Frequentist\")\n",
    "plt.plot(suspect2.letter, suspect2.frequency, label=\"Gertrude Cox\")\n",
    "plt.xlabel(\"Letter\")\n",
    "plt.ylabel(\"Frequency\")\n",
    "plt.legend()\n",
    "plt.show()"
   ]
  },
  {
   "cell_type": "markdown",
   "id": "ba83eb13-31aa-433b-bef5-248cd3511fe6",
   "metadata": {},
   "source": [
    "## Different Types of Plots"
   ]
  },
  {
   "cell_type": "markdown",
   "id": "61be131d-b9f0-423d-937e-b127d8d38aa6",
   "metadata": {},
   "source": [
    "### Making a Scatter Plot\n",
    "\n",
    "Make a scatter plot using `plt.scatter()`. Use the `alpha` argument to set the transparency of points plotted in the scatter plot."
   ]
  },
  {
   "cell_type": "markdown",
   "id": "2424d4c8-9218-4c4c-b1d2-903f176520f7",
   "metadata": {},
   "source": [
    "#### Exercises"
   ]
  },
  {
   "cell_type": "code",
   "execution_count": null,
   "id": "418a564e-fb38-42f1-aff2-04ee7ddaf219",
   "metadata": {},
   "outputs": [],
   "source": [
    "# Extra credit.\n",
    "# Copy the data from the cellphone DataFrame into the file cellphone.csv.\n",
    "# I used the following command to print the data in the console. I copied the\n",
    "# text from the console and pasted it into cellphone.csv. I modified the header\n",
    "# to remove the \"Unnamed:0\" column name.\n",
    "#    print(cellphone.to_csv(index=False))\n",
    "cellphone = pd.read_csv(\"cellphone.csv\", index_col=0)\n",
    "cellphone.head()\n",
    "\n",
    "# Plot the cellphone coordinate data.\n",
    "# The tutorial plots these points over an image that represents a map of the\n",
    "# town. I don't know how to copy the image so I can use it.\n",
    "plt.scatter(cellphone[\"x\"], cellphone[\"y\"], marker=\"s\", color=\"red\", alpha=0.1)\n",
    "plt.xlabel(\"Longitude\")\n",
    "plt.ylabel(\"Latitude\")\n",
    "plt.show()"
   ]
  },
  {
   "cell_type": "markdown",
   "id": "f2cf4e8d-7737-4756-8330-9b35a64bf17f",
   "metadata": {},
   "source": [
    "### Making a Bar Chart"
   ]
  },
  {
   "cell_type": "code",
   "execution_count": null,
   "id": "7df16d50-e78f-481c-a395-eb7138ba65d5",
   "metadata": {},
   "outputs": [],
   "source": [
    "# Extra credit.\n",
    "# Create the bar chart data.\n",
    "data_dict = {\n",
    "            \"precinct\" : [\"Farmburg\", \"Cityville\", \"Suburbia\"],\n",
    "            \"pets_abducted\": [10, 15, 9],\n",
    "            \"error\": [2, 3, 2]\n",
    "}\n",
    "df = pd.DataFrame(data_dict)\n",
    "df"
   ]
  },
  {
   "cell_type": "code",
   "execution_count": null,
   "id": "f980f971-d17e-4ccb-9c34-becccf46bd4e",
   "metadata": {},
   "outputs": [],
   "source": [
    "# Create a vertical barchart with errors.\n",
    "plt.bar(df[\"precinct\"], df[\"pets_abducted\"], yerr=df[\"error\"])\n",
    "plt.ylabel(\"Pet abductions\")\n",
    "plt.show()"
   ]
  },
  {
   "cell_type": "code",
   "execution_count": null,
   "id": "f84b9476-fc6e-4e6e-a509-d633f8a1de7b",
   "metadata": {},
   "outputs": [],
   "source": [
    "# Create a horizontal bar chart. Note changes in some arguments.\n",
    "plt.barh(df[\"precinct\"], df[\"pets_abducted\"], xerr=df[\"error\"])\n",
    "plt.xlabel(\"Pet abductions\")\n",
    "plt.show()"
   ]
  },
  {
   "cell_type": "code",
   "execution_count": null,
   "id": "5448c0fd-557d-4d3e-92dc-2252d2c92526",
   "metadata": {},
   "outputs": [],
   "source": [
    "# Extra credit.\n",
    "# I created a DataFrame by reading the values from the figure in the video.\n",
    "data_dict2 = {\n",
    "            \"precinct\" : [\"Farmburg\", \"Cityville\", \"Suburbia\"],\n",
    "            \"dog\": [4, 10, 3],\n",
    "            \"cat\": [6, 5, 6],\n",
    "}\n",
    "df2 = pd.DataFrame(data_dict2)\n",
    "df2"
   ]
  },
  {
   "cell_type": "code",
   "execution_count": null,
   "id": "bd6fbcf5-4697-449e-8835-0ce0bd48bf48",
   "metadata": {},
   "outputs": [],
   "source": [
    "# Create a stacked bar chart.\n",
    "plt.bar(df2[\"precinct\"], df2[\"dog\"], label=\"Dog\")\n",
    "plt.bar(df2[\"precinct\"], df2[\"cat\"], bottom=df2[\"dog\"], label=\"Cat\")\n",
    "plt.ylabel(\"Pet abductions\")\n",
    "plt.legend()\n",
    "plt.show()"
   ]
  },
  {
   "cell_type": "markdown",
   "id": "f6713f59-7eb7-49b4-9819-3046e087acda",
   "metadata": {},
   "source": [
    "#### Exercises"
   ]
  },
  {
   "cell_type": "code",
   "execution_count": null,
   "id": "a09dc51f-8939-44a7-8a2a-ae9271df0af2",
   "metadata": {},
   "outputs": [],
   "source": [
    "# Recreate the small data set.\n",
    "column_names = (\"officer\", \"desk_work\", \"field_work\", \"avg_hours_worked\", \"std_hours_worked\")\n",
    "hours_data = (\n",
    "    (\"Deshaun\", 25, 20, 45, 3),\n",
    "    (\"Mengfei\", 20, 13, 33, 9),\n",
    "    (\"Aditya\", 12, 30, 42, 5)\n",
    ")\n",
    "hours = pd.DataFrame(hours_data, columns=column_names)\n",
    "hours"
   ]
  },
  {
   "cell_type": "code",
   "execution_count": null,
   "id": "77282d78-0f03-4565-b555-abd65356580a",
   "metadata": {},
   "outputs": [],
   "source": [
    "# Create a bar chart.\n",
    "plt.bar(hours[\"officer\"], hours[\"avg_hours_worked\"], yerr=hours[\"std_hours_worked\"])\n",
    "plt.show()"
   ]
  },
  {
   "cell_type": "code",
   "execution_count": null,
   "id": "2d920ea5-cfeb-419f-bb9f-c87e6ea5479a",
   "metadata": {},
   "outputs": [],
   "source": [
    "# Create a stacked bar chart.\n",
    "plt.bar(hours[\"officer\"], hours[\"desk_work\"], label=\"Desk work\")\n",
    "plt.bar(hours[\"officer\"], hours[\"field_work\"], bottom=hours[\"desk_work\"], label=\"Field work\")\n",
    "plt.legend()\n",
    "plt.show()"
   ]
  },
  {
   "cell_type": "markdown",
   "id": "2edec132-a5f3-4514-9678-0e2173214945",
   "metadata": {},
   "source": [
    "### Making a Histogram\n",
    "\n",
    "Give a data set in the DataFrame gravel, plot a histogram:\n",
    "```\n",
    "plt.hist(gravel[\"mass\"], bins=40, range=(50, 100))\n",
    "plt.show()\n",
    "```\n",
    "\n",
    "To normalize the data, use the argument `density=True`.\n",
    "```\n",
    "plt.hist(male_weight, density=True, alpha=0.3)\n",
    "plt.hist(female_weight, density=True, alpha=0.3)\n",
    "plt.show()\n",
    "```"
   ]
  },
  {
   "cell_type": "markdown",
   "id": "27d6cd3a-96a2-41c1-a23c-c64620741b4c",
   "metadata": {},
   "source": [
    "#### Exercises"
   ]
  },
  {
   "cell_type": "code",
   "execution_count": null,
   "id": "cac3fc42-d374-4644-a855-40decd2e9093",
   "metadata": {},
   "outputs": [],
   "source": [
    "# Extra credit.\n",
    "# I obtained the puppy weight data by executing the following command in\n",
    "# the console:\n",
    "#    print(puppies.to_csv(index=False))\n",
    "# I copied the data into puppy_weight.csv.\n",
    "puppies = pd.read_csv(\"puppy_weight.csv\")\n",
    "puppies.head()"
   ]
  },
  {
   "cell_type": "code",
   "execution_count": null,
   "id": "db149b72-47d5-4d11-a7db-b0323c60c057",
   "metadata": {},
   "outputs": [],
   "source": [
    "# Create a histogram.\n",
    "plt.hist(puppies[\"weight\"], bins=50)\n",
    "plt.xlabel('Puppy Weight (lbs)')\n",
    "plt.ylabel('Number of Puppies')\n",
    "plt.show()"
   ]
  },
  {
   "cell_type": "code",
   "execution_count": null,
   "id": "3fd17470-5f22-4ae7-ad52-000575898a1f",
   "metadata": {},
   "outputs": [],
   "source": [
    "# Create a second histogram, zooming in on the range 5-35.\n",
    "plt.hist(puppies[\"weight\"], range=(5, 35))\n",
    "plt.xlabel(\"Puppy weight (lbs)\")\n",
    "plt.ylabel(\"Number of puppies\")\n",
    "plt.show()"
   ]
  },
  {
   "cell_type": "code",
   "execution_count": null,
   "id": "ca268eb2-b931-40b4-aba4-a660f2ef4d73",
   "metadata": {},
   "outputs": [],
   "source": [
    "# Extra credit.\n",
    "# I copied the data for the gravel DataFrame from the console, using this\n",
    "# command:\n",
    "#    print(gravel.to_csv(index=False))\n",
    "# I copied the data into gravel.csv.\n",
    "gravel = pd.read_csv(\"gravel.csv\")\n",
    "gravel"
   ]
  },
  {
   "cell_type": "code",
   "execution_count": null,
   "id": "d690d89a-0dda-427d-a171-4cc47f17f0f8",
   "metadata": {},
   "outputs": [],
   "source": [
    "# Create a histogram of normalized data.\n",
    "# The distribution is similar to the distribution from Shady Groves Campsite.\n",
    "plt.hist(gravel[\"radius\"], bins=40, range=(2, 8), density=True)\n",
    "plt.xlabel('Gravel radius (mm)')\n",
    "plt.ylabel('Frequency')\n",
    "plt.title('Sample from Shoeprint')\n",
    "plt.show()"
   ]
  },
  {
   "cell_type": "markdown",
   "id": "4dff737f-a6f9-490e-b628-7dada620bc3c",
   "metadata": {},
   "source": [
    "### Recap of the Rescue"
   ]
  }
 ],
 "metadata": {
  "kernelspec": {
   "display_name": "Python 3 (ipykernel)",
   "language": "python",
   "name": "python3"
  },
  "language_info": {
   "codemirror_mode": {
    "name": "ipython",
    "version": 3
   },
   "file_extension": ".py",
   "mimetype": "text/x-python",
   "name": "python",
   "nbconvert_exporter": "python",
   "pygments_lexer": "ipython3",
   "version": "3.12.7"
  }
 },
 "nbformat": 4,
 "nbformat_minor": 5
}
