{
 "cells": [
  {
   "cell_type": "markdown",
   "id": "d4fb2eed-4144-423a-8d66-17ea8877b9ba",
   "metadata": {},
   "source": [
    "# Introduction to Data Visualization with Matplotlib\n",
    "\n",
    "These are my notes for DataCamp's course [_Introduction to Data Visualization with Matplotlib_](https://www.datacamp.com/courses/introduction-to-data-visualization-with-matplotlib).\n",
    "\n",
    "This course is presented by Ariel Rokem, Senior Data Scientist, University of Washington. Collaborators are Chester Ismay and Amy Peterson.\n",
    "\n",
    "Prerequisite:\n",
    "\n",
    "- [_Introduction to Python_](../Introduction%20to%20Python/Introduction%20to%20Python.ipynb)\n",
    "\n",
    "This course is part of these tracks:\n",
    "\n",
    "- Data Scientist with Python\n",
    "- Data Scientist Professional with Python\n",
    "- Data Visualization with Python\n",
    "\n",
    "## Data Sets\n",
    "\n",
    "The data sets were downloaded from datacamp.com into the directory containing this Jupyter notebook.\n",
    "\n",
    "| Name | File |\n",
    "| :--- | :--- |\n",
    "| Seattle weather | seattle_weather.csv |\n",
    "| Austin weather | austin_weather.csv |\n",
    "| Climate data | climate_change.csv |\n",
    "| Medals by country | medals_by_country_2016.csv |\n",
    "| Medalist weights | summer2016.csv |\n",
    "\n",
    "## Resources\n",
    "\n",
    "Matplotlib cheat sheets:\n",
    "- https://matplotlib.org/cheatsheets/\n",
    "- DataCamp's \"matplotlib Cheat Sheet.pdf\" file in the project folder.\n",
    "\n",
    "Matplotlib styles:\n",
    "- https://matplotlib.org/stable/gallery/style_sheets/style_sheets_reference.html\n",
    "\n",
    "Color picker:\n",
    "- https://www.colorhexa.com/\n",
    "\n",
    "SQL to pandas converter:\n",
    "- https://sql2pandas.pythonanywhere.com/\n",
    "\n",
    "## Imports\n",
    "\n",
    "For convenience and clarity, all imports are gathered here."
   ]
  },
  {
   "cell_type": "code",
   "execution_count": null,
   "id": "29bac522-3c25-408a-9c1e-c448e81b5b5f",
   "metadata": {},
   "outputs": [],
   "source": [
    "import matplotlib.pyplot as plt\n",
    "import numpy as np\n",
    "import pandas as pd\n",
    "import seaborn as sns\n",
    "\n",
    "plt.style.use(\"dark_background\")"
   ]
  },
  {
   "cell_type": "markdown",
   "id": "f72e0a8e-ff5d-438a-8af8-9e4f00280371",
   "metadata": {},
   "source": [
    "## Introduction to Matplotlib"
   ]
  },
  {
   "cell_type": "markdown",
   "id": "5b961ab3-0c5f-46a0-98a6-6b285797a3df",
   "metadata": {},
   "source": [
    "### Introduction to Data Visualization with Matplotlib\n",
    "\n",
    "This course uses the object-oriented interface, which is provided by the pyplot submodule."
   ]
  },
  {
   "cell_type": "markdown",
   "id": "2f2840ff-8cad-408d-996e-ae09e481b665",
   "metadata": {},
   "source": [
    "#### Load Seattle Weather Data (Extra)|"
   ]
  },
  {
   "cell_type": "code",
   "execution_count": null,
   "id": "cf12c6f4-0a52-4850-9931-72c5ce8d447e",
   "metadata": {},
   "outputs": [],
   "source": [
    "# Load the Seattle weather data and look at it.\n",
    "seattle_weather_all = pd.read_csv(\"seattle_weather.csv\")\n",
    "print(seattle_weather_all.info())\n",
    "print()\n",
    "seattle_weather_all.head()\n",
    "\n",
    "# The seattle_weather.csv file contains rows from many weather stations, and\n",
    "# it lacks the \"MONTH\" column. We are interested in the 12 rows where\n",
    "# NAME == \"SEATTLE SAND PT WSFO, WA US\".\n",
    "# Modify the DataFrame obtained from the file to add a MONTH column and to\n",
    "# keep only the 12 rows of interest.\n",
    "# See \"Intermediate Python\" and \"Data Manipulation with pandas\" for simple\n",
    "# examples of subsetting a DataFrame.\n",
    "\n",
    "# Create a \"MONTH\" column from the \"DATE\" column, using this lookup\n",
    "# dictionary.\n",
    "months = {1: \"Jan\", 2: \"Feb\", 3: \"Mar\", 4: \"Apr\", 5: \"May\", 6: \"Jun\",\n",
    "          7: \"Jul\", 8: \"Aug\", 9: \"Sep\", 10: \"Oct\", 11: \"Nov\", 12: \"Dec\"}\n",
    "seattle_weather_all[\"MONTH\"] = [months[x] for x in seattle_weather_all[\"DATE\"]]\n",
    "\n",
    "# Get the rows representing the station of interest.\n",
    "seattle_weather = seattle_weather_all[\n",
    "    seattle_weather_all[\"NAME\"] == \"SEATTLE SAND PT WSFO, WA US\"].copy()\n",
    "\n",
    "# Display the data of interest in an IPython-generated table.\n",
    "seattle_weather[[\"MONTH\", \"MLY-TAVG-NORMAL\", \"MLY-PRCP-NORMAL\"]]"
   ]
  },
  {
   "cell_type": "markdown",
   "id": "4388aa7f-e896-4a29-8a08-01329576ce8c",
   "metadata": {},
   "source": [
    "#### Create Empty Subplots (Demonstration)"
   ]
  },
  {
   "cell_type": "code",
   "execution_count": null,
   "id": "190eb301-0147-42cc-aaad-5fc48e5b0d5b",
   "metadata": {},
   "outputs": [],
   "source": [
    "# Create empty subplots; this returns a figure and axes.\n",
    "# The figure object is a container that holds everything you see on the page.\n",
    "# The axes object is the part of the page that holds the data. It is the canvas\n",
    "# on which we will draw our data to visualize it.\n",
    "# Set the size of the figure in inches.\n",
    "fig, ax = plt.subplots()\n",
    "fig.set_size_inches((12, 9))\n",
    "print(\"type(fig) =\", type(fig))\n",
    "print(\"type(ax) =\", type(ax))\n",
    "plt.show()"
   ]
  },
  {
   "cell_type": "markdown",
   "id": "cf7448da-5d5f-4a35-9761-b7c07bdb91c2",
   "metadata": {},
   "source": [
    "#### Load Austin Weather Data (Extra)"
   ]
  },
  {
   "cell_type": "code",
   "execution_count": null,
   "id": "caf6063d-a2dc-4f9f-a761-2fd530653b25",
   "metadata": {},
   "outputs": [],
   "source": [
    "# Read the Austin weather data. The data file has only 12 rows, so we don't \n",
    "# need to subset by \"NAME\". Add a MONTH column and display the columns of\n",
    "# interest.\n",
    "austin_weather = pd.read_csv(\"austin_weather.csv\")\n",
    "austin_weather[\"MONTH\"] = [months[x] for x in austin_weather[\"DATE\"]]\n",
    "austin_weather[[\"MONTH\", \"MLY-TAVG-NORMAL\", \"MLY-PRCP-NORMAL\"]]"
   ]
  },
  {
   "cell_type": "markdown",
   "id": "accd4cb6-2c06-4d40-83c9-70f5847fb79b",
   "metadata": {},
   "source": [
    "#### Plot Temperatures for Seattle and Austin (Demonstration)"
   ]
  },
  {
   "cell_type": "code",
   "execution_count": null,
   "id": "0adf78e3-4313-4f68-9738-4155dfc1fba6",
   "metadata": {},
   "outputs": [],
   "source": [
    "# Plot the data for Seattle and Austin.\n",
    "# I enhanced this plot to add the title, labels, and legend.\n",
    "fig, ax = plt.subplots()\n",
    "fig.set_size_inches((12, 9))\n",
    "_ = ax.plot(seattle_weather[\"MONTH\"], seattle_weather[\"MLY-TAVG-NORMAL\"], label=\"Seattle\")\n",
    "_ = ax.plot(austin_weather[\"MONTH\"], austin_weather[\"MLY-TAVG-NORMAL\"], label=\"Austin\")\n",
    "_ = ax.set_xlabel(\"Month\")\n",
    "_ = ax.set_ylabel(\"Degrees F\")\n",
    "_ = ax.set_title(\"Average Monthly Temperatures\")\n",
    "_ = ax.legend()\n",
    "plt.show()"
   ]
  },
  {
   "cell_type": "markdown",
   "id": "e4ddbfe1-13f1-449e-a57c-db38e964daa4",
   "metadata": {},
   "source": [
    "#### Plot Seattle and Austin Monthly Precipitation (Exercise)"
   ]
  },
  {
   "cell_type": "code",
   "execution_count": null,
   "id": "be17d27d-1ff1-42d5-9900-667633b1bf68",
   "metadata": {},
   "outputs": [],
   "source": [
    "# Plot Seattle and Austin average monthly rainfall.\n",
    "# I have already customized the plot with labels, a legend, and title.\n",
    "fig, ax = plt.subplots()\n",
    "_ = fig.set_size_inches((12, 9))\n",
    "_ = ax.plot(seattle_weather[\"MONTH\"], seattle_weather[\"MLY-PRCP-NORMAL\"], label=\"Seattle\")\n",
    "_ = ax.plot(austin_weather[\"MONTH\"], austin_weather[\"MLY-PRCP-NORMAL\"], label=\"Austin\")\n",
    "_ = ax.set_xlabel(\"Month\")\n",
    "_ = ax.set_ylabel(\"Precipitation (inches)\")\n",
    "_ = ax.set_yticks(range(7))\n",
    "_ = ax.set_title(\"Average Monthly Precipitation\")\n",
    "_ = ax.legend()\n",
    "plt.show()"
   ]
  },
  {
   "cell_type": "markdown",
   "id": "ea5c3a29-09b3-409c-a9a3-d2d3d88edffd",
   "metadata": {},
   "source": [
    "### Customizing Your Plots\n",
    "\n",
    "Markers are documented at https://matplotlib.org/stable/api/markers_api.html.\n",
    "\n",
    "Lines are documented at https://matplotlib.org/stable/api/_as_gen/matplotlib.lines.Line2D.html. They are:\n",
    "- \":\" (dotted)\n",
    "- \"-\" (solid)\n",
    "- \"--\" (dashed)\n",
    "- \"-.\" (dashdot)\n",
    "- \"\", \" \", \"none\", or \"None\" (no line)\n",
    "\n",
    "Colors are documented at https://matplotlib.org/stable/tutorials/colors/colors.html#sphx-glr-tutorials-colors-colors-py."
   ]
  },
  {
   "cell_type": "markdown",
   "id": "6cf611c9-4973-4cc0-8e46-2aa1c3f3cbfd",
   "metadata": {},
   "source": [
    "#### Plot Seattle and Austin Precipitation with Enhancements (Exercise)"
   ]
  },
  {
   "cell_type": "code",
   "execution_count": null,
   "id": "2ec47363-a9b2-42c5-a27f-97cc29751cee",
   "metadata": {},
   "outputs": [],
   "source": [
    "# Add markers, set line styles and colors, and add axis labels and a title.\n",
    "# I also added data labels and a legend.\n",
    "fig, ax = plt.subplots()\n",
    "fig.set_size_inches((12, 9))\n",
    "ax.plot(seattle_weather[\"MONTH\"], seattle_weather[\"MLY-PRCP-NORMAL\"],\n",
    "        marker=\"v\", linestyle=\"--\", color=\"b\", label=\"Seattle\")\n",
    "ax.plot(austin_weather[\"MONTH\"], austin_weather[\"MLY-PRCP-NORMAL\"], \n",
    "        marker=\"x\", linestyle=\"--\", color=\"r\", label=\"Austin\")\n",
    "ax.set_xlabel(\"Time (months)\")\n",
    "ax.set_yticks(range(7))\n",
    "ax.set_ylabel(\"Precipitation (inches)\")\n",
    "ax.legend()\n",
    "ax.set_title(\"Average Monthly Precipitation\")\n",
    "plt.show()"
   ]
  },
  {
   "cell_type": "markdown",
   "id": "d338fc41-f9fd-45ac-894f-49f48a6d2dfe",
   "metadata": {},
   "source": [
    "### Small Multiples\n",
    "\n",
    "It is better to use \"small multiples\", multiple small plots that show similar\n",
    "data for multiple conditions."
   ]
  },
  {
   "cell_type": "markdown",
   "id": "69db6fa4-a8ad-4252-b256-d1ac9d153b09",
   "metadata": {},
   "source": [
    "#### Make Multiple Line Plots (Demonstration)"
   ]
  },
  {
   "cell_type": "code",
   "execution_count": null,
   "id": "a7c6d581-0657-4770-b7b4-2b60ac555d66",
   "metadata": {},
   "outputs": [],
   "source": [
    "# Show average precipitation in Seattle, with 25% and 75% percentiles below\n",
    "# and above, using dashed lines.\n",
    "fig, ax = plt.subplots()\n",
    "fig.set_size_inches((12, 9))\n",
    "ax.plot(seattle_weather[\"MONTH\"], seattle_weather[\"MLY-PRCP-NORMAL\"], color=\"b\", linestyle=\"-\")\n",
    "ax.plot(seattle_weather[\"MONTH\"], seattle_weather[\"MLY-PRCP-25PCTL\"], color=\"b\", linestyle=\"--\")\n",
    "ax.plot(seattle_weather[\"MONTH\"], seattle_weather[\"MLY-PRCP-75PCTL\"], color=\"b\", linestyle=\"--\")\n",
    "ax.set_xlabel(\"Time (months)\")\n",
    "ax.set_ylabel(\"Precipitation (inches)\")\n",
    "plt.show()\n",
    "\n",
    "# Add the data for Austin to the plot.\n",
    "# The plot is too busy.\n",
    "fig, ax = plt.subplots()\n",
    "fig.set_size_inches((12, 9))\n",
    "ax.plot(seattle_weather[\"MONTH\"], seattle_weather[\"MLY-PRCP-NORMAL\"], color=\"b\", linestyle=\"-\")\n",
    "ax.plot(seattle_weather[\"MONTH\"], seattle_weather[\"MLY-PRCP-25PCTL\"], color=\"b\", linestyle=\"--\")\n",
    "ax.plot(seattle_weather[\"MONTH\"], seattle_weather[\"MLY-PRCP-75PCTL\"], color=\"b\", linestyle=\"--\")\n",
    "ax.plot(austin_weather[\"MONTH\"], austin_weather[\"MLY-PRCP-NORMAL\"], color=\"r\", linestyle=\"-\")\n",
    "ax.plot(austin_weather[\"MONTH\"], austin_weather[\"MLY-PRCP-25PCTL\"], color=\"r\", linestyle=\"--\")\n",
    "ax.plot(austin_weather[\"MONTH\"], austin_weather[\"MLY-PRCP-75PCTL\"], color=\"r\", linestyle=\"--\")\n",
    "ax.set_xlabel(\"Time (months)\")\n",
    "ax.set_ylabel(\"Precipitation (inches)\")\n",
    "plt.show()"
   ]
  },
  {
   "cell_type": "markdown",
   "id": "fb668523-ab05-41ff-b475-5608ade46240",
   "metadata": {},
   "source": [
    "#### Create Multiple Subplots (Demonstration)"
   ]
  },
  {
   "cell_type": "code",
   "execution_count": null,
   "id": "2e724cee-c573-4a00-a437-10ca34cef3c1",
   "metadata": {},
   "outputs": [],
   "source": [
    "# Create \"small multiples\" using plt.subplots(rows, cols).\n",
    "fig, ax = plt.subplots(3, 2) # 3 rows, 2 columns\n",
    "fig.set_size_inches((12, 9))\n",
    "print(ax.shape)\n",
    "# How to plot in one of the subplots.\n",
    "ax[0, 0].plot(np.arange(10), np.arange(10))\n",
    "plt.show()"
   ]
  },
  {
   "cell_type": "markdown",
   "id": "161eaa8d-a9d0-45da-a52d-dc6d7622bc0a",
   "metadata": {},
   "source": [
    "#### Create Multiple Subplots in a Single Column (Extra)"
   ]
  },
  {
   "cell_type": "code",
   "execution_count": null,
   "id": "d6c8b8e3-681b-46e1-a288-38a468388ff3",
   "metadata": {},
   "outputs": [],
   "source": [
    "# Example subplots in a single column. A 1-D subplot array *must* be indexed\n",
    "# with a single value.\n",
    "fig, ax = plt.subplots(2, 1)\n",
    "fig.set_size_inches((12, 9))\n",
    "print(ax.shape)\n",
    "ax[0].plot(np.arange(11), np.arange(10, -1, -1))\n",
    "ax[1].plot(np.arange(11), np.arange(11))\n",
    "plt.show()"
   ]
  },
  {
   "cell_type": "markdown",
   "id": "42a34ed7-2e70-4b79-a0f3-97f4ccbb301d",
   "metadata": {},
   "source": [
    "#### Plot Rainfall Data Using Subplots (Demonstration)"
   ]
  },
  {
   "cell_type": "code",
   "execution_count": null,
   "id": "c13d8451-9184-4c9f-b170-180757b94f14",
   "metadata": {},
   "outputs": [],
   "source": [
    "# Plot the rainfall data using subplots.\n",
    "# Note the following problems:\n",
    "#   y axis differences\n",
    "#   title of second subplot overlaps tick labels of x axis of first plot\n",
    "#   label for x axis of the top subplot is not visibl when the figure\n",
    "#     is small.\n",
    "fig, ax = plt.subplots(2, 1)\n",
    "fig.set_size_inches((12, 9))\n",
    "# Plot Seattle data in the upper subplot.\n",
    "ax[0].plot(seattle_weather[\"MONTH\"], seattle_weather[\"MLY-PRCP-NORMAL\"], color=\"b\", linestyle=\"-\")\n",
    "ax[0].plot(seattle_weather[\"MONTH\"], seattle_weather[\"MLY-PRCP-25PCTL\"], color=\"b\", linestyle=\"--\")\n",
    "ax[0].plot(seattle_weather[\"MONTH\"], seattle_weather[\"MLY-PRCP-75PCTL\"], color=\"b\", linestyle=\"--\")\n",
    "ax[0].set_xlabel(\"Time (months)\")\n",
    "ax[0].set_ylabel(\"Precipitation (inches)\")\n",
    "ax[0].set_title(\"Average Monthly Precipitation in Seattle\")\n",
    "# Plot Austin data in the lower subplot.\n",
    "ax[1].plot(austin_weather[\"MONTH\"], austin_weather[\"MLY-PRCP-NORMAL\"], color=\"r\", linestyle=\"-\")\n",
    "ax[1].plot(austin_weather[\"MONTH\"], austin_weather[\"MLY-PRCP-25PCTL\"], color=\"r\", linestyle=\"--\")\n",
    "ax[1].plot(austin_weather[\"MONTH\"], austin_weather[\"MLY-PRCP-75PCTL\"], color=\"r\", linestyle=\"--\")\n",
    "ax[1].set_xlabel(\"Time (months)\")\n",
    "ax[1].set_ylabel(\"Precipitation (inches)\")\n",
    "ax[1].set_title(\"Average Monthly Precipitation in Austin\")\n",
    "plt.show()"
   ]
  },
  {
   "cell_type": "markdown",
   "id": "5fdadb6a-323c-4891-9d08-f5e297ddbad3",
   "metadata": {},
   "source": [
    "#### Plot Rainfall Data Using Subplots with Enhancements (Demonstration)"
   ]
  },
  {
   "cell_type": "code",
   "execution_count": null,
   "id": "d1edb611-f4b2-4bdf-ad14-0f0dc0d0b958",
   "metadata": {},
   "outputs": [],
   "source": [
    "# Plot the rainfall data using subplots.\n",
    "# Make the y axis ticks the same using sharey=True.\n",
    "# Use one label for the x axis since they are identical.\n",
    "# Do not add titles for now.\n",
    "fig, ax = plt.subplots(2, 1, sharey=True)\n",
    "fig.set_size_inches((12, 9))\n",
    "ax[0].plot(seattle_weather[\"MONTH\"], seattle_weather[\"MLY-PRCP-NORMAL\"], \n",
    "           color=\"b\", linestyle=\"-\", label=\"Seattle\")\n",
    "ax[0].plot(seattle_weather[\"MONTH\"], seattle_weather[\"MLY-PRCP-25PCTL\"],\n",
    "           color=\"b\", linestyle=\"--\")\n",
    "ax[0].plot(seattle_weather[\"MONTH\"], seattle_weather[\"MLY-PRCP-75PCTL\"],\n",
    "           color=\"b\", linestyle=\"--\")\n",
    "# ax[0].set_xlabel(\"Time (months)\")\n",
    "ax[0].set_ylabel(\"Precipitation (inches)\")\n",
    "ax[0].set_title(\"Average Monthly Precipitation in Seattle\")\n",
    "ax[0].legend()\n",
    "\n",
    "ax[1].plot(austin_weather[\"MONTH\"], austin_weather[\"MLY-PRCP-NORMAL\"],\n",
    "           color=\"r\", linestyle=\"-\", label=\"Austin\")\n",
    "ax[1].plot(austin_weather[\"MONTH\"], austin_weather[\"MLY-PRCP-25PCTL\"],\n",
    "           color=\"r\", linestyle=\"--\")\n",
    "ax[1].plot(austin_weather[\"MONTH\"], austin_weather[\"MLY-PRCP-75PCTL\"],\n",
    "           color=\"r\", linestyle=\"--\")\n",
    "ax[1].set_xlabel(\"Time (months)\")\n",
    "ax[1].set_ylabel(\"Precipitation (inches)\")\n",
    "ax[1].set_title(\"Average Monthly Precipitation in Austin\")\n",
    "ax[1].legend()\n",
    "plt.show()"
   ]
  },
  {
   "cell_type": "markdown",
   "id": "008f146b-1620-423c-a941-0db0bd4c1e8c",
   "metadata": {},
   "source": [
    "#### Plot Precipitation and Temperature Data for Seattle and Austin in Subplots (Exercise)"
   ]
  },
  {
   "cell_type": "code",
   "execution_count": null,
   "id": "0858aa1f-3fcf-4967-9fb1-2a154f724068",
   "metadata": {},
   "outputs": [],
   "source": [
    "# Plot precipitation and temperature for Seattle and Austin.\n",
    "fig, ax = plt.subplots(2, 2)\n",
    "fig.set_size_inches((12, 9))\n",
    "ax[0, 0].plot(seattle_weather[\"MONTH\"], seattle_weather[\"MLY-PRCP-NORMAL\"])\n",
    "ax[0, 1].plot(seattle_weather[\"MONTH\"], seattle_weather[\"MLY-TAVG-NORMAL\"])\n",
    "ax[1, 0].plot(austin_weather[\"MONTH\"], austin_weather[\"MLY-PRCP-NORMAL\"])\n",
    "ax[1, 1].plot(austin_weather[\"MONTH\"], austin_weather[\"MLY-TAVG-NORMAL\"])\n",
    "plt.show()"
   ]
  },
  {
   "cell_type": "markdown",
   "id": "10a8d49f-4eca-4a47-a06d-0c02a90c0e2b",
   "metadata": {},
   "source": [
    "#### Plot Precipitation Data, Sharing the y Axis (Exercise)"
   ]
  },
  {
   "cell_type": "code",
   "execution_count": null,
   "id": "93e1ee4a-22fe-4328-810e-ddd57b983730",
   "metadata": {},
   "outputs": [],
   "source": [
    "# Plot precipitation, sharing the y axis.\n",
    "# I have already done this exercise above, so here's a repeat.\n",
    "fig, ax = plt.subplots(2, 1, sharey=True)\n",
    "fig.set_size_inches((12, 9))\n",
    "ax[0].plot(seattle_weather[\"MONTH\"], seattle_weather[\"MLY-PRCP-NORMAL\"], \n",
    "           color=\"b\", linestyle=\"-\", label=\"Seattle\")\n",
    "ax[0].plot(seattle_weather[\"MONTH\"], seattle_weather[\"MLY-PRCP-25PCTL\"],\n",
    "           color=\"b\", linestyle=\"--\")\n",
    "ax[0].plot(seattle_weather[\"MONTH\"], seattle_weather[\"MLY-PRCP-75PCTL\"],\n",
    "           color=\"b\", linestyle=\"--\")\n",
    "# ax[0].set_xlabel(\"Time (months)\")\n",
    "ax[0].set_ylabel(\"Precipitation (inches)\")\n",
    "# ax[0].set_title(\"Average Monthly Precipitation in Seattle\")\n",
    "ax[0].legend()\n",
    "\n",
    "ax[1].plot(austin_weather[\"MONTH\"], austin_weather[\"MLY-PRCP-NORMAL\"],\n",
    "           color=\"r\", linestyle=\"-\", label=\"Austin\")\n",
    "ax[1].plot(austin_weather[\"MONTH\"], austin_weather[\"MLY-PRCP-25PCTL\"],\n",
    "           color=\"r\", linestyle=\"--\")\n",
    "ax[1].plot(austin_weather[\"MONTH\"], austin_weather[\"MLY-PRCP-75PCTL\"],\n",
    "           color=\"r\", linestyle=\"--\")\n",
    "ax[1].set_xlabel(\"Time (months)\")\n",
    "ax[1].set_ylabel(\"Precipitation (inches)\")\n",
    "# ax[1].set_title(\"Average Monthly Precipitation in Austin\")\n",
    "ax[1].legend()\n",
    "plt.show()"
   ]
  },
  {
   "cell_type": "markdown",
   "id": "93af2666-202c-4205-a407-087310a04207",
   "metadata": {},
   "source": [
    "## Plotting Time-Series"
   ]
  },
  {
   "cell_type": "markdown",
   "id": "dcd5ab21-e825-4266-8bbd-141ad11a1b78",
   "metadata": {},
   "source": [
    "### Plotting Time-Series Data"
   ]
  },
  {
   "cell_type": "markdown",
   "id": "a4335087-7c16-4776-a1ee-9c4b0d716056",
   "metadata": {},
   "source": [
    "#### Load the Climate Change Data (Extra)"
   ]
  },
  {
   "cell_type": "code",
   "execution_count": null,
   "id": "a80c0a96-d6d9-45b5-aa37-4deda3035c32",
   "metadata": {},
   "outputs": [],
   "source": [
    "# Load the climate change data.\n",
    "# Convert the index to datetime values.\n",
    "# Note that pandas.DataFrame.info lists \"DateTimeIndex: ...\" for index\n",
    "# information.\n",
    "# The DataFrame is named climate_change_ex (climate change example) to\n",
    "# keep it separate from the climate_change variable used in the exercises\n",
    "# below.\n",
    "climate_change_ex = pd.read_csv(\"climate_change.csv\", index_col=0)\n",
    "climate_change_ex.index = climate_change_ex.index.astype(\"datetime64[ns]\")\n",
    "print(climate_change_ex.info())"
   ]
  },
  {
   "cell_type": "markdown",
   "id": "bfa832ef-407a-4269-aa41-8faccd68ac92",
   "metadata": {},
   "source": [
    "#### Load the Climate Change Data While Parsing Dates (Extra)"
   ]
  },
  {
   "cell_type": "code",
   "execution_count": null,
   "id": "87fbfbac-8139-4535-93a9-fc2d2133b2b7",
   "metadata": {},
   "outputs": [],
   "source": [
    "# It is possible to parse datetime columns immediately while reading the\n",
    "# file using the parse_dates argument, which needs a list of column numbers.\n",
    "# Show that the DataFrame obtained this way is equivalent to the DataFrame\n",
    "# obtained above.\n",
    "climate_change_ex2 = pd.read_csv(\"climate_change.csv\", index_col=0, parse_dates=[0])\n",
    "print(climate_change_ex2.info())\n",
    "print()\n",
    "print(climate_change_ex.equals(climate_change_ex2))"
   ]
  },
  {
   "cell_type": "markdown",
   "id": "acb6eda0-3257-47d3-af47-fc455ed75aa4",
   "metadata": {},
   "source": [
    "#### Look at the Climate Data (Demonstration)"
   ]
  },
  {
   "cell_type": "code",
   "execution_count": null,
   "id": "b174d197-fe58-49fb-97df-56c0e667f338",
   "metadata": {},
   "outputs": [],
   "source": [
    "# Look at some of the relative_temp values.\n",
    "climate_change_ex[\"relative_temp\"]"
   ]
  },
  {
   "cell_type": "code",
   "execution_count": null,
   "id": "6f6f0a5d-1188-4928-bf15-f406d7eee0d0",
   "metadata": {},
   "outputs": [],
   "source": [
    "# Look at some of the CO2 values. There are some NaN values where the\n",
    "# measurement is missing.\n",
    "climate_change_ex[\"co2\"]"
   ]
  },
  {
   "cell_type": "code",
   "execution_count": null,
   "id": "8abf1444-c055-42ab-8e65-b503737b507d",
   "metadata": {},
   "outputs": [],
   "source": [
    "climate_change_ex.head()"
   ]
  },
  {
   "cell_type": "markdown",
   "id": "19d0f63c-b5b2-4f68-860f-0489bde0f9fd",
   "metadata": {},
   "source": [
    "#### Plot the CO2 Data (Demonstration)"
   ]
  },
  {
   "cell_type": "code",
   "execution_count": null,
   "id": "f6d1968a-66eb-4537-900b-65dd706e281e",
   "metadata": {},
   "outputs": [],
   "source": [
    "# Plot the CO2 data.\n",
    "fig, ax = plt.subplots()\n",
    "fig.set_size_inches((12, 9))\n",
    "ax.plot(climate_change_ex.index, climate_change_ex[\"co2\"])\n",
    "ax.set_label(\"Time\")\n",
    "ax.set_ylabel(\"CO2 (ppm)\")\n",
    "plt.show()"
   ]
  },
  {
   "cell_type": "markdown",
   "id": "53dd588c-c9d2-4c4a-88eb-140cebab0762",
   "metadata": {},
   "source": [
    "#### Zoom in on One Decade of CO2 Data (Demonstration)"
   ]
  },
  {
   "cell_type": "code",
   "execution_count": null,
   "id": "366e8286-0846-449f-8085-a90914ced484",
   "metadata": {},
   "outputs": [],
   "source": [
    "# Zoom in on a particular decade by slicing the data.\n",
    "sixties = climate_change_ex[\"1960-01-01\":\"1969-12-31\"]\n",
    "fig, ax = plt.subplots()\n",
    "fig.set_size_inches((12, 9))\n",
    "ax.plot(sixties.index, sixties[\"co2\"])\n",
    "ax.set_label(\"Time\")\n",
    "ax.set_ylabel(\"CO2 (ppm)\")\n",
    "plt.show()"
   ]
  },
  {
   "cell_type": "markdown",
   "id": "aff6afb5-427d-4213-b5f2-9d98a34f7696",
   "metadata": {},
   "source": [
    "#### Zoom in on One Year of CO2 Data (Demonstration)"
   ]
  },
  {
   "cell_type": "code",
   "execution_count": null,
   "id": "182d3dce-789d-47bd-9e91-da56ea5de771",
   "metadata": {},
   "outputs": [],
   "source": [
    "# Zoom in one year.\n",
    "# Note that as we have changed scales, matplotlib has adjusted the\n",
    "# ticks on the axes.\n",
    "sixty_nine = climate_change_ex[\"1969-01-01\":\"1969-12-31\"]\n",
    "fig, ax = plt.subplots()\n",
    "fig.set_size_inches((12, 9))\n",
    "ax.plot(sixty_nine.index, sixty_nine[\"co2\"])\n",
    "ax.set_label(\"Time\")\n",
    "ax.set_ylabel(\"CO2 (ppm)\")\n",
    "plt.show()"
   ]
  },
  {
   "cell_type": "markdown",
   "id": "2e97bb7f-711f-43fd-b58d-dea3c5f79556",
   "metadata": {},
   "source": [
    "#### Load the Climate Data (Exercise)"
   ]
  },
  {
   "cell_type": "code",
   "execution_count": null,
   "id": "6277b8e4-270b-40e0-b524-5700ecd6e49e",
   "metadata": {},
   "outputs": [],
   "source": [
    "# Read the climate_change.csv file, parsing the dates in column 0.\n",
    "# Show that the DataFrame is equivalent to what we obtained above.\n",
    "climate_change = pd.read_csv(\"climate_change.csv\", index_col=0, parse_dates=[0])\n",
    "print(climate_change.info())\n",
    "print()\n",
    "print(climate_change.equals(climate_change_ex))"
   ]
  },
  {
   "cell_type": "markdown",
   "id": "5e6e85ce-d9d6-422d-8cd5-30e703f7517e",
   "metadata": {},
   "source": [
    "#### Plot the Time Series Data for Relative Temperature (Exercise)"
   ]
  },
  {
   "cell_type": "code",
   "execution_count": null,
   "id": "f841efa0-fe49-4a41-8c29-ba6f757ca14c",
   "metadata": {},
   "outputs": [],
   "source": [
    "# Plot the time-series data for relative_temp.\n",
    "fig, ax = plt.subplots()\n",
    "fig.set_size_inches((12, 9))\n",
    "ax.plot(climate_change.index, climate_change[\"relative_temp\"])\n",
    "ax.set_xlabel(\"Time\")\n",
    "ax.set_ylabel(\"Relative temperature (Celsius)\")\n",
    "plt.show()"
   ]
  },
  {
   "cell_type": "markdown",
   "id": "79826351-fc05-42ee-a250-4d22059122c3",
   "metadata": {},
   "source": [
    "#### Zoom in on One Decate of CO2 Data (Exercise)"
   ]
  },
  {
   "cell_type": "code",
   "execution_count": null,
   "id": "7e73aebc-9505-41eb-b710-6448d47ced58",
   "metadata": {},
   "outputs": [],
   "source": [
    "# Zoom in to view the period from 1970-01-01 to 1979-12-31.\n",
    "fig, ax = plt.subplots()\n",
    "fig.set_size_inches((12, 9))\n",
    "seventies = climate_change[(climate_change.index >= \"1970-01-01\") & (climate_change.index <= \"1979-12-31\")]\n",
    "ax.plot(seventies.index, seventies[\"co2\"])\n",
    "ax.set_xlabel(\"Time\")\n",
    "ax.set_ylabel(\"CO2 concentration (ppm)\")\n",
    "plt.show()"
   ]
  },
  {
   "cell_type": "markdown",
   "id": "e6831938-eb07-4b3d-aae5-1ceab91a833f",
   "metadata": {},
   "source": [
    "### Plotting Time-Series with Different Variables"
   ]
  },
  {
   "cell_type": "markdown",
   "id": "b3d3b2a9-8d43-413f-b9f1-1457333e3149",
   "metadata": {},
   "source": [
    "#### Load the Climate Change Data, Parsing Dates (Extra)"
   ]
  },
  {
   "cell_type": "code",
   "execution_count": null,
   "id": "ee4f3ed9-2e4c-4082-832d-eb07034a30d4",
   "metadata": {},
   "outputs": [],
   "source": [
    "# It is possible to specify the index column by its name and to pass a list of\n",
    "# column names to the parse_dates argument. This was shown in the video.\n",
    "# Show that the result is equivalent to using the other approaches for reading\n",
    "# the data.\n",
    "climate_change_ex3 = pd.read_csv(\"climate_change.csv\", index_col=\"date\", parse_dates=[\"date\"])\n",
    "print(climate_change_ex3.info())\n",
    "print()\n",
    "print(climate_change_ex.equals(climate_change_ex3))"
   ]
  },
  {
   "cell_type": "markdown",
   "id": "1f99fea7-66d5-40fa-9d5b-43d8f3f27046",
   "metadata": {},
   "source": [
    "#### Plot CO2 and Relative Temperature Data in the Same Plot (Demonstration)"
   ]
  },
  {
   "cell_type": "code",
   "execution_count": null,
   "id": "cc2b3216-6933-46ae-83c8-4fd484a1d191",
   "metadata": {},
   "outputs": [],
   "source": [
    "# Plot both \"co2\" and \"relative_temp\" in the same plot.\n",
    "# This does not look good.\n",
    "fig, ax = plt.subplots()\n",
    "fig.set_size_inches((12, 9))\n",
    "ax.plot(climate_change_ex3.index, climate_change_ex3[\"co2\"])\n",
    "ax.plot(climate_change_ex3.index, climate_change_ex3[\"relative_temp\"])\n",
    "ax.set_xlabel(\"Time\")\n",
    "ax.set_ylabel(\"CO2 (ppm) / Relative temperature (Celsius)\")\n",
    "plt.show()"
   ]
  },
  {
   "cell_type": "markdown",
   "id": "e9dd10ee-7597-4874-8c7d-57a736e7fbf8",
   "metadata": {},
   "source": [
    "#### Plot the CO2 and Relative Temperature Data Using Different y Axis Scales (Demonstration)"
   ]
  },
  {
   "cell_type": "code",
   "execution_count": null,
   "id": "64f0d502-7564-4aca-9b27-3dc04fa25ec1",
   "metadata": {},
   "outputs": [],
   "source": [
    "# The solution is to use two different y axis scales.\n",
    "# I played around with setting alpha without much success.\n",
    "# Color the y axis ticks and tick labels.\n",
    "# Wow, that might be too much color.\n",
    "fig, ax = plt.subplots()\n",
    "fig.set_size_inches((12, 9))\n",
    "ax.plot(climate_change_ex3.index, climate_change_ex3[\"co2\"], color=\"blue\")\n",
    "ax.set_xlabel(\"Time\")\n",
    "ax.set_ylabel(\"CO2 (ppm)\", color=\"blue\")\n",
    "ax.tick_params(\"y\", colors=\"blue\")\n",
    "# Create a second Axes object, ax2, that shares the same x axis as ax.\n",
    "ax2 = ax.twinx()\n",
    "ax2.plot(climate_change_ex3.index, climate_change_ex3[\"relative_temp\"], color=\"red\")\n",
    "ax2.set_ylabel(\"Relative temperature (Celsius)\", color=\"red\")\n",
    "ax2.tick_params(\"y\", colors=\"red\")\n",
    "plt.show()"
   ]
  },
  {
   "cell_type": "markdown",
   "id": "6b03c0ab-1f6e-4b84-97bd-22a308fd3f91",
   "metadata": {},
   "source": [
    "#### Create a Function for Plotting Time Series Data (Demonstration)"
   ]
  },
  {
   "cell_type": "code",
   "execution_count": null,
   "id": "4922eadd-1976-4ee8-ad8d-5d6e5107ff03",
   "metadata": {},
   "outputs": [],
   "source": [
    "# Create a function for this code.\n",
    "def plot_timeseries(axes, x, y, color, xlabel, ylabel):\n",
    "    axes.plot(x, y, color=color)\n",
    "    axes.set_xlabel(xlabel)\n",
    "    axes.set_ylabel(ylabel)\n",
    "    axes.tick_params(\"y\", colors=color)\n",
    "\n",
    "# Call the function.\n",
    "fig, ax = plt.subplots()\n",
    "fig.set_size_inches((12, 9))\n",
    "ax2 = ax.twinx()\n",
    "plot_timeseries(ax, climate_change.index, climate_change[\"co2\"], \n",
    "                color=\"blue\", xlabel=\"Time (years)\", ylabel=\"CO2 (ppm)\")\n",
    "plot_timeseries(ax2, climate_change.index, climate_change[\"relative_temp\"], \n",
    "                color=\"red\", xlabel=\"Time (years\", ylabel=\"Relative temperature (Celsius)\")\n",
    "plt.show()"
   ]
  },
  {
   "cell_type": "markdown",
   "id": "c77ec627-a24b-4b7b-a2f8-c777ad3318c7",
   "metadata": {},
   "source": [
    "#### Repeat the Demonstration Code (Exercise)\n",
    "\n",
    "The exercise repeated building the demonstration code above."
   ]
  },
  {
   "cell_type": "markdown",
   "id": "369d3b01-06dc-4567-8f22-963a6cbe1d75",
   "metadata": {},
   "source": [
    "### Annotating Time-Series Data"
   ]
  },
  {
   "cell_type": "markdown",
   "id": "32fb05b3-4b13-488e-82f4-a495ea70e683",
   "metadata": {},
   "source": [
    "#### Annotate a Time-Series Data Point in the Plot (Demonstration)"
   ]
  },
  {
   "cell_type": "code",
   "execution_count": null,
   "id": "89024b5f-f30e-4222-bb5e-0698dd4c792c",
   "metadata": {},
   "outputs": [],
   "source": [
    "# The first day climate_change[\"relative_temp\"] >= 1.0 was 2015-10-06.\n",
    "# Annotate this on the plot.\n",
    "fig, ax = plt.subplots()\n",
    "fig.set_size_inches((12, 9))\n",
    "plot_timeseries(ax, climate_change.index, climate_change[\"co2\"], \n",
    "                color=\"blue\", xlabel=\"Time (years)\", ylabel=\"CO2 (ppm)\")\n",
    "ax2 = ax.twinx()\n",
    "plot_timeseries(ax2, climate_change.index, climate_change[\"relative_temp\"], \n",
    "                color=\"red\", xlabel=\"Time (years\", ylabel=\"Relative temperature (Celsius)\")\n",
    "# Add an annotation to the plot, where the xy parameter specifies coordinates\n",
    "# in the plot. We have to set the x coordinate to the right object.\n",
    "# The xytext argument moves the annotation to a better location.\n",
    "# The annotation text doesn't indicate the data point it's associated with.\n",
    "# Add an arrow to indicate the point.\n",
    "# I moved the position of the annotation.\n",
    "ax2.annotate(\n",
    "    \"> 1 degree\",\n",
    "    xy=(pd.Timestamp(\"2015-10-06\"), 1.0), \n",
    "    xytext=(pd.Timestamp(\"2000-10-06\"), 1.2),\n",
    "    # xytext=(pd.Timestamp(\"2008-10-06\"), -0.2),\n",
    "    arrowprops = {\"arrowstyle\": \"->\", \"color\": \"gray\"})\n",
    "plt.show()"
   ]
  },
  {
   "cell_type": "markdown",
   "id": "47163324-1a6d-4938-84a1-621dae76aa7f",
   "metadata": {},
   "source": [
    "#### Replicate the Demonstration Code (Exercise)\n",
    "\n",
    "The exercise replicated the demonstration code above."
   ]
  },
  {
   "cell_type": "code",
   "execution_count": null,
   "id": "11b150c6-cfc9-47f2-bd07-ae4c89ff3644",
   "metadata": {},
   "outputs": [],
   "source": [
    "# The exercise replicated the code above."
   ]
  },
  {
   "cell_type": "markdown",
   "id": "0817fa73-16f3-49fd-b050-4f46916ebbf1",
   "metadata": {},
   "source": [
    "## Quantitative Comparisons and Statistical Visualizations\n",
    "\n",
    "See also the notebook from the \"Introduction to Data Science in Python\" course, which presents many plotting examples."
   ]
  },
  {
   "cell_type": "markdown",
   "id": "0b12d415-21a0-49a5-917f-b4b0d4e5c79b",
   "metadata": {},
   "source": [
    "### Bar Charts"
   ]
  },
  {
   "cell_type": "markdown",
   "id": "fad0ae2e-61ef-4957-a66d-9f662a284e5d",
   "metadata": {},
   "source": [
    "#### Load the Olympic Medal Data (Extra)"
   ]
  },
  {
   "cell_type": "code",
   "execution_count": null,
   "id": "18f67595-d168-48ff-98e4-4e83779a188c",
   "metadata": {},
   "outputs": [],
   "source": [
    "# Load the Olympic medal data.\n",
    "# There is no name for the column containing country names because that is\n",
    "# intended to be the index column. This code loaded the column as a data\n",
    "# column and \"fixed\" the index.\n",
    "medals = pd.read_csv(\"medals_by_country_2016.csv\")\n",
    "column_names = list(medals.columns)\n",
    "column_names[0] = \"Country\"\n",
    "medals.set_axis(column_names, axis=1, inplace=True)\n",
    "medals"
   ]
  },
  {
   "cell_type": "markdown",
   "id": "62c68526-6d29-4deb-9442-dc6a8dc919f4",
   "metadata": {},
   "source": [
    "#### Load the Data Using the Country Names as the Row Index (Extra)"
   ]
  },
  {
   "cell_type": "code",
   "execution_count": null,
   "id": "5335cc6d-ae06-45f0-9e8b-1c95010f4b61",
   "metadata": {},
   "outputs": [],
   "source": [
    "# The course uses the country names as the index.\n",
    "medals = pd.read_csv(\"medals_by_country_2016.csv\", index_col=0)\n",
    "medals"
   ]
  },
  {
   "cell_type": "markdown",
   "id": "24cb2e12-5d04-4ca7-bef6-6286462556d1",
   "metadata": {},
   "source": [
    "#### Create a Bar Chart of Gold Medals by Country (Demonstration)"
   ]
  },
  {
   "cell_type": "code",
   "execution_count": null,
   "id": "393736b8-a4ba-496e-9a70-b5678f569146",
   "metadata": {},
   "outputs": [],
   "source": [
    "# Create a bar chart of gold medals.\n",
    "# Rotate the country names so they don't overlap.\n",
    "fig, ax = plt.subplots()\n",
    "fig.set_size_inches((12, 9))\n",
    "ax.bar(medals.index, medals[\"Gold\"], color=\"gold\")\n",
    "# Must call ax.set_xticks(medals.index) before calling ax.set_xticklabels()\n",
    "# to avoid this warning:\n",
    "#    UserWarning: FixedFormatter should only be used together with FixedLocator\n",
    "ax.set_xticks(medals.index)\n",
    "ax.set_xticklabels(medals.index, rotation=90)\n",
    "ax.set_xlabel(\"Country\")\n",
    "ax.set_ylabel(\"Number of medals\")\n",
    "plt.show()"
   ]
  },
  {
   "cell_type": "markdown",
   "id": "f5cf1fad-961c-4245-8f56-ee7f480621f2",
   "metadata": {},
   "source": [
    "#### Create a Stacked Bar Chart of Medals Won by Country (Demonstration)"
   ]
  },
  {
   "cell_type": "code",
   "execution_count": null,
   "id": "5e144597-f2a3-4aea-9e70-fe281d19e9ca",
   "metadata": {},
   "outputs": [],
   "source": [
    "# Create a stacked bar chart of medals.\n",
    "# There is not a web color named \"bronze\".\n",
    "# See this link for a color code for \"bronze\":\n",
    "#   https://www.colorhexa.com/cd7f32\n",
    "#   bronze: \"#cd7f32\"\n",
    "# \"xkcd:bronze\": \"#a87900\" # see https://xkcd.com/color/rgb/\n",
    "# Matplotlib can also use \"xkcd:gold\" and \"xkcd:bronze\".\n",
    "fig, ax = plt.subplots()\n",
    "fig.set_size_inches((12, 9))\n",
    "ax.bar(medals.index, medals[\"Gold\"], label=\"Gold\", color=\"gold\")\n",
    "ax.bar(medals.index, medals[\"Silver\"], bottom=medals[\"Gold\"],\n",
    "       label=\"Silver\", color=\"silver\")\n",
    "ax.bar(medals.index, medals[\"Bronze\"],\n",
    "       bottom=(medals[\"Gold\"] + medals[\"Silver\"]),\n",
    "       label=\"Bronze\", color=\"xkcd:bronze\")\n",
    "ax.set_xticks(medals.index)\n",
    "ax.set_xticklabels(medals.index, rotation=90)\n",
    "ax.set_xlabel(\"Country\")\n",
    "ax.set_ylabel(\"Number of medals\")\n",
    "ax.legend()\n",
    "plt.show()"
   ]
  },
  {
   "cell_type": "markdown",
   "id": "fd11bc73-fecc-43b6-b2e1-07f66bb1faae",
   "metadata": {},
   "source": [
    "#### Replicate the Code Above (Exercise)\n",
    "\n",
    "The exercise repeated creating the code above."
   ]
  },
  {
   "cell_type": "markdown",
   "id": "287036d4-9f7a-4e56-a987-8df2d5a382d0",
   "metadata": {},
   "source": [
    "### Histograms\n",
    "\n",
    "#### Read the Summer 2016 Olympics Data (Extra)"
   ]
  },
  {
   "cell_type": "code",
   "execution_count": null,
   "id": "8a540753-b07e-45d5-9f5c-a62589b3954f",
   "metadata": {},
   "outputs": [],
   "source": [
    "# Read the data from summer2016.csv.\n",
    "athletes = pd.read_csv(\"summer2016.csv\", index_col=0)\n",
    "athletes.info()"
   ]
  },
  {
   "cell_type": "markdown",
   "id": "40950811-51ce-4c52-9f72-e11c413e5639",
   "metadata": {},
   "source": [
    "#### Subset the Data for Rowing and Count the Medals by Sex (Extra)"
   ]
  },
  {
   "cell_type": "code",
   "execution_count": null,
   "id": "c53d4b12-9e35-4e6a-ac1c-3a414746278d",
   "metadata": {},
   "outputs": [],
   "source": [
    "# Subset the data for rowing and count the medals by sex.\n",
    "rowing = athletes[athletes[\"Sport\"] == \"Rowing\"].copy()\n",
    "# Perform the equivalent of:\n",
    "# SELECT Sex, COUNT(Sex) FROM rowing GROUP BY Sex;\n",
    "print(rowing.groupby(\"Sex\").size())"
   ]
  },
  {
   "cell_type": "markdown",
   "id": "93481a85-6264-4293-8638-50eb55e69956",
   "metadata": {},
   "source": [
    "#### Create a DataFrame for Men's Rowing (Extra)"
   ]
  },
  {
   "cell_type": "code",
   "execution_count": null,
   "id": "c30ab7f6-a2b8-4218-ba07-c5b1c7b418dc",
   "metadata": {},
   "outputs": [],
   "source": [
    "# Create a DataFrame for men's rowing (84 rows).\n",
    "mens_rowing = athletes[(athletes[\"Sport\"] == \"Rowing\") & (athletes[\"Sex\"] == \"M\")]\n",
    "print(mens_rowing.info())"
   ]
  },
  {
   "cell_type": "markdown",
   "id": "a6fb7cb8-cff4-4c9f-bb2c-53fb0637957c",
   "metadata": {},
   "source": [
    "#### Create a DataFrame for Men's Gymnastics (Extra)"
   ]
  },
  {
   "cell_type": "code",
   "execution_count": null,
   "id": "523da27c-05b3-4b13-8287-60b52b05a6cc",
   "metadata": {},
   "outputs": [],
   "source": [
    "# Create a DataFrame for men's gymnastics (36 rows).\n",
    "mens_gymnastics = athletes[(athletes[\"Sport\"] == \"Gymnastics\") & (athletes[\"Sex\"] == \"M\")]\n",
    "print(mens_gymnastics.info())"
   ]
  },
  {
   "cell_type": "markdown",
   "id": "2fc96921-ce26-4cab-859e-8c4b4565d79e",
   "metadata": {},
   "source": [
    "#### Create a Bar Chart of the Mean Heights for Men's Rowing and Gymnastics (Demonstration)"
   ]
  },
  {
   "cell_type": "code",
   "execution_count": null,
   "id": "5cae62d6-e14c-49a1-8c31-ed53977f89e1",
   "metadata": {},
   "outputs": [],
   "source": [
    "# Create a bar chart of the mean heights.\n",
    "# This is deliberately the wrong approach.\n",
    "# A box plot might be nice here.\n",
    "# We could add error bars for the standard error of the mean.\n",
    "fig, ax = plt.subplots()\n",
    "fig.set_size_inches((12, 9))\n",
    "ax.bar(\"Rowing\", mens_rowing[\"Height\"].mean())\n",
    "ax.bar(\"Gymnastics\", mens_gymnastics[\"Height\"].mean())\n",
    "plt.show()"
   ]
  },
  {
   "cell_type": "markdown",
   "id": "42d5adc3-d766-4035-9be9-6973b2556eea",
   "metadata": {},
   "source": [
    "#### Create Histograms of the Heights for Men's Rowing and Gymnastics (Demonstration)"
   ]
  },
  {
   "cell_type": "code",
   "execution_count": null,
   "id": "1c9919d5-40c5-4d38-bf30-7d29ab53f23d",
   "metadata": {},
   "outputs": [],
   "source": [
    "# Create histograms.\n",
    "# The default is 10 bins.\n",
    "# Labels are required when plotting multiple histograms.\n",
    "# Set alpha < 1.0 to allow seeing overlaps.\n",
    "fig, ax = plt.subplots()\n",
    "fig.set_size_inches((12, 9))\n",
    "bins = 10\n",
    "ax.hist(mens_rowing[\"Height\"], bins=bins, label=\"Rowing\", alpha=0.7)\n",
    "ax.hist(mens_gymnastics[\"Height\"], bins=bins, label=\"Gymnastics\", alpha=0.7)\n",
    "ax.set_yticks(np.arange(0, 22, 5))\n",
    "ax.set_xlabel(\"Height (cm)\")\n",
    "ax.set_ylabel(\"Number of athletes\")\n",
    "ax.legend()\n",
    "plt.show()"
   ]
  },
  {
   "cell_type": "markdown",
   "id": "2224b9c2-e5be-4561-9446-6258cf4642ae",
   "metadata": {},
   "source": [
    "#### Create Histograms of the Same Data using Bin Boundaries (Demonstration)"
   ]
  },
  {
   "cell_type": "code",
   "execution_count": null,
   "id": "bc74dd1e-8505-49db-b6b1-bcf0df2ca637",
   "metadata": {},
   "outputs": [],
   "source": [
    "# Create histograms using bin boundaries..\n",
    "# When a list is used as the bins argument, the list values set the\n",
    "# boundaries of the bins.\n",
    "fig, ax = plt.subplots()\n",
    "fig.set_size_inches((12, 9))\n",
    "bins = np.arange(148, 210, 4)\n",
    "ax.hist(mens_rowing[\"Height\"], bins=bins, label=\"Rowing\", alpha=0.7)\n",
    "ax.hist(mens_gymnastics[\"Height\"], bins=bins, label=\"Gymnastics\", alpha=0.7)\n",
    "ax.set_yticks(np.arange(0, 22, 5))\n",
    "ax.set_xlabel(\"Height (cm)\")\n",
    "ax.set_ylabel(\"Number of athletes\")\n",
    "ax.legend()\n",
    "plt.show()"
   ]
  },
  {
   "cell_type": "markdown",
   "id": "58725564-c094-45a7-b223-0f0d4c9c4a18",
   "metadata": {},
   "source": [
    "#### Create a Stepped Histogram of the Same Data (Demonstration)"
   ]
  },
  {
   "cell_type": "code",
   "execution_count": null,
   "id": "87cef8e6-3a76-4ce9-adb2-0562ab5ec0fb",
   "metadata": {},
   "outputs": [],
   "source": [
    "# Create a stepped histogram.\n",
    "# This makes it easier to see overlaps of the histograms.\n",
    "fig, ax = plt.subplots()\n",
    "fig.set_size_inches((12, 9))\n",
    "bins = np.arange(148, 210, 4)\n",
    "ax.hist(mens_rowing[\"Height\"], bins=bins, label=\"Rowing\", histtype=\"step\")\n",
    "ax.hist(mens_gymnastics[\"Height\"], bins=bins, label=\"Gymnastics\", histtype=\"step\")\n",
    "ax.set_yticks(np.arange(0, 22, 5))\n",
    "ax.set_xlabel(\"Height (cm)\")\n",
    "ax.set_ylabel(\"Number of athletes\")\n",
    "ax.legend()\n",
    "plt.show()"
   ]
  },
  {
   "cell_type": "markdown",
   "id": "2f400708-e076-42dd-8879-b73713541776",
   "metadata": {},
   "source": [
    "#### Plot Histograms of the Weights for Men's Rowing and Gymnastics (Exercise)"
   ]
  },
  {
   "cell_type": "code",
   "execution_count": null,
   "id": "3d51f949-1a6d-41b5-821e-1a5b02a45b29",
   "metadata": {},
   "outputs": [],
   "source": [
    "# Plot histograms of the weights of participants in men's rowing\n",
    "# and men's gymnastics.\n",
    "fig, ax = plt.subplots()\n",
    "fig.set_size_inches((12, 9))\n",
    "bins = np.arange(50, 115, 5)\n",
    "ax.hist(mens_rowing[\"Weight\"], bins=bins, label=\"Rowing\", alpha=0.7)\n",
    "ax.hist(mens_gymnastics[\"Weight\"], bins=bins, label=\"Gymnastics\", alpha=0.7)\n",
    "ax.set_xlabel(\"Weight (kg)\")\n",
    "ax.set_ylabel(\"Number of athletes\")\n",
    "ax.legend()\n",
    "plt.show()"
   ]
  },
  {
   "cell_type": "markdown",
   "id": "d0686181-cb0c-444b-abb9-8625d4587ad9",
   "metadata": {},
   "source": [
    "#### Plot Step Histograms of the Same Data (Exercise)"
   ]
  },
  {
   "cell_type": "code",
   "execution_count": null,
   "id": "a6dde7db-1992-4dc1-b9e0-32840725581b",
   "metadata": {},
   "outputs": [],
   "source": [
    "# Plot step histograms.\n",
    "fig, ax = plt.subplots()\n",
    "fig.set_size_inches((12, 9))\n",
    "bins = np.arange(50, 115, 5)\n",
    "ax.hist(mens_rowing[\"Weight\"], histtype=\"step\", bins=bins, label=\"Rowing\")\n",
    "ax.hist(mens_gymnastics[\"Weight\"], histtype=\"step\", bins=bins, label=\"Gymnastics\")\n",
    "ax.set_xlabel(\"Weight (kg)\")\n",
    "ax.set_ylabel(\"# of observations\")\n",
    "ax.legend()\n",
    "plt.show()"
   ]
  },
  {
   "cell_type": "markdown",
   "id": "6183861b-da03-4989-977e-c57af4914e13",
   "metadata": {},
   "source": [
    "### Statistical Plotting"
   ]
  },
  {
   "cell_type": "markdown",
   "id": "6c32cd29-5375-4945-9b87-ed8a8ea19c26",
   "metadata": {},
   "source": [
    "#### Create a Bar Chart with Error Bars (Demonstration)"
   ]
  },
  {
   "cell_type": "code",
   "execution_count": null,
   "id": "4e37ee25-0ad8-4db4-aaac-2dd3fe59c6e7",
   "metadata": {},
   "outputs": [],
   "source": [
    "# Create a bar chart with error bars.\n",
    "# I dislike these.\n",
    "fig, ax = plt.subplots()\n",
    "fig.set_size_inches((12, 9))\n",
    "ax.bar(\"Rowing\", mens_rowing[\"Height\"].mean(), yerr=mens_rowing[\"Height\"].std())\n",
    "ax.bar(\"Gymnastics\", mens_gymnastics[\"Height\"].mean(), yerr=mens_gymnastics[\"Height\"].std())\n",
    "ax.set_ylabel(\"Height (cm)\")\n",
    "plt.show()"
   ]
  },
  {
   "cell_type": "markdown",
   "id": "a883a835-a2fd-46b7-bbe7-db5d1848ed47",
   "metadata": {},
   "source": [
    "#### Create a Line Plot with Error Bars (Demonstration)"
   ]
  },
  {
   "cell_type": "code",
   "execution_count": null,
   "id": "e8f9f64b-c50f-4e86-9d6f-9c0f4e88859c",
   "metadata": {},
   "outputs": [],
   "source": [
    "# Create a line plot with error bars using the errorbar method.\n",
    "# Plot the weather data, which contains means and standard deviations.\n",
    "# This uses the errorbar method, not the plot method.\n",
    "fig, ax = plt.subplots()\n",
    "fig.set_size_inches((12, 9))\n",
    "ax.errorbar(\n",
    "    seattle_weather[\"MONTH\"],\n",
    "    seattle_weather[\"MLY-TAVG-NORMAL\"],\n",
    "    yerr=seattle_weather[\"MLY-TAVG-STDDEV\"],\n",
    "    label=\"Seattle\")\n",
    "ax.errorbar(\n",
    "    austin_weather[\"MONTH\"],\n",
    "    austin_weather[\"MLY-TAVG-NORMAL\"],\n",
    "    yerr=austin_weather[\"MLY-TAVG-STDDEV\"],\n",
    "    label=\"Austin\")\n",
    "ax.set_xlabel(\"Month\")\n",
    "ax.set_ylabel(\"Temperature (Fahrenheit)\")\n",
    "plt.legend()\n",
    "plt.show()"
   ]
  },
  {
   "cell_type": "markdown",
   "id": "450d7c07-0d69-4ce6-8116-fa4c33b4489e",
   "metadata": {},
   "source": [
    "#### Create Box Plots of Weights for Men's Rowing and Gymnastics (Demonstration)\n",
    "\n",
    "From the documentation for the boxplot method: \n",
    "> The box extends from the first quartile (Q1) to the third quartile (Q3) of the data, with a line at the median. The whiskers extend from the box by 1.5x the inter-quartile range (IQR). Flier points are those past the end of the whiskers. See https://en.wikipedia.org/wiki/Box_plot for reference.\n",
    "\n",
    "A legend is not necessary since the x axis ticks are labeled. In fact, calling `ax.legend()` or `plt.legend()` causes this warning:\n",
    "> No artists with labels found to put in legend.  Note that artists whose label start with an underscore are ignored when legend() is called with no argument."
   ]
  },
  {
   "cell_type": "code",
   "execution_count": null,
   "id": "13faa2da-f318-40f7-b513-52a3e3b353ce",
   "metadata": {},
   "outputs": [],
   "source": [
    "# Create box plots.\n",
    "fig, ax = plt.subplots()\n",
    "fig.set_size_inches((12, 9))\n",
    "ax.boxplot(\n",
    "    [mens_rowing[\"Height\"], mens_gymnastics[\"Height\"]],\n",
    "    labels=[\"Rowing\", \"Gymnastics\"])\n",
    "ax.set_ylabel(\"Height (cm)\")\n",
    "ax.set_xlabel(\"Sport\")\n",
    "plt.show()"
   ]
  },
  {
   "cell_type": "markdown",
   "id": "396a87ac-1682-4d0c-8c66-63d46f36fdf2",
   "metadata": {},
   "source": [
    "#### Replicate Creating a Bar Chart with Error Bars (Exercise)\n",
    "\n",
    "This exercise replicates the video's demonstration using the\n",
    "bar method. The code is above.\n",
    "\n",
    "#### Replicate Creating an Error Bar Plot (Exercise)\n",
    "\n",
    "This exercise replicates the video's demonstration using the\n",
    "errorbar method. The code is above.\n",
    "\n",
    "#### Replicate Creating Box Plots (Exercise)\n",
    "\n",
    "This exercise replicates the video's demonstration using the\n",
    "boxplot method. The code is above."
   ]
  },
  {
   "cell_type": "markdown",
   "id": "7974a2e6-f105-44c7-9071-10e0ff2e7bee",
   "metadata": {},
   "source": [
    "### Scatter Plots\n",
    "\n",
    "These are also known as bi-variate comparisons."
   ]
  },
  {
   "cell_type": "markdown",
   "id": "4b67c97c-f61c-42d1-919e-8db6eafec971",
   "metadata": {},
   "source": [
    "#### Create a Scatter Plot of Temperature as a Function of CO2 Concentration (Demonstration)"
   ]
  },
  {
   "cell_type": "code",
   "execution_count": null,
   "id": "d9ea3801-9114-43e7-b17e-e88ee3963f03",
   "metadata": {},
   "outputs": [],
   "source": [
    "# Create a scatter plot of CO2 vs. relative temperature.\n",
    "fig, ax = plt.subplots()\n",
    "fig.set_size_inches((12, 9))\n",
    "ax.scatter(x=climate_change[\"co2\"], y=climate_change[\"relative_temp\"])\n",
    "ax.set_xlabel(\"CO2 (ppm)\")\n",
    "ax.set_ylabel(\"Relative temperature (Celsius)\")\n",
    "plt.show()"
   ]
  },
  {
   "cell_type": "markdown",
   "id": "64cc02f0-a2b8-49fc-87b4-59ed66f328b7",
   "metadata": {},
   "source": [
    "#### Create a Scatter Plot with Enhancement for Subsets of Temperature and CO2 Data (Demonstration)"
   ]
  },
  {
   "cell_type": "code",
   "execution_count": null,
   "id": "c70cf77f-fb0c-462a-b806-d72b8b708eb0",
   "metadata": {},
   "outputs": [],
   "source": [
    "# Customize scatter plots by zooming in.\n",
    "eighties = climate_change[\"1980-01-01\":\"1989-12-31\"]\n",
    "nineties = climate_change[\"1990-01-01\":\"1999-12-31\"]\n",
    "fig, ax = plt.subplots()\n",
    "fig.set_size_inches((12, 9))\n",
    "ax.scatter(x=eighties[\"co2\"], y=eighties[\"relative_temp\"], color=\"red\", label=\"1980s\")\n",
    "ax.scatter(x=nineties[\"co2\"], y=nineties[\"relative_temp\"], color=\"blue\", label=\"1990s\")\n",
    "ax.set_xlabel(\"CO2 (ppm)\")\n",
    "ax.set_ylabel(\"Relative temperature (Celsius)\")\n",
    "plt.legend()\n",
    "plt.show()"
   ]
  },
  {
   "cell_type": "markdown",
   "id": "4e5c17cb-9863-4eea-a066-64c67328303f",
   "metadata": {},
   "source": [
    "#### Plot Temperature and CO2 Data, Adding Color for the Time Dimension (Demonstration)"
   ]
  },
  {
   "cell_type": "code",
   "execution_count": null,
   "id": "46a81501-813f-4e87-8fa6-78163ef35ba5",
   "metadata": {},
   "outputs": [],
   "source": [
    "# Encoding a third variable by color.\n",
    "# We can add a third variable, the values in the DataFrame index, which represents time.\n",
    "# We add these using the c parameter.\n",
    "# Time is indicated by darkness to brightness of the marker colors.\n",
    "fig, ax = plt.subplots()\n",
    "fig.set_size_inches((12, 9))\n",
    "ax.scatter(x=climate_change[\"co2\"], y=climate_change[\"relative_temp\"], c=climate_change.index)\n",
    "ax.set_xlabel(\"CO2 (ppm)\")\n",
    "ax.set_ylabel(\"Relative temperature (Celsius)\")\n",
    "plt.show()"
   ]
  },
  {
   "cell_type": "markdown",
   "id": "692ad1fb-54ac-45e1-985c-1fca3cad9c3e",
   "metadata": {},
   "source": [
    "#### Replicate the Scatter Plots (Exercises)\n",
    "\n",
    "The first exercise replicates the first demonstration from the video. See the code above.\n",
    "\n",
    "The second exercise replicates the third demonstration from the video. See the code above."
   ]
  },
  {
   "cell_type": "markdown",
   "id": "17e2d48a-7b89-4f8e-88bf-3e9ad06919b5",
   "metadata": {},
   "source": [
    "## Sharing Visualizations with Others"
   ]
  },
  {
   "cell_type": "markdown",
   "id": "a1b1fb00-ae04-4712-846e-36591e04cdde",
   "metadata": {},
   "source": [
    "### Preparing Your Figures to Share with Others\n",
    "\n",
    "#### Change the Plot Style (Demonstration)\n",
    "\n",
    "Styles allow setting the appearance of multiple figure elements simultaneously. The style applies to all figures created during the session.\n",
    "\n",
    "See this page for the various styles available from Matplotlib: https://matplotlib.org/stable/gallery/style_sheets/style_sheets_reference.html\n",
    "\n",
    "Return to the default style with this code:\n",
    "```\n",
    "plt.style.use(\"default\")\n",
    "```"
   ]
  },
  {
   "cell_type": "code",
   "execution_count": null,
   "id": "be796f30-1bad-4f23-ac2a-92e338b24888",
   "metadata": {},
   "outputs": [],
   "source": [
    "fig, ax = plt.subplots()\n",
    "ax.plot(seattle_weather[\"MONTH\"], seattle_weather[\"MLY-TAVG-NORMAL\"])\n",
    "ax.plot(austin_weather[\"MONTH\"], austin_weather[\"MLY-TAVG-NORMAL\"])\n",
    "ax.set_xlabel(\"Time (months)\")\n",
    "ax.set_ylabel(\"Average temperature (F)\")\n",
    "plt.show()"
   ]
  },
  {
   "cell_type": "markdown",
   "id": "292ce9d6-bbd9-4041-935b-18b971cbfc2f",
   "metadata": {},
   "source": [
    "#### Use the `ggplot` Plot Style (Demonstration)"
   ]
  },
  {
   "cell_type": "code",
   "execution_count": null,
   "id": "ec40c2eb-40ea-4931-8fa0-7c586f5847e3",
   "metadata": {},
   "outputs": [],
   "source": [
    "# Create the same figure using the ggplot plot style.\n",
    "plt.style.use(\"ggplot\")\n",
    "fig, ax = plt.subplots()\n",
    "ax.plot(seattle_weather[\"MONTH\"], seattle_weather[\"MLY-TAVG-NORMAL\"])\n",
    "ax.plot(austin_weather[\"MONTH\"], austin_weather[\"MLY-TAVG-NORMAL\"])\n",
    "ax.set_xlabel(\"Time (months)\")\n",
    "ax.set_ylabel(\"Average temperature (F)\")\n",
    "plt.show()"
   ]
  },
  {
   "cell_type": "markdown",
   "id": "804c8645-ff1b-4b6e-8198-e26ed6f958b1",
   "metadata": {},
   "source": [
    "#### Use the `bmh` Plot Style (Demonstration)"
   ]
  },
  {
   "cell_type": "code",
   "execution_count": null,
   "id": "00511773-5253-4568-9d82-7b94bc407d6c",
   "metadata": {},
   "outputs": [],
   "source": [
    "# Create the same figure using the bmh plot style.\n",
    "plt.style.use(\"bmh\")\n",
    "fig, ax = plt.subplots()\n",
    "ax.plot(seattle_weather[\"MONTH\"], seattle_weather[\"MLY-TAVG-NORMAL\"])\n",
    "ax.plot(austin_weather[\"MONTH\"], austin_weather[\"MLY-TAVG-NORMAL\"])\n",
    "ax.set_xlabel(\"Time (months)\")\n",
    "ax.set_ylabel(\"Average temperature (F)\")\n",
    "plt.show()"
   ]
  },
  {
   "cell_type": "markdown",
   "id": "04d94531-a48d-4378-b39a-c79a66d2bdff",
   "metadata": {},
   "source": [
    "#### Use the `seaborn-colorblind` Plot Style (Demonstration)"
   ]
  },
  {
   "cell_type": "code",
   "execution_count": null,
   "id": "c39aaae1-0e05-4a41-971e-658001520388",
   "metadata": {},
   "outputs": [],
   "source": [
    "# Create the same figure using the seaborn-colorblind plot style.\n",
    "plt.style.use(\"seaborn-colorblind\")\n",
    "fig, ax = plt.subplots()\n",
    "ax.plot(seattle_weather[\"MONTH\"], seattle_weather[\"MLY-TAVG-NORMAL\"])\n",
    "ax.plot(austin_weather[\"MONTH\"], austin_weather[\"MLY-TAVG-NORMAL\"])\n",
    "ax.set_xlabel(\"Time (months)\")\n",
    "ax.set_ylabel(\"Average temperature (F)\")\n",
    "plt.show()"
   ]
  },
  {
   "cell_type": "markdown",
   "id": "352042a6-eb8a-439d-8eb3-7165d9974428",
   "metadata": {},
   "source": [
    "#### Guidelines for Choosing Plotting Style\n",
    "\n",
    "Consider the following guidelines when choosing a plotting style:\n",
    "- Dark backgrounds are usually less visible.\n",
    "- If color is important, consider choosing colorblind-friendly options\n",
    "    - `seaborn-colorblind` or `tableau-colorblind10`\n",
    "- If someone will print your figure, use less ink by avoiding colored backgrounds\n",
    "- If the figure will be printed in black and white, consider using the `grayscale` style"
   ]
  },
  {
   "cell_type": "markdown",
   "id": "f1d28504-5486-4a27-bf13-7628f12b5ece",
   "metadata": {},
   "source": [
    "#### Set a Grayscale Style (Exercise)"
   ]
  },
  {
   "cell_type": "code",
   "execution_count": null,
   "id": "28d93e9a-1637-4e97-857b-a63ca551f99c",
   "metadata": {},
   "outputs": [],
   "source": [
    "# Create the same figure using the grayscale plot style.\n",
    "plt.style.use(\"grayscale\")\n",
    "fig, ax = plt.subplots()\n",
    "ax.plot(seattle_weather[\"MONTH\"], seattle_weather[\"MLY-TAVG-NORMAL\"])\n",
    "ax.plot(austin_weather[\"MONTH\"], austin_weather[\"MLY-TAVG-NORMAL\"])\n",
    "ax.set_xlabel(\"Time (months)\")\n",
    "ax.set_ylabel(\"Average temperature (F)\")\n",
    "plt.show()"
   ]
  },
  {
   "cell_type": "markdown",
   "id": "9f3f01f4-ec03-4ae1-9e35-b6fdca8b8c15",
   "metadata": {},
   "source": [
    "#### Switching Between Styles (Exercise)"
   ]
  },
  {
   "cell_type": "code",
   "execution_count": null,
   "id": "fcc1167e-462e-4fc6-beea-c242eead0f1d",
   "metadata": {},
   "outputs": [],
   "source": [
    "# Use the \"ggplot\" style.\n",
    "plt.style.use(\"ggplot\")\n",
    "fig, ax = plt.subplots()\n",
    "ax.plot(seattle_weather[\"MONTH\"], seattle_weather[\"MLY-TAVG-NORMAL\"])\n",
    "plt.show()\n",
    "\n",
    "# Use the \"Solarize_light2\" style.\n",
    "plt.style.use(\"Solarize_Light2\")\n",
    "fig, ax = plt.subplots()\n",
    "ax.plot(seattle_weather[\"MONTH\"], seattle_weather[\"MLY-TAVG-NORMAL\"])\n",
    "plt.show()"
   ]
  },
  {
   "cell_type": "markdown",
   "id": "65a4b530-b412-432f-a0d2-fd5932c8e487",
   "metadata": {},
   "source": [
    "### Saving Your Visualizations\n",
    "\n",
    "#### Save a Figure in Various Formats\n",
    "\n",
    "For the Matplotlib documentation about saving a figure, see https://matplotlib.org/stable/api/_as_gen/matplotlib.pyplot.savefig.html.\n",
    "\n",
    "See https://matplotlib.org/stable/gallery/ticks/ticklabels_rotation.html#sphx-glr-gallery-ticks-ticklabels-rotation-py for setting and rotating the x axis tick labels and for adjusting the bottom to avoid cutting off the names of the countries.\n",
    "\n",
    "Consider using .jpg files when file size is a consideration (e.g., when sharing the images on a website).\n",
    "\n",
    "For rasterized figures, use the `dpi` argument to control the figure's resolution."
   ]
  },
  {
   "cell_type": "code",
   "execution_count": null,
   "id": "68b21602-2969-4b99-9c10-c77d585e4b11",
   "metadata": {},
   "outputs": [],
   "source": [
    "# Create a bar chart of gold medal data.\n",
    "# In Jupyter Lab, the figure still appears in the notebook.\n",
    "# Without adjusting the margins, the country names are cut off at the bottom.\n",
    "# A single call to ax.set_xticks() will add the country names and rotate them.\n",
    "plt.style.use(\"default\")\n",
    "fig, ax = plt.subplots()\n",
    "fig.set_size_inches((10, 6))\n",
    "ax.bar(medals.index, medals[\"Gold\"])\n",
    "ax.set_xticks(medals.index, medals.index, rotation=\"vertical\")\n",
    "ax.set_ylabel(\"Number of medals\")\n",
    "plt.subplots_adjust(bottom=0.25)\n",
    "fig.savefig(\"gold_medals.png\")\n",
    "# The quality keyword is no longer supported as of Matplotlib 3.3.\n",
    "# fig.savefig(\"gold_medals.jpg\", quality=50)\n",
    "fig.savefig(\"gold_medals.jpg\")\n",
    "# Save the PNG figure at high resolution.\n",
    "fig.savefig(\"gold_medals_300_dpi.png\", dpi=300)\n",
    "# A vector graphics format.\n",
    "fig.savefig(\"gold_medals.svg\")\n",
    "# Save a smaller figure.\n",
    "fig.set_size_inches(5, 3)\n",
    "fig.savefig(\"gold_medals_5_x_3.png\")"
   ]
  },
  {
   "cell_type": "markdown",
   "id": "024f4e0c-4546-4f2d-ace7-a0bb22615795",
   "metadata": {},
   "source": [
    "#### Saving a Figure Several Times (Exercise)\n",
    "\n",
    "This exercise replicated some of the code above.\n",
    "\n",
    "#### Save a Figure with Different Sizes (Exercise)\n",
    "\n",
    "This exercise replicated some of the code above, setting the size of the figure to 3 inches wide by 5 inches tall, then to 5 inches wide by 3 inches tall."
   ]
  },
  {
   "cell_type": "markdown",
   "id": "e7fa837c-dfe6-4fa7-866c-b59bae4e46e9",
   "metadata": {},
   "source": [
    "### Automating Figures from Data\n",
    "\n",
    "Reasons to automate figure generation:\n",
    "- Ease and speed\n",
    "- Flexibility\n",
    "- Robustness\n",
    "- Reproducibility\n",
    "\n",
    "#### Get the Unique Values from a Column of a DataFrame"
   ]
  },
  {
   "cell_type": "code",
   "execution_count": null,
   "id": "82cbc815-f0e1-4d22-a8c9-2515da3e5660",
   "metadata": {},
   "outputs": [],
   "source": [
    "# Consider the data in the summer2016.csv file, which we have loaded into\n",
    "# the athletes DataFrame. Get the unique values for the \"Sport\" column.\n",
    "# Get a NumPy ndarray containing the unique names from the \"Sports\" column.\n",
    "# There are 34 sports in the DataFrame.\n",
    "sports = athletes[\"Sport\"].unique().astype(str)\n",
    "print(len(sports))"
   ]
  },
  {
   "cell_type": "markdown",
   "id": "f0443d49-9d04-4005-bc17-ea817a5eeda2",
   "metadata": {},
   "source": [
    "#### Create a Bar Chart of the Mean Height for All Sports (Demonstration)"
   ]
  },
  {
   "cell_type": "code",
   "execution_count": null,
   "id": "f58d349e-8626-44dd-9749-019758390fed",
   "metadata": {},
   "outputs": [],
   "source": [
    "# Create a bar chart of the mean height for all sports.\n",
    "# At no point do we need to know how many different sports there are in\n",
    "# the DataFrame.\n",
    "fig, ax = plt.subplots()\n",
    "for sport in sports:\n",
    "    sport_df = athletes[athletes[\"Sport\"] == sport]\n",
    "    ax.bar(sport, sport_df[\"Height\"].mean(), yerr=sport_df[\"Height\"].std(), label=sport)\n",
    "ax.set_ylabel(\"Height (cm)\")\n",
    "ax.set_xticks(sports, sports, rotation=90)\n",
    "plt.show()"
   ]
  },
  {
   "cell_type": "markdown",
   "id": "6c10c150-4f65-4283-87e4-cfb7a45cf015",
   "metadata": {},
   "source": [
    "#### Create Box Plots of the Heights for All Sports (Extra)"
   ]
  },
  {
   "cell_type": "code",
   "execution_count": null,
   "id": "3cdc4233-7a0b-48b2-bfed-fd5c45f45332",
   "metadata": {},
   "outputs": [],
   "source": [
    "# From a lesson in _Statistical Thinking in Python (Part 1)_, use\n",
    "# seaborn to create boxplots of the heights grouped by sport.\n",
    "# I don't know how to sort the names on the x axis.\n",
    "# Perhaps I need to sort the rows by the value of the \"Sport\" column.\n",
    "# Sorting them ahead of time puts the names in a different order from\n",
    "# that found by the sns.boxplot method.\n",
    "fig, ax = plt.subplots()\n",
    "sns.boxplot(x=\"Sport\", y=\"Height\", data=athletes)\n",
    "ax.set_ylabel(\"Height (cm)\")\n",
    "ax.tick_params(axis='x', labelrotation=90)\n",
    "plt.show()"
   ]
  },
  {
   "cell_type": "markdown",
   "id": "8147302d-4a8d-4b5b-8b9e-84c3a0f9dabc",
   "metadata": {},
   "source": [
    "#### Create a Bar Chart of Mean Weights by Sport (Exercise)"
   ]
  },
  {
   "cell_type": "code",
   "execution_count": null,
   "id": "cdce1b36-731b-4127-a874-6338b769866a",
   "metadata": {},
   "outputs": [],
   "source": [
    "# Create a bar chart of the mean weight for all sports.\n",
    "fig, ax = plt.subplots()\n",
    "for sport in sports:\n",
    "    sport_df = athletes[athletes[\"Sport\"] == sport]\n",
    "    ax.bar(sport, sport_df[\"Weight\"].mean(), yerr=sport_df[\"Weight\"].std(), label=sport)\n",
    "ax.set_ylabel(\"Weight (kg)\")\n",
    "ax.set_xticks(np.arange(len(sports)), sports, rotation=90)\n",
    "plt.show()"
   ]
  },
  {
   "cell_type": "markdown",
   "id": "f656e9fb-b6f6-4658-ae06-63c827bc85fd",
   "metadata": {},
   "source": [
    "#### Create Box Plots of Weights by Sports (Extra)"
   ]
  },
  {
   "cell_type": "code",
   "execution_count": null,
   "id": "208f6fd0-46a2-4be7-ba02-fff40f20167d",
   "metadata": {},
   "outputs": [],
   "source": [
    "# From a lesson in _Statistical Thinking in Python (Part 1)_, use\n",
    "# seaborn to create boxplots of the heights grouped by sport.\n",
    "# I don't know how to sort the names on the x axis.\n",
    "# Perhaps I need to sort the rows by the value of the \"Sport\" column.\n",
    "# Sorting them ahead of time puts the names in a different order from\n",
    "# that found by the sns.boxplot method.\n",
    "fig, ax = plt.subplots()\n",
    "sns.boxplot(x=\"Sport\", y=\"Weight\", data=athletes)\n",
    "ax.set_ylabel(\"Weight (kg)\")\n",
    "ax.tick_params(axis='x', labelrotation=90)\n",
    "plt.show()"
   ]
  },
  {
   "cell_type": "markdown",
   "id": "e3b6783f-1307-4eb4-9f65-52107cb63018",
   "metadata": {},
   "source": [
    "#### Identify the Exceptionally Heavy Athletes (Extra)"
   ]
  },
  {
   "cell_type": "code",
   "execution_count": null,
   "id": "311c6427-a147-4041-93a1-33c771b8f2bb",
   "metadata": {},
   "outputs": [],
   "source": [
    "# Two of the athletes were exceptionally heavy! Who were they?\n",
    "print(athletes[athletes[\"Weight\"] > 150])"
   ]
  },
  {
   "cell_type": "code",
   "execution_count": null,
   "id": "6f610fb9-a5c1-4930-8703-141e4d154087",
   "metadata": {},
   "outputs": [],
   "source": []
  }
 ],
 "metadata": {
  "kernelspec": {
   "display_name": "Python 3 (ipykernel)",
   "language": "python",
   "name": "python3"
  },
  "language_info": {
   "codemirror_mode": {
    "name": "ipython",
    "version": 3
   },
   "file_extension": ".py",
   "mimetype": "text/x-python",
   "name": "python",
   "nbconvert_exporter": "python",
   "pygments_lexer": "ipython3",
   "version": "3.11.2"
  }
 },
 "nbformat": 4,
 "nbformat_minor": 5
}
