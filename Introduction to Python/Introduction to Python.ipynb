{
 "cells": [
  {
   "cell_type": "markdown",
   "id": "f0b33b3c-6cf5-467f-8388-5c1d2a629024",
   "metadata": {},
   "source": [
    "# Introduction to Python\n",
    "\n",
    "## Introduction\n",
    "\n",
    "These are my notes from DataCamp's course [_Introduction to Python_](https://www.datacamp.com/courses/intro-to-python-for-data-science).\n",
    "\n",
    "Course by Hugo Bowne-Anderson, with collaborators Vincent Vankrunkelsven and Filip Schouwenaars.\n",
    "\n",
    "There is no prerequisite for this course.\n",
    "\n",
    "This course is part of these tracks:\n",
    "\n",
    "- Data Analysis with Python\n",
    "- Data Engineer\n",
    "- Data Scientist with Python\n",
    "- Data Scientest Professional with Python\n",
    "- Python Fundamentals\n",
    "- Python Programmer"
   ]
  },
  {
   "cell_type": "markdown",
   "id": "1453f01a-4e36-46bd-94cf-341dec6df032",
   "metadata": {},
   "source": [
    "## Imports\n",
    "\n",
    "Imports for the entire notebook are placed here for convenience and clarity."
   ]
  },
  {
   "cell_type": "code",
   "execution_count": null,
   "id": "6844605d",
   "metadata": {},
   "outputs": [],
   "source": [
    "import csv\n",
    "import math\n",
    "import sys\n",
    "\n",
    "import numpy as np"
   ]
  },
  {
   "cell_type": "markdown",
   "id": "7337cc9e-0c47-4a75-b241-6f94dbe3664b",
   "metadata": {},
   "source": [
    "## Resource\n",
    "\n",
    "The source code for this course is available at https://github.com/datacamp/courses-introduction-to-python."
   ]
  },
  {
   "cell_type": "markdown",
   "id": "556275a0-3455-4099-8684-849cf9d256e5",
   "metadata": {},
   "source": [
    "## Datasets\n",
    "\n",
    "| Name | File |\n",
    "| :--- | :--- |\n",
    "| MLB (baseball) | baseball.csv |\n",
    "| FIFA (soccer) | fifa.csv |\n",
    "\n",
    "The baseball data set is available from http://wiki.stat.ucla.edu/socr/index.php/SOCR_Data_MLB_HeightsWeights, which provides the data only in HTML format."
   ]
  },
  {
   "cell_type": "markdown",
   "id": "3e4d29de-fd52-477e-9092-d0b0b1bc0f88",
   "metadata": {},
   "source": [
    "### Baseball Data\n",
    "\n",
    "#### Read the Data\n",
    "\n",
    "Read the data from the CSV file and save certain columns into NumPy arrays."
   ]
  },
  {
   "cell_type": "code",
   "execution_count": null,
   "id": "e2762428-637c-4753-952b-dea184bf8b71",
   "metadata": {},
   "outputs": [],
   "source": [
    "# Read the height, weight, and age data from baseball.csv into numpy.array variables.\n",
    "# Height is in inches, weight is in pounds, and age is in years.\n",
    "# Read the data from the CSV file into lists.\n",
    "bb_height_list = []\n",
    "bb_weight_list = []\n",
    "bb_age_list = []\n",
    "with open(\"baseball.csv\", newline=\"\") as csv_file:\n",
    "    csvreader = csv.reader(csv_file)\n",
    "    header = next(csvreader)\n",
    "    for row in csvreader:\n",
    "        bb_height_list.append(int(row[3]))\n",
    "        bb_weight_list.append(int(row[4]))\n",
    "        bb_age_list.append(float(row[5]))\n",
    "\n",
    "# Create numpy array variables.\n",
    "np_bb_height_inches = np.array(bb_height_list)\n",
    "np_bb_weight_pounds = np.array(bb_weight_list)\n",
    "np_bb_age_years = np.array(bb_age_list)"
   ]
  },
  {
   "cell_type": "markdown",
   "id": "aaab4f55-588b-4640-9705-cb6b6ee6b46a",
   "metadata": {},
   "source": [
    "### FIFA Data\n",
    "\n",
    "#### Read the Data\n",
    "\n",
    "Read the data from the CSV file into NumPy array variables."
   ]
  },
  {
   "cell_type": "code",
   "execution_count": null,
   "id": "392a2693",
   "metadata": {},
   "outputs": [],
   "source": [
    "# FIFA data.\n",
    "# Ordinarily, I would use a csv.DictReader to read the data row by row.\n",
    "# How do I efficiently convert the data into a numpy.ndarray?\n",
    "# With mixed data such as that in this file, I don't necessarily want a\n",
    "# single 2D array because all data must have the same type.\n",
    "\n",
    "# These are the fields in fifa.csv:\n",
    "# id, name, rating, position, height, foot, rare, pace, shooting, passing,\n",
    "# dribbling, defending, heading, diving, handling, kicking, reflexes, speed,\n",
    "# positioning\n",
    "#   position is at index 3.\n",
    "#   height is at index 4.\n",
    "\n",
    "# Read the data from the CSV file into lists.\n",
    "# Strip white space from each value.\n",
    "fifa_position_list = []\n",
    "fifa_height_list = []\n",
    "with open(\"fifa.csv\", newline=\"\") as csv_file:\n",
    "    csvreader = csv.reader(csv_file)\n",
    "    header = next(csvreader)\n",
    "    for row in csvreader:\n",
    "        fifa_position_list.append(row[3].strip())\n",
    "        fifa_height_list.append(int(row[4].strip()))\n",
    "np_fifa_positions = np.array(fifa_position_list)\n",
    "np_fifa_heights = np.array(fifa_height_list)\n",
    "print(\"fifa_np_positions shape: \", np_fifa_positions.shape)\n",
    "print(\"fifa_np_heights shape: \", np_fifa_heights.shape)"
   ]
  },
  {
   "cell_type": "markdown",
   "id": "583b02b8",
   "metadata": {},
   "source": [
    "## Basics"
   ]
  },
  {
   "cell_type": "markdown",
   "id": "25ac1dc9",
   "metadata": {},
   "source": [
    "### The Interface"
   ]
  },
  {
   "cell_type": "markdown",
   "id": "e4da7989",
   "metadata": {},
   "source": [
    "This lesson explains how to use DataCamp's built-in IPython shell, which is part of the Jupyter ecosystem. On Spica (macOS) and Wezen (Windows 11 with Windows Subsystem for Linux), I am running Python 3.10.x, and pip3 installed IPython 8.4.0 (released 2022-05-28). At the time of writing, DataCamp is running Python 3.9.7."
   ]
  },
  {
   "cell_type": "code",
   "execution_count": null,
   "id": "f716b5df",
   "metadata": {},
   "outputs": [],
   "source": [
    "sys.version"
   ]
  },
  {
   "cell_type": "markdown",
   "id": "00a5cb1c",
   "metadata": {},
   "source": [
    "DataCamp's interface provides a script editing window at the top and an interactive shell at the bottom. To check a script before submitting an answer, click the Run Code button. (To see the output from a script, call the print() function.) Click the Submit Answer button to submit a script for checking by DataCamp's interface."
   ]
  },
  {
   "cell_type": "markdown",
   "id": "890d2ed7",
   "metadata": {},
   "source": [
    "### Python as a Calculator"
   ]
  },
  {
   "cell_type": "markdown",
   "id": "c02c93b3",
   "metadata": {},
   "source": [
    "Python as a calculator introduces the +, -, \\*, /, \\*\\*, and % operators."
   ]
  },
  {
   "cell_type": "markdown",
   "id": "aaa5c835",
   "metadata": {},
   "source": [
    "### Variables and Types"
   ]
  },
  {
   "cell_type": "markdown",
   "id": "5111dcda",
   "metadata": {},
   "source": [
    "Create new variables and use type() to find the type of a variable."
   ]
  },
  {
   "cell_type": "code",
   "execution_count": null,
   "id": "3d6adebe",
   "metadata": {},
   "outputs": [],
   "source": [
    "height = 1.79\n",
    "weight = 68.7\n",
    "bmi = weight / height ** 2\n",
    "bmi"
   ]
  },
  {
   "cell_type": "code",
   "execution_count": null,
   "id": "6275be76",
   "metadata": {},
   "outputs": [],
   "source": [
    "type(bmi)"
   ]
  },
  {
   "cell_type": "code",
   "execution_count": null,
   "id": "1f8c47b3",
   "metadata": {},
   "outputs": [],
   "source": [
    "day_of_week = 5\n",
    "type(day_of_week)"
   ]
  },
  {
   "cell_type": "code",
   "execution_count": null,
   "id": "373466d0",
   "metadata": {},
   "outputs": [],
   "source": [
    "x = \"body mass type\"\n",
    "y = 'this works too'\n",
    "type(y)"
   ]
  },
  {
   "cell_type": "code",
   "execution_count": null,
   "id": "b96b0838",
   "metadata": {},
   "outputs": [],
   "source": [
    "z = True\n",
    "type(z)"
   ]
  },
  {
   "cell_type": "markdown",
   "id": "47dd1064",
   "metadata": {},
   "source": [
    "Operators behave differently depending on the type of the object they're working on."
   ]
  },
  {
   "cell_type": "code",
   "execution_count": null,
   "id": "57511ad6",
   "metadata": {},
   "outputs": [],
   "source": [
    "2 + 3"
   ]
  },
  {
   "cell_type": "code",
   "execution_count": null,
   "id": "67b0858f",
   "metadata": {},
   "outputs": [],
   "source": [
    "'ab' + 'cd'"
   ]
  },
  {
   "cell_type": "markdown",
   "id": "43e2240e",
   "metadata": {},
   "source": [
    "#### Exercises"
   ]
  },
  {
   "cell_type": "markdown",
   "id": "0f31dacc",
   "metadata": {},
   "source": [
    "Create and use variables."
   ]
  },
  {
   "cell_type": "code",
   "execution_count": null,
   "id": "761709fe",
   "metadata": {},
   "outputs": [],
   "source": [
    "savings = 100\n",
    "growth_multiplier = 1.1\n",
    "result = savings * growth_multiplier ** 7\n",
    "print(result)"
   ]
  },
  {
   "cell_type": "markdown",
   "id": "cf4bd6d9",
   "metadata": {},
   "source": [
    "Create variables of different types, and obtain the type of a variable using type():"
   ]
  },
  {
   "cell_type": "code",
   "execution_count": null,
   "id": "b0329524",
   "metadata": {},
   "outputs": [],
   "source": [
    "desc = \"Compound interest\"\n",
    "profitable = True\n",
    "print(type(savings))\n",
    "print(type(result))\n",
    "print(type(desc))\n",
    "print(type(profitable))"
   ]
  },
  {
   "cell_type": "code",
   "execution_count": null,
   "id": "5ce26fbc",
   "metadata": {},
   "outputs": [],
   "source": [
    "savings = 100\n",
    "growth_multiplier = 1.1\n",
    "desc = \"compound interest\"\n",
    "year1 = savings * growth_multiplier\n",
    "print(type(year1))\n",
    "doubledesc = desc + desc\n",
    "print(doubledesc)"
   ]
  },
  {
   "cell_type": "markdown",
   "id": "fb6ae066",
   "metadata": {},
   "source": [
    "### Type Conversion"
   ]
  },
  {
   "cell_type": "markdown",
   "id": "0a2bfddd",
   "metadata": {},
   "source": [
    "Python often requires conversion of a type to complete an operation. Type conversion is critical when building strings."
   ]
  },
  {
   "cell_type": "markdown",
   "id": "8cba7f7a",
   "metadata": {},
   "source": [
    "#### Exercises"
   ]
  },
  {
   "cell_type": "code",
   "execution_count": null,
   "id": "a83a9ad5",
   "metadata": {},
   "outputs": [],
   "source": [
    "savings = 100\n",
    "growth_multipler = 1.1\n",
    "result = savings * growth_multiplier ** 7\n",
    "print(\"I started with $\" + str(savings) + \" and now have $\" + str(result) + \". Awesome!\")\n"
   ]
  },
  {
   "cell_type": "code",
   "execution_count": null,
   "id": "abbda5df",
   "metadata": {},
   "outputs": [],
   "source": [
    "pi_string = \"3.1415926\"\n",
    "pi_float = float(pi_string)\n",
    "print(pi_float)"
   ]
  },
  {
   "cell_type": "code",
   "execution_count": null,
   "id": "b52a6ce2",
   "metadata": {},
   "outputs": [],
   "source": [
    "print(\"I can add integers, like \" + str(5) + \" to strings.\")\n",
    "print(\"I said \" + (\"Hey \" * 2) + \"Hey!\")\n",
    "print(\"The correct answer to this multiple choice exercise is answer number \" + str(2))\n",
    "print(True + False)"
   ]
  },
  {
   "cell_type": "markdown",
   "id": "02d4bdec",
   "metadata": {},
   "source": [
    "## Lists\n",
    "\n",
    "### Creating Lists"
   ]
  },
  {
   "cell_type": "markdown",
   "id": "da470061",
   "metadata": {},
   "source": [
    "A list is a collection of values of any types, where multiple types are allowed. Technically, a list is a one-dimensional array of objects, where objects of multiple types are allowed. A list can contain elements that are also lists."
   ]
  },
  {
   "cell_type": "markdown",
   "id": "3aecca0e",
   "metadata": {},
   "source": [
    "#### Exercises"
   ]
  },
  {
   "cell_type": "code",
   "execution_count": null,
   "id": "5aeb552a",
   "metadata": {},
   "outputs": [],
   "source": [
    "fam = [1.73, 1.68, 1.71, 1.89]\n",
    "fam = [\"liz\", 1.73, \"mom\", 1.68, \"emma\", 1.71, \"dad\", 1.89]\n",
    "print(fam)"
   ]
  },
  {
   "cell_type": "code",
   "execution_count": null,
   "id": "bef8fe9c",
   "metadata": {},
   "outputs": [],
   "source": [
    "fam2 = [\n",
    "    [\"liz\", 1.73],\n",
    "    [\"mom\", 1.68],\n",
    "    [\"emma\", 1.71],\n",
    "    [\"dad\", 1.89]]\n",
    "print(fam2)"
   ]
  },
  {
   "cell_type": "code",
   "execution_count": null,
   "id": "6afa287b",
   "metadata": {},
   "outputs": [],
   "source": [
    "print(type(fam))"
   ]
  },
  {
   "cell_type": "code",
   "execution_count": null,
   "id": "75d87a4b",
   "metadata": {},
   "outputs": [],
   "source": [
    "hall = 11.25\n",
    "kit = 18.0\n",
    "liv = 20.0\n",
    "bed = 10.75\n",
    "bath = 9.50\n",
    "areas = [hall, kit, liv, bed, bath]\n",
    "print(areas)"
   ]
  },
  {
   "cell_type": "code",
   "execution_count": null,
   "id": "0a2bb0bf",
   "metadata": {},
   "outputs": [],
   "source": [
    "areas = [\"hallway\", hall, \"kitchen\", kit, \"living room\", liv,\n",
    "         \"bedroom\", bed, \"bathroom\", bath]\n",
    "print(areas)"
   ]
  },
  {
   "cell_type": "code",
   "execution_count": null,
   "id": "4883ebe8",
   "metadata": {},
   "outputs": [],
   "source": [
    "house = [[\"hallway\", hall],\n",
    "        [\"kitchen\", kit],\n",
    "        [\"living room\", liv],\n",
    "        [\"bedroom\", bed],\n",
    "        [\"bathroom\", bath]]\n",
    "print(house)\n",
    "print(type(house))"
   ]
  },
  {
   "cell_type": "markdown",
   "id": "866cf037",
   "metadata": {},
   "source": [
    "### Subsetting Lists"
   ]
  },
  {
   "cell_type": "markdown",
   "id": "7e944889",
   "metadata": {},
   "source": [
    "Indexes, which are 0-based, are used to selecting individual elements from a list. Slicing means selecting multiple elements from a list. When using a range to slice a list, the first index is included and the last index is excluded. Omitting an index in a range means extend the range to the beginning or end."
   ]
  },
  {
   "cell_type": "markdown",
   "id": "55cd0678",
   "metadata": {},
   "source": [
    "#### Exercises"
   ]
  },
  {
   "cell_type": "code",
   "execution_count": null,
   "id": "2eebb558",
   "metadata": {},
   "outputs": [],
   "source": [
    "print(fam)\n",
    "print(fam[7])\n",
    "print(fam[-1])\n",
    "print(fam[3:5])\n",
    "print(fam[:4])\n",
    "print(fam[5:])"
   ]
  },
  {
   "cell_type": "code",
   "execution_count": null,
   "id": "9eef59be",
   "metadata": {},
   "outputs": [],
   "source": [
    "eat_sleep_area = areas[3] + areas[7]\n",
    "print(eat_sleep_area)"
   ]
  },
  {
   "cell_type": "code",
   "execution_count": null,
   "id": "5d148174",
   "metadata": {},
   "outputs": [],
   "source": [
    "downstairs = areas[0:6]\n",
    "print(downstairs)\n",
    "upstairs = areas[6:10]\n",
    "print(upstairs)"
   ]
  },
  {
   "cell_type": "code",
   "execution_count": null,
   "id": "0134744e",
   "metadata": {},
   "outputs": [],
   "source": [
    "downstairs = areas[:6]\n",
    "print(downstairs)\n",
    "upstairs = areas[6:]\n",
    "print(upstairs)"
   ]
  },
  {
   "cell_type": "code",
   "execution_count": null,
   "id": "61f18ebe",
   "metadata": {},
   "outputs": [],
   "source": [
    "print(house[-1][1])"
   ]
  },
  {
   "cell_type": "markdown",
   "id": "57978ea6",
   "metadata": {},
   "source": [
    "### Manipulating Lists"
   ]
  },
  {
   "cell_type": "markdown",
   "id": "e971ebea",
   "metadata": {},
   "source": [
    "Manipulation includes changing, adding, and removing list elements. Python uses references instead of copying the values. Use list() or a slice of all elements to copy one list to another."
   ]
  },
  {
   "cell_type": "code",
   "execution_count": null,
   "id": "1477215e",
   "metadata": {},
   "outputs": [],
   "source": [
    "fam = ['liz', 1.73, 'emma', 1.68, 'mom', 1.71, 'dad', 1.89]\n",
    "print(fam)\n",
    "fam[7] = 1.86\n",
    "print(fam)\n",
    "fam[0:2] = ['lisa', 1.74]\n",
    "print(fam)"
   ]
  },
  {
   "cell_type": "code",
   "execution_count": null,
   "id": "12a1144a",
   "metadata": {},
   "outputs": [],
   "source": [
    "fam_ext = fam + ['me', 1.79]\n",
    "print(fam_ext)"
   ]
  },
  {
   "cell_type": "code",
   "execution_count": null,
   "id": "f479bfc5",
   "metadata": {},
   "outputs": [],
   "source": [
    "del(fam[2])\n",
    "print(fam)"
   ]
  },
  {
   "cell_type": "code",
   "execution_count": null,
   "id": "e70e0f55",
   "metadata": {},
   "outputs": [],
   "source": [
    "x = [\"a\", \"b\", \"c\"]\n",
    "print(x)\n",
    "y = x\n",
    "y[1] = \"z\"\n",
    "print(y)\n",
    "print(x)"
   ]
  },
  {
   "cell_type": "code",
   "execution_count": null,
   "id": "52a6dbac",
   "metadata": {},
   "outputs": [],
   "source": [
    "x = [\"a\", \"b\", \"c\"]\n",
    "y = list(x)\n",
    "z = x[:]\n",
    "y[1] = \"z\"\n",
    "print(x)\n",
    "print(y)\n",
    "print(z)"
   ]
  },
  {
   "cell_type": "markdown",
   "id": "ca010372",
   "metadata": {},
   "source": [
    "#### Exercises"
   ]
  },
  {
   "cell_type": "code",
   "execution_count": null,
   "id": "213c8531",
   "metadata": {},
   "outputs": [],
   "source": [
    "print(areas)\n",
    "areas[9] = 10.50\n",
    "areas[4] = \"chill zone\"\n",
    "print(areas)"
   ]
  },
  {
   "cell_type": "code",
   "execution_count": null,
   "id": "f37354c9",
   "metadata": {},
   "outputs": [],
   "source": [
    "areas_1 = areas + [\"poolhouse\", 24.5]\n",
    "print(areas_1)\n",
    "areas_2 = areas_1 + [\"garage\", 15.45]\n",
    "print(areas_2)"
   ]
  },
  {
   "cell_type": "code",
   "execution_count": null,
   "id": "adb383cb",
   "metadata": {},
   "outputs": [],
   "source": [
    "del(areas_2[-4:-2])\n",
    "print(areas_2)"
   ]
  },
  {
   "cell_type": "code",
   "execution_count": null,
   "id": "50a9848c",
   "metadata": {},
   "outputs": [],
   "source": [
    "areas_vals = [11.25, 18.0, 20.0, 10.75, 9.50]\n",
    "areas_copy = list(areas_vals)\n",
    "areas_copy[0] = 5.0\n",
    "print(areas_vals)\n",
    "print(areas_copy)"
   ]
  },
  {
   "cell_type": "markdown",
   "id": "44c7a1fe",
   "metadata": {
    "tags": []
   },
   "source": [
    "## Functions & Packages"
   ]
  },
  {
   "cell_type": "markdown",
   "id": "a443156a",
   "metadata": {},
   "source": [
    "### Functions"
   ]
  },
  {
   "cell_type": "markdown",
   "id": "8034da6d",
   "metadata": {},
   "source": [
    "Examples of Python functions include print, str, int, bool, float, max, round, and help."
   ]
  },
  {
   "cell_type": "code",
   "execution_count": null,
   "id": "a4a91c10",
   "metadata": {},
   "outputs": [],
   "source": [
    "fam2 = [1.73, 1.68, 1.71, 1.89]\n",
    "tallest = max(fam2)\n",
    "print(tallest)"
   ]
  },
  {
   "cell_type": "code",
   "execution_count": null,
   "id": "39798e8a",
   "metadata": {},
   "outputs": [],
   "source": [
    "help(round)"
   ]
  },
  {
   "cell_type": "code",
   "execution_count": null,
   "id": "62a04c74",
   "metadata": {},
   "outputs": [],
   "source": [
    "height = 1.68\n",
    "print(round(height, 1))\n",
    "print(round(height))\n",
    "print(round(height, 0))\n",
    "print(round(number=height, ndigits=1))"
   ]
  },
  {
   "cell_type": "code",
   "execution_count": null,
   "id": "19c14130",
   "metadata": {},
   "outputs": [],
   "source": [
    "print(round(568, -2))"
   ]
  },
  {
   "cell_type": "markdown",
   "id": "5b6c5595",
   "metadata": {},
   "source": [
    "#### Exercises"
   ]
  },
  {
   "cell_type": "code",
   "execution_count": null,
   "id": "c01e79be",
   "metadata": {},
   "outputs": [],
   "source": [
    "var1 = [1, 2, 3, 4]\n",
    "var2 = True\n",
    "print(type(var1))\n",
    "print(len(var1))\n",
    "out2 = int(var2)\n",
    "print(out2)"
   ]
  },
  {
   "cell_type": "code",
   "execution_count": null,
   "id": "259c6c4d",
   "metadata": {},
   "outputs": [],
   "source": [
    "help(sorted)"
   ]
  },
  {
   "cell_type": "code",
   "execution_count": null,
   "id": "e3e3ffe5",
   "metadata": {},
   "outputs": [],
   "source": [
    "first = [11.25, 18.0, 20.0]\n",
    "second = [10.75, 9.50]\n",
    "full = first + second\n",
    "full_sorted = sorted(full, reverse=True)\n",
    "print(full_sorted)"
   ]
  },
  {
   "cell_type": "markdown",
   "id": "3b7381f5",
   "metadata": {},
   "source": [
    "### Methods"
   ]
  },
  {
   "cell_type": "markdown",
   "id": "a061f086",
   "metadata": {},
   "source": [
    "Methods are functions that belong to objects. Examples are str.capitalize, str.replace, float.bit_length, float.conjugate, list.index, and list.count."
   ]
  },
  {
   "cell_type": "code",
   "execution_count": null,
   "id": "11432b02",
   "metadata": {},
   "outputs": [],
   "source": [
    "fam = ['liz', 1.73, 'emma', 1.68, 'mom', 1.71, 'dad', 1.89]\n",
    "print(fam.index(\"mom\"))"
   ]
  },
  {
   "cell_type": "code",
   "execution_count": null,
   "id": "aa17ee13",
   "metadata": {},
   "outputs": [],
   "source": [
    "fam.count(1.73)"
   ]
  },
  {
   "cell_type": "code",
   "execution_count": null,
   "id": "0e12eb8f",
   "metadata": {},
   "outputs": [],
   "source": [
    "sister = \"liz\"\n",
    "print(sister.capitalize())"
   ]
  },
  {
   "cell_type": "code",
   "execution_count": null,
   "id": "bb0f5eac",
   "metadata": {},
   "outputs": [],
   "source": [
    "print(sister.replace(\"z\", \"sa\"))"
   ]
  },
  {
   "cell_type": "code",
   "execution_count": null,
   "id": "7d6fa127",
   "metadata": {},
   "outputs": [],
   "source": [
    "print(sister.index(\"z\"))\n",
    "print(fam.index(\"mom\"))"
   ]
  },
  {
   "cell_type": "code",
   "execution_count": null,
   "id": "c6059c71",
   "metadata": {},
   "outputs": [],
   "source": [
    "print(fam)\n",
    "fam.append(\"me\")\n",
    "print(fam)\n",
    "fam.append(1.79)\n",
    "print(fam)"
   ]
  },
  {
   "cell_type": "markdown",
   "id": "aaf63cef",
   "metadata": {},
   "source": [
    "#### Exercises"
   ]
  },
  {
   "cell_type": "code",
   "execution_count": null,
   "id": "eaa7cbf4",
   "metadata": {},
   "outputs": [],
   "source": [
    "place = \"poolhouse\"\n",
    "place_up = place.upper()\n",
    "print(place)\n",
    "print(place_up)"
   ]
  },
  {
   "cell_type": "code",
   "execution_count": null,
   "id": "b617ff10",
   "metadata": {},
   "outputs": [],
   "source": [
    "print(place.count(\"o\"))"
   ]
  },
  {
   "cell_type": "code",
   "execution_count": null,
   "id": "16921886",
   "metadata": {},
   "outputs": [],
   "source": [
    "print(areas_vals)"
   ]
  },
  {
   "cell_type": "code",
   "execution_count": null,
   "id": "1c8bdfaf",
   "metadata": {},
   "outputs": [],
   "source": [
    "print(areas_vals.index(20.0))\n",
    "print(areas_vals.count(9.50))"
   ]
  },
  {
   "cell_type": "code",
   "execution_count": null,
   "id": "f7ef7d2e",
   "metadata": {},
   "outputs": [],
   "source": [
    "# areas_vals.append([24.5, 15.45] appends the list as the last element).\n",
    "areas_vals.append(24.5)\n",
    "areas_vals.append(15.45)\n",
    "print(areas_vals)\n",
    "areas_vals.reverse()\n",
    "print(areas_vals)"
   ]
  },
  {
   "cell_type": "markdown",
   "id": "e95797f7",
   "metadata": {},
   "source": [
    "### Packages"
   ]
  },
  {
   "cell_type": "markdown",
   "id": "693dca89",
   "metadata": {},
   "source": [
    "A package is a directory that contains Python scripts, where each script is a module.\n",
    "\n",
    "The user needs to install the pip (pip3) utility and use it to install packages such as NumPy.\n",
    "\n",
    "In a script, the user must import the package or module. All imports are at the top of this notebook."
   ]
  },
  {
   "cell_type": "code",
   "execution_count": null,
   "id": "5afe43cb",
   "metadata": {},
   "outputs": [],
   "source": [
    "vals = np.array([1, 2, 3])\n",
    "print(type(vals))\n",
    "print(vals)"
   ]
  },
  {
   "cell_type": "markdown",
   "id": "ea914b69",
   "metadata": {},
   "source": [
    "#### Exercises"
   ]
  },
  {
   "cell_type": "code",
   "execution_count": null,
   "id": "7eff3554",
   "metadata": {},
   "outputs": [],
   "source": [
    "r = 0.43\n",
    "C = 2 * math.pi * r\n",
    "A = math.pi * (r ** 2)\n",
    "print(\"Circumference: \" + str(C))\n",
    "print(\"Area: \" + str(A))"
   ]
  },
  {
   "cell_type": "code",
   "execution_count": null,
   "id": "1c50fc8b",
   "metadata": {},
   "outputs": [],
   "source": [
    "# math.radians converts degrees to radians.\n",
    "orbit_radius = 192500\n",
    "dist = orbit_radius * math.radians(12)\n",
    "print(dist)"
   ]
  },
  {
   "cell_type": "markdown",
   "id": "a8e0c5d8",
   "metadata": {},
   "source": [
    "This is an example of importing the function inv from the scipy.linalg package:\n",
    "\n",
    "`from scipy.linalg import inv as my_inv`\n"
   ]
  },
  {
   "cell_type": "markdown",
   "id": "cc7f6e26",
   "metadata": {},
   "source": [
    "## Numpy"
   ]
  },
  {
   "cell_type": "markdown",
   "id": "b50efd84",
   "metadata": {},
   "source": [
    "NumPy is designed to efficiently vectorize calculations on list-like objects. Note that no commas are included in the output when printing the values of an np.ndarray object. NumPy creates arrays of a single type. Some NumPy operators have different behavior from list operators."
   ]
  },
  {
   "cell_type": "markdown",
   "id": "48eee8e6",
   "metadata": {},
   "source": [
    "### NumPy Arrays"
   ]
  },
  {
   "cell_type": "code",
   "execution_count": null,
   "id": "9f6e62be",
   "metadata": {},
   "outputs": [],
   "source": [
    "heights = [1.73, 1.68, 1.71, 1.89, 1.79]\n",
    "weights = [65.4, 59.2, 63.6, 88.4, 68.7]\n",
    "print(type(heights))\n",
    "np_heights = np.array(heights)\n",
    "print(type(np_heights))\n",
    "print(heights)\n",
    "print(np_heights)\n",
    "np_weights = np.array(weights)\n",
    "print(np_weights)"
   ]
  },
  {
   "cell_type": "code",
   "execution_count": null,
   "id": "3e60142f",
   "metadata": {},
   "outputs": [],
   "source": [
    "bmi = np_weights / (np_heights ** 2)\n",
    "bmi"
   ]
  },
  {
   "cell_type": "code",
   "execution_count": null,
   "id": "b284a103",
   "metadata": {},
   "outputs": [],
   "source": [
    "# Note different behavior of the + operator.\n",
    "python_list = [1, 2, 3]\n",
    "numpy_array = np.array([1, 2, 3])\n",
    "print(python_list + python_list)\n",
    "print(numpy_array + numpy_array)"
   ]
  },
  {
   "cell_type": "markdown",
   "id": "be65c473",
   "metadata": {},
   "source": [
    "### NumPy Subsetting"
   ]
  },
  {
   "cell_type": "code",
   "execution_count": null,
   "id": "b3afda11",
   "metadata": {},
   "outputs": [],
   "source": [
    "bmi[1]"
   ]
  },
  {
   "cell_type": "code",
   "execution_count": null,
   "id": "57ea7dc9",
   "metadata": {},
   "outputs": [],
   "source": [
    "bmi > 23"
   ]
  },
  {
   "cell_type": "code",
   "execution_count": null,
   "id": "7a9d7d70",
   "metadata": {},
   "outputs": [],
   "source": [
    "bmi[bmi > 23]"
   ]
  },
  {
   "cell_type": "markdown",
   "id": "5c10fc32",
   "metadata": {},
   "source": [
    "#### Exercises"
   ]
  },
  {
   "cell_type": "code",
   "execution_count": null,
   "id": "0f957b13",
   "metadata": {},
   "outputs": [],
   "source": [
    "baseball = [180, 215, 210, 210, 188, 176, 209, 200]\n",
    "np_baseball = np.array(baseball)\n",
    "print(type(np_baseball))"
   ]
  },
  {
   "cell_type": "code",
   "execution_count": null,
   "id": "ed5842ba",
   "metadata": {},
   "outputs": [],
   "source": [
    "# For all of the baseball data, convert the data to the units we need.\n",
    "np_bb_heights_m = np_bb_height_inches * 0.0254\n",
    "np_bb_weights_kg = np_bb_weight_pounds * 0.453592\n",
    "\n",
    "# Calculate the BMIs.\n",
    "bmi = np_bb_weights_kg / (np_bb_heights_m ** 2)\n",
    "print(bmi)"
   ]
  },
  {
   "cell_type": "code",
   "execution_count": null,
   "id": "e61bcb68",
   "metadata": {},
   "outputs": [],
   "source": [
    "light = bmi < 21\n",
    "print(light)\n",
    "print(bmi[light])"
   ]
  },
  {
   "cell_type": "code",
   "execution_count": null,
   "id": "7f6ed613",
   "metadata": {},
   "outputs": [],
   "source": [
    "# Type coercion. True is coerced to 1, False to 0.\n",
    "print(np.array([True, 1, 2]) + np.array([3, 4, False]))"
   ]
  },
  {
   "cell_type": "code",
   "execution_count": null,
   "id": "84a352d0",
   "metadata": {},
   "outputs": [],
   "source": [
    "# Indexing numpy.ndarray objects.\n",
    "print(np_bb_weight_pounds[50])"
   ]
  },
  {
   "cell_type": "code",
   "execution_count": null,
   "id": "97088eab",
   "metadata": {},
   "outputs": [],
   "source": [
    "print(np_bb_height_inches[100:111])"
   ]
  },
  {
   "cell_type": "markdown",
   "id": "b9cd5a63",
   "metadata": {},
   "source": [
    "### 2D NumPy Arrays"
   ]
  },
  {
   "cell_type": "code",
   "execution_count": null,
   "id": "c13de8b3",
   "metadata": {},
   "outputs": [],
   "source": [
    "np_2d = np.array([[1.73, 1.68, 1.71, 1.89, 1.79],\n",
    "                 [65.4, 59.2, 63.6, 88.4, 68.7]])\n",
    "np_2d"
   ]
  },
  {
   "cell_type": "markdown",
   "id": "2971ee54",
   "metadata": {},
   "source": [
    "numpy.ndarray.shape returns the dimensions of the numpy.ndarray (rows, columns for a 2-D array)."
   ]
  },
  {
   "cell_type": "code",
   "execution_count": null,
   "id": "39cc4fc1",
   "metadata": {},
   "outputs": [],
   "source": [
    "np_2d.shape"
   ]
  },
  {
   "cell_type": "code",
   "execution_count": null,
   "id": "1b047dd8",
   "metadata": {},
   "outputs": [],
   "source": [
    "# Indexing a 2-D array.\n",
    "np_2d[0][2]"
   ]
  },
  {
   "cell_type": "code",
   "execution_count": null,
   "id": "3ca34a61",
   "metadata": {},
   "outputs": [],
   "source": [
    "# Alternative method for indexing.\n",
    "np_2d[0, 2]"
   ]
  },
  {
   "cell_type": "code",
   "execution_count": null,
   "id": "db30317d",
   "metadata": {},
   "outputs": [],
   "source": [
    "np_2d[:, 1:3]"
   ]
  },
  {
   "cell_type": "code",
   "execution_count": null,
   "id": "77bd9a75",
   "metadata": {},
   "outputs": [],
   "source": [
    "np_2d[1, :]"
   ]
  },
  {
   "cell_type": "markdown",
   "id": "bba1404b",
   "metadata": {},
   "source": [
    "#### Exercises"
   ]
  },
  {
   "cell_type": "code",
   "execution_count": null,
   "id": "4d7e7186",
   "metadata": {},
   "outputs": [],
   "source": [
    "baseball_small = [[180, 78.4], [215, 102.7], [210, 98.5], [188, 75.2]]\n",
    "np_baseball_small = np.array(baseball_small)\n",
    "print(type(np_baseball_small))\n",
    "print(np_baseball_small.shape)"
   ]
  },
  {
   "cell_type": "code",
   "execution_count": null,
   "id": "0e2ae454",
   "metadata": {},
   "outputs": [],
   "source": [
    "# Create a 2D array of 1,015 rows with 2 columns per row.\n",
    "np_baseball = np.column_stack((bb_height_list, bb_weight_list))\n",
    "print(np_baseball.shape)"
   ]
  },
  {
   "cell_type": "code",
   "execution_count": null,
   "id": "8f7f6109",
   "metadata": {},
   "outputs": [],
   "source": [
    "print(np_baseball)"
   ]
  },
  {
   "cell_type": "code",
   "execution_count": null,
   "id": "123d7a94",
   "metadata": {},
   "outputs": [],
   "source": [
    "# Print the 50th row of np_baseball\n",
    "print(np_baseball[50])\n",
    "print(np_baseball[50, :])"
   ]
  },
  {
   "cell_type": "code",
   "execution_count": null,
   "id": "2cda2fac",
   "metadata": {},
   "outputs": [],
   "source": [
    "# Select the entire second column of np_baseball as np_weight_lb.\n",
    "np_weight_lb = np_baseball[:, 1]\n",
    "print(np_weight_lb)"
   ]
  },
  {
   "cell_type": "code",
   "execution_count": null,
   "id": "40a96d3c",
   "metadata": {},
   "outputs": [],
   "source": [
    "# Print height of 124th player.\n",
    "print(np_baseball[123][0])"
   ]
  },
  {
   "cell_type": "markdown",
   "id": "5ab4c335",
   "metadata": {},
   "source": [
    "### 2D Arithmetic"
   ]
  },
  {
   "cell_type": "code",
   "execution_count": null,
   "id": "c336e602",
   "metadata": {},
   "outputs": [],
   "source": [
    "np_mat = np.array([[1, 2], [3, 4], [5, 6]])\n",
    "np_mat"
   ]
  },
  {
   "cell_type": "code",
   "execution_count": null,
   "id": "9a310c7b",
   "metadata": {},
   "outputs": [],
   "source": [
    "np_mat * 2"
   ]
  },
  {
   "cell_type": "code",
   "execution_count": null,
   "id": "b1696404",
   "metadata": {},
   "outputs": [],
   "source": [
    "np_mat + np.array([10, 10])"
   ]
  },
  {
   "cell_type": "code",
   "execution_count": null,
   "id": "fd8efba6",
   "metadata": {},
   "outputs": [],
   "source": [
    "np_mat + np_mat"
   ]
  },
  {
   "cell_type": "markdown",
   "id": "3525a09e",
   "metadata": {},
   "source": [
    "#### Exercises"
   ]
  },
  {
   "cell_type": "code",
   "execution_count": null,
   "id": "5dff8104",
   "metadata": {},
   "outputs": [],
   "source": [
    "# This exercise requires a numpy.ndarray containing the height (inches),\n",
    "# weight (pounds), and age (years) of the players.\n",
    "# Note that all values were converted to floats.\n",
    "np_baseball2 = np.array([bb_height_list, bb_weight_list, bb_age_list]).T\n",
    "np_baseball2"
   ]
  },
  {
   "cell_type": "code",
   "execution_count": null,
   "id": "ac5fa95a",
   "metadata": {},
   "outputs": [],
   "source": [
    "# Convert height from inches to meters and weight from pounds to kilograms.\n",
    "conversion = np.array([0.0254, 0.453592, 1.0])\n",
    "print(np_baseball2 * conversion)"
   ]
  },
  {
   "cell_type": "markdown",
   "id": "6e39f973",
   "metadata": {},
   "source": [
    "### Basic Statistics"
   ]
  },
  {
   "cell_type": "markdown",
   "id": "fff190fa",
   "metadata": {},
   "source": [
    "After loading data into NumPy arrays, it is easy to use NumPy methods to generate summary statistics about the data. Imagine you have collected the heights and weights of 5,000 people, collected into a NumPy 2D array of 5,000 rows and 2 columns, with heights in meters and weights in kilograms.\n",
    "\n",
    "The following code demonstrates how to use NumPy to generate simulated data and create some summary statistics."
   ]
  },
  {
   "cell_type": "code",
   "execution_count": null,
   "id": "93305b0f",
   "metadata": {},
   "outputs": [],
   "source": [
    "height = np.round(np.random.normal(1.75, 0.20, 5000), 2)\n",
    "weight = np.round(np.random.normal(60.32, 15, 5000), 2)\n",
    "np_city = np.column_stack((height, weight))\n",
    "np_city"
   ]
  },
  {
   "cell_type": "code",
   "execution_count": null,
   "id": "ca690e11",
   "metadata": {},
   "outputs": [],
   "source": [
    "height_mean = np.mean(np_city[:, 0])\n",
    "print(height_mean)"
   ]
  },
  {
   "cell_type": "code",
   "execution_count": null,
   "id": "27e2df3c",
   "metadata": {},
   "outputs": [],
   "source": [
    "height_median = np.median(np_city[:, 0])\n",
    "print(height_median)"
   ]
  },
  {
   "cell_type": "code",
   "execution_count": null,
   "id": "5297c8d6",
   "metadata": {},
   "outputs": [],
   "source": [
    "height_stddev = np.std(np_city[:, 0])\n",
    "print(height_stddev)"
   ]
  },
  {
   "cell_type": "code",
   "execution_count": null,
   "id": "38b30b16",
   "metadata": {},
   "outputs": [],
   "source": [
    "height_max = max(np_city[:, 0])\n",
    "print(height_max)"
   ]
  },
  {
   "cell_type": "code",
   "execution_count": null,
   "id": "b2532a1d",
   "metadata": {},
   "outputs": [],
   "source": [
    "height_min = min(np_city[:, 0])\n",
    "print(height_min)"
   ]
  },
  {
   "cell_type": "code",
   "execution_count": null,
   "id": "dd42e2ec",
   "metadata": {},
   "outputs": [],
   "source": [
    "# Correlation coefficient of height to weight.\n",
    "# There is no correlation in this simulated data.\n",
    "corrcoef = np.corrcoef(np_city[:, 0], np_city[:, 1])\n",
    "print(corrcoef)"
   ]
  },
  {
   "cell_type": "markdown",
   "id": "5762fc3d",
   "metadata": {},
   "source": [
    "#### Exercises"
   ]
  },
  {
   "cell_type": "code",
   "execution_count": null,
   "id": "f9440473",
   "metadata": {},
   "outputs": [],
   "source": [
    "# In the exercise, the mean height is 1586.46. This is not true of the data\n",
    "# from the baseball.csv file.\n",
    "np_height_in = np_baseball[:, 0]\n",
    "print(\"Mean height: \", np.mean(np_height_in))\n",
    "print(\"Median height: \", np.median(np_height_in))"
   ]
  },
  {
   "cell_type": "code",
   "execution_count": null,
   "id": "58f84551",
   "metadata": {},
   "outputs": [],
   "source": [
    "# Coefficient of correlation.\n",
    "print(\"Coefficient of correlation: \", np.corrcoef(np_baseball[:, 0], np_baseball[:, 1]))"
   ]
  },
  {
   "cell_type": "code",
   "execution_count": null,
   "id": "8e2113b3",
   "metadata": {},
   "outputs": [],
   "source": [
    "# I can create a list of booleans from np_positions and apply it to\n",
    "# np_heights.\n",
    "gk_heights = np_fifa_heights[np_fifa_positions == \"GK\"]\n",
    "other_heights = np_fifa_heights[np_fifa_positions != \"GK\"]\n",
    "print(\"Median height of goalkeepers: \", str(np.median(gk_heights)))\n",
    "print(\"Median height of other players: \", str(np.median(other_heights)))"
   ]
  },
  {
   "cell_type": "code",
   "execution_count": null,
   "id": "b8b23736",
   "metadata": {},
   "outputs": [],
   "source": []
  }
 ],
 "metadata": {
  "kernelspec": {
   "display_name": "Python 3 (ipykernel)",
   "language": "python",
   "name": "python3"
  },
  "language_info": {
   "codemirror_mode": {
    "name": "ipython",
    "version": 3
   },
   "file_extension": ".py",
   "mimetype": "text/x-python",
   "name": "python",
   "nbconvert_exporter": "python",
   "pygments_lexer": "ipython3",
   "version": "3.11.2"
  }
 },
 "nbformat": 4,
 "nbformat_minor": 5
}
