{
 "cells": [
  {
   "cell_type": "markdown",
   "id": "d9867f66-344a-495b-afa1-9d5a0a1485c8",
   "metadata": {},
   "source": [
    "# Developing Python Packages\n",
    "\n",
    "## Introduction\n",
    "\n",
    "These are my notes for DataCamp's course [_Developing Python Packages_](https://www.datacamp.com/courses/developing-python-packages).\n",
    "\n",
    "This course is presented by James Fulton, Climate Informatics Researcher. Collaborators are Amy Peterson and Maggie Matsui.\n",
    "\n",
    "Prerequisites:\n",
    "\n",
    "- Introduction to Shell\n",
    "- [Writing Functions in Python](../Writing%20Functions%20in%20Python/Writing%20Functions%20in%20Python.ipynb)\n",
    "\n",
    "This course is part of these tracks:\n",
    "\n",
    "- Data Scientist Professional with Python\n",
    "- Python Programmer\n",
    "\n",
    "There are no downloadable data sets for this course.\n",
    "\n",
    "## Versions\n",
    "\n",
    "This notebook was created using Python 3.11.2.\n"
   ]
  },
  {
   "cell_type": "markdown",
   "id": "78680b62-f8b2-4b3e-804b-838aa944b523",
   "metadata": {},
   "source": [
    "## From Loose Code to Local Package"
   ]
  },
  {
   "cell_type": "markdown",
   "id": "792629cb-e079-467e-9ef6-7d65783ac74a",
   "metadata": {},
   "source": [
    "### Starting a Package"
   ]
  },
  {
   "cell_type": "markdown",
   "id": "4de825c9-e57d-4541-86c0-d37b008cae3c",
   "metadata": {},
   "source": [
    "#### Why Build a Package?\n",
    "\n",
    "Build a package to:\n",
    "- make your code easier to use\n",
    "- avoid copying and pasting code\n",
    "- keep your functions up to date\n",
    "- give your code to others"
   ]
  },
  {
   "cell_type": "markdown",
   "id": "89981fa3-73af-473c-9613-f19d339c56d7",
   "metadata": {},
   "source": [
    "#### Course Content\n",
    "\n",
    "This course involves building a full package. The course covers:\n",
    "\n",
    "- file layout\n",
    "- structuring imports\n",
    "- making the package installable\n",
    "- adding licenses and READMEs\n",
    "- style and unit tests for a high quality package\n",
    "- registering and publishing your package to PyPI (the Python Package Index)\n",
    "- using package templates"
   ]
  },
  {
   "cell_type": "markdown",
   "id": "5e9e86a7-80b0-47e0-a670-7423276b759a",
   "metadata": {},
   "source": [
    "#### Scripts, Modules, and Packages\n",
    "\n",
    "| Term | Description |\n",
    "| :--- | :--- |\n",
    "| sript | a Python file which is run like `python myscript.py`and which is design to do one set of tasks |\n",
    "| package | a directory of Python code files to be imported (e.g., `numpy`); all of the code is related and works together |\n",
    "| subpackage | a smaller package inside a package (e.g., `numpy.random`, `numpy.linalg` |\n",
    "| module | a Python file inside a package which stores package code; each module stores some of the package code |\n",
    "| library | either a package or a collection of packages (e.g., the Python standard library, which includes packages such as `math`, `os`, or `datetime`|"
   ]
  },
  {
   "cell_type": "markdown",
   "id": "09ae8f8b-2b9a-4051-8ad4-2c296841b109",
   "metadata": {},
   "source": [
    "#### Directory Tree of a Package\n",
    "\n",
    "This is an example of a directory as used in this course:\n",
    "\n",
    "    mysimplepackage/\n",
    "    |-- simplemodule.py\n",
    "    |-- __init__.py\n",
    "\n",
    "- This directory, `mysimplepackage`, is an example of a simplest Python package\n",
    "- `simplemodule.py` contains all of the package code\n",
    "- `__init__.py` marks this directory as a Python package\n",
    "\n",
    "Initially, the `__init__.py` file is completely empty, but later in the course this file will be used to structure the package imports."
   ]
  },
  {
   "cell_type": "markdown",
   "id": "752a33b1-6e4e-4766-8e42-9c704bb9ec5a",
   "metadata": {},
   "source": [
    "#### Subpackages\n",
    "\n",
    "The directory tree for a package contains subdirectories, as in this example, where `preprocessing` and `regression` are subdirectories of `mysklearn`:\n",
    "\n",
    "    mysklearn/\n",
    "    |-- __init__.py\n",
    "    |-- preprocessing\n",
    "    |   |-- __init__.py\n",
    "    |   |-- normalize.py\n",
    "    |   |-- standardize.py\n",
    "    |-- regression\n",
    "    |   |-- __init__.py\n",
    "    |   |-- regression.py\n",
    "    |-- utils.py\n",
    "\n",
    "Each subpackage has its own `__init__.py` file. Use subpackages to organize your code, placing related functions and classes in the same module, and related modules in the same subpackage."
   ]
  },
  {
   "cell_type": "markdown",
   "id": "6b4aca54-5b09-41be-b268-b69db30508fb",
   "metadata": {},
   "source": [
    "#### Modules, Packages, and Subpackages (Exercise)\n",
    "\n",
    "Name the different parts of this package directory tree:\n",
    "\n",
    "    directory1/\n",
    "    |-- __init__.py\n",
    "    |-- directory2\n",
    "    |   |-- __init__.py\n",
    "    |   |-- file1.py\n",
    "    |-- file2.py\n",
    "\n",
    "- Module\n",
    "    - file1.py\n",
    "    - file2.py\n",
    "- Package\n",
    "    - directory1\n",
    "- Subpackage\n",
    "    - directory2"
   ]
  },
  {
   "cell_type": "markdown",
   "id": "686f76e5-b2b3-4193-aba5-534cb4c98c45",
   "metadata": {},
   "source": [
    "#### From Script to Package (Exercise)\n",
    "\n",
    "Start with this code and convert it to a generalized function you can use on any text file for any list of search words. This will be the first function in a new library (module or package). This code comes from the course [Writing Functions in Python](../Writing%20Functions%20in%20Python/Writing%20Functions%20in%20Python.ipynb).\n",
    "```python\n",
    "# Open the text file\n",
    "with open('alice.txt') as file:\n",
    "    text = file.read()\n",
    "\n",
    "n = 0\n",
    "for word in text.split():\n",
    "    # Count the number of times the words in the list appear\n",
    "    if word.lower() in ['cat', 'cats']:\n",
    "        n += 1\n",
    "\n",
    "print('Lewis Carroll uses the word \"cat\" {} times'.format(n))\n",
    "```\n",
    "- Step 1: Create a new directory called textanalysis for your package.\n",
    "- Step 2: Create`__init__.py` and `textanalysis.py` modules inside `textanalysis`.\n",
    "- Step 3: Copy the code from `myscript.py` into `textanalysis.py`.\n",
    "- Step 4: Modify `textanalysis.py` to create the function `count_words(filepath, words_list)`, which opens the text file `filepath` and returns the number of times the words in `words_list` appear.\n",
    "\n",
    "The file `textanalysis/__init__.py` was empty.\n",
    "\n",
    "This the code for file `textanalysis/textanalysis.py`:\n",
    "\n",
    "```python\n",
    "# File textanalysis.py\n",
    "def count_words(filepath, words_list):\n",
    "    with open(filepath) as file:\n",
    "        text = file.read()\n",
    "    \n",
    "    n = 0\n",
    "    for word in text.split():\n",
    "        # Count the number of times the words in the list appear.\n",
    "        if word.lower() in words_list:\n",
    "            n += 1\n",
    "    return n\n",
    "```\n",
    "\n",
    "This was the directory tree so far:\n",
    "\n",
    "    textanalysis\n",
    "    |-- __init__.py\n",
    "    |-- textanalysis.py"
   ]
  },
  {
   "cell_type": "markdown",
   "id": "cad9acba-28b8-4957-8ab0-164692a27428",
   "metadata": {},
   "source": [
    "#### Putting Your Package to Work (Exercise)\n",
    "\n",
    "Create a script `newscript.py` that uses the textanalysis package.dsI can't find a way to get the contents of the file `hotel-reviews.txt` since commands don't work in the terminal window when I use the Safari web browser.\n",
    "\n",
    "```python\n",
    "# File myscript.py\n",
    "from textanalysis.textanalysis import count_words\n",
    "\n",
    "# Count the number of positive words\n",
    "nb_positive_words = count_words(\"hotel-reviews.txt\", [\"good\", \"great\"])\n",
    "\n",
    "# Count the number of negative words\n",
    "nb_negative_words = count_words(\"hotel-reviews.txt\", [\"bad\", \"awful\"])\n",
    "\n",
    "print(\"{} positive words.\".format(nb_positive_words))\n",
    "print(\"{} negative words.\".format(nb_negative_words))\n",
    "```\n",
    "\n",
    "The result was:\n",
    "\n",
    "    $ python3 newscript.py\n",
    "    18816 positive words.\n",
    "    1706 negative words.\n",
    "\n",
    "This was the directory tree at this point:\n",
    "\n",
    "    myscript.py\n",
    "    textanalysis\n",
    "    |-- __init__.py\n",
    "    |-- textanalysis.py"
   ]
  },
  {
   "cell_type": "markdown",
   "id": "9384ec75-761e-4da7-9006-d1e3897a6c40",
   "metadata": {},
   "source": [
    "### Documentation\n",
    "\n",
    "#### Why Include Documentation?\n",
    "\n",
    "Writing documentation helps your users use your code.\n",
    "\n",
    "Document each\n",
    "- function\n",
    "- class\n",
    "- class method"
   ]
  },
  {
   "cell_type": "code",
   "execution_count": null,
   "id": "75d21e26-385d-4626-9b61-38354b2fef8c",
   "metadata": {},
   "outputs": [],
   "source": [
    "## Install Your Package from Anywhere"
   ]
  },
  {
   "cell_type": "code",
   "execution_count": null,
   "id": "12835d46-b09e-499b-8a01-d0b05f0a6462",
   "metadata": {},
   "outputs": [],
   "source": [
    "## Increasing Your Package Quality"
   ]
  },
  {
   "cell_type": "code",
   "execution_count": null,
   "id": "9d048823-7357-42d1-91c2-1670dd1ae591",
   "metadata": {},
   "outputs": [],
   "source": [
    "## Reapid Package Development"
   ]
  }
 ],
 "metadata": {
  "kernelspec": {
   "display_name": "Python 3 (ipykernel)",
   "language": "python",
   "name": "python3"
  },
  "language_info": {
   "codemirror_mode": {
    "name": "ipython",
    "version": 3
   },
   "file_extension": ".py",
   "mimetype": "text/x-python",
   "name": "python",
   "nbconvert_exporter": "python",
   "pygments_lexer": "ipython3",
   "version": "3.11.2"
  }
 },
 "nbformat": 4,
 "nbformat_minor": 5
}
