{
 "cells": [
  {
   "cell_type": "markdown",
   "id": "d9867f66-344a-495b-afa1-9d5a0a1485c8",
   "metadata": {},
   "source": [
    "# Developing Python Packages\n",
    "\n",
    "## Introduction\n",
    "\n",
    "These are my notes for DataCamp's course [_Developing Python Packages_](https://www.datacamp.com/courses/developing-python-packages).\n",
    "\n",
    "This course is presented by James Fulton, Climate Informatics Researcher. Collaborators are Amy Peterson and Maggie Matsui.\n",
    "\n",
    "Prerequisites:\n",
    "\n",
    "- Introduction to Shell\n",
    "- [Writing Functions in Python](../Writing%20Functions%20in%20Python/Writing%20Functions%20in%20Python.ipynb)\n",
    "\n",
    "This course is part of these tracks:\n",
    "\n",
    "- Data Scientist Professional with Python\n",
    "- Python Programmer\n",
    "\n",
    "There are no downloadable data sets for this course.\n",
    "\n",
    "## Versions\n",
    "\n",
    "This notebook was created using Python 3.11.2.\n"
   ]
  },
  {
   "cell_type": "code",
   "execution_count": null,
   "id": "92f644c4-f38f-4632-9389-4d85771eadc4",
   "metadata": {},
   "outputs": [],
   "source": []
  }
 ],
 "metadata": {
  "kernelspec": {
   "display_name": "Python 3 (ipykernel)",
   "language": "python",
   "name": "python3"
  },
  "language_info": {
   "codemirror_mode": {
    "name": "ipython",
    "version": 3
   },
   "file_extension": ".py",
   "mimetype": "text/x-python",
   "name": "python",
   "nbconvert_exporter": "python",
   "pygments_lexer": "ipython3",
   "version": "3.11.2"
  }
 },
 "nbformat": 4,
 "nbformat_minor": 5
}
