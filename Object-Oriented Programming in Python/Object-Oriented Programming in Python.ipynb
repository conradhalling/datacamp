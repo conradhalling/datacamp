{
 "cells": [
  {
   "cell_type": "markdown",
   "id": "f70ffc47-4846-4342-9e8a-a6d39f5e1329",
   "metadata": {},
   "source": [
    "# Object-Oriented Programming in Python\n",
    "\n",
    "## Introduction\n",
    "\n",
    "These are my notes for DataCamp's course [_Object-Oriented Programming in Python_](https://www.datacamp.com/courses/object-oriented-programming-in-python).\n",
    "\n",
    "This course is presented by Alex Yarosh; they are a software engineer and mathematician. Collaborators are Amy Peterson and Maggie Matsui.\n",
    "\n",
    "Prerequisite:\n",
    "\n",
    "- [_Writing Functions in Python_](../Writing%20Functions%20in%20Python/Writing%20Functions%20in%20Python.ipynb)\n",
    "\n",
    "This course is part of these tracks:\n",
    "\n",
    "- Python Programmer\n",
    "- Python Programming\n",
    "\n",
    "There are no datasets for this course.\n",
    "\n",
    "What was new or good review for me:\n",
    "- type(), isinstance()\n",
    "- In Python 3, a class no longer needs to explicitly inherent from object\n",
    "- Class variables must have full names (Class.VAR_NAME) IN class methods\n",
    "- How to change the value of a class attribute (do not do it through the object)\n",
    "- Inheritance\n",
    "    - The exercise of modifying the to_csv method of pandas was especially\n",
    "        interesting\n",
    "    - Comparison of two objects uses the __eq__ method of the subclass\n",
    "- Formatting strings using indexes or placeholders.\n",
    "- Liskov Substitution Principle.\n",
    "    - Circle-Ellipse Problem / Square-Rectangle Problem\n",
    "- Creating a custom exception class\n",
    "- Printing or formatting exceptions\n",
    "- Properties, setters, getters, and read-only properties"
   ]
  },
  {
   "cell_type": "markdown",
   "id": "8d56681a-1075-47df-bb0b-6f1f3c4213bd",
   "metadata": {},
   "source": [
    "## Imports\n",
    "\n",
    "Imports are gathered here for clarity and convenience."
   ]
  },
  {
   "cell_type": "code",
   "execution_count": null,
   "id": "20163ac5-cdd1-4079-809d-5e4af2e1129c",
   "metadata": {},
   "outputs": [],
   "source": [
    "import datetime\n",
    "import logging\n",
    "import math\n",
    "import sys\n",
    "import traceback\n",
    "\n",
    "import numpy as np\n",
    "import pandas as pd\n",
    "\n",
    "# Set up environment.\n",
    "logging.basicConfig(level=logging.DEBUG)\n",
    "logger = logging.getLogger(name=__name__)"
   ]
  },
  {
   "cell_type": "markdown",
   "id": "2f2c2f48-bc69-44d3-801f-61ab1344a3a1",
   "metadata": {},
   "source": [
    "## OOP Fundamentals\n",
    "\n",
    "### What is OOP?\n",
    "\n",
    "- Object = state + behavior\n",
    "- Classes as blueprints that outline possible states and behaviors\n",
    "- State is stored in attributes, which are variables\n",
    "- Behavior is defined by methods, which are functions"
   ]
  },
  {
   "cell_type": "markdown",
   "id": "8781ee4c-0b8c-4745-a4e2-b63f537d1872",
   "metadata": {},
   "source": [
    "#### Objects in Python (Demonstration)"
   ]
  },
  {
   "cell_type": "code",
   "execution_count": null,
   "id": "bde81a34-b30f-4254-a1ba-52d36c6f5ecf",
   "metadata": {},
   "outputs": [],
   "source": [
    "# type() returns the class of an object.\n",
    "a = np.array([1, 2, 3, 4])\n",
    "print(type(a))\n",
    "print()\n",
    "print(type(a.squeeze))"
   ]
  },
  {
   "cell_type": "markdown",
   "id": "da48f11e-93ee-40bd-ba6b-8de95bebb933",
   "metadata": {},
   "source": [
    "#### Attributes and Methods (Demonstration)"
   ]
  },
  {
   "cell_type": "code",
   "execution_count": null,
   "id": "5dd3e185-98ed-4a48-b4fd-2abd5e2a3558",
   "metadata": {},
   "outputs": [],
   "source": [
    "# The shape attribute of a numpy.ndarray.\n",
    "print(a.shape)\n",
    "# The reshape method of a numpy.ndarray.\n",
    "print(a.reshape(2, 2))\n",
    "# List the attributes and methods of an object.\n",
    "print(dir(a))"
   ]
  },
  {
   "cell_type": "markdown",
   "id": "d91bae42-8e52-4cd8-8d7b-ebefdb33fb2a",
   "metadata": {},
   "source": [
    "#### OOP Terminology (Exercise)\n",
    "\n",
    "- Encapsulation is a software design practice of bundling the data and the methods that operate on that date.\n",
    "- A class is an abstract template describing the general states and behaviors\n",
    "- Attributes encode the state of an object and are represented by variables\n",
    "- A programming can be object-oriented, procedural, or both\n",
    "- `.columns` is an example of an attribute of a DataFrame object\n",
    "- Methods encode behavior of an object and are represented by functions\n",
    "- A class is an abstract pattern; an object is a particular representation of a class"
   ]
  },
  {
   "cell_type": "markdown",
   "id": "55059477-47e6-4d84-ae72-8be6c3ddee82",
   "metadata": {},
   "source": [
    "#### Exploring Object Interface (Exercise)\n",
    "\n",
    "The object named `mystery` has class __main__.Employee.\n",
    "\n",
    "```Python\n",
    "type(mystery)\n",
    "dir(mystery)\n",
    "help(mystery)\n",
    "print(mystery.name) # Natasha Ting\n",
    "print(mystery.salary) # 73500.0\n",
    "mystery.give_raise(2500) # Give Natash a raise.\n",
    "print(mystery.salary) # 76000.0\n",
    "```"
   ]
  },
  {
   "cell_type": "markdown",
   "id": "9b627f7c-a818-4b72-8c2e-7fcea7b05f8b",
   "metadata": {},
   "source": [
    "### Class Anatomy: Attributes and Methods"
   ]
  },
  {
   "cell_type": "markdown",
   "id": "e6af0970-65f2-49e8-ab70-466a50f741ce",
   "metadata": {},
   "source": [
    "#### A Basic Class (Demonstration)"
   ]
  },
  {
   "cell_type": "code",
   "execution_count": null,
   "id": "70337b0b-8ca1-4523-b0aa-8503cf0049d6",
   "metadata": {},
   "outputs": [],
   "source": [
    "# Create and use an \"empty\" class.\n",
    "class Customer:\n",
    "    pass\n",
    "\n",
    "c1 = Customer()\n",
    "c2 = Customer()"
   ]
  },
  {
   "cell_type": "markdown",
   "id": "ee86ac7c-3068-4b7f-a80d-7f716e87b997",
   "metadata": {},
   "source": [
    "#### Adding Methods to a Class (Demonstration)\n",
    "\n",
    "Use `self` as the first argument in the method definition. A class is a template, and `self` is a stand-in for a particular object used in class definition. Python takes care of passing `self` to the method. `cust.identify(\"Laura\")` is interpreted by Python as `Customer.identify(cust, \"Laura\")`."
   ]
  },
  {
   "cell_type": "code",
   "execution_count": null,
   "id": "3ae640ad-ec1e-41e6-9415-cab46ba6cd06",
   "metadata": {},
   "outputs": [],
   "source": [
    "# Clean up old objects.\n",
    "del Customer\n",
    "del c1\n",
    "del c2"
   ]
  },
  {
   "cell_type": "code",
   "execution_count": null,
   "id": "88db0276-34d9-4373-b0da-5bbae6cc54cf",
   "metadata": {},
   "outputs": [],
   "source": [
    "class Customer:\n",
    "    def identify(self, name):\n",
    "        print(\"I am Customer \" + name)\n",
    "\n",
    "cust = Customer()\n",
    "cust.identify(\"Laura\")\n",
    "# Show the equivalent call using the class.\n",
    "Customer.identify(cust, \"Laura\")\n",
    "# Another call.\n",
    "cust.identify(\"Eris Odoro\")"
   ]
  },
  {
   "cell_type": "markdown",
   "id": "c0027b36-2611-4fa1-8229-ec90183b82ec",
   "metadata": {},
   "source": [
    "#### We Need Attributes (Demonstration)\n",
    "\n",
    "- Encapsulation: bundling data with methods that operate on the data\n",
    "- For example, a customer's name should be an attribute of the class"
   ]
  },
  {
   "cell_type": "code",
   "execution_count": null,
   "id": "1d7199b6-84e4-4671-838f-28aff991f252",
   "metadata": {},
   "outputs": [],
   "source": [
    "# Clean up old objects.\n",
    "del Customer\n",
    "del cust"
   ]
  },
  {
   "cell_type": "code",
   "execution_count": null,
   "id": "e2300191-4ac1-4b25-a440-65bd104e3094",
   "metadata": {},
   "outputs": [],
   "source": [
    "class Customer:\n",
    "    def set_name(self, new_name):\n",
    "        self.name = new_name\n",
    "\n",
    "    def identify(self):\n",
    "        print(\"I am Customer \" + self.name)\n",
    "\n",
    "cust = Customer()\n",
    "cust.set_name(\"Lara de Silva\")\n",
    "print(cust.name)\n",
    "cust.identify()"
   ]
  },
  {
   "cell_type": "markdown",
   "id": "e6c67bf8-5aca-4e9b-bd0c-c25507f551fe",
   "metadata": {},
   "source": [
    "#### Understanding Class Definitions (Exercise)"
   ]
  },
  {
   "cell_type": "code",
   "execution_count": null,
   "id": "f456ba7f-1e37-4096-b23f-8864f65ec7a7",
   "metadata": {},
   "outputs": [],
   "source": [
    "# Rearrange lines of code to create the output 6.\n",
    "class MyCounter:\n",
    "    def set_count(self, n):\n",
    "        self.count = n\n",
    "mc = MyCounter()\n",
    "mc.set_count(5)\n",
    "mc.count += 1\n",
    "print(mc.count)"
   ]
  },
  {
   "cell_type": "markdown",
   "id": "203d3978-6359-4c9a-8a56-d64320806b37",
   "metadata": {},
   "source": [
    "#### Create Your First Class (Exercise)"
   ]
  },
  {
   "cell_type": "code",
   "execution_count": null,
   "id": "a6c01461-b53f-4060-a776-10e243d4f4da",
   "metadata": {},
   "outputs": [],
   "source": [
    "# Build a simple class.\n",
    "class Employee:\n",
    "    \n",
    "    def set_name(self, new_name):\n",
    "        self.name = new_name\n",
    "    \n",
    "    def set_salary(self, new_salary):\n",
    "        self.salary = new_salary\n",
    "\n",
    "emp = Employee()\n",
    "emp.set_name(\"Korel Rossi\")\n",
    "emp.set_salary(50000)\n",
    "\n",
    "print(emp.name)\n",
    "print(emp.salary)\n",
    "print(dir(emp))"
   ]
  },
  {
   "cell_type": "markdown",
   "id": "234397d7-2d1f-4976-b5c2-0622fa87c8d7",
   "metadata": {},
   "source": [
    "#### Using Attributes in the Class Definition (Exercise)"
   ]
  },
  {
   "cell_type": "code",
   "execution_count": null,
   "id": "3f1696de-9bc0-4b17-98f9-06b5e4e849ec",
   "metadata": {},
   "outputs": [],
   "source": [
    "# Clean up old objects.\n",
    "del Employee\n",
    "del emp"
   ]
  },
  {
   "cell_type": "code",
   "execution_count": null,
   "id": "2dce7599-ed58-4a8c-8d6e-1977a19454d9",
   "metadata": {},
   "outputs": [],
   "source": [
    "# Create a class with two attributes and three methods.\n",
    "# This code deliverately gives a raise before printing the monthly salary\n",
    "# to demonstrate using both methods.\n",
    "class Employee:\n",
    "    def set_name(self, new_name):\n",
    "        self.name = new_name\n",
    "\n",
    "    def set_salary(self, new_salary):\n",
    "        self.salary = new_salary\n",
    "    \n",
    "    def give_raise(self, raise_amount):\n",
    "        self.salary += raise_amount\n",
    "    \n",
    "    def monthly_salary(self):\n",
    "        return self.salary / 12\n",
    "\n",
    "emp = Employee()\n",
    "emp.set_name('Korel Rossi')\n",
    "emp.set_salary(50000)\n",
    "print(emp.salary)\n",
    "emp.give_raise(1500)\n",
    "print(emp.salary)\n",
    "mon_sal = emp.monthly_salary()\n",
    "print(mon_sal)"
   ]
  },
  {
   "cell_type": "markdown",
   "id": "141b93c8-4d3d-4632-903e-e14b4d460ee0",
   "metadata": {},
   "source": [
    "### Class Anatomy: The `__init__` Constructor\n",
    "\n",
    "It is usually more convenient to add data to the object when creating it rather than creating the empty object and setting each attribute one at a time. Use the `__init__()` method to construct the object and assign the attributes."
   ]
  },
  {
   "cell_type": "markdown",
   "id": "0365283e-2895-492b-ab09-5e665fced96e",
   "metadata": {},
   "source": [
    "#### Constructor (Demonstration)\n",
    "\n",
    "There are two ways to construct an object. One is to use methods to set the attributes. The second is to call a constructor that assigns the attributes when creating the object (having the constructor set the attributes). Avoid assigning attributes outside the constructor; this makes it easier to know and document the attributes.\n",
    "\n",
    "Use best practices in the code:\n",
    "1. Initialize attributes in __init__().\n",
    "2. Use CamelCase for class names, lower snake case for methods and attributes.\n",
    "3. Use self as the name of the object in methods.\n",
    "4. Use docstrings."
   ]
  },
  {
   "cell_type": "code",
   "execution_count": null,
   "id": "7d0f8b24-ffec-4007-8e73-6691fbde50a0",
   "metadata": {},
   "outputs": [],
   "source": [
    "# Clean up old objects.\n",
    "del Customer"
   ]
  },
  {
   "cell_type": "code",
   "execution_count": null,
   "id": "3930dabc-a14c-44e2-b5ad-323f1ca06168",
   "metadata": {},
   "outputs": [],
   "source": [
    "# This class was developed during the demonstration.\n",
    "class Customer:\n",
    "    \"\"\"A customer with a name and balance attribures.\"\"\"\n",
    "    def __init__(self, name, balance=0):\n",
    "        self.name = name\n",
    "        self.balance = balance\n",
    "        print(\"The __init__ method was called\")\n",
    "\n",
    "cust = Customer(\"Lara de Silva\")\n",
    "print(cust.name)\n",
    "print(cust.balance)"
   ]
  },
  {
   "cell_type": "markdown",
   "id": "52e468ad-6a9f-4e31-a4a5-ab352027f7a4",
   "metadata": {},
   "source": [
    "#### Correct Use of `__init__` (Exercise)\n",
    "\n",
    "Choose the block of code that does *not* return an error when run."
   ]
  },
  {
   "cell_type": "code",
   "execution_count": null,
   "id": "e9dfc809-d9d1-4d59-990c-4fd3a10fc9f7",
   "metadata": {},
   "outputs": [],
   "source": [
    "# Note that c.count is set to 5, not to 0, but there is no Python error,\n",
    "# just an algorithmic surprise. The other examples had mismatches between\n",
    "# the number of arguments passed and the number of parameters in the\n",
    "# constructor.\n",
    "class Counter:\n",
    "    def __init__(self, count, name):\n",
    "        self.count = 5\n",
    "        self.name = name\n",
    "c = Counter(0, \"My counter\")\n",
    "print(c.count)"
   ]
  },
  {
   "cell_type": "markdown",
   "id": "0ab2841f-5c09-447f-b2c7-a9d72c1947b7",
   "metadata": {},
   "source": [
    "#### Add a Class Constructor (Exercise)"
   ]
  },
  {
   "cell_type": "code",
   "execution_count": null,
   "id": "c5c61c48-7ce6-452a-a808-bbddd9992b28",
   "metadata": {},
   "outputs": [],
   "source": [
    "# Clean up old objects.\n",
    "del Employee\n",
    "del emp\n",
    "del mon_sal"
   ]
  },
  {
   "cell_type": "code",
   "execution_count": null,
   "id": "eac2ab79-59c9-4126-adcb-3d6982ccaf21",
   "metadata": {},
   "outputs": [],
   "source": [
    "# Improve the class constructor to the Employee class.\n",
    "# Use __init__() to set the attributes, and remove the methods for\n",
    "# setting individual attributes.\n",
    "# Add preprocessing of the salary attribute.\n",
    "# Add setting the hire_date attribute.\n",
    "# Test the class.\n",
    "class Employee:\n",
    "\n",
    "    def __init__(self, name, salary=0):\n",
    "        self.name = name\n",
    "        if salary > 0:\n",
    "            self.salary = salary\n",
    "        else:\n",
    "            self.salary = 0\n",
    "            print(\"Invalid salary!\")\n",
    "        self.hire_date = datetime.datetime.today()\n",
    "        \n",
    "    def give_raise(self, amount):\n",
    "        self.salary += amount\n",
    "\n",
    "    def monthly_salary(self):\n",
    "        return self.salary / 12\n",
    "        \n",
    "emp = Employee(\"Korel Rossi\", 60000)\n",
    "print(emp.name)\n",
    "print(emp.salary)\n",
    "emp.give_raise(1500)\n",
    "print(emp.salary)\n",
    "print(emp.monthly_salary())\n",
    "print(emp.hire_date)"
   ]
  },
  {
   "cell_type": "markdown",
   "id": "57277c47-d9eb-420f-9277-5adcef319e6a",
   "metadata": {},
   "source": [
    "#### Write a Class from Scratch (Exercise)"
   ]
  },
  {
   "cell_type": "code",
   "execution_count": null,
   "id": "86cd090e-96bc-44a7-aa31-0aae1eb2b933",
   "metadata": {},
   "outputs": [],
   "source": [
    "# Create a Point class.\n",
    "class Point:\n",
    "    \n",
    "    def __init__(self, x=0.0, y=0.0):\n",
    "        self.x = x\n",
    "        self.y = y\n",
    "    \n",
    "    def distance_to_origin(self):\n",
    "        return math.sqrt(self.x * self.x + self.y * self.y)\n",
    "    \n",
    "    def reflect(self, axis):\n",
    "        if axis == \"x\":\n",
    "            self.y = -self.y\n",
    "        elif axis == \"y\":\n",
    "            self.x = -self.x\n",
    "        else:\n",
    "            print(\"Invalid axis {}\".format(axis))\n",
    "\n",
    "pt = Point(x=3.0)\n",
    "pt.reflect(\"y\")\n",
    "print((pt.x, pt.y))\n",
    "pt.y = 4.0\n",
    "print(pt.distance_to_origin())"
   ]
  },
  {
   "cell_type": "markdown",
   "id": "33e0281a-ab28-4927-ab1f-ebea338192b1",
   "metadata": {
    "tags": []
   },
   "source": [
    "## Inheritance and Polymorphism\n",
    "\n",
    "Inheritance (extending functionality of existing code), polymorphism (creating a unified interface), together with encapsulation (bundling of data and methods), make up the core principles of object oriented programming.\n",
    "\n",
    "Instance data is stored in the object; class data is stored in the class and can be accessed by all objects. Note that when using class data, even within the class, requires reference to the class; scoping does not work.\n",
    "\n",
    "Class attributes should be used for global constants related to the class.\n",
    "- minimal/maximal values for attributes\n",
    "- commonly used values and constants, e.g., `pi` for a `Circle` class\n",
    "- a count of class objects"
   ]
  },
  {
   "cell_type": "markdown",
   "id": "4d03fe6f-bac7-4bcc-80f4-c1825d54daa4",
   "metadata": {},
   "source": [
    "#### Class-Level Data (Demonstration)"
   ]
  },
  {
   "cell_type": "code",
   "execution_count": null,
   "id": "ffe0a8ab-23b2-4bc7-ac17-fad21805784d",
   "metadata": {},
   "outputs": [],
   "source": [
    "# Clean up old objects.\n",
    "del Employee\n",
    "del emp"
   ]
  },
  {
   "cell_type": "code",
   "execution_count": null,
   "id": "2a64ce41-2c7e-4cbe-a173-8624e3874afb",
   "metadata": {},
   "outputs": [],
   "source": [
    "# Use class-level data.\n",
    "class Employee:\n",
    "    MIN_SALARY = 30000\n",
    "    def __init__(self, name, salary):\n",
    "        self.name = name\n",
    "        if salary > Employee.MIN_SALARY:\n",
    "            self.salary = salary\n",
    "        else:\n",
    "            self.salary = Employee.MIN_SALARY\n",
    "\n",
    "emp = Employee(name=\"Ada\", salary=10000)\n",
    "print(emp.name, emp.salary)\n",
    "print(emp.MIN_SALARY)\n",
    "print(Employee.MIN_SALARY)"
   ]
  },
  {
   "cell_type": "markdown",
   "id": "97286a86-dcea-4d08-a534-9c6ba60d616a",
   "metadata": {},
   "source": [
    "#### Class Methods (Demonstration)\n",
    "\n",
    "Class methods cannot use instance-level data. A class method requires the `@classmethod` decorator, and by convention the first argument is named `cls` instead of `self`.\n",
    "\n",
    "The main use case for a class method is to create alternative constructs. Although the `__init__` construct does not return the object, a class constructor must return the object. Calling `cls(name)` calls `Employee.__init__()` to create the object."
   ]
  },
  {
   "cell_type": "code",
   "execution_count": null,
   "id": "d3312e90-c734-4a90-8b85-b08c91d91848",
   "metadata": {},
   "outputs": [],
   "source": [
    "# Clean up old objects.\n",
    "del Employee\n",
    "del emp"
   ]
  },
  {
   "cell_type": "code",
   "execution_count": null,
   "id": "0abfa6e8-515d-4a86-8966-d93e5619a798",
   "metadata": {},
   "outputs": [],
   "source": [
    "# Here, the class method from_file reads from data.txt.\n",
    "class Employee:\n",
    "    \n",
    "    MIN_SALARY = 30000\n",
    "    \n",
    "    def __init__(self, name, salary=30000):\n",
    "        self.name = name\n",
    "        if salary > Employee.MIN_SALARY:\n",
    "            self.salary = salary\n",
    "        else:\n",
    "            self.salary = Employee.MIN_SALARY\n",
    "    \n",
    "    @classmethod\n",
    "    def from_file(cls, filename):\n",
    "        with open(filename, \"r\") as f:\n",
    "            name = f.readline().strip()\n",
    "        return cls(name)\n",
    "\n",
    "john = Employee.from_file(\"data.txt\")\n",
    "print(john.name)\n",
    "print(john.salary)"
   ]
  },
  {
   "cell_type": "markdown",
   "id": "7cd3da8f-e461-465f-83e4-8de6e86e1f6c",
   "metadata": {},
   "source": [
    "#### Class-Level Attributes (Exercise)"
   ]
  },
  {
   "cell_type": "code",
   "execution_count": null,
   "id": "7e439ef5-67aa-43f4-aba1-08ec41ff0b45",
   "metadata": {},
   "outputs": [],
   "source": [
    "# Plot movement of a player along a line.\n",
    "class Player:\n",
    "    MAX_POSITION = 10\n",
    "    \n",
    "    def __init__(self):\n",
    "        self.position = 0\n",
    "\n",
    "    # Add a move() method with steps parameter.\n",
    "    # Only moving forward is allowed.\n",
    "    def move(self, steps):\n",
    "        if steps > 0:\n",
    "            if self.position + steps < Player.MAX_POSITION:\n",
    "                self.position += steps\n",
    "            else:\n",
    "                self.position = Player.MAX_POSITION\n",
    "\n",
    "    # This method provides a rudimentary visualization in the console    \n",
    "    def draw(self):\n",
    "        drawing = \"-\" * self.position + \"|\" + \"-\" * (Player.MAX_POSITION - self.position)\n",
    "        print(drawing)\n",
    "\n",
    "p = Player()\n",
    "p.draw()\n",
    "p.move(4)\n",
    "p.draw()\n",
    "p.move(5)\n",
    "p.draw()\n",
    "p.move(3)\n",
    "p.draw()\n",
    "p.move(-1)\n",
    "p.draw()"
   ]
  },
  {
   "cell_type": "markdown",
   "id": "5b5185cb-e45d-4894-9597-dc042c2f1b83",
   "metadata": {},
   "source": [
    "#### Add a Second Class Attribute (Extra)\n",
    "\n",
    "Apparently a step was omitted from this exercise to include the Player.MAX_SPEED class attribute."
   ]
  },
  {
   "cell_type": "code",
   "execution_count": null,
   "id": "913fa0f2-c596-4d0f-a29b-8ab7b9b4533e",
   "metadata": {},
   "outputs": [],
   "source": [
    "# Clean up old objects.\n",
    "del Player\n",
    "del john"
   ]
  },
  {
   "cell_type": "code",
   "execution_count": null,
   "id": "b03f52d8-d2d5-481e-917d-02641c8bf988",
   "metadata": {},
   "outputs": [],
   "source": [
    "# Plot movement of a player along a line.\n",
    "# Limit maximum speed forward.\n",
    "class Player:\n",
    "    MAX_POSITION = 10\n",
    "    MAX_SPEED = 3\n",
    "    \n",
    "    def __init__(self):\n",
    "        self.position = 0\n",
    "\n",
    "    # Add a move() method with steps parameter\n",
    "    def move(self, steps):\n",
    "        if steps > Player.MAX_SPEED:\n",
    "            adj_steps = Player.MAX_SPEED\n",
    "        else:\n",
    "            adj_steps = steps\n",
    "        if self.position + adj_steps < Player.MAX_POSITION:\n",
    "            self.position += adj_steps\n",
    "        else:\n",
    "            self.position = Player.MAX_POSITION\n",
    "\n",
    "    # This method provides a rudimentary visualization in the console    \n",
    "    def draw(self):\n",
    "        drawing = \"-\" * self.position + \"|\" + \"-\" * (Player.MAX_POSITION - self.position)\n",
    "        print(drawing)\n",
    "\n",
    "p = Player()\n",
    "p.draw()\n",
    "p.move(1) # 1\n",
    "p.draw()\n",
    "p.move(5) # limited to 3: 4\n",
    "p.draw()\n",
    "p.move(3) # 7\n",
    "p.draw()\n",
    "p.move(2) # 9\n",
    "p.draw()\n",
    "p.move(3) # 12 -> 10\n",
    "p.draw()"
   ]
  },
  {
   "cell_type": "markdown",
   "id": "04a2d9e9-2d24-44d3-8701-382a7ccb3fc4",
   "metadata": {},
   "source": [
    "#### Changing Class Attributes (Exercise)"
   ]
  },
  {
   "cell_type": "code",
   "execution_count": null,
   "id": "fd3356bf-474a-4df4-91a6-ed98673aeb8a",
   "metadata": {},
   "outputs": [],
   "source": [
    "# The class attribute must be changed via its class name.\n",
    "# Create Players p1 and p2\n",
    "p1, p2 = Player(), Player()\n",
    "\n",
    "print(\"MAX_SPEED of p1 and p2 before assignment:\")\n",
    "print(p1.MAX_SPEED)\n",
    "print(p2.MAX_SPEED)\n",
    "\n",
    "# Create a new object attribute, p1.MAX_SPEED.\n",
    "p1.MAX_SPEED = 5\n",
    "# Modify the class attribute.\n",
    "Player.MAX_SPEED = 7\n",
    "\n",
    "print(\"MAX_SPEED of p1 and p2 after assignment:\")\n",
    "# p1.MAX_SPEED refers to the object MAX_SPEED attribute.\n",
    "print(p1.MAX_SPEED)\n",
    "# p2.MAX_SPEED refers to Player.MAX_SPEED.\n",
    "print(p2.MAX_SPEED)\n",
    "\n",
    "print(\"MAX_SPEED of Player:\")\n",
    "print(Player.MAX_SPEED)"
   ]
  },
  {
   "cell_type": "markdown",
   "id": "48e438f2-6f70-4c01-b211-ae864ab8110c",
   "metadata": {},
   "source": [
    "#### Alternative Constructors (Exercise)"
   ]
  },
  {
   "cell_type": "code",
   "execution_count": null,
   "id": "f6cfd623-3fe4-475e-8fb0-cfb596bc82d4",
   "metadata": {},
   "outputs": [],
   "source": [
    "# Create a class with alternative constructors that accept a string\n",
    "# argument or a datetime.datetime argument.\n",
    "class BetterDate:    \n",
    "    # Constructor\n",
    "    def __init__(self, year, month, day):\n",
    "      # Recall that Python allows multiple variable assignments in one line\n",
    "      self.year, self.month, self.day = year, month, day\n",
    "    \n",
    "    @classmethod\n",
    "    def from_str(cls, datestr):\n",
    "        \"\"\"\n",
    "        Create object from string like \"2020-04-20\".\n",
    "        \"\"\"\n",
    "        # Split the string at \"-\" and convert each part to integer\n",
    "        parts = datestr.split(\"-\")\n",
    "        year, month, day = int(parts[0]), int(parts[1]), int(parts[2])\n",
    "        # Return the class instance\n",
    "        return cls(year, month, day)\n",
    "    \n",
    "    @classmethod\n",
    "    def from_datetime(cls, dt):\n",
    "        \"\"\"\n",
    "        Create object from datetime.datetime object.\n",
    "        \"\"\"\n",
    "        return cls(dt.year, dt.month, dt.day)\n",
    "\n",
    "bd = BetterDate.from_str('2020-04-30')   \n",
    "print(bd.year)\n",
    "print(bd.month)\n",
    "print(bd.day)\n",
    "\n",
    "today = datetime.datetime.today()     \n",
    "bd = BetterDate.from_datetime(today)   \n",
    "print(bd.year)\n",
    "print(bd.month)\n",
    "print(bd.day)"
   ]
  },
  {
   "cell_type": "markdown",
   "id": "6ccff03a-ba27-42b0-87a9-53206a68feae",
   "metadata": {},
   "source": [
    "There's another type of methods that are not bound to a class instance - static methods, defined with the decorator @staticmethod. They are mainly used for helper or utility functions that could as well live outside of the class, but make more sense when bundled into the class. Static methods are beyond the scope of this class."
   ]
  },
  {
   "cell_type": "markdown",
   "id": "4408ce0f-5820-47ec-a3af-a37a953e172e",
   "metadata": {},
   "source": [
    "### Class Inheritance\n",
    "\n",
    "I personally don't like inheritance, but I have observed that many classes are derived from a base class, and this is often convenient. I have preferred composition instead of inheritance. (Think \"is-a\" versus \"has-a\".)  See https://en.wikipedia.org/wiki/Composition_over_inheritance. Another alternative to inheritance is delegation; I don't know much about this.\n",
    "\n",
    "Class inheritance is all about code reuse. It is likely that someone has already solved the problem you're working on, and you'd like to make use of their code with some changes. Alex lists numpy, scikit-learn, pandas, matplotlib, scipy, and requests as useful modules/packages. OOP allows you to keep a consistent interface while modifying functionality.\n",
    "\n",
    "OOP also allows you to apply the DRY (don't repeat yourself) principle. Alex's examples are buttons and input elements in a web interface.\n",
    "\n",
    "These goals can be accomplished with class inheritance. A new class can inherit the functionality of an existing class plus extra functionality that is specific to the new class.\n",
    "\n",
    "How to implement class inheritance:\n",
    "\n",
    "```Python\n",
    "class BankAccount:\n",
    "    def __init__(self, balance):\n",
    "        self.balance = balance\n",
    "    \n",
    "    def withdraw(self, amount)\n",
    "        self.balance -= amount\n",
    "    \n",
    "class SavingsAccount(BankAccount):\n",
    "    pass\n",
    "\n",
    "savings_acct = SavingsAccount(1000)\n",
    "type(savings_account)\n",
    "savings_account.balance\n",
    "savings_account.withdraw(300)\n",
    "```"
   ]
  },
  {
   "cell_type": "markdown",
   "id": "efda4048-b5bd-4ac8-9e5a-54cf50a4e0da",
   "metadata": {},
   "source": [
    "#### Child Class Has All of the Parent Data (Example)"
   ]
  },
  {
   "cell_type": "code",
   "execution_count": null,
   "id": "7661ced2-491b-418e-9cea-52d3bf4d55ac",
   "metadata": {},
   "outputs": [],
   "source": [
    "# A simple example of class inheritance. The seemingly empty SavingsAccount\n",
    "# class has all of the attributes and methods of the BankAccount class.\n",
    "class BankAccount:\n",
    "    def __init__(self, balance):\n",
    "        self.balance = balance\n",
    "    \n",
    "    def withdraw(self, amount):\n",
    "        self.balance -= amount\n",
    "    \n",
    "class SavingsAccount(BankAccount):\n",
    "    pass\n",
    "\n",
    "savings_acct = SavingsAccount(1000)\n",
    "print(type(savings_acct))\n",
    "print(isinstance(savings_acct, SavingsAccount))\n",
    "print(isinstance(savings_acct, BankAccount))\n",
    "print(savings_acct.balance)\n",
    "savings_acct.withdraw(300)\n",
    "print(savings_acct.balance)"
   ]
  },
  {
   "cell_type": "markdown",
   "id": "c3284ceb-c583-4edc-b36f-340156608388",
   "metadata": {},
   "source": [
    "#### Understanding inheritance (Exercise)\n",
    "\n",
    "Determine what is true or false based on the following code."
   ]
  },
  {
   "cell_type": "code",
   "execution_count": null,
   "id": "7029cef6-14e5-4db3-9a82-89435fc2e981",
   "metadata": {},
   "outputs": [],
   "source": [
    "# Clean up old object.\n",
    "del Counter"
   ]
  },
  {
   "cell_type": "code",
   "execution_count": null,
   "id": "c06fe565-4535-4fe6-82e0-7f0cc4d5481b",
   "metadata": {},
   "outputs": [],
   "source": [
    "class Counter:\n",
    "    def __init__(self, count):\n",
    "        self.count = count\n",
    "    \n",
    "    def add_counts(self, n):\n",
    "        self.count += n\n",
    "    \n",
    "class Indexer(Counter):\n",
    "    pass\n",
    "\n",
    "# Question 1: Running ind = Indexer() will fail.\n",
    "# This is true.\n",
    "try:\n",
    "    ind = Indexer()\n",
    "except Exception as exc:\n",
    "    traceback.print_exception(exc, file=sys.stdout)"
   ]
  },
  {
   "cell_type": "code",
   "execution_count": null,
   "id": "8531e34d-52aa-4471-bafd-e2ca53e2d8bd",
   "metadata": {},
   "outputs": [],
   "source": [
    "# Question 2: Class Indexer is inherited from Counter.\n",
    "# This is true.\n",
    "ind = Indexer(0)\n",
    "print(isinstance(ind, Counter))"
   ]
  },
  {
   "cell_type": "code",
   "execution_count": null,
   "id": "2ee62179-d636-439d-8a39-c11d6244e619",
   "metadata": {},
   "outputs": [],
   "source": [
    "# Question 3: Inheritance represents an is-a relationship.\n",
    "# This is true."
   ]
  },
  {
   "cell_type": "code",
   "execution_count": null,
   "id": "919118b0-635c-4e79-a22a-e87465523d85",
   "metadata": {},
   "outputs": [],
   "source": [
    "# Question 4: If ind is an Indexer object, then running ind.add_counts(5)\n",
    "# will cause an error.\n",
    "# This is false.\n",
    "ind.add_counts(5)\n",
    "print(ind.count)"
   ]
  },
  {
   "cell_type": "code",
   "execution_count": null,
   "id": "bb2a1b4f-b1c1-49bc-a905-d1791c0e7c33",
   "metadata": {},
   "outputs": [],
   "source": [
    "# Question 5: Inheritance can be used to add some of the parts of one class\n",
    "# to another class.\n",
    "# This is false.\n",
    "# This is false because it adds all of the parts of one class to the other\n",
    "# class. This is a classic \"it depends\" question, because you can modify the\n",
    "# subclass to avoid using all of the parts of the base class."
   ]
  },
  {
   "cell_type": "code",
   "execution_count": null,
   "id": "d0446f33-5325-493d-b5fa-3509612658e2",
   "metadata": {},
   "outputs": [],
   "source": [
    "# Question 6: If ind is an Indexer object, then isinstance(ind, Counter) will\n",
    "# return True.\n",
    "# This is true.\n",
    "print(isinstance(ind, Counter))"
   ]
  },
  {
   "cell_type": "code",
   "execution_count": null,
   "id": "125febfe-f298-47f7-80cc-b6b732503a08",
   "metadata": {},
   "outputs": [],
   "source": [
    "# Question 7: Every Counter object is an Indexer object.\n",
    "# This is false."
   ]
  },
  {
   "cell_type": "markdown",
   "id": "568b7167-e1d3-48fd-b5ea-d4345ef19132",
   "metadata": {},
   "source": [
    "#### Create a Subclass (Exercise)"
   ]
  },
  {
   "cell_type": "code",
   "execution_count": null,
   "id": "98ae05f8-78ac-453a-9e85-b22bcc53dea2",
   "metadata": {},
   "outputs": [],
   "source": [
    "# Clean up old object.\n",
    "del Employee"
   ]
  },
  {
   "cell_type": "code",
   "execution_count": null,
   "id": "a66d8685-f93f-4b67-be2e-94ecf09713f5",
   "metadata": {},
   "outputs": [],
   "source": [
    "# Here, Manager is a subclass of Employee.\n",
    "class Employee:\n",
    "    MIN_SALARY = 30000    \n",
    "\n",
    "    def __init__(self, name, salary=MIN_SALARY):\n",
    "        self.name = name\n",
    "        if salary >= Employee.MIN_SALARY:\n",
    "            self.salary = salary\n",
    "        else:\n",
    "            self.salary = Employee.MIN_SALARY\n",
    "        \n",
    "    def give_raise(self, amount):\n",
    "        self.salary += amount\n",
    "  \n",
    "    def display(self):\n",
    "         print(\"Manager \" + self.name)\n",
    "        \n",
    "# Define a new class Manager inheriting from Employee\n",
    "class Manager(Employee):\n",
    "    pass\n",
    "\n",
    "# Define a Manager object\n",
    "mng = Manager(name=\"Debbie Lashko\", salary=86500)\n",
    "print(mng.name)\n",
    "mng.display()"
   ]
  },
  {
   "cell_type": "markdown",
   "id": "961d7dbe-f6d1-4886-89f2-8942e0f36f04",
   "metadata": {},
   "source": [
    "#### Exploring Class Relationships (Extra)\n",
    "\n",
    "These are examples of using `type()`, `dir()`, `isinstance()`, and `issubclass()`, and the `__class__` attribute to understand class relationships."
   ]
  },
  {
   "cell_type": "code",
   "execution_count": null,
   "id": "cbc35246-27d3-40e5-9c25-773644c30af8",
   "metadata": {},
   "outputs": [],
   "source": [
    "# type of mng is '__main__.Manager'\n",
    "print(\"type of mng is: {}\".format(type(mng)))\n",
    "print(\"__class__ attribute of mng is: {}\".format(mng.__class__))\n",
    "print(\"dir(mng): {}\".format(dir(mng)))\n",
    "print(\"mng is an instance of Manager: {}\".format(isinstance(mng, Manager)))\n",
    "print(\"mng is an instance of Employee: {}\".format(isinstance(mng, Employee)))\n",
    "print(\"Employee is a subclass of Employee: {}\".format(issubclass(Employee, Employee)))\n",
    "print(\"Manager is a subclass of Employee: {}\".format(issubclass(Manager, Employee)))\n",
    "print(\"Employee is a subclass of Manager: {}\".format(issubclass(Employee, Manager)))"
   ]
  },
  {
   "cell_type": "markdown",
   "id": "ba0f4ed6-6fd0-432e-8b30-a7586bde1826",
   "metadata": {},
   "source": [
    "### Customizing Functionality via Inheritance"
   ]
  },
  {
   "cell_type": "markdown",
   "id": "ef7487d6-5ba5-4c96-b3af-a34a41a4c5aa",
   "metadata": {},
   "source": [
    "#### Customizing Constructors (Example)"
   ]
  },
  {
   "cell_type": "code",
   "execution_count": null,
   "id": "9b7f931f-913e-4d3c-83fb-348a87b21cbe",
   "metadata": {},
   "outputs": [],
   "source": [
    "# Clean up old objects.\n",
    "del BankAccount\n",
    "del SavingsAccount"
   ]
  },
  {
   "cell_type": "code",
   "execution_count": null,
   "id": "7cb5f4be-da1f-466e-a6c0-0a6986421cab",
   "metadata": {},
   "outputs": [],
   "source": [
    "# Add a special constructor for the SavingsAccount class.\n",
    "class BankAccount:\n",
    "    def __init__(self, balance):\n",
    "        self.balance = balance\n",
    "    \n",
    "    def withdraw(self, amount):\n",
    "        self.balance -= amount\n",
    "    \n",
    "class SavingsAccount(BankAccount):\n",
    "    # Constructor specifically for SavingsAccount class with additional\n",
    "    # parameter.\n",
    "    def __init__(self, balance, interest_rate):\n",
    "        # Set the balance attribute. There are at least three ways to do this.\n",
    "        # Do involve calling the constructor of the parent class.\n",
    "        BankAccount.__init__(self, balance)\n",
    "        # or:\n",
    "        # super().__init__(self, balance))\n",
    "        # or duplicate the code:\n",
    "        # self.balance = balance\n",
    "        self.interest_rate = interest_rate\n",
    "\n",
    "acct = SavingsAccount(1000, 0.03)\n",
    "print(acct.interest_rate)"
   ]
  },
  {
   "cell_type": "markdown",
   "id": "d2ff09d7-e79b-42ca-943e-12fd1beea803",
   "metadata": {},
   "source": [
    "#### Adding Functionality (Example)"
   ]
  },
  {
   "cell_type": "code",
   "execution_count": null,
   "id": "606cb9ef-e498-491b-9e70-df077acef8fd",
   "metadata": {},
   "outputs": [],
   "source": [
    "# Clean up old objects.\n",
    "del BankAccount\n",
    "del SavingsAccount\n",
    "del acct"
   ]
  },
  {
   "cell_type": "code",
   "execution_count": null,
   "id": "936ec7d8-79e2-447b-beec-60d6e49e961d",
   "metadata": {},
   "outputs": [],
   "source": [
    "# Add functionality to the subclass with a new method.\n",
    "class BankAccount:\n",
    "    def __init__(self, balance):\n",
    "        self.balance = balance\n",
    "    \n",
    "    def withdraw(self, amount):\n",
    "        self.balance -= amount\n",
    "    \n",
    "class SavingsAccount(BankAccount):\n",
    "    # Constructor specifically for SavingsAccount class with additional\n",
    "    # parameter.\n",
    "    def __init__(self, balance, interest_rate):\n",
    "        # Set the balance attribute. There are at least three ways to do this.\n",
    "        # Do involve calling the constructor of the parent class.\n",
    "        BankAccount.__init__(self, balance)\n",
    "        # or:\n",
    "        # super().__init__(self, balance))\n",
    "        # or duplicate the code:\n",
    "        # self.balance = balance\n",
    "        self.interest_rate = interest_rate\n",
    "    \n",
    "    def compute_interest(self, n_periods=1):\n",
    "        return self.balance * ((1 + self.interest_rate) ** n_periods - 1)\n",
    "\n",
    "acct = SavingsAccount(1000, 0.03)\n",
    "print(acct.interest_rate)\n",
    "print(acct.compute_interest(2))"
   ]
  },
  {
   "cell_type": "markdown",
   "id": "4473eb55-f34b-4e08-8c0a-2c8a87c70aaf",
   "metadata": {},
   "source": [
    "#### Customizing Functionality (Example)\n",
    "\n",
    "Create a CheckingAccount class with a slightly different `.withdraw()` method."
   ]
  },
  {
   "cell_type": "code",
   "execution_count": null,
   "id": "d5279f08-95bf-44d9-8686-3bfb9bbfb866",
   "metadata": {},
   "outputs": [],
   "source": [
    "# Clean up old objects.\n",
    "del BankAccount\n",
    "del SavingsAccount\n",
    "del acct"
   ]
  },
  {
   "cell_type": "code",
   "execution_count": null,
   "id": "36b4cd81-434e-4749-b3ea-d0773e37ec65",
   "metadata": {},
   "outputs": [],
   "source": [
    "# Customize functionality in a new subclass; this limits the amount of\n",
    "# money that can be withdrawn from a checking account and that applies a\n",
    "# fee when a check is written.\n",
    "# None of this code calls .super().\n",
    "# Note that we can change the signature of the method in the subclass by\n",
    "# adding parameters.\n",
    "class BankAccount:\n",
    "    def __init__(self, balance):\n",
    "        self.balance = balance\n",
    "    \n",
    "    def withdraw(self, amount):\n",
    "        self.balance -= amount\n",
    "    \n",
    "class SavingsAccount(BankAccount):\n",
    "    # Constructor specifically for SavingsAccount class with additional\n",
    "    # parameter.\n",
    "    def __init__(self, balance, interest_rate):\n",
    "        # Set the balance attribute. There are at least three ways to do this.\n",
    "        # Do involve calling the constructor of the parent class.\n",
    "        BankAccount.__init__(self, balance)\n",
    "        # or:\n",
    "        # super().__init__(self, balance))\n",
    "        # or duplicate the code:\n",
    "        # self.balance = balance\n",
    "        self.interest_rate = interest_rate\n",
    "    \n",
    "    def compute_interest(self, n_periods=1):\n",
    "        return self.balance * ((1 + self.interest_rate) ** n_periods - 1)\n",
    "\n",
    "class CheckingAccount(BankAccount):\n",
    "    def __init__(self, balance, limit):\n",
    "        BankAccount.__init__(self, balance)\n",
    "        self.limit = limit\n",
    "    \n",
    "    def deposit(self, amount):\n",
    "        self.balance += amount\n",
    "    \n",
    "    # This code doesn't make sense to me.\n",
    "    def withdraw(self, amount, fee=0):\n",
    "        if fee < self.limit:\n",
    "            BankAccount.withdraw(self, amount + fee)\n",
    "        else:\n",
    "            BankAccount.withdraw(self, amount + self.limit)\n",
    "\n",
    "# This is an application of polymorphism.\n",
    "# The interface for .withdraw() is the same for these classes, but the method\n",
    "# called is determined by the class of the object.\n",
    "# We can call the .withdraw() method for a CheckingAccount with two\n",
    "# parameters, which we can't do for the other two account types.\n",
    "check_account = CheckingAccount(1000, 25)\n",
    "check_account.withdraw(200, 15)\n",
    "print(check_account.balance)\n",
    "\n",
    "bank_account = BankAccount(1000)\n",
    "bank_account.withdraw(200)\n",
    "print(bank_account.balance)\n",
    "\n",
    "savings_account = SavingsAccount(1000, 0.03)\n",
    "savings_account.withdraw(200)\n",
    "print(savings_account.balance)\n",
    "\n"
   ]
  },
  {
   "cell_type": "markdown",
   "id": "465b6628-3b18-4f66-a2d6-5514ec3f081c",
   "metadata": {},
   "source": [
    "#### Method Inheritance (Exercise)"
   ]
  },
  {
   "cell_type": "code",
   "execution_count": null,
   "id": "b8055abc-ee74-4fb1-bcad-36c927f276e0",
   "metadata": {},
   "outputs": [],
   "source": [
    "# Clean up old objects.\n",
    "del Employee\n",
    "del Manager"
   ]
  },
  {
   "cell_type": "code",
   "execution_count": null,
   "id": "946b2086-dc2f-4d28-8af1-672c4e242fda",
   "metadata": {},
   "outputs": [],
   "source": [
    "# Add new data, project, to the code.\n",
    "# Customize the give_raise() method to add a percentage for managers.\n",
    "class Employee:\n",
    "    def __init__(self, name, salary=30000):\n",
    "        self.name = name\n",
    "        self.salary = salary\n",
    "\n",
    "    def give_raise(self, amount):\n",
    "        self.salary += amount\n",
    "\n",
    "class Manager(Employee):\n",
    "    def display(self):\n",
    "        print(\"Manager \", self.name)\n",
    "\n",
    "    def __init__(self, name, salary=50000, project=None):\n",
    "        Employee.__init__(self, name, salary)\n",
    "        self.project = project\n",
    "\n",
    "    # Add a give_raise method\n",
    "    def give_raise(self, amount, bonus=1.05):\n",
    "        Employee.give_raise(self, amount * bonus)\n",
    "\n",
    "mngr = Manager(\"Ashta Dunbar\", 78500)\n",
    "mngr.give_raise(1000)\n",
    "print(mngr.salary)\n",
    "mngr.give_raise(2000, bonus=1.03)\n",
    "print(mngr.salary)"
   ]
  },
  {
   "cell_type": "markdown",
   "id": "a86de9c6-d885-427a-8272-16b128b05ee4",
   "metadata": {},
   "source": [
    "#### Inheritance of Class Attributes (Exercise)"
   ]
  },
  {
   "cell_type": "code",
   "execution_count": null,
   "id": "9c0cf81a-0882-42ad-a801-0fb204f314e9",
   "metadata": {},
   "outputs": [],
   "source": [
    "# Class attributes can be inherited but overwritten.\n",
    "# Create a Racer class and set MAX_SPEED to 5.\n",
    "class Player:\n",
    "    MAX_POSITION = 10\n",
    "    MAX_SPEED = 3\n",
    "    \n",
    "    def __init__(self):\n",
    "        self.position = 0\n",
    "\n",
    "    # Add a move() method with steps parameter\n",
    "    def move(self, steps):\n",
    "        if steps > Player.MAX_SPEED:\n",
    "            adj_steps = Player.MAX_SPEED\n",
    "        else:\n",
    "            adj_steps = steps\n",
    "        if self.position + adj_steps < Player.MAX_POSITION:\n",
    "            self.position += adj_steps\n",
    "        else:\n",
    "            self.position = Player.MAX_POSITION\n",
    "\n",
    "    # This method provides a rudimentary visualization in the console    \n",
    "    def draw(self):\n",
    "        drawing = \"-\" * self.position + \"|\" + \"-\" * (Player.MAX_POSITION - self.position)\n",
    "        print(drawing)\n",
    "\n",
    "class Racer(Player):\n",
    "    MAX_SPEED = 5\n",
    "\n",
    "# Create a Player and a Racer objects\n",
    "p = Player()\n",
    "r = Racer()\n",
    "\n",
    "print(\"p.MAX_SPEED = \", p.MAX_SPEED)\n",
    "print(\"r.MAX_SPEED = \", r.MAX_SPEED)\n",
    "\n",
    "print(\"p.MAX_POSITION = \", p.MAX_POSITION)\n",
    "print(\"r.MAX_POSITION = \", r.MAX_POSITION)"
   ]
  },
  {
   "cell_type": "markdown",
   "id": "70f228a5-4bc2-454d-951b-d9bed1c934a1",
   "metadata": {},
   "source": [
    "The following statement is correct.\n",
    "\n",
    "Class attributes *can* be inherited, and the value of class attributes *can* be overwritten in the child class."
   ]
  },
  {
   "cell_type": "markdown",
   "id": "3243c063-7112-4f54-9eb6-d19fa60661a9",
   "metadata": {},
   "source": [
    "#### Customizing a DataFrame (Exercise)\n",
    "\n",
    "> Tip: all DataFrame methods have many parameters, and it is not sustainable to copy all of them for each method you're customizing. The trick is to use variable-length arguments `*args` and `**kwargs` to catch all of them."
   ]
  },
  {
   "cell_type": "code",
   "execution_count": null,
   "id": "136f3b34-1e8b-408e-b0c7-11f439b54fe2",
   "metadata": {},
   "outputs": [],
   "source": [
    "# This is especially good!\n",
    "# Customize the pandas.DataFrame class by creating subclass named\n",
    "# LoggedDF that has a created_at attribute storing the creation\n",
    "# timestamp. Augment the standard to_csv() method inherited from\n",
    "# pandas.DataFrame to always include a column storing the creation date.\n",
    "# Use *args and **kwargs to catch all parameters.\n",
    "# For use of *args and **kwargs, review Writing Python Functions.\n",
    "class LoggedDF(pd.DataFrame):\n",
    "    def __init__(self, *args, **kwargs):\n",
    "        pd.DataFrame.__init__(self, *args, **kwargs)\n",
    "        self.created_at = datetime.datetime.today()\n",
    "\n",
    "    def to_csv(self, *args, **kwargs):\n",
    "        # Copy self to a temporary DataFrame\n",
    "        temp = self.copy()\n",
    "    \n",
    "        # Create a new column filled with self.created at\n",
    "        temp[\"created_at\"] = self.created_at\n",
    "    \n",
    "        # Call pd.DataFrame.to_csv on temp with *args and **kwargs and\n",
    "        # return the result.\n",
    "        return pd.DataFrame.to_csv(temp, *args, **kwargs)\n",
    "\n",
    "# Test a pd.DataFrame object:\n",
    "df = pd.DataFrame({\"col1\": [5, 6], \"col2\": [7, 8]})\n",
    "print(\"df.values:\", df.values)\n",
    "print(\"CSV:\", df.to_csv())\n",
    "print()\n",
    "\n",
    "# Test a LoggedDF object:\n",
    "ldf = LoggedDF({\"col1\": [1,2], \"col2\": [3,4]})\n",
    "print(\"ldf.values:\", ldf.values)\n",
    "print(\"ldf.created_at:\", ldf.created_at)\n",
    "print(\"CSV:\", ldf.to_csv())"
   ]
  },
  {
   "cell_type": "markdown",
   "id": "b4fcfd3f-a28b-40ca-9372-0109bf3179cd",
   "metadata": {},
   "source": [
    "## Integrating with Standard Python\n",
    "\n",
    "### Operator Overloading: Comparison\n",
    "\n",
    "When comparing two objects of a custom class using `==`, Python by default compares just the object references, not the data contained in the objects. \n",
    "\n",
    "#### Object Equality (Example)"
   ]
  },
  {
   "cell_type": "code",
   "execution_count": null,
   "id": "4a4d10dd-2a89-4e82-930d-3d0140561601",
   "metadata": {},
   "outputs": [],
   "source": [
    "# Compare two objects that contain equivalent attributes.\n",
    "# We need a way to identify these as equal.\n",
    "class Customer:\n",
    "    def __init__(self, name, balance, id):\n",
    "        self.name = name\n",
    "        self.balance = balance\n",
    "        self.id = 123\n",
    "\n",
    "customer1 = Customer(\"Maryam Azar\", 3000, 123)\n",
    "customer2 = Customer(\"Maryam Azar\", 3000, 123)\n",
    "print(customer1 == customer2)\n",
    "print(customer1)\n",
    "print(customer2)"
   ]
  },
  {
   "cell_type": "markdown",
   "id": "756eff53-27bd-4338-a900-e203255e6908",
   "metadata": {},
   "source": [
    "#### Custom Comparison (Example)\n",
    "\n",
    "The example given by the course is erroneous; comparison of NumPy arrays is not as demonstrated."
   ]
  },
  {
   "cell_type": "code",
   "execution_count": null,
   "id": "a30ea44d-5ecc-4346-83e2-70f3a9c2d5aa",
   "metadata": {},
   "outputs": [],
   "source": [
    "# Numpy arrays are compared using their data, not their memory references.\n",
    "array1 = np.array([1, 2, 3])\n",
    "array2 = np.array([1, 2, 3])\n",
    "# This returns [True, True, True].\n",
    "print(\"array1 == array2: {}\".format(array1 == array2))\n",
    "# See https://stackoverflow.com/questions/10580676/comparing-two-numpy-arrays-for-equality-element-wise,\n",
    "# For comparing numpy arrays, use this:\n",
    "print(\"np.array_equal(array1, array2): {}\".format(np.array_equal(array1, array2)))\n",
    "print(\"np.all(array1 == array2): {}\".format(np.all(array1 == array2)))"
   ]
  },
  {
   "cell_type": "markdown",
   "id": "33f9b288-4e99-444d-bb8c-fb626f608550",
   "metadata": {},
   "source": [
    "#### Overloading `__eq__()` (Example)"
   ]
  },
  {
   "cell_type": "code",
   "execution_count": null,
   "id": "622818d3-1271-423c-a676-7308b6c46ef4",
   "metadata": {},
   "outputs": [],
   "source": [
    "# Overloading __eq__().\n",
    "class Customer:\n",
    "    def __init__(self, id, name):\n",
    "        self.id = id\n",
    "        self.name = name\n",
    "    def __eq__(self, other):\n",
    "        logger.debug(\"__eq__() is called\")\n",
    "        return (self.id == other.id and self.name == other.name)\n",
    "\n",
    "customer1 = Customer(123, \"Maryam Azar\")\n",
    "customer2 = Customer(123, \"Maryam Azar\")\n",
    "print(\"customer1 == customer2: {}\".format(customer1 == customer2))\n",
    "\n",
    "customer3 = Customer(456, \"Maryam Azar\")\n",
    "print(\"customer1 == customer3: {}\".format(customer1 == customer3))"
   ]
  },
  {
   "cell_type": "markdown",
   "id": "a3f4f1e4-7826-4e18-abe4-80783e664a8f",
   "metadata": {},
   "source": [
    "Special methods are available for other comparison operators:\n",
    "\n",
    "| Operator | Method |\n",
    "| :--- | :--- |\n",
    "| `==` | `__eq__()` |\n",
    "| `!=` | `__ne__()` |\n",
    "| `>=` | `__ge__()` |\n",
    "| `<=` | `__le__()` |\n",
    "| `>`  | `__gt__()` |\n",
    "| `<`  | `__lt__()` |\n",
    "\n",
    "The special `__hash__()` method allows use of an object as a dictionary key or as a member of a set. This function is useful only for immutable objects."
   ]
  },
  {
   "cell_type": "markdown",
   "id": "c7437814-8049-463f-a6db-2ebad8095843",
   "metadata": {},
   "source": [
    "#### Overloading Equality (Exercise)"
   ]
  },
  {
   "cell_type": "code",
   "execution_count": null,
   "id": "5d09a4ea-ad7f-4205-8d25-8773233159b9",
   "metadata": {},
   "outputs": [],
   "source": [
    "# Add __eq__() to class BankAccount.\n",
    "# Notice that the method compares just the account numbers, but not balances.\n",
    "# What would happen if two accounts have the same account number but different\n",
    "# balances? The code you wrote will treat these accounts as equal, but it\n",
    "# might be better to throw an error - an exception - instead, informing the\n",
    "# user that something is wrong.\n",
    "\n",
    "class BankAccount:\n",
    "    def __init__(self, number, balance=0):\n",
    "        self.number = number\n",
    "        self.balance = balance\n",
    "      \n",
    "    def withdraw(self, amount):\n",
    "        self.balance -= amount \n",
    "    \n",
    "    # Define __eq__ that returns True if the number attributes are equal \n",
    "    def __eq__(self, other):\n",
    "        return self.number == other.number   \n",
    "\n",
    "# Create accounts and compare them       \n",
    "acct1 = BankAccount(123, 1000)\n",
    "acct2 = BankAccount(123, 1000)\n",
    "acct3 = BankAccount(456, 1000)\n",
    "print(acct1 == acct2)\n",
    "print(acct1 == acct3)"
   ]
  },
  {
   "cell_type": "markdown",
   "id": "ab6c532f-8523-4b7e-9060-17d55a5547df",
   "metadata": {},
   "source": [
    "#### Checking Class Equality (Exercise)\n",
    "\n",
    "When checking object equality, check that both objects are members of the same class."
   ]
  },
  {
   "cell_type": "code",
   "execution_count": null,
   "id": "6a188ee4-8c79-4a6f-b03a-c58d93141d96",
   "metadata": {},
   "outputs": [],
   "source": [
    "# Check class equality.\n",
    "class Phone:\n",
    "    def __init__(self, number):\n",
    "        self.number = number\n",
    "\n",
    "    def __eq__(self, other):\n",
    "        return self.number == other.number\n",
    "\n",
    "pn = Phone(873555333)\n",
    "\n",
    "class BankAccount:\n",
    "    def __init__(self, number, balance=0):\n",
    "        self.number, self.balance = number, balance\n",
    "      \n",
    "    def withdraw(self, amount):\n",
    "        self.balance -= amount \n",
    "\n",
    "    def __eq__(self, other):\n",
    "        return (type(self) == type(other) and self.number == other.number)\n",
    "\n",
    "acct = BankAccount(873555333)\n",
    "pn = Phone(873555333)\n",
    "print(acct == pn)"
   ]
  },
  {
   "cell_type": "markdown",
   "id": "16ae6a82-e163-4711-bfc0-5a492717e280",
   "metadata": {},
   "source": [
    "#### Comparison and Inheritance (Exercise)\n",
    "\n",
    "Python always calls the child's `__eq__()` method when comparing a child object to a parent object."
   ]
  },
  {
   "cell_type": "code",
   "execution_count": null,
   "id": "50c6ce85-5a6d-4256-b9ca-5873ff2dce9e",
   "metadata": {},
   "outputs": [],
   "source": [
    "# Test comparison of parent and child classes.\n",
    "class Parent:\n",
    "    def __eq__(self, other):\n",
    "        logger.debug(\"Parent's __eq__() called\")\n",
    "        return True\n",
    "    \n",
    "class Child(Parent):\n",
    "    def __eq__(self, other):\n",
    "        logger.debug(\"Child's __eq__() called\")\n",
    "        return True\n",
    "\n",
    "p = Parent()\n",
    "c = Child()\n",
    "print(\"p == c:\", p == c)\n",
    "print(\"c == p:\", c == p)\n",
    "print(\"p == p:\", p == p)\n",
    "print(\"c == c:\", c == c)"
   ]
  },
  {
   "cell_type": "markdown",
   "id": "f0e8fdcf-0dc9-41a9-b60d-a39e57d0fc82",
   "metadata": {},
   "source": [
    "### Operator Overloading: String Representation\n",
    "\n",
    "#### `__str__()` and `__repr__()` (Example)\n",
    "\n",
    "`str()` gives an informal representation; `repr()` gives a formal representation. `__str__()` is called by `print()` and `str()`. `__repr__()` is called by `repr()` and for display by the console (where `repr` stands for \"reproducible representation\"). If `__str__()` is not defined, `print()` falls back to using `__repr__()`."
   ]
  },
  {
   "cell_type": "code",
   "execution_count": null,
   "id": "b6abd994-ca02-4fe4-a656-436d33b29d91",
   "metadata": {},
   "outputs": [],
   "source": [
    "class Customer:\n",
    "    def __init__(self, name, balance):\n",
    "        self.name, self.balance = name, balance\n",
    "    \n",
    "    def __str__(self):\n",
    "        cust_str = \"\"\"\n",
    "        Customer:\n",
    "            name: {name}\n",
    "            balance: {balance}\n",
    "        \"\"\".format(name=self.name, balance=self.balance)\n",
    "        return cust_str\n",
    "    \n",
    "    def __repr__(self):\n",
    "        return \"Customer('{name}', {balance})\".format(\n",
    "            name=self.name, balance=self.balance)\n",
    "\n",
    "cust = Customer(\"Maryam Azar\", 3000)\n",
    "print(cust)\n",
    "print(repr(cust))\n",
    "print()\n",
    "cust = Customer(\"Neil Stephenson\", \"400000\")\n",
    "print(cust)\n",
    "print(repr(cust))"
   ]
  },
  {
   "cell_type": "markdown",
   "id": "c84b2fe3-5186-4b0c-8e10-b37668af8ded",
   "metadata": {},
   "source": [
    "#### String Formatting Review (Exercise)"
   ]
  },
  {
   "cell_type": "code",
   "execution_count": null,
   "id": "8510821f-e0a1-43bc-85f9-128a86964216",
   "metadata": {},
   "outputs": [],
   "source": [
    "# Format strings four different ways.\n",
    "my_num = 5\n",
    "my_str = \"Hello\"\n",
    "\n",
    "f = \"my_num is {0}, and my_str is {1}.\".format(my_num, my_str)\n",
    "print(f)\n",
    "print()\n",
    "\n",
    "f = \"my_num is {}, and my_str is \\\"{}\\\".\".format(my_num, my_str)\n",
    "print(f)\n",
    "print()\n",
    "\n",
    "f = \"my_num is {n}, and my_str is '{s}'.\".format(n=my_num, s=my_str)\n",
    "print(f)\n",
    "print()\n",
    "\n",
    "f = \"my_num is {my_num}, and my_str is '{my_str}'.\".format(**{\"my_num\": my_num, \"my_str\": my_str})\n",
    "print(f)"
   ]
  },
  {
   "cell_type": "markdown",
   "id": "30bf1db8-b2a2-4185-87fc-7c4b7d5b7b58",
   "metadata": {},
   "source": [
    "#### String Representation of Objects (Exercise)"
   ]
  },
  {
   "cell_type": "code",
   "execution_count": null,
   "id": "66fc82fe-572d-4f2e-ba1d-00a14465d6fc",
   "metadata": {},
   "outputs": [],
   "source": [
    "# Define the __str__ and __repr__ methods of a class.\n",
    "class Employee:\n",
    "    def __init__(self, name, salary=30000):\n",
    "        self.name, self.salary = name, salary\n",
    "\n",
    "    def __str__(self):\n",
    "        s = \"Employee name: {name}\\nEmployee salary: {salary}\".format(\n",
    "            name=self.name, salary=self.salary)      \n",
    "        return s\n",
    "      \n",
    "    def __repr__(self):\n",
    "        s = 'Employee(\"{}\", {})'.format(self.name, self.salary)\n",
    "        return s\n",
    "\n",
    "emp1 = Employee(\"Amar Howard\", 30000)\n",
    "print(emp1)\n",
    "print(repr(emp1))\n",
    "emp2 = Employee(\"Carolyn Ramirez\", 35000)\n",
    "print(emp2)\n",
    "print(repr(emp2))"
   ]
  },
  {
   "cell_type": "markdown",
   "id": "79efae7c-a531-4d17-b584-998913d0de7d",
   "metadata": {
    "tags": []
   },
   "source": [
    "### Exceptions\n",
    "\n",
    "You might want to prevent the program from terminating when an exception is raised.\n",
    "\n",
    "```Python\n",
    "try:\n",
    "    # Try running some code.\n",
    "except ExceptionNameHere:\n",
    "    # Run this code if ExceptionNameHere happens.\n",
    "except AnotherExceptionNameHere: # <-- optional: multiple exception blocks\n",
    "    # Run this code if AnotherExceptionNameHere happens.\n",
    "finally: # <-- optional\n",
    "    # Run this code no matter what; this is best used for cleaning up\n",
    "```"
   ]
  },
  {
   "cell_type": "markdown",
   "id": "12e57aa9-9e08-4706-936f-df263e43bd18",
   "metadata": {},
   "source": [
    "#### Raising Exceptions (Example)\n",
    "\n",
    "See https://docs.python.org/3/library/exceptions.html for the hierarchy of exception classes."
   ]
  },
  {
   "cell_type": "code",
   "execution_count": null,
   "id": "e9ffe7b3-d2a7-4dd4-be9a-d9862587ddf3",
   "metadata": {},
   "outputs": [],
   "source": [
    "# Raise an exception when the value is not valid.\n",
    "def make_list_of_ones(length):\n",
    "    if length <= 0:\n",
    "        raise ValueError(\"Invalid length!\")\n",
    "    else:\n",
    "        return [1] * length\n",
    "\n",
    "print(make_list_of_ones(4))\n",
    "try:\n",
    "    make_list_of_ones(-1)\n",
    "except ValueError:\n",
    "    print(\"ValueError exception caught\")"
   ]
  },
  {
   "cell_type": "markdown",
   "id": "101ec653-90ab-4384-b031-f9b4f1d51e98",
   "metadata": {},
   "source": [
    "#### Custom Exceptions (Example)\n",
    "\n",
    "Create exceptions by defining a class that inherits from Exception or one of its subclasses. The class can usually be empty; inheritance alone is usually sufficient."
   ]
  },
  {
   "cell_type": "code",
   "execution_count": null,
   "id": "893a6a21-00be-411f-ade5-919060157628",
   "metadata": {},
   "outputs": [],
   "source": [
    "# Create and use a custom exception class.\n",
    "class BalanceError(Exception):\n",
    "    pass\n",
    "\n",
    "class Customer:\n",
    "    def __init__(self, name, balance):\n",
    "        if balance < 0:\n",
    "            raise BalanceError(\"Balance has to be non-negative\")\n",
    "        else:\n",
    "            self.name = name\n",
    "            self.balance = balance\n",
    "\n",
    "cust1 = Customer(\"Maryam Azar\", 3000)\n",
    "\n",
    "# cust2 is not created if an exception is raised.\n",
    "try:\n",
    "    cust3 = Customer(\"Larry Torres\", -100)\n",
    "except BalanceError as exc:\n",
    "    print(exc)\n",
    "\n",
    "try:\n",
    "    print(cust3.name)\n",
    "except Exception as exc:\n",
    "    print(exc)\n",
    "\n",
    "# Catching custom exceptions:\n",
    "# Here, one option is to create a customer with a balance of 0 when an \n",
    "# exception occurs.\n",
    "print()\n",
    "try:\n",
    "    cust3 = Customer(\"Larry Torres\", -100)\n",
    "except BalanceError:\n",
    "    cust3 = Customer(\"Larry Torres\", 0)\n",
    "print(cust3.name)\n",
    "print(cust3.balance)"
   ]
  },
  {
   "cell_type": "markdown",
   "id": "e1dc0741-9d96-4d34-9490-a0623ba626d3",
   "metadata": {},
   "source": [
    "#### Catching Exceptions (Exercise)"
   ]
  },
  {
   "cell_type": "code",
   "execution_count": null,
   "id": "9a3e986d-6042-4cef-86d6-287ec1575c3f",
   "metadata": {},
   "outputs": [],
   "source": [
    "def invert_at_index(x, ind):\n",
    "    try:\n",
    "        return 1 / x[ind]\n",
    "    except ZeroDivisionError:\n",
    "        print(\"Cannot divide by zero!\")\n",
    "    except IndexError:\n",
    "        print(\"Index out of range!\")\n",
    "\n",
    "a = [5, 6, 0, 7]\n",
    "\n",
    "# Works okay\n",
    "print(invert_at_index(a, 1))\n",
    "\n",
    "# Potential ZeroDivisionError\n",
    "print(invert_at_index(a, 2))\n",
    "\n",
    "# Potential IndexError\n",
    "print(invert_at_index(a, 5))"
   ]
  },
  {
   "cell_type": "markdown",
   "id": "6049f418-c080-48c5-bda1-b649675bb0e2",
   "metadata": {},
   "source": [
    "#### Custom Exceptions (Exercise)"
   ]
  },
  {
   "cell_type": "code",
   "execution_count": null,
   "id": "53f56f43-cb61-475f-9d23-13d6b19a4c1c",
   "metadata": {},
   "outputs": [],
   "source": [
    "# Create new exceptions by creating subclasses.\n",
    "class SalaryError(ValueError):\n",
    "    pass\n",
    "class BonusError(SalaryError):\n",
    "    pass\n",
    "\n",
    "class Employee:\n",
    "    MIN_SALARY = 30000\n",
    "    MAX_BONUS = 5000\n",
    "\n",
    "    def __init__(self, name, salary = 30000):\n",
    "        self.name = name    \n",
    "        if salary < Employee.MIN_SALARY:\n",
    "            raise SalaryError(\"Salary is too low!\")      \n",
    "        self.salary = salary\n",
    "    \n",
    "    def give_bonus(self, amount):\n",
    "        if amount > Employee.MAX_BONUS:\n",
    "            raise BonusError(\"The bonus amount is too high!\")   \n",
    "        elif self.salary + amount <  Employee.MIN_SALARY:\n",
    "            raise SalaryError(\"The salary after bonus is too low!\")\n",
    "        else:  \n",
    "            self.salary += amount\n",
    "\n",
    "# Test the classes.\n",
    "try:\n",
    "    emp1 = Employee(\"Maryam Azar\", 5000)\n",
    "except ValueError as exc:\n",
    "    print(exc)\n",
    "\n",
    "emp2 = Employee(\"Maryam Azar\", 45000)\n",
    "try:\n",
    "    emp2.give_bonus(10000)\n",
    "except BonusError as exc:\n",
    "    print(exc)"
   ]
  },
  {
   "cell_type": "markdown",
   "id": "6aae8fe7-6ebf-497f-b7d4-63ff73466585",
   "metadata": {},
   "source": [
    "#### Handling Exception Hierarchies (Exercise)"
   ]
  },
  {
   "cell_type": "code",
   "execution_count": null,
   "id": "ac6fd6fb-8aa5-49c5-9cdc-86dd999a5a5b",
   "metadata": {},
   "outputs": [],
   "source": [
    "# An exception handler for the parent class will handle exceptions\n",
    "# from the child class (but not vice versa). It is better to list the\n",
    "# except blocks in the increasing order of specificity.\n",
    "# Here, BonusError is subclassed from SalaryError.\n",
    "emp = Employee(\"Katze Rik\", salary=50000)\n",
    "try:\n",
    "    emp.give_bonus(7000)\n",
    "except SalaryError:\n",
    "    print(\"SalaryError caught!\")\n",
    "\n",
    "try:\n",
    "    emp.give_bonus(7000)\n",
    "except BonusError:\n",
    "    print(\"BonusError caught!\")\n",
    "\n",
    "try:\n",
    "    emp.give_bonus(-100000)\n",
    "except SalaryError:\n",
    "    print(\"SalaryError caught again!\")\n",
    "\n",
    "# This fails; except block for child exception will not catch\n",
    "# the parent exception.\n",
    "try:\n",
    "    try:\n",
    "        emp.give_bonus(-100000)\n",
    "    except BonusError:\n",
    "        print(\"BonusError caught again!\")\n",
    "except Exception as exc:\n",
    "    print(exc)\n",
    "\n",
    "# Try using two exception blocks to catch a BonusError exception.\n",
    "# Which order works best?\n",
    "\n",
    "# Test for parent exception, then child exception. This doesn't give a good\n",
    "# result.\n",
    "print()\n",
    "try:\n",
    "    emp.give_bonus(7000)\n",
    "except SalaryError:\n",
    "    print(\"SalaryError caught\")\n",
    "except BonusError:\n",
    "    print(\"BonusError caught\")\n",
    "\n",
    "# Test for child exception first; this is what we want.\n",
    "print()\n",
    "try:\n",
    "    emp.give_bonus(7000)\n",
    "except BonusError:\n",
    "    print(\"BonusError caught\")\n",
    "except SalaryError:\n",
    "    print(\"SalaryError caught\")"
   ]
  },
  {
   "cell_type": "markdown",
   "id": "44f1d8cc-f52d-499b-8e0a-6b8093d377e3",
   "metadata": {},
   "source": [
    "## Best Practices in Class Design\n",
    "\n",
    "### Designing for Inheritance and Polymorphism\n",
    "\n",
    "Polymorphism means using a unified interface to operate on objects of different classes. In Chapter 2, we defined a `BankAccount` class and two classes inherited from it, a `CheckingAccount` class and a `SavingsAccount` class. All three classes had a `withdraw()` method, but the code was different for the `CheckingAccount` class.\n",
    "\n",
    "All that matters is the interface. The function below doesn't need to know what object types it's dealing with; each object simply requires a `withdraw()` method that accepts an `amount` parameter.\n",
    "\n",
    "```Python\n",
    "def batch_withdraw(list_of_accounts, amount):\n",
    "    for acct in list_of_accounts:\n",
    "        acct.withdraw(amount)\n",
    "\n",
    "b, c, s = BankAccount(1000), CheckingAccount(2000), SavingsAccount(3000)\n",
    "batch_withdraw([b, c, s])\n",
    "```\n",
    "\n",
    "> To really make use of this idea [using inheritance and polymorphism], you have to design your classes with inheritance and polymorphism - the uniformity of interface - in mind.\n",
    "\n",
    "The Liskov Substitution Principle (LSP), named for Barbara Liskov, states: A base class should be interchangeable with any of its subclasses without altering any properties of the program. In our example, wherever `BankAccount` works, `CheckingAccount` should work as well. This should be true both syntactically and semantically.\n",
    "\n",
    "- Syntactically:\n",
    "  - function signature are campatible\n",
    "    - arguments, returned values\n",
    "- Semantically:\n",
    "  - the state of the object and the program remains consistent\n",
    "    - subclass method doesn't strengthen input conditions\n",
    "    - subclass method doesn't weaken output conditions\n",
    "    - subclass method doesn't raise additional exceptions\n",
    "\n",
    "These are examples of violating Liskov Substitution Principle for our account classes:\n",
    "\n",
    "- Syntactic incompatibility\n",
    "  - `BankAccount.withdraw()` requires one parameter, but `CheckingAccount.withdraw()` requires two. But if the subclass has a default value for the second parameter, then there is no problem.\n",
    "  \n",
    "- Semantic incompatibility\n",
    "  - Sublcass strengthening input conditions\n",
    "    - `BankAccount.withdraw()` accepts any amount, but `CheckingAccount.withdraw()` assumes that the amount is limited.\n",
    "  - Subclass weakening output conditions\n",
    "    - `BankAccount.withdraw()` can leave only a positive balance or cause an error; `CheckingAccount.withdraw()` can leave balance negative.\n",
    "    \n",
    "Other ways of violating LSP:\n",
    "- Changing additional attributes in a subclass's method\n",
    "- Throwing additional exceptions in a subclass's method\n",
    "\n",
    "If you can't maintain the Liskov Substitution Principle, you should not use inheritance, because that can lead to unpredictable behavior."
   ]
  },
  {
   "cell_type": "markdown",
   "id": "ce294c8a-3d21-444f-953c-2ad61724629b",
   "metadata": {},
   "source": [
    "#### Polymorphic Methods (Exercise)\n",
    "\n",
    "By reading the code, you should be able to predict the output of the code below."
   ]
  },
  {
   "cell_type": "code",
   "execution_count": null,
   "id": "f48d412e-a1e7-432e-83ec-c9596056f7ea",
   "metadata": {},
   "outputs": [],
   "source": [
    "class Parent:\n",
    "    def talk(self):\n",
    "        print(\"Parent talking!\")     \n",
    "\n",
    "class Child(Parent):\n",
    "    def talk(self):\n",
    "        print(\"Child talking!\")          \n",
    "\n",
    "class TalkativeChild(Parent):\n",
    "    def talk(self):\n",
    "        print(\"TalkativeChild talking!\")\n",
    "        Parent.talk(self)\n",
    "\n",
    "\n",
    "p, c, tc = Parent(), Child(), TalkativeChild()\n",
    "\n",
    "for obj in (p, c, tc):\n",
    "    obj.talk()"
   ]
  },
  {
   "cell_type": "markdown",
   "id": "0697d0fe-c994-4360-a043-a5effdfb747c",
   "metadata": {},
   "source": [
    "#### Square-Rectangle Problem (Exercise)\n",
    "\n",
    "This is also known as the Circle-Ellipse problem. Since a square is a rectangle, it seems like it should be possible to define a Rectangle class and have a Square class inherit from it. But Rectangle requires two arguments in the constructor, Square requires one."
   ]
  },
  {
   "cell_type": "code",
   "execution_count": null,
   "id": "0c9a4c27-d8fb-4f56-8030-dbb6fb7e7d87",
   "metadata": {},
   "outputs": [],
   "source": [
    "class Rectangle:\n",
    "    def __init__(self, h, w):\n",
    "        self.h = h\n",
    "        self.w = w\n",
    "    def area(self):\n",
    "        return self.h * self.w\n",
    "\n",
    "class Square(Rectangle):\n",
    "    def __init__(self, w):\n",
    "        Rectangle.__init__(self, w, w)\n",
    "\n",
    "r = Rectangle(2, 4)\n",
    "print(r.h, r.w, r.area())\n",
    "s = Square(3)\n",
    "print(s.h, s.w, s.area())\n",
    "\n",
    "# The problem with both approahes is that we can set h of a square to be\n",
    "# different from w, in which case the square is no longer a square.\n",
    "# So try defining methods set_h() and set(w) in Rectangle and\n",
    "# Square.\n",
    "class Rectangle:\n",
    "    def __init__(self, w, h):\n",
    "        self.w, self.h = w, h\n",
    "\n",
    "# Define set_h to set h       \n",
    "    def set_h(self, h):\n",
    "        self.h = h\n",
    "\n",
    "# Define set_w to set w\n",
    "    def set_w(self, w):\n",
    "        self.w = w   \n",
    "\n",
    "class Square(Rectangle):\n",
    "    def __init__(self, w):\n",
    "        self.w, self.h = w, w \n",
    "\n",
    "# Define set_h to set w and h \n",
    "    def set_h(self, h):\n",
    "        self.h = h\n",
    "        self.w = h\n",
    "\n",
    "# Define set_w to set w and h \n",
    "    def set_w(self, w):\n",
    "        self.w = w   \n",
    "        self.h = w"
   ]
  },
  {
   "cell_type": "markdown",
   "id": "d8a9d6b7-9fa8-427c-87ed-31530e1ce516",
   "metadata": {},
   "source": [
    "The problem here for the Liskov Subtitution Principle is that each of the setter methods of Square change both h and w attributes, while the setter methods of Rectangle change only one attribute at a time. Square objects cannot be substituted for Rectangle objects in programs that rely on one attribute staying constant.\n",
    "\n",
    "An example of a program that would fail when this substitution is made is a unit test for setter functions in class Rectangle. To me, it seems like the problem would be in unit tests for class Square. Anyway, this would be a violation of LSP."
   ]
  },
  {
   "cell_type": "markdown",
   "id": "327405f0-7179-4268-99ab-3a8feefa16a3",
   "metadata": {},
   "source": [
    "### Managing Data Access: Private Attributes\n",
    "\n",
    "All class data is public. We are all adults here. You should trust your fellow developers.\n",
    "\n",
    "Python uses the following for restricting access to data:\n",
    "\n",
    "- Use naming conventions that indicate private data\n",
    "- Use `@property` to customize access\n",
    "- Can override the `__getattr__()` and `__setattr__()` methods\n",
    "\n",
    "Naming Convention: Internal Attributes:\n",
    "- Use a single underscore to indicate an attribute as internal or not part of the public API; \"don't touch this\". For example, `obj._att_name`, `obj._method_name()`. A class developer can use this convention for implementation details and helper functions.\n",
    "- Examples of these are:\n",
    "  - pandas has df._is_mixed_type\n",
    "  - datetime has datetime._ymd2ord()\n",
    "\n",
    "Naming Convention: Pseudoprivate Attributes\n",
    "- For example, `obj.__attr_name`, `obj.__method_name()`\n",
    "- These names start with but don't end with `__`; this indicates private, not inherited attributes\n",
    "- For these names, Python uses name mangling:\n",
    "  - `obj.__attr_name` is interpreted as `obj._MyClass__attr_name`, where `MyClass` is the name of the class.\n",
    "- This is intended to prevent name clashes in inherited classes\n",
    "- Leading and trailing `__` are used only for built-in Python methods. So a name can start with `__` but shouldn't also end with `__`."
   ]
  },
  {
   "cell_type": "markdown",
   "id": "d7a3b8d5-aff1-4b1a-94cd-08e335fd8b0d",
   "metadata": {},
   "source": [
    "#### Attribute Naming Conventions (Exercise)\n",
    "\n",
    "- `_name`: A helper method that checks validity of an attribute's value but isn't considered a part of the class's public interface\n",
    "- `__name`: A 'version' attribute that stores the current version of the class and shouldn't be passed to child classes, which will have their own versions\n",
    "- `__name__`: A function that is run whenever the object is printed (this is referring to `__str__()` and `__repr__()`)"
   ]
  },
  {
   "cell_type": "markdown",
   "id": "9fc5b8a5-72cc-410b-b92a-9e2b875e46ae",
   "metadata": {},
   "source": [
    "#### Using Internal Attributes (Exercise)"
   ]
  },
  {
   "cell_type": "code",
   "execution_count": null,
   "id": "e1e98948-4d87-4fb3-90ee-4faf1dc21d2c",
   "metadata": {},
   "outputs": [],
   "source": [
    "# 12 months per year, 30 days per month.\n",
    "class BetterDate:\n",
    "    _MAX_DAYS = 30\n",
    "    _MAX_MONTHS = 12\n",
    "    \n",
    "    def __init__(self, year, month, day):\n",
    "        self.year, self.month, self.day = year, month, day\n",
    "\n",
    "    @classmethod\n",
    "    def from_str(cls, datestr):\n",
    "        \"\"\"Constructor to create object from a string.\"\"\"\n",
    "        year, month, day = map(int, datestr.split(\"-\"))\n",
    "        return cls(year, month, day)\n",
    "\n",
    "    def _is_valid(self):\n",
    "        \"\"\"Check day and month values.\"\"\"\n",
    "        if self.day <= BetterDate._MAX_DAYS \\\n",
    "        and self.month <= BetterDate._MAX_MONTHS:\n",
    "            return True\n",
    "        else:\n",
    "            return False\n",
    "\n",
    "bd1 = BetterDate(2020, 4, 30)\n",
    "print(bd1._is_valid())\n",
    "\n",
    "bd2 = BetterDate(2020, 6, 45)\n",
    "print(bd2._is_valid())"
   ]
  },
  {
   "cell_type": "markdown",
   "id": "ea540033-4c94-4fca-a45d-32972a39b2c0",
   "metadata": {},
   "source": [
    "### Properties\n",
    "\n",
    "We often need to control attribute access, often to limit the possible values or types that can be assigned to an attribute (validation) or to even make an attribute read-only.\n",
    "\n",
    "#### Changing Attribute Values (Example)"
   ]
  },
  {
   "cell_type": "code",
   "execution_count": null,
   "id": "6d775966-3ff4-41e9-8e34-ee5cc23c58ae",
   "metadata": {},
   "outputs": [],
   "source": [
    "# This code makes it easy to set an attribute to an undesirable value.\n",
    "class Employee:\n",
    "    def set_name(self, name):\n",
    "        self.name = name\n",
    "    def set_salary(self, salary):\n",
    "        self.salary = salary\n",
    "    def give_raise(self, amount):\n",
    "        self.salary += amount\n",
    "    def __init__(self, name, salary):\n",
    "        self.name = name\n",
    "        self.salary = salary\n",
    "\n",
    "# We have unlimited access to object attributes.\n",
    "emp = Employee(\"Miriam Azari\", 35000)\n",
    "emp.salary = emp.salary + 5000"
   ]
  },
  {
   "cell_type": "markdown",
   "id": "5840bdcb-a527-42bd-b6b6-2554d5d7ea94",
   "metadata": {},
   "source": [
    "#### Restricted and Read-Only Attributes (Example)\n",
    "\n",
    "How do we control attribute access? How do we check a value for validity? How do we make attributes read-only? For example, pandas contains examples of restricted and read-only attributes. In a pandas DataFrame, we can't arbitrarily change the number of column names."
   ]
  },
  {
   "cell_type": "code",
   "execution_count": null,
   "id": "9588e8f6-2247-473f-8d26-d2c7cf8978b4",
   "metadata": {},
   "outputs": [],
   "source": [
    "# Try to change some restricted or read-only attributes.\n",
    "df = pd.DataFrame({\"colA\": [1, 2], \"colB\": [3, 4]})\n",
    "print(df)\n",
    "print()\n",
    "# Change the names of the columns. This is allowed.\n",
    "df.columns = [\"new_colA\", \"new_colB\"]\n",
    "print(df)\n",
    "print()\n",
    "\n",
    "# Providing three names for two columns causes an error.\n",
    "try:\n",
    "    df.columns = [\"new_colA\", \"new_colB\", \"extra\"]\n",
    "except ValueError as ex:\n",
    "    traceback.print_exc(limit=1, file=sys.stdout)\n",
    "    # print(traceback.format_exc())\n",
    "    # formatted_lines = traceback.format_exc().splitlines()\n",
    "    # print(formatted_lines[-1])\n",
    "print(df)\n",
    "print()\n",
    "\n",
    "# The shape cannot be changed.\n",
    "print(df.shape)\n",
    "try:\n",
    "    # There is a warning here. See https://docs.python.org/3/library/warnings.html.\n",
    "    df.shape = (43, 27)\n",
    "except AttributeError as ex:\n",
    "    traceback.print_exc(limit=1, file=sys.stdout)\n",
    "    # print(traceback.format_exc())\n",
    "    # formatted_lines = traceback.format_exc().splitlines()\n",
    "    # print(formatted_lines[-1])\n",
    "print(df.shape)"
   ]
  },
  {
   "cell_type": "markdown",
   "id": "976b1ff5-6a85-468e-9896-fc5c2d2a4ac7",
   "metadata": {},
   "source": [
    "#### `@property` (Example)\n",
    "\n",
    "Use the `@property` decorator on a method whose whose name is exactly the name of the restricted attribute; return the internal attribute.\n",
    "\n",
    "Use the `@attr.setter` decorator on a method `attr()` that will be called on `obj.attr = value`.\n",
    "\n",
    "The result is two methods with the same name but different decorators."
   ]
  },
  {
   "cell_type": "code",
   "execution_count": null,
   "id": "216ba4a3-676d-4ab7-ade8-4445d40ec76b",
   "metadata": {},
   "outputs": [],
   "source": [
    "# Using @property.\n",
    "class Employee:\n",
    "    def __init__(self, name, new_salary):\n",
    "        self.name = name\n",
    "        self.salary = new_salary\n",
    "\n",
    "    @property\n",
    "    def salary(self):\n",
    "        return self._salary\n",
    "    \n",
    "    @salary.setter\n",
    "    def salary(self, new_salary):\n",
    "        if new_salary < 0:\n",
    "            raise ValueError(\"Invalid salary\")\n",
    "        self._salary = new_salary\n",
    "\n",
    "emp = Employee(\"Miriam Azari\", 35000)\n",
    "print(emp)\n",
    "print(emp.name)\n",
    "print(emp.salary)\n",
    "emp.salary = 60000\n",
    "print()\n",
    "\n",
    "try:\n",
    "    emp.salary = -1000\n",
    "except ValueError as ex:\n",
    "    traceback.print_exc(limit=1, file=sys.stdout)\n",
    "\n",
    "print()    \n",
    "try:\n",
    "    # Create an Employee object with an invalid salary.\n",
    "    emp2 = Employee(\"Robert Jones\", -10000)\n",
    "except ValueError as ex:\n",
    "    traceback.print_exc(limit=1, file=sys.stdout)"
   ]
  },
  {
   "cell_type": "markdown",
   "id": "d8a8f365-b1fa-4dc9-a327-1886467a34ee",
   "metadata": {},
   "source": [
    "The result is that the user of the class can't distinguish these methods from attributes. However, the developer gains control over the access of the attributes.\n",
    "\n",
    "Other possibilities with properties:\n",
    "- If you don't create a setter (e.g., `@salary.setter`), the property becomes read-only.\n",
    "- Create a getter method for the property for the method that is called when the property's value is retrieved, for example, `@salary.getter`.\n",
    "- Create a deleter method that is called when the property is deleted using the `del` operator (e.g., `del emp.salary`), for example, `@salary.deleter`."
   ]
  },
  {
   "cell_type": "markdown",
   "id": "e9bbbca2-3c4d-4813-96d7-91417a87dfec",
   "metadata": {},
   "source": [
    "#### What Do Properties Do? (Exercise)\n",
    "\n",
    "The following statements are true:\n",
    "- Properties can be used to implement \"read-only\" attributes.\n",
    "- Properties can be accessed using the dot syntax just like attributes.\n",
    "- Properties allow for validation of values that are assigned to them.\n",
    "\n",
    "This statement is false:\n",
    "- Properties can prevent creation of new attributes via assignment."
   ]
  },
  {
   "cell_type": "markdown",
   "id": "7b63b6f5-694b-4c12-8cb1-4f23bf0791a8",
   "metadata": {},
   "source": [
    "#### Create and Set Properties (Exercise)"
   ]
  },
  {
   "cell_type": "code",
   "execution_count": null,
   "id": "fa472666-8a6c-4ce2-b4b0-18099f1458e9",
   "metadata": {},
   "outputs": [],
   "source": [
    "# Use a property for the balance attribute.\n",
    "class Customer:\n",
    "    def __init__(self, name, new_bal):\n",
    "        self.name = name\n",
    "        self.balance = new_bal\n",
    "\n",
    "    @property\n",
    "    def balance(self):\n",
    "        return self._balance\n",
    "\n",
    "    @balance.setter\n",
    "    def balance(self, new_bal):\n",
    "        if new_bal < 0:\n",
    "            raise ValueError(\"Invalid balance!\")\n",
    "        self._balance = new_bal\n",
    "\n",
    "cust = Customer(\"Belinda Lutz\", 2000)\n",
    "cust.balance = 3000\n",
    "print(cust.balance)\n",
    "print()\n",
    "\n",
    "try:\n",
    "    cust.balance = -2000\n",
    "except ValueError as ex:\n",
    "    traceback.print_exc(limit=1, file=sys.stdout)\n",
    "print()\n",
    "\n",
    "try:\n",
    "    cust2 = Customer(\"Martha Roberts\", -1000)\n",
    "except ValueError as ex:\n",
    "    traceback.print_exc(limit=1, file=sys.stdout)\n",
    "print()\n",
    "\n",
    "try:\n",
    "    cust.balance = -1000\n",
    "except ValueError as exc:\n",
    "    traceback.print_exc(limit=1, file=sys.stdout)"
   ]
  },
  {
   "cell_type": "markdown",
   "id": "d08c1eac-3050-414a-88b6-5e890cfe74d5",
   "metadata": {},
   "source": [
    "#### Read-Only Properties (Exercise)"
   ]
  },
  {
   "cell_type": "code",
   "execution_count": null,
   "id": "aeb0536f-55f3-48e1-bd27-ea9c8cd78cd5",
   "metadata": {},
   "outputs": [],
   "source": [
    "class LoggedDF(pd.DataFrame):\n",
    "    def __init__(self, *args, **kwargs):\n",
    "        pd.DataFrame.__init__(self, *args, **kwargs)\n",
    "        self._created_at = datetime.datetime.today()\n",
    "\n",
    "    @property\n",
    "    def created_at(self):\n",
    "        return self._created_at\n",
    "\n",
    "    def to_csv(self, *args, **kwargs):\n",
    "        temp = self.copy()\n",
    "        temp[\"created_at\"] = self.created_at\n",
    "        return pd.DataFrame.to_csv(temp, *args, **kwargs)   \n",
    "\n",
    "ldf = LoggedDF({\"col1\": [1, 2], \"col2\": [3, 4]}) \n",
    "\n",
    "# Attempt to modify a read-only attribute.\n",
    "try:\n",
    "    ldf.created_at = '2035-07-13'\n",
    "except AttributeError as ex:\n",
    "    traceback.print_exc(limit=1, file=sys.stdout)\n",
    "print()\n",
    "\n",
    "print(ldf.created_at)\n",
    "print()\n",
    "\n",
    "# Test the to_csv() method.\n",
    "print(ldf.to_csv())"
   ]
  },
  {
   "cell_type": "markdown",
   "id": "5878286e-0672-4f6c-89aa-acb94302f586",
   "metadata": {},
   "source": [
    "### What's Next?\n",
    "\n",
    "These are recommendations from the instructor.\n",
    "\n",
    "- Functionality\n",
    "  - Multiple inheritance and mixin classes\n",
    "  - Overriding build-in operators like `+`\n",
    "  - `__getattr()__` and `__setattr()__`\n",
    "  - Custom iterators\n",
    "  - Abstract base classes (for interfaces)\n",
    "  - Dataclasses (new in Python 3.7)\n",
    "- Object-Oriented Design\n",
    "  - SOLID principles\n",
    "    - Single-responsibility principle\n",
    "    - Open-cloased principle\n",
    "    - Liskov substituiion principle\n",
    "    - Interface segregation principle\n",
    "    - Dependency inversion principle\n",
    "  - Design patterns"
   ]
  }
 ],
 "metadata": {
  "kernelspec": {
   "display_name": "Python 3 (ipykernel)",
   "language": "python",
   "name": "python3"
  },
  "language_info": {
   "codemirror_mode": {
    "name": "ipython",
    "version": 3
   },
   "file_extension": ".py",
   "mimetype": "text/x-python",
   "name": "python",
   "nbconvert_exporter": "python",
   "pygments_lexer": "ipython3",
   "version": "3.11.2"
  }
 },
 "nbformat": 4,
 "nbformat_minor": 5
}
