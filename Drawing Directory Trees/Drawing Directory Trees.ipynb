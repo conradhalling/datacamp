{
 "cells": [
  {
   "cell_type": "markdown",
   "id": "5ab205a9-2cc3-402c-af2b-d7246fac7ac9",
   "metadata": {},
   "source": [
    "# Drawing Directory Trees\n",
    "\n",
    "In some of my notebooks, I needed to draw directory trees.\n",
    "\n",
    "This is an ASCII representation of a directory tree.\n",
    "\n",
    "    pkg1/\n",
    "    |-- __init__.py\n",
    "    |-- pkg2/\n",
    "    |   |-- __init__.py\n",
    "    |   |-- mod1.py\n",
    "    |   |-- mod2.py\n",
    "\n",
    "\n",
    "This is the equivalent directory tree drawn using Unicode symbols.\n",
    "\n",
    "    pkg1/\n",
    "    ├── __init__.py\n",
    "    ├── pkg2/\n",
    "    │   ├── __init__.py\n",
    "    │   ├── mod1.py\n",
    "    │   └── mod2.py\n",
    "\n",
    "For manual drawing, the Unicode symbol combinations are `│`, `├──`, and `└──`, which look best when using a monospaced font such as Consolas.\n",
    "\n",
    "The individual Unicode characters are:\n",
    "\n",
    "- │ box drawings light vertical U+2502\n",
    "- ├ box drawings light vertical and right U+251C\n",
    "- └ box drawings light up and right U+2514\n",
    "- ─ box drawings light horizontal U+2500\n",
    "\n",
    "A utility such as `tree` or `exa --tree` can draw nice directory trees if installed using Homebrew for macOS.\n",
    "\n",
    "For a Python project to draw directory trees, see https://realpython.com/directory-tree-generator-python/.\n",
    "\n",
    "These Unicode symbols could be included in the tree:\n",
    "- 📁 closed file folder\n",
    "- 📄 page facing up\n",
    "\n",
    "```\n",
    "📁 pkg1\n",
    "├── 📄 __init__.py\n",
    "├── 📁 pkg2\n",
    "│   ├── 📄 __init__.py\n",
    "│   ├── 📄 mod1.py\n",
    "│   └── 📄 mod2.py\n",
    "```\n",
    "\n",
    "I find this a little cluttered."
   ]
  },
  {
   "cell_type": "code",
   "execution_count": null,
   "id": "e59a0a62-b54e-4991-bd7b-0dd7e89b1c13",
   "metadata": {},
   "outputs": [],
   "source": []
  }
 ],
 "metadata": {
  "kernelspec": {
   "display_name": "Python 3 (ipykernel)",
   "language": "python",
   "name": "python3"
  },
  "language_info": {
   "codemirror_mode": {
    "name": "ipython",
    "version": 3
   },
   "file_extension": ".py",
   "mimetype": "text/x-python",
   "name": "python",
   "nbconvert_exporter": "python",
   "pygments_lexer": "ipython3",
   "version": "3.11.2"
  }
 },
 "nbformat": 4,
 "nbformat_minor": 5
}
