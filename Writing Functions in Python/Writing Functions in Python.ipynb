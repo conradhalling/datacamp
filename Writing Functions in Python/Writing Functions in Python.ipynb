{
 "cells": [
  {
   "cell_type": "markdown",
   "id": "0e5f28e6-58e3-46a2-8c6e-6cd39b30d0d1",
   "metadata": {},
   "source": [
    "# Writing Functions in Python\n",
    "\n",
    "## Introduction\n",
    "\n",
    "This course is presented by Shayne Miel, Director of Software Engineering at American Efficient. Collaborators are Hillary Green-Lerman and Becca Robbins.\n",
    "\n",
    "Prerequisite:\n",
    "- Python Data Science Toolbox (Part 2)\n",
    "\n",
    "This course is part of these tracks:\n",
    "- Data Engineer with Python\n",
    "- Data Scientist with Python\n",
    "- Python Programmer\n",
    "- Python Programming\n",
    "\n",
    "There are no datasets for this course."
   ]
  },
  {
   "cell_type": "markdown",
   "id": "76ad887f-a308-4074-a6ec-be5e4e0d8555",
   "metadata": {},
   "source": [
    "## Versions\n",
    "\n",
    "The course's IDE uses Python 3.9.7 (default, Sep 10 2021, 00:03:59) \\[GCC 7.5.0].\n",
    "\n",
    "This notebook is being written using Python 3.11.1."
   ]
  },
  {
   "cell_type": "markdown",
   "id": "1c1cc693-f350-4823-ba00-9e548812f920",
   "metadata": {},
   "source": [
    "## Data Set\n",
    "\n",
    "| File | Description |\n",
    "| :--- | :----|\n",
    "| alice.txt | The complete text of _Alice in Wonderland_ |"
   ]
  },
  {
   "cell_type": "markdown",
   "id": "f706c5a0-8f19-45ab-b763-1c892ffd15aa",
   "metadata": {},
   "source": [
    "## Resources\n",
    "\n",
    "### Docstrings\n",
    "- [Python PEP 257 - Docstring Conventions](https://peps.python.org/pep-0257/)\n",
    "- [reStructuredText Markup](https://devguide.python.org/documentation/markup/)\n",
    "- [DataCamp Docstrings Tutorial](https://www.datacamp.com/tutorial/docstrings-python)\n",
    "- [Numpy Style Guide](https://numpydoc.readthedocs.io/en/latest/format.html)\n",
    "- [Google Style Guide for Comments and Docstrings](https://google.github.io/styleguide/pyguide.html#38-comments-and-docstrings)\n",
    "\n",
    "### inspect Module\n",
    "- [inspect - Inspect live objects](https://docs.python.org/3/library/inspect.html)"
   ]
  },
  {
   "cell_type": "markdown",
   "id": "392265b2-7c39-4ea5-88ad-ac7627708164",
   "metadata": {},
   "source": [
    "## Imports\n",
    "\n",
    "Imports are gathered here for clarity and convenience."
   ]
  },
  {
   "cell_type": "code",
   "execution_count": null,
   "id": "fe2b3004-1f6c-4a44-a221-f472a7de0bff",
   "metadata": {},
   "outputs": [],
   "source": [
    "import contextlib\n",
    "import inspect\n",
    "import random\n",
    "\n",
    "import numpy as np\n",
    "import pandas as pd\n",
    "import time"
   ]
  },
  {
   "cell_type": "markdown",
   "id": "d674f128-ef0c-4e2f-b588-2fbe051cee73",
   "metadata": {},
   "source": [
    "## Best Practices\n",
    "\n",
    "### Docstrings\n",
    "\n",
    "#### Example Docstring (Demonstration)\n",
    "\n",
    "```python\n",
    "def split_and_stack(df, new_names):\n",
    "    \"\"\"\n",
    "    Split a DataFrame's columns into two halves and then stack\n",
    "    them vertically, returning a new DataFrame with 'new_names' as the\n",
    "    column names.\n",
    "    \n",
    "    Args:\n",
    "        df (DataFrame): The DataFrame to split.\n",
    "        new_names (iterable of str): The column names for the new DataFrame\n",
    "    \n",
    "    Returns:\n",
    "        DataFrame\n",
    "    \"\"\"\n",
    "    half = int(len(df.columns) / 2)\n",
    "    left = df.iloc[:, :half]\n",
    "    right = df.iloc[:, half:]\n",
    "    return pd.DataFrame(\n",
    "        data=np.vstack([left.values, right.values]),\n",
    "        columns=new_names\n",
    "    )\n",
    "```"
   ]
  },
  {
   "cell_type": "markdown",
   "id": "79f55713-6645-4c78-bebc-c57cbb1ba33e",
   "metadata": {},
   "source": [
    "#### Anatomy of a Docstring (Demonstration)\n",
    "\n",
    "```python\n",
    "def function_name(arguments):\n",
    "    \"\"\"\n",
    "    Description of what the function does.\n",
    "    \n",
    "    Description of the arguments, if any.\n",
    "    \n",
    "    Description of the return values, if any.\n",
    "    \n",
    "    Description of errors raised, if any.\n",
    "    \n",
    "    Optional extra notes or examples of usage.\n",
    "    \"\"\"\n",
    "```\n",
    "\n",
    "There are four major docstring formats:\n",
    "- Google Style\n",
    "- Numpydoc\n",
    "- reStructured Text\n",
    "- EpyText\n",
    "\n",
    "This course focuses on Google Style and Numpydoc."
   ]
  },
  {
   "cell_type": "markdown",
   "id": "57bebf80-6a03-4566-8fd8-c9a8aa562b02",
   "metadata": {},
   "source": [
    "#### Google Style Docstrings (Demonstration)\n",
    "\n",
    "Google style docstrings are used by this course because the format is more\n",
    "compact.\n",
    "\n",
    "```python\n",
    "def function(arg_1, arg_2=42):\n",
    "    \"\"\"\n",
    "    Imperative description of what the function does.\n",
    "    \n",
    "    Args:\n",
    "        arg_1 (str): Description of arg_1 that can break into the next line\n",
    "            if needed.\n",
    "        arg_2 (int, optional): Write optional when an argument has a default\n",
    "            value\n",
    "    \n",
    "    Returns:\n",
    "        bool: Optional description of the return value\n",
    "        Extra lines are not indented\n",
    "    \n",
    "    Raises:\n",
    "        ValueError: Include any error types that the function intentionally\n",
    "            raises\n",
    "    \n",
    "    Notes:\n",
    "        See https://www.datacamp.com/tutorial/docstrings-python\n",
    "        for more information.\n",
    "    \"\"\"\n",
    "```"
   ]
  },
  {
   "cell_type": "markdown",
   "id": "6541aed4-2b7b-4308-aa7d-9e25807783a7",
   "metadata": {},
   "source": [
    "#### Numpydoc Docstrings (Demonstration)\n",
    "\n",
    "Numpydoc docstrings are the most common in the scientific community.\n",
    "\n",
    "```python\n",
    "def function(arg_1, arg_2=42):\n",
    "    \"\"\"\n",
    "    Imperative description of what the function does.\n",
    "    \n",
    "    Parameters\n",
    "    ----------\n",
    "    arg_1 : expected type of arg_1\n",
    "        Description of arg_1\n",
    "    arg_2 : int, optional\n",
    "        Write optional when an argument has a default value.\n",
    "        Default=42.\n",
    "        \n",
    "    Returns\n",
    "    -------\n",
    "    The type of the return value\n",
    "        Can include a description of the return value.\n",
    "        Replace \"Returns\" with \"Yields\" if this function is a generator.\n",
    "    \"\"\"\n",
    "```"
   ]
  },
  {
   "cell_type": "markdown",
   "id": "d215dc0d-e847-4c1e-a9c5-45d6c68f0904",
   "metadata": {},
   "source": [
    "#### Retrieving Docstrings (Demonstration)"
   ]
  },
  {
   "cell_type": "code",
   "execution_count": null,
   "id": "ecd76ddb-2aa6-4f77-846e-cbcb66684e9f",
   "metadata": {
    "tags": []
   },
   "outputs": [],
   "source": [
    "def the_answer():\n",
    "    \"\"\"\n",
    "    Return the answer to life,\n",
    "    the universe, and everything.\n",
    "\n",
    "    Returns:\n",
    "        int\n",
    "    \"\"\"\n",
    "    return 42\n",
    "print(the_answer.__doc__)\n",
    "# Remove leading spaces.\n",
    "print(inspect.getdoc(the_answer))"
   ]
  },
  {
   "cell_type": "markdown",
   "id": "1b01620d-2c80-44a9-b4bd-27b425066b8c",
   "metadata": {},
   "source": [
    "#### Crafting a Docstring (Exercise)"
   ]
  },
  {
   "cell_type": "code",
   "execution_count": null,
   "id": "d2a93aaa-9ce0-4466-9363-28cb7ad77f5e",
   "metadata": {
    "tags": []
   },
   "outputs": [],
   "source": [
    "def count_letter(content, letter):\n",
    "    \"\"\"\n",
    "    Count the number of times `letter` appears in `content`.\n",
    "\n",
    "    Args:\n",
    "        content (str): The string to search.\n",
    "        letter (str): The letter to search for.\n",
    "    \n",
    "    Returns:\n",
    "        int\n",
    "    \n",
    "    Raises:\n",
    "        ValueError: If `letter` is not a one-character string.\n",
    "    \"\"\"\n",
    "    if (not isinstance(letter, str)) or len(letter) != 1:\n",
    "        raise ValueError('`letter` must be a single character string.')\n",
    "    return len([char for char in content if char == letter])"
   ]
  },
  {
   "cell_type": "markdown",
   "id": "dc5429e8-7f2b-4e5a-b19e-d6a83e84fd10",
   "metadata": {},
   "source": [
    "#### Retrieving Docstrings (Exercise)"
   ]
  },
  {
   "cell_type": "code",
   "execution_count": null,
   "id": "a96c62da-f402-4b0c-bf9d-0641930ae15b",
   "metadata": {
    "tags": []
   },
   "outputs": [],
   "source": [
    "# Display the unprocessed docstring.\n",
    "docstring = count_letter.__doc__\n",
    "border = '#' * 28\n",
    "print('{}\\n{}\\n{}'.format(border, docstring, border))\n",
    "\n",
    "# Use inspect.getdoc to remove leading and trailing blank lines and leading\n",
    "# white space from the docstring.\n",
    "docstring = inspect.getdoc(count_letter)\n",
    "border = '#' * 28\n",
    "print('{}\\n{}\\n{}'.format(border, docstring, border))\n",
    "\n",
    "def build_tooltip(function):\n",
    "    \"\"\"\n",
    "    Create a tooltip for any function that shows the\n",
    "    function's docstring.\n",
    "    \n",
    "    Args:\n",
    "        function (callable): The function we want a tooltip for.\n",
    "    \n",
    "    Returns:\n",
    "        str\n",
    "    \"\"\"\n",
    "    # Get the docstring for the function argument by using inspect.\n",
    "    docstring = inspect.getdoc(function)\n",
    "    border = \"#\" * 28\n",
    "    return \"{}\\n{}\\n{}\".format(border, docstring, border)\n",
    "\n",
    "print(build_tooltip(count_letter))\n",
    "print(build_tooltip(range))\n",
    "print(build_tooltip(print))\n",
    "print(build_tooltip(build_tooltip))\n",
    "print(build_tooltip(inspect.getdoc))"
   ]
  },
  {
   "cell_type": "markdown",
   "id": "61fa7305-0a05-4b5a-946b-f61aef9ef2a2",
   "metadata": {
    "tags": []
   },
   "source": [
    "#### Docstrings to the Rescue! (Exercise)"
   ]
  },
  {
   "cell_type": "code",
   "execution_count": null,
   "id": "035e24bb-9f96-4a73-bdbe-309b963d0968",
   "metadata": {
    "tags": []
   },
   "outputs": [],
   "source": [
    "# This was an exercise in looking at docstrings.\n",
    "print(np.histogram.__doc__)"
   ]
  },
  {
   "cell_type": "markdown",
   "id": "d57f7d86-48bb-4da6-838e-6543b249e126",
   "metadata": {},
   "source": [
    "### DRY and \"Do One Thing\"\n",
    "\n",
    "#### Don't Repeat Yourself (Demonstration)\n",
    "\n",
    "This code repeats itself, and it contains an error in the last code block (`### yikes! ###`). Code like this is difficult to maintain because any change in the algorithm must be made at three separate locations.\n",
    "\n",
    "```python\n",
    "import matplotlib.pyplot as plt\n",
    "import pandas as pd\n",
    "from sklearn.decomposition import PCA\n",
    "\n",
    "# Analyze the training data.\n",
    "train = pd.read_csv(\"train.csv\")\n",
    "train_y = train[\"labels\"].values\n",
    "train_X = train[col for col in train.columns if col != \"labels\"].values\n",
    "train_pca = PCA(n_components=2).fit_transform(train_X)\n",
    "plt.scatter(train_pca[:, 0], train_pca[:, 1])\n",
    "\n",
    "# Analyze the validation data.\n",
    "val = pd.read_csv(\"validation.csv\")\n",
    "val_y = val[\"labels\"].values\n",
    "val_X = val[col for col in val.columns if col != \"labels\"].values\n",
    "val_pca = PCA(n_components=2).fit_transform(val_X)\n",
    "plt.scatter(val_pca[:, 0], val_pca[:, 1])\n",
    "\n",
    "# Analyze the test data.\n",
    "test = pd.read_csv(\"test.csv\")\n",
    "test_y = test[\"labels\"].values\n",
    "test_X = test[col for col in test.columns if col != \"labels\"].values\n",
    "test_pca = PCA(n_components=2).fit_transform(train_X) ### yikes! ###\n",
    "plt.scatter(test_pca[:, 0], test_pca[:, 1])\n",
    "```\n",
    "\n",
    "This is where a function is useful for eliminating repeated code. The function\n",
    "does the desired work and returns the x and y values for each dataset for\n",
    "further use. (Note that we provide a well-formatted docstring for the\n",
    "function.)\n",
    "\n",
    "```python\n",
    "def load_and_plot(path):\n",
    "    \"\"\"\n",
    "    Load a dataset and plot the first two principal components.\n",
    "    \n",
    "    Args:\n",
    "        path (str): The location of the CSV file.\n",
    "    \n",
    "    Returns:\n",
    "        tuple of ndarray: (features, labels)\n",
    "    \"\"\"\n",
    "    data = pd.read_csv(path)\n",
    "    data_y = data[\"labels\"].values\n",
    "    data_X = data[col for col in data.columns if col != \"labels\"].values\n",
    "    data_pca = PCA(n_components=2).fit_transform(data_X)\n",
    "    plt.scatter(data_pca[:, 0], data_pca[:, 1])\n",
    "    return data_X, data_y\n",
    "\n",
    "train_X, train_y = plot_pca(\"train.csv\")\n",
    "val_X, val_y = plot_pca(\"validation.csv\")\n",
    "test_X, test_y = plot_pca(\"test.csv\")\n",
    "```\n",
    "\n",
    "At this point, this function violates another software engineering principle:\n",
    "It does not do just one thing. The function does three things:\n",
    "\n",
    "1) it loads data\n",
    "2) it transforms data\n",
    "3) it plots data\n",
    "\n",
    "Here, the course creates two functions that decouple data loading from data transformation and plotting.\n",
    "\n",
    "```python\n",
    "def load_data(path):\n",
    "    \"\"\"\n",
    "    Load a dataset and return the x and y values.\n",
    "    \n",
    "    Args:\n",
    "        path (str): The location of the CSV file.\n",
    "    \n",
    "    Returns:\n",
    "        tuple of ndarray: (features, labels)\n",
    "    \"\"\"\n",
    "    data = pd.read_csv(path)\n",
    "    data_y = data[\"labels\"].values\n",
    "    data_X = data[col for col in data.columns if col != \"labels\"].values\n",
    "    return data_X, data_y\n",
    "\n",
    "def plot_data(data_X):\n",
    "    \"\"\"\n",
    "    Plot the first two principal components of a matrix.\n",
    "    \n",
    "    Args:\n",
    "        data_X (numpy.ndarray): The data to plot.\n",
    "    \"\"\"\n",
    "    data_pca = PCA(n_components=2).fit_transform(data_X)\n",
    "    plt.scatter(data_pca[:, 0], data_pca[:, 1])\n",
    "```\n",
    "\n",
    "When writing functions that do one thing, the code becomes:\n",
    "- more flexible\n",
    "- more easily understood\n",
    "- simpler to test\n",
    "- simpler to debug\n",
    "- easier to change\n",
    "\n",
    "Shayne Miel recommends reading _Refactoring: Improving the Design of Existing Code (2nd Edition)_ by Martin Fowler."
   ]
  },
  {
   "cell_type": "markdown",
   "id": "c5a86d81-bd66-47b7-ae89-bc4059c55120",
   "metadata": {},
   "source": [
    "By the way, reading this code inspired me to look into how to do principle component analysis using PCA. See [Principal Component Analysis of Breast Cancer Dataset](../Principal%20Component%20Analysis%20in%20Python/Principal%20Component%20Analysis%20of%20Breast%20Cancer%20Dataset.ipynb)."
   ]
  },
  {
   "cell_type": "markdown",
   "id": "5930ac78-6618-48a9-a0ac-1bca07342f99",
   "metadata": {},
   "source": [
    "#### Extract a Function (Exercise)\n",
    "\n",
    "Create a function that standardizes the values in a column, and use it on four columns of a DataFrame.\n",
    "\n",
    "```python\n",
    "def standardize(column):\n",
    "    \"\"\"\n",
    "    Standardize the values in a column.\n",
    "\n",
    "    Args:\n",
    "        column (pandas Series): The data to standardize.\n",
    "\n",
    "    Returns:\n",
    "        pandas Series: the values as z-scores\n",
    "    \"\"\"\n",
    "    # Finish the function so that it returns the z-scores\n",
    "    z_score = (column - column.mean()) / column.std()\n",
    "    return z_score\n",
    "\n",
    "# Use the standardize() function to calculate the z-scores\n",
    "df['y1_z'] = standardize(df.y1_gpa)\n",
    "df['y2_z'] = standardize(df.y2_gpa)\n",
    "df['y3_z'] = standardize(df.y3_gpa)\n",
    "df['y4_z'] = standardize(df.y4_gpa)\n",
    "```"
   ]
  },
  {
   "cell_type": "markdown",
   "id": "47e35e81-ed02-4222-9f57-b36ce656d53e",
   "metadata": {},
   "source": [
    "#### Split Up a Function (Exercise)\n",
    "\n",
    "Split up the original function, which calculates both mean and median and returns them, into two functions, each of which does one thing.\n",
    "\n",
    "```python\n",
    "def mean(values):\n",
    "    \"\"\"\n",
    "    Return the mean of a sorted list of values.\n",
    "    \n",
    "    Args:\n",
    "        values (iterable of float): A list of numbers\n",
    "    \n",
    "    Returns:\n",
    "        float\n",
    "    \"\"\"\n",
    "    mean = sum(values) / len(values)\n",
    "    return mean\n",
    "\n",
    "def median(values):\n",
    "    \"\"\"\n",
    "    Return the median of a sorted list of values.\n",
    "    \n",
    "    Args:\n",
    "        values (iterable of float): A list of numbers\n",
    "    \n",
    "    Returns:\n",
    "        float\n",
    "    \"\"\"\n",
    "    midpoint = int(len(values) / 2)\n",
    "    if len(values) %2 == 0:\n",
    "        median = (values[midpoint - 1] + values[midpoint]) / 2\n",
    "    else:\n",
    "        median = values[midpoint]\n",
    "    \n",
    "    return median\n",
    "```"
   ]
  },
  {
   "cell_type": "markdown",
   "id": "0ef131fc-67a7-444a-ac45-663f493a394d",
   "metadata": {},
   "source": [
    "### Pass by Assignment\n",
    "\n",
    "A list is mutable, but an integer is immutable.\n",
    "\n",
    "See [Pass-by-value, reference, and assignment](https://mathspp.com/blog/pydonts/pass-by-value-reference-and-assignment)."
   ]
  },
  {
   "cell_type": "code",
   "execution_count": null,
   "id": "349178f2-85ca-49c8-a44e-d5abddd4f0e8",
   "metadata": {
    "tags": []
   },
   "outputs": [],
   "source": [
    "# Pass by reference (using a pointer).\n",
    "def foo(x):\n",
    "    x[0] = 99\n",
    "my_list = [1, 2, 3]\n",
    "print(my_list)\n",
    "foo(my_list)\n",
    "print(my_list)\n",
    "print()\n",
    "\n",
    "# Pass by value?\n",
    "def bar(x):\n",
    "    x = x + 90\n",
    "my_var = 3\n",
    "print(my_var)\n",
    "bar(my_var)\n",
    "print(my_var)\n",
    "print()\n",
    "\n",
    "# a and b refer to the same list.\n",
    "a = [1, 2, 3]\n",
    "print(a)\n",
    "b = a\n",
    "a.append(4)\n",
    "print(b)\n",
    "b.append(5)\n",
    "print(a)"
   ]
  },
  {
   "cell_type": "markdown",
   "id": "3d2150f3-4de0-4089-9003-0516a95915db",
   "metadata": {},
   "source": [
    "Immutable data types:\n",
    "- int\n",
    "- float\n",
    "- bool\n",
    "- string\n",
    "- bytes\n",
    "- tuple\n",
    "- frozenset\n",
    "- None\n",
    "\n",
    "Mutable data types:\n",
    "- list\n",
    "- dict\n",
    "- set\n",
    "- bytearray\n",
    "- objects\n",
    "- functions\n",
    "- almost everything else!"
   ]
  },
  {
   "cell_type": "markdown",
   "id": "44649e52-f9ea-450e-8767-8d9ec47d2881",
   "metadata": {},
   "source": [
    "#### Mutable Default Arguments Are Dangerous! (Demonstration)\n",
    "\n",
    "See this example for why you shouldn't set a default to an empty list or another mutable object."
   ]
  },
  {
   "cell_type": "code",
   "execution_count": null,
   "id": "10f51773-b386-4c61-8b6d-8f2cab73f049",
   "metadata": {
    "tags": []
   },
   "outputs": [],
   "source": [
    "def foo(var=[]):\n",
    "    var.append(1)\n",
    "    return var\n",
    "print(foo())\n",
    "print(foo())\n",
    "print()\n",
    "\n",
    "# This is the correct way.\n",
    "def foo2(var=None):\n",
    "    if var is None:\n",
    "        var = []\n",
    "    var.append(1)\n",
    "    return var\n",
    "print(foo2())\n",
    "print(foo2())"
   ]
  },
  {
   "cell_type": "markdown",
   "id": "10c53ff9-2a0c-461a-8505-01f95daf95fd",
   "metadata": {},
   "source": [
    "#### Mutable or Immutable? (Exercise)\n",
    "\n",
    "The following function adds a mapping between a string and the lowercase version of that string to a dictionary. What do you expect the values of d and s to be after the function is called?"
   ]
  },
  {
   "cell_type": "code",
   "execution_count": null,
   "id": "cf07f5ad-f6ee-4408-9edf-c57db501f47b",
   "metadata": {
    "tags": []
   },
   "outputs": [],
   "source": [
    "def store_lower(_dict, _string):\n",
    "    \"\"\"\n",
    "    Add a mapping between `_string` and a lowercased version of `_string` to\n",
    "    `_dict`\n",
    "\n",
    "    Args:\n",
    "        _dict (dict): The dictionary to update.\n",
    "        _string (str): The string to add.\n",
    "    \"\"\"\n",
    "    orig_string = _string\n",
    "    _string = _string.lower()\n",
    "    _dict[orig_string] = _string\n",
    "\n",
    "# A dictionary is a mutable object, but a string is immutable.\n",
    "d = {}\n",
    "s = 'Hello'\n",
    "\n",
    "store_lower(d, s)\n",
    "print(d,)\n",
    "print(s)"
   ]
  },
  {
   "cell_type": "markdown",
   "id": "40efc6de-824e-4fa9-9a2e-f02c1281aa68",
   "metadata": {},
   "source": [
    "#### Best Practice for Default Arguments (Exercise)\n",
    "\n",
    "Avoid using a mutable default argument."
   ]
  },
  {
   "cell_type": "code",
   "execution_count": null,
   "id": "911b40fc-3762-40ca-82d6-a28cfbbd6558",
   "metadata": {
    "tags": []
   },
   "outputs": [],
   "source": [
    "def better_add_column(values, df=None):\n",
    "    \"\"\"\n",
    "    Add a column of `values` to a DataFrame `df`.\n",
    "    The column will be named \"col_<n>\", where \"n\" is\n",
    "    the numerical index of the column.\n",
    "    \n",
    "    Args:\n",
    "        values (iterable): The values of the new column\n",
    "        df (DataFrame, optional): The DataFrame to update.\n",
    "            If no DataFrame is passed, one is created by default.\n",
    "    \n",
    "    Returns:\n",
    "        DataFrame\n",
    "    \"\"\"\n",
    "    if df is None:\n",
    "        df = pd.DataFrame()\n",
    "    df[\"col_{}\".format(len(df.columns))] = values\n",
    "    return df\n",
    "\n",
    "df = better_add_column([1, 2, 3], None)\n",
    "df = better_add_column([4, 5, 6], df)\n",
    "print(df.head())"
   ]
  },
  {
   "cell_type": "markdown",
   "id": "dd9169be-27c4-44e5-86fd-d302a5136efb",
   "metadata": {},
   "source": [
    "## Context Managers\n",
    "\n",
    "### Using Context managers\n",
    "\n",
    "#### Examples (Demonstration)\n",
    "\n",
    "A context manager sets up a contex, runs your code, and removes the context. Here, `open()` sets up a context by opening a file, lets you run any code you want on that file, and removes the context by closing the file.\n",
    "\n",
    "```python\n",
    "with open(\"my_file.txt\") as my_file:\n",
    "    text = my_file.read()\n",
    "    length = len(text)\n",
    "print(\"The file is {} characters long.\".format(length))\n",
    "```\n",
    "\n",
    "Using `with` creates a compound statement, which is used as shown below:\n",
    "\n",
    "```python\n",
    "with <context-manager>(<args>):\n",
    "    # Run your code here.\n",
    "    # This code is running \"inside the context\"\n",
    "# This code runs after the context is removed.\n",
    "```\n",
    "\n",
    "Some context managers return a value. Use `as` to capture that value. For example, `with open()` returns a file handle, which can be used within the context."
   ]
  },
  {
   "cell_type": "markdown",
   "id": "3d5cf028-a8d9-4f6a-9184-ec8fc5b451b7",
   "metadata": {},
   "source": [
    "#### Reading a File (Exercise)\n",
    "\n",
    "How many times does the word \"cat\" or \"cats\" appear in _Alice in Wonderland_?"
   ]
  },
  {
   "cell_type": "code",
   "execution_count": null,
   "id": "77838529-70be-4b79-af82-95cab6543563",
   "metadata": {
    "tags": []
   },
   "outputs": [],
   "source": [
    "# The context manager closes the file for you.\n",
    "with open(\"alice.txt\") as file:\n",
    "    text = file.read()\n",
    "n = 0\n",
    "for word in text.split():\n",
    "    if word.lower() in [\"cat\", \"cats\"]:\n",
    "        n += 1\n",
    "print('Lewis Carroll used the word \"cat\" {} times.'.format(n))\n"
   ]
  },
  {
   "cell_type": "markdown",
   "id": "7d075e38-5e36-4be4-9a1c-e450492ce46e",
   "metadata": {},
   "source": [
    "#### Using a Timer Context Manager (Exercise)\n",
    "\n",
    "I used the IPython shell to obtain the code for the functions used to support this example. It was amusing and instructive to do this.\n",
    "\n",
    "    In [6]: import inspect\n",
    "    In [7]: print(inspect.getsource(get_image_from_instagram))\n",
    "    def get_image_from_instagram():\n",
    "      return np.random.rand(84, 84)\n",
    "    \n",
    "    In [8]: print(inspect.getsource(process_with_numpy))\n",
    "    def process_with_numpy(p):\n",
    "      _process_pic(0.1521)\n",
    "    \n",
    "    In [9]: print(inspect.getsource(process_with_pytorch))\n",
    "    def process_with_pytorch(p):\n",
    "      _process_pic(0.0328)\n",
    "    \n",
    "    In [10]: print(inspect.getsource(_process_pic))\n",
    "    def _process_pic(n_sec):\n",
    "      print('Processing', end='', flush=True)\n",
    "      for i in range(10):\n",
    "        print('.', end='' if i < 9 else 'done!\\n', flush=True)\n",
    "        time.sleep(n_sec)\n",
    "    \n",
    "    In [11]: print(inspect.getsource(timer))\n",
    "    @contextlib.contextmanager\n",
    "    def timer():\n",
    "      \"\"\"Time how long code in the context block takes to run.\"\"\"\n",
    "      t0 = time.time()\n",
    "      try:\n",
    "        yield\n",
    "      except:\n",
    "        raise\n",
    "      finally:\n",
    "        t1 = time.time()\n",
    "      print('Elapsed: {:.2f} seconds'.format(t1 - t0))"
   ]
  },
  {
   "cell_type": "code",
   "execution_count": null,
   "id": "febcde9a-5ea1-44f1-9d46-be4760ce4b43",
   "metadata": {
    "tags": []
   },
   "outputs": [],
   "source": [
    "# This code supports the simulation.\n",
    "def get_image_from_instagram():\n",
    "    return np.random.rand(84, 84)\n",
    "\n",
    "def process_with_numpy(p):\n",
    "    _process_pic(0.1521)\n",
    "\n",
    "def process_with_pytorch(p):\n",
    "    _process_pic(0.0328)\n",
    "\n",
    "def _process_pic(n_sec):\n",
    "    print('Processing', end='', flush=True)\n",
    "    for i in range(10):\n",
    "        print('.', end='' if i < 9 else 'done!\\n', flush=True)\n",
    "        time.sleep(n_sec)\n",
    "\n",
    "@contextlib.contextmanager\n",
    "def timer():\n",
    "    \"\"\"\n",
    "    Time how long code in the context block takes to run.\n",
    "    \"\"\"\n",
    "    t0 = time.time()\n",
    "    try:\n",
    "        yield\n",
    "    except:\n",
    "        raise\n",
    "    finally:\n",
    "        t1 = time.time()\n",
    "    print('Elapsed: {:.2f} seconds'.format(t1 - t0))\n",
    "\n",
    "##############################################################################\n",
    "# Exercise code.\n",
    "image = get_image_from_instagram()\n",
    "with timer():\n",
    "    print('Numpy version')\n",
    "    process_with_numpy(image)\n",
    "print()\n",
    "with timer():\n",
    "    print('Pytorch version')\n",
    "    process_with_pytorch(image)"
   ]
  },
  {
   "cell_type": "markdown",
   "id": "8c057963-5bd5-44ec-aedd-6d546f0b3ed1",
   "metadata": {},
   "source": [
    "You may have noticed there was no `as <variable name>` at the end of the `with` statement in the `timer()` context manager. That is because `timer()` is a context manager that does not return a value, so the `as <variable name>` at the end of the `with` statement isn't necessary. In the next lesson, you'll learn how to write your own context managers like `timer()`."
   ]
  },
  {
   "cell_type": "markdown",
   "id": "cb01cc6d-26d9-4e0c-a3ca-2cfd3e6f057f",
   "metadata": {
    "tags": []
   },
   "source": [
    "### Writing Context Managers\n",
    "\n",
    "There are two ways to define a context manager.\n",
    "- Class-based\n",
    "- Function-based\n",
    "\n",
    "Since this is a course on writing functions, Shayne Miel has chosen to demonstrate the function-based approach.\n",
    "\n",
    "#### How to Create a Context Manager (Demonstration)\n",
    "\n",
    "```python\n",
    "@contextlib.contextmanager\n",
    "def my_context():\n",
    "    \"\"\"\n",
    "    docstring\n",
    "    \"\"\"\n",
    "    # Add any setup code you need.\n",
    "    yield\n",
    "    # Add any teardown code you need.\n",
    "```\n",
    "\n",
    "1. Define a function.\n",
    "2. (optional) Add any setup code your context needs.\n",
    "3. Use the `yield` keyword.\n",
    "4. (optional) Add any teardown code your context needs.\n",
    "5. Add the `@contextlib.contextmanager` decorator."
   ]
  },
  {
   "cell_type": "markdown",
   "id": "a605a35b-d902-4a5f-a484-5dea6a1ec1bf",
   "metadata": {
    "tags": []
   },
   "source": [
    "#### The `yield` Keyword (Demonstration)\n",
    "\n",
    "A context manager function is technically a generator that returns a single value.\n",
    "\n",
    "The ability for a function to yield control and know that it will get to finish running later is what makes context managers so useful.\n",
    "\n",
    "This demonstrates a simple context manager that returns 42."
   ]
  },
  {
   "cell_type": "code",
   "execution_count": null,
   "id": "2c47a41a-0a50-4974-b763-deb00e4998d0",
   "metadata": {
    "tags": []
   },
   "outputs": [],
   "source": [
    "@contextlib.contextmanager\n",
    "def my_context():\n",
    "    print(\"hello\")\n",
    "    yield 42\n",
    "    print(\"goodbye\")\n",
    "\n",
    "with my_context() as foo:\n",
    "    print(\"foo is {}\".format(foo))"
   ]
  },
  {
   "cell_type": "markdown",
   "id": "a7ecf7ab-cc4f-4c44-9449-ad32c64afe12",
   "metadata": {},
   "source": [
    "#### Setup and Teardown (Demonstration)\n",
    "\n",
    "This context manager provides a connection to a database. (This is not a working example. I have changed variable names.)\n",
    "\n",
    "```python\n",
    "@contextlib.contextmanager\n",
    "def get_conn(url):\n",
    "    # Set up the database connection.\n",
    "    conn = postgres.connect(url)\n",
    "    yield conn\n",
    "    conn.disconnect()\n",
    "\n",
    "url = \"http://datacamp.com/data\"\n",
    "with get_conn(url) as conn:\n",
    "    course_list = conn.execute(\n",
    "        \"SELECT * FROM courses\"\n",
    "    )\n",
    "```\n",
    "\n",
    "See [Introduction to Databases in Python](../Introduction%20to%20Databases%20in%20Python/Introduction%20to%20Databases%20in%20Python.ipynb) for examples of using a context manager to connect to a SQLite database."
   ]
  },
  {
   "cell_type": "markdown",
   "id": "0fe1a62e-0d0e-4df8-accb-2408741722d2",
   "metadata": {},
   "source": [
    "#### Yielding None (Demonstration)\n",
    "\n",
    "`in_dir()` is a context manager that changes the current working directory to a specific path and then changes it back after the context block is done. It does not need to return anything with its \"yield\" statement.\n",
    "\n",
    "```python\n",
    "@contextlib.contextmanager\n",
    "def in_dir(path):\n",
    "    \"\"\"\n",
    "    During setup, save the old working directory and change the working\n",
    "    directory to the new path.\n",
    "    \n",
    "    Yields:\n",
    "        None\n",
    "    \n",
    "    During teardown, change the working directory back to the old path.\n",
    "    \"\"\"\n",
    "    old_dir = os.getcwd()\n",
    "    os.chdir(path)\n",
    "    yield\n",
    "    os.chdir(old_dir)\n",
    "\n",
    "with in_dir(\"/data/project_1/\"):\n",
    "    project_files = os.listdir()\n",
    "```"
   ]
  },
  {
   "cell_type": "markdown",
   "id": "5a74dbba-9a8b-4c5e-b646-7c86254c73b8",
   "metadata": {},
   "source": [
    "#### Create a `timer()` Context Manager (Exercise)\n",
    "\n",
    "Write a context manager that can be used to time how long a function takes to run."
   ]
  },
  {
   "cell_type": "code",
   "execution_count": null,
   "id": "d62acd87-2534-45fa-9c1b-9c40bd95514e",
   "metadata": {
    "tags": []
   },
   "outputs": [],
   "source": [
    "@contextlib.contextmanager\n",
    "def timer():\n",
    "    \"\"\"\n",
    "    Time the execution of a context block.\n",
    "    \n",
    "    Yields:\n",
    "        None\n",
    "    \"\"\"\n",
    "    start = time.time()\n",
    "    yield\n",
    "    end = time.time()\n",
    "    print(\"Elapsed: {:.2f} s\".format(end - start))\n",
    "\n",
    "with timer():\n",
    "    print(\"This should take approximately 0.25 seconds.\")\n",
    "    time.sleep(0.25)"
   ]
  },
  {
   "cell_type": "markdown",
   "id": "6fbb03d8-4a56-45b8-bc30-9bc0979a3686",
   "metadata": {},
   "source": [
    "#### A Read-Only `open()` Context Manager (Exercise)\n",
    "\n",
    "Create a context manager that will only open a file for reading."
   ]
  },
  {
   "cell_type": "code",
   "execution_count": null,
   "id": "7d5566b0-0321-4b8e-8e8b-162d5735c5eb",
   "metadata": {
    "tags": []
   },
   "outputs": [],
   "source": [
    "@contextlib.contextmanager\n",
    "def open_read_only(filepath):\n",
    "    \"\"\"\n",
    "    Open a file in read-only mode.\n",
    "    \n",
    "    Args:\n",
    "        filepath (str): The path of the file to read\n",
    "    \n",
    "    Yields:\n",
    "        a file object\n",
    "    \"\"\"\n",
    "    read_only_file = open(filepath, mode=\"r\")\n",
    "    yield read_only_file\n",
    "    read_only_file.close()\n",
    "\n",
    "with open_read_only(\"my_file.txt\") as my_file:\n",
    "    print(my_file.read())"
   ]
  },
  {
   "cell_type": "markdown",
   "id": "9ae1f7fc-63b0-444e-bafc-b6722f4f3504",
   "metadata": {},
   "source": [
    "### Advanced Topics\n",
    "\n",
    "#### Nested Contexts (Demonstration)\n",
    "\n",
    "Write a function that copies a file line by line to a new file. This enables copying files that are too large to hold in memory."
   ]
  },
  {
   "cell_type": "code",
   "execution_count": null,
   "id": "7d3e9124-0c0a-4d02-b277-b8bcce3e3007",
   "metadata": {
    "tags": []
   },
   "outputs": [],
   "source": [
    "def copyfile(src, dst):\n",
    "    \"\"\"\n",
    "    Copy the contents of one file to another.\n",
    "    \n",
    "    Args:\n",
    "        src (str): Path of the source file to be copied\n",
    "        dst (str): Path of the destination file to be written\n",
    "    \"\"\"\n",
    "    with open(src, \"r\") as f_src:\n",
    "        with open(dst, \"w\") as f_dst:\n",
    "            # Copy line by line to accommodate very large files.\n",
    "            for line in f_src:\n",
    "                f_dst.write(line)\n",
    "\n",
    "copyfile(\"my_file.txt\", \"my_copied_file.txt\")"
   ]
  },
  {
   "cell_type": "markdown",
   "id": "7a62a258-2bdb-41e6-bb63-c4038680718f",
   "metadata": {},
   "source": [
    "#### Handling Errors (Demonstration)\n",
    "\n",
    "This is an example of how to set up your code to handle any errors and still tear down the context.\n",
    "\n",
    "```python\n",
    "@contextlib.contextmanager\n",
    "def get_printer(ip):\n",
    "    p = connect_to_printer(ip):\n",
    "        p = connect_to_printer(ip)\n",
    "        try:\n",
    "            yield\n",
    "        finally:\n",
    "            p.disconnect()\n",
    "            print(\"disconnected from printer\")\n",
    "\n",
    "doc = {\"text\": \"This is my text\"}\n",
    "with get_printer(\"10.0.34.111\") as printer:\n",
    "    # Note the use of \"txt\" instead of \"text\" here, which raises\n",
    "    # a KeyError.\n",
    "    # The output looks like:\n",
    "    # disconnected from printer\n",
    "    # Traceback (most recent call last):\n",
    "    #   File \"<stdin>\", line 1, in <module>\n",
    "    #     printer.print_page(doc[\"txt\"])\n",
    "    # KeyError: \"txt\"\n",
    "    printer.print_page(doc[\"txt\"])\n",
    "```"
   ]
  },
  {
   "cell_type": "markdown",
   "id": "52135f24-6fd7-4b72-be40-936e08678bed",
   "metadata": {},
   "source": [
    "#### Context Manager Patterns\n",
    "\n",
    "From Dave Brandsema's talk at PyCon 2012: https://youtu.be/cSbD5SKwak0?t=795.\n",
    "\n",
    "|      |       |\n",
    "| :--- | :---- |\n",
    "| Open | Close |\n",
    "| Lock | Release |\n",
    "| Change | Reset |\n",
    "| Enter | Exit |\n",
    "| Start | Stop |\n",
    "| Setvup | Tear down |\n",
    "| Connect | Disconnect |"
   ]
  },
  {
   "cell_type": "markdown",
   "id": "963e310f-5fec-4948-8f6e-3b0d6b890100",
   "metadata": {},
   "source": [
    "#### Context Manager Use Cases (Exercise)\n",
    "\n",
    "Which of the following would or would not be a good opportunity to use a context manager?\n",
    "\n",
    "1. A function that starts a timer that keeps track of how long some block of code takes to run. (Yes)\n",
    "2. A function that prints all of the prime numbers between 2 and some value of `n`. (No)\n",
    "3. A function that connects to a smart thermostat so that it can be programmed remotely. (Yes)\n",
    "4. A function that prevents multiple users from updating an online spreadsheet at the same time by locking access to the spreadsheet before every operation. (Yes)\n",
    "\n",
    "Example (2) above is a generator, not a context manager. \"While you might be able to do this with a context manager, it would make much more sense just to do it with a normal function.\""
   ]
  },
  {
   "cell_type": "markdown",
   "id": "de29336f-41b5-4258-8b37-840a18465fd5",
   "metadata": {},
   "source": [
    "#### Using a Stock Price Simulator\n",
    "\n",
    "This uses the CONNECT/DISCONNECT and OPEN/CLOSE context manager patterns.\n",
    "\n",
    "I attempted to use `inspect.getsource()` to get the source code for the `stock` function and the `MockStock` function, but `MockStock` was a builtin. This prevented me from building a working version of this exercise. There was not a MockStock package at https://pypi.org.\n",
    "\n",
    "```python\n",
    "# Use the stock(\"NVDA\") context manager to obtain ten stock prices\n",
    "# and write them to a file.\n",
    "with stock(\"NVDA\") as nvda:\n",
    "    with open(\"NVDA.txt\", \"w\") as f_out:\n",
    "        for _ in range(10):\n",
    "            value = nvda.prince()\n",
    "            print(\"Logging ${:.2f} for NVDA\".format(value))\n",
    "            f_out.write(\":.2f}\\n\".format(value))\n",
    "\n",
    "# import inspect\n",
    "# inspect.getsource(stock)\n",
    "@contextlib.contextmanager\n",
    "def stock(symbol):\n",
    "    base = 140.00\n",
    "    scale = 1.0\n",
    "    mock = MockStock(base, scale)\n",
    "    print('Opening stock ticker for {}'.format(symbol))\n",
    "    yield mock\n",
    "    print('Closing stock ticker')\n",
    "\n",
    "# inspect.getsource(MockStock)\n",
    "# TypeError: <class '__main__.MockStock'> is a built-in class\n",
    "```\n",
    "\n",
    "This was the output in the console:\n",
    "\n",
    "```\n",
    "Opening stock ticker for NVDA\n",
    "Logging $139.50 for NVDA\n",
    "Logging $139.54 for NVDA\n",
    "Logging $139.61 for NVDA\n",
    "Logging $139.65 for NVDA\n",
    "Logging $139.72 for NVDA\n",
    "Logging $139.73 for NVDA\n",
    "Logging $139.80 for NVDA\n",
    "Logging $139.78 for NVDA\n",
    "Logging $139.73 for NVDA\n",
    "Logging $139.64 for NVDA\n",
    "Closing stock ticker\n",
    "```"
   ]
  },
  {
   "cell_type": "markdown",
   "id": "06e53352-59ed-44d7-832b-1e8c5795bd09",
   "metadata": {},
   "source": [
    "#### Changing the Working Directory (Exercise)\n",
    "\n",
    "This is an interesting exercise because I have encountered this problem before.\n",
    "\n",
    ">You are using an open-source library that lets you train deep neural networks on your data. Unfortunately, during training, this library writes out checkpoint models (i.e., models that have been trained on a portion of the data) to the current working directory. You find that behavior frustrating because you don't want to have to launch the script from the directory where the models will be saved.\n",
    "\n",
    ">You decide that one way to fix this is to write a context manager that changes the current working directory, lets you build your models, and then resets the working directory to its original location. You'll want to be sure that any errors that occur during model training don't prevent you from resetting the working directory to its original location.\n",
    "\n",
    "This is an example of the CHANGE/RESET pattern.\n",
    "\n",
    "```python\n",
    "def in_dir(directory):\n",
    "    \"\"\"\n",
    "    Change current working directory to `directory`,\n",
    "    allow the user to run some code, and change back.\n",
    "\n",
    "    Args:\n",
    "        directory (str): The path to a directory to work in.\n",
    "    \"\"\"\n",
    "    current_dir = os.getcwd()\n",
    "    os.chdir(directory)\n",
    "\n",
    "    # Add code that lets you handle errors\n",
    "    try:\n",
    "        yield\n",
    "    # Ensure the directory is reset,\n",
    "    # whether there was an error or not\n",
    "    finally:\n",
    "        os.chdir(current_dir)\n",
    "```\n"
   ]
  },
  {
   "cell_type": "markdown",
   "id": "297b8c84-c015-4d7a-b7b2-3d6fd7faebe9",
   "metadata": {},
   "source": [
    "## Decorators\n",
    "\n",
    "This section looks at functions as objects, scope, closures, and decorators.\n",
    "\n",
    "### Functions as Objects\n",
    "\n",
    "#### Functions as Variables (Demonstration)\n",
    "\n",
    "Functions are objects that can be stored as variables."
   ]
  },
  {
   "cell_type": "code",
   "execution_count": null,
   "id": "2d57fc4b-d798-49e6-a239-b26662a52743",
   "metadata": {
    "tags": []
   },
   "outputs": [],
   "source": [
    "# Assign functions to variables and use the variables.\n",
    "def my_function():\n",
    "    print(\"Hello\")\n",
    "\n",
    "x = my_function\n",
    "x()\n",
    "\n",
    "PrintyMcPrintFace = print\n",
    "PrintyMcPrintFace(\"Python is awesome!\")\n",
    "\n",
    "list_of_functions = [my_function, open, print]\n",
    "list_of_functions[2](\"I am printing with an element of a list!\")\n",
    "\n",
    "dict_of_functions = {\n",
    "    \"func1\": my_function,\n",
    "    \"func2\": open,\n",
    "    \"func3\": print,\n",
    "}\n",
    "dict_of_functions[\"func3\"](\"I am printing with an element of a dict!\")"
   ]
  },
  {
   "cell_type": "markdown",
   "id": "ea7c9b0a-a99f-452a-a430-cbd94fc829c6",
   "metadata": {},
   "source": [
    "#### Functions as Arguments (Demonstration)"
   ]
  },
  {
   "cell_type": "code",
   "execution_count": null,
   "id": "1070c981-a97c-49e3-bf37-6780d789cf05",
   "metadata": {
    "tags": []
   },
   "outputs": [],
   "source": [
    "def has_docstring(func):\n",
    "    \"\"\"\n",
    "    Check to see if func has a docstring.\n",
    "    \n",
    "    Args:\n",
    "        func (callable): A function.\n",
    "    \n",
    "    Returns:\n",
    "        bool\n",
    "    \"\"\"\n",
    "    return func.__doc__ is not None\n",
    "\n",
    "print(has_docstring(print))\n",
    "print(has_docstring(x))\n",
    "\n",
    "def no():\n",
    "    return 42\n",
    "\n",
    "def yes():\n",
    "    \"\"\"\n",
    "    Return the value 42.\n",
    "    \"\"\"\n",
    "    return 42\n",
    "\n",
    "print(has_docstring(no))\n",
    "print(has_docstring(yes))"
   ]
  },
  {
   "cell_type": "markdown",
   "id": "ff80e9c7-d3e1-4ad8-bd83-4956c7fdc855",
   "metadata": {},
   "source": [
    "#### Defining a Function Inside Another Function (Demonstration)"
   ]
  },
  {
   "cell_type": "code",
   "execution_count": null,
   "id": "f97da118-1063-414f-bafa-c9d3236a131c",
   "metadata": {
    "tags": []
   },
   "outputs": [],
   "source": [
    "def foo():\n",
    "    x = [3, 6, 9]\n",
    "    \n",
    "    # Inner, nested, helper, or child function.\n",
    "    def bar(y):\n",
    "        print(y)\n",
    "    \n",
    "    for value in x:\n",
    "        bar(value)\n",
    "\n",
    "foo()\n",
    "\n",
    "# Start with this function.\n",
    "def bar(x, y):\n",
    "    if x > 4 and x < 10 and y > 4 and y < 10:\n",
    "        print(x * y)\n",
    "\n",
    "bar(1, 4)\n",
    "bar(5, 7)\n",
    "\n",
    "# Use a nested function to make this clearer.\n",
    "def bar2(x, y):\n",
    "    def in_range(v):\n",
    "        return v > 4 and v < 10\n",
    "    if in_range(x) and in_range(y):\n",
    "        print(x * y)\n",
    "\n",
    "bar2(1, 4)\n",
    "bar2(5, 7)"
   ]
  },
  {
   "cell_type": "markdown",
   "id": "40244650-a53d-4176-a922-f24d4001972e",
   "metadata": {},
   "source": [
    "#### Functions as Return Values (Demonstration)"
   ]
  },
  {
   "cell_type": "code",
   "execution_count": null,
   "id": "be61f62f-e5d8-485e-8059-b791b983f23f",
   "metadata": {
    "tags": []
   },
   "outputs": [],
   "source": [
    "def get_function():\n",
    "    def print_me(s):\n",
    "        print(s)\n",
    "    return print_me\n",
    "\n",
    "new_func = get_function()\n",
    "new_func(\"This is a sentence.\")"
   ]
  },
  {
   "cell_type": "markdown",
   "id": "bfac3f6e-c86e-4437-a180-1a8ac817e426",
   "metadata": {},
   "source": [
    "#### Building a Command Line Data App (Exercise)"
   ]
  },
  {
   "cell_type": "code",
   "execution_count": null,
   "id": "659c5c64-7d33-4b32-89d7-5e3dd9d1a382",
   "metadata": {},
   "outputs": [],
   "source": [
    "\"\"\"\n",
    "The code for load_data and get_user_input was obtained with the following\n",
    "commands:\n",
    "\n",
    "    import inspect\n",
    "    inspect.getsource(load_data)\n",
    "    inspect.getsource(get_user_input)\n",
    "    inspect.getsource(mean)\n",
    "    inspect.getsource(std)\n",
    "    inspect.getsource(maximum)\n",
    "    inspect.getsource(minimum)\n",
    "\"\"\"\n",
    "\n",
    "def load_data():\n",
    "    df = pd.DataFrame()\n",
    "    df['height'] = [72.1, 69.8, 63.2, 64.7]\n",
    "    df['weight'] = [198, 204, 164, 238]\n",
    "    return df\n",
    "\n",
    "def get_user_input(prompt='Type a command: '):\n",
    "    command = random.choice(['mean', 'std', 'minimum', 'maximum'])\n",
    "    print(prompt)\n",
    "    print('> {}'.format(command))\n",
    "    return command\n",
    "\n",
    "def mean(data):\n",
    "    print(data.mean())\n",
    "\n",
    "def std(data):\n",
    "    print(data.std())\n",
    "\n",
    "def minimum(data):\n",
    "    print(data.min())\n",
    "\n",
    "def maximum(data):\n",
    "    print(data.max())\n",
    "\n",
    "# Create a dict that maps a menu choice to a function.\n",
    "function_map = {\n",
    "    'mean': mean,\n",
    "    'std': std,\n",
    "    'minimum': minimum,\n",
    "    'maximum': maximum\n",
    "}\n",
    "# Load the data into a DataFrame.\n",
    "data = load_data()\n",
    "print(data)\n",
    "print()\n",
    "\n",
    "# Use the user's choice of function to call the desired function.\n",
    "func_name = get_user_input()\n",
    "function_map[func_name](data)"
   ]
  },
  {
   "cell_type": "markdown",
   "id": "f9faa291-037e-41ac-a21d-e523f906605a",
   "metadata": {
    "tags": []
   },
   "source": [
    "#### Check for Function Docstrings (Exercise)\n",
    "\n",
    "Determine whether a function has a docstring."
   ]
  },
  {
   "cell_type": "code",
   "execution_count": null,
   "id": "f8d7770f-acac-4211-ae8e-0b75b8f4a343",
   "metadata": {
    "tags": []
   },
   "outputs": [],
   "source": [
    "# I used inspect.getsource to obtain the code for the\n",
    "# has_docstring and load_and_plot_data functions.\n",
    "def has_dostring(func):\n",
    "    \"\"\"\n",
    "    Check to see if func has a docstring.\n",
    "    \n",
    "    Args:\n",
    "        func (callable): A function.\n",
    "        \n",
    "    Returns:\n",
    "        bool\n",
    "    \"\"\"\n",
    "    return func.__doc__ is not None\n",
    "\n",
    "def load_and_plot_data(filename):\n",
    "    \"\"\"\n",
    "    Load a data frame and plot each column.\n",
    "    \n",
    "    Args:\n",
    "        filename (str): Path to a CSV file of data.\n",
    "    \n",
    "    Returns:\n",
    "        pandas.DataFrame\n",
    "    \"\"\"\n",
    "    df = pd.load_csv(filename, index_col=0)\n",
    "    df.hist()\n",
    "    return df\n",
    "\n",
    "def as_2D(arr):\n",
    "    \"\"\"\n",
    "    Reshape an array to 2 dimensions\n",
    "    \"\"\"\n",
    "    return np.array(arr).reshape(1, -1)\n",
    "\n",
    "def log_product(arr):\n",
    "    return np.exp(np.sum(np.log(arr)))\n",
    "\n",
    "# Exercise code.\n",
    "# I revised this code to get rid of repeated code.\n",
    "def report_has_docstring(func):\n",
    "    ok = has_docstring(func)\n",
    "    if not ok:\n",
    "        print(\"{} doesn't have a docstring!\".format(func.__name__))\n",
    "    else:\n",
    "        print(\"{} looks OK.\".format(func.__name__))\n",
    "\n",
    "report_has_docstring(load_and_plot_data)\n",
    "report_has_docstring(as_2D)\n",
    "report_has_docstring(log_product)"
   ]
  },
  {
   "cell_type": "markdown",
   "id": "949b9f3a-1f53-4b8a-b9ee-a47dc34a839e",
   "metadata": {},
   "source": [
    "#### Returning Functions for a Math Game (Exercise)\n",
    "\n",
    "Use nested functions."
   ]
  },
  {
   "cell_type": "code",
   "execution_count": null,
   "id": "988c357d-aac0-4cb2-afd0-5cedef838985",
   "metadata": {
    "tags": []
   },
   "outputs": [],
   "source": [
    "# Supply functions for a math game.\n",
    "def create_math_function(func_name):\n",
    "    if func_name == 'add':\n",
    "        def add(a, b):\n",
    "            return a + b\n",
    "        return add\n",
    "    elif func_name == 'subtract':\n",
    "        # Define the subtract() function\n",
    "        def subtract(a, b):\n",
    "            return a - b\n",
    "        return subtract\n",
    "    else:\n",
    "        print(\"I don't know that one\")\n",
    "    \n",
    "add = create_math_function('add')\n",
    "print('5 + 2 = {}'.format(add(5, 2)))\n",
    "\n",
    "subtract = create_math_function('subtract')\n",
    "print('5 - 2 = {}'.format(subtract(5, 2)))"
   ]
  },
  {
   "cell_type": "markdown",
   "id": "961b0f67-7197-45ba-bc4e-903150fb097e",
   "metadata": {},
   "source": [
    "### Scope"
   ]
  },
  {
   "cell_type": "markdown",
   "id": "a3e3999e-6370-4f1f-9955-295ed53489d4",
   "metadata": {},
   "source": [
    "### Closures"
   ]
  },
  {
   "cell_type": "markdown",
   "id": "0fb80f71-3bd9-447a-8f84-15a4e06440f0",
   "metadata": {},
   "source": [
    "### Decorators"
   ]
  },
  {
   "cell_type": "markdown",
   "id": "bca1005c-7068-4afb-aaeb-10b16bddfd8f",
   "metadata": {},
   "source": [
    "## More on Decorators"
   ]
  },
  {
   "cell_type": "markdown",
   "id": "6090a54d-af0c-4eeb-a54e-a1ec7d7c30e0",
   "metadata": {},
   "source": [
    "### Real-World Examples"
   ]
  },
  {
   "cell_type": "markdown",
   "id": "5d744429-abca-4f6f-a402-8b60bd571f37",
   "metadata": {},
   "source": [
    "### Decorators and Metadata"
   ]
  },
  {
   "cell_type": "markdown",
   "id": "b49bc758-9fbf-4360-bd70-99bcdb32cc3c",
   "metadata": {},
   "source": [
    "### Decorators that Take Arguments"
   ]
  },
  {
   "cell_type": "markdown",
   "id": "cb440fb0-7261-47d2-880a-b42bf28f185b",
   "metadata": {},
   "source": [
    "### Timeout(): A Real World Example"
   ]
  }
 ],
 "metadata": {
  "kernelspec": {
   "display_name": "Python 3 (ipykernel)",
   "language": "python",
   "name": "python3"
  },
  "language_info": {
   "codemirror_mode": {
    "name": "ipython",
    "version": 3
   },
   "file_extension": ".py",
   "mimetype": "text/x-python",
   "name": "python",
   "nbconvert_exporter": "python",
   "pygments_lexer": "ipython3",
   "version": "3.11.2"
  }
 },
 "nbformat": 4,
 "nbformat_minor": 5
}
