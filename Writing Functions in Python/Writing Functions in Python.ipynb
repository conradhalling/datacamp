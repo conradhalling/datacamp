{
 "cells": [
  {
   "cell_type": "markdown",
   "id": "31df381b-8c34-4efe-afca-10b7ad610a33",
   "metadata": {},
   "source": [
    "# Writing Functions in Python\n",
    "\n",
    "## Introduction\n",
    "\n",
    "This course is presented by Shayne Miel, Director of Software Engineering at American Efficient. Collaborators are Hillary Green-Lerman and Becca Robbins.\n",
    "\n",
    "Prerequisite:\n",
    "- Python Data Science Toolbox (Part 2)\n",
    "\n",
    "This course is part of these tracks:\n",
    "- Data Engineer with Python\n",
    "- Data Scientist with Python\n",
    "- Python Programmer\n",
    "- Python Programming\n",
    "\n",
    "There are no datasets for this course.\n",
    "\n",
    "## Imports\n",
    "\n",
    "Imports are gathered here for clarity and convenience."
   ]
  },
  {
   "cell_type": "code",
   "execution_count": null,
   "id": "fe2b3004-1f6c-4a44-a221-f472a7de0bff",
   "metadata": {},
   "outputs": [],
   "source": []
  },
  {
   "cell_type": "markdown",
   "id": "f632d1dd-c545-41bc-b79f-f91bde8584c3",
   "metadata": {},
   "source": [
    "## Best Practices\n",
    "\n",
    "### Docstrings\n",
    "\n",
    "Anatomy of a docstring:\n",
    "\n",
    "```python\n",
    "def function_name(arguments):\n",
    "    \"\"\"\n",
    "    Description of what the function does.\n",
    "    \n",
    "    Description of the arguments, if any.\n",
    "    \n",
    "    Description of the return values, if any.\n",
    "    \n",
    "    Description of errors raised, if any.\n",
    "    \n",
    "    Optional extra notes or examples of usage.\n",
    "    \"\"\"\n",
    "```\n"
   ]
  },
  {
   "cell_type": "markdown",
   "id": "dd9169be-27c4-44e5-86fd-d302a5136efb",
   "metadata": {},
   "source": [
    "## Context Managers"
   ]
  },
  {
   "cell_type": "markdown",
   "id": "297b8c84-c015-4d7a-b7b2-3d6fd7faebe9",
   "metadata": {},
   "source": [
    "## Decorators"
   ]
  },
  {
   "cell_type": "markdown",
   "id": "bca1005c-7068-4afb-aaeb-10b16bddfd8f",
   "metadata": {},
   "source": [
    "## More on Decorators"
   ]
  },
  {
   "cell_type": "code",
   "execution_count": null,
   "id": "86e9bafb-b3de-4fc6-9308-c3a9e4e5d404",
   "metadata": {},
   "outputs": [],
   "source": []
  }
 ],
 "metadata": {
  "kernelspec": {
   "display_name": "Python 3 (ipykernel)",
   "language": "python",
   "name": "python3"
  },
  "language_info": {
   "codemirror_mode": {
    "name": "ipython",
    "version": 3
   },
   "file_extension": ".py",
   "mimetype": "text/x-python",
   "name": "python",
   "nbconvert_exporter": "python",
   "pygments_lexer": "ipython3",
   "version": "3.11.1"
  }
 },
 "nbformat": 4,
 "nbformat_minor": 5
}
