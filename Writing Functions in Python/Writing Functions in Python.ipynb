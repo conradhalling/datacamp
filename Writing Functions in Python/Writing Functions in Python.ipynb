{
 "cells": [
  {
   "cell_type": "markdown",
   "id": "0e5f28e6-58e3-46a2-8c6e-6cd39b30d0d1",
   "metadata": {},
   "source": [
    "# Writing Functions in Python\n",
    "\n",
    "## Introduction\n",
    "\n",
    "This course is presented by Shayne Miel, Director of Software Engineering at American Efficient. Collaborators are Hillary Green-Lerman and Becca Robbins.\n",
    "\n",
    "Prerequisite:\n",
    "- Python Data Science Toolbox (Part 2)\n",
    "\n",
    "This course is part of these tracks:\n",
    "- Data Engineer with Python\n",
    "- Data Scientist with Python\n",
    "- Python Programmer\n",
    "- Python Programming\n",
    "\n",
    "There are no datasets for this course."
   ]
  },
  {
   "cell_type": "markdown",
   "id": "76ad887f-a308-4074-a6ec-be5e4e0d8555",
   "metadata": {},
   "source": [
    "## Versions\n",
    "\n",
    "The course's IDE uses Python 3.9.7 (default, Sep 10 2021, 00:03:59) \\[GCC 7.5.0].\n",
    "\n",
    "This notebook is being written using Python 3.11.1."
   ]
  },
  {
   "cell_type": "markdown",
   "id": "f706c5a0-8f19-45ab-b763-1c892ffd15aa",
   "metadata": {},
   "source": [
    "## Resources\n",
    "\n",
    "### Docstrings\n",
    "- [Python PEP 257 - Docstring Conventions](https://peps.python.org/pep-0257/)\n",
    "- [reStructuredText Markup](https://devguide.python.org/documentation/markup/)\n",
    "- [DataCamp Docstrings Tutorial](https://www.datacamp.com/tutorial/docstrings-python)\n",
    "- [Numpy Style Guide](https://numpydoc.readthedocs.io/en/latest/format.html)\n",
    "- [Google Style Guide for Comments and Docstrings](https://google.github.io/styleguide/pyguide.html#38-comments-and-docstrings)\n",
    "\n",
    "### inspect Module\n",
    "- [inspect - Inspect live objects](https://docs.python.org/3/library/inspect.html)"
   ]
  },
  {
   "cell_type": "markdown",
   "id": "392265b2-7c39-4ea5-88ad-ac7627708164",
   "metadata": {},
   "source": [
    "## Imports\n",
    "\n",
    "Imports are gathered here for clarity and convenience."
   ]
  },
  {
   "cell_type": "code",
   "execution_count": null,
   "id": "fe2b3004-1f6c-4a44-a221-f472a7de0bff",
   "metadata": {},
   "outputs": [],
   "source": [
    "import inspect\n",
    "\n",
    "import numpy as np"
   ]
  },
  {
   "cell_type": "markdown",
   "id": "d674f128-ef0c-4e2f-b588-2fbe051cee73",
   "metadata": {},
   "source": [
    "## Best Practices\n",
    "\n",
    "### Docstrings\n",
    "\n",
    "#### Example Docstring (Demonstration)\n",
    "\n",
    "```python\n",
    "def split_and_stack(df, new_names):\n",
    "    \"\"\"\n",
    "    Split a DataFrame's columns into two halves and then stack\n",
    "    them vertically, returning a new DataFrame with 'new_names' as the\n",
    "    column names.\n",
    "    \n",
    "    Args:\n",
    "        df (DataFrame): The DataFrame to split.\n",
    "        new_names (iterable of str): The column names for the new DataFrame\n",
    "    \n",
    "    Returns:\n",
    "        DataFrame\n",
    "    \"\"\"\n",
    "    half = int(len(df.columns) / 2)\n",
    "    left = df.iloc[:, :half]\n",
    "    right = df.iloc[:, half:]\n",
    "    return pd.DataFrame(\n",
    "        data=np.vstack([left.values, right.values]),\n",
    "        columns=new_names\n",
    "    )\n",
    "```"
   ]
  },
  {
   "cell_type": "markdown",
   "id": "79f55713-6645-4c78-bebc-c57cbb1ba33e",
   "metadata": {},
   "source": [
    "#### Anatomy of a Docstring (Demonstration)\n",
    "\n",
    "```python\n",
    "def function_name(arguments):\n",
    "    \"\"\"\n",
    "    Description of what the function does.\n",
    "    \n",
    "    Description of the arguments, if any.\n",
    "    \n",
    "    Description of the return values, if any.\n",
    "    \n",
    "    Description of errors raised, if any.\n",
    "    \n",
    "    Optional extra notes or examples of usage.\n",
    "    \"\"\"\n",
    "```\n",
    "\n",
    "There are four major docstring formats:\n",
    "- Google Style\n",
    "- Numpydoc\n",
    "- reStructured Text\n",
    "- EpyText\n",
    "\n",
    "This course focuses on Google Style and Numpydoc."
   ]
  },
  {
   "cell_type": "markdown",
   "id": "57bebf80-6a03-4566-8fd8-c9a8aa562b02",
   "metadata": {},
   "source": [
    "#### Google Style Docstrings (Demonstration)\n",
    "\n",
    "Google style docstrings are used by this course because the format is more\n",
    "compact.\n",
    "\n",
    "```python\n",
    "def function(arg_1, arg_2=42):\n",
    "    \"\"\"\n",
    "    Imperative description of what the function does.\n",
    "    \n",
    "    Args:\n",
    "        arg_1 (str): Description of arg_1 that can break into the next line\n",
    "            if needed.\n",
    "        arg_2 (int, optional): Write optional when an argument has a default\n",
    "            value\n",
    "    \n",
    "    Returns:\n",
    "        bool: Optional description of the return value\n",
    "        Extra lines are not indented\n",
    "    \n",
    "    Raises:\n",
    "        ValueError: Include any error types that the function intentionally\n",
    "            raises\n",
    "    \n",
    "    Notes:\n",
    "        See https://www.datacamp.com/tutorial/docstrings-python\n",
    "        for more information.\n",
    "    \"\"\"\n",
    "```"
   ]
  },
  {
   "cell_type": "markdown",
   "id": "6541aed4-2b7b-4308-aa7d-9e25807783a7",
   "metadata": {},
   "source": [
    "#### Numpydoc Docstrings (Demonstration)\n",
    "\n",
    "Numpydoc docstrings are the most common in the scientific community.\n",
    "\n",
    "```python\n",
    "def function(arg_1, arg_2=42):\n",
    "    \"\"\"\n",
    "    Imperative description of what the function does.\n",
    "    \n",
    "    Parameters\n",
    "    ----------\n",
    "    arg_1 : expected type of arg_1\n",
    "        Description of arg_1\n",
    "    arg_2 : int, optional\n",
    "        Write optional when an argument has a default value.\n",
    "        Default=42.\n",
    "        \n",
    "    Returns\n",
    "    -------\n",
    "    The type of the return value\n",
    "        Can include a description of the return value.\n",
    "        Replace \"Returns\" with \"Yields\" if this function is a generator.\n",
    "    \"\"\"\n",
    "```"
   ]
  },
  {
   "cell_type": "markdown",
   "id": "d215dc0d-e847-4c1e-a9c5-45d6c68f0904",
   "metadata": {},
   "source": [
    "#### Retrieving Docstrings (Demonstration)"
   ]
  },
  {
   "cell_type": "code",
   "execution_count": null,
   "id": "ecd76ddb-2aa6-4f77-846e-cbcb66684e9f",
   "metadata": {
    "tags": []
   },
   "outputs": [],
   "source": [
    "def the_answer():\n",
    "    \"\"\"\n",
    "    Return the answer to life,\n",
    "    the universe, and everything.\n",
    "\n",
    "    Returns:\n",
    "        int\n",
    "    \"\"\"\n",
    "    return 42\n",
    "print(the_answer.__doc__)\n",
    "# Remove leading spaces.\n",
    "print(inspect.getdoc(the_answer))"
   ]
  },
  {
   "cell_type": "markdown",
   "id": "1b01620d-2c80-44a9-b4bd-27b425066b8c",
   "metadata": {},
   "source": [
    "#### Crafting a Docstring (Exercise)"
   ]
  },
  {
   "cell_type": "code",
   "execution_count": null,
   "id": "d2a93aaa-9ce0-4466-9363-28cb7ad77f5e",
   "metadata": {
    "tags": []
   },
   "outputs": [],
   "source": [
    "def count_letter(content, letter):\n",
    "    \"\"\"\n",
    "    Count the number of times `letter` appears in `content`.\n",
    "\n",
    "    Args:\n",
    "        content (str): The string to search.\n",
    "        letter (str): The letter to search for.\n",
    "    \n",
    "    Returns:\n",
    "        int\n",
    "    \n",
    "    Raises:\n",
    "        ValueError: If `letter` is not a one-character string.\n",
    "    \"\"\"\n",
    "    if (not isinstance(letter, str)) or len(letter) != 1:\n",
    "        raise ValueError('`letter` must be a single character string.')\n",
    "    return len([char for char in content if char == letter])"
   ]
  },
  {
   "cell_type": "markdown",
   "id": "dc5429e8-7f2b-4e5a-b19e-d6a83e84fd10",
   "metadata": {},
   "source": [
    "#### Retrieving Docstrings (Exercise)"
   ]
  },
  {
   "cell_type": "code",
   "execution_count": null,
   "id": "a96c62da-f402-4b0c-bf9d-0641930ae15b",
   "metadata": {
    "tags": []
   },
   "outputs": [],
   "source": [
    "# Display the unprocessed docstring.\n",
    "docstring = count_letter.__doc__\n",
    "border = '#' * 28\n",
    "print('{}\\n{}\\n{}'.format(border, docstring, border))\n",
    "\n",
    "# Use inspect.getdoc to remove leading and trailing blank lines and leading\n",
    "# white space from the docstring.\n",
    "docstring = inspect.getdoc(count_letter)\n",
    "border = '#' * 28\n",
    "print('{}\\n{}\\n{}'.format(border, docstring, border))\n",
    "\n",
    "def build_tooltip(function):\n",
    "    \"\"\"\n",
    "    Create a tooltip for any function that shows the\n",
    "    function's docstring.\n",
    "    \n",
    "    Args:\n",
    "        function (callable): The function we want a tooltip for.\n",
    "    \n",
    "    Returns:\n",
    "        str\n",
    "    \"\"\"\n",
    "    # Get the docstring for the function argument by using inspect.\n",
    "    docstring = inspect.getdoc(function)\n",
    "    border = \"#\" * 28\n",
    "    return \"{}\\n{}\\n{}\".format(border, docstring, border)\n",
    "\n",
    "print(build_tooltip(count_letter))\n",
    "print(build_tooltip(range))\n",
    "print(build_tooltip(print))\n",
    "print(build_tooltip(build_tooltip))\n",
    "print(build_tooltip(inspect.getdoc))"
   ]
  },
  {
   "cell_type": "markdown",
   "id": "61fa7305-0a05-4b5a-946b-f61aef9ef2a2",
   "metadata": {
    "tags": []
   },
   "source": [
    "#### Docstrings to the Rescue! (Exercise)"
   ]
  },
  {
   "cell_type": "code",
   "execution_count": null,
   "id": "035e24bb-9f96-4a73-bdbe-309b963d0968",
   "metadata": {
    "tags": []
   },
   "outputs": [],
   "source": [
    "# This was an exercise in looking at docstrings.\n",
    "print(np.histogram.__doc__)"
   ]
  },
  {
   "cell_type": "markdown",
   "id": "d57f7d86-48bb-4da6-838e-6543b249e126",
   "metadata": {},
   "source": [
    "### DRY and \"Do One Thing\"\n",
    "\n",
    "#### Don't Repeat Yourself (Demonstration)\n",
    "\n",
    "This code repeats itself, and it contains an error in the third block (`### yikes! ###`). This code is difficult to maintain because any change in the algorithm must be made at three separate locations.\n",
    "\n",
    "```python\n",
    "import matplotlib.pyplot as plt\n",
    "import pandas as pd\n",
    "from sklearn.decomposition import PCA\n",
    "\n",
    "# Analyze the training data.\n",
    "train = pd.read_csv(\"train.csv\")\n",
    "train_y = train[\"labels\"].values\n",
    "train_X = train[col for col in train.columns if col != \"labels\"].values\n",
    "train_pca = PCA(n_components=2).fit_transform(train_X)\n",
    "plt.scatter(train_pca[:, 0], train_pca[:, 1])\n",
    "\n",
    "# Analyze the validation data.\n",
    "val = pd.read_csv(\"validation.csv\")\n",
    "val_y = val[\"labels\"].values\n",
    "val_X = val[col for col in val.columns if col != \"labels\"].values\n",
    "val_pca = PCA(n_components=2).fit_transform(val_X)\n",
    "plt.scatter(val_pca[:, 0], val_pca[:, 1])\n",
    "\n",
    "# Analyze the test data.\n",
    "test = pd.read_csv(\"test.csv\")\n",
    "test_y = test[\"labels\"].values\n",
    "test_X = test[col for col in test.columns if col != \"labels\"].values\n",
    "test_pca = PCA(n_components=2).fit_transform(train_X) ### yikes! ###\n",
    "plt.scatter(test_pca[:, 0], test_pca[:, 1])\n",
    "```\n",
    "\n",
    "This is where a function is useful for eliminating repeated code. The function\n",
    "does the desired work and returns the x and y values for each dataset for\n",
    "further use. (Note that we provide a well-formatted docstring for the\n",
    "function.)\n",
    "\n",
    "```python\n",
    "def load_and_plot(path):\n",
    "    \"\"\"\n",
    "    Load a dataset and plot the first two principal components.\n",
    "    \n",
    "    Args:\n",
    "        path (str): The location of the CSV file.\n",
    "    \n",
    "    Returns:\n",
    "        tuple of ndarray: (features, labels)\n",
    "    \"\"\"\n",
    "    data = pd.read_csv(path)\n",
    "    data_y = data[\"labels\"].values\n",
    "    data_X = data[col for col in data.columns if col != \"labels\"].values\n",
    "    data_pca = PCA(n_components=2).fit_transform(data_X)\n",
    "    plt.scatter(data_pca[:, 0], data_pca[:, 1])\n",
    "    return data_X, data_y\n",
    "\n",
    "train_X, train_y = plot_pca(\"train.csv\")\n",
    "val_X, val_y = plot_pca(\"validation.csv\")\n",
    "test_X, test_y = plot_pca(\"test.csv\")\n",
    "```\n",
    "\n",
    "At this point, this function violates another software engineering principle:\n",
    "It does not do one thing (it does two or three things, depending on how you\n",
    "think about it).\n",
    "\n",
    "Create two functions that decouple data loading from data transformation and plotting.\n",
    "\n",
    "```python\n",
    "def load_data(path):\n",
    "    \"\"\"\n",
    "    Load a dataset and return the x and y values.\n",
    "    \n",
    "    Args:\n",
    "        path (str): The location of the CSV file.\n",
    "    \n",
    "    Returns:\n",
    "        tuple of ndarray: (features, labels)\n",
    "    \"\"\"\n",
    "    data = pd.read_csv(path)\n",
    "    data_y = data[\"labels\"].values\n",
    "    data_X = data[col for col in data.columns if col != \"labels\"].values\n",
    "    return data_X, data_y\n",
    "\n",
    "def plot_data(data_X):\n",
    "    \"\"\"\n",
    "    Plot the first two principal components of a matrix.\n",
    "    \n",
    "    Args:\n",
    "        data_X (numpy.ndarray): The data to plot.\n",
    "    \"\"\"\n",
    "    data_pca = PCA(n_components=2).fit_transform(data_X)\n",
    "    plt.scatter(data_pca[:, 0], data_pca[:, 1])\n",
    "```\n",
    "\n",
    "When writing functions that do one thing, the code becomes:\n",
    "- more flexible\n",
    "- more easily understood\n",
    "- simpler to test\n",
    "- simpler to debug\n",
    "- easier to change\n",
    "\n",
    "Shayne Miel recommends reading _Refactoring: Improving the Design of Existing Code (2nd Edition)_ by Martin Fowler."
   ]
  },
  {
   "cell_type": "markdown",
   "id": "c5a86d81-bd66-47b7-ae89-bc4059c55120",
   "metadata": {},
   "source": [
    "By the way, reading this code inspired me to look into how to do principle component analysis using PCA. See [Principal Component Analysis of Breast Cancer Dataset](../Principal%20Component%20Analysis%20in%20Python/Principal%20Component%20Analysis%20of%20Breast%20Cancer%20Dataset.ipynb)."
   ]
  },
  {
   "cell_type": "markdown",
   "id": "dd9169be-27c4-44e5-86fd-d302a5136efb",
   "metadata": {},
   "source": [
    "## Context Managers"
   ]
  },
  {
   "cell_type": "markdown",
   "id": "297b8c84-c015-4d7a-b7b2-3d6fd7faebe9",
   "metadata": {},
   "source": [
    "## Decorators"
   ]
  },
  {
   "cell_type": "markdown",
   "id": "bca1005c-7068-4afb-aaeb-10b16bddfd8f",
   "metadata": {},
   "source": [
    "## More on Decorators"
   ]
  },
  {
   "cell_type": "code",
   "execution_count": null,
   "id": "86e9bafb-b3de-4fc6-9308-c3a9e4e5d404",
   "metadata": {},
   "outputs": [],
   "source": []
  }
 ],
 "metadata": {
  "kernelspec": {
   "display_name": "Python 3 (ipykernel)",
   "language": "python",
   "name": "python3"
  },
  "language_info": {
   "codemirror_mode": {
    "name": "ipython",
    "version": 3
   },
   "file_extension": ".py",
   "mimetype": "text/x-python",
   "name": "python",
   "nbconvert_exporter": "python",
   "pygments_lexer": "ipython3",
   "version": "3.11.1"
  }
 },
 "nbformat": 4,
 "nbformat_minor": 5
}
