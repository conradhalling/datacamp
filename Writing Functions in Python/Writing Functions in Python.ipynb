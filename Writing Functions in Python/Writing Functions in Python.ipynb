{
 "cells": [
  {
   "cell_type": "markdown",
   "id": "0e5f28e6-58e3-46a2-8c6e-6cd39b30d0d1",
   "metadata": {},
   "source": [
    "# Writing Functions in Python\n",
    "\n",
    "## Introduction\n",
    "\n",
    "This course is presented by Shayne Miel, Director of Software Engineering at American Efficient. Collaborators are Hillary Green-Lerman and Becca Robbins.\n",
    "\n",
    "Prerequisite:\n",
    "- Python Data Science Toolbox (Part 2)\n",
    "\n",
    "This course is part of these tracks:\n",
    "- Data Engineer with Python\n",
    "- Data Scientist with Python\n",
    "- Python Programmer\n",
    "- Python Programming\n",
    "\n",
    "There are no datasets for this course."
   ]
  },
  {
   "cell_type": "markdown",
   "id": "f706c5a0-8f19-45ab-b763-1c892ffd15aa",
   "metadata": {},
   "source": [
    "## Resources\n",
    "\n",
    "### Docstrings\n",
    "- [Python PEP 257 - Docstring Conventions](https://peps.python.org/pep-0257/)\n",
    "- [reStructuredText Markup](https://devguide.python.org/documentation/markup/)\n",
    "- [DataCamp Docstrings Tutorial](https://www.datacamp.com/tutorial/docstrings-python)\n",
    "- [Numpy Style Guide](https://numpydoc.readthedocs.io/en/latest/format.html)\n",
    "- [Google Style Guide for Comments and Docstrings](https://google.github.io/styleguide/pyguide.html#38-comments-and-docstrings)\n",
    "\n",
    "### inspect Module\n",
    "- [inspect - Inspect live objects](https://docs.python.org/3/library/inspect.html)"
   ]
  },
  {
   "cell_type": "markdown",
   "id": "392265b2-7c39-4ea5-88ad-ac7627708164",
   "metadata": {},
   "source": [
    "## Imports\n",
    "\n",
    "Imports are gathered here for clarity and convenience."
   ]
  },
  {
   "cell_type": "code",
   "execution_count": null,
   "id": "fe2b3004-1f6c-4a44-a221-f472a7de0bff",
   "metadata": {},
   "outputs": [],
   "source": [
    "import inspect"
   ]
  },
  {
   "cell_type": "markdown",
   "id": "d674f128-ef0c-4e2f-b588-2fbe051cee73",
   "metadata": {},
   "source": [
    "## Best Practices\n",
    "\n",
    "### Docstrings\n",
    "\n",
    "#### Example Docstring (Demonstration)\n",
    "\n",
    "```python\n",
    "def split_and_stack(df, new_names):\n",
    "    \"\"\"\n",
    "    Split a DataFrame's columns into two halves and then stack\n",
    "    them vertically, returning a new DataFrame with 'new_names' as the\n",
    "    column names.\n",
    "    \n",
    "    Args:\n",
    "        df (DataFrame): The DataFrame to split.\n",
    "        new_names (iterable of str): The column names for the new DataFrame\n",
    "    \n",
    "    Returns:\n",
    "        DataFrame\n",
    "    \"\"\"\n",
    "    half = int(len(df.columns) / 2)\n",
    "    left = df.iloc[:, :half]\n",
    "    right = df.iloc[:, half:]\n",
    "    return pd.DataFrame(\n",
    "        data=np.vstack([left.values, right.values]),\n",
    "        columns=new_names\n",
    "    )\n",
    "```"
   ]
  },
  {
   "cell_type": "markdown",
   "id": "79f55713-6645-4c78-bebc-c57cbb1ba33e",
   "metadata": {},
   "source": [
    "#### Anatomy of a Docstring (Demonstration)\n",
    "\n",
    "```python\n",
    "def function_name(arguments):\n",
    "    \"\"\"\n",
    "    Description of what the function does.\n",
    "    \n",
    "    Description of the arguments, if any.\n",
    "    \n",
    "    Description of the return values, if any.\n",
    "    \n",
    "    Description of errors raised, if any.\n",
    "    \n",
    "    Optional extra notes or examples of usage.\n",
    "    \"\"\"\n",
    "```\n",
    "\n",
    "There are four major docstring formats:\n",
    "- Google Style\n",
    "- Numpydoc\n",
    "- reStructured Text\n",
    "- EpyText\n",
    "\n",
    "This course focuses on Google Style and Numpydoc."
   ]
  },
  {
   "cell_type": "markdown",
   "id": "57bebf80-6a03-4566-8fd8-c9a8aa562b02",
   "metadata": {},
   "source": [
    "#### Google Style Docstrings (Demonstration)\n",
    "\n",
    "Google style docstrings are used by this course because the format is more\n",
    "compact.\n",
    "\n",
    "```python\n",
    "def function(arg_1, arg_2=42):\n",
    "    \"\"\"\n",
    "    Imperative description of what the function does.\n",
    "    \n",
    "    Args:\n",
    "        arg_1 (str): Description of arg_1 that can break into the next line\n",
    "            if needed.\n",
    "        arg_2 (int, optional): Write optional when an argument has a default\n",
    "            value\n",
    "    \n",
    "    Returns:\n",
    "        bool: Optional description of the return value\n",
    "        Extra lines are not indented\n",
    "    \n",
    "    Raises:\n",
    "        ValueError: Include any error types that the function intentionally\n",
    "            raises\n",
    "    \n",
    "    Notes:\n",
    "        See https://www.datacamp.com/tutorial/docstrings-python\n",
    "        for more information.\n",
    "    \"\"\"\n",
    "```"
   ]
  },
  {
   "cell_type": "markdown",
   "id": "6541aed4-2b7b-4308-aa7d-9e25807783a7",
   "metadata": {},
   "source": [
    "#### Numpydoc Docstrings (Demonstration)\n",
    "\n",
    "Numpydoc docstrings are the most common in the scientific community.\n",
    "\n",
    "```python\n",
    "def function(arg_1, arg_2=42):\n",
    "    \"\"\"\n",
    "    Imperative description of what the function does.\n",
    "    \n",
    "    Parameters\n",
    "    ----------\n",
    "    arg_1 : expected type of arg_1\n",
    "        Description of arg_1\n",
    "    arg_2 : int, optional\n",
    "        Write optional when an argument has a default value.\n",
    "        Default=42.\n",
    "        \n",
    "    Returns\n",
    "    -------\n",
    "    The type of the return value\n",
    "        Can include a description of the return value.\n",
    "        Replace \"Returns\" with \"Yields\" if this function is a generator.\n",
    "    \"\"\"\n",
    "```"
   ]
  },
  {
   "cell_type": "markdown",
   "id": "d215dc0d-e847-4c1e-a9c5-45d6c68f0904",
   "metadata": {},
   "source": [
    "#### Retrieving Docstrings (Demonstration)"
   ]
  },
  {
   "cell_type": "code",
   "execution_count": null,
   "id": "ecd76ddb-2aa6-4f77-846e-cbcb66684e9f",
   "metadata": {
    "tags": []
   },
   "outputs": [],
   "source": [
    "def the_answer():\n",
    "    \"\"\"\n",
    "    Return the answer to life,\n",
    "    the universe, and everything.\n",
    "\n",
    "    Returns:\n",
    "        int\n",
    "    \"\"\"\n",
    "    return 42\n",
    "print(the_answer.__doc__)\n",
    "# Remove leading spaces.\n",
    "print(inspect.getdoc(the_answer))"
   ]
  },
  {
   "cell_type": "markdown",
   "id": "1b01620d-2c80-44a9-b4bd-27b425066b8c",
   "metadata": {},
   "source": [
    "#### Crafting a Docstring (Exercise)"
   ]
  },
  {
   "cell_type": "markdown",
   "id": "dd9169be-27c4-44e5-86fd-d302a5136efb",
   "metadata": {},
   "source": [
    "## Context Managers"
   ]
  },
  {
   "cell_type": "markdown",
   "id": "297b8c84-c015-4d7a-b7b2-3d6fd7faebe9",
   "metadata": {},
   "source": [
    "## Decorators"
   ]
  },
  {
   "cell_type": "markdown",
   "id": "bca1005c-7068-4afb-aaeb-10b16bddfd8f",
   "metadata": {},
   "source": [
    "## More on Decorators"
   ]
  },
  {
   "cell_type": "code",
   "execution_count": null,
   "id": "86e9bafb-b3de-4fc6-9308-c3a9e4e5d404",
   "metadata": {},
   "outputs": [],
   "source": []
  }
 ],
 "metadata": {
  "kernelspec": {
   "display_name": "Python 3 (ipykernel)",
   "language": "python",
   "name": "python3"
  },
  "language_info": {
   "codemirror_mode": {
    "name": "ipython",
    "version": 3
   },
   "file_extension": ".py",
   "mimetype": "text/x-python",
   "name": "python",
   "nbconvert_exporter": "python",
   "pygments_lexer": "ipython3",
   "version": "3.11.1"
  }
 },
 "nbformat": 4,
 "nbformat_minor": 5
}
