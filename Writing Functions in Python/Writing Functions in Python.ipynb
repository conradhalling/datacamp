{
 "cells": [
  {
   "cell_type": "markdown",
   "id": "0e5f28e6-58e3-46a2-8c6e-6cd39b30d0d1",
   "metadata": {},
   "source": [
    "# Writing Functions in Python\n",
    "\n",
    "## Introduction\n",
    "\n",
    "This course is presented by Shayne Miel, Director of Software Engineering at American Efficient. Collaborators are Hillary Green-Lerman and Becca Robbins.\n",
    "\n",
    "Prerequisite:\n",
    "- Python Data Science Toolbox (Part 2)\n",
    "\n",
    "This course is part of these tracks:\n",
    "- Data Engineer with Python\n",
    "- Data Scientist with Python\n",
    "- Python Programmer\n",
    "- Python Programming\n",
    "\n",
    "There are no datasets for this course."
   ]
  },
  {
   "cell_type": "markdown",
   "id": "76ad887f-a308-4074-a6ec-be5e4e0d8555",
   "metadata": {},
   "source": [
    "## Versions\n",
    "\n",
    "The course's IDE uses Python 3.9.7 (default, Sep 10 2021, 00:03:59) \\[GCC 7.5.0].\n",
    "\n",
    "This notebook is being written using Python 3.11.1."
   ]
  },
  {
   "cell_type": "markdown",
   "id": "1c1cc693-f350-4823-ba00-9e548812f920",
   "metadata": {},
   "source": [
    "## Data Set\n",
    "\n",
    "| File | Description |\n",
    "| :--- | :----|\n",
    "| alice.txt | The complete text of _Alice in Wonderland_ |"
   ]
  },
  {
   "cell_type": "markdown",
   "id": "f706c5a0-8f19-45ab-b763-1c892ffd15aa",
   "metadata": {},
   "source": [
    "## Resources\n",
    "\n",
    "### Docstrings\n",
    "- [Python PEP 257 - Docstring Conventions](https://peps.python.org/pep-0257/)\n",
    "- [reStructuredText Markup](https://devguide.python.org/documentation/markup/)\n",
    "- [DataCamp Docstrings Tutorial](https://www.datacamp.com/tutorial/docstrings-python)\n",
    "- [Numpy Style Guide](https://numpydoc.readthedocs.io/en/latest/format.html)\n",
    "- [Google Style Guide for Comments and Docstrings](https://google.github.io/styleguide/pyguide.html#38-comments-and-docstrings)\n",
    "\n",
    "### inspect Module\n",
    "- [inspect - Inspect live objects](https://docs.python.org/3/library/inspect.html)"
   ]
  },
  {
   "cell_type": "markdown",
   "id": "392265b2-7c39-4ea5-88ad-ac7627708164",
   "metadata": {},
   "source": [
    "## Imports\n",
    "\n",
    "Imports are gathered here for clarity and convenience."
   ]
  },
  {
   "cell_type": "code",
   "execution_count": null,
   "id": "fe2b3004-1f6c-4a44-a221-f472a7de0bff",
   "metadata": {},
   "outputs": [],
   "source": [
    "import contextlib\n",
    "import inspect\n",
    "\n",
    "import numpy as np\n",
    "import pandas as pd\n",
    "import time"
   ]
  },
  {
   "cell_type": "markdown",
   "id": "d674f128-ef0c-4e2f-b588-2fbe051cee73",
   "metadata": {},
   "source": [
    "## Best Practices\n",
    "\n",
    "### Docstrings\n",
    "\n",
    "#### Example Docstring (Demonstration)\n",
    "\n",
    "```python\n",
    "def split_and_stack(df, new_names):\n",
    "    \"\"\"\n",
    "    Split a DataFrame's columns into two halves and then stack\n",
    "    them vertically, returning a new DataFrame with 'new_names' as the\n",
    "    column names.\n",
    "    \n",
    "    Args:\n",
    "        df (DataFrame): The DataFrame to split.\n",
    "        new_names (iterable of str): The column names for the new DataFrame\n",
    "    \n",
    "    Returns:\n",
    "        DataFrame\n",
    "    \"\"\"\n",
    "    half = int(len(df.columns) / 2)\n",
    "    left = df.iloc[:, :half]\n",
    "    right = df.iloc[:, half:]\n",
    "    return pd.DataFrame(\n",
    "        data=np.vstack([left.values, right.values]),\n",
    "        columns=new_names\n",
    "    )\n",
    "```"
   ]
  },
  {
   "cell_type": "markdown",
   "id": "79f55713-6645-4c78-bebc-c57cbb1ba33e",
   "metadata": {},
   "source": [
    "#### Anatomy of a Docstring (Demonstration)\n",
    "\n",
    "```python\n",
    "def function_name(arguments):\n",
    "    \"\"\"\n",
    "    Description of what the function does.\n",
    "    \n",
    "    Description of the arguments, if any.\n",
    "    \n",
    "    Description of the return values, if any.\n",
    "    \n",
    "    Description of errors raised, if any.\n",
    "    \n",
    "    Optional extra notes or examples of usage.\n",
    "    \"\"\"\n",
    "```\n",
    "\n",
    "There are four major docstring formats:\n",
    "- Google Style\n",
    "- Numpydoc\n",
    "- reStructured Text\n",
    "- EpyText\n",
    "\n",
    "This course focuses on Google Style and Numpydoc."
   ]
  },
  {
   "cell_type": "markdown",
   "id": "57bebf80-6a03-4566-8fd8-c9a8aa562b02",
   "metadata": {},
   "source": [
    "#### Google Style Docstrings (Demonstration)\n",
    "\n",
    "Google style docstrings are used by this course because the format is more\n",
    "compact.\n",
    "\n",
    "```python\n",
    "def function(arg_1, arg_2=42):\n",
    "    \"\"\"\n",
    "    Imperative description of what the function does.\n",
    "    \n",
    "    Args:\n",
    "        arg_1 (str): Description of arg_1 that can break into the next line\n",
    "            if needed.\n",
    "        arg_2 (int, optional): Write optional when an argument has a default\n",
    "            value\n",
    "    \n",
    "    Returns:\n",
    "        bool: Optional description of the return value\n",
    "        Extra lines are not indented\n",
    "    \n",
    "    Raises:\n",
    "        ValueError: Include any error types that the function intentionally\n",
    "            raises\n",
    "    \n",
    "    Notes:\n",
    "        See https://www.datacamp.com/tutorial/docstrings-python\n",
    "        for more information.\n",
    "    \"\"\"\n",
    "```"
   ]
  },
  {
   "cell_type": "markdown",
   "id": "6541aed4-2b7b-4308-aa7d-9e25807783a7",
   "metadata": {},
   "source": [
    "#### Numpydoc Docstrings (Demonstration)\n",
    "\n",
    "Numpydoc docstrings are the most common in the scientific community.\n",
    "\n",
    "```python\n",
    "def function(arg_1, arg_2=42):\n",
    "    \"\"\"\n",
    "    Imperative description of what the function does.\n",
    "    \n",
    "    Parameters\n",
    "    ----------\n",
    "    arg_1 : expected type of arg_1\n",
    "        Description of arg_1\n",
    "    arg_2 : int, optional\n",
    "        Write optional when an argument has a default value.\n",
    "        Default=42.\n",
    "        \n",
    "    Returns\n",
    "    -------\n",
    "    The type of the return value\n",
    "        Can include a description of the return value.\n",
    "        Replace \"Returns\" with \"Yields\" if this function is a generator.\n",
    "    \"\"\"\n",
    "```"
   ]
  },
  {
   "cell_type": "markdown",
   "id": "d215dc0d-e847-4c1e-a9c5-45d6c68f0904",
   "metadata": {},
   "source": [
    "#### Retrieving Docstrings (Demonstration)"
   ]
  },
  {
   "cell_type": "code",
   "execution_count": null,
   "id": "ecd76ddb-2aa6-4f77-846e-cbcb66684e9f",
   "metadata": {
    "tags": []
   },
   "outputs": [],
   "source": [
    "def the_answer():\n",
    "    \"\"\"\n",
    "    Return the answer to life,\n",
    "    the universe, and everything.\n",
    "\n",
    "    Returns:\n",
    "        int\n",
    "    \"\"\"\n",
    "    return 42\n",
    "print(the_answer.__doc__)\n",
    "# Remove leading spaces.\n",
    "print(inspect.getdoc(the_answer))"
   ]
  },
  {
   "cell_type": "markdown",
   "id": "1b01620d-2c80-44a9-b4bd-27b425066b8c",
   "metadata": {},
   "source": [
    "#### Crafting a Docstring (Exercise)"
   ]
  },
  {
   "cell_type": "code",
   "execution_count": null,
   "id": "d2a93aaa-9ce0-4466-9363-28cb7ad77f5e",
   "metadata": {
    "tags": []
   },
   "outputs": [],
   "source": [
    "def count_letter(content, letter):\n",
    "    \"\"\"\n",
    "    Count the number of times `letter` appears in `content`.\n",
    "\n",
    "    Args:\n",
    "        content (str): The string to search.\n",
    "        letter (str): The letter to search for.\n",
    "    \n",
    "    Returns:\n",
    "        int\n",
    "    \n",
    "    Raises:\n",
    "        ValueError: If `letter` is not a one-character string.\n",
    "    \"\"\"\n",
    "    if (not isinstance(letter, str)) or len(letter) != 1:\n",
    "        raise ValueError('`letter` must be a single character string.')\n",
    "    return len([char for char in content if char == letter])"
   ]
  },
  {
   "cell_type": "markdown",
   "id": "dc5429e8-7f2b-4e5a-b19e-d6a83e84fd10",
   "metadata": {},
   "source": [
    "#### Retrieving Docstrings (Exercise)"
   ]
  },
  {
   "cell_type": "code",
   "execution_count": null,
   "id": "a96c62da-f402-4b0c-bf9d-0641930ae15b",
   "metadata": {
    "tags": []
   },
   "outputs": [],
   "source": [
    "# Display the unprocessed docstring.\n",
    "docstring = count_letter.__doc__\n",
    "border = '#' * 28\n",
    "print('{}\\n{}\\n{}'.format(border, docstring, border))\n",
    "\n",
    "# Use inspect.getdoc to remove leading and trailing blank lines and leading\n",
    "# white space from the docstring.\n",
    "docstring = inspect.getdoc(count_letter)\n",
    "border = '#' * 28\n",
    "print('{}\\n{}\\n{}'.format(border, docstring, border))\n",
    "\n",
    "def build_tooltip(function):\n",
    "    \"\"\"\n",
    "    Create a tooltip for any function that shows the\n",
    "    function's docstring.\n",
    "    \n",
    "    Args:\n",
    "        function (callable): The function we want a tooltip for.\n",
    "    \n",
    "    Returns:\n",
    "        str\n",
    "    \"\"\"\n",
    "    # Get the docstring for the function argument by using inspect.\n",
    "    docstring = inspect.getdoc(function)\n",
    "    border = \"#\" * 28\n",
    "    return \"{}\\n{}\\n{}\".format(border, docstring, border)\n",
    "\n",
    "print(build_tooltip(count_letter))\n",
    "print(build_tooltip(range))\n",
    "print(build_tooltip(print))\n",
    "print(build_tooltip(build_tooltip))\n",
    "print(build_tooltip(inspect.getdoc))"
   ]
  },
  {
   "cell_type": "markdown",
   "id": "61fa7305-0a05-4b5a-946b-f61aef9ef2a2",
   "metadata": {
    "tags": []
   },
   "source": [
    "#### Docstrings to the Rescue! (Exercise)"
   ]
  },
  {
   "cell_type": "code",
   "execution_count": null,
   "id": "035e24bb-9f96-4a73-bdbe-309b963d0968",
   "metadata": {
    "tags": []
   },
   "outputs": [],
   "source": [
    "# This was an exercise in looking at docstrings.\n",
    "print(np.histogram.__doc__)"
   ]
  },
  {
   "cell_type": "markdown",
   "id": "d57f7d86-48bb-4da6-838e-6543b249e126",
   "metadata": {},
   "source": [
    "### DRY and \"Do One Thing\"\n",
    "\n",
    "#### Don't Repeat Yourself (Demonstration)\n",
    "\n",
    "This code repeats itself, and it contains an error in the last code block (`### yikes! ###`). Code like this is difficult to maintain because any change in the algorithm must be made at three separate locations.\n",
    "\n",
    "```python\n",
    "import matplotlib.pyplot as plt\n",
    "import pandas as pd\n",
    "from sklearn.decomposition import PCA\n",
    "\n",
    "# Analyze the training data.\n",
    "train = pd.read_csv(\"train.csv\")\n",
    "train_y = train[\"labels\"].values\n",
    "train_X = train[col for col in train.columns if col != \"labels\"].values\n",
    "train_pca = PCA(n_components=2).fit_transform(train_X)\n",
    "plt.scatter(train_pca[:, 0], train_pca[:, 1])\n",
    "\n",
    "# Analyze the validation data.\n",
    "val = pd.read_csv(\"validation.csv\")\n",
    "val_y = val[\"labels\"].values\n",
    "val_X = val[col for col in val.columns if col != \"labels\"].values\n",
    "val_pca = PCA(n_components=2).fit_transform(val_X)\n",
    "plt.scatter(val_pca[:, 0], val_pca[:, 1])\n",
    "\n",
    "# Analyze the test data.\n",
    "test = pd.read_csv(\"test.csv\")\n",
    "test_y = test[\"labels\"].values\n",
    "test_X = test[col for col in test.columns if col != \"labels\"].values\n",
    "test_pca = PCA(n_components=2).fit_transform(train_X) ### yikes! ###\n",
    "plt.scatter(test_pca[:, 0], test_pca[:, 1])\n",
    "```\n",
    "\n",
    "This is where a function is useful for eliminating repeated code. The function\n",
    "does the desired work and returns the x and y values for each dataset for\n",
    "further use. (Note that we provide a well-formatted docstring for the\n",
    "function.)\n",
    "\n",
    "```python\n",
    "def load_and_plot(path):\n",
    "    \"\"\"\n",
    "    Load a dataset and plot the first two principal components.\n",
    "    \n",
    "    Args:\n",
    "        path (str): The location of the CSV file.\n",
    "    \n",
    "    Returns:\n",
    "        tuple of ndarray: (features, labels)\n",
    "    \"\"\"\n",
    "    data = pd.read_csv(path)\n",
    "    data_y = data[\"labels\"].values\n",
    "    data_X = data[col for col in data.columns if col != \"labels\"].values\n",
    "    data_pca = PCA(n_components=2).fit_transform(data_X)\n",
    "    plt.scatter(data_pca[:, 0], data_pca[:, 1])\n",
    "    return data_X, data_y\n",
    "\n",
    "train_X, train_y = plot_pca(\"train.csv\")\n",
    "val_X, val_y = plot_pca(\"validation.csv\")\n",
    "test_X, test_y = plot_pca(\"test.csv\")\n",
    "```\n",
    "\n",
    "At this point, this function violates another software engineering principle:\n",
    "It does not do just one thing. The function does three things:\n",
    "\n",
    "1) it loads data\n",
    "2) it transforms data\n",
    "3) it plots data\n",
    "\n",
    "Here, the course creates two functions that decouple data loading from data transformation and plotting.\n",
    "\n",
    "```python\n",
    "def load_data(path):\n",
    "    \"\"\"\n",
    "    Load a dataset and return the x and y values.\n",
    "    \n",
    "    Args:\n",
    "        path (str): The location of the CSV file.\n",
    "    \n",
    "    Returns:\n",
    "        tuple of ndarray: (features, labels)\n",
    "    \"\"\"\n",
    "    data = pd.read_csv(path)\n",
    "    data_y = data[\"labels\"].values\n",
    "    data_X = data[col for col in data.columns if col != \"labels\"].values\n",
    "    return data_X, data_y\n",
    "\n",
    "def plot_data(data_X):\n",
    "    \"\"\"\n",
    "    Plot the first two principal components of a matrix.\n",
    "    \n",
    "    Args:\n",
    "        data_X (numpy.ndarray): The data to plot.\n",
    "    \"\"\"\n",
    "    data_pca = PCA(n_components=2).fit_transform(data_X)\n",
    "    plt.scatter(data_pca[:, 0], data_pca[:, 1])\n",
    "```\n",
    "\n",
    "When writing functions that do one thing, the code becomes:\n",
    "- more flexible\n",
    "- more easily understood\n",
    "- simpler to test\n",
    "- simpler to debug\n",
    "- easier to change\n",
    "\n",
    "Shayne Miel recommends reading _Refactoring: Improving the Design of Existing Code (2nd Edition)_ by Martin Fowler."
   ]
  },
  {
   "cell_type": "markdown",
   "id": "c5a86d81-bd66-47b7-ae89-bc4059c55120",
   "metadata": {},
   "source": [
    "By the way, reading this code inspired me to look into how to do principle component analysis using PCA. See [Principal Component Analysis of Breast Cancer Dataset](../Principal%20Component%20Analysis%20in%20Python/Principal%20Component%20Analysis%20of%20Breast%20Cancer%20Dataset.ipynb)."
   ]
  },
  {
   "cell_type": "markdown",
   "id": "5930ac78-6618-48a9-a0ac-1bca07342f99",
   "metadata": {},
   "source": [
    "#### Extract a Function (Exercise)\n",
    "\n",
    "Create a function that standardizes the values in a column, and use it on four columns of a DataFrame.\n",
    "\n",
    "```python\n",
    "def standardize(column):\n",
    "    \"\"\"\n",
    "    Standardize the values in a column.\n",
    "\n",
    "    Args:\n",
    "        column (pandas Series): The data to standardize.\n",
    "\n",
    "    Returns:\n",
    "        pandas Series: the values as z-scores\n",
    "    \"\"\"\n",
    "    # Finish the function so that it returns the z-scores\n",
    "    z_score = (column - column.mean()) / column.std()\n",
    "    return z_score\n",
    "\n",
    "# Use the standardize() function to calculate the z-scores\n",
    "df['y1_z'] = standardize(df.y1_gpa)\n",
    "df['y2_z'] = standardize(df.y2_gpa)\n",
    "df['y3_z'] = standardize(df.y3_gpa)\n",
    "df['y4_z'] = standardize(df.y4_gpa)\n",
    "```"
   ]
  },
  {
   "cell_type": "markdown",
   "id": "47e35e81-ed02-4222-9f57-b36ce656d53e",
   "metadata": {},
   "source": [
    "#### Split Up a Function (Exercise)\n",
    "\n",
    "Split up the original function, which calculates both mean and median and returns them, into two functions, each of which does one thing.\n",
    "\n",
    "```python\n",
    "def mean(values):\n",
    "    \"\"\"\n",
    "    Return the mean of a sorted list of values.\n",
    "    \n",
    "    Args:\n",
    "        values (iterable of float): A list of numbers\n",
    "    \n",
    "    Returns:\n",
    "        float\n",
    "    \"\"\"\n",
    "    mean = sum(values) / len(values)\n",
    "    return mean\n",
    "\n",
    "def median(values):\n",
    "    \"\"\"\n",
    "    Return the median of a sorted list of values.\n",
    "    \n",
    "    Args:\n",
    "        values (iterable of float): A list of numbers\n",
    "    \n",
    "    Returns:\n",
    "        float\n",
    "    \"\"\"\n",
    "    midpoint = int(len(values) / 2)\n",
    "    if len(values) %2 == 0:\n",
    "        median = (values[midpoint - 1] + values[midpoint]) / 2\n",
    "    else:\n",
    "        median = values[midpoint]\n",
    "    \n",
    "    return median\n",
    "```"
   ]
  },
  {
   "cell_type": "markdown",
   "id": "0ef131fc-67a7-444a-ac45-663f493a394d",
   "metadata": {},
   "source": [
    "### Pass by Assignment\n",
    "\n",
    "A list is mutable, but an integer is immutable.\n",
    "\n",
    "See [Pass-by-value, reference, and assignment](https://mathspp.com/blog/pydonts/pass-by-value-reference-and-assignment)."
   ]
  },
  {
   "cell_type": "code",
   "execution_count": null,
   "id": "349178f2-85ca-49c8-a44e-d5abddd4f0e8",
   "metadata": {
    "tags": []
   },
   "outputs": [],
   "source": [
    "# Pass by reference (using a pointer).\n",
    "def foo(x):\n",
    "    x[0] = 99\n",
    "my_list = [1, 2, 3]\n",
    "print(my_list)\n",
    "foo(my_list)\n",
    "print(my_list)\n",
    "print()\n",
    "\n",
    "# Pass by value?\n",
    "def bar(x):\n",
    "    x = x + 90\n",
    "my_var = 3\n",
    "print(my_var)\n",
    "bar(my_var)\n",
    "print(my_var)\n",
    "print()\n",
    "\n",
    "# a and b refer to the same list.\n",
    "a = [1, 2, 3]\n",
    "print(a)\n",
    "b = a\n",
    "a.append(4)\n",
    "print(b)\n",
    "b.append(5)\n",
    "print(a)"
   ]
  },
  {
   "cell_type": "markdown",
   "id": "3d2150f3-4de0-4089-9003-0516a95915db",
   "metadata": {},
   "source": [
    "Immutable data types:\n",
    "- int\n",
    "- float\n",
    "- bool\n",
    "- string\n",
    "- bytes\n",
    "- tuple\n",
    "- frozenset\n",
    "- None\n",
    "\n",
    "Mutable data types:\n",
    "- list\n",
    "- dict\n",
    "- set\n",
    "- bytearray\n",
    "- objects\n",
    "- functions\n",
    "- almost everything else!"
   ]
  },
  {
   "cell_type": "markdown",
   "id": "44649e52-f9ea-450e-8767-8d9ec47d2881",
   "metadata": {},
   "source": [
    "#### Mutable Default Arguments Are Dangerous! (Demonstration)\n",
    "\n",
    "See this example for why you shouldn't set a default to an empty list or another mutable object."
   ]
  },
  {
   "cell_type": "code",
   "execution_count": null,
   "id": "10f51773-b386-4c61-8b6d-8f2cab73f049",
   "metadata": {
    "tags": []
   },
   "outputs": [],
   "source": [
    "def foo(var=[]):\n",
    "    var.append(1)\n",
    "    return var\n",
    "print(foo())\n",
    "print(foo())\n",
    "print()\n",
    "\n",
    "# This is the correct way.\n",
    "def foo2(var=None):\n",
    "    if var is None:\n",
    "        var = []\n",
    "    var.append(1)\n",
    "    return var\n",
    "print(foo2())\n",
    "print(foo2())"
   ]
  },
  {
   "cell_type": "markdown",
   "id": "10c53ff9-2a0c-461a-8505-01f95daf95fd",
   "metadata": {},
   "source": [
    "#### Mutable or Immutable? (Exercise)\n",
    "\n",
    "The following function adds a mapping between a string and the lowercase version of that string to a dictionary. What do you expect the values of d and s to be after the function is called?"
   ]
  },
  {
   "cell_type": "code",
   "execution_count": null,
   "id": "cf07f5ad-f6ee-4408-9edf-c57db501f47b",
   "metadata": {
    "tags": []
   },
   "outputs": [],
   "source": [
    "def store_lower(_dict, _string):\n",
    "    \"\"\"\n",
    "    Add a mapping between `_string` and a lowercased version of `_string` to\n",
    "    `_dict`\n",
    "\n",
    "    Args:\n",
    "        _dict (dict): The dictionary to update.\n",
    "        _string (str): The string to add.\n",
    "    \"\"\"\n",
    "    orig_string = _string\n",
    "    _string = _string.lower()\n",
    "    _dict[orig_string] = _string\n",
    "\n",
    "# A dictionary is a mutable object, but a string is immutable.\n",
    "d = {}\n",
    "s = 'Hello'\n",
    "\n",
    "store_lower(d, s)\n",
    "print(d,)\n",
    "print(s)"
   ]
  },
  {
   "cell_type": "markdown",
   "id": "40efc6de-824e-4fa9-9a2e-f02c1281aa68",
   "metadata": {},
   "source": [
    "#### Best Practice for Default Arguments (Exercise)\n",
    "\n",
    "Avoid using a mutable default argument."
   ]
  },
  {
   "cell_type": "code",
   "execution_count": null,
   "id": "911b40fc-3762-40ca-82d6-a28cfbbd6558",
   "metadata": {
    "tags": []
   },
   "outputs": [],
   "source": [
    "def better_add_column(values, df=None):\n",
    "    \"\"\"\n",
    "    Add a column of `values` to a DataFrame `df`.\n",
    "    The column will be named \"col_<n>\", where \"n\" is\n",
    "    the numerical index of the column.\n",
    "    \n",
    "    Args:\n",
    "        values (iterable): The values of the new column\n",
    "        df (DataFrame, optional): The DataFrame to update.\n",
    "            If no DataFrame is passed, one is created by default.\n",
    "    \n",
    "    Returns:\n",
    "        DataFrame\n",
    "    \"\"\"\n",
    "    if df is None:\n",
    "        df = pd.DataFrame()\n",
    "    df[\"col_{}\".format(len(df.columns))] = values\n",
    "    return df\n",
    "\n",
    "df = better_add_column([1, 2, 3], None)\n",
    "df = better_add_column([4, 5, 6], df)\n",
    "print(df.head())"
   ]
  },
  {
   "cell_type": "markdown",
   "id": "dd9169be-27c4-44e5-86fd-d302a5136efb",
   "metadata": {},
   "source": [
    "## Context Managers\n",
    "\n",
    "### Using Context managers\n",
    "\n",
    "#### Examples (Demonstration)\n",
    "\n",
    "A context manager sets up a contex, runs your code, and removes the context. Here, `open()` sets up a context by opening a file, lets you run any code you want on that file, and removes the context by closing the file.\n",
    "\n",
    "```python\n",
    "with open(\"my_file.txt\") as my_file:\n",
    "    text = my_file.read()\n",
    "    length = len(text)\n",
    "print(\"The file is {} characters long.\".format(length))\n",
    "```\n",
    "\n",
    "Using `with` creates a compound statement, which is used as shown below:\n",
    "\n",
    "```python\n",
    "with <context-manager>(<args>):\n",
    "    # Run your code here.\n",
    "    # This code is running \"inside the context\"\n",
    "# This code runs after the context is removed.\n",
    "```\n",
    "\n",
    "Some context managers return a value. Use `as` to capture that value. For example, `with open()` returns a file handle, which can be used within the context."
   ]
  },
  {
   "cell_type": "markdown",
   "id": "3d5cf028-a8d9-4f6a-9184-ec8fc5b451b7",
   "metadata": {},
   "source": [
    "#### Reading a File (Exercise)\n",
    "\n",
    "How many times does the word \"cat\" or \"cats\" appear in _Alice in Wonderland_?"
   ]
  },
  {
   "cell_type": "code",
   "execution_count": null,
   "id": "77838529-70be-4b79-af82-95cab6543563",
   "metadata": {
    "tags": []
   },
   "outputs": [],
   "source": [
    "# The context manager closes the file for you.\n",
    "with open(\"alice.txt\") as file:\n",
    "    text = file.read()\n",
    "n = 0\n",
    "for word in text.split():\n",
    "    if word.lower() in [\"cat\", \"cats\"]:\n",
    "        n += 1\n",
    "print('Lewis Carroll used the word \"cat\" {} times.'.format(n))\n"
   ]
  },
  {
   "cell_type": "markdown",
   "id": "7d075e38-5e36-4be4-9a1c-e450492ce46e",
   "metadata": {},
   "source": [
    "#### Using a Timer Context Manager (Exercise)\n",
    "\n",
    "I used the IPython shell to obtain the code for the functions used to support this example. It was amusing and instructive to do this.\n",
    "\n",
    "    In [6]: import inspect\n",
    "    In [7]: print(inspect.getsource(get_image_from_instagram))\n",
    "    def get_image_from_instagram():\n",
    "      return np.random.rand(84, 84)\n",
    "    \n",
    "    In [8]: print(inspect.getsource(process_with_numpy))\n",
    "    def process_with_numpy(p):\n",
    "      _process_pic(0.1521)\n",
    "    \n",
    "    In [9]: print(inspect.getsource(process_with_pytorch))\n",
    "    def process_with_pytorch(p):\n",
    "      _process_pic(0.0328)\n",
    "    \n",
    "    In [10]: print(inspect.getsource(_process_pic))\n",
    "    def _process_pic(n_sec):\n",
    "      print('Processing', end='', flush=True)\n",
    "      for i in range(10):\n",
    "        print('.', end='' if i < 9 else 'done!\\n', flush=True)\n",
    "        time.sleep(n_sec)\n",
    "    \n",
    "    In [11]: print(inspect.getsource(timer))\n",
    "    @contextlib.contextmanager\n",
    "    def timer():\n",
    "      \"\"\"Time how long code in the context block takes to run.\"\"\"\n",
    "      t0 = time.time()\n",
    "      try:\n",
    "        yield\n",
    "      except:\n",
    "        raise\n",
    "      finally:\n",
    "        t1 = time.time()\n",
    "      print('Elapsed: {:.2f} seconds'.format(t1 - t0))"
   ]
  },
  {
   "cell_type": "code",
   "execution_count": null,
   "id": "febcde9a-5ea1-44f1-9d46-be4760ce4b43",
   "metadata": {
    "tags": []
   },
   "outputs": [],
   "source": [
    "# This code supports the simulation.\n",
    "def get_image_from_instagram():\n",
    "    return np.random.rand(84, 84)\n",
    "\n",
    "def process_with_numpy(p):\n",
    "    _process_pic(0.1521)\n",
    "\n",
    "def process_with_pytorch(p):\n",
    "    _process_pic(0.0328)\n",
    "\n",
    "def _process_pic(n_sec):\n",
    "    print('Processing', end='', flush=True)\n",
    "    for i in range(10):\n",
    "        print('.', end='' if i < 9 else 'done!\\n', flush=True)\n",
    "        time.sleep(n_sec)\n",
    "\n",
    "@contextlib.contextmanager\n",
    "def timer():\n",
    "    \"\"\"\n",
    "    Time how long code in the context block takes to run.\n",
    "    \"\"\"\n",
    "    t0 = time.time()\n",
    "    try:\n",
    "        yield\n",
    "    except:\n",
    "        raise\n",
    "    finally:\n",
    "        t1 = time.time()\n",
    "    print('Elapsed: {:.2f} seconds'.format(t1 - t0))\n",
    "\n",
    "# Exercise code.\n",
    "image = get_image_from_instagram()\n",
    "with timer():\n",
    "    print('Numpy version')\n",
    "    process_with_numpy(image)\n",
    "print()\n",
    "with timer():\n",
    "    print('Pytorch version')\n",
    "    process_with_pytorch(image)"
   ]
  },
  {
   "cell_type": "markdown",
   "id": "8c057963-5bd5-44ec-aedd-6d546f0b3ed1",
   "metadata": {},
   "source": [
    "You may have noticed there was no `as <variable name>` at the end of the with statement in `timer()` context manager. That is because `timer()` is a context manager that does not return a value, so the `as <variable name>` at the end of the `with` statement isn't necessary. In the next lesson, you'll learn how to write your own context managers like `timer()`."
   ]
  },
  {
   "cell_type": "markdown",
   "id": "093d0df0-60a1-4f38-8ca0-9f8d26ca28b3",
   "metadata": {
    "tags": []
   },
   "source": [
    "### Writing Context Managers"
   ]
  },
  {
   "cell_type": "markdown",
   "id": "297b8c84-c015-4d7a-b7b2-3d6fd7faebe9",
   "metadata": {},
   "source": [
    "## Decorators"
   ]
  },
  {
   "cell_type": "markdown",
   "id": "bca1005c-7068-4afb-aaeb-10b16bddfd8f",
   "metadata": {},
   "source": [
    "## More on Decorators"
   ]
  },
  {
   "cell_type": "code",
   "execution_count": null,
   "id": "86e9bafb-b3de-4fc6-9308-c3a9e4e5d404",
   "metadata": {},
   "outputs": [],
   "source": []
  }
 ],
 "metadata": {
  "kernelspec": {
   "display_name": "Python 3 (ipykernel)",
   "language": "python",
   "name": "python3"
  },
  "language_info": {
   "codemirror_mode": {
    "name": "ipython",
    "version": 3
   },
   "file_extension": ".py",
   "mimetype": "text/x-python",
   "name": "python",
   "nbconvert_exporter": "python",
   "pygments_lexer": "ipython3",
   "version": "3.11.1"
  }
 },
 "nbformat": 4,
 "nbformat_minor": 5
}
