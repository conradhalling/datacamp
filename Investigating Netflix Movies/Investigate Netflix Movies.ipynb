{
 "cells": [
  {
   "cell_type": "markdown",
   "id": "cd0c30ad-0118-4fe1-8969-401720f2a2e7",
   "metadata": {},
   "source": [
    "# Investigating Netflix Movies and Guest Stars in _The Office_\n",
    "\n",
    "This is item 3 and the first project of the \"Data Scientist with Python\" career track.\n",
    "\n",
    "The instructor is Justin Saddlemyer, a Workplace Content Developer at DataCamp.\n",
    "\n",
    "Prerequisite:\n",
    "- Intermediate Python\n",
    "\n",
    "Topics:\n",
    "- Data Manipulation\n",
    "- Data Visualization\n",
    "- Programming\n",
    "\n",
    "Since this was my first project, I decided to follow the guided project steps. DataCamp runs this project in a Jupyter notebook."
   ]
  },
  {
   "cell_type": "markdown",
   "id": "aade4f4c-eebe-40d1-aaa1-6fcd464ee4d6",
   "metadata": {},
   "source": [
    "## Step 1\n",
    "\n",
    "A \"friend\" has collected some Netflix data for the years 2011-2020 and the average duration of movies for each year. Set up a dictionary containing the data."
   ]
  },
  {
   "cell_type": "code",
   "execution_count": null,
   "id": "36be6b84-f3a1-407d-b84f-6d2b1d37c0c7",
   "metadata": {},
   "outputs": [],
   "source": [
    "# Create the years and durations lists\n",
    "years = [2011, 2012, 2013, 2014, 2015, 2016, 2017, 2018, 2019, 2020]\n",
    "durations = [103, 101, 99, 100, 100, 95, 95, 96, 93, 90]\n",
    "\n",
    "# Create a dictionary with the two lists\n",
    "movie_dict = {\"years\": years, \"durations\": durations}\n",
    "\n",
    "# Print the dictionary\n",
    "print(movie_dict)"
   ]
  },
  {
   "cell_type": "markdown",
   "id": "aed5350c-e5ac-41f1-aebd-a33b09fa4513",
   "metadata": {},
   "source": [
    "## Step 2\n",
    "\n",
    "Create a pandas DataFrame from the dictionary."
   ]
  },
  {
   "cell_type": "code",
   "execution_count": null,
   "id": "1fd54d15-3966-475d-8bb5-488081ca0455",
   "metadata": {},
   "outputs": [],
   "source": [
    "import pandas as pd\n",
    "\n",
    "durations_df = pd.DataFrame(movie_dict)\n",
    "print(durations_df)"
   ]
  },
  {
   "cell_type": "markdown",
   "id": "97819804-3725-44cd-8730-cc2eabb469a8",
   "metadata": {},
   "source": [
    "## Step 3\n",
    "\n",
    "Plot the data. The course requires creation of a Figure object."
   ]
  },
  {
   "cell_type": "code",
   "execution_count": null,
   "id": "df2f5d62-f03a-406c-9ef7-23537781df67",
   "metadata": {},
   "outputs": [],
   "source": [
    "# Import matplotlib.pyplot under its usual alias and create a figure\n",
    "import matplotlib.pyplot as plt\n",
    "fig = plt.figure()\n",
    "\n",
    "# Draw a line plot of release_years and durations\n",
    "plt.plot(durations_df[\"years\"], durations_df[\"durations\"])\n",
    "\n",
    "# Create a title\n",
    "plt.title(\"Netflix Movie Durations 2011-2020\")\n",
    "\n",
    "# Show the plot\n",
    "plt.show()"
   ]
  },
  {
   "cell_type": "markdown",
   "id": "78c02f8d-3f41-4463-b375-266693f675a9",
   "metadata": {},
   "source": [
    "## Step 4\n",
    "\n",
    "Obtain the entire data set, which contains 7,787 rows of data. The file is \"netflix_data.csv\".\n",
    "\n",
    "These are the directions for obtaining a data set: https://support.datacamp.com/hc/en-us/articles/360020444334-How-to-Download-Project-Datasets."
   ]
  },
  {
   "cell_type": "code",
   "execution_count": null,
   "id": "0939244c-3cb2-4ba7-bbda-6bf7fd5c0d13",
   "metadata": {},
   "outputs": [],
   "source": [
    "netflix_df = pd.read_csv(\"netflix_data.csv\")\n",
    "print(netflix_df.info())\n",
    "print()\n",
    "print(netflix_df.head())"
   ]
  },
  {
   "cell_type": "markdown",
   "id": "d4efc7f5-ae1c-4167-a29e-5d55f7deebe7",
   "metadata": {},
   "source": [
    "## Step 5\n",
    "\n",
    "Create a new DataFrame that contains a subset of the data."
   ]
  },
  {
   "cell_type": "code",
   "execution_count": null,
   "id": "bf8860fb-72de-42bb-910f-69f955b83b69",
   "metadata": {},
   "outputs": [],
   "source": [
    "# Subset the DataFrame for type \"Movie\"\n",
    "netflix_df_movies_only = netflix_df[netflix_df[\"type\"] == \"Movie\"]\n",
    "\n",
    "# Select only the columns of interest\n",
    "netflix_movies_col_subset = netflix_df_movies_only[[\"title\", \"country\", \"genre\", \"release_year\", \"duration\"]]\n",
    "\n",
    "# Print the first five rows of the new DataFrame\n",
    "print(netflix_movies_col_subset.head(5))"
   ]
  },
  {
   "cell_type": "markdown",
   "id": "b0d7bc70-a0e5-4d9a-8922-1038eb3d0a7b",
   "metadata": {},
   "source": [
    "## Step 6\n",
    "\n",
    "Create a scatter plot of duration on the y axis and release year on the x axis."
   ]
  },
  {
   "cell_type": "code",
   "execution_count": null,
   "id": "87529cc2-138a-46bf-8b56-b50cd3420d89",
   "metadata": {},
   "outputs": [],
   "source": [
    "# Create a figure and increase the figure size\n",
    "fig = plt.figure(figsize=(12,8))\n",
    "\n",
    "# Create a scatter plot of duration versus year\n",
    "plt.scatter(netflix_movies_col_subset[\"release_year\"], netflix_movies_col_subset[\"duration\"])\n",
    "\n",
    "# Create a title\n",
    "plt.title(\"Movie Duration by Year of Release\")\n",
    "plt.ylabel(\"Duration (minutes)\")\n",
    "plt.xlabel(\"Year of Release\")\n",
    "\n",
    "# Show the plot\n",
    "plt.show()"
   ]
  },
  {
   "cell_type": "markdown",
   "id": "0fd73cbd-08de-49ed-a652-6ad4f0e0bdb9",
   "metadata": {},
   "source": [
    "## Step 7\n",
    "\n",
    "There are many recent short movies. Subset for movies with duration less than 60 minutes and view the first 20 rows to see if there is a characteristic pattern to these movies."
   ]
  },
  {
   "cell_type": "code",
   "execution_count": null,
   "id": "607e83d5-1b69-410e-9364-6064720cb78f",
   "metadata": {},
   "outputs": [],
   "source": [
    "short_movies = netflix_movies_col_subset[netflix_movies_col_subset[\"duration\"] < 60]\n",
    "print(short_movies.head(20))"
   ]
  },
  {
   "cell_type": "markdown",
   "id": "8182a793-6f64-4ead-a885-460d882338be",
   "metadata": {},
   "source": [
    "## Step 8\n",
    "\n",
    "Build a list of colors for different genres of movies."
   ]
  },
  {
   "cell_type": "code",
   "execution_count": null,
   "id": "ebf1e234-34f5-42bb-b2fd-af60f020f5d8",
   "metadata": {},
   "outputs": [],
   "source": [
    "# I don't know how to iterate over the rows of a DataFrame.\n",
    "# In Intermediate Python, the course used .iterrows(), which returns\n",
    "# label, row.\n",
    "colors = []\n",
    "for label, row in netflix_movies_col_subset.iterrows():\n",
    "    if row[\"genre\"] == \"Children\":\n",
    "        colors.append(\"red\")\n",
    "    elif row[\"genre\"] == \"Documentaries\":\n",
    "        colors.append(\"blue\")\n",
    "    elif row[\"genre\"] == \"Stand-Up\":\n",
    "        colors.append(\"green\")\n",
    "    else:\n",
    "        colors.append(\"black\")\n",
    "print(colors[:10])"
   ]
  },
  {
   "cell_type": "markdown",
   "id": "0a33b845-ccab-47b1-acf3-5bcdb9bf5dd6",
   "metadata": {},
   "source": [
    "## Step 9\n",
    "\n",
    "Plot the data as a scatterplot, applying the colors. The figure needs a legend."
   ]
  },
  {
   "cell_type": "code",
   "execution_count": null,
   "id": "d6e16abe-70d1-4ccf-b615-588f05eca864",
   "metadata": {},
   "outputs": [],
   "source": [
    "# Set the figure style and initalize a new figure\n",
    "plt.style.use('fivethirtyeight')\n",
    "fig = plt.figure(figsize=(12,8))\n",
    "\n",
    "# Create a scatter plot of duration versus release_year\n",
    "plt.scatter(netflix_movies_col_subset[\"release_year\"],\n",
    "            netflix_movies_col_subset[\"duration\"],\n",
    "            c=colors)\n",
    "\n",
    "# Create a title and axis labels\n",
    "plt.title(\"Movie duration by year of release\")\n",
    "plt.xlabel(\"Release year\")\n",
    "plt.ylabel(\"Duration (min)\")\n",
    "\n",
    "# Show the plot\n",
    "plt.show()"
   ]
  },
  {
   "cell_type": "markdown",
   "id": "3282736f-2205-47f2-9845-ad95552b9648",
   "metadata": {},
   "source": [
    "## Step 10\n",
    "\n",
    "This concluded this project."
   ]
  },
  {
   "cell_type": "code",
   "execution_count": null,
   "id": "2e0f1912-4de3-4d0b-bb6a-37c81e73c338",
   "metadata": {},
   "outputs": [],
   "source": []
  }
 ],
 "metadata": {
  "kernelspec": {
   "display_name": "Python 3 (ipykernel)",
   "language": "python",
   "name": "python3"
  },
  "language_info": {
   "codemirror_mode": {
    "name": "ipython",
    "version": 3
   },
   "file_extension": ".py",
   "mimetype": "text/x-python",
   "name": "python",
   "nbconvert_exporter": "python",
   "pygments_lexer": "ipython3",
   "version": "3.11.1"
  }
 },
 "nbformat": 4,
 "nbformat_minor": 5
}
