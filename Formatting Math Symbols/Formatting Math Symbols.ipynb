{
 "cells": [
  {
   "cell_type": "markdown",
   "id": "4e99cb64-567a-449c-9100-014be80ca155",
   "metadata": {},
   "source": [
    "# Formatting Math Symbols\n",
    "\n",
    "This document discusses formatting math symbols in Jupyter Lab for creating PDF files.\n",
    "\n",
    "## MathJax\n",
    "\n",
    "Jupyter Lab uses MathJax to render math created using LaTeX symbols. See https://towardsdatascience.com/how-to-convert-jupyter-notebooks-into-pdf-5accaef3758. For example:\n",
    "\n",
    "\\begin{equation}\n",
    "\\hat{Y} = \\hat{\\beta}\\_{0} + \\sum \\limits _{j=1} ^{p} X_{j}\\hat{\\beta}_{j}\n",
    "\\end{equation}"
   ]
  },
  {
   "cell_type": "markdown",
   "id": "977f29cb-cbc8-4892-b4ae-41953051c6a3",
   "metadata": {},
   "source": [
    "## Export as PDF\n",
    "\n",
    "The Jupyter Lab menu includes File > Save and Export Notebook As... > PDF. Once I had installed MacTeX and pandoc using Homebrew, this menu item worked nicely to export a PDF file to the working directory. The file contained the math equation in the cell below."
   ]
  },
  {
   "cell_type": "markdown",
   "id": "400742f7-1a1e-46c6-aefb-66371731704a",
   "metadata": {},
   "source": [
    "## jupyter nbconvert\n",
    "\n",
    "The `jupyter nbconvert` command can create a PDF file from a Jupyter notebook.\n",
    "\n",
    "```\n",
    "$ cd ~/src/conradhalling/datacamp\n",
    "$ jupyter nbconvert --to pdf Writing\\ Functions\\ in\\ Python/Writing\\ Functions\\ in\\ Python.ipynb\n",
    "\t[NbConvertApp] Converting notebook Writing Functions in Python/Writing Functions in Python.ipynb to pdf\n",
    "\t/Users/halto/src/conradhalling/datacamp/venv/lib/python3.11/site-packages/nbconvert/utils/pandoc.py:51: RuntimeWarning: You are using an unsupported version of pandoc (3.1.1).\n",
    "\tYour version must be at least (1.12.1) but less than (3.0.0).\n",
    "\tRefer to https://pandoc.org/installing.html.\n",
    "\tContinuing with doubts...\n",
    "\t  check_pandoc_version()\n",
    "\t[NbConvertApp] Writing 115530 bytes to notebook.tex\n",
    "\t[NbConvertApp] Building PDF\n",
    "\t[NbConvertApp] Running xelatex 3 times: ['xelatex', 'notebook.tex', '-quiet']\n",
    "\t[NbConvertApp] Running bibtex 1 time: ['bibtex', 'notebook']\n",
    "\t[NbConvertApp] WARNING | bibtex had problems, most likely because there were no citations\n",
    "\t[NbConvertApp] PDF successfully created\n",
    "\t[NbConvertApp] Writing 134473 bytes to Writing Functions in Python/Writing Functions in Python.pdf\n",
    "```"
   ]
  },
  {
   "cell_type": "markdown",
   "id": "a8eb0d29-bfac-40b7-afe6-10fb01a34df9",
   "metadata": {},
   "source": [
    "## Print to PDF Doesn't Work\n",
    "\n",
    "Using macOS 13.2.1, when I tested printing the notebook to PDF from within Jupyter Lab, the output PDF file contained the LaTeX code and not the correctly formatted equation."
   ]
  },
  {
   "cell_type": "code",
   "execution_count": null,
   "id": "365bb301-18a4-407c-bf6a-175b607209e2",
   "metadata": {},
   "outputs": [],
   "source": []
  }
 ],
 "metadata": {
  "kernelspec": {
   "display_name": "Python 3 (ipykernel)",
   "language": "python",
   "name": "python3"
  },
  "language_info": {
   "codemirror_mode": {
    "name": "ipython",
    "version": 3
   },
   "file_extension": ".py",
   "mimetype": "text/x-python",
   "name": "python",
   "nbconvert_exporter": "python",
   "pygments_lexer": "ipython3",
   "version": "3.11.2"
  }
 },
 "nbformat": 4,
 "nbformat_minor": 5
}
