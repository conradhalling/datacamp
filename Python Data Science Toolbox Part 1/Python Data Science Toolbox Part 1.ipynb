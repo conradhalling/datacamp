{
 "cells": [
  {
   "cell_type": "markdown",
   "id": "fe0a7e5a-8271-444f-94f6-b5b46534bf2a",
   "metadata": {
    "tags": []
   },
   "source": [
    "# Python Data Science Toolbox (Part 1)\n",
    "\n",
    "These are my notes for DataCamp's course [_Python Data Science Toolbox (Part 1)_](https://www.datacamp.com/courses/python-data-science-toolbox-part-1).\n",
    "\n",
    "This course is presented by Hugo Bowne-Anderson, formerly Data Scientist at DataCamp. The collaborator is Francisco Castro.\n",
    "\n",
    "Prerequisite:\n",
    "\n",
    "- [_Intermediate Python_](../Intermediate%20Python/Intermediate%20Python.ipynb)\n",
    "\n",
    "This course is part of these tracks:\n",
    "\n",
    "- Data Scientist with Python\n",
    "- Data Scientist Professional with Python\n",
    "- Python Fundamentals\n",
    "- Python Programmer\n",
    "\n",
    "## Data Set\n",
    "\n",
    "| Name | File |\n",
    "| :--- | :--- |\n",
    "| Tweets | tweets.csv |\n",
    "\n",
    "## Imports\n",
    "Imports are collected here for convenience and clarity."
   ]
  },
  {
   "cell_type": "code",
   "execution_count": null,
   "id": "a8fcfa2d-5fe0-48fc-a906-e348fbd00e31",
   "metadata": {},
   "outputs": [],
   "source": [
    "import builtins\n",
    "from functools import reduce\n",
    "\n",
    "import pandas as pd"
   ]
  },
  {
   "cell_type": "markdown",
   "id": "c6f47c36-bd29-4f5b-b76a-60e80a3eeb9c",
   "metadata": {},
   "source": [
    "## Writing Functions\n",
    "The exercises were very easy, so I did not include them here. The exercises included:\n",
    "- defining a function\n",
    "- defining 0, 1, or more parameters\n",
    "- passing 0, 1, or more arguments\n",
    "- docstrings\n",
    "- multiple arguments and return values\n",
    "- creating and unpacking tuples"
   ]
  },
  {
   "cell_type": "code",
   "execution_count": null,
   "id": "b6a8ef0d-3ad2-47c8-ba6a-4ff9c587db4b",
   "metadata": {},
   "outputs": [],
   "source": [
    "# Read the data into a pandas DataFrame from the CSV file and have IPython\n",
    "# show the first few rows.\n",
    "tweets_df = pd.read_csv(\"tweets.csv\")\n",
    "tweets_df.head()"
   ]
  },
  {
   "cell_type": "code",
   "execution_count": null,
   "id": "8cee914d-2c86-4bd2-afaa-56156812a125",
   "metadata": {},
   "outputs": [],
   "source": [
    "# Show information about the DataFrame.\n",
    "tweets_df.info()"
   ]
  },
  {
   "cell_type": "code",
   "execution_count": null,
   "id": "141683b4-6d41-4d5b-b966-1c0454e56e6e",
   "metadata": {},
   "outputs": [],
   "source": [
    "# Count the distinct values in the \"lang\" column.\n",
    "# The language symbols are:\n",
    "#   \"en\": English\n",
    "#   \"et\": Estonian\n",
    "#   \"und\": undetermined?\n",
    "\n",
    "def count_entries(df, col_name):\n",
    "    \"\"\"\n",
    "    Given a DataFrame and the name of a column, return a dictionary with\n",
    "    counts of occurrences as value for each key.\n",
    "    \"\"\"\n",
    "    langs_count = {}\n",
    "    col = df[col_name]\n",
    "    for entry in col:\n",
    "        if entry in langs_count.keys():\n",
    "            langs_count[entry] += 1\n",
    "        else:\n",
    "            langs_count[entry] = 1\n",
    "    return langs_count\n",
    "\n",
    "lang_counts = count_entries(tweets_df, \"lang\")\n",
    "print(lang_counts)"
   ]
  },
  {
   "cell_type": "markdown",
   "id": "8992d87d-1415-466e-8080-093214e06c37",
   "metadata": {},
   "source": [
    "## Scope, Default Arguments, and Variable-Length Arguments\n",
    "\n",
    "### Scope\n",
    "\n",
    "There are four types of scope (LEGB) when searching for an object:\n",
    "- local scope (defined within a function)\n",
    "- enclosing functions (nonlocal scope)\n",
    "- global scope (defined in the main body of a script)\n",
    "- built-in scope (names defined in the builtins module)\n",
    "\n",
    "This is the LEGB (local, enclosing function, global, built-in) rule.\n",
    "\n",
    "Assignment creates an object with local scope unless a declaration\n",
    "is made that the object is global or nonlocal."
   ]
  },
  {
   "cell_type": "code",
   "execution_count": null,
   "id": "3ac115b8-3eec-4121-88c9-729d577e8474",
   "metadata": {},
   "outputs": [],
   "source": [
    "# Global and local objects with the same name.\n",
    "# Here, a local variable is created within the function.\n",
    "new_val = 10\n",
    "\n",
    "def square(value):\n",
    "    \"\"\"\n",
    "    Return the square of a number.\n",
    "    \"\"\"\n",
    "    # Create a new_val variable with function scope. This variable\n",
    "    # is different from the new_val variable outside the function.\n",
    "    new_val = value ** 2\n",
    "    return new_val\n",
    "\n",
    "print(square(3))\n",
    "print(new_val)"
   ]
  },
  {
   "cell_type": "code",
   "execution_count": null,
   "id": "2e79ced2-e9fb-42ee-ac17-86b5ecd2d33b",
   "metadata": {},
   "outputs": [],
   "source": [
    "# Here the function uses the global variable.\n",
    "# I try not to do use global variables.\n",
    "new_val = 20\n",
    "\n",
    "def square2(value):\n",
    "    \"\"\"\n",
    "    Return the square of a number.\n",
    "    \"\"\"\n",
    "    # When the function can't find new_val within the function, it\n",
    "    # searches for and finds the new_val variable outside the function.\n",
    "    return new_val ** 2\n",
    "\n",
    "print(new_val)\n",
    "print(square2(0))"
   ]
  },
  {
   "cell_type": "code",
   "execution_count": null,
   "id": "09885d00-a5de-411d-b0a8-28e873b49f00",
   "metadata": {},
   "outputs": [],
   "source": [
    "# Use a global variable within the function.\n",
    "new_val = 10\n",
    "\n",
    "def square3(value):\n",
    "    \"\"\"\n",
    "    Return the square of a number.\n",
    "    \"\"\"\n",
    "    # Assign to the global variable named new_val.\n",
    "    # Without the global declaration, a new local variable would\n",
    "    # be created.\n",
    "    global new_val\n",
    "    new_val = new_val ** 2\n",
    "    return new_val\n",
    "\n",
    "print(new_val)\n",
    "print(square3(3))\n",
    "print(new_val)"
   ]
  },
  {
   "cell_type": "code",
   "execution_count": null,
   "id": "e791d1ef-740c-4c3a-a539-a3693c84f0fd",
   "metadata": {},
   "outputs": [],
   "source": [
    "# These are the objects with built-in scope.\n",
    "# They can be referred to, for example, as builtins.open to\n",
    "# differentiate them from another object named open.\n",
    "print(dir(builtins))"
   ]
  },
  {
   "cell_type": "markdown",
   "id": "af8579c4-7534-469c-9beb-3fa907c3cb36",
   "metadata": {},
   "source": [
    "### Nested Functions (Enclosing Functions)\n",
    "\n",
    "These are the reasons for creating nested functions:\n",
    "- To remove repetition from within a function.\n",
    "- To return a function (object).\n",
    "\n",
    "Nested functions are also covered in the [_Writing Functions in Python_](../Writing%20Functions%20in%20Python/Writing%20Functions%20in%20Python.ipynb) course."
   ]
  },
  {
   "cell_type": "code",
   "execution_count": null,
   "id": "ed7037cd-d1fd-421c-95d4-f4a4b5309432",
   "metadata": {},
   "outputs": [],
   "source": [
    "# This is an example of using an inner function to perform\n",
    "# a calculation needed by the outer functgion.\n",
    "\n",
    "def mod2plus5(x1, x2, x3):\n",
    "    \"\"\"\n",
    "    Return the remainder (after dividing by 2) plus 5 of three arguments.\n",
    "    \"\"\"\n",
    "    def inner(x):\n",
    "        \"\"\"\n",
    "        Return the remainder (after dividing by 2) plus 5 of the argument.\n",
    "        \"\"\"\n",
    "        return x % 2 + 5\n",
    "    \n",
    "    return inner(x1), inner(x2), inner(x3)\n",
    "\n",
    "print(mod2plus5(1, 2, 3))"
   ]
  },
  {
   "cell_type": "code",
   "execution_count": null,
   "id": "ca4c30aa-2bb4-4f9d-9bcd-f66a058ce44b",
   "metadata": {},
   "outputs": [],
   "source": [
    "# This is an example of a function that returns a function.\n",
    "# This uses closures.\n",
    "\n",
    "def raise_val(n):\n",
    "    \"\"\"\n",
    "    Return the inner function.\n",
    "    \"\"\"\n",
    "\n",
    "    def inner(x):\n",
    "        \"\"\"\n",
    "        Raise x to the power of n.\n",
    "        \"\"\"\n",
    "        raised = x ** n\n",
    "        return raised\n",
    "\n",
    "    return inner\n",
    "\n",
    "square = raise_val(2)  # square is a function object\n",
    "cube = raise_val(3)  # cube is a function object\n",
    "print(square(2), cube(4))  # 4, 64"
   ]
  },
  {
   "cell_type": "code",
   "execution_count": null,
   "id": "53c67993-8cf0-48f9-b22a-e9b0115b1256",
   "metadata": {},
   "outputs": [],
   "source": [
    "# Using a nonlocal variable. This indicates using a variable that is\n",
    "# not global but is contained in the scope of the enclosing function.\n",
    "# How many levels up does this go?\n",
    "n = 10\n",
    "\n",
    "def outer():\n",
    "    \"\"\"\n",
    "    Print the value of n.\n",
    "    \"\"\"\n",
    "    n = 1\n",
    "\n",
    "    def inner():\n",
    "        nonlocal n\n",
    "        n = 2\n",
    "        print(n)\n",
    "\n",
    "    print(n)\n",
    "    inner()\n",
    "    print(n)\n",
    "\n",
    "outer()\n",
    "print(n)"
   ]
  },
  {
   "cell_type": "code",
   "execution_count": null,
   "id": "4367559e-f32c-4d8d-8e96-02de48361651",
   "metadata": {},
   "outputs": [],
   "source": [
    "# Another trivial example of using a nested function.\n",
    "def three_shouts(word1, word2, word3):\n",
    "    \"\"\"\n",
    "    Return a tuple of strings\n",
    "    concatenated with '!!!'.\n",
    "    \"\"\"\n",
    "\n",
    "    def inner(word):\n",
    "        \"\"\"\n",
    "        Returns a string concatenated with '!!!'.\n",
    "        \"\"\"\n",
    "        return word + '!!!'\n",
    "\n",
    "    # Return a tuple of strings.\n",
    "    return inner(word1), inner(word2), inner(word3)\n",
    "\n",
    "print(three_shouts('a', 'b', 'c'))"
   ]
  },
  {
   "cell_type": "markdown",
   "id": "6d1e40cb-ad85-428d-88c4-60bd42390249",
   "metadata": {},
   "source": [
    "### Closures\n",
    "\n",
    "A closure means that the nested or inner function remembers the state of its enclosing scope when called. Thus, anything defined locally in the enclosing scope is available to the inner function even when the outer function has finished execution.\n",
    "\n",
    "Closures are also covered in the [_Writing Functions in Python_](../Writing%20Functions%20in%20Python/Writing%20Functions%20in%20Python.ipynb) course."
   ]
  },
  {
   "cell_type": "code",
   "execution_count": null,
   "id": "ae7893c4-f9bf-461b-be9e-626f09c16875",
   "metadata": {},
   "outputs": [],
   "source": [
    "# Example of a closure:\n",
    "# Note how the value of n = 2 is preserved in the twice function,\n",
    "# n = 3 is preserved in the thrice function.\n",
    "def echo(n):\n",
    "    \"\"\"\n",
    "    Return the inner_echo function.\n",
    "    \"\"\"\n",
    "\n",
    "    def inner_echo(word1):\n",
    "        \"\"\"\n",
    "        Concatenate n copies of word1, where\n",
    "        n is in the scope of the enclosing function.\n",
    "        \"\"\"\n",
    "        echo_word = word1 * n\n",
    "        return echo_word\n",
    "\n",
    "    return inner_echo\n",
    "\n",
    "twice = echo(2)  # twice is a function\n",
    "thrice = echo(3)  # thrice is a function\n",
    "print(twice(\"hello\"), thrice(\"hello\"))"
   ]
  },
  {
   "cell_type": "code",
   "execution_count": null,
   "id": "d4e9e06b-9252-43ca-a9dd-34f684603782",
   "metadata": {},
   "outputs": [],
   "source": [
    "# Using the keyword nonlocal and nested functions.\n",
    "def echo_shout(word):\n",
    "    \"\"\"\n",
    "    Change the value of a nonlocal variable.\n",
    "    \"\"\"\n",
    "    echo_word = word * 2\n",
    "    print(echo_word)\n",
    "\n",
    "    def shout():\n",
    "        \"\"\"\n",
    "        Alter a variable in the enclosing scope.\n",
    "        \"\"\"\n",
    "        nonlocal echo_word\n",
    "        echo_word += \"!!!\"\n",
    "\n",
    "    shout()\n",
    "    print(echo_word)\n",
    "\n",
    "echo_shout(\"hello\")"
   ]
  },
  {
   "cell_type": "markdown",
   "id": "1f776ff9-956a-4934-84f8-65024a04e0b1",
   "metadata": {},
   "source": [
    "### Default Arguments"
   ]
  },
  {
   "cell_type": "code",
   "execution_count": null,
   "id": "71c87000-dac6-477e-b501-75b4e96bec92",
   "metadata": {},
   "outputs": [],
   "source": [
    "def power(number, pow=1):\n",
    "    \"\"\"\n",
    "    Raise number to the power of pow.\n",
    "    \"\"\"\n",
    "    return number ** pow\n",
    "\n",
    "print(power(4, 1))\n",
    "print(power(4))\n",
    "print(power(4, 2))\n",
    "\n",
    "# Named arguments work correctly here.\n",
    "print(power(number=23))\n",
    "print(power(number=3, pow=3))\n",
    "print(power(pow=4, number=7))"
   ]
  },
  {
   "cell_type": "markdown",
   "id": "942dc15d-065c-4c30-832c-dc7cae25b7b3",
   "metadata": {},
   "source": [
    "### Flexible Arguments\n",
    "\n",
    "This allows passing any number of positional (non-keyword) arguments (for example, when computing the sum of the arguments). Using `*args` as the function parameter, the arguments are collected into a tuple. Using `**kwargs` as the function parameter, the arguments are collected into a dict."
   ]
  },
  {
   "cell_type": "code",
   "execution_count": null,
   "id": "70ac31e8-134b-4977-9ab3-04410b26d0d4",
   "metadata": {},
   "outputs": [],
   "source": [
    "def add_all(*args):\n",
    "    \"\"\"\n",
    "    Return the sum of args, where args is a tuple.\n",
    "    \"\"\"\n",
    "    print(type(args))\n",
    "    sum_all = 0\n",
    "    for num in args:\n",
    "        sum_all += num\n",
    "    return sum_all\n",
    "\n",
    "print(add_all(1))\n",
    "print(add_all(1, 2, 3))\n",
    "print(add_all(1, 2, 3, 4, 5, 6))"
   ]
  },
  {
   "cell_type": "code",
   "execution_count": null,
   "id": "6fa7d236-39fd-4d45-b50a-7f00f0abc350",
   "metadata": {},
   "outputs": [],
   "source": [
    "# Flexible key-word arguments.\n",
    "\n",
    "def print_all(**kwargs):\n",
    "    \"\"\"P\n",
    "    Print out key-value pairs in **kwargs.\n",
    "    \"\"\"\n",
    "    print(type(kwargs))\n",
    "    for key, value in kwargs.items():\n",
    "        print(key + \": \" + value)\n",
    "\n",
    "print_all(name=\"dumbledore\", job=\"headmaster\")"
   ]
  },
  {
   "cell_type": "markdown",
   "id": "04db6b6b-b9c2-42a6-8e88-4b8621469e4b",
   "metadata": {},
   "source": [
    "#### Exercises"
   ]
  },
  {
   "cell_type": "code",
   "execution_count": null,
   "id": "c6850e93-2385-43ef-aee0-ac72b0735259",
   "metadata": {},
   "outputs": [],
   "source": [
    "# A function with one default argument.\n",
    "\n",
    "def shout_echo(word1, echo=1):\n",
    "    \"\"\"\n",
    "    Concatenate echo copies of word1 and three\n",
    "    exclamation marks at the end of the string.\n",
    "    \"\"\"\n",
    "    echo_word = word1 * echo\n",
    "    shout_word = echo_word + \"!!!\"\n",
    "    return shout_word\n",
    "\n",
    "no_echo = shout_echo(\"Hey\")\n",
    "with_echo = shout_echo(\"Hey\", echo=5)\n",
    "with_echo = shout_echo(\"Hey\", 5)  # This works as well.\n",
    "with_echo = shout_echo(echo=5, word1=\"Hey\")  # And this works, too.\n",
    "\n",
    "print(no_echo)\n",
    "print(with_echo)"
   ]
  },
  {
   "cell_type": "code",
   "execution_count": null,
   "id": "5c0c4e31-28fe-4458-a873-c5d2d5f3c55d",
   "metadata": {},
   "outputs": [],
   "source": [
    "# A function with multiple default arguments.\n",
    "\n",
    "def shout_echo2(word1, echo=1, intense=False):\n",
    "    \"\"\"\n",
    "    Concatenate echo copies of word1 and three\n",
    "    exclamation marks at the end of the string.\n",
    "    \"\"\"\n",
    "    echo_word = word1 * echo\n",
    "    if intense is True:\n",
    "        echo_word_new = echo_word.upper() + \"!!!\"\n",
    "    else:\n",
    "        echo_word_new = echo_word + \"!!!\"\n",
    "    return echo_word_new\n",
    "\n",
    "with_big_echo = shout_echo2(\"Hey\", echo=5, intense=True)\n",
    "big_no_echo = shout_echo2(\"Hey\", intense=True)\n",
    "with_small_echo = shout_echo2(\"Hey\", echo=5)\n",
    "small_no_echo = shout_echo2(\"Hey\")\n",
    "\n",
    "print(with_big_echo)\n",
    "print(big_no_echo)\n",
    "print(with_small_echo)\n",
    "print(small_no_echo)"
   ]
  },
  {
   "cell_type": "code",
   "execution_count": null,
   "id": "a586b2f4-022c-4fc3-a354-fb0826ecbfb0",
   "metadata": {},
   "outputs": [],
   "source": [
    "# A function with variable-length positional arguments (*args).\n",
    "\n",
    "def gibberish(*args):\n",
    "    \"\"\"\n",
    "    Concatenate strings in *args together.\n",
    "    \"\"\"\n",
    "    hodgepodge = \"\"\n",
    "    for word in args:\n",
    "        hodgepodge += word\n",
    "    return hodgepodge\n",
    "\n",
    "one_word = gibberish(\"luke\")\n",
    "many_words = gibberish(\"luke\", \"leia\", \"han\", \"obi\", \"darth\")\n",
    "\n",
    "print(one_word)\n",
    "print(many_words)"
   ]
  },
  {
   "cell_type": "code",
   "execution_count": null,
   "id": "25788dd6-896e-4307-84c3-4998aaf13b1f",
   "metadata": {},
   "outputs": [],
   "source": [
    "# A function with variable-length keyword arguments (**kwargs).\n",
    "\n",
    "def report_status(**kwargs):\n",
    "    \"\"\"\n",
    "    Print out the status of a movie character.\n",
    "    \"\"\"\n",
    "\n",
    "    print(\"\\nBEGIN: REPORT\\n\")\n",
    "    for key, value in kwargs.items():\n",
    "        print(key + \": \" + value)\n",
    "    print(\"\\nEND REPORT\")\n",
    "\n",
    "report_status(name=\"luke\", affiliation=\"jedi\", status=\"missing\")\n",
    "report_status(name=\"anakin\", affiliation=\"sith lord\", status=\"deceased\")"
   ]
  },
  {
   "cell_type": "code",
   "execution_count": null,
   "id": "97923ac9-f159-4434-bdd1-fdd11f8efaef",
   "metadata": {},
   "outputs": [],
   "source": [
    "# Given a DataFrame, count the items in any column.\n",
    "\n",
    "def count_entries2(df, col_name=\"lang\"):\n",
    "    \"\"\"\n",
    "    Return a dictionary with counts of\n",
    "    occurrences as value for each key.\n",
    "    \"\"\"\n",
    "    cols_count = {}\n",
    "    # Extract column from DataFrame: col\n",
    "    col = df[col_name]\n",
    "\n",
    "    # Iterate over the column in DataFrame\n",
    "    for entry in col:\n",
    "        if entry in cols_count.keys():\n",
    "            cols_count[entry] += 1\n",
    "        else:\n",
    "            cols_count[entry] = 1\n",
    "    return cols_count\n",
    "\n",
    "# Load the DataFrame from the CSV file.\n",
    "tweets_df = pd.read_csv(\"tweets.csv\")\n",
    "\n",
    "# Count entries in the default column 'lang'.\n",
    "result1 = count_entries2(tweets_df)\n",
    "print(result1)\n",
    "\n",
    "# Count entries in column 'source'.\n",
    "print()\n",
    "result2 = count_entries2(tweets_df, \"source\")\n",
    "print(result2)"
   ]
  },
  {
   "cell_type": "code",
   "execution_count": null,
   "id": "2466c3f2-a204-411b-b2f8-cee7cbc3ec46",
   "metadata": {},
   "outputs": [],
   "source": [
    "# Accept one or more column names.\n",
    "\n",
    "def count_entries3(df, *args):\n",
    "    \"\"\"\n",
    "    Return a dictionary with counts of\n",
    "    occurrences as value for each key.\n",
    "    \"\"\"\n",
    "    cols_count = {}\n",
    "    for col_name in args:\n",
    "        col = df[col_name]\n",
    "        for entry in col:\n",
    "            if entry in cols_count.keys():\n",
    "                cols_count[entry] += 1\n",
    "            else:\n",
    "                cols_count[entry] = 1\n",
    "    return cols_count\n",
    "\n",
    "# Load the DataFrame from the CSV file.\n",
    "tweets_df = pd.read_csv(\"tweets.csv\")\n",
    "\n",
    "# Count entries in column \"lang\".\n",
    "result1 = count_entries3(tweets_df, \"lang\")\n",
    "print(result1)\n",
    "print()\n",
    "\n",
    "# Count entries in columns \"lang\" and \"source\".\n",
    "result2 = count_entries3(tweets_df, \"lang\", \"source\")\n",
    "print(result2)"
   ]
  },
  {
   "cell_type": "markdown",
   "id": "e0d8dad1-74d6-4dcb-b25b-d176ac73d8f1",
   "metadata": {},
   "source": [
    "### Special Parameters / and *\n",
    "\n",
    "For more information about using `/` and `*` in the function definition, see https://docs.python.org/3/tutorial/controlflow.html#function-examples. For the history of `/`, see https://peps.python.org/pep-0570/; this was introduced in Python 3.7.\n",
    "\n",
    "```\n",
    "def f(pos1, pos2, /, pos_or_kwd, *, kwd1, kwd2):\n",
    "      -----------    ----------     ----------\n",
    "        |             |                  |\n",
    "        |        Positional or keyword   |\n",
    "        |                                - Keyword only\n",
    "         -- Positional only\n",
    "```\n",
    "\n",
    "In my code, especially constructors, I require keyword only arguments, e.g., `construct(*, ...)`."
   ]
  },
  {
   "cell_type": "markdown",
   "id": "0f71ccdb-98c9-437b-bfa6-cff324bc0e2f",
   "metadata": {},
   "source": [
    "## Lambda Functions and Error-Handling\n",
    "### Lambda Functions\n",
    "\n",
    "Use lambda functions for short and simple functions."
   ]
  },
  {
   "cell_type": "code",
   "execution_count": null,
   "id": "3e7f8f48-8f5f-4465-bda1-59d9a745a1d8",
   "metadata": {},
   "outputs": [],
   "source": [
    "# Convert regular functions to lambda functions:\n",
    "def raise_to_power1(x, y):\n",
    "    return x ** y\n",
    "\n",
    "raise_to_power2 = lambda x, y: x ** y\n",
    "\n",
    "print(raise_to_power1(2, 3))\n",
    "print(raise_to_power2(2, 3))"
   ]
  },
  {
   "cell_type": "code",
   "execution_count": null,
   "id": "51ed0eef-21d8-466e-8d18-6c345db02008",
   "metadata": {},
   "outputs": [],
   "source": [
    "def add_bangs1(a):\n",
    "    return a + \"!!!\"\n",
    "\n",
    "add_bangs2 = lambda a: a + \"!!!\"\n",
    "\n",
    "print(add_bangs1(\"hello\"))\n",
    "print(add_bangs2(\"hello\"))"
   ]
  },
  {
   "cell_type": "markdown",
   "id": "82b07d27-6e8f-4ef2-84a1-d13b210860b5",
   "metadata": {},
   "source": [
    "#### Exercise"
   ]
  },
  {
   "cell_type": "code",
   "execution_count": null,
   "id": "295e7109-c41e-47bf-ba2d-aaab8d56b4ea",
   "metadata": {},
   "outputs": [],
   "source": [
    "def echo_word1(word1, echo):\n",
    "    return word1 * echo\n",
    "\n",
    "echo_word2 = lambda word1, echo: word1 * echo\n",
    "\n",
    "print(echo_word1(\"hey\", 5))\n",
    "print(echo_word2(\"hey\", 5))"
   ]
  },
  {
   "cell_type": "markdown",
   "id": "ed742fde-ad6b-4420-a9c2-b3d55d0cfbd6",
   "metadata": {},
   "source": [
    "### Anonymous Functions\n",
    "\n",
    "Anonymous functions can be used with `map`, `filter`, and `reduce`. Anonymous functions and lambdas can be useful for the `map` function, which takes a function and a sequence of which the function is applied to the elements."
   ]
  },
  {
   "cell_type": "code",
   "execution_count": null,
   "id": "cbee8bd3-bac6-4621-a7e6-d976e683e88e",
   "metadata": {},
   "outputs": [],
   "source": [
    "# Use map to apply a function to each element in a sequence.\n",
    "nums = [48, 6, 9, 21, 1]\n",
    "# square_all is a map object, which is an iterable.\n",
    "square_all = map(lambda num: num ** 2, nums)\n",
    "print(square_all)\n",
    "# Convert the map object to a list and print the list.\n",
    "print(list(square_all))"
   ]
  },
  {
   "cell_type": "markdown",
   "id": "e26e70a0-9313-4849-8c26-ad703f3d3f02",
   "metadata": {},
   "source": [
    "#### Exercises"
   ]
  },
  {
   "cell_type": "code",
   "execution_count": null,
   "id": "d478db5a-26cd-42e8-ba46-be41c33a8d36",
   "metadata": {},
   "outputs": [],
   "source": [
    "# Example of using map.\n",
    "# Create a sequence.\n",
    "spells = [\"protego\", \"accio\", \"expecto patronum\", \"legilimens\"]\n",
    "# Use map with an anonymous lambda to add \"!!!\" to each element of the sequence.\n",
    "shout_spells = map(lambda item: item + \"!!!\", spells)\n",
    "# Convert the map object to a list.\n",
    "shout_spells_list = list(shout_spells)\n",
    "# Print the list.\n",
    "print(shout_spells_list)"
   ]
  },
  {
   "cell_type": "code",
   "execution_count": null,
   "id": "dde9b8f0-ce3e-4391-bf9d-96f67c654452",
   "metadata": {},
   "outputs": [],
   "source": [
    "# filter() and lambda functions.\n",
    "# Use filter to filter out elements from a list that don't statisfy the\n",
    "# given criteria.\n",
    "fellowship = [\n",
    "    \"frodo\",\n",
    "    \"samwise\",\n",
    "    \"merry\",\n",
    "    \"aragorn\",\n",
    "    \"legolas\",\n",
    "    \"boromir\",\n",
    "    \"gimli\",\n",
    "    \"gandalf\",\n",
    "    \"pippin\",\n",
    "]\n",
    "result = filter(lambda member: len(member) > 6, fellowship)\n",
    "result_list = list(result)\n",
    "print(result_list)"
   ]
  },
  {
   "cell_type": "code",
   "execution_count": null,
   "id": "66338638-e69e-4860-9a4f-18b9286f7a3f",
   "metadata": {},
   "outputs": [],
   "source": [
    "# reduce() and lambda functions.\n",
    "# Perform a computation on a list and return a single value as a result.\n",
    "# reduce must be imported from the functools module.\n",
    "stark = [\"robb\", \"sansa\", \"arya\", \"eddard\", \"jon\"]\n",
    "result = reduce(lambda item1, item2: item1 + item2, stark)\n",
    "print(result)"
   ]
  },
  {
   "cell_type": "markdown",
   "id": "d2a9f520-2200-4737-94be-e7433241031b",
   "metadata": {},
   "source": [
    "### Error Handling"
   ]
  },
  {
   "cell_type": "code",
   "execution_count": null,
   "id": "1ad3f14a-9182-478d-83c2-ca41b1d46bb8",
   "metadata": {},
   "outputs": [],
   "source": [
    "# An example of handling an exception.\n",
    "# In this example, the exception is handled inside the function.\n",
    "# This is not usually what you want to do. sqrt(\"hello\") returns None\n",
    "# rather than raising an exception.\n",
    "def sqrt(x):\n",
    "    \"\"\"Return the square root of a number.\"\"\"\n",
    "    try:\n",
    "        return x ** 0.5\n",
    "    except TypeError:\n",
    "        print(\"x must be an int or float\")\n",
    "\n",
    "\n",
    "print(sqrt(4))\n",
    "print(sqrt(10))\n",
    "print(sqrt(\"hello\"))\n",
    "print(sqrt(-9))"
   ]
  },
  {
   "cell_type": "code",
   "execution_count": null,
   "id": "8a67bdef-f492-4bdf-ad9a-22bf73509cc4",
   "metadata": {},
   "outputs": [],
   "source": [
    "# Raise an error when calculating the square root of a negative number.\n",
    "def sqrt2(x):\n",
    "    \"\"\"Return the square root of a number.\"\"\"\n",
    "    if x < 0:\n",
    "        raise ValueError(\"x must be non-negative\")\n",
    "    try:\n",
    "        return x ** 0.5\n",
    "    except TypeError:\n",
    "        print(\"x must be an int or float\")\n",
    "\n",
    "\n",
    "# To get the script to run, use a try/except here.\n",
    "try:\n",
    "    print(sqrt2(-9))\n",
    "except Exception as ex:\n",
    "    print(\"Caught exception:\", ex)"
   ]
  },
  {
   "cell_type": "markdown",
   "id": "b6bf6f1b-1093-44cc-8d1f-b56235633cef",
   "metadata": {},
   "source": [
    "#### Exercises"
   ]
  },
  {
   "cell_type": "code",
   "execution_count": null,
   "id": "9f9cd3c4-ef46-435b-b64b-d384792b6f4a",
   "metadata": {},
   "outputs": [],
   "source": [
    "# Handle an exception using try ... except:\n",
    "def shout_echo3(word1, echo=1):\n",
    "    \"\"\"Concatenate echo copies of word1 and three\n",
    "    exclamation marks at the end of the string.\"\"\"\n",
    "\n",
    "    echo_word = \"\"\n",
    "    shout_words = \"\"\n",
    "    try:\n",
    "        echo_word = word1 * echo\n",
    "        shout_words = echo_word + \"!!!\"\n",
    "    except:\n",
    "        print(\"word1 must be a string and echo must be an integer.\")\n",
    "    return shout_words\n",
    "\n",
    "print(shout_echo3(\"particle\", echo=3))\n",
    "print(shout_echo3(\"particle\", echo=\"accelerator\"))"
   ]
  },
  {
   "cell_type": "code",
   "execution_count": null,
   "id": "df90d001-b9e3-4d6f-a305-ae33bd61a7d4",
   "metadata": {},
   "outputs": [],
   "source": [
    "# Raise a ValueError exception when echo < 0.\n",
    "def shout_echo4(word1, echo=1):\n",
    "    \"\"\"\n",
    "    Concatenate echo copies of word1 and three\n",
    "    exclamation marks at the end of the string.\n",
    "    \"\"\"\n",
    "\n",
    "    # Raise an error with raise.\n",
    "    if echo < 0:\n",
    "        raise ValueError(\"echo must be greater than 0\")\n",
    "    echo_word = word1 * echo\n",
    "    shout_word = echo_word + \"!!!\"\n",
    "    return shout_word\n",
    "\n",
    "print(shout_echo4(\"particle\", echo=5))\n",
    "try:\n",
    "    print(shout_echo4(\"particle\", echo=-1))\n",
    "except Exception as ex:\n",
    "    print(\"An error occurred:\", ex)"
   ]
  },
  {
   "cell_type": "code",
   "execution_count": null,
   "id": "7aaffb85-2779-489e-b273-bfb680aa3107",
   "metadata": {},
   "outputs": [],
   "source": [
    "# Modify the DataFrame analyzer from earlier in the course to add\n",
    "# error messages and exceptions using try...except and raise.\n",
    "\n",
    "# The first exercise: Filter the tweets for retweets. For retweets,\n",
    "# the first two characters of the text are \"RT\".\n",
    "tweets_df = pd.read_csv(\"tweets.csv\")\n",
    "result = filter(lambda x: x[0:2] == \"RT\", tweets_df[\"text\"])\n",
    "res_list = list(result)\n",
    "for tweet in res_list:\n",
    "    print('\"' + tweet + '\"')"
   ]
  },
  {
   "cell_type": "code",
   "execution_count": null,
   "id": "2aa8e20b-257c-43a7-968d-7565797ad9b1",
   "metadata": {},
   "outputs": [],
   "source": [
    "# Print an error when the requested column does not exist.\n",
    "def count_entries4(df, col_name=\"lang\"):\n",
    "    \"\"\"\n",
    "    Return a dictionary with counts of occurrences as value for each key.\n",
    "    \"\"\"\n",
    "    cols_count = {}\n",
    "    try:\n",
    "        col = df[col_name]\n",
    "        for entry in col:\n",
    "            if entry in cols_count.keys():\n",
    "                cols_count[entry] += 1\n",
    "            else:\n",
    "                cols_count[entry] = 1\n",
    "        return cols_count\n",
    "    except:\n",
    "        print(\"The DataFrame does not have a \" + col_name + \" column.\")\n",
    "\n",
    "tweets_df = pd.read_csv(\"tweets.csv\")\n",
    "result1 = count_entries4(tweets_df, \"lang\")\n",
    "print(result1)\n",
    "\n",
    "# This should fail.\n",
    "result2 = count_entries4(tweets_df, \"lang1\")\n",
    "print(result2)\n",
    "\n",
    "#try:\n",
    "#    result2 = count_entries4(tweets_df, \"lang1\")\n",
    "#except Exception as ex:\n",
    "#    print(\"Caught exception:\", ex)"
   ]
  },
  {
   "cell_type": "code",
   "execution_count": null,
   "id": "95baf000-daad-4f17-add3-6e63efadfb1b",
   "metadata": {},
   "outputs": [],
   "source": [
    "# Raise an exception when the requested column does not exist.\n",
    "def count_entries5(df, col_name=\"lang\"):\n",
    "    \"\"\"\n",
    "    Return a dictionary with counts of occurrences as value for each key.\n",
    "    \"\"\"\n",
    "    if col_name not in df.columns:\n",
    "        raise ValueError(\"The DataFrame does not have a \" + col_name + \" column.\")\n",
    "    cols_count = {}\n",
    "    col = df[col_name]\n",
    "    for entry in col:\n",
    "        if entry in cols_count.keys():\n",
    "            cols_count[entry] += 1\n",
    "        else:\n",
    "            cols_count[entry] = 1\n",
    "    return cols_count\n",
    "\n",
    "tweets_df = pd.read_csv(\"tweets.csv\")\n",
    "result1 = count_entries5(tweets_df, \"lang\")\n",
    "print(result1)\n",
    "\n",
    "# This should fail with an exception.\n",
    "try:\n",
    "    result2 = count_entries5(tweets_df, \"lang1\")\n",
    "except ValueError as ex:\n",
    "    print(\"Caught exception:\", ex)"
   ]
  },
  {
   "cell_type": "markdown",
   "id": "9578698a-2acb-4fd0-a599-0c19bf10c6fe",
   "metadata": {},
   "source": [
    "## Summary of Learnings\n",
    "\n",
    "We have learned how to:\n",
    "- Write functions that accept single and multiple arguments.\n",
    "- Write functions that return one or many values.\n",
    "- Use default, flexible, and keyword arguments.\n",
    "- Make use of global, local, and nonlocal scope in functions\n",
    "- Write lambda functions\n",
    "- Handle errors using exceptions (try...except and raise).\n",
    "\n",
    "We haven't learned yet how to:\n",
    "- Create lists with list comprehensions.\n",
    "- Using iterators (which we've seen before)\n",
    "- Apply our new skills to a case study.\n"
   ]
  },
  {
   "cell_type": "code",
   "execution_count": null,
   "id": "8d2007ce-306b-44a2-9358-33be56fad197",
   "metadata": {},
   "outputs": [],
   "source": []
  }
 ],
 "metadata": {
  "kernelspec": {
   "display_name": "Python 3 (ipykernel)",
   "language": "python",
   "name": "python3"
  },
  "language_info": {
   "codemirror_mode": {
    "name": "ipython",
    "version": 3
   },
   "file_extension": ".py",
   "mimetype": "text/x-python",
   "name": "python",
   "nbconvert_exporter": "python",
   "pygments_lexer": "ipython3",
   "version": "3.11.2"
  }
 },
 "nbformat": 4,
 "nbformat_minor": 5
}
