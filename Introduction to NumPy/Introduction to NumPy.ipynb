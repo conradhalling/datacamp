{
 "cells": [
  {
   "cell_type": "markdown",
   "id": "debc50b7-c1bb-410c-961e-c48f6b224bb4",
   "metadata": {},
   "source": [
    "# Introduction to NumPy\n",
    "\n",
    "This course is presented by Izzy Weber, Core Curriculum Manager, DataCamp. Collaborators are James Chapman and Amy Person.\n",
    "\n",
    "Prerequisite:\n",
    "- Intermediate Python\n",
    "\n",
    "This course is part of this track:\n",
    "- Data Scientist with Python (career track)\n",
    "\n",
    "## Data Sets\n",
    "\n",
    "| Name | File | Notes |\n",
    "| :--- | :--- | :--- |\n",
    "| Monet RGB Array | rgb_array.npy | Image of Monet's painting \"Cliff Walk at Pourville\" |\n",
    "| Tree Census Array | tree_census.npy | Tree census data |\n",
    "| Monthly Sales Array | monthly_sales.npy | Monthly sales for liquor stores, restaurants, and department stores |\n",
    "| Sudoku Game Array | sudoku_game.npy | 9 x 9 array containing a Sudoku game; first row is missing |\n",
    "| Sudoku Solution Array | sudoku_solution.npy | 9 x 9 array containing solution to above Sudoku game; first row is missing |\n",
    "| Sudoku Game CSV | sudoku.csv | CSV file with no header containing Sudoku game data (supplied by DataCamp support) |\n",
    "| Sudoku Solution CSV | sudoku_solution.csv | CSV file with no header containing solution to Sudoko game (supplied by DataCamp support |\n",
    "| NumPy Logo | numpylogo2.png | PNG file from NumPy code repository containing the 1001 x 1001 NumPy logo |\n",
    "\n",
    "## Resources\n",
    "\n",
    "The NumPy website is located at https://numpy.org/.\n",
    "\n",
    "## Imports\n",
    "Import the modules required by this notebook."
   ]
  },
  {
   "cell_type": "code",
   "execution_count": null,
   "id": "691f9bfc",
   "metadata": {},
   "outputs": [],
   "source": [
    "import matplotlib.pyplot as plt\n",
    "import numpy as np\n",
    "import pandas as pd\n",
    "import PIL"
   ]
  },
  {
   "cell_type": "markdown",
   "id": "21596788",
   "metadata": {},
   "source": [
    "## Understanding NumPy Arrays\n",
    "TensorFlow, pandas, SciPy, matplotlib, and scikit-learn make use of NumPy.\n",
    "\n",
    "A NumPy array can have any number of dimensions and can be any length.\n",
    "\n",
    "### Introducing Arrays"
   ]
  },
  {
   "cell_type": "code",
   "execution_count": null,
   "id": "1f49f24d",
   "metadata": {},
   "outputs": [],
   "source": [
    "# Create a 1-D array.\n",
    "python_list = [3, 2, 5, 8, 4, 9, 7, 6, 1]\n",
    "array_1d = np.array(python_list)\n",
    "array_1d"
   ]
  },
  {
   "cell_type": "code",
   "execution_count": null,
   "id": "e495564e",
   "metadata": {},
   "outputs": [],
   "source": [
    "print(array_1d)"
   ]
  },
  {
   "cell_type": "code",
   "execution_count": null,
   "id": "0875a50b",
   "metadata": {},
   "outputs": [],
   "source": [
    "type(array_1d)"
   ]
  },
  {
   "cell_type": "code",
   "execution_count": null,
   "id": "47b922d1",
   "metadata": {},
   "outputs": [],
   "source": [
    "print(type(array_1d))"
   ]
  },
  {
   "cell_type": "code",
   "execution_count": null,
   "id": "da64a450",
   "metadata": {},
   "outputs": [],
   "source": [
    "# Create a 2-D array.\n",
    "python_list_of_lists = [[3, 2, 5],\n",
    "                       [9, 7, 1],\n",
    "                       [4, 3, 6]]\n",
    "array_2d = np.array(python_list_of_lists)\n",
    "array_2d"
   ]
  },
  {
   "cell_type": "markdown",
   "id": "3855d7dd",
   "metadata": {},
   "source": [
    "Python lists can contain many different data types. NumPy arrays can contain only a single data type; this reduces storage needs and increases efficiency of using a numpy.ndarray instead of a list."
   ]
  },
  {
   "cell_type": "code",
   "execution_count": null,
   "id": "794b9d88",
   "metadata": {},
   "outputs": [],
   "source": [
    "# Create a 2-D array filled with zeros. The tuple argument defines the shape\n",
    "# of the ndarray.\n",
    "np.zeros((5, 3))"
   ]
  },
  {
   "cell_type": "code",
   "execution_count": null,
   "id": "f6d964d4",
   "metadata": {},
   "outputs": [],
   "source": [
    "# Create an array containing random numbers between 0 and 1.\n",
    "# (See more below.)\n",
    "# Use the new interface.\n",
    "# np.random.random((2, 4))\n",
    "np.random.default_rng().random((2, 4))"
   ]
  },
  {
   "cell_type": "code",
   "execution_count": null,
   "id": "8a166140",
   "metadata": {},
   "outputs": [],
   "source": [
    "# Create an array containing an evenly spaced range of values.\n",
    "# The first argument is included in the array, the second argument\n",
    "# is not.\n",
    "np.arange(-3, 4)"
   ]
  },
  {
   "cell_type": "code",
   "execution_count": null,
   "id": "79f1365b",
   "metadata": {},
   "outputs": [],
   "source": [
    "# Omit the start value if the range begins with 0.\n",
    "np.arange(4)"
   ]
  },
  {
   "cell_type": "code",
   "execution_count": null,
   "id": "06d5da31",
   "metadata": {},
   "outputs": [],
   "source": [
    "# A third argument is interpreted as a step value.\n",
    "np.arange(-3, 4, 3)"
   ]
  },
  {
   "cell_type": "code",
   "execution_count": null,
   "id": "9423c42e",
   "metadata": {},
   "outputs": [],
   "source": [
    "# np.arange is especially useful for plotting.\n",
    "plt.scatter(np.arange(0, 7), np.arange(-3, 4))\n",
    "plt.show()"
   ]
  },
  {
   "cell_type": "markdown",
   "id": "04080889",
   "metadata": {},
   "source": [
    "#### Exercises"
   ]
  },
  {
   "cell_type": "code",
   "execution_count": null,
   "id": "048299db-72fc-477a-bf6a-69c5bc24e949",
   "metadata": {},
   "outputs": [],
   "source": [
    "# Load the Sudoku puzzle from sudoku_game.npy.\n",
    "# This file is damaged; it is missing the first row of data.\n",
    "# Test loading the damaged Sudoku game file.\n",
    "# This confirms that the file is damaged; it is missing a row.\n",
    "print(\"Loading damaged file sudoku_game.npy...\")\n",
    "with open(\"sudoku_game.npy\", \"rb\") as file:\n",
    "    sudoku_game_npy = np.load(file)\n",
    "print(sudoku_game_npy.shape)\n",
    "\n",
    "# This also works.\n",
    "sudoku_game_npy2 = np.load(\"sudoku_game.npy\")\n",
    "print(sudoku_game_npy2.shape)\n",
    "print()"
   ]
  },
  {
   "cell_type": "code",
   "execution_count": null,
   "id": "de3ddede-b047-489b-a7d8-097646e9a2f1",
   "metadata": {},
   "outputs": [],
   "source": [
    "# Load the data from the sudoku.csv file provided by DataCamp support.\n",
    "# They kindly supplied the code for loading the file correctly.\n",
    "sudoku_game_from_csv = pd.read_csv(\"sudoku.csv\", header=None).to_numpy()\n",
    "print(sudoku_game_from_csv.shape)"
   ]
  },
  {
   "cell_type": "code",
   "execution_count": null,
   "id": "e616a685-0d4d-4329-ab6d-93d34daa8561",
   "metadata": {},
   "outputs": [],
   "source": [
    "# Create a 9 x 9 2-D array for a Sudoku puzzle.\n",
    "# This contains the complete data.\n",
    "# I coded this when I encountered the damaged sudoku.npy file.\n",
    "# This array is identical to the array read from the sudoku.csv file.\n",
    "sudoku_list = [\n",
    "    [0, 0, 4, 3, 0, 0, 2, 0, 9],\n",
    "    [0, 0, 5, 0, 0, 9, 0, 0, 1],\n",
    "    [0, 7, 0, 0, 6, 0, 0, 4, 3],\n",
    "    [0, 0, 6, 0, 0, 2, 0, 8, 7],\n",
    "    [1, 9, 0, 0, 0, 7, 4, 0, 0],\n",
    "    [0, 5, 0, 0, 8, 3, 0, 0, 0],\n",
    "    [6, 0, 0, 0, 0, 0, 1, 0, 5],\n",
    "    [0, 0, 3, 5, 0, 8, 6, 9, 0],\n",
    "    [0, 4, 2, 9, 1, 0, 3, 0, 0]]\n",
    "sudoku_game = np.array(sudoku_list)\n",
    "print(type(sudoku_game))\n",
    "print(sudoku_game.shape)\n",
    "# Are the arrays equivalent?\n",
    "print(np.array_equal(sudoku_game_from_csv, sudoku_game))"
   ]
  },
  {
   "cell_type": "code",
   "execution_count": null,
   "id": "968876bd",
   "metadata": {},
   "outputs": [],
   "source": [
    "# Create small NumPy arrays from scratch.\n",
    "zero_array = np.zeros((2, 4))\n",
    "print(zero_array)"
   ]
  },
  {
   "cell_type": "markdown",
   "id": "1cb4e97a",
   "metadata": {},
   "source": [
    "Create a NumPy array containing random numbers between 0 and 1. DataCamp's exercise uses np.random.random, the old (deprecated) API. For the current API, see https://numpy.org/doc/stable/reference/random/index.html#random-quick-start and https://numpy.org/doc/1.23/reference/random/index.html, and https://numpy.org/doc/1.23/reference/random/generator.html#distributions."
   ]
  },
  {
   "cell_type": "code",
   "execution_count": null,
   "id": "5f2dfcec",
   "metadata": {},
   "outputs": [],
   "source": [
    "# Create a 2-D array of random numbers from the uniform distribution\n",
    "# [0.0, 1.0).\n",
    "rng = np.random.default_rng()\n",
    "rng.random((3, 6))"
   ]
  },
  {
   "cell_type": "code",
   "execution_count": null,
   "id": "ab4077c7-f2dc-4930-b311-5c317efdadfe",
   "metadata": {},
   "outputs": [],
   "source": [
    "# Extra credit. Create an array of random numbers from\n",
    "# the standard normal distribution.\n",
    "rng.standard_normal(8)"
   ]
  },
  {
   "cell_type": "code",
   "execution_count": null,
   "id": "3f8c5e65-8394-44bf-b07d-865dd5b34e6c",
   "metadata": {},
   "outputs": [],
   "source": [
    "# Extra credit. Create an array from the normal distribution.\n",
    "# The first parameter, loc, is the meann. The second parameter,\n",
    "# scale, is the standard deviation. The third parameter is the size of the array.\n",
    "rng.normal(5, 2, (6, 3))"
   ]
  },
  {
   "cell_type": "code",
   "execution_count": null,
   "id": "6c6c8d73",
   "metadata": {},
   "outputs": [],
   "source": [
    "# numpy.arange works best with ints.\n",
    "# With floats, use numpy.linspace.\n",
    "doubling_array = [1, 2, 4, 8, 16, 32, 64, 128, 256, 512]\n",
    "one_to_ten = np.arange(1, 11)\n",
    "plt.scatter(one_to_ten, doubling_array)\n",
    "plt.show()"
   ]
  },
  {
   "cell_type": "markdown",
   "id": "a62b72be",
   "metadata": {},
   "source": [
    "### Array Dimensionality"
   ]
  },
  {
   "cell_type": "code",
   "execution_count": null,
   "id": "890338fe",
   "metadata": {},
   "outputs": [],
   "source": [
    "# We can create a 3-D array from a list of lists of lists.\n",
    "# Or we can create a 3-D array from three 2-D arrays.\n",
    "array_1_2D = np.array([[1, 2], [5, 7]])\n",
    "array_2_2D = np.array([[8, 9], [5, 7]])\n",
    "array_3_2D = np.array([[1, 2], [5, 7]])\n",
    "array_A_3D = np.array([array_1_2D, array_2_2D, array_3_2D])\n",
    "print(array_A_3D)"
   ]
  },
  {
   "cell_type": "code",
   "execution_count": null,
   "id": "19d2ebe2",
   "metadata": {},
   "outputs": [],
   "source": [
    "# Create a 4-D array from two 3-D arrays.\n",
    "array_4_2D = np.array([[1, 2], [5, 7]])\n",
    "array_5_2D = np.array([[3, 4], [7, 8]])\n",
    "array_6_2D = np.array([[7, 6], [1, 4]])\n",
    "array_B_3D = np.array([array_4_2D, array_5_2D, array_6_2D])\n",
    "array_4D = np.array([array_A_3D, array_B_3D])\n",
    "print(array_4D)\n",
    "print(array_4D.shape)"
   ]
  },
  {
   "cell_type": "markdown",
   "id": "64f1edf1",
   "metadata": {},
   "source": [
    "Think of a 4-D array as a 2-D array filled with 3-D arrays."
   ]
  },
  {
   "cell_type": "markdown",
   "id": "a2f31af1-7c0a-428b-85b5-4783cb25fe56",
   "metadata": {},
   "source": [
    "#### Vector Arrays"
   ]
  },
  {
   "cell_type": "code",
   "execution_count": null,
   "id": "7896fe9a-3e03-4fa5-8290-8642875400a5",
   "metadata": {},
   "outputs": [],
   "source": [
    "# A vector array is an array with one dimension.\n",
    "# In NumPy, column and row vectors have the same shape, (5,).\n",
    "# To create a column vector, specify the shape as (5, 1), making this a 2-D\n",
    "# array with five rows and one column.\n",
    "# To create a row vector, specify the shape as (1, 5), making this a 2-D\n",
    "# array with one row and five columns.\n",
    "\n",
    "# Extra credit:\n",
    "# I experimented with creating the numpy equivalents of row and column vectors.\n",
    "# Create the numpy equivalent of a row vector.\n",
    "row_vector = np.array([1, 2, 3, 4, 5])\n",
    "row_vector.shape = (1, 5)\n",
    "print(row_vector.shape)\n",
    "print(row_vector)"
   ]
  },
  {
   "cell_type": "code",
   "execution_count": null,
   "id": "38984381-9500-48ea-8840-7be4c1bb0062",
   "metadata": {},
   "outputs": [],
   "source": [
    "# Create a row vector using a list of lists.\n",
    "row_vector2 = np.array([[1, 2, 3, 4, 5]])\n",
    "print(row_vector2.shape)\n",
    "print(row_vector2)"
   ]
  },
  {
   "cell_type": "code",
   "execution_count": null,
   "id": "9595d249-acd5-4028-8043-7fbb4a322b90",
   "metadata": {},
   "outputs": [],
   "source": [
    "col_vector = np.array([1, 2, 3, 4, 5])\n",
    "col_vector.shape=(5, 1)\n",
    "print(col_vector.shape)\n",
    "print(col_vector)"
   ]
  },
  {
   "cell_type": "code",
   "execution_count": null,
   "id": "fa9f4bac-fd59-4939-9134-49587ab87e11",
   "metadata": {},
   "outputs": [],
   "source": [
    "# Create a column vector from a list of lists.\n",
    "col_vector2 = np.array([[1], [2], [3], [4], [5]])\n",
    "print(col_vector2.shape)\n",
    "print(col_vector2)"
   ]
  },
  {
   "cell_type": "markdown",
   "id": "7b3c023e",
   "metadata": {},
   "source": [
    "#### Matrix and Tensor Arrays"
   ]
  },
  {
   "cell_type": "markdown",
   "id": "ff994097",
   "metadata": {},
   "source": [
    "In mathematics, a matrix has two dimensions. An array with three or more dimensions is called a tensor."
   ]
  },
  {
   "cell_type": "markdown",
   "id": "d32816fd",
   "metadata": {},
   "source": [
    "#### Shapeshifting"
   ]
  },
  {
   "cell_type": "markdown",
   "id": "0c15c15a",
   "metadata": {},
   "source": [
    "A NumPy array has an attribute, `.shape`, which contains a tuple containing the length of each dimension.\n",
    "\n",
    "The `.flatten()` and `.reshape()` methods change the shape of a NumPy array."
   ]
  },
  {
   "cell_type": "code",
   "execution_count": null,
   "id": "5dd7b212-1548-4b26-a39f-c401216f0311",
   "metadata": {},
   "outputs": [],
   "source": [
    "# Create a 2-D array.\n",
    "array1 = np.array([[1, 2], [5, 7], [6, 6]]) # 3 rows, 2 columns\n",
    "print(array1.shape)"
   ]
  },
  {
   "cell_type": "code",
   "execution_count": null,
   "id": "b847b572-b8a3-493d-9974-43de4b6381b3",
   "metadata": {},
   "outputs": [],
   "source": [
    "# Reshape the 2-D array. This returns a new array.\n",
    "array2 = array1.reshape((2, 3)) # 2 rows, 3 columns\n",
    "print(array2.shape)"
   ]
  },
  {
   "cell_type": "code",
   "execution_count": null,
   "id": "1d661762-61e6-4294-ab9c-d1ed7f0d7681",
   "metadata": {},
   "outputs": [],
   "source": [
    "# Extra credit.\n",
    "# This also works (pass two arguments, not a tuple).\n",
    "array3 = array1.reshape(2, 3) # 2 rows, 3 columns\n",
    "print(array3.shape)"
   ]
  },
  {
   "cell_type": "code",
   "execution_count": null,
   "id": "53a4c465-824e-425d-8073-e23aca677436",
   "metadata": {},
   "outputs": [],
   "source": [
    "# Extra credit.\n",
    "# Another way to reshape an array.\n",
    "array4 = np.reshape(array1, (2, 3)) # 2 rows, 3 columns\n",
    "print(array4.shape)"
   ]
  },
  {
   "cell_type": "code",
   "execution_count": null,
   "id": "59924608-3d61-49d8-bdb2-a176fde45d82",
   "metadata": {},
   "outputs": [],
   "source": [
    "# Flatten the 2-D rray; this returns a 1-D array.\n",
    "array3 = array1.flatten()\n",
    "print(type(array3))\n",
    "print(array3.shape)\n",
    "print(array3)"
   ]
  },
  {
   "cell_type": "markdown",
   "id": "ea7b0e67",
   "metadata": {},
   "source": [
    "#### Exercises\n",
    "To copy the data for some of the exercises, I used the DataCamp IPython shell to print the data, which I copied and pasted into this notebook. However, printing does not include the comma separator. The numpy.array2string() function will add a separator to the output.\n",
    "\n",
    "`print(np.array2string(sudoku_solution, separator=\", \")`"
   ]
  },
  {
   "cell_type": "markdown",
   "id": "b03deee7",
   "metadata": {},
   "source": [
    "Store the original sudoku puzzle and its solution in a 3-D NumPy array."
   ]
  },
  {
   "cell_type": "code",
   "execution_count": null,
   "id": "9887e28d-db6c-463e-b73c-cc710bdc9929",
   "metadata": {},
   "outputs": [],
   "source": [
    "# Load the Sudoku solution data from the file.\n",
    "# This file is also damaged; it is missing the first row of data.\n",
    "print(\"Loading damaged Sudoku solution data...\")\n",
    "with open(\"sudoku_solution.npy\", \"rb\") as file:\n",
    "    sudoku_solution_npy = np.load(file)\n",
    "print(type(sudoku_solution_npy))\n",
    "print(sudoku_solution_npy.shape)\n",
    "print()"
   ]
  },
  {
   "cell_type": "code",
   "execution_count": null,
   "id": "90ba5417-db7a-4e48-bec0-5c95e1900756",
   "metadata": {},
   "outputs": [],
   "source": [
    "# Load the data from the sudoku_solution.csv file provided by DataCamp\n",
    "# support. They kindly supplied the code for loading the file correctly.\n",
    "sudoku_solution_from_csv = pd.read_csv(\"sudoku_solution.csv\", header=None).to_numpy()\n",
    "print(sudoku_solution_from_csv.shape)"
   ]
  },
  {
   "cell_type": "code",
   "execution_count": null,
   "id": "0fb0ecfd-01d5-4a21-b961-341a0b90c887",
   "metadata": {},
   "outputs": [],
   "source": [
    "# Create a 2-D array of 9 rows with 9 columns.\n",
    "# I wrote this code when I couldn't obtain the data from sudoku_solution.npy.\n",
    "sudoku_solution = np.array(\n",
    "    [[8, 6, 4, 3, 7, 1, 2, 5, 9],\n",
    "     [3, 2, 5, 8, 4, 9, 7, 6, 1],\n",
    "     [9, 7, 1, 2, 6, 5, 8, 4, 3],\n",
    "     [4, 3, 6, 1, 9, 2, 5, 8, 7],\n",
    "     [1, 9, 8, 6, 5, 7, 4, 3, 2],\n",
    "     [2, 5, 7, 4, 8, 3, 9, 1, 6],\n",
    "     [6, 8, 9, 7, 3, 4, 1, 2, 5],\n",
    "     [7, 1, 3, 5, 2, 8, 6, 9, 4],\n",
    "     [5, 4, 2, 9, 1, 6, 3, 7, 8]])\n",
    "print(type(sudoku_solution))\n",
    "print(sudoku_solution.shape)\n",
    "print()\n",
    "\n",
    "# Create a 3-D array from two 2-D arrays.\n",
    "game_and_solution = np.array([sudoku_game, sudoku_solution])\n",
    "print(game_and_solution.shape)"
   ]
  },
  {
   "cell_type": "markdown",
   "id": "4f1a53e8",
   "metadata": {},
   "source": [
    "A good way to verify a NumPy array is to examine its `shape` attribute."
   ]
  },
  {
   "cell_type": "code",
   "execution_count": null,
   "id": "44a292c1",
   "metadata": {},
   "outputs": [],
   "source": [
    "# Build a 4-D array from two 3-D arrays. Each 3-D array contains two\n",
    "# 2-D arrays, the original Sudoku game and its solution.\n",
    "# Create a new 3-D array containing two 2-D arrays; this represents a\n",
    "# second Sudoku game and its solution.\n",
    "new_sudoku_game = np.array(\n",
    "    [[0, 0, 4, 3, 0, 0, 0, 0, 0],\n",
    "     [8, 9, 0, 2, 0, 0, 6, 7, 0],\n",
    "     [7, 0, 0, 9, 0, 0, 0, 5, 0],\n",
    "     [5, 0, 0, 0, 0, 8, 1, 4, 0],\n",
    "     [0, 7, 0, 0, 3, 2, 0, 6, 0],\n",
    "     [6, 0, 0, 0, 0, 1, 3, 0, 8],\n",
    "     [0, 0, 1, 7, 5, 0, 9, 0, 0],\n",
    "     [0, 0, 5, 0, 4, 0, 0, 1, 2],\n",
    "     [9, 8, 0, 0, 0, 6, 0, 0, 5]])\n",
    "new_sudoku_solution = np.array(\n",
    "    [[2, 5, 4, 3, 6, 7, 8, 9, 1],\n",
    "     [8, 9, 3, 2, 1, 5, 6, 7, 4],\n",
    "     [7, 1, 6, 9, 8, 4, 2, 5, 3],\n",
    "     [5, 3, 2, 6, 9, 8, 1, 4, 7],\n",
    "     [1, 7, 8, 4, 3, 2, 5, 6, 9],\n",
    "     [6, 4, 9, 5, 7, 1, 3, 2, 8],\n",
    "     [4, 2, 1, 7, 5, 3, 9, 8, 6],\n",
    "     [3, 6, 5, 8, 4, 9, 7, 1, 2],\n",
    "     [9, 8, 7, 1, 2, 6, 4, 3, 5]])\n",
    "new_game_and_solution = np.array([new_sudoku_game, new_sudoku_solution])\n",
    "\n",
    "# Create the 4D array from the two 3D arrays.\n",
    "games_and_solutions = np.array([game_and_solution, new_game_and_solution])\n",
    "# Interpret the shape (2, 2, 9, 9) as follows:\n",
    "# There is a 4-D array containing two 3-D arrays, where each 3-D array \n",
    "# contains two 2-D arrays of dimensions nine rows by nine columns.\n",
    "print(games_and_solutions.shape)"
   ]
  },
  {
   "cell_type": "code",
   "execution_count": null,
   "id": "999b90b8",
   "metadata": {},
   "outputs": [],
   "source": [
    "# Flatten the sudoku_game array.\n",
    "flattened_game = sudoku_game.flatten()\n",
    "print(flattened_game.shape)"
   ]
  },
  {
   "cell_type": "code",
   "execution_count": null,
   "id": "24f25a38-ff65-4bdb-bb25-ee0adecf104c",
   "metadata": {},
   "outputs": [],
   "source": [
    "# Reshape flattened_game as a 9 x 9 array.\n",
    "reshaped_game = flattened_game.reshape(9, 9)\n",
    "# Are the arrays equivalent?\n",
    "print(np.array_equal(sudoku_game, reshaped_game))"
   ]
  },
  {
   "cell_type": "markdown",
   "id": "f5b90b48-eeb4-409c-997d-02fad1778d82",
   "metadata": {},
   "source": [
    "### NumPy Data Types\n",
    "\n",
    "NumPy has data types that are more specific than general Python data types. Use the `numpy.ndarray.dtype` attribute to learn the NumPy data type.\n",
    "\n",
    "See https://numpy.org/doc/stable/reference/arrays.scalars.html#sized-aliases for aliases of NumPy data types."
   ]
  },
  {
   "cell_type": "code",
   "execution_count": null,
   "id": "86165ddc-6fd3-4b16-a32c-83192145893b",
   "metadata": {},
   "outputs": [],
   "source": [
    "# Float array.\n",
    "float_array = np.array([1.32, 5.78, 175.55])\n",
    "print(float_array.dtype)\n",
    "float_array.dtype"
   ]
  },
  {
   "cell_type": "code",
   "execution_count": null,
   "id": "644203a0-8382-4cea-9aab-ddb6c9275531",
   "metadata": {},
   "outputs": [],
   "source": [
    "# Int array.\n",
    "int_array = np.array([[1, 2, 3], [4, 5, 6]])\n",
    "print(int_array.dtype)"
   ]
  },
  {
   "cell_type": "code",
   "execution_count": null,
   "id": "a7373a00-713e-4f20-a392-334b6d6f9a91",
   "metadata": {},
   "outputs": [],
   "source": [
    "# String array. \"<\" means little-endian. U means Unicode. 12 means\n",
    "# 12 characters in each Unicode string.\n",
    "string_array = np.array([\"Introduction\", \"to\", \"NumPy\"])\n",
    "print(string_array.dtype)"
   ]
  },
  {
   "cell_type": "code",
   "execution_count": null,
   "id": "d3d46b3b-ccb2-4f83-be22-e1d819fd675f",
   "metadata": {},
   "outputs": [],
   "source": [
    "# The dtype of a numpy.ndarray can be set during creation of the array.\n",
    "float32_array = np.array([1.32, 5.78, 175.55], dtype=np.float32)\n",
    "print(float32_array.dtype)"
   ]
  },
  {
   "cell_type": "code",
   "execution_count": null,
   "id": "b7f26165-f3c5-4b45-8323-1ca0687c3d30",
   "metadata": {},
   "outputs": [],
   "source": [
    "# We can convert the type of elements within an array.\n",
    "boolean_array = np.array([[True, False], [False, False]], dtype=np.bool_)\n",
    "print(boolean_array.dtype)"
   ]
  },
  {
   "cell_type": "code",
   "execution_count": null,
   "id": "70433c30-6d02-4cc4-a23a-c0f333719ac1",
   "metadata": {},
   "outputs": [],
   "source": [
    "boolean_array2 = boolean_array.astype(np.int32)\n",
    "print(boolean_array2.dtype)"
   ]
  },
  {
   "cell_type": "code",
   "execution_count": null,
   "id": "6d927e6a-67c3-42d5-9ee0-7d61e8bd1fff",
   "metadata": {},
   "outputs": [],
   "source": [
    "# NumPy performs type coercian when dealing with multiple data types.\n",
    "# Here, all elements become strings.\n",
    "mixed_array = np.array([True, \"Boop\", 42, 42.42])\n",
    "print(mixed_array.dtype)"
   ]
  },
  {
   "cell_type": "code",
   "execution_count": null,
   "id": "4d9a9abc-8a4f-4943-8785-46e0a4946bf3",
   "metadata": {},
   "outputs": [],
   "source": [
    "mixed_array"
   ]
  },
  {
   "cell_type": "code",
   "execution_count": null,
   "id": "68a0c2c3-99ab-458f-82b4-0e0281f5c9c4",
   "metadata": {},
   "outputs": [],
   "source": [
    "# Specify the dtype during creation.\n",
    "# Shorten the length of the strings here.\n",
    "mixed_array2 = np.array([True, \"Boop\", 42, 42.42], dtype=\"<U5\")\n",
    "print(mixed_array2.dtype)"
   ]
  },
  {
   "cell_type": "code",
   "execution_count": null,
   "id": "59d7f221-61de-4a01-800f-92d5593567ea",
   "metadata": {},
   "outputs": [],
   "source": [
    "# Create a float32 array.\n",
    "float32_array = np.array([1.32, 5.78, 175.55], dtype=np.float32)\n",
    "print(float32_array.dtype)"
   ]
  },
  {
   "cell_type": "code",
   "execution_count": null,
   "id": "0b96d239-42ff-451e-ba71-e1af48f3ac7d",
   "metadata": {},
   "outputs": [],
   "source": [
    "# Convert data to a different dtype (type conversion).\n",
    "# Strings are not easily cast into numbers while preserving the original data.\n",
    "boolean_array = np.array([[True, False], [False, False]], dtype=np.bool_)\n",
    "int32_bool_array = boolean_array.astype(np.int32)\n",
    "print(boolean_array)\n",
    "print(int32_bool_array)\n",
    "print(int32_bool_array.dtype)"
   ]
  },
  {
   "cell_type": "code",
   "execution_count": null,
   "id": "36a98fe3-446e-4eff-ad92-9dd8c5018116",
   "metadata": {},
   "outputs": [],
   "source": [
    "# There is a type coercion hierarchy.\n",
    "# Adding a single string to an array will cause all elements to be cash\n",
    "# to string.\n",
    "# Adding a float to an array of ints changes all integers to floats.\n",
    "float_array2 = np.array([0, 42, 42.42])\n",
    "print(float_array2)\n",
    "print(float_array2.dtype)"
   ]
  },
  {
   "cell_type": "code",
   "execution_count": null,
   "id": "abe7a742-a004-4ae1-b576-2c1fce204f29",
   "metadata": {},
   "outputs": [],
   "source": [
    "# Adding an integer to an array of booleans changes all elements to integers.\n",
    "int_array2 = np.array([True, False, 42])\n",
    "print(int_array2)\n",
    "print(int_array2.dtype)"
   ]
  },
  {
   "cell_type": "markdown",
   "id": "38df304e-3869-4066-b88f-e60f0f82f3f5",
   "metadata": {},
   "source": [
    "#### Exercises"
   ]
  },
  {
   "cell_type": "code",
   "execution_count": null,
   "id": "38ae917f-ddc9-4c86-97c7-daa1922917ec",
   "metadata": {},
   "outputs": [],
   "source": [
    "# Create an array using np.zeros(). The argument must be a shape tuple.\n",
    "zeros_array = np.zeros((3, 2))\n",
    "print(zeros_array)\n",
    "print(zeros_array.dtype)"
   ]
  },
  {
   "cell_type": "code",
   "execution_count": null,
   "id": "fd1bab44-7b77-46de-b476-94623e1d661d",
   "metadata": {},
   "outputs": [],
   "source": [
    "# Create an array of zeros specifying dtype np.int32.\n",
    "zero_int_array = np.zeros((3, 2), dtype=np.int32)\n",
    "print(zero_int_array.dtype)"
   ]
  },
  {
   "cell_type": "code",
   "execution_count": null,
   "id": "ab75feae-a8f4-47d9-920a-9f7a36205bf0",
   "metadata": {},
   "outputs": [],
   "source": [
    "# This sets the values to np.int8, coercing the values.\n",
    "np.array([45.67, True], dtype=np.int8)"
   ]
  },
  {
   "cell_type": "code",
   "execution_count": null,
   "id": "4561ad1f-d026-43cd-a1e8-c081cb1d3d68",
   "metadata": {},
   "outputs": [],
   "source": [
    "# Change the dtype of sudoku_game to make it more memory-efficient.\n",
    "# We could go to int8 for these since this has a range of -128 to 127.\n",
    "print(sudoku_game.dtype)"
   ]
  },
  {
   "cell_type": "code",
   "execution_count": null,
   "id": "872d9850-333e-4fcd-8874-753558870e93",
   "metadata": {},
   "outputs": [],
   "source": [
    "small_sudoku_game = sudoku_game.astype(np.int8)\n",
    "print(small_sudoku_game.dtype)"
   ]
  },
  {
   "cell_type": "markdown",
   "id": "44723180-55d0-4996-ad90-2eee3de54402",
   "metadata": {},
   "source": [
    "## Selecting and Updating Data"
   ]
  },
  {
   "cell_type": "markdown",
   "id": "c250e841-a855-4e5b-9698-07c75de9c09e",
   "metadata": {},
   "source": [
    "### Indexing and Slicing Data"
   ]
  },
  {
   "cell_type": "code",
   "execution_count": null,
   "id": "f74982e8-09b5-4bfd-a5de-450fce221e83",
   "metadata": {},
   "outputs": [],
   "source": [
    "# Indexing a 1-D array.\n",
    "array2 = np.array([2, 4, 6, 8, 10])\n",
    "print(array2[3])"
   ]
  },
  {
   "cell_type": "code",
   "execution_count": null,
   "id": "05be8cd9-77bd-435d-88e1-2af734224ef2",
   "metadata": {},
   "outputs": [],
   "source": [
    "# Indexing a 2-D array.\n",
    "print(sudoku_game[2, 4])"
   ]
  },
  {
   "cell_type": "code",
   "execution_count": null,
   "id": "ac1fd655-9d2a-4744-8e7b-b869b9b420bb",
   "metadata": {},
   "outputs": [],
   "source": [
    "# This works, too.\n",
    "print(sudoku_game[2][4])"
   ]
  },
  {
   "cell_type": "code",
   "execution_count": null,
   "id": "4d9110cb-d182-446a-943f-8915a9c3a456",
   "metadata": {},
   "outputs": [],
   "source": [
    "print(sudoku_game)"
   ]
  },
  {
   "cell_type": "code",
   "execution_count": null,
   "id": "106ef348-2a65-4a45-9af6-cb7bf0473008",
   "metadata": {},
   "outputs": [],
   "source": [
    "# When giving NumPy one index into a 2-D array, it assumes it\n",
    "# is a row index.\n",
    "print(sudoku_game[0])"
   ]
  },
  {
   "cell_type": "code",
   "execution_count": null,
   "id": "e87c6aed-687b-464b-904b-065d78413917",
   "metadata": {},
   "outputs": [],
   "source": [
    "# Use a colon to index all rows and a column number to obtain a\n",
    "# column from an ndarray.\n",
    "print(sudoku_game[:, 3])"
   ]
  },
  {
   "cell_type": "markdown",
   "id": "75e19132-5252-41dd-a141-3d401f4cb282",
   "metadata": {},
   "source": [
    "#### Exercises"
   ]
  },
  {
   "cell_type": "code",
   "execution_count": null,
   "id": "8c4b664c-3177-4a2a-b995-93d0e9fbef37",
   "metadata": {},
   "outputs": [],
   "source": [
    "# Read the data from the tree_census.npy file.\n",
    "# The columns are:\n",
    "#   tree ID\n",
    "#   block ID\n",
    "#   trunk diameter\n",
    "#   stump diameter (0 for living trees)\n",
    "tree_census = np.load(\"tree_census.npy\")\n",
    "print(\"shape:\", tree_census.shape)\n",
    "print(\"dtype:\", tree_census.dtype)\n",
    "print(\"nbytes:\", tree_census.nbytes)\n",
    "print(\"itemsize:\", tree_census.itemsize)"
   ]
  },
  {
   "cell_type": "code",
   "execution_count": null,
   "id": "b4ac88c6-80a7-46c6-9cf8-9595a98fa074",
   "metadata": {},
   "outputs": [],
   "source": [
    "# Look at a summary of the data.\n",
    "tree_census"
   ]
  },
  {
   "cell_type": "code",
   "execution_count": null,
   "id": "e67a8005-10f1-4f27-85e2-1e59333157a9",
   "metadata": {},
   "outputs": [],
   "source": [
    "# Get the block IDs and print the first five rows.\n",
    "block_ids = tree_census[:, 1]\n",
    "print(block_ids[:5])"
   ]
  },
  {
   "cell_type": "code",
   "execution_count": null,
   "id": "28556696-2405-4963-a5cb-87743476b0ab",
   "metadata": {},
   "outputs": [],
   "source": [
    "# Select the 10th item in block_ids.\n",
    "tenth_block_id = block_ids[9]\n",
    "print(tenth_block_id)"
   ]
  },
  {
   "cell_type": "code",
   "execution_count": null,
   "id": "c8fd70a5-e7c2-4cfa-a083-13b4dc784837",
   "metadata": {},
   "outputs": [],
   "source": [
    "# Select five consecutive block IDs from block_ids,\n",
    "# starting with the tenth ID.\n",
    "block_id_slice = block_ids[9:14]\n",
    "print(block_id_slice)"
   ]
  },
  {
   "cell_type": "code",
   "execution_count": null,
   "id": "9d412fe0-19c0-4345-bdc6-61dd216e5962",
   "metadata": {},
   "outputs": [],
   "source": [
    "# Select the first 100 trunk diameters from the ndarray.\n",
    "hundred_diameters = tree_census[0:100, 2]\n",
    "print(hundred_diameters.shape)\n",
    "print(hundred_diameters)"
   ]
  },
  {
   "cell_type": "code",
   "execution_count": null,
   "id": "69edf66c-e1ae-44f8-9d07-b77bb99c8501",
   "metadata": {},
   "outputs": [],
   "source": [
    "# Select every other tree diameter for trees with row indices 50 to 100, inclusive.\n",
    "# The indexes can be obtained using np.arange.\n",
    "np.arange(50, 101, 2)"
   ]
  },
  {
   "cell_type": "code",
   "execution_count": null,
   "id": "3b7f1f12-c3db-4e39-b89a-d39c8b3b8821",
   "metadata": {},
   "outputs": [],
   "source": [
    "# Select the data subset.\n",
    "every_other_diameter = tree_census[np.arange(50, 101, 2), 2]\n",
    "print(every_other_diameter)"
   ]
  },
  {
   "cell_type": "code",
   "execution_count": null,
   "id": "f720711f-1ab7-4cc6-94ad-91408796183f",
   "metadata": {},
   "outputs": [],
   "source": [
    "# Create a new array containing the sorted trunk diameters.\n",
    "sorted_trunk_diameters = np.sort(tree_census[:, 2])\n",
    "print(sorted_trunk_diameters)"
   ]
  },
  {
   "cell_type": "code",
   "execution_count": null,
   "id": "5e4a9593-fe30-42e5-a46c-457b5925e5cc",
   "metadata": {},
   "outputs": [],
   "source": [
    "# Extra credit.\n",
    "# np.sort doesn't give a choice of descending sort.\n",
    "# Reverse the order of the 1-D array using np.flip.\n",
    "np.flip(sorted_trunk_diameters)"
   ]
  },
  {
   "cell_type": "code",
   "execution_count": null,
   "id": "cb76630b-e065-4e0e-8e0a-db58c4c1b637",
   "metadata": {},
   "outputs": [],
   "source": [
    "# Extra credit.\n",
    "# My first approach used the .sort method of the ndarray. This does\n",
    "# an in-place sort, and it results in sorting column 2 in place in the 2-D\n",
    "# ndarray because it's using a reference to the data.\n",
    "# That is not what we want!\n",
    "tree_census2 = tree_census.copy()\n",
    "print(tree_census2[:, 2])\n",
    "tree_census2[:, 2].sort()\n",
    "print(tree_census2[:, 2])"
   ]
  },
  {
   "cell_type": "markdown",
   "id": "47506bdc-8576-472a-b6c9-070462009480",
   "metadata": {},
   "source": [
    "### Filtering Arrays"
   ]
  },
  {
   "cell_type": "code",
   "execution_count": null,
   "id": "acd660f0-0fbd-4099-83a1-999a9cf550d8",
   "metadata": {},
   "outputs": [],
   "source": [
    "# Fancy indexing. This is used when we're interested in the elements\n",
    "# that meet the filtering condition. Fancy indexing returns an array\n",
    "# containing the elements that meet the condition.\n",
    "# Boolean masks have the same shape as the target array.\n",
    "# Here, extract the members of the array that are even.\n",
    "one_to_five = np.arange(1, 6)\n",
    "print(one_to_five)\n",
    "mask = one_to_five % 2 == 0\n",
    "print(mask)\n",
    "evens = one_to_five[mask]\n",
    "print(evens)"
   ]
  },
  {
   "cell_type": "code",
   "execution_count": null,
   "id": "66c1dc25-995b-4404-8cb3-c559506702b4",
   "metadata": {},
   "outputs": [],
   "source": [
    "# Extra credit.\n",
    "# Try this with a 2-D array, extracting the elements with even values.\n",
    "# The result is a 1-D array.\n",
    "one_to_twenty = np.arange(1, 21)\n",
    "one_to_twenty = one_to_twenty.reshape(4, 5)\n",
    "print(one_to_twenty)\n",
    "mask2 = one_to_twenty % 2 == 0\n",
    "print(mask2)\n",
    "evens2 = one_to_twenty[mask2]\n",
    "print(evens2)"
   ]
  },
  {
   "cell_type": "code",
   "execution_count": null,
   "id": "b1193e03-a6c9-4455-a7d7-8e0859ceff7f",
   "metadata": {},
   "outputs": [],
   "source": [
    "# Fancy indexing of a 2-D array.\n",
    "# We have classrooms and students in classrooms that we want to pair for an\n",
    "# activity. We want to know the classrooms with an even number of students.\n",
    "classroom_ids_and_sizes = np.array([[1, 22], [2, 21], [3, 27], [4, 26]])\n",
    "print(classroom_ids_and_sizes)\n",
    "# Create a mask for all rows and column 1, which contains the size value.\n",
    "mask3 = classroom_ids_and_sizes[:, 1] % 2 == 0\n",
    "print(mask3)\n",
    "# Apply the mask to identify the room IDs from column 0 that meet the condition.\n",
    "result = classroom_ids_and_sizes[:, 0][mask3]\n",
    "print(result)"
   ]
  },
  {
   "cell_type": "code",
   "execution_count": null,
   "id": "e9cf28bd-3da1-4b55-8845-ed8f372c69a2",
   "metadata": {},
   "outputs": [],
   "source": [
    "# Or, step by step:\n",
    "# Extract an array containing the classroom IDs.\n",
    "classroom_ids = classroom_ids_and_sizes[:, 0]\n",
    "print(classroom_ids)\n",
    "# Apply the mask.\n",
    "result2 = classroom_ids[mask3]\n",
    "print(result2)"
   ]
  },
  {
   "cell_type": "code",
   "execution_count": null,
   "id": "1eacb0b8-9c9d-4ebf-97ff-9c13d22e8e3d",
   "metadata": {},
   "outputs": [],
   "source": [
    "# np.where() returns an array of indices of elements that meet a condition.\n",
    "# Can be used to create an array based on whether the elements do or\n",
    "# don't meet a condition.\n",
    "# np.where returns a tuple.\n",
    "where = np.where(classroom_ids_and_sizes[:, 1] % 2 == 0)\n",
    "print(where)"
   ]
  },
  {
   "cell_type": "code",
   "execution_count": null,
   "id": "cb67723c-7305-4a55-9c76-72a291afa005",
   "metadata": {},
   "outputs": [],
   "source": [
    "# Same result using the mask array.\n",
    "where2 = np.where(mask3)\n",
    "print(where2)"
   ]
  },
  {
   "cell_type": "code",
   "execution_count": null,
   "id": "e3f34025-4ae1-4a8e-976e-0c3f7e284e23",
   "metadata": {},
   "outputs": [],
   "source": [
    "# Use np.where() to return the indices of sudoku_game elements that are 0.\n",
    "# There are 46 elements where this is true.\n",
    "print(\"sudoku_game\")\n",
    "print(sudoku_game)\n",
    "print()\n",
    "\n",
    "# Create a boolean mask.\n",
    "sudoku_zeros_mask = sudoku_game == 0\n",
    "print(\"mask\")\n",
    "print(sudoku_zeros_mask)\n",
    "print()\n",
    "\n",
    "# Get the indices of the elements that are zero.\n",
    "sudoku_zero_indices = np.where(sudoku_zeros_mask)\n",
    "print(\"sudoku_zero_indices\")\n",
    "print(sudoku_zero_indices)\n",
    "print(\"shape\")\n",
    "print(np.shape(sudoku_zero_indices))\n",
    "print()\n",
    "\n",
    "# Find 0 and replace with \"\" using np.where.\n",
    "# This builds a new array, entering \"\" when the mask value is True,\n",
    "# else entering the element from sudoku_game.\n",
    "# The mask determines the shape of the array returned.\n",
    "sudoku_game_2 = np.where(sudoku_zeros_mask, \"\", sudoku_game)\n",
    "print(sudoku_game_2)"
   ]
  },
  {
   "cell_type": "code",
   "execution_count": null,
   "id": "d3414236-bf78-4e04-93fe-0b781d8b40a5",
   "metadata": {},
   "outputs": [],
   "source": [
    "# Combine the steps.\n",
    "sudoku_game3 = np.where(sudoku_game == 0, \"\", sudoku_game)\n",
    "print(sudoku_game3)"
   ]
  },
  {
   "cell_type": "code",
   "execution_count": null,
   "id": "b737bd9b-f345-4228-b983-32d50ff269cf",
   "metadata": {},
   "outputs": [],
   "source": [
    "# Extra credit.\n",
    "# Find and replace 0 with \" \" to make the array look nicer when printed.\n",
    "np.where(sudoku_game == 0, \" \", sudoku_game)"
   ]
  },
  {
   "cell_type": "code",
   "execution_count": null,
   "id": "4f3f1c65-fe5d-47b1-9742-55504230439a",
   "metadata": {},
   "outputs": [],
   "source": [
    "# Extra credit.\n",
    "# Find and replace 0 with \" \", else replace the value with \"X\".\n",
    "np.where(sudoku_game == 0, \" \", \"X\")"
   ]
  },
  {
   "cell_type": "markdown",
   "id": "60597361-b40b-46c1-9bdf-f9c504cb764c",
   "metadata": {},
   "source": [
    "#### Exercises"
   ]
  },
  {
   "cell_type": "code",
   "execution_count": null,
   "id": "9de28f88-a242-4113-a502-763940827442",
   "metadata": {},
   "outputs": [],
   "source": [
    "# Print the row of data from tree_census where the diameter of the\n",
    "# trunk is 51.\n",
    "tree_data_51 = tree_census[tree_census[:, 2] == 51]\n",
    "print(tree_data_51)"
   ]
  },
  {
   "cell_type": "code",
   "execution_count": null,
   "id": "cb1df424-d8b6-4a1c-b6e5-d31c89de07b6",
   "metadata": {},
   "outputs": [],
   "source": [
    "# Print the block ID of the block(s) having trees with trunk diameter\n",
    "# of 51.\n",
    "# tree_data_51_blocks = tree_census[tree_census[:, 2] == 51][:, 1]\n",
    "tree_data_51_blocks = tree_data_51[:, 1]\n",
    "print(tree_data_51_blocks)"
   ]
  },
  {
   "cell_type": "code",
   "execution_count": null,
   "id": "1f1ac92f-3827-4843-8276-3a2c18c046a8",
   "metadata": {},
   "outputs": [],
   "source": [
    "# Given the ID of the block containing the tree with trunk diameter 51,\n",
    "# return an array of all trees on that block.\n",
    "block_501882_trees = tree_census[tree_census[:, 1] == tree_data_51_blocks]\n",
    "print(block_501882_trees)"
   ]
  },
  {
   "cell_type": "code",
   "execution_count": null,
   "id": "7e985558-1532-4e82-b62f-f5e9c1d8bd5c",
   "metadata": {},
   "outputs": [],
   "source": [
    "# Create an array with rows for trees on block 313879.\n",
    "block_313879 = tree_census[tree_census[:, 1] == 313879]\n",
    "print(block_313879)\n",
    "print()\n",
    "# Create an array of row indices for trees having block 313879.\n",
    "# We want the first element in the tuple returned by np.where.\n",
    "row_indices = np.where(tree_census[:, 1] == 313879)[0]\n",
    "print(row_indices)\n",
    "print()\n",
    "# Test the indices.\n",
    "print(tree_census[row_indices])"
   ]
  },
  {
   "cell_type": "code",
   "execution_count": null,
   "id": "c163b20e-b5aa-4de2-a5e2-60ca9bdff10e",
   "metadata": {},
   "outputs": [],
   "source": [
    "# Tree diameters are in column 2, and stump diameters are in column 3.\n",
    "# Tree diameters are 0 when a stump diameter value is not 0.\n",
    "# Stump diameters are 0 when a tree diameter is not 0.\n",
    "# Create a 1-D array containing the diameters of trees and stumps.\n",
    "trunk_stump_diameters = np.where(tree_census[:, 2] == 0, tree_census[:, 3], tree_census[:, 2])\n",
    "print(trunk_stump_diameters)"
   ]
  },
  {
   "cell_type": "code",
   "execution_count": null,
   "id": "4c010f2e-61a4-4daf-be19-9f11e38d3d65",
   "metadata": {},
   "outputs": [],
   "source": [
    "# Extra credit.\n",
    "# Break down what happened above.\n",
    "trunks_0_row_indices = np.where(tree_census[:, 2] == 0)\n",
    "print(\"row_indices\")\n",
    "print(trunks_0_row_indices)\n",
    "print()\n",
    "\n",
    "# Get the array of trunk diameters.\n",
    "trunk_diameters = tree_census[:, 2]\n",
    "print(\"trunk diameters\")\n",
    "print(trunk_diameters)\n",
    "print()\n",
    "\n",
    "# Test: Using these indices, the values for the trunk diameter should all be 0.\n",
    "trunks_0 = tree_census[:, 2][trunks_0_row_indices]\n",
    "print(\"trunk zero diameters\")\n",
    "print(trunks_0)\n",
    "print()\n",
    "\n",
    "# Get the stump diameters.\n",
    "stump_diameters = tree_census[:, 3]\n",
    "print(\"stump diameters\")\n",
    "print(stump_diameters)\n",
    "print()\n",
    "\n",
    "# Use the indices to get the stump diameter when the trunk diameter is 0.\n",
    "stumps_trunk_0 = tree_census[:, 3][trunks_0_row_indices]\n",
    "print(\"stump diameters for trunk zero diameters\")\n",
    "print(stumps_trunk_0)\n",
    "print()\n",
    "\n",
    "# Use np.where again to get the same result.\n",
    "all_diameters2 = np.where(tree_census[:, 2] == 0, stump_diameters, trunk_diameters)\n",
    "print(\"all diameters\")\n",
    "print(all_diameters2)\n",
    "print()\n",
    "\n",
    "# Test. Reversing the columns should give an array with all elements being zero.\n",
    "zero_diameters = np.where(tree_census[:, 2] == 0, trunk_diameters, stump_diameters)\n",
    "print(\"test zero diameters\")\n",
    "print(zero_diameters)"
   ]
  },
  {
   "cell_type": "markdown",
   "id": "5a94c4be-f1a8-4b25-a523-8bb8430149aa",
   "metadata": {},
   "source": [
    "### Adding and Removing Data"
   ]
  },
  {
   "cell_type": "code",
   "execution_count": null,
   "id": "727367ea-f102-4359-b4f4-71def45071a8",
   "metadata": {},
   "outputs": [],
   "source": [
    "# Concatenate using the np.concatenate() function.\n",
    "# Arrays must be compatible for concatenation.\n",
    "# A 1-D array must be converted into a 2-D array to concatenate\n",
    "# it to another 2-D array. For example, shape(3,) => shape(3,1)\n",
    "# np.concatenate will not create new dimensions (for example, by concatenating\n",
    "# two 3-D arrays to create a 4-D array.\n",
    "\n",
    "# Add rows to classroom_ids_and_sizes.\n",
    "# This is concatenation along axis 0 -- adding new rows -- the default.\n",
    "# The course should have set a unique ID for the final classroom (6, not 5).\n",
    "print(\"classroom_ids_and_sizes\")\n",
    "print(classroom_ids_and_sizes)\n",
    "print()\n",
    "new_classes = np.array([[5, 30], [6, 17]])\n",
    "print(\"new_classes\")\n",
    "print(new_classes)\n",
    "print()\n",
    "# Concatenate requires a tuple argument.\n",
    "all_classes = np.concatenate((classroom_ids_and_sizes, new_classes))\n",
    "print(\"all_classes\")\n",
    "print(all_classes)"
   ]
  },
  {
   "cell_type": "code",
   "execution_count": null,
   "id": "d016ea13-806a-47d5-b575-45f8c40c2f68",
   "metadata": {},
   "outputs": [],
   "source": [
    "# To concatenate columns, pass the axis=1 argument.\n",
    "# Note all data is coerced to dtype \"<U21\".\n",
    "grade_levels_and_teachers = np.array([[1, \"James\"], [1, \"George\"], [3, \"Amy\"], [3, \"Meehir\"]])\n",
    "classroom_data = np.concatenate((classroom_ids_and_sizes, grade_levels_and_teachers), axis=1)\n",
    "print(classroom_data)"
   ]
  },
  {
   "cell_type": "code",
   "execution_count": null,
   "id": "b4f7b921-5fa2-4c82-bff8-f00d58c9afe4",
   "metadata": {},
   "outputs": [],
   "source": [
    "# Creating a compatible 1-D array.\n",
    "# Prepare a column array for concatenation.\n",
    "array_1D = np.array([1, 2, 3])\n",
    "print(\"1-D array\")\n",
    "print()\n",
    "column_array_2D = np.reshape(array_1D, (3, 1))\n",
    "print(\"column array\")\n",
    "print(column_array_2D)\n",
    "print()\n",
    "row_array_2D = np.reshape(array_1D, (1, 3))\n",
    "print(\"row array\")\n",
    "print(row_array_2D)"
   ]
  },
  {
   "cell_type": "code",
   "execution_count": null,
   "id": "d82723c9-0762-465b-8f4f-7739d09c0788",
   "metadata": {},
   "outputs": [],
   "source": [
    "# Deleting with np.delete().\n",
    "# Need to specify the input array, the indices to delete, and the axis for deletion.\n",
    "# np.delete() will delete rows or columns from a 2-D array.\n",
    "# It makes no sense to delete a single cell of a 2-D array.\n",
    "# Delete row 1 from classroom_data.\n",
    "classroom_data2 = np.delete(classroom_data, 1, axis=0)\n",
    "print(classroom_data2)"
   ]
  },
  {
   "cell_type": "code",
   "execution_count": null,
   "id": "5f5e3e16-7071-41d9-a0de-4b9e4f4f6e9a",
   "metadata": {},
   "outputs": [],
   "source": [
    "# Delete the student count column (column 1).\n",
    "classroom_data3 = np.delete(classroom_data, 1, axis=1)\n",
    "print(classroom_data3)"
   ]
  },
  {
   "cell_type": "code",
   "execution_count": null,
   "id": "0ae36e31-2647-4dce-a8e0-d41057cda709",
   "metadata": {},
   "outputs": [],
   "source": [
    "# If you don't specify an axis, np.delete() deletes the element at the\n",
    "# specified index from a flattened array.\n",
    "classroom_data4 = np.delete(classroom_data, 1)\n",
    "print(classroom_data4)"
   ]
  },
  {
   "cell_type": "markdown",
   "id": "e2d92f2b-6ab4-4a55-b99a-39950e3b1918",
   "metadata": {},
   "source": [
    "#### Exercises\n",
    "\n",
    "The following arrays are not compatible for concatenation:\n",
    "- (5, 2) and (7, 4)\n",
    "- (4, 2) and (4, )\n",
    "- (4, 2) and (2, )\n",
    "\n",
    "The following arrays are compatible for row concatenation (axis 0)\n",
    "because they have the same number of columns:\n",
    "- (4, 2) and (6, 2)\n",
    "- (15, 5) and (100, 5)\n",
    "\n",
    "The following arrays are compatible for column concatenation (axis 1)\n",
    "because they have the same number of rows:\n",
    "- (4, 2) and (4, 3)"
   ]
  },
  {
   "cell_type": "code",
   "execution_count": null,
   "id": "b45dff83-6bb1-4589-adae-c9c7967e33c2",
   "metadata": {},
   "outputs": [],
   "source": [
    "# Add two more rows to tree_census.\n",
    "# We can add these rows because they contain the same number of columns.\n",
    "new_trees = np.array([[1211, 227386, 20, 0], [1212, 227386, 8, 0]])\n",
    "print(tree_census.shape)\n",
    "print(new_trees.shape)"
   ]
  },
  {
   "cell_type": "code",
   "execution_count": null,
   "id": "f3050fa1-50b2-4769-beef-3c3398772f84",
   "metadata": {},
   "outputs": [],
   "source": [
    "updated_tree_census = np.concatenate((tree_census, new_trees), axis=0)"
   ]
  },
  {
   "cell_type": "code",
   "execution_count": null,
   "id": "74a2b1f3-6a9e-49fe-932b-73867dcfbfa2",
   "metadata": {},
   "outputs": [],
   "source": [
    "print(updated_tree_census)"
   ]
  },
  {
   "cell_type": "code",
   "execution_count": null,
   "id": "b92d1d93-fe01-4b0d-b28a-8a08c5f7fa84",
   "metadata": {},
   "outputs": [],
   "source": [
    "# Add the column trunk_stump_diameters to tree_census.\n",
    "# The shape of trunk_stump_diameters is not compatible for concatenation.\n",
    "print(\"incompatible shapes\")\n",
    "print(tree_census.shape, trunk_stump_diameters.shape)\n",
    "print()\n",
    "\n",
    "# Reshape the column so it is compatible for concatenation.\n",
    "# Both arrays have 1000 rows, so they are compatible for column concatenation.\n",
    "reshaped_diameters = np.reshape(trunk_stump_diameters, (1000, 1))\n",
    "print(\"compatible shapes\")\n",
    "print(tree_census.shape, reshaped_diameters.shape)\n",
    "print()\n",
    "\n",
    "# Perform the concatenation. Column 4 contains the diameter of the trunk\n",
    "# or stump.\n",
    "concatenated_tree_census = np.concatenate((tree_census, reshaped_diameters), axis=1)\n",
    "print(\"concatenated tree census\")\n",
    "print(concatenated_tree_census)"
   ]
  },
  {
   "cell_type": "code",
   "execution_count": null,
   "id": "208d5c9f-389a-4a92-8252-8fc1894de185",
   "metadata": {},
   "outputs": [],
   "source": [
    "# Delete dead trees and trees not on city-owned blocks.\n",
    "# First, delete the stump diameter column (column 3) from tree_census.\n",
    "tree_census_no_stumps = np.delete(tree_census, 3, axis=1)\n",
    "print(\"tree_census_no_stumps\")\n",
    "print(tree_census_no_stumps)\n",
    "print()\n",
    "\n",
    "# Get the indices of trees on block 313879, a private block.\n",
    "private_block_indices = np.where(tree_census[:, 1] == 313879)\n",
    "print(\"private_block_indices\")\n",
    "print(private_block_indices)\n",
    "\n",
    "# Delete the rows for trees on block 313879.\n",
    "tree_census_clean = np.delete(tree_census_no_stumps, private_block_indices[0], axis=0)\n",
    "print(tree_census_clean.shape)"
   ]
  },
  {
   "cell_type": "markdown",
   "id": "92aa4b4a-5a06-400d-afff-10468164fb47",
   "metadata": {},
   "source": [
    "## Array Mathematics!\n",
    "\n",
    "### Summarizing Data\n",
    "\n",
    "NumPy provides several methods for summarizing array data.\n",
    "- .sum()\n",
    "- .min()\n",
    "- .max()\n",
    "- .mean()\n",
    "- .cumsum()\n",
    "\n",
    "From the documentation:\n",
    "\n",
    "An operation along axis n of array a behaves as if its argument were an\n",
    "array of slices of a where each slice has a successive index of axis n.\n",
    "\n",
    "So when axis is 0, the method returns a row of values. When the axis is 1, the method returns a column of values."
   ]
  },
  {
   "cell_type": "code",
   "execution_count": null,
   "id": "98add4cb-eee9-4c44-9a26-6ff947058f04",
   "metadata": {},
   "outputs": [],
   "source": [
    "# We have data for security breaches per year for three clients and five years.\n",
    "# The rows correspond to years and the columns to clients.\n",
    "# (We really need a pandas DataFrame here.)\n",
    "# When axis is 0, the function returns a row of values.\n",
    "# When axis is 1, the function returns a column of values.\n",
    "\n",
    "security_breaches = np.array([[0, 5, 1], [0, 2, 0], [1, 1, 2], [2, 2, 1], [0, 0, 0]])\n",
    "print(security_breaches)\n",
    "print()\n",
    "# sum()\n",
    "print(\"sums\")\n",
    "print(security_breaches.sum()) # all elements\n",
    "print(security_breaches.sum(axis=0)) # returns a row\n",
    "print(security_breaches.sum(axis=1)) # returns a column\n",
    "print()\n",
    "# cumsum() -- cumulative sum\n",
    "print(\"cumsum\")\n",
    "print(security_breaches.cumsum(axis=0)) # indexing by row\n",
    "print(security_breaches.cumsum(axis=1)) # indexing by column\n",
    "print()\n",
    "# min()\n",
    "print(\"minimums\")\n",
    "print(security_breaches.min()) # all elements\n",
    "print(security_breaches.min(axis=0)) # returns a row\n",
    "print(security_breaches.min(axis=1)) # returns a column\n",
    "print()\n",
    "# max()\n",
    "print(\"maximums\")\n",
    "print(security_breaches.max()) # all elements\n",
    "print(security_breaches.max(axis=0)) # returns a row\n",
    "print(security_breaches.max(axis=1)) # returns a column"
   ]
  },
  {
   "cell_type": "code",
   "execution_count": null,
   "id": "ed2d8dcc-b2e2-429a-9254-32e40a35834f",
   "metadata": {},
   "outputs": [],
   "source": [
    "# The keepdims argument keeps the dimensions of the output array to\n",
    "# make it easy to concatenate to the original array.\n",
    "print(security_breaches.sum(axis=1))"
   ]
  },
  {
   "cell_type": "code",
   "execution_count": null,
   "id": "07c7cb91-7029-4c03-be49-f0a30f57bb84",
   "metadata": {},
   "outputs": [],
   "source": [
    "# This creates a column vector.\n",
    "print(security_breaches.sum(axis=1, keepdims=True))"
   ]
  },
  {
   "cell_type": "code",
   "execution_count": null,
   "id": "12933809-41e5-49bb-a7c6-5339e3967414",
   "metadata": {},
   "outputs": [],
   "source": [
    "# Plotting something like the cumsum versus the average can\n",
    "# give insight into each client's experience.\n",
    "cum_sums_by_client = security_breaches.cumsum(axis=0)\n",
    "print(cum_sums_by_client)\n",
    "mean = cum_sums_by_client.mean(axis=1)\n",
    "print(mean)\n",
    "\n",
    "plt.plot(np.arange(1, 6), cum_sums_by_client[:, 0], label=\"Client 1\")\n",
    "plt.plot(np.arange(1, 6), cum_sums_by_client[:, 1], label=\"Client 2\")\n",
    "plt.plot(np.arange(1, 6), cum_sums_by_client[:, 2], label=\"Client 3\")\n",
    "plt.plot(np.arange(1, 6), cum_sums_by_client.mean(axis=1), label=\"Average\")\n",
    "plt.xticks(np.arange(1,6))\n",
    "plt.ylabel(\"Security breaches\")\n",
    "plt.xlabel(\"Year\")\n",
    "plt.title(\"Cumulative Security Breaches\")\n",
    "plt.legend()\n",
    "plt.show()"
   ]
  },
  {
   "cell_type": "markdown",
   "id": "d1c062f1-ada1-4026-9042-01b300ca0e82",
   "metadata": {},
   "source": [
    "#### Exercises"
   ]
  },
  {
   "cell_type": "code",
   "execution_count": null,
   "id": "0b2f7c33-9696-4a23-bed5-887e7478f655",
   "metadata": {},
   "outputs": [],
   "source": [
    "# Read monthly_sales_f from the data file.\n",
    "# This file is correct.\n",
    "monthly_sales_npy = np.load(\"monthly_sales.npy\")\n",
    "print(type(monthly_sales_npy))\n",
    "print(monthly_sales_npy)\n",
    "print(monthly_sales_npy.shape)\n",
    "print()\n",
    "\n",
    "# Given monthly sales (for 12 months) for different industries (3 industries),\n",
    "# calculate the total sales per month.\n",
    "# Column 1: liquor stores\n",
    "# Column 2: restaurants\n",
    "# Column 3: department stores\n",
    "monthly_sales = np.array(\n",
    "    [   [ 4134, 23925,  8657],\n",
    "        [ 4116, 23875,  9142],\n",
    "        [ 4673, 27197, 10645],\n",
    "        [ 4580, 25637, 10456],\n",
    "        [ 5109, 27995, 11299],\n",
    "        [ 5011, 27419, 10625],\n",
    "        [ 5245, 27305, 10630],\n",
    "        [ 5270, 27760, 11550],\n",
    "        [ 4680, 24988,  9762],\n",
    "        [ 4913, 25802, 10456],\n",
    "        [ 5312, 25405, 13401],\n",
    "        [ 6630, 27797, 18403]])\n",
    "print(monthly_sales)\n",
    "print(monthly_sales.shape)\n",
    "print()\n",
    "# Are the two arrays equivalent?\n",
    "print(np.array_equal(monthly_sales_npy, monthly_sales))\n",
    "print()\n",
    "monthly_industry_sales = monthly_sales.sum(axis=1, keepdims=True) # index by column\n",
    "print(monthly_industry_sales)"
   ]
  },
  {
   "cell_type": "code",
   "execution_count": null,
   "id": "ef583a68-b9f3-4169-8a74-5b0dcb32d95f",
   "metadata": {},
   "outputs": [],
   "source": [
    "monthly_sales_with_totals = np.concatenate((monthly_sales, monthly_industry_sales), axis=1)\n",
    "print(monthly_sales_with_totals)"
   ]
  },
  {
   "cell_type": "code",
   "execution_count": null,
   "id": "73ff6c9b-1a18-4a19-b95f-5d3c09919157",
   "metadata": {},
   "outputs": [],
   "source": [
    "# We want to know if sales increase more at the end of the year\n",
    "# for department stores.\n",
    "# Calculate \"average monthly sales\", which turns out to be by\n",
    "# month, not by industry.\n",
    "# I would want to center these values before plotting them.\n",
    "avg_monthly_sales = np.int64(monthly_sales.mean(axis=1)) # index by column\n",
    "print(\"average monthly sales\")\n",
    "print(avg_monthly_sales)\n",
    "\n",
    "# Plot the data. I worked on the plotting parameters to make the plot\n",
    "# easier to interpret and to move the legend where it didn't cover anything.\n",
    "# It appears that department store sales increae quite a bit compared\n",
    "# to the two other industries.\n",
    "plt.plot(np.arange(1, 13), monthly_sales[:, 0], label=\"Liquor stores\")\n",
    "plt.plot(np.arange(1, 13), monthly_sales[:, 1], label=\"Restaurants\")\n",
    "plt.plot(np.arange(1, 13), monthly_sales[:, 2], label=\"Department stores\")\n",
    "plt.plot(np.arange(1, 13), avg_monthly_sales, label=\"Average sales across industries\")\n",
    "plt.xticks(np.arange(1, 13))\n",
    "plt.yticks(np.arange(0, 50000, 5000))\n",
    "plt.xlabel(\"month\")\n",
    "plt.ylabel(\"sales\")\n",
    "plt.title(\"Industry Sales\")\n",
    "plt.legend()\n",
    "plt.show()"
   ]
  },
  {
   "cell_type": "code",
   "execution_count": null,
   "id": "0dbb269b-ad0c-4cba-8ddd-72977a19ae65",
   "metadata": {},
   "outputs": [],
   "source": [
    "# Plot cumulative monthly sales for each industry.\n",
    "# The plot will indicate where sales are greater or less than usual by looking\n",
    "# at the slope of the line.\n",
    "cumulative_monthly_industry_sales = monthly_sales.cumsum(axis=0) # index by row\n",
    "plt.plot(np.arange(1, 13), cumulative_monthly_industry_sales[:, 0], label=\"Liquor stores\")\n",
    "plt.plot(np.arange(1, 13), cumulative_monthly_industry_sales[:, 1], label=\"Restaurants\")\n",
    "plt.plot(np.arange(1, 13), cumulative_monthly_industry_sales[:, 2], label=\"Department stores\")\n",
    "plt.xticks(np.arange(1, 13))\n",
    "plt.xlabel(\"Month\")\n",
    "plt.ylabel(\"Cumulative sales\")\n",
    "plt.title(\"Cumulative Monthly Sales\")\n",
    "plt.legend()\n",
    "plt.show()"
   ]
  },
  {
   "cell_type": "markdown",
   "id": "8d267b7f-6599-41d4-894d-95c26292e4b7",
   "metadata": {},
   "source": [
    "### Vectorized Operations\n",
    "\n",
    "NumPy uses C libraries for speed and efficiency. Vectorized operations are written in C; they are vectorized on the Python level."
   ]
  },
  {
   "cell_type": "code",
   "execution_count": null,
   "id": "8a507f89-b1f6-4b4f-85a8-a298ab59bfa5",
   "metadata": {},
   "outputs": [],
   "source": [
    "# A vectorized operation.\n",
    "print(np.arange(1000000).sum())"
   ]
  },
  {
   "cell_type": "code",
   "execution_count": null,
   "id": "f569cebf-7c3e-4e51-a153-ca5b050993c6",
   "metadata": {},
   "outputs": [],
   "source": [
    "# Doing it the hard way, with a for loop.\n",
    "sum = 0\n",
    "for i in range(1000000):\n",
    "    sum += i\n",
    "print(sum)"
   ]
  },
  {
   "cell_type": "code",
   "execution_count": null,
   "id": "09cf0ca7-0a55-4b34-ae0e-6f4615a61274",
   "metadata": {},
   "outputs": [],
   "source": [
    "# Using vectorized operations increases execution speed, and it also reduces\n",
    "# the amount of code that needs to be written.\n",
    "# Add 3 to each element in an array using Python loops.\n",
    "array = np.array([[1, 2, 3], [4, 5, 6]])\n",
    "for row in range(array.shape[0]):\n",
    "    for column in range (array.shape[1]):\n",
    "        array[row][column] += 3\n",
    "print(array)\n"
   ]
  },
  {
   "cell_type": "code",
   "execution_count": null,
   "id": "f5768fb1-73dd-49fa-a204-d1a16aa60c03",
   "metadata": {},
   "outputs": [],
   "source": [
    "# Add 3 to each element in an array using NumPy vectorization.\n",
    "# 3 is referred to as a scalar.\n",
    "array2 = np.array([[1, 2, 3], [4, 5, 6]])\n",
    "array2 += 3\n",
    "print(array2)"
   ]
  },
  {
   "cell_type": "code",
   "execution_count": null,
   "id": "f0da3b89-42b5-4fe2-942d-43fda5917e6f",
   "metadata": {},
   "outputs": [],
   "source": [
    "# Vectorized multiplication, etc.\n",
    "print(array2 * 3)"
   ]
  },
  {
   "cell_type": "code",
   "execution_count": null,
   "id": "4bf00a84-7709-42ad-afcb-75fb4595bf34",
   "metadata": {},
   "outputs": [],
   "source": [
    "# We can add two arrays if they have the same shape.\n",
    "array_a = np.array([[1, 2, 3], [4, 5, 6]])\n",
    "array_b = np.array([[0, 1, 0], [1, 0, 1]])\n",
    "print(array_a + array_b)"
   ]
  },
  {
   "cell_type": "code",
   "execution_count": null,
   "id": "3a3e7a0b-7fd0-4706-bdb3-e18d2a804ccb",
   "metadata": {},
   "outputs": [],
   "source": [
    "# Vector operations are used for other purposes, such as creating\n",
    "# boolean masks.\n",
    "print(array_a > 2)"
   ]
  },
  {
   "cell_type": "code",
   "execution_count": null,
   "id": "90c53400-982d-42c4-94a0-28b994446f25",
   "metadata": {},
   "outputs": [],
   "source": [
    "# We can vectorize Python code.\n",
    "# This code gets the length of the entire array, whereas we want\n",
    "# the length of each element.\n",
    "array = np.array([\"NumPy\", \"is\", \"awesome\"])\n",
    "print(len(array) > 2)\n",
    "vectorized_len = np.vectorize(len)\n",
    "print(vectorized_len(array) > 2)"
   ]
  },
  {
   "cell_type": "markdown",
   "id": "e0bf0710-3f84-4488-81d4-f52cbecec534",
   "metadata": {},
   "source": [
    "#### Exercises"
   ]
  },
  {
   "cell_type": "code",
   "execution_count": null,
   "id": "e75f57c8-d96b-467f-98a6-33c20e54ef40",
   "metadata": {},
   "outputs": [],
   "source": [
    "# Compute sales tax at 5% for monthly sales from above.\n",
    "tax_collected = monthly_sales * 0.05\n",
    "print(tax_collected)"
   ]
  },
  {
   "cell_type": "code",
   "execution_count": null,
   "id": "bfd50a0b-69c6-46c7-b3da-0d945d8f1f94",
   "metadata": {},
   "outputs": [],
   "source": [
    "# Combine monthly sales with sales taxes.\n",
    "total_tax_and_revenue = monthly_sales + tax_collected\n",
    "print(total_tax_and_revenue)"
   ]
  },
  {
   "cell_type": "markdown",
   "id": "29e6c972-2760-45a8-99bc-896058d1f1f4",
   "metadata": {},
   "source": [
    "Extra credit. Multiplying two arrays (which must be of the same size) uses the `*` operator and produces the Hadamard product; see https://en.wikipedia.org/wiki/Hadamard_product_(matrices).\n",
    "\n",
    "Normal matrix multiplication uses the `@` operator, a binary operator (an operator having two operands) that was introduced in Python 3.5. NumPy provides the numpy.matmul function for standard matrix multiplication."
   ]
  },
  {
   "cell_type": "code",
   "execution_count": null,
   "id": "37e6a62e-4dfb-450b-84c2-fbf6cc159089",
   "metadata": {},
   "outputs": [],
   "source": [
    "# We have projections of next year's sales, month by month, for each of the \n",
    "# three industries, as a proportion of this year's sales; these are stored\n",
    "# in a 2-D array the same size as monthly_sales. Multiply these together to\n",
    "# project next year's sales in the currency amount.\n",
    "monthly_industry_multipliers = np.array(\n",
    "    [  [0.98, 1.02, 1.  ],\n",
    "       [1.00, 1.01, 0.97],\n",
    "       [1.06, 1.03, 0.98],\n",
    "       [1.08, 1.01, 0.98],\n",
    "       [1.08, 0.98, 0.98],\n",
    "       [1.1 , 0.99, 0.99],\n",
    "       [1.12, 1.01, 1.  ],\n",
    "       [1.1 , 1.02, 1.  ],\n",
    "       [1.11, 1.01, 1.01],\n",
    "       [1.08, 0.99, 0.97],\n",
    "       [1.09, 1.  , 1.02],\n",
    "       [1.13, 1.03, 1.02]])\n",
    "projected_monthly_sales = monthly_sales * monthly_industry_multipliers\n",
    "print(projected_monthly_sales)"
   ]
  },
  {
   "cell_type": "code",
   "execution_count": null,
   "id": "7e77f6f6-3969-4927-ae25-ef68cc460eec",
   "metadata": {},
   "outputs": [],
   "source": [
    "# Given monthly_sales and projected_monthly_sales, plot the values for liquor stores.\n",
    "months = np.arange(1, 13)\n",
    "plt.plot(months, monthly_sales[:, 0], label=\"Current sales\")\n",
    "plt.plot(months, projected_monthly_sales[:, 0], label=\"Projected sales\")\n",
    "plt.xticks(months)\n",
    "plt.xlabel(\"Month\")\n",
    "plt.ylabel(\"Monthly sales\")\n",
    "plt.legend()\n",
    "plt.title(\"Liquor Store Sales\")\n",
    "plt.show()"
   ]
  },
  {
   "cell_type": "code",
   "execution_count": null,
   "id": "4f9c8014-a0de-4b1b-b4e0-69cfce5634d8",
   "metadata": {},
   "outputs": [],
   "source": [
    "# Extra credit.\n",
    "# Create a plot for each industry.\n",
    "industries = \"Liquor Store\", \"Restaurant\", \"Department Store\"\n",
    "for index, industry in enumerate(industries):\n",
    "    plt.plot(months, monthly_sales[:, index], label=\"Current sales\")\n",
    "    plt.plot(months, projected_monthly_sales[:, index], label=\"Projected sales\")\n",
    "    plt.xticks(months)\n",
    "    plt.xlabel(\"Month\")\n",
    "    plt.ylabel(\"Monthly sales\")\n",
    "    plt.legend()\n",
    "    plt.title(industry + \" Sales\")\n",
    "    plt.show()"
   ]
  },
  {
   "cell_type": "code",
   "execution_count": null,
   "id": "794983c4-d08b-432e-99a4-5ed9975f1bca",
   "metadata": {},
   "outputs": [],
   "source": [
    "# Vectorize converting a 2-D array of names to upper case.\n",
    "names = np.array([[\"Izzy\", \"Monica\", \"Marvin\"],\n",
    "                  [\"Weber\", \"Patel\", \"Hernandez\"]])\n",
    "print(names)\n",
    "print()\n",
    "vectorized_upper = np.vectorize(str.upper)\n",
    "upper_names = vectorized_upper(names)\n",
    "print(upper_names)"
   ]
  },
  {
   "cell_type": "markdown",
   "id": "5de67ce5-8f91-4538-b758-ad70a6f77aed",
   "metadata": {},
   "source": [
    "### Broadcasting"
   ]
  },
  {
   "cell_type": "code",
   "execution_count": null,
   "id": "dc33420c-2921-440d-8b0b-092639367c59",
   "metadata": {},
   "outputs": [],
   "source": [
    "# The calculation of the addition of a scalar to a 2-D array uses\n",
    "# broadcasting of the scalar to an array of shape suitable for addition.\n",
    "# Broadcasting is efficient in terms of programming and computer time.\n",
    "a1 = np.array([[5, 6, 13], [6, 10, 12], [11, 8, 1]])\n",
    "print(a1 + 2)\n",
    "print()\n",
    "# Effectively, this is like computing:\n",
    "a2 = np.array([[2, 2, 2], [2, 2, 2], [2, 2, 2]])\n",
    "print(a1 + a2)"
   ]
  },
  {
   "cell_type": "code",
   "execution_count": null,
   "id": "d5641cd9-8539-44db-a76b-780c71a02833",
   "metadata": {},
   "outputs": [],
   "source": [
    "# For compatibility for broadcasting, NumPy compares sets of array dimensions\n",
    "# from right to left.\n",
    "# shape(10, 5)\n",
    "# shape(10, 1)\n",
    "# Dimensions are compatible if one of the directions is 1 or if the dimensions\n",
    "# have the same size. All dimension sets must be compatible.\n",
    "# Looking at the two shapes above, right to left, the second dimensions are\n",
    "# 5 and 1, so they are compatible since one dimension is 1. The first dimensions\n",
    "# are 10 and 10, so they are compatible since they have the same length.\n",
    "# Two arrays need not have the same number of dimensions to be broadcastable.\n",
    "# Broadcastable or not?\n",
    "# (10, 5) and (10, 1) are broadcastable.\n",
    "# (10, 5) and (5,) are broadcastable.\n",
    "# (10, 5) and (5, 10) are not broadcastable.\n",
    "# (10, 5) and (10,) are not broadcastable.\n",
    "# NumPy's default assumption is to broadcasting row-wise.\n",
    "# This can be overridden by shaping the arrays for column-wise broadcasting.\n",
    "# The lesson here seems to be to shape the arrays appropriately.\n",
    "# Broadcastable rows:\n",
    "a4 = np.arange(10).reshape((2, 5))\n",
    "print(a4)\n",
    "a5 = np.array([0, 1, 2, 3, 4])\n",
    "print(a5)\n",
    "print(\"a4 + a5:\")\n",
    "print(a4 + a5)"
   ]
  },
  {
   "cell_type": "code",
   "execution_count": null,
   "id": "d30c8b2c-f1d8-4672-83c7-98f5de553abf",
   "metadata": {},
   "outputs": [],
   "source": [
    "# Experimentation\n",
    "print(\"row-wise broadcasting:\")\n",
    "print(a1)\n",
    "print(a1.shape)\n",
    "print()\n",
    "a3 = np.array([4, 5, 3])\n",
    "print(a3)\n",
    "print(a3.shape)\n",
    "print()\n",
    "print(a1 + a3)\n",
    "print()"
   ]
  },
  {
   "cell_type": "code",
   "execution_count": null,
   "id": "ffe1d163-4e38-41fb-8a18-0c8f242809ab",
   "metadata": {},
   "outputs": [],
   "source": [
    "# This fails.\n",
    "print(a4)\n",
    "print(a4.shape)\n",
    "print()\n",
    "a5 = np.array([0, 1])\n",
    "print(a5)\n",
    "print(a5.shape)\n",
    "print()\n",
    "try:\n",
    "    print(a4 + a5)\n",
    "except ValueError as ex:\n",
    "    print(\"Exception caught:\", ex)\n",
    "print()\n",
    "\n",
    "# To get this to work, must reshape a5 to make the dimensions compatible.\n",
    "# This allows column-wise broadcasting.\n",
    "a5 = a5.reshape(2, 1)\n",
    "print(a5)\n",
    "print(a5.shape)\n",
    "print()\n",
    "print(a4 + a5)"
   ]
  },
  {
   "cell_type": "code",
   "execution_count": null,
   "id": "15c0f9a7-f929-4532-894b-3b322b2e3e5c",
   "metadata": {},
   "outputs": [],
   "source": [
    "# Row-wise broadcasting.\n",
    "a6 = np.array([[1, 2], [3, 4]])\n",
    "a7 = np.array([5, 10])\n",
    "print(a6 * a7)\n",
    "\n",
    "# Row-wise again. This is (2, 2) x (1, 2), so row-wise broacasting.\n",
    "a8 = a7.reshape((1, 2))\n",
    "print(a6 * a8)\n",
    "\n",
    "# Column-wise broadcasting.\n",
    "# This is (2, 2) x (2, 1), so column broadcasting.\n",
    "a9 = a7.reshape((2, 1)) # Two rows, one column\n",
    "print(a6 * a9)"
   ]
  },
  {
   "cell_type": "code",
   "execution_count": null,
   "id": "016fa011-f38e-4e71-8d95-925f51d8652d",
   "metadata": {},
   "outputs": [],
   "source": [
    "# More experimentation.\n",
    "print(\"column-wise broadcasting:\")\n",
    "print(a1)\n",
    "print(a1.shape)\n",
    "print()\n",
    "a3 = np.array([[4], [5], [3]]) # a column vector\n",
    "print(a3)\n",
    "print(a3.shape)\n",
    "print()\n",
    "print(a1 + a3)"
   ]
  },
  {
   "cell_type": "code",
   "execution_count": null,
   "id": "df1aa39f-adee-4b6a-9dd5-9e6af373c290",
   "metadata": {},
   "outputs": [],
   "source": [
    "print(\"multiplication, column-wise broadcasting\")\n",
    "print(a1)\n",
    "print(a1.shape)\n",
    "print()\n",
    "print(a3)\n",
    "print(a3.shape)\n",
    "print()\n",
    "print(a1 * a3)"
   ]
  },
  {
   "cell_type": "markdown",
   "id": "52b5a6f4-ae80-470f-a2cc-a5a4c733bc66",
   "metadata": {},
   "source": [
    "#### Exercises"
   ]
  },
  {
   "cell_type": "code",
   "execution_count": null,
   "id": "54f33456-ba4e-4e1d-9911-4a5380b08001",
   "metadata": {},
   "outputs": [],
   "source": [
    "# broadcastable:\n",
    "# (3, 4) and (3, 1) -- column-wise\n",
    "# (3, 4) and (1, 4) -- row-wise\n",
    "# (3, 4) and (4,)   -- row-wise\n",
    "# not broadcastable:\n",
    "# (3, 4) and (1, 2)\n",
    "# (3, 4) and (4, 1)\n",
    "# (3, 4) and (3,)\n",
    "#\n",
    "# It's best to use 2-D arrays when doing array arithmetic.\n",
    "# Turn an array of shape, say, (5,)\n",
    "# into (1, 5) (equivalent to a column vector)\n",
    "# or (5, 1) (equivalent to a row vector).\n",
    "# This removes any ambiguity about the operation."
   ]
  },
  {
   "cell_type": "code",
   "execution_count": null,
   "id": "d7062baf-191d-4c60-971e-9887452affd4",
   "metadata": {},
   "outputs": [],
   "source": [
    "# Broadcasting across columns.\n",
    "# When broadcasting across columns, NumPy needs a 2-D array of n rows and 1 column.\n",
    "# NumPy will broadcast this array column-wise.\n",
    "# Initialize a list of monthly year-over-year expected growth for the economy.\n",
    "# Create a new array by multiplying monthly_sales by these values \n",
    "monthly_growth_rate = [1.01, 1.03, 1.03, 1.02, 1.05, 1.03, 1.06, 1.04, 1.03, 1.04, 1.02, 1.01]\n",
    "monthly_growth_1D = np.array(monthly_growth_rate)\n",
    "monthly_growth_2D = monthly_growth_1D.reshape((12, 1))\n",
    "print(monthly_sales * monthly_growth_2D)"
   ]
  },
  {
   "cell_type": "code",
   "execution_count": null,
   "id": "21e68880-1183-4924-80cf-95d2840d8bac",
   "metadata": {},
   "outputs": [],
   "source": [
    "# Broadcasting across rows.\n",
    "# We used monthly_industry_multipliers above. But now we think we can't make\n",
    "# monthly predictions of growth rates, and we'd rather create an average\n",
    "# multiplier for the entire year and use that to project sales in the\n",
    "# next year.\n",
    "\n",
    "# Find the mean sales multiplier for each industry. We are indexing the rows,\n",
    "# so the axis is 0.\n",
    "mean_multipliers = monthly_industry_multipliers.mean(axis=0)\n",
    "print(mean_multipliers)\n",
    "print()\n",
    "\n",
    "# Examine the shapes of the arrays to determine whether they are compatible\n",
    "# for broadcasting. (They are.)\n",
    "print(monthly_sales.shape)\n",
    "print(mean_multipliers.shape)\n",
    "print()\n",
    "\n",
    "# Multiply the two arrays to get projected sales for next year.\n",
    "projected_sales = monthly_sales * mean_multipliers\n",
    "print(projected_sales)\n",
    "print()\n",
    "\n",
    "# Reshape mean_multipliers to (1, 3) and multiply.\n",
    "# The results are the same.\n",
    "print(monthly_sales * mean_multipliers.reshape(1, 3))"
   ]
  },
  {
   "cell_type": "markdown",
   "id": "62f459c5-7114-4aa6-b3a6-998c877ab4a0",
   "metadata": {},
   "source": [
    "## Array Transformations\n",
    "\n",
    "### Saving and Loading Arrays"
   ]
  },
  {
   "cell_type": "code",
   "execution_count": null,
   "id": "fcac6fe9-d276-4448-97ab-e064735a47a8",
   "metadata": {},
   "outputs": [],
   "source": [
    "# Create and display a small image array.\n",
    "# I modified the lesson to create an array with shape (4, 5, 3) to\n",
    "# remove ambiguity about the number of elements on eadh axis.\n",
    "rgb = np.array([[[255,   0,   0], [255, 255,   0], [255, 255, 255], [255,   0,   0], [255, 255,   0]],\n",
    "                [[255,   0, 255], [  0, 255,   0], [  0, 255, 255], [255,   0, 255], [  0, 255,   0]],\n",
    "                [[  0,   0,   0], [  0, 255, 255], [  0,   0, 255], [  0,   0,   0], [  0, 255, 255]],\n",
    "                [[255,   0, 255], [  0, 255,   0], [  0, 255, 255], [255,   0, 255], [  0, 255,   0]]])\n",
    "print(\"image array:\")\n",
    "print(rgb.shape)\n",
    "plt.imshow(rgb)\n",
    "plt.show()"
   ]
  },
  {
   "cell_type": "code",
   "execution_count": null,
   "id": "3201d7b9-107e-456e-86f5-bf0501da5a14",
   "metadata": {},
   "outputs": [],
   "source": [
    "# Load a NumPy file containing image data. The tutorial opens logo.npy,\n",
    "# but this was not provided. Here, I load rgb_array.npy.\n",
    "# The image is a painting called \"Cliff Walk at Pourville\", by Monet.\n",
    "with open(\"rgb_array.npy\", \"rb\") as file:\n",
    "    monet = np.load(file)\n",
    "print(monet.shape)\n",
    "plt.imshow(monet)\n",
    "plt.show()"
   ]
  },
  {
   "cell_type": "code",
   "execution_count": null,
   "id": "2acb7359-d697-450b-b9bb-3d3613a63ad9",
   "metadata": {},
   "outputs": [],
   "source": [
    "# Extra credit.\n",
    "# To replicate the tutorial, I needed to obtain the NumPy logo and convert it to\n",
    "# an array. The logo used in the course was available at:\n",
    "# https://github.com/numpy/numpy/blob/main/branding/logo/secondary/numpylogo2.png.\n",
    "# See the parent directories for other NumPy logo files.\n",
    "# I saved numpylogo2.png to the working directory for this notebook.\n",
    "# To create a NumPy array from the data, I followed this tutorial:\n",
    "# https://thecleverprogrammer.com/2021/06/08/convert-image-to-array-using-python/\n",
    "# The file contains data for red, green, blue, and alpha. The image has a size\n",
    "# of 1001 x 1001 pixels.\n",
    "numpy_logo = PIL.Image.open(\"numpyLogo2.png\")\n",
    "print(type(numpy_logo))\n",
    "# matplotlib can show this PIL.PngImagePlugin.PngImageFile object directly.\n",
    "plt.imshow(numpy_logo)\n",
    "plt.show()\n",
    "# Convert the object to a NumPy array and show it.\n",
    "logo_rgb_array = np.asarray(numpy_logo)\n",
    "print(logo_rgb_array.shape)\n",
    "plt.imshow(logo_rgb_array)\n",
    "plt.show()"
   ]
  },
  {
   "cell_type": "code",
   "execution_count": null,
   "id": "676ee6be-da1a-4cc3-affb-2b47b17f26ff",
   "metadata": {},
   "outputs": [],
   "source": [
    "# Pull out the red, green, blue, and alpha data by slicing on the third axis.\n",
    "# Show the first row of each subarray.\n",
    "logo_red_array = logo_rgb_array[:, :, 0]\n",
    "logo_green_array = logo_rgb_array[:, :, 1]\n",
    "logo_blue_array = logo_rgb_array[:, :, 2]\n",
    "logo_alpha_array = logo_rgb_array[:, :, 3]\n",
    "print(logo_red_array.shape)\n",
    "print(logo_alpha_array.shape)\n",
    "print(logo_red_array[0], logo_green_array[0], logo_blue_array[0], logo_alpha_array[0], sep=\"\\n\")"
   ]
  },
  {
   "cell_type": "code",
   "execution_count": null,
   "id": "a383fa1a-d33f-47c8-afc3-3c6e473350ef",
   "metadata": {},
   "outputs": [],
   "source": [
    "# Change the bright elements to dark elements by changing values\n",
    "# from 255 to 50. This didn't work (because of the alpha channel).\n",
    "dark_logo_array = np.where(logo_rgb_array == 255, 50, logo_rgb_array)\n",
    "print(dark_logo_array[0, :, 0])\n",
    "plt.imshow(dark_logo_array)\n",
    "plt.show()"
   ]
  },
  {
   "cell_type": "code",
   "execution_count": null,
   "id": "fc4bfc4f-3767-4257-a7fb-05cf1971bb53",
   "metadata": {},
   "outputs": [],
   "source": [
    "# Extra credit.\n",
    "# Remove the alpha channel.\n",
    "logo_rgb_array3 = np.delete(logo_rgb_array, 3, axis=2)\n",
    "print(\"original (no alpha):\")\n",
    "print(logo_rgb_array3.shape)\n",
    "print(logo_rgb_array3[0, :, 0])"
   ]
  },
  {
   "cell_type": "code",
   "execution_count": null,
   "id": "f86c3bd2-5ee7-4699-85dc-22a06a9a77cf",
   "metadata": {},
   "outputs": [],
   "source": [
    "# Replace values to darken the image.\n",
    "dark_logo_array = np.where(logo_rgb_array3 == 255, 50, logo_rgb_array3)\n",
    "print(\"dark:\")\n",
    "print(dark_logo_array.shape)\n",
    "print(dark_logo_array[0, :, 0])\n",
    "plt.imshow(dark_logo_array)\n",
    "plt.show()"
   ]
  },
  {
   "cell_type": "code",
   "execution_count": null,
   "id": "01acaf28-7d42-4db9-a859-1121f52fb830",
   "metadata": {},
   "outputs": [],
   "source": [
    "# Save the array as a NumPy file.\n",
    "with open(\"dark_logo.npy\", \"wb\") as file:\n",
    "    np.save(file, dark_logo_array)"
   ]
  },
  {
   "cell_type": "code",
   "execution_count": null,
   "id": "10c14945-034a-4317-b6d5-007b19a8bba6",
   "metadata": {},
   "outputs": [],
   "source": [
    "# Getting help on NumPy, including help for a class method.\n",
    "# help(np.unique)\n",
    "# help(np.load)\n",
    "# help(np.ndarray.flatten)"
   ]
  },
  {
   "cell_type": "markdown",
   "id": "e9857378-03f3-40f4-b2ea-07e8a9ae4e06",
   "metadata": {},
   "source": [
    "#### Exercises"
   ]
  },
  {
   "cell_type": "code",
   "execution_count": null,
   "id": "3718345e-3702-4c1c-9d83-46e0ac61776c",
   "metadata": {},
   "outputs": [],
   "source": [
    "# Reload the image from \"rgb_array.npy\".\n",
    "# This file was named \"mystery_image.npy\" in the tutorial.\n",
    "with open(\"rgb_array.npy\", \"rb\") as f:\n",
    "    monet = np.load(f)\n",
    "plt.imshow(monet)\n",
    "plt.show()"
   ]
  },
  {
   "cell_type": "code",
   "execution_count": null,
   "id": "ca90b548-083a-42f6-9062-159346651e58",
   "metadata": {},
   "outputs": [],
   "source": [
    "# Practice getting help.\n",
    "# help(np.ndarray.astype)"
   ]
  },
  {
   "cell_type": "code",
   "execution_count": null,
   "id": "837979cf-7ea7-479f-821f-a5e60d1a6088",
   "metadata": {},
   "outputs": [],
   "source": [
    "# View the type of the array.\n",
    "# This is a good type for an image array.\n",
    "print(monet.dtype)"
   ]
  },
  {
   "cell_type": "code",
   "execution_count": null,
   "id": "13475496-ed2c-42fb-be40-bd040c577b8b",
   "metadata": {},
   "outputs": [],
   "source": [
    "# Darken the image by multiplying each value in the array by 0.5.\n",
    "# Create an array that uses np.uint8 for the data.\n",
    "darker_monet = monet * 0.5\n",
    "darker_monet_uint8 = darker_monet.astype(np.uint8)\n",
    "plt.imshow(darker_monet_uint8)\n",
    "plt.show()"
   ]
  },
  {
   "cell_type": "code",
   "execution_count": null,
   "id": "80dcb887-8b84-489d-a446-7fea01b03042",
   "metadata": {},
   "outputs": [],
   "source": [
    "# Save the darker image.\n",
    "with open(\"darker_monet.npy\", \"wb\") as f:\n",
    "    np.save(f, darker_monet_uint8)"
   ]
  },
  {
   "cell_type": "markdown",
   "id": "06ad366b-98c5-4e72-a97d-8f4279a67144",
   "metadata": {},
   "source": [
    "### Array Acrobatics\n",
    "\n",
    "Data augmentation is a process of taking existing data and making small changes to it to include the modified data when training a model. The example is training a model to recognize images of recyclable items. Take the image of a plastic bottle and invert it to include the inverted image in the training set.\n",
    "\n",
    "`np.flip` reverses the order of array elements."
   ]
  },
  {
   "cell_type": "code",
   "execution_count": null,
   "id": "b74ff977-6afe-4e44-a516-28581c5b7471",
   "metadata": {},
   "outputs": [],
   "source": [
    "# Flip the image. This reverses the columns and the rows,\n",
    "# causing the image to rotate 180 degrees.\n",
    "# Red is flipped with blue, but green stays the same.\n",
    "flipped_logo = np.flip(logo_rgb_array3)\n",
    "plt.imshow(flipped_logo)\n",
    "plt.show()"
   ]
  },
  {
   "cell_type": "code",
   "execution_count": null,
   "id": "c038fd06-f360-4241-9797-f5c3a83c175d",
   "metadata": {},
   "outputs": [],
   "source": [
    "# Flip the image on axis 0. This reverses the rows, turning the image\n",
    "# upside down. This is a mirror image with horizontal reflection.\n",
    "flipped_rows_logo = np.flip(logo_rgb_array3, axis=0)\n",
    "plt.imshow(flipped_rows_logo)\n",
    "plt.show()"
   ]
  },
  {
   "cell_type": "code",
   "execution_count": null,
   "id": "4f4eb912-42d2-45d8-8d8d-a148a7f78547",
   "metadata": {},
   "outputs": [],
   "source": [
    "# Extra credit.\n",
    "# Flip the image on axis 1. This reverses the columns,\n",
    "# creating a mirror image with vertical reflection.\n",
    "flipped_columns_logo = np.flip(logo_rgb_array3, axis=1)\n",
    "plt.imshow(flipped_columns_logo)\n",
    "plt.show()"
   ]
  },
  {
   "cell_type": "code",
   "execution_count": null,
   "id": "5cef9be0-ea4e-456e-9e34-ca3d75840640",
   "metadata": {},
   "outputs": [],
   "source": [
    "# Flip red and blue in the RGB colors by flipping the image on axis 2.\n",
    "flipped_colors_logo = np.flip(logo_rgb_array3, axis=2)\n",
    "plt.imshow(flipped_colors_logo)\n",
    "plt.show()"
   ]
  },
  {
   "cell_type": "code",
   "execution_count": null,
   "id": "868883d7-5617-4513-b664-682e03563f67",
   "metadata": {},
   "outputs": [],
   "source": [
    "# Flip the image by axis 0 and axis 1, reversing both the rows and columns,\n",
    "# rotating the image 180 degrees.\n",
    "flipped_except_colors_logo = np.flip(logo_rgb_array3, axis=(0, 1))\n",
    "plt.imshow(flipped_except_colors_logo)\n",
    "plt.show()"
   ]
  },
  {
   "cell_type": "code",
   "execution_count": null,
   "id": "08ef89cc-50d9-4a7b-bd5d-419d5cbbfbd4",
   "metadata": {},
   "outputs": [],
   "source": [
    "# Compare flipping and transposing an array.\n",
    "# The floats indicate the original row and column.\n",
    "# When transposing, columns become rows and rows become columns.\n",
    "array = np.array([[1.1, 1.2, 1.3], [2.1, 2.2, 2.3], [3.1, 3.2, 3.3], [4.1, 4.2, 4.3]])\n",
    "print(\"original:\")\n",
    "print(array)\n",
    "print(\"flipped:\")\n",
    "print(np.flip(array))\n",
    "print(\"transposed:\")\n",
    "print(np.transpose(array))"
   ]
  },
  {
   "cell_type": "code",
   "execution_count": null,
   "id": "6f47978a-19d9-4893-9530-3de2ac03670b",
   "metadata": {},
   "outputs": [],
   "source": [
    "# Setting transposed axis order.\n",
    "# Transpose axes 0 and 1.\n",
    "# Note the use of \"axes\" instead of \"axis\" here.\n",
    "# This rotates the image counter-clockwise 90 degrees and creates a\n",
    "# left-right mirror image.\n",
    "print(\"original:\")\n",
    "plt.imshow(logo_rgb_array3)\n",
    "plt.show()\n",
    "print(\"transposed:\")\n",
    "transposed_logo = np.transpose(logo_rgb_array3, axes=(1, 0, 2))\n",
    "plt.imshow(transposed_logo)\n",
    "plt.show()"
   ]
  },
  {
   "cell_type": "markdown",
   "id": "a619ae3c-b30b-4732-bbf5-4d9e86a21b41",
   "metadata": {},
   "source": [
    "#### Exercises"
   ]
  },
  {
   "cell_type": "code",
   "execution_count": null,
   "id": "31caf41b-558b-4dd5-9939-2a5149c6c0e1",
   "metadata": {},
   "outputs": [],
   "source": [
    "# Flip the Monet image so that it is the mirror image of the original, with \n",
    "# the ocean on the right and the grassy knoll on the left. This requires\n",
    "# reversing the columns, axis 1.\n",
    "monet_mirror = np.flip(monet, axis=1)\n",
    "plt.imshow(monet_mirror)\n",
    "plt.show()"
   ]
  },
  {
   "cell_type": "code",
   "execution_count": null,
   "id": "ec0ee62e-cd56-4a03-b2f4-6cb452361414",
   "metadata": {},
   "outputs": [],
   "source": [
    "# Flip rgb_array so that it is upside down but otherwise remains the\n",
    "# same. This requires flipping on both axis 0 and axis 1.\n",
    "monet_upside_down = np.flip(monet, axis=(0, 1))\n",
    "plt.imshow(monet_upside_down)\n",
    "plt.show()"
   ]
  },
  {
   "cell_type": "code",
   "execution_count": null,
   "id": "8a8c3981-240e-4aa8-a5aa-a43ea99acbae",
   "metadata": {},
   "outputs": [],
   "source": [
    "# Transpose the 3-D array so that the image is rotated 90 degrees \n",
    "# counter-clockwise and a left-right mirror image is produced.\n",
    "monet_t = np.transpose(monet, axes=(1, 0, 2))\n",
    "plt.imshow(monet_t)\n",
    "plt.show()"
   ]
  },
  {
   "cell_type": "markdown",
   "id": "6b815ab4-22e1-46a7-a781-364a16761a24",
   "metadata": {},
   "source": [
    "### Splitting and Stacking\n",
    "\n",
    "\"A key part of reshaping is adding and removing dimensions while keeping the underlying data intact.\""
   ]
  },
  {
   "cell_type": "code",
   "execution_count": null,
   "id": "48568458-944c-407c-88ec-4d5fd815f9ba",
   "metadata": {},
   "outputs": [],
   "source": [
    "# Slicing dimensions.\n",
    "# We can slice the image array to extract the red, green, and blue data separately.\n",
    "# I modified the lesson to create an array with shape (4, 5, 3) to\n",
    "# remove ambiguity about the number of elements on eadh axis.\n",
    "# Reuse rgb created above.\n",
    "print(rgb.shape)\n",
    "plt.imshow(rgb)\n",
    "plt.show()\n",
    "\n",
    "rgb_red_array = rgb[:, :, 0]\n",
    "rgb_green_array = rgb[:, :, 1]\n",
    "rgb_blue_array = rgb[:, :, 2]\n",
    "print(\"red array:\")\n",
    "print(rgb_red_array)\n",
    "print(rgb_red_array.shape)\n",
    "print()\n",
    "print(\"green array:\")\n",
    "print(rgb_green_array)\n",
    "print(rgb_green_array.shape)\n",
    "print()\n",
    "print(\"blue array:\")\n",
    "print(rgb_blue_array)\n",
    "print(rgb_blue_array.shape)"
   ]
  },
  {
   "cell_type": "code",
   "execution_count": null,
   "id": "dbe12df9-7430-4577-b177-2cae6206f3fa",
   "metadata": {},
   "outputs": [],
   "source": [
    "# We can unpack arrays using np.split, which takes three arguments:\n",
    "# the array to split, the number of equally sized arrays in the result,\n",
    "# and the axis for splitting.\n",
    "# The resultant arrays have the same number of dimensions as the original\n",
    "# array (here, three).\n",
    "red_array2, green_array2, blue_array2 = np.split(rgb, 3, axis=2)\n",
    "print(\"red_array2:\")\n",
    "print(red_array2.shape)"
   ]
  },
  {
   "cell_type": "code",
   "execution_count": null,
   "id": "cfe977b8-fad9-4f10-8d74-53b650c258c7",
   "metadata": {},
   "outputs": [],
   "source": [
    "# Behavior of plt.imshow. See https://matplotlib.org/stable/api/_as_gen/matplotlib.pyplot.imshow.html.\n",
    "# matplotlib happily plots 2-D array data as an image.\n",
    "# This uses a default color map (cmap) named \"viridis\", which is designed to\n",
    "# be visible to persons with red-green color blindness.\n",
    "# Values for display are either 0 or 255.\n",
    "print(\"original:\")\n",
    "plt.imshow(rgb)\n",
    "plt.show()\n",
    "print(\"red levels:\")\n",
    "print(red_array2.shape)\n",
    "plt.imshow(red_array2)\n",
    "plt.show()\n",
    "print(\"green levels:\")\n",
    "print(green_array2.shape)\n",
    "plt.imshow(green_array2)\n",
    "plt.show()\n",
    "print(\"blue levels:\")\n",
    "print(blue_array2.shape)\n",
    "plt.imshow(blue_array2)\n",
    "plt.show()"
   ]
  },
  {
   "cell_type": "code",
   "execution_count": null,
   "id": "0ce6630b-477c-4f56-b7c2-e1c3a407fcbd",
   "metadata": {},
   "outputs": [],
   "source": [
    "# Reshape red_array2 to remove the unneeded dimension.\n",
    "red_array3 = np.reshape(red_array2, (4, 5))\n",
    "print(red_array3)\n",
    "print(red_array3.shape)"
   ]
  },
  {
   "cell_type": "markdown",
   "id": "42a21270-b348-4947-8b8e-1c9de03c7c1d",
   "metadata": {},
   "source": [
    "`np.concatenate` will not concatenate data in a new dimension. To do this, we\n",
    "must use `np.stack`.\n",
    "\n",
    "\"It's easier to work with arrays with fewer dimensions, especially when we \n",
    "need to apply a transformation to only part of an array. Slice or split an \n",
    "array to unpack it, then use `np.stack` to put it back together once changes\n",
    "have been made.\""
   ]
  },
  {
   "cell_type": "code",
   "execution_count": null,
   "id": "ffb0fda6-0fcc-4360-a5b3-19a18e7a7f2e",
   "metadata": {},
   "outputs": [],
   "source": [
    "# For reference, display the logo.\n",
    "plt.imshow(logo_rgb_array)\n",
    "plt.show()"
   ]
  },
  {
   "cell_type": "code",
   "execution_count": null,
   "id": "f30cf433-f2e1-4633-b407-85237ebda3d5",
   "metadata": {},
   "outputs": [],
   "source": [
    "# Let's replace the red array values with zeros and rebuild the RGB\n",
    "# array of the NumPy logo using np.stack.\n",
    "zero_color_array = np.zeros((1001, 1001), dtype=np.uint8)\n",
    "logo_red_array2 = zero_color_array\n",
    "logo_green_array2 = np.reshape(logo_green_array, (1001, 1001))\n",
    "logo_blue_array2 = np.reshape(logo_blue_array, (1001, 1001))\n",
    "\n",
    "# Stack the arrays, specifying the axis for stacking.\n",
    "# Display the image. With red removed from white, we see a mix of\n",
    "# green and blue in the background of the image.\n",
    "stacked_logo = np.stack([logo_red_array2, logo_green_array2, logo_blue_array2], axis=2)\n",
    "print(stacked_logo.shape)\n",
    "plt.imshow(stacked_logo)\n",
    "plt.show()"
   ]
  },
  {
   "cell_type": "code",
   "execution_count": null,
   "id": "7ac6c0e0-91c2-4b8b-a79c-e26f86078590",
   "metadata": {},
   "outputs": [],
   "source": [
    "# Extra credit.\n",
    "# Show red only, green only, and blue only.\n",
    "print(\"red only:\")\n",
    "red_only = np.stack([logo_red_array, zero_color_array, zero_color_array], axis=2)\n",
    "print(red_only.shape)\n",
    "plt.imshow(red_only)\n",
    "plt.show()\n",
    "print(\"green only:\")\n",
    "green_only = np.stack([zero_color_array, logo_green_array, zero_color_array], axis=2)\n",
    "print(green_only.shape)\n",
    "plt.imshow(green_only)\n",
    "plt.show()\n",
    "print(\"blue only:\")\n",
    "blue_only = np.stack([zero_color_array, zero_color_array, logo_blue_array], axis=2)\n",
    "print(blue_only.shape)\n",
    "plt.imshow(blue_only)\n",
    "plt.show()"
   ]
  },
  {
   "cell_type": "markdown",
   "id": "3103c9e8-6bcb-4788-913c-4000354ba736",
   "metadata": {},
   "source": [
    "#### Exercises"
   ]
  },
  {
   "cell_type": "code",
   "execution_count": null,
   "id": "f17f4972-9c79-4ab4-8398-0cd86913b998",
   "metadata": {},
   "outputs": [],
   "source": [
    "# Return to the monthly_sales data.\n",
    "# The first dimension of monthly_sales (rows) is the month.\n",
    "# The second dimension of monthly_sales (columns) is the industry. \n",
    "# Split the data into fourths, where each fourth contains data\n",
    "# for a quarter of a year.\n",
    "\n",
    "# For review, look at monthly_sales.\n",
    "print(\"monthly sales for year\")\n",
    "print(monthly_sales.shape)\n",
    "print(monthly_sales)\n",
    "print()\n",
    "# Split the data along the row axis.\n",
    "q1_sales, q2_sales, q3_sales, q4_sales = np.split(monthly_sales, 4, axis=0)\n",
    "print(\"monthly sales for Q1\")\n",
    "print(q1_sales.shape)\n",
    "print(q1_sales)"
   ]
  },
  {
   "cell_type": "code",
   "execution_count": null,
   "id": "71af9697-b6bd-4755-938d-59e69646b3f9",
   "metadata": {},
   "outputs": [],
   "source": [
    "# Create quarterly sales from the four 2-D arrays.\n",
    "quarterly_sales = np.stack([q1_sales, q2_sales, q3_sales, q4_sales], axis = 0)\n",
    "print(quarterly_sales.shape)\n",
    "print(quarterly_sales)"
   ]
  },
  {
   "cell_type": "code",
   "execution_count": null,
   "id": "19c29f45-75d4-4669-a57e-4f0a7568e4bf",
   "metadata": {},
   "outputs": [],
   "source": [
    "# Investigate Monet's use of the color blue by making the blues in the\n",
    "# painting even bluer!"
   ]
  },
  {
   "cell_type": "code",
   "execution_count": null,
   "id": "5c9413a0-1d23-459a-9082-257cc3702d88",
   "metadata": {},
   "outputs": [],
   "source": [
    "# Extra credit.\n",
    "# Show only the blues in Monet's painting.\n",
    "# This turns out not to be very helpful.\n",
    "rows, cols, colors = monet.shape\n",
    "monet_red, monet_green, monet_blue = np.split(monet, 3, axis=2)\n",
    "monet_red = np.reshape(monet_red, (rows, cols))\n",
    "monet_green = np.reshape(monet_green, (rows, cols))\n",
    "monet_blue = np.reshape(monet_blue, (rows, cols))\n",
    "monet_zeros = np.zeros((rows, cols), dtype=np.uint8)\n",
    "monet_blue_only = np.stack([monet_zeros, monet_zeros, monet_blue], axis=2)\n",
    "plt.imshow(monet_blue_only)\n",
    "plt.show()"
   ]
  },
  {
   "cell_type": "code",
   "execution_count": null,
   "id": "b3ff0421-c66d-4605-ba90-94bbcdc097ce",
   "metadata": {},
   "outputs": [],
   "source": [
    "# If a pixel contains more than the mean amount of blue, set the blue in the\n",
    "# pixel to 255.\n",
    "mean_blue = monet_blue.mean()\n",
    "print(\"mean blue: \", mean_blue)"
   ]
  },
  {
   "cell_type": "code",
   "execution_count": null,
   "id": "cb1c20c9-69d8-445a-85ab-46dd81eab838",
   "metadata": {},
   "outputs": [],
   "source": [
    "# Change the pixels, emphasizing the blue.\n",
    "emphasized_blue_array = np.where(monet_blue > mean_blue, 255, monet_blue)\n",
    "print(emphasized_blue_array.shape)"
   ]
  },
  {
   "cell_type": "code",
   "execution_count": null,
   "id": "33dc7844-cbdc-45aa-b593-bac31a8276a4",
   "metadata": {},
   "outputs": [],
   "source": [
    "# Display the original for reference.\n",
    "print(\"original:\")\n",
    "plt.imshow(monet)\n",
    "plt.show()\n",
    "# Combine the arrays to create an image with emphasized blue color.\n",
    "print(\"emphasized blue:\")\n",
    "emphasized_blue_monet = np.stack([monet_red, monet_green, emphasized_blue_array], axis=2)\n",
    "plt.imshow(emphasized_blue_monet)\n",
    "plt.show()"
   ]
  },
  {
   "cell_type": "code",
   "execution_count": null,
   "id": "aa45adad-92d8-4efc-b022-494a20955895",
   "metadata": {},
   "outputs": [],
   "source": [
    "# Extra credit. Let's see the difference.\n",
    "# The difference is mostly in the sky and ocean.\n",
    "monet_emphasized_blue = np.stack([monet_zeros, monet_zeros, emphasized_blue_array], axis=2)\n",
    "plt.imshow(monet_emphasized_blue)\n",
    "plt.show()"
   ]
  },
  {
   "cell_type": "code",
   "execution_count": null,
   "id": "03e78e87-5bbd-4f5d-9649-cd2eae5c4856",
   "metadata": {},
   "outputs": [],
   "source": [
    "# Extra credit.\n",
    "# Let's see only where the blue is greater than the mean.\n",
    "# This provides more contrast.\n",
    "emphasized_blue_only = np.where(monet_blue > mean_blue, 255, 0)\n",
    "monet_emphasized_blue_only = np.stack([monet_zeros, monet_zeros, emphasized_blue_only], axis=2)\n",
    "plt.imshow(monet_emphasized_blue_only)\n",
    "plt.show()"
   ]
  }
 ],
 "metadata": {
  "kernelspec": {
   "display_name": "Python 3 (ipykernel)",
   "language": "python",
   "name": "python3"
  },
  "language_info": {
   "codemirror_mode": {
    "name": "ipython",
    "version": 3
   },
   "file_extension": ".py",
   "mimetype": "text/x-python",
   "name": "python",
   "nbconvert_exporter": "python",
   "pygments_lexer": "ipython3",
   "version": "3.11.1"
  }
 },
 "nbformat": 4,
 "nbformat_minor": 5
}
